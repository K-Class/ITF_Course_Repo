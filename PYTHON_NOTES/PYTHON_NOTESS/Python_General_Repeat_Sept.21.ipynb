{
 "cells": [
  {
   "cell_type": "code",
   "execution_count": 1,
   "id": "87e6da36",
   "metadata": {},
   "outputs": [
    {
     "name": "stdout",
     "output_type": "stream",
     "text": [
      "Hello World\n"
     ]
    }
   ],
   "source": [
    "print(\"Hello World\")"
   ]
  },
  {
   "cell_type": "code",
   "execution_count": 2,
   "id": "d4f89a0b",
   "metadata": {},
   "outputs": [
    {
     "name": "stdout",
     "output_type": "stream",
     "text": [
      "Hello World!\n"
     ]
    }
   ],
   "source": [
    "print('Hello World!')"
   ]
  },
  {
   "cell_type": "code",
   "execution_count": 3,
   "id": "f4318f2e",
   "metadata": {},
   "outputs": [
    {
     "name": "stdout",
     "output_type": "stream",
     "text": [
      "Merhaba!\n"
     ]
    }
   ],
   "source": [
    "print(\"\"\"Merhaba!\"\"\")"
   ]
  },
  {
   "cell_type": "code",
   "execution_count": 4,
   "id": "a9f83b69",
   "metadata": {},
   "outputs": [
    {
     "name": "stdout",
     "output_type": "stream",
     "text": [
      "Merhaba!\n"
     ]
    }
   ],
   "source": [
    "print('''Merhaba!''')"
   ]
  },
  {
   "cell_type": "code",
   "execution_count": 5,
   "id": "c69cd667",
   "metadata": {},
   "outputs": [
    {
     "name": "stdout",
     "output_type": "stream",
     "text": [
      "3.14\n"
     ]
    }
   ],
   "source": [
    "print(\"3.14\")"
   ]
  },
  {
   "cell_type": "code",
   "execution_count": 6,
   "id": "d501c082",
   "metadata": {},
   "outputs": [
    {
     "name": "stdout",
     "output_type": "stream",
     "text": [
      "3.14\n"
     ]
    }
   ],
   "source": [
    "print(3.14)"
   ]
  },
  {
   "cell_type": "code",
   "execution_count": 9,
   "id": "0c803494",
   "metadata": {},
   "outputs": [
    {
     "name": "stdout",
     "output_type": "stream",
     "text": [
      "'Merhaba!\"\n"
     ]
    }
   ],
   "source": [
    "print(''''Merhaba!\"''')"
   ]
  },
  {
   "cell_type": "code",
   "execution_count": 12,
   "id": "f3019984",
   "metadata": {},
   "outputs": [
    {
     "ename": "SyntaxError",
     "evalue": "EOL while scanning string literal (<ipython-input-12-517c3aa53c1a>, line 1)",
     "output_type": "error",
     "traceback": [
      "\u001b[1;36m  File \u001b[1;32m\"<ipython-input-12-517c3aa53c1a>\"\u001b[1;36m, line \u001b[1;32m1\u001b[0m\n\u001b[1;33m    print(''''''')\u001b[0m\n\u001b[1;37m                  ^\u001b[0m\n\u001b[1;31mSyntaxError\u001b[0m\u001b[1;31m:\u001b[0m EOL while scanning string literal\n"
     ]
    }
   ],
   "source": [
    "print(''''''')"
   ]
  },
  {
   "cell_type": "code",
   "execution_count": null,
   "id": "1ef23835",
   "metadata": {},
   "outputs": [],
   "source": []
  },
  {
   "cell_type": "code",
   "execution_count": null,
   "id": "108d5a74",
   "metadata": {},
   "outputs": [],
   "source": []
  },
  {
   "cell_type": "code",
   "execution_count": null,
   "id": "070a38b8",
   "metadata": {},
   "outputs": [],
   "source": []
  },
  {
   "cell_type": "code",
   "execution_count": null,
   "id": "e435b2ca",
   "metadata": {},
   "outputs": [],
   "source": []
  },
  {
   "cell_type": "code",
   "execution_count": null,
   "id": "5a9cc295",
   "metadata": {},
   "outputs": [],
   "source": []
  },
  {
   "cell_type": "code",
   "execution_count": null,
   "id": "fa23c144",
   "metadata": {},
   "outputs": [],
   "source": []
  },
  {
   "cell_type": "code",
   "execution_count": null,
   "id": "4a522c8f",
   "metadata": {},
   "outputs": [],
   "source": []
  },
  {
   "cell_type": "code",
   "execution_count": null,
   "id": "512e84d0",
   "metadata": {},
   "outputs": [],
   "source": []
  },
  {
   "cell_type": "code",
   "execution_count": null,
   "id": "178d48c0",
   "metadata": {},
   "outputs": [],
   "source": []
  },
  {
   "cell_type": "code",
   "execution_count": 1,
   "id": "f08640d2",
   "metadata": {},
   "outputs": [
    {
     "name": "stdout",
     "output_type": "stream",
     "text": [
      "Don't hesitate to reinvent yourself!\n"
     ]
    }
   ],
   "source": [
    "def motto() :\n",
    "    print(\"Don't hesitate to reinvent yourself!\")\n",
    "\n",
    "motto()"
   ]
  },
  {
   "cell_type": "code",
   "execution_count": 2,
   "id": "8f7d5c47",
   "metadata": {},
   "outputs": [
    {
     "name": "stdout",
     "output_type": "stream",
     "text": [
      "50\n",
      "50\n"
     ]
    }
   ],
   "source": [
    "def multiply_1(a, b) :\n",
    "    print(a * b)  # it prints something\n",
    "\n",
    "def multiply_2(a, b) :\n",
    "    return a * b  # returns any numeric data type value\n",
    "\n",
    "multiply_1(10, 5)\n",
    "print(multiply_2(10, 5))"
   ]
  },
  {
   "cell_type": "code",
   "execution_count": 3,
   "id": "c777e149",
   "metadata": {},
   "outputs": [
    {
     "name": "stdout",
     "output_type": "stream",
     "text": [
      "20\n",
      "<class 'NoneType'>\n",
      "<class 'int'>\n"
     ]
    }
   ],
   "source": [
    "print(type(multiply_1(10, 2)))\n",
    "print(type(multiply_2(10, 5)))"
   ]
  },
  {
   "cell_type": "code",
   "execution_count": 4,
   "id": "364a5da9",
   "metadata": {},
   "outputs": [
    {
     "name": "stdout",
     "output_type": "stream",
     "text": [
      "It can't be assigned to any variable\n",
      "None\n"
     ]
    }
   ],
   "source": [
    "shadow_var = print(\"It can't be assigned to any variable\")\n",
    "print(shadow_var)  # NoneType value can't be used"
   ]
  },
  {
   "cell_type": "code",
   "execution_count": 6,
   "id": "2b16a838",
   "metadata": {},
   "outputs": [],
   "source": [
    "def my_function(width,height):\n",
    "    area = width*height\n",
    "    return area"
   ]
  },
  {
   "cell_type": "code",
   "execution_count": 9,
   "id": "efdb34c8",
   "metadata": {},
   "outputs": [],
   "source": [
    "import datetime"
   ]
  },
  {
   "cell_type": "code",
   "execution_count": 11,
   "id": "1afe580e",
   "metadata": {},
   "outputs": [
    {
     "name": "stdout",
     "output_type": "stream",
     "text": [
      "task completed\n",
      "2021-09-10 12:11:33.923398\n",
      "\n",
      "0\n",
      "1\n",
      "2\n",
      "3\n",
      "4\n",
      "5\n",
      "6\n",
      "7\n",
      "8\n",
      "9\n",
      "task completed\n",
      "2021-09-10 12:11:33.923398\n",
      "\n"
     ]
    }
   ],
   "source": [
    "first_name = \"Susan\"\n",
    "print(\"task completed\")\n",
    "print(datetime.datetime.now())\n",
    "print()\n",
    "\n",
    "for i in range(0,10):\n",
    "    print(i)\n",
    "print(\"task completed\")\n",
    "print(datetime.datetime.now())\n",
    "print()"
   ]
  },
  {
   "cell_type": "code",
   "execution_count": 14,
   "id": "044ab29d",
   "metadata": {},
   "outputs": [],
   "source": [
    "import time"
   ]
  },
  {
   "cell_type": "code",
   "execution_count": 15,
   "id": "d85ece58",
   "metadata": {},
   "outputs": [
    {
     "name": "stdout",
     "output_type": "stream",
     "text": [
      "task completed\n",
      "2021-09-10 12:16:25.351214\n",
      "\n",
      "10\n",
      "9\n",
      "8\n",
      "7\n",
      "6\n",
      "5\n",
      "4\n",
      "3\n",
      "2\n",
      "1\n",
      "task completed\n",
      "2021-09-10 12:16:35.417430\n",
      "\n"
     ]
    }
   ],
   "source": [
    "def print_time():\n",
    "    print(\"task completed\")\n",
    "    print(datetime.datetime.now())\n",
    "    print()\n",
    "        \n",
    "first_name= \"Susan\"\n",
    "print_time()\n",
    "\n",
    "for seconds in range(10,0,-1):\n",
    "    print(seconds)\n",
    "    time.sleep(1)\n",
    "print_time()"
   ]
  },
  {
   "cell_type": "code",
   "execution_count": 20,
   "id": "dfa95d6b",
   "metadata": {},
   "outputs": [
    {
     "name": "stdout",
     "output_type": "stream",
     "text": [
      "Enter your first name: ali\n",
      "Enter your last name: veli\n",
      "Your initials are:av\n"
     ]
    }
   ],
   "source": [
    "first_name = input(\"Enter your first name: \")\n",
    "first_name_initial = first_name[0:1]\n",
    "\n",
    "last_name = input(\"Enter your last name: \")\n",
    "last_name_initial = last_name[0:1]\n",
    "\n",
    "print(\"Your initials are:\" + first_name_initial + last_name_initial)"
   ]
  },
  {
   "cell_type": "code",
   "execution_count": 23,
   "id": "813c5dfd",
   "metadata": {},
   "outputs": [
    {
     "name": "stdout",
     "output_type": "stream",
     "text": [
      "Enter your first name: ali\n",
      "Enter your last name: veli\n",
      "Your initials are:av\n"
     ]
    }
   ],
   "source": [
    "def get_initial(name):\n",
    "    initial = name[0:1]\n",
    "    return initial\n",
    "\n",
    "first_name = input(\"Enter your first name: \")\n",
    "first_name_initial = get_initial(first_name)\n",
    "\n",
    "last_name = input(\"Enter your last name: \")\n",
    "last_name_initial = get_initial(last_name)\n",
    "\n",
    "print(\"Your initials are:\" + first_name_initial + last_name_initial)"
   ]
  },
  {
   "cell_type": "code",
   "execution_count": 25,
   "id": "42090d2f",
   "metadata": {},
   "outputs": [
    {
     "name": "stdout",
     "output_type": "stream",
     "text": [
      "Enter your first name: ali\n",
      "Enter your last name: veli\n",
      "Your initials are:AV\n"
     ]
    }
   ],
   "source": [
    "def get_initial(name):        \n",
    "    initial = name[0:1].upper()      #görüldüğü gibi func içinde bir değişiklik yapmak istediğimizde daha kolay oluyor.\n",
    "    return initial\n",
    "\n",
    "first_name = input(\"Enter your first name: \")\n",
    "first_name_initial = get_initial(first_name)\n",
    "\n",
    "last_name = input(\"Enter your last name: \")\n",
    "last_name_initial = get_initial(last_name)\n",
    "\n",
    "print(\"Your initials are:\" + first_name_initial + last_name_initial)"
   ]
  },
  {
   "cell_type": "code",
   "execution_count": 29,
   "id": "fd7e3598",
   "metadata": {},
   "outputs": [
    {
     "name": "stdout",
     "output_type": "stream",
     "text": [
      "Enter your first name: ali\n",
      "Enter your last name: veli\n",
      "Your initials are:AV\n"
     ]
    }
   ],
   "source": [
    "def get_initial(name):\n",
    "    initial = name[0:1].upper()\n",
    "    return initial\n",
    "\n",
    "first_name = input(\"Enter your first name: \")\n",
    "last_name = input(\"Enter your last name: \")\n",
    "\n",
    "\n",
    "print(\"Your initials are:\" \\                  # daha az kod ile yazabiliyoruz.\n",
    "      + get_initial(first_name) \\\n",
    "      + get_initial(last_name))"
   ]
  },
  {
   "cell_type": "code",
   "execution_count": 3,
   "id": "3c8b4ed9",
   "metadata": {},
   "outputs": [
    {
     "data": {
      "text/plain": [
       "5.0"
      ]
     },
     "execution_count": 3,
     "metadata": {},
     "output_type": "execute_result"
    }
   ],
   "source": [
    "def my_function(a, b):\n",
    "    hypotenuse = (a**2 + b**2)**0.5\n",
    "    return hypotenuse\n",
    "\n",
    "my_function(3,4)"
   ]
  },
  {
   "cell_type": "markdown",
   "id": "f9c96e46",
   "metadata": {},
   "source": [
    "### Fill in the blanks indicated by ... to define a function that compares the lengths of its iterable arguments and returns the longer one. Try this function to compare the lengths of \"Richard\" and \"John\". Name your function longer and if the lengths of arguments are the same return the first one. After you define the longer function, call and print the result. Hint : Don't forget to use the keyword return."
   ]
  },
  {
   "cell_type": "code",
   "execution_count": 4,
   "id": "7d50cead",
   "metadata": {},
   "outputs": [
    {
     "name": "stdout",
     "output_type": "stream",
     "text": [
      "Richard\n"
     ]
    }
   ],
   "source": [
    "def longer(a, b):\n",
    "    if len(a) >= len(b):\n",
    "        return a\n",
    "    else:\n",
    "        return b\n",
    "\n",
    "print(longer('Richard', 'John'))"
   ]
  },
  {
   "cell_type": "code",
   "execution_count": 6,
   "id": "cfc63b24",
   "metadata": {},
   "outputs": [
    {
     "name": "stdout",
     "output_type": "stream",
     "text": [
      "Your first name is : Guido\n",
      "Your last name is : van Rossum\n",
      "\n",
      "Your first name is : Marry\n",
      "Your last name is : Bold\n"
     ]
    }
   ],
   "source": [
    "def who(first, last) :  # 'first' and 'last' are the parameters(or variables)\n",
    "    print('Your first name is :', first)\n",
    "    print('Your last name is :', last)\n",
    "\n",
    "who('Guido', 'van Rossum')  # 'Guido' and 'van Rossum' are the arguments\n",
    "print()\n",
    "who('Marry', 'Bold')  # 'Marry' and 'Bold' are also the arguments"
   ]
  },
  {
   "cell_type": "code",
   "execution_count": 10,
   "id": "647a9399",
   "metadata": {},
   "outputs": [],
   "source": [
    "def parrot(voltage, state='a stiff', action='voom', type='Norwegian Blue'):\n",
    "    print(\"-- This parrot wouldn't\", action, end=' ')\n",
    "    print(\"if you put\", voltage, \"volts through it.\")\n",
    "    print(\"-- Lovely plumage, the\", type)\n",
    "    print(\"-- It's\", state, \"!\")"
   ]
  },
  {
   "cell_type": "code",
   "execution_count": 8,
   "id": "88e43e66",
   "metadata": {},
   "outputs": [
    {
     "name": "stdout",
     "output_type": "stream",
     "text": [
      "-- This parrot wouldn't voom if you put 1000 volts through it.\n",
      "-- Lovely plumage, the Norwegian Blue\n",
      "-- It's a stiff !\n",
      "-- This parrot wouldn't voom if you put 1000 volts through it.\n",
      "-- Lovely plumage, the Norwegian Blue\n",
      "-- It's a stiff !\n",
      "-- This parrot wouldn't VOOOOOM if you put 1000000 volts through it.\n",
      "-- Lovely plumage, the Norwegian Blue\n",
      "-- It's a stiff !\n",
      "-- This parrot wouldn't VOOOOOM if you put 1000000 volts through it.\n",
      "-- Lovely plumage, the Norwegian Blue\n",
      "-- It's a stiff !\n",
      "-- This parrot wouldn't jump if you put a million volts through it.\n",
      "-- Lovely plumage, the Norwegian Blue\n",
      "-- It's bereft of life !\n",
      "-- This parrot wouldn't voom if you put a thousand volts through it.\n",
      "-- Lovely plumage, the Norwegian Blue\n",
      "-- It's pushing up the daisies !\n"
     ]
    }
   ],
   "source": [
    "parrot(1000)                                          # 1 positional argument\n",
    "parrot(voltage=1000)                                  # 1 keyword argument\n",
    "parrot(voltage=1000000, action='VOOOOOM')             # 2 keyword arguments\n",
    "parrot(action='VOOOOOM', voltage=1000000)             # 2 keyword arguments \n",
    "parrot('a million', 'bereft of life', 'jump')         # 3 positional arguments\n",
    "parrot('a thousand', state='pushing up the daisies')  # 1 positional, 1 keyword"
   ]
  },
  {
   "cell_type": "code",
   "execution_count": 12,
   "id": "b4832a49",
   "metadata": {},
   "outputs": [],
   "source": [
    "def parrot(voltage, state='a stiff', action='voom', type='Norwegian Blue'):\n",
    "    print(\"-- This parrot wouldn't\", action, end=' ')\n",
    "    print(\"if you put\", voltage, \"volts through it.\")\n",
    "    print(\"-- Lovely plumage, the\", type)\n",
    "    print(\"-- It's\", state, \"!\")"
   ]
  },
  {
   "cell_type": "code",
   "execution_count": 14,
   "id": "f86e3d7c",
   "metadata": {},
   "outputs": [
    {
     "ename": "SyntaxError",
     "evalue": "positional argument follows keyword argument (<ipython-input-14-803d088df6c6>, line 2)",
     "output_type": "error",
     "traceback": [
      "\u001b[1;36m  File \u001b[1;32m\"<ipython-input-14-803d088df6c6>\"\u001b[1;36m, line \u001b[1;32m2\u001b[0m\n\u001b[1;33m    parrot(voltage=5.0, 'dead')  # non-keyword argument after a keyword argument\u001b[0m\n\u001b[1;37m                        ^\u001b[0m\n\u001b[1;31mSyntaxError\u001b[0m\u001b[1;31m:\u001b[0m positional argument follows keyword argument\n"
     ]
    }
   ],
   "source": [
    "parrot()                     # required argument missing\n",
    "parrot(voltage=5.0, 'dead')  # non-keyword argument after a keyword argument\n",
    "parrot(110, voltage=220)     # duplicate value for the same argument\n",
    "parrot(actor='John Cleese')  # unknown keyword argument"
   ]
  },
  {
   "cell_type": "code",
   "execution_count": 17,
   "id": "93c043c7",
   "metadata": {},
   "outputs": [
    {
     "name": "stdout",
     "output_type": "stream",
     "text": [
      "Athens in Europe\n",
      "Ulaanbaatar in Asia\n",
      "Cape Town in Africa\n"
     ]
    }
   ],
   "source": [
    "def city(capital, continent='Europe'):\n",
    "    print(capital, 'in', continent)\n",
    "\n",
    "city('Athens')  # we don't have to pass any arguments into 'continent'\n",
    "city('Ulaanbaatar', continent='Asia')  # we can change the default value by kwargs\n",
    "city('Cape Town', 'Africa')  # we can change the default value by positional args.\n",
    "\n"
   ]
  },
  {
   "cell_type": "code",
   "execution_count": 18,
   "id": "6e025d51",
   "metadata": {},
   "outputs": [
    {
     "name": "stdout",
     "output_type": "stream",
     "text": [
      "I want to get orange and banana\n"
     ]
    }
   ],
   "source": [
    "def fruiterer(fruit1, fruit2) :\n",
    "    print('I want to get', fruit1, 'and', fruit2)\n",
    "        \n",
    "fruiterer('orange', 'banana')"
   ]
  },
  {
   "cell_type": "code",
   "execution_count": 19,
   "id": "daca6119",
   "metadata": {},
   "outputs": [
    {
     "name": "stdout",
     "output_type": "stream",
     "text": [
      "I want to get :\n",
      "- orange\n",
      "- banana\n",
      "- melon\n",
      "- ananas\n"
     ]
    }
   ],
   "source": [
    "def fruiterer(*fruit) :\n",
    "    print('I want to get :')\n",
    "    for i in fruit :\n",
    "        print('-', i)\n",
    "        \n",
    "fruiterer('orange', 'banana', 'melon', 'ananas')"
   ]
  },
  {
   "cell_type": "code",
   "execution_count": 20,
   "id": "b62cdf61",
   "metadata": {},
   "outputs": [
    {
     "name": "stdout",
     "output_type": "stream",
     "text": [
      "Lions are Carnivores\n",
      "Bears are Omnivores\n",
      "Deers are Herbivores\n",
      "Human are Nomnivores\n"
     ]
    }
   ],
   "source": [
    "def animals(**kwargs):\n",
    "    for key, value in kwargs.items():\n",
    "        print(value, \"are\", key)\n",
    " \n",
    "animals(Carnivores=\"Lions\", Omnivores=\"Bears\", Herbivores=\"Deers\", Nomnivores=\"Human\")"
   ]
  },
  {
   "cell_type": "code",
   "execution_count": 21,
   "id": "b0bbe874",
   "metadata": {},
   "outputs": [
    {
     "name": "stdout",
     "output_type": "stream",
     "text": [
      "Here are the names of brothers :\n",
      "tom\n",
      "sue\n",
      "tim\n"
     ]
    }
   ],
   "source": [
    "def brothers(bro1, bro2, bro3):\n",
    "    print('Here are the names of brothers :')\n",
    "    print(bro1, bro2, bro3, sep='\\n')\n",
    "\n",
    "family = ['tom', 'sue', 'tim']\n",
    "brothers(*family)"
   ]
  },
  {
   "cell_type": "code",
   "execution_count": 22,
   "id": "24cc947b",
   "metadata": {},
   "outputs": [
    {
     "name": "stdout",
     "output_type": "stream",
     "text": [
      "Fred belongs to Generation X\n",
      "Marry belongs to Generation Y\n"
     ]
    }
   ],
   "source": [
    "def gene(x, y):  # defined by positional args\n",
    "    print(x, \"belongs to Generation X\")\n",
    "    print(y, \"belongs to Generation Y\")\n",
    " \n",
    "dict_gene = {'y' : \"Marry\", 'x' : \"Fred\"}\n",
    "gene(**dict_gene)  # we call the function by a single argument(variable)"
   ]
  },
  {
   "cell_type": "code",
   "execution_count": 23,
   "id": "7632f359",
   "metadata": {},
   "outputs": [
    {
     "name": "stdout",
     "output_type": "stream",
     "text": [
      "Fred belongs to Generation X\n",
      "Marry belongs to Generation Y\n"
     ]
    }
   ],
   "source": [
    "def gene(x='Solomon', y='David'):  # defined by kwargs (default values assigned to x and y)\n",
    "    print(x, \"belongs to Generation X\")\n",
    "    print(y, \"belongs to Generation Y\")\n",
    " \n",
    "dict_gene = {'y' : \"Marry\", 'x' : \"Fred\"}\n",
    "gene(**dict_gene) "
   ]
  },
  {
   "cell_type": "code",
   "execution_count": 27,
   "id": "d2a71ce0",
   "metadata": {},
   "outputs": [
    {
     "name": "stdout",
     "output_type": "stream",
     "text": [
      "Enter your first name: ali\n",
      "Your initials are:a\n"
     ]
    }
   ],
   "source": [
    "def get_initial(name,force_uppercase):\n",
    "    \n",
    "    if force_uppercase:\n",
    "        initial = name[0:1].upper()\n",
    "   \n",
    "    else:\n",
    "        initial = name[0:1]\n",
    "        \n",
    "    return initial\n",
    "\n",
    "first_name = input(\"Enter your first name: \")\n",
    "first_name_initial = get_initial(first_name, False)\n",
    "\n",
    "\n",
    "print(\"Your initials are:\" + first_name_initial)"
   ]
  },
  {
   "cell_type": "code",
   "execution_count": 33,
   "id": "05d13e04",
   "metadata": {},
   "outputs": [
    {
     "name": "stdout",
     "output_type": "stream",
     "text": [
      "Enter your first name: Ali\n",
      "Your initials are:A\n"
     ]
    }
   ],
   "source": [
    "def get_initial(name,force_uppercase=True):\n",
    "    \n",
    "    if force_uppercase:\n",
    "        initial = name[0:1].upper()\n",
    "   \n",
    "    else:\n",
    "        initial = name[0:1]\n",
    "        \n",
    "    return initial\n",
    "\n",
    "first_name = input(\"Enter your first name: \")\n",
    "first_name_initial = get_initial(first_name)\n",
    "\n",
    "\n",
    "print(\"Your initials are:\" + first_name_initial)"
   ]
  },
  {
   "cell_type": "code",
   "execution_count": 35,
   "id": "0e86144c",
   "metadata": {},
   "outputs": [
    {
     "name": "stdout",
     "output_type": "stream",
     "text": [
      "Enter your first name: ali\n",
      "Your initials are:a\n"
     ]
    }
   ],
   "source": [
    "def get_initial(name,force_uppercase=True):\n",
    "    \n",
    "    if force_uppercase:                     #true olduğundan ilk blok dönüyor. False olsa else sonrası dönecek.\n",
    "        initial = name[0:1].upper()\n",
    "   \n",
    "    else:\n",
    "        initial = name[0:1]\n",
    "        \n",
    "    return initial\n",
    "\n",
    "first_name = input(\"Enter your first name: \")\n",
    "first_name_initial = get_initial(force_uppercase=True,name= first_name)\n",
    "\n",
    "\n",
    "print(\"Your initials are:\" + first_name_initial)"
   ]
  },
  {
   "cell_type": "code",
   "execution_count": 31,
   "id": "8e240621",
   "metadata": {},
   "outputs": [
    {
     "name": "stdout",
     "output_type": "stream",
     "text": [
      "oh no error:Second number greater than first\n"
     ]
    }
   ],
   "source": [
    "def error_logger(error_code, error_sevirity,log_to_db,\\\n",
    "                 error_message,source_module):\n",
    "    print(\"oh no error:\" + error_message)\n",
    "    \n",
    "first_number = 10\n",
    "second_number = 5\n",
    "\n",
    "if first_number > second_number:\n",
    "    error_logger(45,1,True,\\\n",
    "                 \"Second number greater than first\",\"my_math_method\")"
   ]
  },
  {
   "cell_type": "code",
   "execution_count": 32,
   "id": "755240fa",
   "metadata": {},
   "outputs": [
    {
     "name": "stdout",
     "output_type": "stream",
     "text": [
      "oh no error:Second number greater than first\n"
     ]
    }
   ],
   "source": [
    "def error_logger(error_code, error_sevirity,log_to_db,\\\n",
    "                 error_message,source_module):\n",
    "    print(\"oh no error:\" + error_message)\n",
    "    \n",
    "first_number = 10\n",
    "second_number = 5\n",
    "\n",
    "if first_number > second_number:\n",
    "    error_logger(error_code=45, error_sevirity=1,\\\n",
    "                 log_to_db=True,\n",
    "                 error_message=\"Second number greater than first\",\\\n",
    "                 source_module=\"my_math_method\")"
   ]
  },
  {
   "cell_type": "code",
   "execution_count": 36,
   "id": "c660307c",
   "metadata": {},
   "outputs": [
    {
     "name": "stdout",
     "output_type": "stream",
     "text": [
      "The teams in Premier League are :\n",
      "- Liverpool\n",
      "- M.United\n",
      "- M.City\n",
      "- Arsenal\n"
     ]
    }
   ],
   "source": [
    "def team_names(*teams) :\n",
    "    print('The teams in Premier League are :')\n",
    "    for i in teams :\n",
    "        print('-', i)\n",
    "\n",
    "team_names('Liverpool', 'M.United', 'M.City', 'Arsenal')"
   ]
  },
  {
   "cell_type": "code",
   "execution_count": 37,
   "id": "a17db902",
   "metadata": {},
   "outputs": [
    {
     "name": "stdout",
     "output_type": "stream",
     "text": [
      "I love Clarusway!\n"
     ]
    }
   ],
   "source": [
    "def make_sentence(**kwargs):\n",
    "    result = \"\"\n",
    "    # Iterating over the Python kwargs dictionary\n",
    "    for i in kwargs.values():\n",
    "        result += i\n",
    "    return result\n",
    "\n",
    "print(make_sentence(a=\"I \", b=\"love \", c=\"Clarusway!\"))"
   ]
  },
  {
   "cell_type": "code",
   "execution_count": null,
   "id": "d65304ff",
   "metadata": {},
   "outputs": [],
   "source": [
    "def team_league(team, league='Premier League'):\n",
    "    print(team, 'in', league)\n",
    "\n",
    "team_league('Liverpool')"
   ]
  },
  {
   "cell_type": "code",
   "execution_count": null,
   "id": "bf5055ca",
   "metadata": {},
   "outputs": [],
   "source": [
    "def my_function(first, last) : \n",
    "    print('Your first name is :', first)\n",
    "    print('Your last name is :', last)\n",
    "\n",
    "my_function(first='Richard', last='Rice') "
   ]
  },
  {
   "cell_type": "code",
   "execution_count": 38,
   "id": "b1970a2c",
   "metadata": {},
   "outputs": [
    {
     "name": "stdout",
     "output_type": "stream",
     "text": [
      "inner variable\n",
      "outer variable\n"
     ]
    }
   ],
   "source": [
    "my_var = 'outer variable'\n",
    "\n",
    "def func_var(): \n",
    "\tmy_var= 'inner variable'\n",
    "\tprint(my_var) \n",
    "\n",
    "func_var() \n",
    "print(my_var)"
   ]
  },
  {
   "cell_type": "code",
   "execution_count": 39,
   "id": "f8eb6358",
   "metadata": {},
   "outputs": [
    {
     "name": "stdout",
     "output_type": "stream",
     "text": [
      "I am the global one\n",
      "I am the global one\n",
      "The globals are valid everywhere \n",
      "I am the local one\n"
     ]
    },
    {
     "ename": "NameError",
     "evalue": "name 'local_text' is not defined",
     "output_type": "error",
     "traceback": [
      "\u001b[1;31m---------------------------------------------------------------------------\u001b[0m",
      "\u001b[1;31mNameError\u001b[0m                                 Traceback (most recent call last)",
      "\u001b[1;32m<ipython-input-39-0864727daf5c>\u001b[0m in \u001b[0;36m<module>\u001b[1;34m\u001b[0m\n\u001b[0;32m     19\u001b[0m \u001b[0mlocal_func\u001b[0m\u001b[1;33m(\u001b[0m\u001b[1;33m)\u001b[0m  \u001b[1;31m# 'I am the local one' will be printed as expected\u001b[0m\u001b[1;33m\u001b[0m\u001b[1;33m\u001b[0m\u001b[0m\n\u001b[0;32m     20\u001b[0m \u001b[1;33m\u001b[0m\u001b[0m\n\u001b[1;32m---> 21\u001b[1;33m \u001b[0mprint\u001b[0m\u001b[1;33m(\u001b[0m\u001b[0mlocal_text\u001b[0m\u001b[1;33m)\u001b[0m  \u001b[1;31m# NameError will be raised\u001b[0m\u001b[1;33m\u001b[0m\u001b[1;33m\u001b[0m\u001b[0m\n\u001b[0m\u001b[0;32m     22\u001b[0m \u001b[1;31m# because we can't use local variable outside of its function\u001b[0m\u001b[1;33m\u001b[0m\u001b[1;33m\u001b[0m\u001b[1;33m\u001b[0m\u001b[0m\n",
      "\u001b[1;31mNameError\u001b[0m: name 'local_text' is not defined"
     ]
    }
   ],
   "source": [
    "text = \"I am the global one\"\n",
    " \n",
    "def global_func():\n",
    "    print(text)  # we can use 'text' in a function\n",
    "                 # because it's a global variable\n",
    "\n",
    "global_func()  # 'I am the global one' will be printed\n",
    "print(text)  # it can also be printed outside of the function\n",
    " \n",
    "text = \"The globals are valid everywhere \"\n",
    " \n",
    "global_func()  # we changed the value of 'text'\n",
    "# 'The globals are valid everywhere' will be printed\n",
    " \n",
    "def local_func():\n",
    "    local_text = \"I am the local one\"\n",
    "    print(local_text)  # local_text is a local variable\n",
    "\n",
    "local_func()  # 'I am the local one' will be printed as expected\n",
    " \n",
    "print(local_text)  # NameError will be raised\n",
    "# because we can't use local variable outside of its function"
   ]
  },
  {
   "cell_type": "code",
   "execution_count": 40,
   "id": "129d80d2",
   "metadata": {},
   "outputs": [
    {
     "name": "stdout",
     "output_type": "stream",
     "text": [
      "10\n"
     ]
    }
   ],
   "source": [
    "x = 10\n",
    "def my_function_1(): \n",
    "    x = 20 \n",
    "    print(x)\n",
    "    \n",
    "print(x)"
   ]
  },
  {
   "cell_type": "code",
   "execution_count": 41,
   "id": "49851812",
   "metadata": {},
   "outputs": [
    {
     "name": "stdout",
     "output_type": "stream",
     "text": [
      "local\n",
      "global\n"
     ]
    }
   ],
   "source": [
    "variable = \"global\"\n",
    "\n",
    "def func_outer():\n",
    "    variable = \"enclosing outer local\"\n",
    "    def func_inner():\n",
    "        variable = \"enclosing inner local\"\n",
    "        def func_local():\n",
    "            variable = \"local\"\n",
    "            print(variable)\n",
    "        func_local()\n",
    "    func_inner()\n",
    " \n",
    "func_outer()  # prints 'local' defined in the innermost function\n",
    "print(variable)  # 'global' level variable holds its value"
   ]
  },
  {
   "cell_type": "code",
   "execution_count": 42,
   "id": "beef1996",
   "metadata": {},
   "outputs": [
    {
     "name": "stdout",
     "output_type": "stream",
     "text": [
      "1\n",
      "\n"
     ]
    },
    {
     "ename": "UnboundLocalError",
     "evalue": "local variable 'count' referenced before assignment",
     "output_type": "error",
     "traceback": [
      "\u001b[1;31m---------------------------------------------------------------------------\u001b[0m",
      "\u001b[1;31mUnboundLocalError\u001b[0m                         Traceback (most recent call last)",
      "\u001b[1;32m<ipython-input-42-cbe4f6d3172c>\u001b[0m in \u001b[0;36m<module>\u001b[1;34m\u001b[0m\n\u001b[0;32m     11\u001b[0m \u001b[1;33m\u001b[0m\u001b[0m\n\u001b[0;32m     12\u001b[0m \u001b[0mprint\u001b[0m\u001b[1;33m(\u001b[0m\u001b[1;33m)\u001b[0m  \u001b[1;31m# just empty line\u001b[0m\u001b[1;33m\u001b[0m\u001b[1;33m\u001b[0m\u001b[0m\n\u001b[1;32m---> 13\u001b[1;33m \u001b[0mcounter\u001b[0m\u001b[1;33m(\u001b[0m\u001b[1;33m)\u001b[0m\u001b[1;33m\u001b[0m\u001b[1;33m\u001b[0m\u001b[0m\n\u001b[0m",
      "\u001b[1;32m<ipython-input-42-cbe4f6d3172c>\u001b[0m in \u001b[0;36mcounter\u001b[1;34m()\u001b[0m\n\u001b[0;32m      7\u001b[0m \u001b[1;33m\u001b[0m\u001b[0m\n\u001b[0;32m      8\u001b[0m \u001b[1;32mdef\u001b[0m \u001b[0mcounter\u001b[0m\u001b[1;33m(\u001b[0m\u001b[1;33m)\u001b[0m\u001b[1;33m:\u001b[0m\u001b[1;33m\u001b[0m\u001b[1;33m\u001b[0m\u001b[0m\n\u001b[1;32m----> 9\u001b[1;33m     \u001b[0mprint\u001b[0m\u001b[1;33m(\u001b[0m\u001b[0mcount\u001b[0m\u001b[1;33m)\u001b[0m\u001b[1;33m\u001b[0m\u001b[1;33m\u001b[0m\u001b[0m\n\u001b[0m\u001b[0;32m     10\u001b[0m     \u001b[0mcount\u001b[0m \u001b[1;33m+=\u001b[0m \u001b[1;36m1\u001b[0m  \u001b[1;31m# we're trying to change its value\u001b[0m\u001b[1;33m\u001b[0m\u001b[1;33m\u001b[0m\u001b[0m\n\u001b[0;32m     11\u001b[0m \u001b[1;33m\u001b[0m\u001b[0m\n",
      "\u001b[1;31mUnboundLocalError\u001b[0m: local variable 'count' referenced before assignment"
     ]
    }
   ],
   "source": [
    "count = 1\n",
    "\n",
    "def print_global():\n",
    "    print(count)\n",
    " \n",
    "print_global()\n",
    " \n",
    "def counter():\n",
    "    print(count)\n",
    "    count += 1  # we're trying to change its value\n",
    " \n",
    "print()  # just empty line\n",
    "counter()"
   ]
  },
  {
   "cell_type": "code",
   "execution_count": 43,
   "id": "6f569051",
   "metadata": {},
   "outputs": [
    {
     "name": "stdout",
     "output_type": "stream",
     "text": [
      "1\n",
      "2\n",
      "3\n"
     ]
    }
   ],
   "source": [
    "count = 1\n",
    "\n",
    "def counter():\n",
    "    global count  # we've changed its scope\n",
    "    print(count)  # it's global anymore\n",
    "    count += 1\n",
    " \n",
    "counter() \n",
    "counter()\n",
    "counter()"
   ]
  },
  {
   "cell_type": "code",
   "execution_count": 44,
   "id": "a64987a6",
   "metadata": {},
   "outputs": [
    {
     "name": "stdout",
     "output_type": "stream",
     "text": [
      "inner: inner variable\n",
      "outer: outer variable\n"
     ]
    }
   ],
   "source": [
    "def func_enclosing1():\n",
    "    x = 'outer variable'\n",
    "    def func_enclosing2():\n",
    "        x = 'inner variable'\n",
    "        print(\"inner:\", x)\n",
    "    func_enclosing2()\n",
    "    print(\"outer:\", x)\n",
    "\n",
    "func_enclosing1()"
   ]
  },
  {
   "cell_type": "code",
   "execution_count": 45,
   "id": "5424bc8e",
   "metadata": {},
   "outputs": [
    {
     "name": "stdout",
     "output_type": "stream",
     "text": [
      "inner: inner variable\n",
      "outer: inner variable\n"
     ]
    }
   ],
   "source": [
    "def enclosing_func1():\n",
    "    x = 'outer variable'\n",
    "    def enclosing_func2():\n",
    "        nonlocal x  # its inner-value can be used in the outer scope\n",
    "        x = 'inner variable'\n",
    "        print(\"inner:\", x)\n",
    "    enclosing_func2()\n",
    "    print(\"outer:\", x)\n",
    "\n",
    "enclosing_func1()"
   ]
  },
  {
   "cell_type": "code",
   "execution_count": 46,
   "id": "32aa7187",
   "metadata": {},
   "outputs": [],
   "source": [
    "x = 10\n",
    "  \n",
    "def my_function():  # fix me!\n",
    "    x += 5 \n",
    "    print(x)\n",
    " "
   ]
  },
  {
   "cell_type": "code",
   "execution_count": null,
   "id": "ea67999b",
   "metadata": {},
   "outputs": [],
   "source": [
    "x = 10\n",
    "  \n",
    "def my_function(): \n",
    "    global x\n",
    "    x += 5 \n",
    "    print(x) "
   ]
  },
  {
   "cell_type": "code",
   "execution_count": 48,
   "id": "a7ffe8ad",
   "metadata": {},
   "outputs": [
    {
     "ename": "UnboundLocalError",
     "evalue": "local variable 'count' referenced before assignment",
     "output_type": "error",
     "traceback": [
      "\u001b[1;31m---------------------------------------------------------------------------\u001b[0m",
      "\u001b[1;31mUnboundLocalError\u001b[0m                         Traceback (most recent call last)",
      "\u001b[1;32m<ipython-input-48-f4c872e96fc6>\u001b[0m in \u001b[0;36m<module>\u001b[1;34m\u001b[0m\n\u001b[0;32m      5\u001b[0m     \u001b[0mprint\u001b[0m\u001b[1;33m(\u001b[0m\u001b[0mcount\u001b[0m\u001b[1;33m)\u001b[0m\u001b[1;33m\u001b[0m\u001b[1;33m\u001b[0m\u001b[0m\n\u001b[0;32m      6\u001b[0m \u001b[1;33m\u001b[0m\u001b[0m\n\u001b[1;32m----> 7\u001b[1;33m \u001b[0mcounter\u001b[0m\u001b[1;33m(\u001b[0m\u001b[1;33m)\u001b[0m\u001b[1;33m\u001b[0m\u001b[1;33m\u001b[0m\u001b[0m\n\u001b[0m",
      "\u001b[1;32m<ipython-input-48-f4c872e96fc6>\u001b[0m in \u001b[0;36mcounter\u001b[1;34m()\u001b[0m\n\u001b[0;32m      2\u001b[0m \u001b[1;33m\u001b[0m\u001b[0m\n\u001b[0;32m      3\u001b[0m \u001b[1;32mdef\u001b[0m \u001b[0mcounter\u001b[0m\u001b[1;33m(\u001b[0m\u001b[1;33m)\u001b[0m\u001b[1;33m:\u001b[0m\u001b[1;33m\u001b[0m\u001b[1;33m\u001b[0m\u001b[0m\n\u001b[1;32m----> 4\u001b[1;33m     \u001b[0mcount\u001b[0m \u001b[1;33m+=\u001b[0m \u001b[1;36m1\u001b[0m\u001b[1;33m\u001b[0m\u001b[1;33m\u001b[0m\u001b[0m\n\u001b[0m\u001b[0;32m      5\u001b[0m     \u001b[0mprint\u001b[0m\u001b[1;33m(\u001b[0m\u001b[0mcount\u001b[0m\u001b[1;33m)\u001b[0m\u001b[1;33m\u001b[0m\u001b[1;33m\u001b[0m\u001b[0m\n\u001b[0;32m      6\u001b[0m \u001b[1;33m\u001b[0m\u001b[0m\n",
      "\u001b[1;31mUnboundLocalError\u001b[0m: local variable 'count' referenced before assignment"
     ]
    }
   ],
   "source": [
    "count = 1\n",
    "\n",
    "def counter():\n",
    "    count += 1\n",
    "    print(count)  \n",
    "\n",
    "counter()"
   ]
  },
  {
   "cell_type": "code",
   "execution_count": 49,
   "id": "b4be09b0",
   "metadata": {},
   "outputs": [
    {
     "name": "stdout",
     "output_type": "stream",
     "text": [
      "2\n"
     ]
    }
   ],
   "source": [
    "count = 1\n",
    "\n",
    "def counter():\n",
    "    global count\n",
    "    count += 1\n",
    "    print(count)  \n",
    "\n",
    "counter()"
   ]
  },
  {
   "cell_type": "code",
   "execution_count": 50,
   "id": "957dd03b",
   "metadata": {},
   "outputs": [
    {
     "name": "stdout",
     "output_type": "stream",
     "text": [
      "20\n"
     ]
    }
   ],
   "source": [
    "x = 10\n",
    "def my_function_1(): \n",
    "    x = 20 \n",
    "    print(x)\n",
    "my_function_1()   #print(x) deseydik 10 verirdi."
   ]
  },
  {
   "cell_type": "code",
   "execution_count": 53,
   "id": "a973c02f",
   "metadata": {},
   "outputs": [
    {
     "ename": "UnboundLocalError",
     "evalue": "local variable 'y' referenced before assignment",
     "output_type": "error",
     "traceback": [
      "\u001b[1;31m---------------------------------------------------------------------------\u001b[0m",
      "\u001b[1;31mUnboundLocalError\u001b[0m                         Traceback (most recent call last)",
      "\u001b[1;32m<ipython-input-53-4be67e3ed18e>\u001b[0m in \u001b[0;36m<module>\u001b[1;34m\u001b[0m\n\u001b[0;32m      3\u001b[0m     \u001b[0my\u001b[0m \u001b[1;33m+=\u001b[0m \u001b[1;36m5\u001b[0m\u001b[1;33m\u001b[0m\u001b[1;33m\u001b[0m\u001b[0m\n\u001b[0;32m      4\u001b[0m     \u001b[0mprint\u001b[0m\u001b[1;33m(\u001b[0m\u001b[0my\u001b[0m\u001b[1;33m)\u001b[0m\u001b[1;33m\u001b[0m\u001b[1;33m\u001b[0m\u001b[0m\n\u001b[1;32m----> 5\u001b[1;33m \u001b[0mmy_function_2\u001b[0m\u001b[1;33m(\u001b[0m\u001b[1;33m)\u001b[0m\u001b[1;33m\u001b[0m\u001b[1;33m\u001b[0m\u001b[0m\n\u001b[0m",
      "\u001b[1;32m<ipython-input-53-4be67e3ed18e>\u001b[0m in \u001b[0;36mmy_function_2\u001b[1;34m()\u001b[0m\n\u001b[0;32m      1\u001b[0m \u001b[0my\u001b[0m \u001b[1;33m=\u001b[0m \u001b[1;36m10\u001b[0m\u001b[1;33m\u001b[0m\u001b[1;33m\u001b[0m\u001b[0m\n\u001b[0;32m      2\u001b[0m \u001b[1;32mdef\u001b[0m \u001b[0mmy_function_2\u001b[0m\u001b[1;33m(\u001b[0m\u001b[1;33m)\u001b[0m\u001b[1;33m:\u001b[0m\u001b[1;33m\u001b[0m\u001b[1;33m\u001b[0m\u001b[0m\n\u001b[1;32m----> 3\u001b[1;33m     \u001b[0my\u001b[0m \u001b[1;33m+=\u001b[0m \u001b[1;36m5\u001b[0m\u001b[1;33m\u001b[0m\u001b[1;33m\u001b[0m\u001b[0m\n\u001b[0m\u001b[0;32m      4\u001b[0m     \u001b[0mprint\u001b[0m\u001b[1;33m(\u001b[0m\u001b[0my\u001b[0m\u001b[1;33m)\u001b[0m\u001b[1;33m\u001b[0m\u001b[1;33m\u001b[0m\u001b[0m\n\u001b[0;32m      5\u001b[0m \u001b[0mmy_function_2\u001b[0m\u001b[1;33m(\u001b[0m\u001b[1;33m)\u001b[0m\u001b[1;33m\u001b[0m\u001b[1;33m\u001b[0m\u001b[0m\n",
      "\u001b[1;31mUnboundLocalError\u001b[0m: local variable 'y' referenced before assignment"
     ]
    }
   ],
   "source": [
    "y = 10  \n",
    "def my_function_2(): \n",
    "    y += 5 \n",
    "    print(y)\n",
    "my_function_2()"
   ]
  },
  {
   "cell_type": "code",
   "execution_count": 54,
   "id": "dd77b61c",
   "metadata": {},
   "outputs": [
    {
     "name": "stdout",
     "output_type": "stream",
     "text": [
      "15\n"
     ]
    }
   ],
   "source": [
    "y = 10  \n",
    "def my_function_2(): \n",
    "    global y\n",
    "    y += 5 \n",
    "    print(y)\n",
    "my_function_2()"
   ]
  },
  {
   "cell_type": "code",
   "execution_count": 55,
   "id": "5b08d7fe",
   "metadata": {},
   "outputs": [
    {
     "name": "stdout",
     "output_type": "stream",
     "text": [
      "hello\n"
     ]
    }
   ],
   "source": [
    "def myfunc1():\n",
    "  x = \"hi\"\n",
    "  def myfunc2():\n",
    "    nonlocal x\n",
    "    x = \"hello\"\n",
    "  myfunc2() \n",
    "  return x\n",
    "\n",
    "print(myfunc1())"
   ]
  },
  {
   "cell_type": "code",
   "execution_count": 56,
   "id": "20f420b2",
   "metadata": {},
   "outputs": [
    {
     "name": "stdout",
     "output_type": "stream",
     "text": [
      "My name is Richard\n"
     ]
    }
   ],
   "source": [
    "x = 'My name is Richard'\n",
    "def my_function_1(): \n",
    "    x = 'My name is John'\n",
    "print(x)"
   ]
  },
  {
   "cell_type": "code",
   "execution_count": 58,
   "id": "e16b6d5d",
   "metadata": {},
   "outputs": [],
   "source": [
    "city = \"I love Paris!\"\n",
    "\n",
    "def my_function(): \n",
    "    global city\n",
    "    city = \"I love London!\"\n",
    "    print(city)"
   ]
  },
  {
   "cell_type": "code",
   "execution_count": 59,
   "id": "75ae103c",
   "metadata": {},
   "outputs": [],
   "source": [
    "def outer():\n",
    "    x = \"previous\"\n",
    "    \n",
    "    def inner():\n",
    "        nonlocal x\n",
    "        x = \"later\"\n",
    "        print(\"inner:\", x)\n",
    "    \n",
    "    inner()\n",
    "    print(\"outer:\", x)"
   ]
  },
  {
   "cell_type": "code",
   "execution_count": 62,
   "id": "8e6300bd",
   "metadata": {},
   "outputs": [
    {
     "data": {
      "text/plain": [
       "<function __main__.<lambda>(x, y)>"
      ]
     },
     "execution_count": 62,
     "metadata": {},
     "output_type": "execute_result"
    }
   ],
   "source": [
    "lambda x, y: (x+y)/2  # takes two numbers, returns the result"
   ]
  },
  {
   "cell_type": "code",
   "execution_count": 61,
   "id": "cbcbe498",
   "metadata": {},
   "outputs": [
    {
     "data": {
      "text/plain": [
       "<function __main__.<lambda>(x)>"
      ]
     },
     "execution_count": 61,
     "metadata": {},
     "output_type": "execute_result"
    }
   ],
   "source": [
    "lambda x: 'odd' if x % 2 != 0 else 'even'"
   ]
  },
  {
   "cell_type": "code",
   "execution_count": 60,
   "id": "f18db9c0",
   "metadata": {},
   "outputs": [
    {
     "name": "stdout",
     "output_type": "stream",
     "text": [
      "4\n"
     ]
    }
   ],
   "source": [
    "print((lambda x: x**2)(2))"
   ]
  },
  {
   "cell_type": "code",
   "execution_count": 63,
   "id": "45c854e0",
   "metadata": {},
   "outputs": [
    {
     "name": "stdout",
     "output_type": "stream",
     "text": [
      "4.0\n"
     ]
    }
   ],
   "source": [
    "print((lambda x, y: (x+y)/2)(3, 5))  # takes two int, returns mean of them"
   ]
  },
  {
   "cell_type": "code",
   "execution_count": 64,
   "id": "6a45bdf9",
   "metadata": {},
   "outputs": [
    {
     "name": "stdout",
     "output_type": "stream",
     "text": [
      "4.0\n"
     ]
    }
   ],
   "source": [
    "average = (lambda x, y: (x+y)/2)(3, 5) \n",
    "print(average)"
   ]
  },
  {
   "cell_type": "code",
   "execution_count": 65,
   "id": "d6e0b9dd",
   "metadata": {},
   "outputs": [
    {
     "name": "stdout",
     "output_type": "stream",
     "text": [
      "4.0\n"
     ]
    }
   ],
   "source": [
    "average = lambda x, y: (x+y)/2\n",
    "print(average(3, 5))  # we call"
   ]
  },
  {
   "cell_type": "code",
   "execution_count": 66,
   "id": "77d6846d",
   "metadata": {},
   "outputs": [
    {
     "name": "stdout",
     "output_type": "stream",
     "text": [
      "<class 'map'>\n",
      "[1, 4, 9, 16, 25]\n",
      "[1, 4, 9, 16, 25]\n"
     ]
    }
   ],
   "source": [
    "iterable = [1, 2, 3, 4, 5]\n",
    "map(lambda x:x**2, iterable)\n",
    "result = map(lambda x:x**2, iterable)\n",
    "print(type(result))  # it's a map type\n",
    "\n",
    "print(list(result))  # we've converted it to list type to print\n",
    "\n",
    "print(list(map(lambda x:x**2, iterable)))  # you can print directly"
   ]
  },
  {
   "cell_type": "code",
   "execution_count": 67,
   "id": "2cc2b52a",
   "metadata": {},
   "outputs": [
    {
     "name": "stdout",
     "output_type": "stream",
     "text": [
      "[1, 4, 9, 16, 25]\n"
     ]
    }
   ],
   "source": [
    "def square(n):   # at least two additional lines of code\n",
    "    return n**2  \n",
    "  \n",
    "iterable = [1, 2, 3, 4, 5]\n",
    "result = map(square, iterable) \n",
    "print(list(result))"
   ]
  },
  {
   "cell_type": "code",
   "execution_count": 68,
   "id": "8ce9a167",
   "metadata": {},
   "outputs": [
    {
     "name": "stdout",
     "output_type": "stream",
     "text": [
      "['one', 'six', 'ten', 'two']\n"
     ]
    }
   ],
   "source": [
    "letter1 = ['o', 's', 't', 't']\n",
    "letter2 = ['n', 'i', 'e', 'w']\n",
    "letter3 = ['e', 'x', 'n', 'o']\n",
    "numbers = map(lambda x, y, z: x+y+z, letter1, letter2, letter3)\n",
    "\n",
    "print(list(numbers))"
   ]
  },
  {
   "cell_type": "code",
   "execution_count": 69,
   "id": "6f41fdd6",
   "metadata": {},
   "outputs": [
    {
     "name": "stdout",
     "output_type": "stream",
     "text": [
      "<class 'filter'>\n",
      "Even numbers are : [0, 2, 4, 6, 8]\n"
     ]
    }
   ],
   "source": [
    "first_ten = [0, 1, 2, 3, 4, 5, 6, 7, 8, 9] \n",
    "  \n",
    "even = filter(lambda x:x%2==0, first_ten) \n",
    "print(type(even))  # it's 'filter' type, \n",
    "                   # in order to print the result,\n",
    "                   # we'd better convert it into the list type\n",
    "\n",
    "print('Even numbers are :', list(even))"
   ]
  },
  {
   "cell_type": "code",
   "execution_count": 70,
   "id": "ce5dd1c4",
   "metadata": {},
   "outputs": [
    {
     "name": "stdout",
     "output_type": "stream",
     "text": [
      "Vowels are : ['a', 'e', 'i']\n"
     ]
    }
   ],
   "source": [
    "vowel_list = ['a', 'e', 'i', 'o', 'u']\n",
    "first_ten = ['a', 'b', 'c', 'd', 'e', 'f', 'g', 'h', 'i', 'j']\n",
    "  \n",
    "vowels = filter(lambda x: True if x in vowel_list else False, first_ten) \n",
    "\n",
    "print('Vowels are :', list(vowels))"
   ]
  },
  {
   "cell_type": "code",
   "execution_count": 80,
   "id": "ffe27ea9",
   "metadata": {},
   "outputs": [
    {
     "data": {
      "text/plain": [
       "[6, 7, 8, 9, 10]"
      ]
     },
     "execution_count": 80,
     "metadata": {},
     "output_type": "execute_result"
    }
   ],
   "source": [
    "number_list = [1, 2, 3, 4, 5, 6, 7, 8, 9, 10]\n",
    "\n",
    "result=list(filter(lambda x: x if x >= 6 else False , number_list))\n",
    "result"
   ]
  },
  {
   "cell_type": "code",
   "execution_count": 81,
   "id": "3f390c00",
   "metadata": {},
   "outputs": [
    {
     "name": "stdout",
     "output_type": "stream",
     "text": [
      "4\n",
      "8\n",
      "16\n"
     ]
    }
   ],
   "source": [
    "def modular_function(n):\n",
    "    return lambda x: x ** n\n",
    "    \n",
    "power_of_2 = modular_function(2)  # first sub-function derived from def\n",
    "power_of_3 = modular_function(3)  # second sub-function derived from def\n",
    "power_of_4 = modular_function(4)  # third sub-function derived from def\n",
    "\n",
    "print(power_of_2(2))  # 2 to the power of 2\n",
    "print(power_of_3(2))  # 2 to the power of 3\n",
    "print(power_of_4(2))  # 2 to the power of 4"
   ]
  },
  {
   "cell_type": "code",
   "execution_count": 82,
   "id": "454ae932",
   "metadata": {},
   "outputs": [
    {
     "name": "stdout",
     "output_type": "stream",
     "text": [
      "alex alex \n",
      "lara lara lara \n",
      "linda linda linda linda \n"
     ]
    }
   ],
   "source": [
    "def repeater(n):\n",
    "    return lambda x: x * n\n",
    "    \n",
    "repeat_2_times = repeater(2)  # repeats 2 times\n",
    "repeat_3_times = repeater(3)  # repeats 3 times\n",
    "repeat_4_times = repeater(4)  # repeats 4 times\n",
    "\n",
    "print(repeat_2_times('alex '))\n",
    "print(repeat_3_times('lara '))\n",
    "print(repeat_4_times('linda '))"
   ]
  },
  {
   "cell_type": "code",
   "execution_count": 84,
   "id": "04cb15d3",
   "metadata": {},
   "outputs": [
    {
     "data": {
      "text/plain": [
       "20"
      ]
     },
     "execution_count": 84,
     "metadata": {},
     "output_type": "execute_result"
    }
   ],
   "source": [
    "def sum_double(x, y):\n",
    "    if x == y:\n",
    "        return (x+y)*2\n",
    "    else :\n",
    "        return(x+y)\n",
    "sum_double(5,5)"
   ]
  },
  {
   "cell_type": "code",
   "execution_count": 87,
   "id": "c23052d3",
   "metadata": {},
   "outputs": [
    {
     "name": "stdout",
     "output_type": "stream",
     "text": [
      "True\n"
     ]
    }
   ],
   "source": [
    "def parrot_trouble(talking, hour):\n",
    "    return (talking and (hour < 6 or hour > 21))\n",
    "  # Need extra parenthesis around the or clause\n",
    "  # since and binds more tightly than or.\n",
    "  # and is like arithmetic *, or is like arithmetic +\n",
    "print(parrot_trouble(True, 5))"
   ]
  },
  {
   "cell_type": "code",
   "execution_count": 112,
   "id": "a31d6712",
   "metadata": {},
   "outputs": [
    {
     "name": "stdout",
     "output_type": "stream",
     "text": [
      "not sugar\n",
      "None\n"
     ]
    }
   ],
   "source": [
    "def not_string(word):\n",
    "    first_word = word.split(\" \")[0].lower() \n",
    "\n",
    "    if \"not\" in first_word:\n",
    "        print(word)\n",
    "    else:\n",
    "        print(\"not \" + word)\n",
    "        \n",
    "print(not_string('not sugar'))\n",
    "    "
   ]
  },
  {
   "cell_type": "code",
   "execution_count": 110,
   "id": "840f80f9",
   "metadata": {},
   "outputs": [
    {
     "name": "stdout",
     "output_type": "stream",
     "text": [
      "not Bangladesh\n"
     ]
    }
   ],
   "source": [
    "def not_string(str):\n",
    "    try:\n",
    "        first_world = str.split()[0]\n",
    "        if first_world.__contains__('not'):\n",
    "            return str\n",
    "        else:\n",
    "            return 'not '+str\n",
    "    except Exception:\n",
    "        raise ValueError(\"not_string args must be not none and valid string\")\n",
    "    \n",
    "    \n",
    "if __name__ == '__main__':\n",
    "    print(not_string('Bangladesh'))"
   ]
  },
  {
   "cell_type": "code",
   "execution_count": 122,
   "id": "9412d9d6",
   "metadata": {},
   "outputs": [
    {
     "name": "stdout",
     "output_type": "stream",
     "text": [
      "ktchen\n"
     ]
    }
   ],
   "source": [
    "def missing_char(word, n):\n",
    "    front = word[:n]   # up to but not including n\n",
    "    back = word[n+1:]  # n+1 through end of string\n",
    "    return front + back \n",
    "\n",
    "print(missing_char('kitchen', 1))\n",
    "    "
   ]
  },
  {
   "cell_type": "code",
   "execution_count": 153,
   "id": "16c194ea",
   "metadata": {},
   "outputs": [
    {
     "name": "stdout",
     "output_type": "stream",
     "text": [
      "a\n"
     ]
    }
   ],
   "source": [
    "def front_back(word):\n",
    "    \n",
    "    if len(word) == 1:\n",
    "        return word\n",
    "    else: \n",
    "       \n",
    "        back= word[(len(word))-1::]\n",
    "        middle= word[1:(len(word)-1):] \n",
    "        front= word[0:1:]\n",
    "    return (back+middle+front)\n",
    "    \n",
    "print(front_back('a'))"
   ]
  },
  {
   "cell_type": "code",
   "execution_count": null,
   "id": "cca6a2b8",
   "metadata": {},
   "outputs": [],
   "source": [
    "def front_back(word):\n",
    "    \n",
    "    if len(word) == 1:\n",
    "        print(word)\n",
    "    else: \n",
    "       \n",
    "        back= word[(len(word))-1::]\n",
    "        middle= word[1:(len(word)-1):] \n",
    "        front= word[0:1:]\n",
    "    return (back+middle+front)\n",
    "    \n",
    "print(front_back('a'))"
   ]
  },
  {
   "cell_type": "code",
   "execution_count": 169,
   "id": "f952d256",
   "metadata": {},
   "outputs": [
    {
     "name": "stdout",
     "output_type": "stream",
     "text": [
      "-100\n"
     ]
    }
   ],
   "source": [
    "def my_min(*num):\n",
    "    return min(num)\n",
    "\n",
    "print(my_min(-100))"
   ]
  },
  {
   "cell_type": "code",
   "execution_count": 170,
   "id": "0b2d134f",
   "metadata": {},
   "outputs": [
    {
     "name": "stdout",
     "output_type": "stream",
     "text": [
      "4\n"
     ]
    }
   ],
   "source": [
    "def count_greater(xs,v):\n",
    "    return sum([item >= v for item in xs])\n",
    "\n",
    "print (count_greater([12,0,20,34,0,20],3))"
   ]
  },
  {
   "cell_type": "code",
   "execution_count": 171,
   "id": "6b1f5cbf",
   "metadata": {},
   "outputs": [
    {
     "name": "stdout",
     "output_type": "stream",
     "text": [
      "60\n"
     ]
    }
   ],
   "source": [
    "def my_sum(*num):\n",
    "    return sum(num)\n",
    "print(my_sum(10, -20, 30, 40))"
   ]
  },
  {
   "cell_type": "code",
   "execution_count": 176,
   "id": "e3dbabfa",
   "metadata": {},
   "outputs": [
    {
     "name": "stdout",
     "output_type": "stream",
     "text": [
      "120\n"
     ]
    }
   ],
   "source": [
    "def my_fact(n):\n",
    "    fact = 1\n",
    "    for num in range(2, n + 1):\n",
    "        fact *= num\n",
    "    return fact\n",
    "print(my_fact(5))"
   ]
  },
  {
   "cell_type": "code",
   "execution_count": 177,
   "id": "2c90d129",
   "metadata": {},
   "outputs": [
    {
     "name": "stdout",
     "output_type": "stream",
     "text": [
      "!\"#$%&'()*+,-./:;<=>?@[\\]^_`{|}~\n",
      "0123456789\n"
     ]
    }
   ],
   "source": [
    "import string as stg  # we've used alias for 'string' module\n",
    "\n",
    "print(stg.punctuation)  # prints all available punctuation marks\n",
    "print(stg.digits)  # prints all the digits"
   ]
  },
  {
   "cell_type": "code",
   "execution_count": 178,
   "id": "4d5aba54",
   "metadata": {},
   "outputs": [
    {
     "name": "stdout",
     "output_type": "stream",
     "text": [
      "2021-09-10\n",
      "2021-09-10 20:28:58.223357\n"
     ]
    }
   ],
   "source": [
    "import datetime\n",
    "\n",
    "print(datetime.date.today())  # prints today's date (yyyy-mm-dd)\n",
    "print(datetime.datetime.now())  # prints the current time in microseconds"
   ]
  },
  {
   "cell_type": "code",
   "execution_count": 179,
   "id": "c3521662",
   "metadata": {},
   "outputs": [
    {
     "name": "stdout",
     "output_type": "stream",
     "text": [
      "hello\n",
      "9\n",
      "c l a r u s w a y\n"
     ]
    }
   ],
   "source": [
    "\"\"\" this is my first module & script \"\"\"\n",
    "\n",
    "def my_func1(x):\n",
    "    return print(x**2)\n",
    "\n",
    "def my_func2(y):\n",
    "    return print(*y)\n",
    "\n",
    "if __name__ == '__main__':  # output-generating statements are here\n",
    "    print('hello')\n",
    "    my_func1(3)\n",
    "    my_func2(\"clarusway\")"
   ]
  },
  {
   "cell_type": "code",
   "execution_count": null,
   "id": "a7c150ab",
   "metadata": {},
   "outputs": [],
   "source": [
    "#def my_function_1(a, b):\n",
    "#    area = a * b\n",
    "#    return area\n",
    "\n",
    "from module import my_function_1\n",
    "\n",
    "area_1 = my_function_1(3,4)\n",
    "area_2 = my_function_1(5,6)\n",
    "area_3 = my_function_1(6,8)"
   ]
  },
  {
   "cell_type": "code",
   "execution_count": null,
   "id": "8e377870",
   "metadata": {},
   "outputs": [],
   "source": [
    "#def my_function_2(a, b):\n",
    "#    hypotenuse = (a**2 + b**2)**0.5\n",
    "#    return hypotenuse\n",
    "\n",
    "from module import my_function_2\n",
    "\n",
    "hypotenuse_1 = my_function_2(3,4)\n",
    "hypotenuse_2 = my_function_2(6,8)\n",
    "hypotenuse_3 = my_function_2(9,12)"
   ]
  },
  {
   "cell_type": "code",
   "execution_count": 180,
   "id": "3e488a4e",
   "metadata": {},
   "outputs": [
    {
     "data": {
      "text/plain": [
       "'C:\\\\Users\\\\HP\\\\IT_NOTES\\\\PYTHON_NOTESS'"
      ]
     },
     "execution_count": 180,
     "metadata": {},
     "output_type": "execute_result"
    }
   ],
   "source": [
    "pwd"
   ]
  },
  {
   "cell_type": "code",
   "execution_count": 181,
   "id": "5e91598b",
   "metadata": {},
   "outputs": [],
   "source": [
    "from upper_package import my_package_1,my_package_2"
   ]
  },
  {
   "cell_type": "code",
   "execution_count": 182,
   "id": "df70a05e",
   "metadata": {},
   "outputs": [],
   "source": [
    "from upper_package.my_package_1 import my_module_1, my_module_2"
   ]
  },
  {
   "cell_type": "code",
   "execution_count": 183,
   "id": "c0081957",
   "metadata": {},
   "outputs": [
    {
     "data": {
      "text/plain": [
       "['__builtins__',\n",
       " '__cached__',\n",
       " '__doc__',\n",
       " '__file__',\n",
       " '__loader__',\n",
       " '__name__',\n",
       " '__package__',\n",
       " '__path__',\n",
       " '__spec__',\n",
       " 'my_module_1',\n",
       " 'my_module_2']"
      ]
     },
     "execution_count": 183,
     "metadata": {},
     "output_type": "execute_result"
    }
   ],
   "source": [
    "dir(my_package_1)"
   ]
  },
  {
   "cell_type": "code",
   "execution_count": 184,
   "id": "7e3a0bd1",
   "metadata": {},
   "outputs": [],
   "source": [
    "from upper_package.my_package_2 import my_module_3,my_module_4"
   ]
  },
  {
   "cell_type": "code",
   "execution_count": 185,
   "id": "6b6c8b8c",
   "metadata": {},
   "outputs": [
    {
     "data": {
      "text/plain": [
       "['__builtins__',\n",
       " '__cached__',\n",
       " '__doc__',\n",
       " '__file__',\n",
       " '__loader__',\n",
       " '__name__',\n",
       " '__package__',\n",
       " '__path__',\n",
       " '__spec__',\n",
       " 'my_module_3',\n",
       " 'my_module_4']"
      ]
     },
     "execution_count": 185,
     "metadata": {},
     "output_type": "execute_result"
    }
   ],
   "source": [
    "dir(my_package_2)"
   ]
  },
  {
   "cell_type": "code",
   "execution_count": 186,
   "id": "628023bc",
   "metadata": {},
   "outputs": [
    {
     "data": {
      "text/plain": [
       "3.0"
      ]
     },
     "execution_count": 186,
     "metadata": {},
     "output_type": "execute_result"
    }
   ],
   "source": [
    "my_module_2.divide(12,4)"
   ]
  },
  {
   "cell_type": "code",
   "execution_count": 187,
   "id": "c760d751",
   "metadata": {},
   "outputs": [
    {
     "data": {
      "text/plain": [
       "-15"
      ]
     },
     "execution_count": 187,
     "metadata": {},
     "output_type": "execute_result"
    }
   ],
   "source": [
    "my_module_1.addition(10,-25)"
   ]
  },
  {
   "cell_type": "code",
   "execution_count": 190,
   "id": "0b8a327b",
   "metadata": {},
   "outputs": [
    {
     "data": {
      "text/plain": [
       "'alialiali'"
      ]
     },
     "execution_count": 190,
     "metadata": {},
     "output_type": "execute_result"
    }
   ],
   "source": [
    "my_module_3.repeater(\"ali\",3)"
   ]
  },
  {
   "cell_type": "code",
   "execution_count": 192,
   "id": "218f8337",
   "metadata": {},
   "outputs": [
    {
     "data": {
      "text/plain": [
       "'Merhaba Dünya'"
      ]
     },
     "execution_count": 192,
     "metadata": {},
     "output_type": "execute_result"
    }
   ],
   "source": [
    "my_module_3.concat_str(\"Merhaba \",\"Dünya\")"
   ]
  },
  {
   "cell_type": "code",
   "execution_count": 193,
   "id": "44ce61d9",
   "metadata": {},
   "outputs": [
    {
     "data": {
      "text/plain": [
       "ModuleSpec(name='upper_package.my_package_1', loader=<_frozen_importlib_external.SourceFileLoader object at 0x000001A8169B9280>, origin='C:\\\\Users\\\\HP\\\\IT_NOTES\\\\PYTHON_NOTESS\\\\upper_package\\\\my_package_1\\\\__init__.py', submodule_search_locations=['C:\\\\Users\\\\HP\\\\IT_NOTES\\\\PYTHON_NOTESS\\\\upper_package\\\\my_package_1'])"
      ]
     },
     "execution_count": 193,
     "metadata": {},
     "output_type": "execute_result"
    }
   ],
   "source": [
    "my_package_1.__spec__"
   ]
  },
  {
   "cell_type": "code",
   "execution_count": 195,
   "id": "dfd714bf",
   "metadata": {},
   "outputs": [],
   "source": [
    "import upper_package"
   ]
  },
  {
   "cell_type": "code",
   "execution_count": 197,
   "id": "80d8b371",
   "metadata": {},
   "outputs": [
    {
     "data": {
      "text/plain": [
       "['__builtins__',\n",
       " '__cached__',\n",
       " '__doc__',\n",
       " '__file__',\n",
       " '__loader__',\n",
       " '__name__',\n",
       " '__package__',\n",
       " '__path__',\n",
       " '__spec__',\n",
       " 'my_package_1',\n",
       " 'my_package_2']"
      ]
     },
     "execution_count": 197,
     "metadata": {},
     "output_type": "execute_result"
    }
   ],
   "source": [
    "dir(upper_package)"
   ]
  },
  {
   "cell_type": "code",
   "execution_count": 198,
   "id": "fff6c583",
   "metadata": {},
   "outputs": [],
   "source": [
    "from upper_package.my_package_1.my_module_2 import divide,hello"
   ]
  },
  {
   "cell_type": "code",
   "execution_count": 200,
   "id": "f38a8a79",
   "metadata": {},
   "outputs": [
    {
     "name": "stdout",
     "output_type": "stream",
     "text": [
      "hello\n"
     ]
    }
   ],
   "source": [
    "hello()"
   ]
  },
  {
   "cell_type": "code",
   "execution_count": 201,
   "id": "7a52e0c9",
   "metadata": {},
   "outputs": [
    {
     "data": {
      "text/plain": [
       "9.0"
      ]
     },
     "execution_count": 201,
     "metadata": {},
     "output_type": "execute_result"
    }
   ],
   "source": [
    "divide(18,2)"
   ]
  },
  {
   "cell_type": "code",
   "execution_count": 202,
   "id": "a1e6dfca",
   "metadata": {},
   "outputs": [],
   "source": [
    "import math"
   ]
  },
  {
   "cell_type": "code",
   "execution_count": 203,
   "id": "f4d9cd5e",
   "metadata": {},
   "outputs": [
    {
     "name": "stdout",
     "output_type": "stream",
     "text": [
      "This module provides access to the mathematical functions\n",
      "defined by the C standard.\n"
     ]
    }
   ],
   "source": [
    "print(math.__doc__)"
   ]
  },
  {
   "cell_type": "code",
   "execution_count": 204,
   "id": "78742cb4",
   "metadata": {},
   "outputs": [
    {
     "name": "stdout",
     "output_type": "stream",
     "text": [
      "\n",
      "This is module 2. Welcome!\n",
      "\n"
     ]
    }
   ],
   "source": [
    "print(my_module_2.__doc__)"
   ]
  },
  {
   "cell_type": "code",
   "execution_count": 205,
   "id": "bf322006",
   "metadata": {},
   "outputs": [
    {
     "name": "stdout",
     "output_type": "stream",
     "text": [
      "Here we go!\n",
      "I will be the second text\n",
      "It is time for an error message :(\n"
     ]
    },
    {
     "ename": "TypeError",
     "evalue": "can only concatenate str (not \"int\") to str",
     "output_type": "error",
     "traceback": [
      "\u001b[1;31m---------------------------------------------------------------------------\u001b[0m",
      "\u001b[1;31mTypeError\u001b[0m                                 Traceback (most recent call last)",
      "\u001b[1;32m<ipython-input-205-a8bfc29e0ece>\u001b[0m in \u001b[0;36m<module>\u001b[1;34m\u001b[0m\n\u001b[0;32m      4\u001b[0m \u001b[0mb\u001b[0m \u001b[1;33m=\u001b[0m \u001b[1;36m5\u001b[0m\u001b[1;33m\u001b[0m\u001b[1;33m\u001b[0m\u001b[0m\n\u001b[0;32m      5\u001b[0m \u001b[0mprint\u001b[0m\u001b[1;33m(\u001b[0m\u001b[1;34m'It is time for an error message :('\u001b[0m\u001b[1;33m)\u001b[0m\u001b[1;33m\u001b[0m\u001b[1;33m\u001b[0m\u001b[0m\n\u001b[1;32m----> 6\u001b[1;33m \u001b[0mprint\u001b[0m\u001b[1;33m(\u001b[0m\u001b[0ma\u001b[0m \u001b[1;33m+\u001b[0m \u001b[0mb\u001b[0m\u001b[1;33m)\u001b[0m  \u001b[1;31m# it won't be printed\u001b[0m\u001b[1;33m\u001b[0m\u001b[1;33m\u001b[0m\u001b[0m\n\u001b[0m\u001b[0;32m      7\u001b[0m \u001b[0mprint\u001b[0m\u001b[1;33m(\u001b[0m\u001b[1;34m\"Sorry, but I won't be printed\"\u001b[0m\u001b[1;33m)\u001b[0m  \u001b[1;31m# it won't be printed\u001b[0m\u001b[1;33m\u001b[0m\u001b[1;33m\u001b[0m\u001b[0m\n",
      "\u001b[1;31mTypeError\u001b[0m: can only concatenate str (not \"int\") to str"
     ]
    }
   ],
   "source": [
    "print('Here we go!')\n",
    "print('I will be the second text')\n",
    "a = '3'\n",
    "b = 5\n",
    "print('It is time for an error message :(')\n",
    "print(a + b)  # it won't be printed\n",
    "print(\"Sorry, but I won't be printed\")  # it won't be printed"
   ]
  },
  {
   "cell_type": "code",
   "execution_count": 206,
   "id": "1dfb07c2",
   "metadata": {},
   "outputs": [
    {
     "ename": "ValueError",
     "evalue": "invalid literal for int() with base 10: 'ten'",
     "output_type": "error",
     "traceback": [
      "\u001b[1;31m---------------------------------------------------------------------------\u001b[0m",
      "\u001b[1;31mValueError\u001b[0m                                Traceback (most recent call last)",
      "\u001b[1;32m<ipython-input-206-1fe0c5042e33>\u001b[0m in \u001b[0;36m<module>\u001b[1;34m\u001b[0m\n\u001b[1;32m----> 1\u001b[1;33m \u001b[0mprint\u001b[0m\u001b[1;33m(\u001b[0m\u001b[0mint\u001b[0m\u001b[1;33m(\u001b[0m\u001b[1;34m'ten'\u001b[0m\u001b[1;33m)\u001b[0m\u001b[1;33m)\u001b[0m\u001b[1;33m\u001b[0m\u001b[1;33m\u001b[0m\u001b[0m\n\u001b[0m",
      "\u001b[1;31mValueError\u001b[0m: invalid literal for int() with base 10: 'ten'"
     ]
    }
   ],
   "source": [
    "print(int('ten'))"
   ]
  },
  {
   "cell_type": "code",
   "execution_count": 208,
   "id": "a2a3439d",
   "metadata": {},
   "outputs": [
    {
     "name": "stdout",
     "output_type": "stream",
     "text": [
      "Don't ever give up!\n"
     ]
    }
   ],
   "source": [
    "print(variable)\n",
    "variable = \"Don't ever give up!\""
   ]
  },
  {
   "cell_type": "code",
   "execution_count": 209,
   "id": "ba61a223",
   "metadata": {},
   "outputs": [
    {
     "ename": "TypeError",
     "evalue": "'str' object cannot be interpreted as an integer",
     "output_type": "error",
     "traceback": [
      "\u001b[1;31m---------------------------------------------------------------------------\u001b[0m",
      "\u001b[1;31mTypeError\u001b[0m                                 Traceback (most recent call last)",
      "\u001b[1;32m<ipython-input-209-6dc3a9759f2b>\u001b[0m in \u001b[0;36m<module>\u001b[1;34m\u001b[0m\n\u001b[1;32m----> 1\u001b[1;33m \u001b[1;32mfor\u001b[0m \u001b[0mi\u001b[0m \u001b[1;32min\u001b[0m \u001b[0mrange\u001b[0m\u001b[1;33m(\u001b[0m\u001b[1;34m'x'\u001b[0m\u001b[1;33m)\u001b[0m\u001b[1;33m:\u001b[0m\u001b[1;33m\u001b[0m\u001b[1;33m\u001b[0m\u001b[0m\n\u001b[0m\u001b[0;32m      2\u001b[0m     \u001b[0mprint\u001b[0m\u001b[1;33m(\u001b[0m\u001b[0mi\u001b[0m\u001b[1;33m)\u001b[0m\u001b[1;33m\u001b[0m\u001b[1;33m\u001b[0m\u001b[0m\n",
      "\u001b[1;31mTypeError\u001b[0m: 'str' object cannot be interpreted as an integer"
     ]
    }
   ],
   "source": [
    "for i in range('x'):\n",
    "    print(i)"
   ]
  },
  {
   "cell_type": "code",
   "execution_count": 211,
   "id": "53da5e9a",
   "metadata": {},
   "outputs": [
    {
     "name": "stdout",
     "output_type": "stream",
     "text": [
      "The first number please : 10\n",
      "The second number please : 0\n"
     ]
    },
    {
     "ename": "ZeroDivisionError",
     "evalue": "division by zero",
     "output_type": "error",
     "traceback": [
      "\u001b[1;31m---------------------------------------------------------------------------\u001b[0m",
      "\u001b[1;31mZeroDivisionError\u001b[0m                         Traceback (most recent call last)",
      "\u001b[1;32m<ipython-input-211-71c23077dd83>\u001b[0m in \u001b[0;36m<module>\u001b[1;34m\u001b[0m\n\u001b[0;32m      2\u001b[0m     \u001b[0mno_one\u001b[0m \u001b[1;33m=\u001b[0m \u001b[0mint\u001b[0m\u001b[1;33m(\u001b[0m\u001b[0minput\u001b[0m\u001b[1;33m(\u001b[0m\u001b[1;34m\"The first number please : \"\u001b[0m\u001b[1;33m)\u001b[0m\u001b[1;33m)\u001b[0m\u001b[1;33m\u001b[0m\u001b[1;33m\u001b[0m\u001b[0m\n\u001b[0;32m      3\u001b[0m     \u001b[0mno_two\u001b[0m \u001b[1;33m=\u001b[0m \u001b[0mint\u001b[0m\u001b[1;33m(\u001b[0m\u001b[0minput\u001b[0m\u001b[1;33m(\u001b[0m\u001b[1;34m\"The second number please : \"\u001b[0m\u001b[1;33m)\u001b[0m\u001b[1;33m)\u001b[0m\u001b[1;33m\u001b[0m\u001b[1;33m\u001b[0m\u001b[0m\n\u001b[1;32m----> 4\u001b[1;33m     \u001b[0mdivision\u001b[0m \u001b[1;33m=\u001b[0m \u001b[0mno_one\u001b[0m \u001b[1;33m/\u001b[0m \u001b[0mno_two\u001b[0m\u001b[1;33m\u001b[0m\u001b[1;33m\u001b[0m\u001b[0m\n\u001b[0m\u001b[0;32m      5\u001b[0m     \u001b[0mprint\u001b[0m\u001b[1;33m(\u001b[0m\u001b[1;34m\"The result of the division is : \"\u001b[0m\u001b[1;33m,\u001b[0m \u001b[0mdivision\u001b[0m\u001b[1;33m)\u001b[0m\u001b[1;33m\u001b[0m\u001b[1;33m\u001b[0m\u001b[0m\n\u001b[0;32m      6\u001b[0m     \u001b[1;32mbreak\u001b[0m\u001b[1;33m\u001b[0m\u001b[1;33m\u001b[0m\u001b[0m\n",
      "\u001b[1;31mZeroDivisionError\u001b[0m: division by zero"
     ]
    }
   ],
   "source": [
    "while True:\n",
    "    no_one = int(input(\"The first number please : \"))\n",
    "    no_two = int(input(\"The second number please : \"))\n",
    "    division = no_one / no_two\n",
    "    print(\"The result of the division is : \", division)\n",
    "    break"
   ]
  },
  {
   "cell_type": "code",
   "execution_count": 212,
   "id": "2db03761",
   "metadata": {},
   "outputs": [
    {
     "name": "stdout",
     "output_type": "stream",
     "text": [
      "The first number please : 10\n",
      "The second number please : 0\n",
      "Something went wrong...Try again.\n",
      "The first number please : 5\n",
      "The second number please : 5\n",
      "The result of the division is :  1.0\n"
     ]
    }
   ],
   "source": [
    "while True:\n",
    "    no_one = int(input(\"The first number please : \"))\n",
    "    no_two = int(input(\"The second number please : \"))\n",
    "    try:\n",
    "        division = no_one / no_two\n",
    "        print(\"The result of the division is : \", division)\n",
    "        break\n",
    "    except:\n",
    "        print(\"Something went wrong...Try again.\")"
   ]
  },
  {
   "cell_type": "code",
   "execution_count": null,
   "id": "c3780d74",
   "metadata": {},
   "outputs": [],
   "source": [
    "while True:\n",
    "    no_one = int(input(\"The first number please : \"))\n",
    "    no_two = int(input(\"The second number please : \"))\n",
    "    try:\n",
    "        division = no_one / no_two\n",
    "        print(\"The result of the division is : \", division)\n",
    "        break\n",
    "    except ZeroDivisionError:\n",
    "        print(\"You can't divide by zero! Try again.\")"
   ]
  },
  {
   "cell_type": "code",
   "execution_count": 3,
   "id": "4d5d8aaf",
   "metadata": {},
   "outputs": [
    {
     "name": "stdout",
     "output_type": "stream",
     "text": [
      "The first number please : 7\n",
      "The second number please : k\n"
     ]
    },
    {
     "ename": "ValueError",
     "evalue": "invalid literal for int() with base 10: 'k'",
     "output_type": "error",
     "traceback": [
      "\u001b[1;31m---------------------------------------------------------------------------\u001b[0m",
      "\u001b[1;31mValueError\u001b[0m                                Traceback (most recent call last)",
      "\u001b[1;32m<ipython-input-3-5fd297d1c219>\u001b[0m in \u001b[0;36m<module>\u001b[1;34m\u001b[0m\n\u001b[0;32m      1\u001b[0m \u001b[1;32mwhile\u001b[0m \u001b[1;32mTrue\u001b[0m\u001b[1;33m:\u001b[0m\u001b[1;33m\u001b[0m\u001b[1;33m\u001b[0m\u001b[0m\n\u001b[0;32m      2\u001b[0m     \u001b[0mno_one\u001b[0m \u001b[1;33m=\u001b[0m \u001b[0mint\u001b[0m\u001b[1;33m(\u001b[0m\u001b[0minput\u001b[0m\u001b[1;33m(\u001b[0m\u001b[1;34m\"The first number please : \"\u001b[0m\u001b[1;33m)\u001b[0m\u001b[1;33m)\u001b[0m\u001b[1;33m\u001b[0m\u001b[1;33m\u001b[0m\u001b[0m\n\u001b[1;32m----> 3\u001b[1;33m     \u001b[0mno_two\u001b[0m \u001b[1;33m=\u001b[0m \u001b[0mint\u001b[0m\u001b[1;33m(\u001b[0m\u001b[0minput\u001b[0m\u001b[1;33m(\u001b[0m\u001b[1;34m\"The second number please : \"\u001b[0m\u001b[1;33m)\u001b[0m\u001b[1;33m)\u001b[0m\u001b[1;33m\u001b[0m\u001b[1;33m\u001b[0m\u001b[0m\n\u001b[0m\u001b[0;32m      4\u001b[0m     \u001b[1;32mtry\u001b[0m\u001b[1;33m:\u001b[0m\u001b[1;33m\u001b[0m\u001b[1;33m\u001b[0m\u001b[0m\n\u001b[0;32m      5\u001b[0m         \u001b[0mdivision\u001b[0m \u001b[1;33m=\u001b[0m \u001b[0mno_one\u001b[0m \u001b[1;33m/\u001b[0m \u001b[0mno_two\u001b[0m  \u001b[1;31m# normal part of the program\u001b[0m\u001b[1;33m\u001b[0m\u001b[1;33m\u001b[0m\u001b[0m\n",
      "\u001b[1;31mValueError\u001b[0m: invalid literal for int() with base 10: 'k'"
     ]
    }
   ],
   "source": [
    "while True:\n",
    "    no_one = int(input(\"The first number please : \"))\n",
    "    no_two = int(input(\"The second number please : \"))\n",
    "    try:\n",
    "        division = no_one / no_two  # normal part of the program\n",
    "    except ZeroDivisionError:\n",
    "        print(\"You can't divide by zero! Try again.\")  # executes when division by zero\n",
    "    else:\n",
    "        print(\"The result of the division is : \", division)  # executes if there is no exception\n",
    "    finally:\n",
    "        print(\"Thanks for using our mini divison calculator! Come again!\")\n",
    "        break  # exits the while loop"
   ]
  },
  {
   "cell_type": "code",
   "execution_count": 6,
   "id": "a4157704",
   "metadata": {},
   "outputs": [
    {
     "name": "stdout",
     "output_type": "stream",
     "text": [
      "The first number please : 7\n",
      "The second number please : k\n"
     ]
    },
    {
     "ename": "ValueError",
     "evalue": "invalid literal for int() with base 10: 'k'",
     "output_type": "error",
     "traceback": [
      "\u001b[1;31m---------------------------------------------------------------------------\u001b[0m",
      "\u001b[1;31mValueError\u001b[0m                                Traceback (most recent call last)",
      "\u001b[1;32m<ipython-input-6-decf0d44b610>\u001b[0m in \u001b[0;36m<module>\u001b[1;34m\u001b[0m\n\u001b[0;32m      1\u001b[0m \u001b[1;32mwhile\u001b[0m \u001b[1;32mTrue\u001b[0m\u001b[1;33m:\u001b[0m\u001b[1;33m\u001b[0m\u001b[1;33m\u001b[0m\u001b[0m\n\u001b[0;32m      2\u001b[0m     \u001b[0mno_one\u001b[0m \u001b[1;33m=\u001b[0m \u001b[0mint\u001b[0m\u001b[1;33m(\u001b[0m\u001b[0minput\u001b[0m\u001b[1;33m(\u001b[0m\u001b[1;34m\"The first number please : \"\u001b[0m\u001b[1;33m)\u001b[0m\u001b[1;33m)\u001b[0m\u001b[1;33m\u001b[0m\u001b[1;33m\u001b[0m\u001b[0m\n\u001b[1;32m----> 3\u001b[1;33m     \u001b[0mno_two\u001b[0m \u001b[1;33m=\u001b[0m \u001b[0mint\u001b[0m\u001b[1;33m(\u001b[0m\u001b[0minput\u001b[0m\u001b[1;33m(\u001b[0m\u001b[1;34m\"The second number please : \"\u001b[0m\u001b[1;33m)\u001b[0m\u001b[1;33m)\u001b[0m\u001b[1;33m\u001b[0m\u001b[1;33m\u001b[0m\u001b[0m\n\u001b[0m\u001b[0;32m      4\u001b[0m     \u001b[1;32mtry\u001b[0m\u001b[1;33m:\u001b[0m\u001b[1;33m\u001b[0m\u001b[1;33m\u001b[0m\u001b[0m\n\u001b[0;32m      5\u001b[0m         \u001b[0mdivision\u001b[0m \u001b[1;33m=\u001b[0m \u001b[0mno_one\u001b[0m \u001b[1;33m/\u001b[0m \u001b[0mno_two\u001b[0m\u001b[1;33m\u001b[0m\u001b[1;33m\u001b[0m\u001b[0m\n",
      "\u001b[1;31mValueError\u001b[0m: invalid literal for int() with base 10: 'k'"
     ]
    }
   ],
   "source": [
    "while True:\n",
    "    no_one = int(input(\"The first number please : \"))\n",
    "    no_two = int(input(\"The second number please : \"))\n",
    "    try:\n",
    "        division = no_one / no_two\n",
    "        print(\"The result of the division is : \", division)\n",
    "        break\n",
    "    except Exception as e:\n",
    "        print(\"Something went wrong...Try again.\")\n",
    "        print(\"Probably it is because of '{}' error\".format(e))\n",
    "        break"
   ]
  },
  {
   "cell_type": "code",
   "execution_count": 7,
   "id": "0535bb22",
   "metadata": {},
   "outputs": [
    {
     "name": "stdout",
     "output_type": "stream",
     "text": [
      "The error message is :  name 'c' is not defined\n"
     ]
    }
   ],
   "source": [
    "try :\n",
    "    a = 10\n",
    "    b = 2\n",
    "    print(\"The result of division is :\", c)\n",
    "except Exception as e:\n",
    "    print(\"The error message is : \", e)"
   ]
  },
  {
   "cell_type": "code",
   "execution_count": 8,
   "id": "a397d311",
   "metadata": {},
   "outputs": [
    {
     "name": "stdout",
     "output_type": "stream",
     "text": [
      "Nothing went wrong\n"
     ]
    }
   ],
   "source": [
    "try:\n",
    "    x = 4 / 1\n",
    "except:\n",
    "    print('Something went wrong')\n",
    "else:\n",
    "    print('Nothing went wrong')"
   ]
  },
  {
   "cell_type": "code",
   "execution_count": 9,
   "id": "1a33ebef",
   "metadata": {},
   "outputs": [
    {
     "name": "stdout",
     "output_type": "stream",
     "text": [
      "Something went wrong\n",
      "Always execute this\n"
     ]
    }
   ],
   "source": [
    "try:\n",
    "\tx = 3 / 0\n",
    "except:\n",
    "\tprint('Something went wrong')\n",
    "finally:\n",
    "\tprint('Always execute this')"
   ]
  },
  {
   "cell_type": "code",
   "execution_count": 11,
   "id": "ba6f68ac",
   "metadata": {},
   "outputs": [
    {
     "name": "stdout",
     "output_type": "stream",
     "text": [
      "Something went wrong\n"
     ]
    },
    {
     "ename": "NameError",
     "evalue": "name 'f' is not defined",
     "output_type": "error",
     "traceback": [
      "\u001b[1;31m---------------------------------------------------------------------------\u001b[0m",
      "\u001b[1;31mNameError\u001b[0m                                 Traceback (most recent call last)",
      "\u001b[1;32m<ipython-input-11-1b8b2ee345ce>\u001b[0m in \u001b[0;36m<module>\u001b[1;34m\u001b[0m\n\u001b[0;32m      5\u001b[0m     \u001b[0mprint\u001b[0m\u001b[1;33m(\u001b[0m\u001b[1;34m\"Something went wrong\"\u001b[0m\u001b[1;33m)\u001b[0m\u001b[1;33m\u001b[0m\u001b[1;33m\u001b[0m\u001b[0m\n\u001b[0;32m      6\u001b[0m \u001b[1;32mfinally\u001b[0m\u001b[1;33m:\u001b[0m\u001b[1;33m\u001b[0m\u001b[1;33m\u001b[0m\u001b[0m\n\u001b[1;32m----> 7\u001b[1;33m     \u001b[0mf\u001b[0m\u001b[1;33m.\u001b[0m \u001b[0mclose\u001b[0m\u001b[1;33m(\u001b[0m\u001b[1;33m)\u001b[0m\u001b[1;33m\u001b[0m\u001b[1;33m\u001b[0m\u001b[0m\n\u001b[0m",
      "\u001b[1;31mNameError\u001b[0m: name 'f' is not defined"
     ]
    }
   ],
   "source": [
    "try:\n",
    "    f = open('myfile.txt')\n",
    "    print(f.read())\n",
    "except:\n",
    "    print(\"Something went wrong\")\n",
    "finally:\n",
    "    f. close()"
   ]
  },
  {
   "cell_type": "code",
   "execution_count": null,
   "id": "0d7160ad",
   "metadata": {},
   "outputs": [],
   "source": [
    "try:\n",
    "    x = 2/0\n",
    "except ZeroDivisionError:\n",
    "    print('Attempt to divide by zero')\n",
    "except:\n",
    "    print('Something else went wrong')"
   ]
  },
  {
   "cell_type": "code",
   "execution_count": null,
   "id": "46529479",
   "metadata": {},
   "outputs": [],
   "source": [
    "....\n",
    "except:\n",
    "    print(\"Unknown exception error occured. Tyr again please.\")"
   ]
  },
  {
   "cell_type": "code",
   "execution_count": null,
   "id": "9337399b",
   "metadata": {},
   "outputs": [],
   "source": [
    "....\n",
    "except ZeroDivisionError:\n",
    "   print(\"You can't divide by zero!!\")\n",
    "except ValueError:\n",
    "   print(\"You can only enter numbers consisting of digits, not text!!\")"
   ]
  },
  {
   "cell_type": "code",
   "execution_count": null,
   "id": "130af605",
   "metadata": {},
   "outputs": [],
   "source": [
    "....\n",
    "except (ValueError, TypeError):\n",
    "    print(\"You can only enter numbers consisting of digits, not text!!\")"
   ]
  },
  {
   "cell_type": "code",
   "execution_count": 12,
   "id": "41296857",
   "metadata": {},
   "outputs": [
    {
     "name": "stdout",
     "output_type": "stream",
     "text": [
      "Hello\n",
      "Everything is okay\n"
     ]
    }
   ],
   "source": [
    "try:\n",
    "  print(\"Hello\")\n",
    "except:\n",
    "  print(\"Something went wrong\")\n",
    "else:\n",
    "  print(\"Everything is okay\")"
   ]
  },
  {
   "cell_type": "code",
   "execution_count": 13,
   "id": "8e5a4a21",
   "metadata": {},
   "outputs": [
    {
     "name": "stdout",
     "output_type": "stream",
     "text": [
      "4.0\n",
      "The 'try except' is completed\n"
     ]
    }
   ],
   "source": [
    "try:\n",
    "  print(x)\n",
    "except:\n",
    "  print(\"Something is wrong\")\n",
    "finally:\n",
    "  print(\"The 'try except' is completed\")"
   ]
  },
  {
   "cell_type": "code",
   "execution_count": null,
   "id": "56b47945",
   "metadata": {},
   "outputs": [],
   "source": [
    "my_file = open(\"first_file.txt\")  # this syntax opens a 'txt' file \n",
    "\n",
    "print(type(my_file))"
   ]
  },
  {
   "cell_type": "code",
   "execution_count": null,
   "id": "962e4084",
   "metadata": {},
   "outputs": [],
   "source": [
    "my_file = open(\"first_file.txt\", encoding=\"utf-8\")\n",
    "# we've used 'utf8' encoding format just the same as the previous one"
   ]
  },
  {
   "cell_type": "code",
   "execution_count": 14,
   "id": "0c527ddf",
   "metadata": {},
   "outputs": [
    {
     "name": "stdout",
     "output_type": "stream",
     "text": [
      "Orca is a kind of Dolphin.\n",
      "Blue Whale is the largest animal known on earth.\n",
      "Sharks are the sister group to the Rays (batoids).\n",
      "The Tuna Fish can weigh up to 260 kg.\n",
      "Squid and Octopus are in the same class.\n"
     ]
    }
   ],
   "source": [
    "sea = open(\"fishes.txt\", 'r')   \n",
    "\n",
    "print(sea.read())  # displays the entire text content\n",
    "\n",
    "sea.close()  # be sure to close the file"
   ]
  },
  {
   "cell_type": "code",
   "execution_count": 15,
   "id": "a7724f53",
   "metadata": {},
   "outputs": [
    {
     "name": "stdout",
     "output_type": "stream",
     "text": [
      "Orca is a kind of Dolphin.\n",
      "Blue W\n",
      "\n",
      "hale is the largest anima\n",
      "\n",
      "Orca is a kind of Dolphin.\n",
      "Blue W\n",
      "\n",
      "34\n"
     ]
    }
   ],
   "source": [
    "sea = open(\"fishes.txt\", 'r')   \n",
    "\n",
    "print(sea.read(33))  # displays the first 33 chars of the text\n",
    "print()\n",
    "print(sea.read(25))  # displays the next 25 chars of the text\n",
    "print()\n",
    "sea.seek(0)  # changes the stream (cursor) position to zero\n",
    "print(sea.read(33))  # displays the first 33 chars again\n",
    "print()\n",
    "print(sea.tell())  # returns the current stream (cursor) position\n",
    "\n",
    "sea.close()"
   ]
  },
  {
   "cell_type": "code",
   "execution_count": 16,
   "id": "69606e42",
   "metadata": {},
   "outputs": [
    {
     "name": "stdout",
     "output_type": "stream",
     "text": [
      "Orca \n"
     ]
    }
   ],
   "source": [
    "my_file = open(\"fishes.txt\", 'r')   \n",
    "print(my_file.read(5)) \n",
    "my_file.close()"
   ]
  },
  {
   "cell_type": "code",
   "execution_count": 17,
   "id": "9e1fceaa",
   "metadata": {},
   "outputs": [
    {
     "name": "stdout",
     "output_type": "stream",
     "text": [
      "Orca is a kind of Dolphin.\n",
      "\n",
      "Blue Whale is the largest animal known on earth.\n",
      "\n",
      "Sharks are the sister group to the Rays (batoids).\n",
      "\n"
     ]
    }
   ],
   "source": [
    "sea = open(\"fishes.txt\", 'r')   \n",
    "\n",
    "print(sea.readline())  # displays the first line of the text\n",
    "print(sea.readline())  # displays the second line\n",
    "print(sea.readline())  # each time it goes to the new line\n",
    "\n",
    "sea.close()"
   ]
  },
  {
   "cell_type": "code",
   "execution_count": 18,
   "id": "c9f0d4b0",
   "metadata": {},
   "outputs": [
    {
     "name": "stdout",
     "output_type": "stream",
     "text": [
      "Orca is a kin\n",
      "d of Dolphin.\n",
      "\n",
      "\n",
      "Blue Whale is\n"
     ]
    }
   ],
   "source": [
    "sea = open(\"fishes.txt\", 'r')   \n",
    "\n",
    "print(sea.readline(13))\n",
    "print(sea.readline(13))\n",
    "print(sea.readline(13))\n",
    "print(sea.readline(13))\n",
    "\n",
    "sea.close()"
   ]
  },
  {
   "cell_type": "code",
   "execution_count": 19,
   "id": "ec1eea74",
   "metadata": {},
   "outputs": [
    {
     "name": "stdout",
     "output_type": "stream",
     "text": [
      "['Orca is a kind of Dolphin.\\n', 'Blue Whale is the largest animal known on earth.\\n', 'Sharks are the sister group to the Rays (batoids).\\n', 'The Tuna Fish can weigh up to 260 kg.\\n', 'Squid and Octopus are in the same class.']\n"
     ]
    }
   ],
   "source": [
    "sea = open(\"fishes.txt\", 'r')   \n",
    "\n",
    "print(sea.readlines())\n",
    "\n",
    "sea.close()"
   ]
  },
  {
   "cell_type": "code",
   "execution_count": 20,
   "id": "78840232",
   "metadata": {},
   "outputs": [
    {
     "name": "stdout",
     "output_type": "stream",
     "text": [
      "Orca is a kind of Dolphin.\n",
      "\n",
      "['Blue Whale is the largest animal known on earth.\\n', 'Sharks are the sister group to the Rays (batoids).\\n', 'The Tuna Fish can weigh up to 260 kg.\\n', 'Squid and Octopus are in the same class.']\n"
     ]
    }
   ],
   "source": [
    "sea = open(\"fishes.txt\", 'r')   \n",
    "\n",
    "print(sea.readline())  # first line\n",
    "print(sea.readlines())  # the rest of the lines\n",
    "\n",
    "sea.close()"
   ]
  },
  {
   "cell_type": "code",
   "execution_count": 21,
   "id": "2e499653",
   "metadata": {},
   "outputs": [
    {
     "name": "stdout",
     "output_type": "stream",
     "text": [
      "<class 'list'>\n"
     ]
    }
   ],
   "source": [
    "sea = open(\"fishes.txt\", 'r')   \n",
    "\n",
    "print(type(sea.readlines()))\n",
    "\n",
    "sea.close()"
   ]
  },
  {
   "cell_type": "code",
   "execution_count": 22,
   "id": "3b8accc4",
   "metadata": {},
   "outputs": [
    {
     "name": "stdout",
     "output_type": "stream",
     "text": [
      "Orca is a kind of Dolphin.\n",
      "\n",
      "Blue Whale is the largest animal known on earth.\n",
      "\n",
      "Sharks are the sister group to the Rays (batoids).\n",
      "\n",
      "The Tuna Fish can weigh up to 260 kg.\n",
      "\n",
      "Squid and Octopus are in the same class.\n"
     ]
    }
   ],
   "source": [
    "sea = open(\"fishes.txt\", 'r')   \n",
    "\n",
    "for line in sea:\n",
    "    print(line)\n",
    "\n",
    "sea.close()"
   ]
  },
  {
   "cell_type": "code",
   "execution_count": 23,
   "id": "e8320c87",
   "metadata": {},
   "outputs": [
    {
     "name": "stdout",
     "output_type": "stream",
     "text": [
      "Orca is a kind of Dolphin.\n",
      "\n",
      "Blue Whale is the largest animal known on earth.\n",
      "\n",
      "Sharks are the sister group to the Rays (batoids).\n",
      "\n",
      "The Tuna Fish can weigh up to 260 kg.\n",
      "\n",
      "Squid and Octopus are in the same class.\n"
     ]
    }
   ],
   "source": [
    "sea = open(\"fishes.txt\", 'r')   \n",
    "\n",
    "for line in sea.readlines():\n",
    "    print(line)\n",
    "\n",
    "sea.close()"
   ]
  },
  {
   "cell_type": "code",
   "execution_count": 24,
   "id": "0d5fac9a",
   "metadata": {},
   "outputs": [
    {
     "name": "stdout",
     "output_type": "stream",
     "text": [
      "Orca is a kind of Dolphin.\n",
      "Blue Whale is the largest animal known on earth.\n",
      "Sharks are the sister group to the Rays (batoids).\n",
      "The Tuna Fish can weigh up to 260 kg.\n",
      "Squid and Octopus are in the same class.\n"
     ]
    }
   ],
   "source": [
    "with open(\"fishes.txt\", \"r\") as sea:\n",
    "    print(sea.read())  # needs indented code block"
   ]
  },
  {
   "cell_type": "code",
   "execution_count": 26,
   "id": "2b42128f",
   "metadata": {},
   "outputs": [
    {
     "name": "stdout",
     "output_type": "stream",
     "text": [
      "Orca is a kind of Dolphin.\n",
      "\n",
      "Blue Whale is the largest animal known on earth.\n",
      "\n",
      "Sharks are the sister group to the Rays (batoids).\n",
      "\n",
      "The Tuna Fish can weigh up to 260 kg.\n",
      "\n",
      "Squid and Octopus are in the same class.\n"
     ]
    }
   ],
   "source": [
    "my_file = open(\"fishes.txt\", 'r')   \n",
    "\n",
    "for x in my_file.readlines():\n",
    "    print(x)\n",
    "my_file.close()  "
   ]
  },
  {
   "cell_type": "code",
   "execution_count": 27,
   "id": "3d65ad9b",
   "metadata": {},
   "outputs": [
    {
     "name": "stdout",
     "output_type": "stream",
     "text": [
      "This is the first line of my text file\n"
     ]
    }
   ],
   "source": [
    "with open(\"dummy_file.txt\", 'w', encoding=\"utf-8\") as file:  \n",
    "# we create and open the file\n",
    "\n",
    "    file.write('This is the first line of my text file')  \n",
    "    # writes str data into file\n",
    "\n",
    "with open(\"dummy_file.txt\", 'r', encoding=\"utf-8\") as file:\n",
    "    print(file.read())  # reads the content of the 'dummy_file'"
   ]
  },
  {
   "cell_type": "code",
   "execution_count": 28,
   "id": "cd5476c9",
   "metadata": {},
   "outputs": [
    {
     "name": "stdout",
     "output_type": "stream",
     "text": [
      "This is the new line for my dummy_file\n"
     ]
    }
   ],
   "source": [
    "with open(\"dummy_file.txt\", 'w', encoding=\"utf-8\") as file:\n",
    "    file.write('This is the new line for my dummy_file')  \n",
    "    # we write new str data into it \n",
    "\n",
    "with open(\"dummy_file.txt\", 'r', encoding=\"utf-8\") as file:\n",
    "    print(file.read())  # reads the content of the 'dummy_file'"
   ]
  },
  {
   "cell_type": "code",
   "execution_count": 29,
   "id": "07bb9423",
   "metadata": {},
   "outputs": [
    {
     "name": "stdout",
     "output_type": "stream",
     "text": [
      "My first sentenceMy second sentence,My third sentence\n",
      "My fourth sentence My last sentence\n"
     ]
    }
   ],
   "source": [
    "with open(\"dummy_file.txt\", 'w', encoding=\"utf-8\") as file:\n",
    "    file.write('My first sentence')\n",
    "    file.write('My second sentence,')\n",
    "    file.write('My third sentence\\n')\n",
    "    file.write('My fourth sentence ')\n",
    "    file.write('My last sentence')\n",
    "\n",
    "with open(\"dummy_file.txt\", 'r', encoding=\"utf-8\") as file:\n",
    "    print(file.read())"
   ]
  },
  {
   "cell_type": "code",
   "execution_count": 30,
   "id": "1a130919",
   "metadata": {},
   "outputs": [
    {
     "name": "stdout",
     "output_type": "stream",
     "text": [
      "Banana\n",
      "Orange\n",
      "Apple\n",
      "Strawberry\n",
      "Cherry\n",
      "\n",
      "['Banana\\n', 'Orange\\n', 'Apple\\n', 'Strawberry\\n', 'Cherry\\n']\n"
     ]
    }
   ],
   "source": [
    "fruits = ['Banana', 'Orange', 'Apple', 'Strawberry', 'Cherry']\n",
    "\n",
    "with open(\"fruits.txt\", 'w', encoding=\"utf-8\") as file:\n",
    "    for basket in fruits:\n",
    "        file.write(basket + '\\n')  # adds a newline character to each string\n",
    "   \n",
    "with open(\"fruits.txt\", 'r', encoding=\"utf-8\") as file:\n",
    "    print(file.read())\n",
    "\n",
    "with open(\"fruits.txt\", 'r', encoding=\"utf-8\") as file:\n",
    "    print(file.readlines())  # reads and displays entire lines in a list"
   ]
  },
  {
   "cell_type": "code",
   "execution_count": 31,
   "id": "eeda6764",
   "metadata": {},
   "outputs": [
    {
     "name": "stdout",
     "output_type": "stream",
     "text": [
      "Banana\n",
      "Orange\n",
      "Apple\n",
      "Strawberry\n",
      "Cherry\n",
      "\n",
      "['Banana\\n', 'Orange\\n', 'Apple\\n', 'Strawberry\\n', 'Cherry\\n']\n"
     ]
    }
   ],
   "source": [
    "fruits = ['Banana\\n', 'Orange\\n', 'Apple\\n', 'Strawberry\\n', 'Cherry\\n']\n",
    "\n",
    "with open(\"fruits.txt\", 'w', encoding=\"utf-8\") as file:\n",
    "    file.writelines(fruits)  # takes an iterator for writing\n",
    "   \n",
    "with open(\"fruits.txt\", 'r', encoding=\"utf-8\") as file:\n",
    "    print(file.read())\n",
    "\n",
    "with open(\"fruits.txt\", 'r', encoding=\"utf-8\") as file:\n",
    "    print(file.readlines())"
   ]
  },
  {
   "cell_type": "code",
   "execution_count": 35,
   "id": "3b59139e",
   "metadata": {},
   "outputs": [],
   "source": [
    "colors = ['red', 'green', 'yellow', 'white', 'black']\n",
    "\n",
    "with open(\"new_file.txt\", 'w', encoding=\"utf-8\") as file:\n",
    "    for line in colors:\n",
    "        file.write(line + \"\\n\")  # adds a newline character\n"
   ]
  },
  {
   "cell_type": "code",
   "execution_count": 36,
   "id": "b748cbe9",
   "metadata": {},
   "outputs": [
    {
     "name": "stdout",
     "output_type": "stream",
     "text": [
      "Banana\n",
      "Orange\n",
      "Apple\n",
      "Strawberry\n",
      "Cherry\n",
      "\n",
      "Banana\n",
      "Orange\n",
      "Apple\n",
      "Strawberry\n",
      "Cherry\n",
      "Melon\n",
      "\n",
      "['Banana\\n', 'Orange\\n', 'Apple\\n', 'Strawberry\\n', 'Cherry\\n', 'Melon\\n']\n"
     ]
    }
   ],
   "source": [
    "fruits = ['Banana\\n', 'Orange\\n', 'Apple\\n', 'Strawberry\\n', 'Cherry\\n']\n",
    "\n",
    "with open(\"fruits.txt\", 'w', encoding=\"utf-8\") as file:\n",
    "    file.writelines(fruits)  # creates a file containing the elements of the list\n",
    "\n",
    "with open(\"fruits.txt\", 'r', encoding=\"utf-8\") as file:\n",
    "    print(file.read())  # reads the content of the file\n",
    "\n",
    "with open(\"fruits.txt\", 'a', encoding=\"utf-8\") as file:\n",
    "    file.write('Melon\\n')  # adds \"Melon\" to the end of the existing file\n",
    "   \n",
    "with open(\"fruits.txt\", 'r', encoding=\"utf-8\") as file:\n",
    "    print(file.read())  # reads the last content of the file\n",
    "\n",
    "with open(\"fruits.txt\", 'r', encoding=\"utf-8\") as file:\n",
    "    print(file.readlines())"
   ]
  },
  {
   "cell_type": "code",
   "execution_count": 37,
   "id": "ab67baf5",
   "metadata": {},
   "outputs": [
    {
     "name": "stdout",
     "output_type": "stream",
     "text": [
      "no,fruit,amount\n",
      "1,Banana,4 lb\n",
      "2,Orange,5 lb\n",
      "3,Apple,2 lb\n",
      "4,Strawberry,6 lb\n",
      "5,Cherry,3 lb\n"
     ]
    }
   ],
   "source": [
    "with open(\"fruits.csv\", 'r', encoding=\"utf-8\") as file:\n",
    "    print(file.read())"
   ]
  },
  {
   "cell_type": "code",
   "execution_count": 38,
   "id": "1778c53c",
   "metadata": {},
   "outputs": [
    {
     "name": "stdout",
     "output_type": "stream",
     "text": [
      "['no', 'fruit', 'amount']\n",
      "['1', 'Banana', '4 lb']\n",
      "['2', 'Orange', '5 lb']\n",
      "['3', 'Apple', '2 lb']\n",
      "['4', 'Strawberry', '6 lb']\n",
      "['5', 'Cherry', '3 lb']\n"
     ]
    }
   ],
   "source": [
    "import csv  # loads csv module\n",
    "\n",
    "with open(\"fruits.csv\", 'r', newline = '', encoding = 'utf-8') as file:\n",
    "    csv_rows = csv.reader(file)  # reader() function takes each\n",
    "                                 # row (lines) into a list\n",
    "    for row in csv_rows: \n",
    "        print(row)       "
   ]
  },
  {
   "cell_type": "code",
   "execution_count": 39,
   "id": "1821973c",
   "metadata": {},
   "outputs": [
    {
     "name": "stdout",
     "output_type": "stream",
     "text": [
      "['no', 'fruit', 'amount']\n",
      "['1', 'Banana', '4 lb']\n",
      "['2', 'Orange', '5 lb']\n",
      "['3', 'Apple', '2 lb']\n",
      "['4', 'Strawberry', '6 lb']\n",
      "['5', 'Cherry', '3 lb']\n"
     ]
    }
   ],
   "source": [
    "import csv\n",
    "\n",
    "with open(\"fruits.csv\", 'r', newline = '', encoding = 'utf-8') as file:\n",
    "    csv_rows = csv.reader(file, delimiter= \",\")  # gives the same output as the previous one\n",
    "                                 \n",
    "    for row in csv_rows: \n",
    "        print(row)       "
   ]
  },
  {
   "cell_type": "code",
   "execution_count": 40,
   "id": "6ea4b183",
   "metadata": {},
   "outputs": [
    {
     "name": "stdout",
     "output_type": "stream",
     "text": [
      "['no,fruit,amount']\n",
      "['1,Banana,4 lb']\n",
      "['2,Orange,5 lb']\n",
      "['3,Apple,2 lb']\n",
      "['4,Strawberry,6 lb']\n",
      "['5,Cherry,3 lb']\n"
     ]
    }
   ],
   "source": [
    "import csv \n",
    "\n",
    "with open(\"fruits.csv\", 'r', newline = '', encoding = 'utf-8') as file:\n",
    "    csv_rows = csv.reader(file, delimiter = ':')  # we specified a char \":\" that is not used\n",
    "                                                  # in the csv file as a value of delimiter\n",
    "    for row in csv_rows: \n",
    "        print(row)        "
   ]
  },
  {
   "cell_type": "code",
   "execution_count": 1,
   "id": "4c9986da",
   "metadata": {},
   "outputs": [
    {
     "name": "stdout",
     "output_type": "stream",
     "text": [
      "15\n"
     ]
    }
   ],
   "source": [
    "class Human: \n",
    "\n",
    "    age=15\t\n",
    "\n",
    "    def __init__(self, name): \n",
    "\n",
    "         self._name = name \n",
    "\n",
    "hmn_1 = Human('Corey')\n",
    "\n",
    "hmn_1.age = 20\n",
    "\n",
    "print(Human.age)"
   ]
  },
  {
   "cell_type": "code",
   "execution_count": 2,
   "id": "edaee128",
   "metadata": {},
   "outputs": [
    {
     "name": "stdout",
     "output_type": "stream",
     "text": [
      "20\n"
     ]
    }
   ],
   "source": [
    "print(hmn_1.age)"
   ]
  },
  {
   "cell_type": "code",
   "execution_count": 3,
   "id": "9ab9d3f1",
   "metadata": {},
   "outputs": [],
   "source": [
    "class Dog:\n",
    "\n",
    "    def __init__(self, name, age):\n",
    "\n",
    "        self.name = name\n",
    "\n",
    "        self.age = age\n",
    "\n",
    "class Terrier(Dog):\n",
    "\n",
    "    pass\n",
    "\n",
    "class Dachshund(Dog):\n",
    "\n",
    "    pass\n",
    "\n",
    "class Bulldog(Dog):\n",
    "\n",
    "    pass\n",
    "\n",
    "dog1 = Terrier(\"Miles\", 4)\n",
    "\n",
    "dog2 = Dachshund(\"Buddy\", 9)\n",
    "\n",
    "dog3 = Bulldog(\"Jack\", 3)\n",
    "\n",
    "dog4 = Bulldog(\"Jim\", 5)"
   ]
  },
  {
   "cell_type": "code",
   "execution_count": 4,
   "id": "d56750d8",
   "metadata": {},
   "outputs": [
    {
     "data": {
      "text/plain": [
       "False"
      ]
     },
     "execution_count": 4,
     "metadata": {},
     "output_type": "execute_result"
    }
   ],
   "source": [
    "isinstance(dog1, Bulldog)"
   ]
  },
  {
   "cell_type": "code",
   "execution_count": 5,
   "id": "65845079",
   "metadata": {},
   "outputs": [
    {
     "data": {
      "text/plain": [
       "True"
      ]
     },
     "execution_count": 5,
     "metadata": {},
     "output_type": "execute_result"
    }
   ],
   "source": [
    "isinstance(dog3, Dog)"
   ]
  },
  {
   "cell_type": "code",
   "execution_count": 6,
   "id": "85bf85b5",
   "metadata": {},
   "outputs": [
    {
     "data": {
      "text/plain": [
       "True"
      ]
     },
     "execution_count": 6,
     "metadata": {},
     "output_type": "execute_result"
    }
   ],
   "source": [
    "isinstance(dog1, Dog)"
   ]
  },
  {
   "cell_type": "code",
   "execution_count": 7,
   "id": "86f11d0c",
   "metadata": {},
   "outputs": [
    {
     "data": {
      "text/plain": [
       "True"
      ]
     },
     "execution_count": 7,
     "metadata": {},
     "output_type": "execute_result"
    }
   ],
   "source": [
    "isinstance(dog4, Dog)"
   ]
  },
  {
   "cell_type": "code",
   "execution_count": 8,
   "id": "2266eda0",
   "metadata": {},
   "outputs": [
    {
     "data": {
      "text/plain": [
       "False"
      ]
     },
     "execution_count": 8,
     "metadata": {},
     "output_type": "execute_result"
    }
   ],
   "source": [
    "isinstance(dog2, Bulldog)"
   ]
  },
  {
   "cell_type": "code",
   "execution_count": 9,
   "id": "6cf5b34c",
   "metadata": {},
   "outputs": [
    {
     "data": {
      "text/plain": [
       "False"
      ]
     },
     "execution_count": 9,
     "metadata": {},
     "output_type": "execute_result"
    }
   ],
   "source": [
    "isinstance(dog2, Bulldog)"
   ]
  },
  {
   "cell_type": "code",
   "execution_count": 10,
   "id": "41597502",
   "metadata": {},
   "outputs": [
    {
     "data": {
      "text/plain": [
       "False"
      ]
     },
     "execution_count": 10,
     "metadata": {},
     "output_type": "execute_result"
    }
   ],
   "source": [
    "issubclass(Dachshund, Terrier)"
   ]
  },
  {
   "cell_type": "code",
   "execution_count": 11,
   "id": "6e1bf8a6",
   "metadata": {},
   "outputs": [
    {
     "data": {
      "text/plain": [
       "True"
      ]
     },
     "execution_count": 11,
     "metadata": {},
     "output_type": "execute_result"
    }
   ],
   "source": [
    "isinstance(dog1, Dog)"
   ]
  },
  {
   "cell_type": "code",
   "execution_count": 12,
   "id": "a5cec7e6",
   "metadata": {},
   "outputs": [
    {
     "data": {
      "text/plain": [
       "True"
      ]
     },
     "execution_count": 12,
     "metadata": {},
     "output_type": "execute_result"
    }
   ],
   "source": [
    "isinstance(dog4, Dog)"
   ]
  },
  {
   "cell_type": "code",
   "execution_count": 13,
   "id": "8af6ea32",
   "metadata": {},
   "outputs": [
    {
     "data": {
      "text/plain": [
       "False"
      ]
     },
     "execution_count": 13,
     "metadata": {},
     "output_type": "execute_result"
    }
   ],
   "source": [
    "issubclass(Bulldog, Dachshund)"
   ]
  },
  {
   "cell_type": "code",
   "execution_count": 14,
   "id": "e86c7728",
   "metadata": {},
   "outputs": [
    {
     "data": {
      "text/plain": [
       "True"
      ]
     },
     "execution_count": 14,
     "metadata": {},
     "output_type": "execute_result"
    }
   ],
   "source": [
    "issubclass(Terrier, Dog)"
   ]
  },
  {
   "cell_type": "code",
   "execution_count": 18,
   "id": "e7c8b1b3",
   "metadata": {},
   "outputs": [],
   "source": [
    "class A:\n",
    "\tdef __init__(self,b):\n",
    "\t\tself.b=b\n",
    "\tdef display(self):\n",
    "\t\tprint(self.b)\n",
    "obj=A(\"Hello\")\n",
    "del obj"
   ]
  },
  {
   "cell_type": "code",
   "execution_count": 19,
   "id": "8adb1db7",
   "metadata": {},
   "outputs": [],
   "source": [
    "class Car:\n",
    "      pass\n",
    "class Buggati(Car):\n",
    "      pass"
   ]
  },
  {
   "cell_type": "code",
   "execution_count": 20,
   "id": "770ef454",
   "metadata": {},
   "outputs": [
    {
     "data": {
      "text/plain": [
       "True"
      ]
     },
     "execution_count": 20,
     "metadata": {},
     "output_type": "execute_result"
    }
   ],
   "source": [
    "issubclass(Buggati, Car)"
   ]
  },
  {
   "cell_type": "code",
   "execution_count": 21,
   "id": "7bfddb71",
   "metadata": {},
   "outputs": [
    {
     "data": {
      "text/plain": [
       "False"
      ]
     },
     "execution_count": 21,
     "metadata": {},
     "output_type": "execute_result"
    }
   ],
   "source": [
    "issubclass(Car, Buggati)"
   ]
  },
  {
   "cell_type": "code",
   "execution_count": 22,
   "id": "40a80a7e",
   "metadata": {},
   "outputs": [],
   "source": [
    "class Human: \n",
    "\n",
    "    age=15\t\n",
    "\n",
    "    def __init__(self, name): \n",
    "\n",
    "         self._name = name "
   ]
  },
  {
   "cell_type": "code",
   "execution_count": 23,
   "id": "c858f836",
   "metadata": {},
   "outputs": [
    {
     "name": "stdout",
     "output_type": "stream",
     "text": [
      "15\n"
     ]
    }
   ],
   "source": [
    "hmn_1 = Human('Corey')\n",
    "\n",
    "print(hmn_1.age)"
   ]
  },
  {
   "cell_type": "code",
   "execution_count": 24,
   "id": "849440ef",
   "metadata": {},
   "outputs": [
    {
     "name": "stdout",
     "output_type": "stream",
     "text": [
      "21\n"
     ]
    }
   ],
   "source": [
    "Human.age =21\n",
    "\n",
    "print(hmn_1.age)"
   ]
  },
  {
   "cell_type": "code",
   "execution_count": 25,
   "id": "ac0543cd",
   "metadata": {},
   "outputs": [
    {
     "name": "stdout",
     "output_type": "stream",
     "text": [
      "21\n"
     ]
    }
   ],
   "source": [
    "hmn_1.age = 20\n",
    "\n",
    "print(Human.age)"
   ]
  },
  {
   "cell_type": "code",
   "execution_count": 26,
   "id": "d250c412",
   "metadata": {},
   "outputs": [
    {
     "data": {
      "text/plain": [
       "'walking...'"
      ]
     },
     "execution_count": 26,
     "metadata": {},
     "output_type": "execute_result"
    }
   ],
   "source": [
    "class Dog:\n",
    "    def walk(self):\n",
    "         return \"walking...\"\n",
    "    def speak(self):\n",
    "         return \"Woof!\"\n",
    "\n",
    "class BabyDog(Dog):\n",
    "    def speak(self):\n",
    "         return \"Arff!\"\n",
    "\n",
    "dog = BabyDog()\n",
    "dog.walk()"
   ]
  },
  {
   "cell_type": "code",
   "execution_count": 28,
   "id": "3e520f5b",
   "metadata": {},
   "outputs": [],
   "source": [
    " class Cat:\n",
    "    def __init__(self, name, age):\n",
    "        self.name = name\n",
    "        self.age = age"
   ]
  },
  {
   "cell_type": "code",
   "execution_count": 2,
   "id": "945bf85d",
   "metadata": {},
   "outputs": [
    {
     "ename": "IndentationError",
     "evalue": "unindent does not match any outer indentation level (<tokenize>, line 9)",
     "output_type": "error",
     "traceback": [
      "\u001b[1;36m  File \u001b[1;32m\"<tokenize>\"\u001b[1;36m, line \u001b[1;32m9\u001b[0m\n\u001b[1;33m    def full_sentence(self):\u001b[0m\n\u001b[1;37m    ^\u001b[0m\n\u001b[1;31mIndentationError\u001b[0m\u001b[1;31m:\u001b[0m unindent does not match any outer indentation level\n"
     ]
    }
   ],
   "source": [
    "class Cat:\n",
    "\n",
    "     def __init__(self, name, age):\n",
    "\n",
    "       \tself.name = name\n",
    "\n",
    "       \tself.age = age\n",
    "\n",
    "    def full_sentence(self):\n",
    "\n",
    "         return \"{}  {}\".format(self.name, self.age)\n",
    "\n",
    "\n",
    "cat= Cat(\"Tiger\", 10)\n",
    "\n",
    "print(cat.full_sentence()"
   ]
  },
  {
   "cell_type": "code",
   "execution_count": 3,
   "id": "a95caf71",
   "metadata": {},
   "outputs": [
    {
     "data": {
      "text/plain": [
       "'Arff!'"
      ]
     },
     "execution_count": 3,
     "metadata": {},
     "output_type": "execute_result"
    }
   ],
   "source": [
    "class Dog:\n",
    "    def walk(self):\n",
    "         return \"walking...\"\n",
    "    def speak(self):\n",
    "         return \"Woof!\"\n",
    "\n",
    "class BabyDog(Dog):\n",
    "    def speak(self):\n",
    "         return \"Arff!\"\n",
    "\n",
    "dog = BabyDog()\n",
    "dog.speak()"
   ]
  },
  {
   "cell_type": "code",
   "execution_count": 4,
   "id": "b228a93a",
   "metadata": {},
   "outputs": [
    {
     "name": "stdout",
     "output_type": "stream",
     "text": [
      "21\n"
     ]
    }
   ],
   "source": [
    "class Human: \n",
    "\n",
    "    def __init__(self, age = 0): \n",
    "\n",
    "        self._age = age \n",
    "\n",
    "    def get_age(self): \n",
    "\n",
    "        return self._age \n",
    "\n",
    "    def set_age(self, x): \n",
    "\n",
    "        self._age = x \n",
    "\n",
    "human1 = Human() \n",
    "\n",
    "human1.set_age(21) \n",
    "\n",
    "print(human1.get_age())"
   ]
  },
  {
   "cell_type": "code",
   "execution_count": 5,
   "id": "d0ecfc57",
   "metadata": {},
   "outputs": [
    {
     "ename": "NameError",
     "evalue": "name 'human1' is not defined",
     "output_type": "error",
     "traceback": [
      "\u001b[1;31m---------------------------------------------------------------------------\u001b[0m",
      "\u001b[1;31mNameError\u001b[0m                                 Traceback (most recent call last)",
      "\u001b[1;32m<ipython-input-5-8697e1aa7c95>\u001b[0m in \u001b[0;36m<module>\u001b[1;34m\u001b[0m\n\u001b[0;32m     19\u001b[0m \u001b[1;32mdel\u001b[0m \u001b[0mhuman1\u001b[0m\u001b[1;33m\u001b[0m\u001b[1;33m\u001b[0m\u001b[0m\n\u001b[0;32m     20\u001b[0m \u001b[1;33m\u001b[0m\u001b[0m\n\u001b[1;32m---> 21\u001b[1;33m \u001b[0mprint\u001b[0m\u001b[1;33m(\u001b[0m\u001b[0mhuman1\u001b[0m\u001b[1;33m.\u001b[0m\u001b[0mget_age\u001b[0m\u001b[1;33m(\u001b[0m\u001b[1;33m)\u001b[0m\u001b[1;33m)\u001b[0m\u001b[1;33m\u001b[0m\u001b[1;33m\u001b[0m\u001b[0m\n\u001b[0m",
      "\u001b[1;31mNameError\u001b[0m: name 'human1' is not defined"
     ]
    }
   ],
   "source": [
    "class Human: \n",
    "\n",
    "    def __init__(self, age = 0): \n",
    "\n",
    "        self._age = age \n",
    "\n",
    "    def get_age(self): \n",
    "\n",
    "        return self._age \n",
    "\n",
    "    def set_age(self, x): \n",
    "\n",
    "        self._age = x \n",
    "\n",
    "human1 = Human() \n",
    "\n",
    "human1.set_age(21) \n",
    "\n",
    "del human1\n",
    "\n",
    "print(human1.get_age())"
   ]
  },
  {
   "cell_type": "code",
   "execution_count": 6,
   "id": "268a95a0",
   "metadata": {},
   "outputs": [
    {
     "name": "stdout",
     "output_type": "stream",
     "text": [
      "33\n"
     ]
    }
   ],
   "source": [
    "class Marketing:\n",
    "    def __init__(self, id):\n",
    "        self.id = id\n",
    "        id = 50\n",
    "val = Marketing(33)\n",
    "print(val.id)"
   ]
  },
  {
   "cell_type": "code",
   "execution_count": null,
   "id": "973262f8",
   "metadata": {},
   "outputs": [],
   "source": []
  }
 ],
 "metadata": {
  "kernelspec": {
   "display_name": "Python 3",
   "language": "python",
   "name": "python3"
  },
  "language_info": {
   "codemirror_mode": {
    "name": "ipython",
    "version": 3
   },
   "file_extension": ".py",
   "mimetype": "text/x-python",
   "name": "python",
   "nbconvert_exporter": "python",
   "pygments_lexer": "ipython3",
   "version": "3.8.8"
  }
 },
 "nbformat": 4,
 "nbformat_minor": 5
}
