{
 "cells": [
  {
   "cell_type": "code",
   "execution_count": null,
   "id": "e7b1df1e",
   "metadata": {},
   "outputs": [],
   "source": [
    "word = {1 : \"1\", 2 : \"2\"}"
   ]
  },
  {
   "cell_type": "code",
   "execution_count": null,
   "id": "bb135664",
   "metadata": {},
   "outputs": [],
   "source": [
    "keys = word.keys()"
   ]
  },
  {
   "cell_type": "code",
   "execution_count": null,
   "id": "00832b53",
   "metadata": {},
   "outputs": [],
   "source": [
    "keys"
   ]
  },
  {
   "cell_type": "code",
   "execution_count": 5,
   "id": "7a3b3e50",
   "metadata": {},
   "outputs": [],
   "source": [
    "word_1={}"
   ]
  },
  {
   "cell_type": "code",
   "execution_count": 6,
   "id": "be14bc82",
   "metadata": {},
   "outputs": [],
   "source": [
    "word_1[3] = 1"
   ]
  },
  {
   "cell_type": "code",
   "execution_count": 7,
   "id": "6895336f",
   "metadata": {},
   "outputs": [],
   "source": [
    "word_1[1] = 1"
   ]
  },
  {
   "cell_type": "code",
   "execution_count": 8,
   "id": "988d60ff",
   "metadata": {},
   "outputs": [],
   "source": [
    "word_1[3] += 1"
   ]
  },
  {
   "cell_type": "code",
   "execution_count": 9,
   "id": "934f67a7",
   "metadata": {},
   "outputs": [
    {
     "data": {
      "text/plain": [
       "{3: 2, 1: 1}"
      ]
     },
     "execution_count": 9,
     "metadata": {},
     "output_type": "execute_result"
    }
   ],
   "source": [
    "word_1"
   ]
  },
  {
   "cell_type": "code",
   "execution_count": 10,
   "id": "517c2934",
   "metadata": {},
   "outputs": [],
   "source": [
    "word_1[3] +=1"
   ]
  },
  {
   "cell_type": "code",
   "execution_count": 11,
   "id": "2dd73b80",
   "metadata": {},
   "outputs": [
    {
     "data": {
      "text/plain": [
       "{3: 3, 1: 1}"
      ]
     },
     "execution_count": 11,
     "metadata": {},
     "output_type": "execute_result"
    }
   ],
   "source": [
    "word_1"
   ]
  },
  {
   "cell_type": "code",
   "execution_count": null,
   "id": "b09984b9",
   "metadata": {},
   "outputs": [],
   "source": [
    "word_1[\"ali\"] = 22"
   ]
  },
  {
   "cell_type": "code",
   "execution_count": null,
   "id": "217d9dac",
   "metadata": {},
   "outputs": [],
   "source": [
    "word_1"
   ]
  },
  {
   "cell_type": "code",
   "execution_count": null,
   "id": "c1fa5420",
   "metadata": {},
   "outputs": [],
   "source": [
    "\"ali\" in word_1"
   ]
  },
  {
   "cell_type": "code",
   "execution_count": null,
   "id": "9efcbd64",
   "metadata": {},
   "outputs": [],
   "source": []
  },
  {
   "cell_type": "code",
   "execution_count": 2,
   "id": "bde3b76c",
   "metadata": {},
   "outputs": [],
   "source": [
    "string = \"bugün ayrılıktan bir önceki session..\""
   ]
  },
  {
   "cell_type": "code",
   "execution_count": 3,
   "id": "f21166d1",
   "metadata": {},
   "outputs": [],
   "source": [
    "word_dict = {}"
   ]
  },
  {
   "cell_type": "code",
   "execution_count": 4,
   "id": "e3ac0fab",
   "metadata": {},
   "outputs": [],
   "source": [
    "for n in string :\n",
    "    keys = word_dict.keys()\n",
    "    \n",
    "    if n in word_dict :\n",
    "        word_dict[n] +=1\n",
    "    else :\n",
    "        word_dict[n] =1"
   ]
  },
  {
   "cell_type": "code",
   "execution_count": 5,
   "id": "5f982c07",
   "metadata": {},
   "outputs": [
    {
     "name": "stdout",
     "output_type": "stream",
     "text": [
      "{'b': 2, 'u': 1, 'g': 1, 'ü': 1, 'n': 4, ' ': 4, 'a': 2, 'y': 1, 'r': 2, 'ı': 2, 'l': 1, 'k': 2, 't': 1, 'i': 3, 'ö': 1, 'c': 1, 'e': 2, 's': 3, 'o': 1, '.': 2}\n"
     ]
    }
   ],
   "source": [
    "print(word_dict)"
   ]
  },
  {
   "cell_type": "code",
   "execution_count": 6,
   "id": "ae310d15",
   "metadata": {},
   "outputs": [
    {
     "name": "stdout",
     "output_type": "stream",
     "text": [
      "{'b': 2, 'u': 2, 'g': 1, 'n': 4, ' ': 4, 'a': 2, 'y': 1, 'r': 2, 'i': 5, 'l': 1, 'k': 2, 't': 1, 'o': 2, 'c': 1, 'e': 2, 's': 3, '.': 2}\n"
     ]
    }
   ],
   "source": [
    "string = \"bugün ayrılıktan bir önceki session..\"\n",
    "sozluk = {}\n",
    "for i in string:\n",
    "    sozluk[i] = sozluk.get(i, 0) + 1\n",
    "print(sozluk)"
   ]
  },
  {
   "cell_type": "code",
   "execution_count": null,
   "id": "e8a5c784",
   "metadata": {},
   "outputs": [],
   "source": []
  },
  {
   "cell_type": "code",
   "execution_count": 7,
   "id": "ebe4d1cf",
   "metadata": {},
   "outputs": [],
   "source": [
    "veri = [\"a\", \"b\", True, (False, 1), {\"1\" : 2}, [1,2], {\"2\" : \"two\"}, {2, \"3\"}, \"c\", 23, 0] #liste içindeki verilerin tiplerini bulup saydırdık."
   ]
  },
  {
   "cell_type": "code",
   "execution_count": 8,
   "id": "fdc03d24",
   "metadata": {},
   "outputs": [],
   "source": [
    "tipler = [\"int\", \"str\", \"bool\", \"list\", \"tuple\", \"dict\", \"set\"]"
   ]
  },
  {
   "cell_type": "code",
   "execution_count": 9,
   "id": "d8288c1e",
   "metadata": {},
   "outputs": [
    {
     "data": {
      "text/plain": [
       "{'int': 0, 'str': 0, 'bool': 0, 'list': 0, 'tuple': 0, 'dict': 0, 'set': 0}"
      ]
     },
     "execution_count": 9,
     "metadata": {},
     "output_type": "execute_result"
    }
   ],
   "source": [
    "{}.fromkeys(tipler,0)    #bir iterable dan alır ve herbirinin value değerine 0 atar."
   ]
  },
  {
   "cell_type": "code",
   "execution_count": 15,
   "id": "e1eba489",
   "metadata": {},
   "outputs": [],
   "source": [
    "toplam = {}.fromkeys(tipler,0)"
   ]
  },
  {
   "cell_type": "code",
   "execution_count": 16,
   "id": "72236841",
   "metadata": {},
   "outputs": [
    {
     "data": {
      "text/plain": [
       "{'int': 0, 'str': 0, 'bool': 0, 'list': 0, 'tuple': 0, 'dict': 0, 'set': 0}"
      ]
     },
     "execution_count": 16,
     "metadata": {},
     "output_type": "execute_result"
    }
   ],
   "source": [
    "toplam"
   ]
  },
  {
   "cell_type": "code",
   "execution_count": 17,
   "id": "c0cd85be",
   "metadata": {},
   "outputs": [
    {
     "data": {
      "text/plain": [
       "11"
      ]
     },
     "execution_count": 17,
     "metadata": {},
     "output_type": "execute_result"
    }
   ],
   "source": [
    "len(veri)"
   ]
  },
  {
   "cell_type": "code",
   "execution_count": 18,
   "id": "5d6aa1ca",
   "metadata": {},
   "outputs": [
    {
     "data": {
      "text/plain": [
       "str"
      ]
     },
     "execution_count": 18,
     "metadata": {},
     "output_type": "execute_result"
    }
   ],
   "source": [
    "type(veri[0])"
   ]
  },
  {
   "cell_type": "code",
   "execution_count": 19,
   "id": "c3e21de0",
   "metadata": {},
   "outputs": [],
   "source": [
    "for i in range(len(veri)):\n",
    "    if type(veri[i]) == int : toplam[\"int\"] += 1\n",
    "    elif type(veri[i]) == str : toplam[\"str\"] += 1\n",
    "    elif type(veri[i]) == bool : toplam[\"bool\"] += 1    \n",
    "    elif type(veri[i]) == list : toplam[\"list\"] += 1\n",
    "    elif type(veri[i]) == tuple : toplam[\"tuple\"] += 1\n",
    "    elif type(veri[i]) == dict : toplam[\"dict\"] += 1\n",
    "    elif type(veri[i]) == set : toplam[\"set\"] += 1"
   ]
  },
  {
   "cell_type": "code",
   "execution_count": 20,
   "id": "a0d31882",
   "metadata": {},
   "outputs": [
    {
     "data": {
      "text/plain": [
       "{'int': 2, 'str': 3, 'bool': 1, 'list': 1, 'tuple': 1, 'dict': 2, 'set': 1}"
      ]
     },
     "execution_count": 20,
     "metadata": {},
     "output_type": "execute_result"
    }
   ],
   "source": [
    "toplam"
   ]
  },
  {
   "cell_type": "code",
   "execution_count": 21,
   "id": "570df554",
   "metadata": {},
   "outputs": [
    {
     "name": "stdout",
     "output_type": "stream",
     "text": [
      "{'b': 2, 'u': 1, 'g': 1, 'ü': 1, 'n': 4, ' ': 4, 'a': 2, 'y': 1, 'r': 2, 'ı': 2, 'l': 1, 'k': 2, 't': 1, 'i': 3, 'ö': 1, 'c': 1, 'e': 2, 's': 3, 'o': 1, '.': 2}\n"
     ]
    }
   ],
   "source": [
    "a = \"bugün ayrılıktan bir önceki session..\"\n",
    "print({i: a.count(i) for i in a})"
   ]
  },
  {
   "cell_type": "markdown",
   "id": "cb890514",
   "metadata": {},
   "source": [
    "### OBEB(Ortak Katların En Büyüğü)"
   ]
  },
  {
   "cell_type": "code",
   "execution_count": 30,
   "id": "a1c1a516",
   "metadata": {},
   "outputs": [],
   "source": [
    "def obeb(a,b) :\n",
    "    \"\"\"ilk parametreyi büyük olan sayı olarak giriniz.\"\"\"\n",
    "    if b == 0:\n",
    "        return a\n",
    "    else :\n",
    "        return obeb(b, a% b)  #recursive yapılar. "
   ]
  },
  {
   "cell_type": "code",
   "execution_count": 31,
   "id": "396114fc",
   "metadata": {},
   "outputs": [
    {
     "name": "stdout",
     "output_type": "stream",
     "text": [
      "ilk parametreyi büyük olan sayı olarak giriniz.\n"
     ]
    }
   ],
   "source": [
    "print(obeb.__doc__)"
   ]
  },
  {
   "cell_type": "code",
   "execution_count": 32,
   "id": "35be475a",
   "metadata": {},
   "outputs": [
    {
     "data": {
      "text/plain": [
       "5"
      ]
     },
     "execution_count": 32,
     "metadata": {},
     "output_type": "execute_result"
    }
   ],
   "source": [
    "obeb (65,25)"
   ]
  },
  {
   "cell_type": "code",
   "execution_count": 25,
   "id": "4a1d50c6",
   "metadata": {},
   "outputs": [
    {
     "data": {
      "text/plain": [
       "8"
      ]
     },
     "execution_count": 25,
     "metadata": {},
     "output_type": "execute_result"
    }
   ],
   "source": [
    "obeb (24,8)"
   ]
  },
  {
   "cell_type": "code",
   "execution_count": 35,
   "id": "6de30f07",
   "metadata": {},
   "outputs": [
    {
     "data": {
      "text/plain": [
       "21"
      ]
     },
     "execution_count": 35,
     "metadata": {},
     "output_type": "execute_result"
    }
   ],
   "source": [
    "obeb (105,21)"
   ]
  },
  {
   "cell_type": "code",
   "execution_count": 28,
   "id": "178adea3",
   "metadata": {},
   "outputs": [
    {
     "name": "stdout",
     "output_type": "stream",
     "text": [
      "13\n"
     ]
    }
   ],
   "source": [
    "def obeb(a,b):\n",
    "\tlist_a = []\n",
    "\tlist_b = []\n",
    "\tfor i in range(1,a+1) :\n",
    "\t\tif a % i == 0 :\n",
    "\t\t\tlist_a.append(i)\n",
    "\tfor j in range(1,b +1) :\n",
    "\t\tif b % j == 0 :\n",
    "\t\t\tlist_b.append(j)\n",
    "\tinter = set(list_a).intersection(set(list_b))\n",
    "\treturn max(inter)\n",
    "\t\n",
    "print(obeb(65,13))"
   ]
  },
  {
   "cell_type": "code",
   "execution_count": 36,
   "id": "bf5a3e75",
   "metadata": {},
   "outputs": [
    {
     "name": "stdout",
     "output_type": "stream",
     "text": [
      "325\n",
      "5\n"
     ]
    }
   ],
   "source": [
    "def obeb(a,b):\n",
    "    if b==0:\n",
    "        return a\n",
    "    else:\n",
    "        return obeb(b,a%b)\n",
    "def okek(a,b):\n",
    "    return int(a*b / obeb(a,b))\n",
    "print(okek(65,25))\n",
    "print(obeb(65,25))"
   ]
  },
  {
   "cell_type": "code",
   "execution_count": 37,
   "id": "22ed23ec",
   "metadata": {},
   "outputs": [],
   "source": [
    "def facto(n):\n",
    "    if n == 0:\n",
    "        return 1\n",
    "    else :\n",
    "        return n * facto(n-1)    #recursive yapılar."
   ]
  },
  {
   "cell_type": "code",
   "execution_count": 38,
   "id": "85a62318",
   "metadata": {},
   "outputs": [
    {
     "data": {
      "text/plain": [
       "24"
      ]
     },
     "execution_count": 38,
     "metadata": {},
     "output_type": "execute_result"
    }
   ],
   "source": [
    "facto(4)"
   ]
  },
  {
   "cell_type": "markdown",
   "id": "9afd8def",
   "metadata": {},
   "source": [
    "## Given a list such \"[1,2,3]\" get an all possible output combinations[ [1,2,3],\n",
    "\n",
    "Output :\n",
    "[ [1,2,3],\n",
    "  [1,3,2],\n",
    "  [2,1,3],\n",
    "  [2,3,1],\n",
    "  [3,1,2],\n",
    "  [3,2,1],\n",
    "]"
   ]
  },
  {
   "cell_type": "code",
   "execution_count": 40,
   "id": "f508c610",
   "metadata": {},
   "outputs": [],
   "source": [
    "solution = [[]]"
   ]
  },
  {
   "cell_type": "code",
   "execution_count": 41,
   "id": "38ca9980",
   "metadata": {},
   "outputs": [],
   "source": [
    "# solution - 1 = [[1],[2],[3]]\n",
    "\n",
    "# solution - 2 = [[1,2],[1,3],[2,1],[2,3],[3,1],[3,2]]\n",
    "\n",
    "# solution -3 = [[1,2,3],[1,3,2],[2,1,3],[2,3,1],[3,1,2],[3,2,1]]"
   ]
  },
  {
   "cell_type": "code",
   "execution_count": 42,
   "id": "45efd506",
   "metadata": {},
   "outputs": [
    {
     "name": "stdout",
     "output_type": "stream",
     "text": [
      "[]\n"
     ]
    }
   ],
   "source": [
    "for i in solution:   # dıştaki listenin içinde bir tane boş liste var.\n",
    "    print(i)"
   ]
  },
  {
   "cell_type": "code",
   "execution_count": 44,
   "id": "1a5c8a6b",
   "metadata": {},
   "outputs": [
    {
     "data": {
      "text/plain": [
       "1"
      ]
     },
     "execution_count": 44,
     "metadata": {},
     "output_type": "execute_result"
    }
   ],
   "source": [
    "len(solution)"
   ]
  },
  {
   "cell_type": "code",
   "execution_count": 45,
   "id": "4fc6cc93",
   "metadata": {},
   "outputs": [],
   "source": [
    "num = [1,2,3]"
   ]
  },
  {
   "cell_type": "code",
   "execution_count": 46,
   "id": "b478aa11",
   "metadata": {},
   "outputs": [],
   "source": [
    "num_set = set(num)"
   ]
  },
  {
   "cell_type": "code",
   "execution_count": 47,
   "id": "23b45012",
   "metadata": {},
   "outputs": [
    {
     "data": {
      "text/plain": [
       "{1, 2, 3}"
      ]
     },
     "execution_count": 47,
     "metadata": {},
     "output_type": "execute_result"
    }
   ],
   "source": [
    "num_set"
   ]
  },
  {
   "cell_type": "code",
   "execution_count": 48,
   "id": "e140af16",
   "metadata": {},
   "outputs": [
    {
     "data": {
      "text/plain": [
       "set()"
      ]
     },
     "execution_count": 48,
     "metadata": {},
     "output_type": "execute_result"
    }
   ],
   "source": [
    "set([])"
   ]
  },
  {
   "cell_type": "code",
   "execution_count": 49,
   "id": "858d0af9",
   "metadata": {},
   "outputs": [
    {
     "data": {
      "text/plain": [
       "set()"
      ]
     },
     "execution_count": 49,
     "metadata": {},
     "output_type": "execute_result"
    }
   ],
   "source": [
    "set_bos_list = set([])\n",
    "set_bos_list"
   ]
  },
  {
   "cell_type": "code",
   "execution_count": 50,
   "id": "74ece500",
   "metadata": {},
   "outputs": [
    {
     "data": {
      "text/plain": [
       "{1, 2, 3}"
      ]
     },
     "execution_count": 50,
     "metadata": {},
     "output_type": "execute_result"
    }
   ],
   "source": [
    "num_set - set_bos_list"
   ]
  },
  {
   "cell_type": "code",
   "execution_count": 51,
   "id": "f947370c",
   "metadata": {},
   "outputs": [
    {
     "data": {
      "text/plain": [
       "{2, 3}"
      ]
     },
     "execution_count": 51,
     "metadata": {},
     "output_type": "execute_result"
    }
   ],
   "source": [
    "num_set - set([1])"
   ]
  },
  {
   "cell_type": "code",
   "execution_count": 52,
   "id": "4099239b",
   "metadata": {},
   "outputs": [
    {
     "data": {
      "text/plain": [
       "{1, 3}"
      ]
     },
     "execution_count": 52,
     "metadata": {},
     "output_type": "execute_result"
    }
   ],
   "source": [
    "num_set - set([2])"
   ]
  },
  {
   "cell_type": "code",
   "execution_count": 53,
   "id": "cf2384ab",
   "metadata": {},
   "outputs": [
    {
     "data": {
      "text/plain": [
       "{3}"
      ]
     },
     "execution_count": 53,
     "metadata": {},
     "output_type": "execute_result"
    }
   ],
   "source": [
    "num_set - set([1,2])"
   ]
  },
  {
   "cell_type": "code",
   "execution_count": 54,
   "id": "f3d15341",
   "metadata": {},
   "outputs": [
    {
     "data": {
      "text/plain": [
       "[1, 2, 3]"
      ]
     },
     "execution_count": 54,
     "metadata": {},
     "output_type": "execute_result"
    }
   ],
   "source": [
    "[1] + [2,3]"
   ]
  },
  {
   "cell_type": "code",
   "execution_count": 55,
   "id": "865505b6",
   "metadata": {},
   "outputs": [
    {
     "data": {
      "text/plain": [
       "[2]"
      ]
     },
     "execution_count": 55,
     "metadata": {},
     "output_type": "execute_result"
    }
   ],
   "source": [
    "[] + [2]"
   ]
  },
  {
   "cell_type": "code",
   "execution_count": 56,
   "id": "3c95c514",
   "metadata": {},
   "outputs": [
    {
     "data": {
      "text/plain": [
       "{3}"
      ]
     },
     "execution_count": 56,
     "metadata": {},
     "output_type": "execute_result"
    }
   ],
   "source": [
    "num_set - set([1] + [2])"
   ]
  },
  {
   "cell_type": "code",
   "execution_count": 57,
   "id": "30765348",
   "metadata": {},
   "outputs": [
    {
     "data": {
      "text/plain": [
       "[1, 2, 3]"
      ]
     },
     "execution_count": 57,
     "metadata": {},
     "output_type": "execute_result"
    }
   ],
   "source": [
    "[1,2] + [3]"
   ]
  },
  {
   "cell_type": "code",
   "execution_count": 78,
   "id": "28e0dbf1",
   "metadata": {},
   "outputs": [],
   "source": [
    "solution = [[]]"
   ]
  },
  {
   "cell_type": "code",
   "execution_count": 79,
   "id": "ae5b8fea",
   "metadata": {},
   "outputs": [],
   "source": [
    "# solution - 1 = [[1],[2],[3]]\n",
    "\n",
    "# solution - 2 = [[1,2],[1,3],[2,1],[2,3],[3,1],[3,2]]\n",
    "\n",
    "# solution -3 = [[1,2,3],[1,3,2],[2,1,3],[2,3,1],[3,1,2],[3,2,1]]\n",
    "\n",
    "# solution -4 ="
   ]
  },
  {
   "cell_type": "code",
   "execution_count": 80,
   "id": "b9bb29a2",
   "metadata": {},
   "outputs": [
    {
     "data": {
      "text/plain": [
       "[1, 2, 3]"
      ]
     },
     "execution_count": 80,
     "metadata": {},
     "output_type": "execute_result"
    }
   ],
   "source": [
    "num"
   ]
  },
  {
   "cell_type": "code",
   "execution_count": 81,
   "id": "384749b2",
   "metadata": {},
   "outputs": [
    {
     "data": {
      "text/plain": [
       "[[0], [1], [2]]"
      ]
     },
     "execution_count": 81,
     "metadata": {},
     "output_type": "execute_result"
    }
   ],
   "source": [
    "[[i] for i in range(3)] #list comprehension"
   ]
  },
  {
   "cell_type": "code",
   "execution_count": 82,
   "id": "0ac51b48",
   "metadata": {},
   "outputs": [
    {
     "data": {
      "text/plain": [
       "[0, 1, 2, 3]"
      ]
     },
     "execution_count": 82,
     "metadata": {},
     "output_type": "execute_result"
    }
   ],
   "source": [
    "[x for x in range(4)]"
   ]
  },
  {
   "cell_type": "code",
   "execution_count": 83,
   "id": "ed63a26d",
   "metadata": {},
   "outputs": [
    {
     "data": {
      "text/plain": [
       "[[0, 'a'], [1, 'a'], [4, 'a']]"
      ]
     },
     "execution_count": 83,
     "metadata": {},
     "output_type": "execute_result"
    }
   ],
   "source": [
    "[[i**2] + [\"a\"] for i in range(3)]"
   ]
  },
  {
   "cell_type": "code",
   "execution_count": 84,
   "id": "c6e11335",
   "metadata": {},
   "outputs": [
    {
     "data": {
      "text/plain": [
       "[[0, 'a', 0], [1, 'a', 1], [4, 'a', 8]]"
      ]
     },
     "execution_count": 84,
     "metadata": {},
     "output_type": "execute_result"
    }
   ],
   "source": [
    "[[i**2] + [\"a\"] + [i** 3] for i in range(3)]"
   ]
  },
  {
   "cell_type": "code",
   "execution_count": 85,
   "id": "06ed4818",
   "metadata": {},
   "outputs": [
    {
     "data": {
      "text/plain": [
       "[[0], [1], [2]]"
      ]
     },
     "execution_count": 85,
     "metadata": {},
     "output_type": "execute_result"
    }
   ],
   "source": [
    "bos = []\n",
    "\n",
    "for i in range(3) :\n",
    "    bos.append([i])\n",
    "bos"
   ]
  },
  {
   "cell_type": "code",
   "execution_count": 86,
   "id": "61cb5c63",
   "metadata": {},
   "outputs": [
    {
     "data": {
      "text/plain": [
       "['04', '05', '06', '14', '15', '16', '24', '25', '26']"
      ]
     },
     "execution_count": 86,
     "metadata": {},
     "output_type": "execute_result"
    }
   ],
   "source": [
    "boss = []\n",
    "\n",
    "for i in range(3):\n",
    "    for j in range(4,7):\n",
    "        boss.append(str(i) + str(j))\n",
    "boss"
   ]
  },
  {
   "cell_type": "code",
   "execution_count": 87,
   "id": "2496034c",
   "metadata": {},
   "outputs": [
    {
     "data": {
      "text/plain": [
       "['04', '05', '06', '14', '15', '16', '24', '25', '26']"
      ]
     },
     "execution_count": 87,
     "metadata": {},
     "output_type": "execute_result"
    }
   ],
   "source": [
    "[str(i) + str(j) for i in range(3) for j in range(4,7)]   #iç içe for döngülerinin list comprehension ile yapılması."
   ]
  },
  {
   "cell_type": "code",
   "execution_count": 90,
   "id": "073b5fc8",
   "metadata": {},
   "outputs": [],
   "source": [
    "solution = [[]]"
   ]
  },
  {
   "cell_type": "code",
   "execution_count": 91,
   "id": "ecebed05",
   "metadata": {},
   "outputs": [
    {
     "name": "stdout",
     "output_type": "stream",
     "text": [
      "[[1], [2], [3]]\n",
      "[[1, 2], [1, 3], [2, 1], [2, 3], [3, 1], [3, 2]]\n",
      "[[1, 2, 3], [1, 3, 2], [2, 1, 3], [2, 3, 1], [3, 1, 2], [3, 2, 1]]\n"
     ]
    }
   ],
   "source": [
    "for index in range(len(num)) :\n",
    "    solution = [i + [j] for i in solution for j in num_set.difference(set(i))]   # ilk iterasyonda boş liste verir. çünke i nin içinde boş liste var.\n",
    "    print(solution)                                                              # Bunun için i yi set içine sokuyoruz. Sonrasında \n",
    "   # list comprehension sonucunu solution kendisine eşitliyoruz.                 # body yerine ne yazacağız. ancak [j] durumda  \n",
    "                                                                   # ilk iterasyonda i boş liste. bu durumda boş liste ile önce 1 sonra 2 ... devam edecek.\n",
    "                                                                   # son halinde solution eşitledik. her iterasyonda solution kendini yenileyecek."
   ]
  },
  {
   "cell_type": "code",
   "execution_count": null,
   "id": "7e209fa6",
   "metadata": {},
   "outputs": [],
   "source": []
  },
  {
   "cell_type": "code",
   "execution_count": null,
   "id": "d571a2a0",
   "metadata": {},
   "outputs": [],
   "source": []
  }
 ],
 "metadata": {
  "kernelspec": {
   "display_name": "Python 3",
   "language": "python",
   "name": "python3"
  },
  "language_info": {
   "codemirror_mode": {
    "name": "ipython",
    "version": 3
   },
   "file_extension": ".py",
   "mimetype": "text/x-python",
   "name": "python",
   "nbconvert_exporter": "python",
   "pygments_lexer": "ipython3",
   "version": "3.8.8"
  }
 },
 "nbformat": 4,
 "nbformat_minor": 5
}
