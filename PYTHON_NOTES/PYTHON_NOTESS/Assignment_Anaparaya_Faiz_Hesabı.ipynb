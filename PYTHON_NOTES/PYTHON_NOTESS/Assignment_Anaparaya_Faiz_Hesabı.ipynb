{
 "cells": [
  {
   "cell_type": "code",
   "execution_count": null,
   "id": "3877773f",
   "metadata": {},
   "outputs": [],
   "source": [
    "capital_money = 1000  #Yatırılan anapara tutarı.\n",
    "capital_money = (capital_money+capital_money*7/100)**7  #Günlük %7 sabit kazanç ile günlük anapara aynı kalırsa 7 gün sonundaki tutar.\n",
    "capital_money"
   ]
  }
 ],
 "metadata": {
  "kernelspec": {
   "display_name": "Python 3",
   "language": "python",
   "name": "python3"
  },
  "language_info": {
   "codemirror_mode": {
    "name": "ipython",
    "version": 3
   },
   "file_extension": ".py",
   "mimetype": "text/x-python",
   "name": "python",
   "nbconvert_exporter": "python",
   "pygments_lexer": "ipython3",
   "version": "3.8.10"
  }
 },
 "nbformat": 4,
 "nbformat_minor": 5
}
