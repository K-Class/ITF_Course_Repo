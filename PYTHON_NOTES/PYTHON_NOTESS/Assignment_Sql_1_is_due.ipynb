{
 "cells": [
  {
   "cell_type": "markdown",
   "id": "6b4046da",
   "metadata": {},
   "source": [
    "Questions:\n",
    "1. Write a query that displays InvoiceId, CustomerId and total dollar amount for each invoice, sorted first by CustomerId (in ascending order), and then by total dollar amount  (in descending order).\n",
    "\n",
    "2. Write a query that displays InvoiceId, CustomerId and total dollar amount for each invoice, but this time sorted first by total dollar amount (in descending order), and then by CustomerId (in ascending order).\n",
    "\n",
    "3. Compare the results of these two queries above. How are the results different when you switch the column you sort on first? (Explain it in your own words.)\n",
    "\n",
    "4. Write a query to pull the first 10 rows and all columns from the invoices table that have a dollar amount of total greater than or equal to 10.\n",
    "\n",
    "5. Write a query to pull the first 5 rows and all columns from the invoices table that have a dollar amount of total less than 10.\n",
    "\n",
    "6. Find all track names that start with 'B' and end with 's'.\n",
    "\n",
    "7. Use the invoices table to find all information regarding invoices whose billing address is USA or Germany or Norway or Canada and invoice date is at any point in 2010, sorted from newest to oldest.\n"
   ]
  },
  {
   "cell_type": "code",
   "execution_count": null,
   "id": "862b79ad",
   "metadata": {},
   "outputs": [],
   "source": [
    "SELECT InvoiceId, CustomerId, total\n",
    "FROM invoices\n",
    "ORDER BY CustomerId ASC, total DESC;\n",
    "\n",
    "SELECT InvoiceId, CustomerId, total\n",
    "FROM invoices\n",
    "ORDER BY total DESC, CustomerId ASC;\n",
    "\n",
    "SELECT *\n",
    "FROM invoices\n",
    "WHERE total >= 10\n",
    "LIMIT 10;\n",
    "\n",
    "SELECT *\n",
    "FROM invoices\n",
    "WHERE total < 10\n",
    "LIMIT 10;\n",
    "\n",
    "SELECT name\n",
    "FROM tracks\n",
    "WHERE name LIKE 'B%s'\n",
    "\n",
    "\n",
    "SELECT *\n",
    "FROM invoices\n",
    "WHERE BillingCountry IN ('USA', 'Germany', 'Canada', 'Norway')\n",
    "AND InvoiceDate BETWEEN \"2010-01-01\" AND \"2011-01-01\"  \n",
    "ORDER BY InvoiceDate DESC;"
   ]
  }
 ],
 "metadata": {
  "kernelspec": {
   "display_name": "Python 3",
   "language": "python",
   "name": "python3"
  },
  "language_info": {
   "codemirror_mode": {
    "name": "ipython",
    "version": 3
   },
   "file_extension": ".py",
   "mimetype": "text/x-python",
   "name": "python",
   "nbconvert_exporter": "python",
   "pygments_lexer": "ipython3",
   "version": "3.8.10"
  }
 },
 "nbformat": 4,
 "nbformat_minor": 5
}
