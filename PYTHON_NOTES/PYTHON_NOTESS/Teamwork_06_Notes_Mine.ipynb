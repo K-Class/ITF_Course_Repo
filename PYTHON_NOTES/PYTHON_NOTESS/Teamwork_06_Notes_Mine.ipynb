{
 "cells": [
  {
   "cell_type": "markdown",
   "id": "b55ef219",
   "metadata": {},
   "source": [
    "# 1"
   ]
  },
  {
   "cell_type": "code",
   "execution_count": null,
   "id": "a00684dd",
   "metadata": {},
   "outputs": [],
   "source": [
    "a=[1,2,3,4]\n",
    "b=[sum(a[0:x+1]) for x in range(0,len(a))]\n",
    "print(b)"
   ]
  },
  {
   "cell_type": "markdown",
   "id": "82f2e48f",
   "metadata": {},
   "source": [
    "# 2"
   ]
  },
  {
   "cell_type": "code",
   "execution_count": 1,
   "id": "91acdf1f",
   "metadata": {},
   "outputs": [
    {
     "name": "stdout",
     "output_type": "stream",
     "text": [
      "11\n"
     ]
    }
   ],
   "source": [
    "L1 = []\n",
    "L1.append([1, [2, 3], 4])\n",
    "L1.extend([7, 8, 9])\n",
    "print(L1[0][1][1] + L1[2])\n"
   ]
  },
  {
   "cell_type": "code",
   "execution_count": 2,
   "id": "3834dcc1",
   "metadata": {},
   "outputs": [
    {
     "name": "stdout",
     "output_type": "stream",
     "text": [
      "3\n"
     ]
    }
   ],
   "source": [
    "L1 = []\n",
    "L1.append([1, [2, 3], 4])\n",
    "print(L1[0][1][1])"
   ]
  },
  {
   "cell_type": "code",
   "execution_count": 3,
   "id": "f65c0392",
   "metadata": {},
   "outputs": [
    {
     "name": "stdout",
     "output_type": "stream",
     "text": [
      "9\n"
     ]
    }
   ],
   "source": [
    "L1 = []\n",
    "L1.extend([7, 8, 9])\n",
    "print(L1[2])"
   ]
  },
  {
   "cell_type": "code",
   "execution_count": 7,
   "id": "616d964c",
   "metadata": {},
   "outputs": [
    {
     "name": "stdout",
     "output_type": "stream",
     "text": [
      "[[1, [2, 3], 4], 7, 8, 9]\n"
     ]
    }
   ],
   "source": [
    "L1 = []\n",
    "L1.append([1, [2, 3], 4])\n",
    "L1.extend([7, 8, 9])\n",
    "print(L1)"
   ]
  },
  {
   "cell_type": "markdown",
   "id": "02390630",
   "metadata": {},
   "source": [
    "# 3"
   ]
  },
  {
   "cell_type": "code",
   "execution_count": 15,
   "id": "847e6307",
   "metadata": {},
   "outputs": [
    {
     "name": "stdout",
     "output_type": "stream",
     "text": [
      "5 8\n"
     ]
    }
   ],
   "source": [
    "T = (1, 2, 3, 4, 5, 6, 7, 8)\n",
    "print(T[T.index(5)], end = \" \")\n",
    "print(T[T[T[6]-3]-6])"
   ]
  },
  {
   "cell_type": "code",
   "execution_count": 14,
   "id": "7ce3ab46",
   "metadata": {},
   "outputs": [
    {
     "name": "stdout",
     "output_type": "stream",
     "text": [
      "5 "
     ]
    }
   ],
   "source": [
    "T = (1, 2, 3, 4, 5, 6, 7, 8)\n",
    "print(T[T.index(5)], end = \" \")\n"
   ]
  },
  {
   "cell_type": "markdown",
   "id": "82c4d624",
   "metadata": {},
   "source": [
    "# 4"
   ]
  },
  {
   "cell_type": "code",
   "execution_count": 17,
   "id": "f56f694b",
   "metadata": {},
   "outputs": [
    {
     "name": "stdout",
     "output_type": "stream",
     "text": [
      "3\n"
     ]
    }
   ],
   "source": [
    "D = {1 : 1, 2 : '2', '1' : 1, '2' : 3}\n",
    "D['1'] = 2\n",
    "print(D[D[D[str(D[1])]]])\n"
   ]
  },
  {
   "cell_type": "code",
   "execution_count": 16,
   "id": "af177063",
   "metadata": {},
   "outputs": [
    {
     "name": "stdout",
     "output_type": "stream",
     "text": [
      "{1: 1, 2: '2', '1': 2, '2': 3}\n"
     ]
    }
   ],
   "source": [
    "D = {1 : 1, 2 : '2', '1' : 1, '2' : 3}\n",
    "D['1'] = 2\n",
    "print(D)\n"
   ]
  },
  {
   "cell_type": "code",
   "execution_count": 18,
   "id": "5478c083",
   "metadata": {},
   "outputs": [
    {
     "name": "stdout",
     "output_type": "stream",
     "text": [
      "1\n"
     ]
    }
   ],
   "source": [
    "D = {1 : 1, 2 : '2', '1' : 1, '2' : 3}\n",
    "D['1'] = 2\n",
    "print(str(D[1]))"
   ]
  },
  {
   "cell_type": "code",
   "execution_count": 21,
   "id": "4d6424d7",
   "metadata": {},
   "outputs": [
    {
     "name": "stdout",
     "output_type": "stream",
     "text": [
      "2\n"
     ]
    },
    {
     "data": {
      "text/plain": [
       "NoneType"
      ]
     },
     "execution_count": 21,
     "metadata": {},
     "output_type": "execute_result"
    }
   ],
   "source": [
    "D = {1 : 1, 2 : '2', '1' : 1, '2' : 3}\n",
    "D['1'] = 2\n",
    "print(D[str(D[1])])"
   ]
  },
  {
   "cell_type": "markdown",
   "id": "2a0a231e",
   "metadata": {},
   "source": [
    "# D = {1 : 1, 2 : '2', '1' : 1, '2' : 3}\n",
    "D['1'] = 2\n",
    "print(D[D[str(D[1])]])"
   ]
  },
  {
   "cell_type": "code",
   "execution_count": null,
   "id": "25e92fd5",
   "metadata": {},
   "outputs": [],
   "source": [
    "D = {1 : 1, 2 : '2', '1' : 1, '2' : 3}\n",
    "D['1'] = 2\n",
    "print(D[D[[str(D[1])]]])"
   ]
  },
  {
   "cell_type": "markdown",
   "id": "9def2fc8",
   "metadata": {},
   "source": [
    "# 5"
   ]
  },
  {
   "cell_type": "code",
   "execution_count": 3,
   "id": "5e08ef42",
   "metadata": {},
   "outputs": [
    {
     "name": "stdout",
     "output_type": "stream",
     "text": [
      "{1, 2, 3}\n"
     ]
    }
   ],
   "source": [
    "set1 = {1, 2, 3}\n",
    "set2 = set1.copy()\n",
    "set2.add(4)\n",
    "print(set1)"
   ]
  },
  {
   "cell_type": "markdown",
   "id": "c7cc6d57",
   "metadata": {},
   "source": [
    "# 6"
   ]
  },
  {
   "cell_type": "code",
   "execution_count": null,
   "id": "36eb4f0e",
   "metadata": {},
   "outputs": [],
   "source": [
    "#What is an alternative to \"pull\" in git?  ------   fetch and merge"
   ]
  },
  {
   "cell_type": "markdown",
   "id": "25c396d7",
   "metadata": {},
   "source": [
    "# 7"
   ]
  },
  {
   "cell_type": "code",
   "execution_count": null,
   "id": "ac4332bb",
   "metadata": {},
   "outputs": [],
   "source": [
    "#Which of the following isn't a Git configuration scope? -----user  (local--global--system bunlar git config scope)"
   ]
  },
  {
   "cell_type": "markdown",
   "id": "841f816c",
   "metadata": {},
   "source": [
    "# 8"
   ]
  },
  {
   "cell_type": "code",
   "execution_count": null,
   "id": "a059a418",
   "metadata": {},
   "outputs": [],
   "source": [
    "# What's the opposite of git clone, instead of downloading your code from GitHub, uploads your\n",
    "changes and code back to GitHub? ----- git push\n"
   ]
  },
  {
   "cell_type": "markdown",
   "id": "0548d117",
   "metadata": {},
   "source": [
    "# 9"
   ]
  },
  {
   "cell_type": "code",
   "execution_count": null,
   "id": "1ae3be5a",
   "metadata": {},
   "outputs": [],
   "source": [
    "# What is the correct commit syntax for all changes with a message? ----- git commit -am \"I'm coding\"\n",
    "\n"
   ]
  },
  {
   "cell_type": "markdown",
   "id": "e3068655",
   "metadata": {},
   "source": [
    "# 10"
   ]
  },
  {
   "cell_type": "code",
   "execution_count": null,
   "id": "2feed4f7",
   "metadata": {},
   "outputs": [],
   "source": [
    "# What happens in the design phase of SDLC?   ----- Ensuring the requirements are understood \n"
   ]
  },
  {
   "cell_type": "markdown",
   "id": "8e0f5855",
   "metadata": {},
   "source": [
    "# 11"
   ]
  },
  {
   "cell_type": "code",
   "execution_count": null,
   "id": "aa9610f4",
   "metadata": {},
   "outputs": [],
   "source": [
    "# SDLC stands for?------Software Development Life Cycle"
   ]
  },
  {
   "cell_type": "markdown",
   "id": "4ccbb45f",
   "metadata": {},
   "source": [
    "# 12"
   ]
  },
  {
   "cell_type": "code",
   "execution_count": null,
   "id": "55513252",
   "metadata": {},
   "outputs": [],
   "source": [
    "# This phase of the SDLC is known as the “ongoing phase” where the system is periodically evaluated\n",
    "and updated as needed ------  System maintenance \n"
   ]
  },
  {
   "cell_type": "markdown",
   "id": "a6e017da",
   "metadata": {},
   "source": [
    "# 13"
   ]
  },
  {
   "cell_type": "code",
   "execution_count": null,
   "id": "6ae25d0c",
   "metadata": {},
   "outputs": [],
   "source": [
    "# Which phase is also known coding phase?  ------ Build/Development Phasse\n"
   ]
  },
  {
   "cell_type": "markdown",
   "id": "a96e0cbf",
   "metadata": {},
   "source": [
    "# 14"
   ]
  },
  {
   "cell_type": "code",
   "execution_count": null,
   "id": "b46d4575",
   "metadata": {},
   "outputs": [],
   "source": [
    "# What is the high priority phase of SDLC  ------design\n"
   ]
  },
  {
   "cell_type": "markdown",
   "id": "d2432d30",
   "metadata": {},
   "source": [
    "# 15"
   ]
  },
  {
   "cell_type": "code",
   "execution_count": null,
   "id": "dab791f2",
   "metadata": {},
   "outputs": [],
   "source": [
    "# What is the most critical phase of SDLC ---- Requirement"
   ]
  }
 ],
 "metadata": {
  "kernelspec": {
   "display_name": "Python 3",
   "language": "python",
   "name": "python3"
  },
  "language_info": {
   "codemirror_mode": {
    "name": "ipython",
    "version": 3
   },
   "file_extension": ".py",
   "mimetype": "text/x-python",
   "name": "python",
   "nbconvert_exporter": "python",
   "pygments_lexer": "ipython3",
   "version": "3.8.8"
  }
 },
 "nbformat": 4,
 "nbformat_minor": 5
}
