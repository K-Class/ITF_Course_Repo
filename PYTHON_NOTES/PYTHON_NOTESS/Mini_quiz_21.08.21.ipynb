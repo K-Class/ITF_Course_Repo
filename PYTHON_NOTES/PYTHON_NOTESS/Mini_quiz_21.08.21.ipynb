{
 "cells": [
  {
   "cell_type": "code",
   "execution_count": 23,
   "id": "3878cc33",
   "metadata": {},
   "outputs": [
    {
     "name": "stdout",
     "output_type": "stream",
     "text": [
      " wo\n"
     ]
    }
   ],
   "source": [
    "example = \"snow world\"\n",
    "print(\"%s\" % example[4:7])"
   ]
  },
  {
   "cell_type": "code",
   "execution_count": 3,
   "id": "bce17c24",
   "metadata": {},
   "outputs": [
    {
     "name": "stdout",
     "output_type": "stream",
     "text": [
      "DA CABA AA"
     ]
    }
   ],
   "source": [
    "print(\"DA\", sep=\"-\",end = ' ')\n",
    "print(\"CA\", end = '')\n",
    "print(\"BA\", sep=\"-\", end = ' ')\n",
    "print(\"AA\", end = '')"
   ]
  },
  {
   "cell_type": "code",
   "execution_count": 4,
   "id": "d9bfd547",
   "metadata": {},
   "outputs": [
    {
     "ename": "TypeError",
     "evalue": "'str' object does not support item assignment",
     "output_type": "error",
     "traceback": [
      "\u001b[1;31m---------------------------------------------------------------------------\u001b[0m",
      "\u001b[1;31mTypeError\u001b[0m                                 Traceback (most recent call last)",
      "\u001b[1;32m<ipython-input-4-a26d86948a3b>\u001b[0m in \u001b[0;36m<module>\u001b[1;34m\u001b[0m\n\u001b[0;32m      1\u001b[0m \u001b[0mexample\u001b[0m \u001b[1;33m=\u001b[0m \u001b[1;34m\"snow world\"\u001b[0m\u001b[1;33m\u001b[0m\u001b[1;33m\u001b[0m\u001b[0m\n\u001b[1;32m----> 2\u001b[1;33m \u001b[0mexample\u001b[0m\u001b[1;33m[\u001b[0m\u001b[1;36m3\u001b[0m\u001b[1;33m]\u001b[0m \u001b[1;33m=\u001b[0m \u001b[1;34m's'\u001b[0m\u001b[1;33m\u001b[0m\u001b[1;33m\u001b[0m\u001b[0m\n\u001b[0m\u001b[0;32m      3\u001b[0m \u001b[0mprint\u001b[0m\u001b[1;33m(\u001b[0m\u001b[0mexample\u001b[0m\u001b[1;33m)\u001b[0m\u001b[1;33m\u001b[0m\u001b[1;33m\u001b[0m\u001b[0m\n",
      "\u001b[1;31mTypeError\u001b[0m: 'str' object does not support item assignment"
     ]
    }
   ],
   "source": [
    "example = \"snow world\"\n",
    "example[3] = 's'\n",
    "print(example)"
   ]
  },
  {
   "cell_type": "code",
   "execution_count": 5,
   "id": "7393a598",
   "metadata": {},
   "outputs": [
    {
     "name": "stdout",
     "output_type": "stream",
     "text": [
      "s\n"
     ]
    }
   ],
   "source": [
    "print(max(\"joseph\"))"
   ]
  },
  {
   "cell_type": "code",
   "execution_count": 8,
   "id": "ec461d7c",
   "metadata": {},
   "outputs": [
    {
     "name": "stdout",
     "output_type": "stream",
     "text": [
      "2\n"
     ]
    }
   ],
   "source": [
    "example = \"hello\"\n",
    "print(example.count(\"l\"))"
   ]
  },
  {
   "cell_type": "code",
   "execution_count": 9,
   "id": "791466a9",
   "metadata": {},
   "outputs": [
    {
     "name": "stdout",
     "output_type": "stream",
     "text": [
      "False\n"
     ]
    }
   ],
   "source": [
    "example = \"helen\"\n",
    "print(example.find(\"e\"))"
   ]
  },
  {
   "cell_type": "code",
   "execution_count": 12,
   "id": "fe6b1921",
   "metadata": {},
   "outputs": [
    {
     "name": "stdout",
     "output_type": "stream",
     "text": [
      "hello\\example\\test.txt\n"
     ]
    }
   ],
   "source": [
    "example=\"helloworld\"\n",
    "print(example[::-1].startswith(\"eh\"))"
   ]
  },
  {
   "cell_type": "code",
   "execution_count": 13,
   "id": "98aebcd5",
   "metadata": {},
   "outputs": [
    {
     "name": "stdout",
     "output_type": "stream",
     "text": [
      "hello\n",
      "\\example\n",
      "\test.txt\n"
     ]
    }
   ],
   "source": [
    "print(\"hello\\\\example\\\\test.txt\")"
   ]
  },
  {
   "cell_type": "code",
   "execution_count": 22,
   "id": "f5ff2283",
   "metadata": {},
   "outputs": [
    {
     "name": "stdout",
     "output_type": "stream",
     "text": [
      "hello1+2+3\n"
     ]
    }
   ],
   "source": [
    "print(\"hello\\n\\example\\n\\test.txt\")"
   ]
  },
  {
   "cell_type": "code",
   "execution_count": null,
   "id": "22d8186a",
   "metadata": {},
   "outputs": [],
   "source": [
    "print(\"hello\\example\\test.txt\")"
   ]
  },
  {
   "cell_type": "code",
   "execution_count": null,
   "id": "93750ce8",
   "metadata": {},
   "outputs": [],
   "source": [
    "print(\"hello\\\"example\\\"test.txt\")"
   ]
  },
  {
   "cell_type": "code",
   "execution_count": null,
   "id": "2361a15b",
   "metadata": {},
   "outputs": [],
   "source": [
    "s = \"\\t\\tWorld\\n\"\n",
    "print(s.strip())"
   ]
  },
  {
   "cell_type": "code",
   "execution_count": null,
   "id": "4647b736",
   "metadata": {},
   "outputs": [],
   "source": [
    "print(\"hello\" +\"1+2+\"3\")"
   ]
  }
 ],
 "metadata": {
  "kernelspec": {
   "display_name": "Python 3",
   "language": "python",
   "name": "python3"
  },
  "language_info": {
   "codemirror_mode": {
    "name": "ipython",
    "version": 3
   },
   "file_extension": ".py",
   "mimetype": "text/x-python",
   "name": "python",
   "nbconvert_exporter": "python",
   "pygments_lexer": "ipython3",
   "version": "3.8.8"
  }
 },
 "nbformat": 4,
 "nbformat_minor": 5
}
