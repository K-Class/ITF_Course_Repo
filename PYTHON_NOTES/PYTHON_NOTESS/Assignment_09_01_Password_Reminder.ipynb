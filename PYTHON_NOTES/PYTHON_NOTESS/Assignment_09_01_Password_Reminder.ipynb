{
 "cells": [
  {
   "cell_type": "code",
   "execution_count": null,
   "id": "c7aedf6e",
   "metadata": {},
   "outputs": [],
   "source": [
    "name = input(\"enter your first name please(john etc...):\")\n",
    "\n",
    "your_name = input(\"enter your first name please(john etc...):\")\n",
    "\n",
    "if name == your_name :\n",
    "\n",
    "    print(f\"Hello, {name.capitalize()}! The password is : W@12\")\n",
    "\n",
    "else: print(f\"Hello, {name.capitalize()}! See you later.\")"
   ]
  }
 ],
 "metadata": {
  "kernelspec": {
   "display_name": "Python 3",
   "language": "python",
   "name": "python3"
  },
  "language_info": {
   "codemirror_mode": {
    "name": "ipython",
    "version": 3
   },
   "file_extension": ".py",
   "mimetype": "text/x-python",
   "name": "python",
   "nbconvert_exporter": "python",
   "pygments_lexer": "ipython3",
   "version": "3.8.10"
  }
 },
 "nbformat": 4,
 "nbformat_minor": 5
}
