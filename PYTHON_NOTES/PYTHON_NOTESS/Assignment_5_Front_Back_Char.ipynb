{
 "cells": [
  {
   "cell_type": "code",
   "execution_count": null,
   "id": "c87dd822",
   "metadata": {},
   "outputs": [],
   "source": [
    "Given a string, return a new string where the first and last chars have been exchanged.\n",
    "For example:\n",
    "\n",
    "Test\tResult\n",
    "print(front_back('clarusway'))\n",
    "ylaruswac\n",
    "print(front_back('a'))\n",
    "a\n",
    "print(front_back('ab'))\n",
    "ba"
   ]
  },
  {
   "cell_type": "code",
   "execution_count": null,
   "id": "0f0ee43f",
   "metadata": {},
   "outputs": [],
   "source": [
    "def front_back(word):"
   ]
  }
 ],
 "metadata": {
  "kernelspec": {
   "display_name": "Python 3",
   "language": "python",
   "name": "python3"
  },
  "language_info": {
   "codemirror_mode": {
    "name": "ipython",
    "version": 3
   },
   "file_extension": ".py",
   "mimetype": "text/x-python",
   "name": "python",
   "nbconvert_exporter": "python",
   "pygments_lexer": "ipython3",
   "version": "3.8.8"
  }
 },
 "nbformat": 4,
 "nbformat_minor": 5
}
