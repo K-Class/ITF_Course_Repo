{
 "cells": [
  {
   "cell_type": "code",
   "execution_count": null,
   "id": "f6e2c85e",
   "metadata": {},
   "outputs": [],
   "source": [
    "import random\n",
    "random.randrange(0,91,5)"
   ]
  },
  {
   "cell_type": "code",
   "execution_count": null,
   "id": "9cbceab8",
   "metadata": {},
   "outputs": [],
   "source": [
    "def foo():\n",
    "    try:\n",
    "        return 1\n",
    "    finally:\n",
    "        return 2\n",
    "k = foo()\n",
    "print(k)\n"
   ]
  },
  {
   "cell_type": "code",
   "execution_count": null,
   "id": "431dd18b",
   "metadata": {},
   "outputs": [],
   "source": [
    "x=10\n",
    "y=8\n",
    "assert x>y, 'X too small'"
   ]
  },
  {
   "cell_type": "code",
   "execution_count": null,
   "id": "71d8c81d",
   "metadata": {},
   "outputs": [],
   "source": [
    "4. Which of the following is not an exception handling keyword in Python?\n",
    "A. try\n",
    "B. except\n",
    "C. accept\n",
    "D. finally "
   ]
  },
  {
   "cell_type": "code",
   "execution_count": null,
   "id": "af055951",
   "metadata": {},
   "outputs": [],
   "source": [
    "valid = False\n",
    "while not valid:\n",
    "    try:\n",
    "        n=int(input(\"Enter a number\"))\n",
    "        while n%2==0:\n",
    "            print(\"Bye\")\n",
    "        valid = True\n",
    "    except ValueError:\n",
    "        print(\"Invalid\")\n"
   ]
  },
  {
   "cell_type": "code",
   "execution_count": 1,
   "id": "934c9952",
   "metadata": {},
   "outputs": [
    {
     "name": "stdout",
     "output_type": "stream",
     "text": [
      "432\n"
     ]
    }
   ],
   "source": [
    "def f(x, y, z): return x + y + z\n",
    "print(f(2, 30, 400))\n"
   ]
  },
  {
   "cell_type": "code",
   "execution_count": 2,
   "id": "23b90df9",
   "metadata": {},
   "outputs": [
    {
     "name": "stdout",
     "output_type": "stream",
     "text": [
      "{0, 1, 4, 9}\n"
     ]
    }
   ],
   "source": [
    "print({a**2 for a in range(4)})"
   ]
  },
  {
   "cell_type": "code",
   "execution_count": null,
   "id": "124f1f06",
   "metadata": {},
   "outputs": [],
   "source": [
    "import copy\n",
    "a=[10,23,56,[78]]\n",
    "b=copy.deepcopy(a)\n",
    "a[3][0]=95\n",
    "a[1]=34\n",
    "print(b)"
   ]
  },
  {
   "cell_type": "code",
   "execution_count": null,
   "id": "6af6af50",
   "metadata": {},
   "outputs": [],
   "source": [
    "a=[1,2,3,4]\n",
    "b=[sum(a[0:x+1]) for x in range(0,len(a))]\n",
    "print(b)"
   ]
  },
  {
   "cell_type": "code",
   "execution_count": null,
   "id": "b18ccf90",
   "metadata": {},
   "outputs": [],
   "source": [
    "print('abcefd'.replace('cd', '12'))"
   ]
  },
  {
   "cell_type": "code",
   "execution_count": null,
   "id": "2ca8afaa",
   "metadata": {},
   "outputs": [],
   "source": [
    "11. Who is Reported IN JIRA?\n",
    "A. Person who has to solve the issue\n",
    "B. Person who can generate reports\n",
    "C. Person who can view the issue\n",
    "D. Person who raise the issue"
   ]
  },
  {
   "cell_type": "code",
   "execution_count": null,
   "id": "c6835a2a",
   "metadata": {},
   "outputs": [],
   "source": [
    "12. What action to be done on issue assigned to you after fixing?\n",
    "A. Close\n",
    "B. Link\n",
    "C. Resolve\n",
    "D. Move"
   ]
  },
  {
   "cell_type": "code",
   "execution_count": null,
   "id": "3a5e826f",
   "metadata": {},
   "outputs": [],
   "source": [
    "13. Who can create issue in JIRA?\n",
    "A. User\n",
    "B. Project Admin\n",
    "C. Developer\n",
    "D. All of Above"
   ]
  },
  {
   "cell_type": "code",
   "execution_count": null,
   "id": "4cbfa36d",
   "metadata": {},
   "outputs": [],
   "source": [
    "14. Issue with this priority must be fixed first?\n",
    "A. Major\n",
    "B. Critical\n",
    "C. Blocker\n",
    "D. Trivial "
   ]
  },
  {
   "cell_type": "code",
   "execution_count": null,
   "id": "7e1642b6",
   "metadata": {},
   "outputs": [],
   "source": [
    "15. Which of the following in not an issue type?\n",
    "A. Epic\n",
    "B. Minor\n",
    "C. Sub-task\n",
    "D. Story  "
   ]
  }
 ],
 "metadata": {
  "kernelspec": {
   "display_name": "Python 3",
   "language": "python",
   "name": "python3"
  },
  "language_info": {
   "codemirror_mode": {
    "name": "ipython",
    "version": 3
   },
   "file_extension": ".py",
   "mimetype": "text/x-python",
   "name": "python",
   "nbconvert_exporter": "python",
   "pygments_lexer": "ipython3",
   "version": "3.8.8"
  }
 },
 "nbformat": 4,
 "nbformat_minor": 5
}
