{
 "cells": [
  {
   "cell_type": "code",
   "execution_count": 2,
   "id": "616466ed",
   "metadata": {},
   "outputs": [],
   "source": [
    "def square(x):\n",
    "    return x**2"
   ]
  },
  {
   "cell_type": "code",
   "execution_count": 3,
   "id": "13cf411e",
   "metadata": {},
   "outputs": [
    {
     "data": {
      "text/plain": [
       "36"
      ]
     },
     "execution_count": 3,
     "metadata": {},
     "output_type": "execute_result"
    }
   ],
   "source": [
    "square(6)"
   ]
  },
  {
   "cell_type": "code",
   "execution_count": null,
   "id": "363a920c",
   "metadata": {},
   "outputs": [],
   "source": [
    "lambda x:x**2"
   ]
  },
  {
   "cell_type": "code",
   "execution_count": 7,
   "id": "428db94c",
   "metadata": {},
   "outputs": [
    {
     "data": {
      "text/plain": [
       "<function __main__.<lambda>(x, y)>"
      ]
     },
     "execution_count": 7,
     "metadata": {},
     "output_type": "execute_result"
    }
   ],
   "source": [
    "lambda x, y: (x+y)/2  # takes two numbers, returns the result"
   ]
  },
  {
   "cell_type": "code",
   "execution_count": 5,
   "id": "bd4379f1",
   "metadata": {},
   "outputs": [
    {
     "data": {
      "text/plain": [
       "<function __main__.<lambda>(x)>"
      ]
     },
     "execution_count": 5,
     "metadata": {},
     "output_type": "execute_result"
    }
   ],
   "source": [
    "lambda x: \"odd\" if x % 2 != 0 else \"even\"  #burada klasik if yapıları kullanılmaz. Bu şekildeki if yapıları kullanılmalıdır.\n",
    "                                        #bölüm 0 eşit değilse True döndür yani solu döndür. "
   ]
  },
  {
   "cell_type": "code",
   "execution_count": 9,
   "id": "5c9083a3",
   "metadata": {},
   "outputs": [
    {
     "data": {
      "text/plain": [
       "<function __main__.<lambda>(x)>"
      ]
     },
     "execution_count": 9,
     "metadata": {},
     "output_type": "execute_result"
    }
   ],
   "source": [
    "lambda x: \"odd\" if x % 2 != 0 else \"even\""
   ]
  },
  {
   "cell_type": "code",
   "execution_count": 10,
   "id": "2b3d95a6",
   "metadata": {},
   "outputs": [
    {
     "name": "stdout",
     "output_type": "stream",
     "text": [
      "4\n"
     ]
    }
   ],
   "source": [
    "print((lambda x : x**2 )(2))"
   ]
  },
  {
   "cell_type": "code",
   "execution_count": null,
   "id": "09ac1a4d",
   "metadata": {},
   "outputs": [],
   "source": [
    "print((lambda x, y: (x+y)/2)(3, 5))  # takes two int, returns mean of them"
   ]
  },
  {
   "cell_type": "code",
   "execution_count": 11,
   "id": "d401f807",
   "metadata": {},
   "outputs": [
    {
     "name": "stdout",
     "output_type": "stream",
     "text": [
      "4.0\n"
     ]
    }
   ],
   "source": [
    "average = (lambda x, y: (x+y)/2)(3, 5) \n",
    "print(average)"
   ]
  },
  {
   "cell_type": "code",
   "execution_count": null,
   "id": "cf7bcc47",
   "metadata": {},
   "outputs": [],
   "source": [
    "average = lambda x, y: (x+y)/2\n",
    "print(average(3, 5))  # we call"
   ]
  },
  {
   "cell_type": "code",
   "execution_count": 16,
   "id": "1cf848a3",
   "metadata": {},
   "outputs": [
    {
     "name": "stdout",
     "output_type": "stream",
     "text": [
      "?nusum royilib nusroyileg nederen neS\n"
     ]
    }
   ],
   "source": [
    "print((lambda x : x [::-1])(\"Sen nereden geliyorsun biliyor musun?\")) #yazılan bir iterable tersten yazma"
   ]
  },
  {
   "cell_type": "code",
   "execution_count": 17,
   "id": "1f1d67bd",
   "metadata": {},
   "outputs": [
    {
     "name": "stderr",
     "output_type": "stream",
     "text": [
      "<>:1: SyntaxWarning: 'function' object is not subscriptable; perhaps you missed a comma?\n",
      "<>:1: SyntaxWarning: 'function' object is not subscriptable; perhaps you missed a comma?\n",
      "<ipython-input-17-96c4b96f8659>:1: SyntaxWarning: 'function' object is not subscriptable; perhaps you missed a comma?\n",
      "  print((lambda x: \"odd\" if x % 2 != 0 else \"even\")[1,2,3,4])\n"
     ]
    },
    {
     "ename": "TypeError",
     "evalue": "'function' object is not subscriptable",
     "output_type": "error",
     "traceback": [
      "\u001b[1;31m---------------------------------------------------------------------------\u001b[0m",
      "\u001b[1;31mTypeError\u001b[0m                                 Traceback (most recent call last)",
      "\u001b[1;32m<ipython-input-17-96c4b96f8659>\u001b[0m in \u001b[0;36m<module>\u001b[1;34m\u001b[0m\n\u001b[1;32m----> 1\u001b[1;33m \u001b[0mprint\u001b[0m\u001b[1;33m(\u001b[0m\u001b[1;33m(\u001b[0m\u001b[1;32mlambda\u001b[0m \u001b[0mx\u001b[0m\u001b[1;33m:\u001b[0m \u001b[1;34m\"odd\"\u001b[0m \u001b[1;32mif\u001b[0m \u001b[0mx\u001b[0m \u001b[1;33m%\u001b[0m \u001b[1;36m2\u001b[0m \u001b[1;33m!=\u001b[0m \u001b[1;36m0\u001b[0m \u001b[1;32melse\u001b[0m \u001b[1;34m\"even\"\u001b[0m\u001b[1;33m)\u001b[0m\u001b[1;33m[\u001b[0m\u001b[1;36m1\u001b[0m\u001b[1;33m,\u001b[0m\u001b[1;36m2\u001b[0m\u001b[1;33m,\u001b[0m\u001b[1;36m3\u001b[0m\u001b[1;33m,\u001b[0m\u001b[1;36m4\u001b[0m\u001b[1;33m]\u001b[0m\u001b[1;33m)\u001b[0m\u001b[1;33m\u001b[0m\u001b[1;33m\u001b[0m\u001b[0m\n\u001b[0m",
      "\u001b[1;31mTypeError\u001b[0m: 'function' object is not subscriptable"
     ]
    }
   ],
   "source": [
    "print((lambda x: \"odd\" if x % 2 != 0 else \"even\")[1,2,3,4])"
   ]
  },
  {
   "cell_type": "code",
   "execution_count": 14,
   "id": "7d4294c7",
   "metadata": {},
   "outputs": [
    {
     "name": "stdout",
     "output_type": "stream",
     "text": [
      "1 : odd\n",
      "2 : even\n",
      "3 : odd\n",
      "4 : even\n",
      "5 : odd\n",
      "6 : even\n",
      "7 : odd\n",
      "8 : even\n",
      "9 : odd\n",
      "10 : even\n"
     ]
    }
   ],
   "source": [
    "for i in [1,2,3,4,5,6,7,8,9,10]:\n",
    "    print(i, \":\",(lambda x : \"even\" if i % 2 == 0 else \"odd\")(x))"
   ]
  },
  {
   "cell_type": "code",
   "execution_count": 22,
   "id": "f1c250aa",
   "metadata": {},
   "outputs": [],
   "source": [
    "iterable = \"clarusway\""
   ]
  },
  {
   "cell_type": "code",
   "execution_count": 24,
   "id": "d45cf55f",
   "metadata": {},
   "outputs": [
    {
     "data": {
      "text/plain": [
       "'yawsuralc'"
      ]
     },
     "execution_count": 24,
     "metadata": {},
     "output_type": "execute_result"
    }
   ],
   "source": [
    "reverser = lambda x : x[::-1]\n",
    "reverser(iterable)"
   ]
  },
  {
   "cell_type": "code",
   "execution_count": null,
   "id": "00cc22b6",
   "metadata": {},
   "outputs": [],
   "source": [
    "# The basic formula syntax is : map(function, iterable)  tek tek iterable değerlerini func içine uyguluyor ve a+b+c şeklinde bir object üretiyor.\n"
   ]
  },
  {
   "cell_type": "code",
   "execution_count": 32,
   "id": "01e5bca8",
   "metadata": {},
   "outputs": [
    {
     "ename": "SyntaxError",
     "evalue": "invalid syntax (<ipython-input-32-000d4425d645>, line 7)",
     "output_type": "error",
     "traceback": [
      "\u001b[1;36m  File \u001b[1;32m\"<ipython-input-32-000d4425d645>\"\u001b[1;36m, line \u001b[1;32m7\u001b[0m\n\u001b[1;33m    print(list(map(lambda x: x**, iterable)))  #you can print directly\u001b[0m\n\u001b[1;37m                                ^\u001b[0m\n\u001b[1;31mSyntaxError\u001b[0m\u001b[1;31m:\u001b[0m invalid syntax\n"
     ]
    }
   ],
   "source": [
    "iterable=[1,2,3,4,5]\n",
    "map(lambda x:x**2,iterable)\n",
    "result = map(lambda x:x**2,iterable)  #it is a map type\n",
    "\n",
    "print(type(result))\n",
    "print(list(result))  #we have converted it to list type to print\n",
    "print(list(map(lambda x: x**, iterable)))  #you can print directly"
   ]
  },
  {
   "cell_type": "code",
   "execution_count": 28,
   "id": "4854406b",
   "metadata": {},
   "outputs": [],
   "source": [
    "rakamlar = [1,2,3,4,5]"
   ]
  },
  {
   "cell_type": "code",
   "execution_count": 29,
   "id": "28868c22",
   "metadata": {},
   "outputs": [],
   "source": [
    "def square(n):\n",
    "    return n **2"
   ]
  },
  {
   "cell_type": "code",
   "execution_count": 30,
   "id": "cc81751d",
   "metadata": {},
   "outputs": [],
   "source": [
    "result = map (square, rakamlar)"
   ]
  },
  {
   "cell_type": "code",
   "execution_count": 31,
   "id": "7bf0f1db",
   "metadata": {},
   "outputs": [
    {
     "name": "stdout",
     "output_type": "stream",
     "text": [
      "1\n",
      "4\n",
      "9\n",
      "16\n",
      "25\n"
     ]
    }
   ],
   "source": [
    "for i in result :\n",
    "    print(i)"
   ]
  },
  {
   "cell_type": "code",
   "execution_count": 33,
   "id": "45518211",
   "metadata": {},
   "outputs": [
    {
     "name": "stdout",
     "output_type": "stream",
     "text": [
      "['one', 'six', 'ten', 'two']\n"
     ]
    }
   ],
   "source": [
    "letter1 = [\"o\", \"s\",\"t\",\"t\"]\n",
    "letter2 = [\"n\", \"i\",\"e\",\"w\"]\n",
    "letter3 = [\"e\", \"x\",\"n\",\"o\"]\n",
    "numbers = map(lambda x,y,z : x+y+z, letter1,letter2,letter3) #x+y+z string olanları concanete yaparken int olanları toplar.\n",
    "                                                            #her iterable in ilk harflerini alarak sırasıyla yazar ve objectler oluşmaya başlar.\n",
    "print(list(numbers))"
   ]
  },
  {
   "cell_type": "code",
   "execution_count": 38,
   "id": "42847b93",
   "metadata": {},
   "outputs": [
    {
     "name": "stdout",
     "output_type": "stream",
     "text": [
      "[8, 18, 12, 13]\n"
     ]
    }
   ],
   "source": [
    "letter1 = [1, 2, 3, 4]\n",
    "letter2 = [3, 6, 7, 8]\n",
    "letter3 = [4, 10, 2, 1]\n",
    "numbers = map(lambda x,y,z : x+y+z, letter1,letter2,letter3) #x+y+z string olanları concanete yaparken int olanları toplar.\n",
    "                                                            #her iterable in ilk harflerini alarak sırasıyla yazar ve objectler oluşmaya başlar.\n",
    "print(list(numbers))"
   ]
  },
  {
   "cell_type": "code",
   "execution_count": 36,
   "id": "de9661ec",
   "metadata": {},
   "outputs": [
    {
     "name": "stdout",
     "output_type": "stream",
     "text": [
      "[6.0, 6.0, 6.0, 6.0]\n"
     ]
    }
   ],
   "source": [
    "nums1 = [9,6,7,4]\n",
    "nums2 = [3,6,5,8]\n",
    "ort = map(lambda x,y : (x+y)/2, nums1, nums2)\n",
    "\n",
    "print(list(ort))"
   ]
  },
  {
   "cell_type": "code",
   "execution_count": 9,
   "id": "3fa9659d",
   "metadata": {},
   "outputs": [
    {
     "name": "stdout",
     "output_type": "stream",
     "text": [
      "[<map object at 0x000001CF745F53A0>, <map object at 0x000001CF745F53A0>, <map object at 0x000001CF745F53A0>]\n"
     ]
    }
   ],
   "source": [
    "kelimeler = [\"ali veli deli\", \"mehmet'in kuzeni\", \"cemilin-bacısı\"]\n",
    "uzunluk = map(lambda x: len, kelimeler)\n",
    "\n",
    "print(list(uzunluk))"
   ]
  },
  {
   "cell_type": "code",
   "execution_count": 1,
   "id": "3726a453",
   "metadata": {},
   "outputs": [
    {
     "data": {
      "text/plain": [
       "[13, 16, 14]"
      ]
     },
     "execution_count": 1,
     "metadata": {},
     "output_type": "execute_result"
    }
   ],
   "source": [
    "kelimeler = [\"ali veli deli\", \"mehmet'in kuzeni\", \"cemilin-bacısı\"]\n",
    "list(map(len, kelimeler))"
   ]
  },
  {
   "cell_type": "code",
   "execution_count": 6,
   "id": "38451e07",
   "metadata": {},
   "outputs": [
    {
     "data": {
      "text/plain": [
       "[[' ', ' ', 'a', 'd', 'e', 'e', 'i', 'i', 'i', 'l', 'l', 'l', 'v'],\n",
       " [' ',\n",
       "  \"'\",\n",
       "  'e',\n",
       "  'e',\n",
       "  'e',\n",
       "  'h',\n",
       "  'i',\n",
       "  'i',\n",
       "  'k',\n",
       "  'm',\n",
       "  'm',\n",
       "  'n',\n",
       "  'n',\n",
       "  't',\n",
       "  'u',\n",
       "  'z'],\n",
       " ['-', 'a', 'b', 'c', 'c', 'e', 'i', 'i', 'l', 'm', 'n', 's', 'ı', 'ı']]"
      ]
     },
     "execution_count": 6,
     "metadata": {},
     "output_type": "execute_result"
    }
   ],
   "source": [
    "list(map(sorted,kelimeler))"
   ]
  },
  {
   "cell_type": "code",
   "execution_count": 13,
   "id": "81f7fe2b",
   "metadata": {},
   "outputs": [
    {
     "name": "stdout",
     "output_type": "stream",
     "text": [
      "hellohellohello\n"
     ]
    }
   ],
   "source": [
    "echo_word = lambda x,y : x * y\n",
    "print(echo_word(\"hello\",3))   "
   ]
  },
  {
   "cell_type": "code",
   "execution_count": 17,
   "id": "7c18c52a",
   "metadata": {},
   "outputs": [
    {
     "name": "stdout",
     "output_type": "stream",
     "text": [
      "['ı love you', 'you ate much', 'he works hard']\n"
     ]
    }
   ],
   "source": [
    "letter1 = [\"you\",\"much\",\"hard\"]\n",
    "letter2 = [\"ı\",\"you\",\"he\"]\n",
    "letter3 = [\"love\",\"ate\",\"works\"]\n",
    "numbers = map(lambda x,y,z : y + \" \"+ z + \" \" + x, letter1,letter2,letter3) #x+y+z string olanları concanete yaparken int olanları toplar.\n",
    "                                                            #her iterable in ilk harflerini alarak sırasıyla yazar ve objectler oluşmaya başlar.\n",
    "print(list(numbers))"
   ]
  },
  {
   "cell_type": "code",
   "execution_count": 18,
   "id": "ee5a14a1",
   "metadata": {},
   "outputs": [
    {
     "name": "stdout",
     "output_type": "stream",
     "text": [
      "['ı love you', 'you ate much', 'he works hard']\n"
     ]
    }
   ],
   "source": [
    "letter1 = [\"you\",\"much\",\"hard\"]\n",
    "letter2 = [\"ı\",\"you\",\"he\"]\n",
    "letter3 = [\"love\",\"ate\",\"works\"]\n",
    "numbers = map(lambda x,y,z : x + \" \"+ y + \" \" + z, letter2,letter3,letter1) #x+y+z string olanları concanete yaparken int olanları toplar.\n",
    "                                                            #her iterable in ilk harflerini alarak sırasıyla yazar ve objectler oluşmaya başlar.\n",
    "print(list(numbers))"
   ]
  },
  {
   "cell_type": "code",
   "execution_count": 22,
   "id": "40b9d0c1",
   "metadata": {},
   "outputs": [
    {
     "name": "stdout",
     "output_type": "stream",
     "text": [
      "<class 'filter'>\n",
      "Even numbers are : [0, 2, 4, 6, 8]\n"
     ]
    }
   ],
   "source": [
    "first_ten = [0,1,2,3,4,5,6,7,8,9]\n",
    "\n",
    "even = filter(lambda x:x%2==0, first_ten)   #iterable her bir elemanına true mu false mu döndürür sorar ona göre sonucu alır.\n",
    "print(type(even))  #it's \"filter\" type,\n",
    "                   #in order to print the result,\n",
    "                   #we'd better convert it into the list type\n",
    "        \n",
    "print(\"Even numbers are :\", list(even))"
   ]
  },
  {
   "cell_type": "code",
   "execution_count": 21,
   "id": "04e026db",
   "metadata": {},
   "outputs": [
    {
     "name": "stdout",
     "output_type": "stream",
     "text": [
      "<class 'filter'>\n",
      "Even numbers ar : [1, 3, 5, 7, 9]\n"
     ]
    }
   ],
   "source": [
    "first_ten = [0,1,2,3,4,5,6,7,8,9]\n",
    "\n",
    "odd = filter(lambda x:x%2!=0, first_ten)   #iterable her bir elemanına true mu false mu döndürür sorar ona göre sonucu alır.\n",
    "print(type(odd))  #it's \"filter\" type,\n",
    "                   #in order to print the result,\n",
    "                   #we'd better convert it into the list type\n",
    "        \n",
    "print(\"Even numbers are :\", list(odd))"
   ]
  },
  {
   "cell_type": "code",
   "execution_count": 1,
   "id": "9d89b103",
   "metadata": {},
   "outputs": [
    {
     "name": "stdout",
     "output_type": "stream",
     "text": [
      "['swim', 'me', 'kiwi']\n"
     ]
    }
   ],
   "source": [
    "words = [\"apple\", \"swim\", \"clock\", \"me\", \"kiwi\", \"banana\"]\n",
    "print(list(filter(lambda x: len(x)<5, words)))\n"
   ]
  },
  {
   "cell_type": "code",
   "execution_count": 2,
   "id": "1c2867ca",
   "metadata": {},
   "outputs": [
    {
     "name": "stdout",
     "output_type": "stream",
     "text": [
      "a e i\n"
     ]
    }
   ],
   "source": [
    "first_ten = ['a', 'b', 'c', 'd', 'e', 'f', 'g', 'h', 'i', 'j']\n",
    "sesli = [\"a\", \"e\", \"i\", \"o\", \"u\"]\n",
    "filtered_words = filter(lambda x: x in sesli, first_ten)        \n",
    "print(*filtered_words)"
   ]
  },
  {
   "cell_type": "code",
   "execution_count": 3,
   "id": "244a28d8",
   "metadata": {},
   "outputs": [
    {
     "name": "stdout",
     "output_type": "stream",
     "text": [
      "vowels are :  ['a', 'e', 'i']\n"
     ]
    }
   ],
   "source": [
    "first_ten = ['a', 'b', 'c', 'd', 'e', 'f', 'g', 'h', 'i', 'j']\n",
    "sesli = [\"a\", \"e\", \"i\", \"o\", \"u\"]\n",
    "vowels = filter(lambda x: True if x in sesli else False, first_ten)        \n",
    "print(\"vowels are : \", list(vowels))"
   ]
  },
  {
   "cell_type": "markdown",
   "id": "fc81a87a",
   "metadata": {},
   "source": [
    "# ROBOT SORUSU"
   ]
  },
  {
   "cell_type": "code",
   "execution_count": 11,
   "id": "7513c0ac",
   "metadata": {},
   "outputs": [],
   "source": [
    "C = [\"right 20\", \"right 30\", \"left 50\", \"down 20\", \"up 10\"]"
   ]
  },
  {
   "cell_type": "code",
   "execution_count": null,
   "id": "3b02bc7d",
   "metadata": {},
   "outputs": [],
   "source": [
    "# [0, -10]"
   ]
  },
  {
   "cell_type": "code",
   "execution_count": 14,
   "id": "eafb4bf6",
   "metadata": {},
   "outputs": [
    {
     "data": {
      "text/plain": [
       "[0, -10]"
      ]
     },
     "execution_count": 14,
     "metadata": {},
     "output_type": "execute_result"
    }
   ],
   "source": [
    "x = y = 0  #bunlar integer koordinatlar.\n",
    "\n",
    "for i in range(len(C)):  #uzunluk 0-4 olduğundan 4 döndürecek. Böylece elemanları indekslemiş oldum.\n",
    "    if C[i].startswith(\"r\"): x = x + int(C[i].split()[1])  #string değeri integere çevirdik.\n",
    "    elif C[i].startswith(\"l\"): x = x - int(C[i].split()[1])    \n",
    "    elif C[i].startswith(\"u\"): y = y + int(C[i].split()[1])\n",
    "    elif C[i].startswith(\"d\"): y = y - int(C[i].split()[1])\n",
    "[x, y]"
   ]
  },
  {
   "cell_type": "code",
   "execution_count": 6,
   "id": "e2ebdd0f",
   "metadata": {},
   "outputs": [
    {
     "data": {
      "text/plain": [
       "['right', '20']"
      ]
     },
     "execution_count": 6,
     "metadata": {},
     "output_type": "execute_result"
    }
   ],
   "source": [
    "C[0].split()"
   ]
  },
  {
   "cell_type": "code",
   "execution_count": 7,
   "id": "52dce5b9",
   "metadata": {},
   "outputs": [
    {
     "data": {
      "text/plain": [
       "'20'"
      ]
     },
     "execution_count": 7,
     "metadata": {},
     "output_type": "execute_result"
    }
   ],
   "source": [
    "C[0].split()[1]  #string bir değer verdi bize."
   ]
  }
 ],
 "metadata": {
  "kernelspec": {
   "display_name": "Python 3",
   "language": "python",
   "name": "python3"
  },
  "language_info": {
   "codemirror_mode": {
    "name": "ipython",
    "version": 3
   },
   "file_extension": ".py",
   "mimetype": "text/x-python",
   "name": "python",
   "nbconvert_exporter": "python",
   "pygments_lexer": "ipython3",
   "version": "3.8.10"
  }
 },
 "nbformat": 4,
 "nbformat_minor": 5
}
