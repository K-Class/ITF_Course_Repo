{
 "cells": [
  {
   "cell_type": "markdown",
   "metadata": {},
   "source": [
    "<center><img src=\"https://github.com/aaron-clarusway/fullstack/blob/master/itf-logo.png?raw=true\"  alt=\"alt text\" width=\"200\"/></center>\n",
    "<br>\n",
    "<h1><p style=\"text-align: center; color:darkblue\">Python Basic & Plus</p><h1>\n",
    "<center><h1>Workshop - 4</h1></center>\n",
    "<p><img align=\"right\"\n",
    "  src=\"https://secure.meetupstatic.com/photos/event/3/1/b/9/600_488352729.jpeg\"  width=\"15px\"></p>\n",
    "<br>\n",
    "\n",
    "\n",
    "# Subject: Collections - Control Flow Statements - Functions"
   ]
  },
  {
   "cell_type": "markdown",
   "metadata": {},
   "source": [
    "## Coding Challenge -1 : Palindrome\n",
    "\n",
    "Purpose of the this coding challenge is to solve a control flow statements issue.\n",
    "\n",
    "### Learning Outcomes\n",
    "\n",
    "At the end of the this coding challenge, students will be able to;\n",
    "\n",
    "- understand the use of loops.\n",
    "- understand the importance of alphanumeric string methods.\n",
    "- get a better understanding in manipulating strings.\n",
    "\n",
    "### Problem Statement\n",
    "  \n",
    "- Write a function/functions that checks whether the sentence you get from the user is a **palindrome**. (Do not consider punctuation and special characters. Only consider \"***alphanumeric***\" characters.)\n",
    "\n",
    "\n",
    "```bash\n",
    "input : \"ey edip adana'da, pide ye!\"\n",
    "\n",
    "output : \"ey edip adana'da, pide ye!\" is a palindrome\n",
    "```"
   ]
  },
  {
   "cell_type": "markdown",
   "metadata": {},
   "source": [
    "### Solution :"
   ]
  },
  {
   "cell_type": "code",
   "execution_count": 29,
   "metadata": {},
   "outputs": [
    {
     "name": "stdout",
     "output_type": "stream",
     "text": [
      "Enter a sentence :Ana, Naci dede ne dedi Canan'A?\n",
      "AnaNacidedenedediCananA\n",
      "Ana, Naci dede ne dedi Canan'A? is a palindrome.\n",
      "AnaNacidedenedediCananA\n",
      "Ana, Naci dede ne dedi Canan'A? is a palindrome.\n"
     ]
    }
   ],
   "source": [
    "# Solution 1\n",
    "sentence = input(\"Enter a sentence :\")\n",
    "alpha_numeric = [\"a\",\"b\",\"c\",\"d\",\"e\",\"f\",\"g\",\"h\",\"i\",\"j\",\"k\",\"l\",\"m\",\"n\",\"o\",\"p\",\"q\",\"r\",\"s\",\"t\",\"u\",\"v\",\"w\",\"x\",\"y\",\n",
    "                 \"z\",\"0\",\"1\",\"2\",\"3\",\"4\",\"5\",\"6\",\"7\",\"8\",\"9\",\"A\",\"B\",\"C\",\"D\",\"E\",\"F\",\"G\",\"H\",\"I\",\"J\",\"K\",\"L\",\"M\",\"N\",\n",
    "                 \"O\",\"P\",\"Q\",\"R\",\"S\",\"T\",\"U\",\"V\",\"W\",\"X\",\"Y\",\"Z\"]\n",
    "\n",
    "\n",
    "newsent=\"\"\n",
    "\n",
    "\n",
    "for i in sentence:\n",
    "    if i in alpha_numeric:        #bunu i.isalnum() ile de yapabiliriz.\n",
    "        newsent+=i\n",
    "print(newsent)\n",
    "\n",
    "\n",
    "if newsent[::-1].casefold() == newsent.casefold() :\n",
    "    print(sentence,\"is a palindrome.\")\n",
    "else:\n",
    "    print(sentence,\"is not a palindrome.\")\n",
    "       "
   ]
  },
  {
   "cell_type": "code",
   "execution_count": 40,
   "metadata": {},
   "outputs": [
    {
     "name": "stdout",
     "output_type": "stream",
     "text": [
      "Enter a sentence :Ana, Naci dede ne dedi Canan'A?\n",
      "ana, naci dede ne dedi canan'a? is a palindrome.\n",
      "ana, naci dede ne dedi canan'a? is a palindrome.\n"
     ]
    }
   ],
   "source": [
    "# Solution 2\n",
    "sentence = input(\"Enter a sentence :\")\n",
    "sentence=sentence.casefold()\n",
    "\n",
    "x= list(filter(lambda i: i.isalnum(), sentence))\n",
    "\n",
    "if x[::-1] == x :\n",
    "   print(sentence,\"is a palindrome.\")\n",
    "else:\n",
    "    print(sentence,\"is not a palindrome.\") \n"
   ]
  },
  {
   "cell_type": "code",
   "execution_count": 6,
   "metadata": {},
   "outputs": [
    {
     "name": "stdout",
     "output_type": "stream",
     "text": [
      "Enter a sentence :Ana, Naci dede ne dedi Canan'A?\n",
      "ana, naci dede ne dedi canan'a? is a palindrome.\n"
     ]
    }
   ],
   "source": [
    "# Solution 3\n",
    "sentence = input(\"Enter a sentence :\")\n",
    "sentence = sentence.casefold() #lower()\n",
    "import re\n",
    "\n",
    "newsent = re.sub(r'\\W+', '', sentence)\n",
    "revsent = sentence[::-1]\n",
    "revsent = re.sub(r'\\W+', '', sentence)\n",
    "\n",
    "\n",
    "def isPalindrome(sentence):        #if newsent=revsent\n",
    "    return newsent == revsent          \n",
    " \n",
    " \n",
    "ans = isPalindrome(sentence)\n",
    " \n",
    "if ans:\n",
    "    print(sentence,\"is a palindrome.\")\n",
    "else:\n",
    "    print(sentence,\"is not a palindrome.\")\n",
    "     "
   ]
  },
  {
   "cell_type": "code",
   "execution_count": 4,
   "metadata": {},
   "outputs": [
    {
     "name": "stdout",
     "output_type": "stream",
     "text": [
      "output:  \"Ey edip adana'da pide ye\" is a palindrome.\n"
     ]
    }
   ],
   "source": [
    "# Solution 4\n",
    "\n",
    "def isPalindrome(sentence):       \n",
    "    newsent = \"\".join(x for x in sentence if x.isalnum()).lower()          \n",
    " \n",
    "    if newsent == newsent[::-1]:\n",
    "        print(\"output: \", repr(sentence),\"is a palindrome.\")\n",
    "    else:\n",
    "        print(\"output: \", repr(sentence),\"is not a palindrome.\")\n",
    "\n",
    "isPalindrome(\"Ey edip adana'da pide ye\")"
   ]
  },
  {
   "cell_type": "code",
   "execution_count": null,
   "metadata": {},
   "outputs": [],
   "source": [
    "\\w ve \\W İfadesi\n",
    "Bu ifade kaynaktaki karakter,sayı ve alt çizgiyi yakalar. Büyük harfle yazılan hali ise tam tersini yani boşluk, nokta, \n",
    "soru işareti, boşluk gibi karakterleri yakalar.\n",
    "\n",
    ">>> re.sub(\"\\w+\",\"Mail adresin stephen%king@test.com mu?\")\n",
    "'  %@. ?\n",
    ">>> re.sub(\"\\W+\",\"Mail adresin sinan%erdinc@test.com mu?\")\n",
    "'Mailadresinstephenkingtestcommu"
   ]
  },
  {
   "cell_type": "code",
   "execution_count": 5,
   "metadata": {},
   "outputs": [
    {
     "data": {
      "text/plain": [
       "'  %@. ?'"
      ]
     },
     "execution_count": 5,
     "metadata": {},
     "output_type": "execute_result"
    }
   ],
   "source": [
    "sentence=\"Mail adresin stephen%king@test.com mu?\"\n",
    "import re\n",
    "re.sub(\"\\w+\",\"\",sentence)"
   ]
  },
  {
   "cell_type": "code",
   "execution_count": 8,
   "metadata": {},
   "outputs": [
    {
     "name": "stdout",
     "output_type": "stream",
     "text": [
      "Enter a sentence :Ana, Naci dede ne dedi Canan'A?\n",
      "ana, naci dede ne dedi canan'a? is a palindrome.\n"
     ]
    }
   ],
   "source": [
    "sentence = input(\"Enter a sentence :\")\n",
    "sentence = sentence.casefold()  #lower()\n",
    "\n",
    "import re\n",
    "\n",
    "newsent = re.sub(r'\\W+', '', sentence)\n",
    "revsent = sentence[::-1]\n",
    "revsent = re.sub(r'\\W+', '', sentence)\n",
    "\n",
    "\n",
    "if newsent == revsent :        \n",
    "    print(sentence,\"is a palindrome.\")\n",
    "else:\n",
    "    print(sentence,\"is not a palindrome.\")\n",
    "     "
   ]
  },
  {
   "cell_type": "code",
   "execution_count": null,
   "metadata": {},
   "outputs": [],
   "source": []
  },
  {
   "cell_type": "code",
   "execution_count": 25,
   "metadata": {},
   "outputs": [
    {
     "name": "stdout",
     "output_type": "stream",
     "text": [
      "Enter a sentence :Ana, Naci dede ne dedi Canan'A?\n",
      "['A', 'n', 'a', 'N', 'a', 'c', 'i', 'd', 'e', 'd', 'e', 'n', 'e', 'd', 'e', 'd', 'i', 'C', 'a', 'n', 'a', 'n', 'A']\n",
      "['A', 'n', 'a', 'N', 'a', 'c', 'i', 'd', 'e', 'd', 'e', 'n', 'e', 'd', 'e', 'd', 'i', 'C', 'a', 'n', 'a', 'n', 'A']\n"
     ]
    }
   ],
   "source": [
    "sentence = input(\"Enter a sentence :\")\n",
    "\n",
    "x= list(filter(lambda i: i.isalnum(), sentence))\n",
    "print(x)"
   ]
  },
  {
   "cell_type": "code",
   "execution_count": 7,
   "metadata": {},
   "outputs": [
    {
     "name": "stdout",
     "output_type": "stream",
     "text": [
      "Eyedipadanadapideye\n",
      "Eyedipadanadapideye\n"
     ]
    }
   ],
   "source": [
    "your_string=\"Ey edip adana'da, pide ye!\"\n",
    "import re\n",
    "stripped_string = re.sub(r'\\W+', '', your_string)\n",
    "print(stripped_string)"
   ]
  },
  {
   "cell_type": "code",
   "execution_count": 16,
   "metadata": {},
   "outputs": [
    {
     "name": "stdout",
     "output_type": "stream",
     "text": [
      "False\n"
     ]
    }
   ],
   "source": [
    "txt = \"Company 12\"\n",
    "\n",
    "x = txt.isalnum()\n",
    "\n",
    "print(x)"
   ]
  },
  {
   "cell_type": "code",
   "execution_count": 13,
   "metadata": {},
   "outputs": [
    {
     "data": {
      "text/plain": [
       "'der fluss'"
      ]
     },
     "execution_count": 13,
     "metadata": {},
     "output_type": "execute_result"
    }
   ],
   "source": [
    "firstString.casefold()"
   ]
  },
  {
   "cell_type": "code",
   "execution_count": 10,
   "metadata": {},
   "outputs": [
    {
     "data": {
      "text/plain": [
       "'company 12'"
      ]
     },
     "execution_count": 10,
     "metadata": {},
     "output_type": "execute_result"
    }
   ],
   "source": [
    "txt.casefold()"
   ]
  },
  {
   "cell_type": "code",
   "execution_count": null,
   "metadata": {},
   "outputs": [],
   "source": [
    "print((lambda x : x [::-1])(\"Sen nereden geliyorsun biliyor musun?\"))"
   ]
  },
  {
   "cell_type": "code",
   "execution_count": null,
   "metadata": {},
   "outputs": [],
   "source": [
    "print(len(list(filter(lambda i: i.isnumeric(), cumle))))"
   ]
  },
  {
   "cell_type": "code",
   "execution_count": 1,
   "metadata": {},
   "outputs": [
    {
     "ename": "IndentationError",
     "evalue": "expected an indented block (<ipython-input-1-d34b63f7b122>, line 4)",
     "output_type": "error",
     "traceback": [
      "\u001b[1;36m  File \u001b[1;32m\"<ipython-input-1-d34b63f7b122>\"\u001b[1;36m, line \u001b[1;32m4\u001b[0m\n\u001b[1;33m    for i in range(len(yazi) - 1, -1, -1):\u001b[0m\n\u001b[1;37m    ^\u001b[0m\n\u001b[1;31mIndentationError\u001b[0m\u001b[1;31m:\u001b[0m expected an indented block\n"
     ]
    }
   ],
   "source": [
    "duzyazi = input(\"Lütfen cümle veya kelime giriniz: \")\n",
    "tersyazi = \"\"\n",
    "def tersalma(yazi, ters):\n",
    "for i in range(len(yazi) - 1, -1, -1):\n",
    "ters = ters + yazi[i]\n",
    "return ters\n",
    "terscevrilmisversiyonu = tersalma(duzyazi, tersyazi)\n",
    "print(\"Ters Çevrilmiş Hali: {} \".format(terscevrilmisversiyonu))"
   ]
  },
  {
   "cell_type": "code",
   "execution_count": null,
   "metadata": {},
   "outputs": [],
   "source": [
    "# function to check string is\n",
    "# palindrome or not\n",
    "def isPalindrome(str):\n",
    " \n",
    "    # Run loop from 0 to len/2\n",
    "    for i in range(0, int(len(str)/2)):\n",
    "        if str[i] != str[len(str)-i-1]:\n",
    "            return False\n",
    "    return True\n",
    " \n",
    "# main function\n",
    "s = \"malayalam\"\n",
    "ans = isPalindrome(s)\n",
    " \n",
    "if (ans):\n",
    "    print(\"Yes\")\n",
    "else:\n",
    "    print(\"No\")"
   ]
  },
  {
   "cell_type": "code",
   "execution_count": 2,
   "metadata": {},
   "outputs": [
    {
     "name": "stdout",
     "output_type": "stream",
     "text": [
      "Yes\n"
     ]
    }
   ],
   "source": [
    "# Python program to check\n",
    "# if a string is palindrome\n",
    "# or not\n",
    " \n",
    "x = \"malayalam\"\n",
    "x=x.lower()\n",
    " \n",
    "w = \"\"\n",
    "for i in x:\n",
    "    w = i + w\n",
    " \n",
    "if (x == w):\n",
    "    print(\"Yes\")\n",
    "else:\n",
    "    print(\"No\")\n",
    "   "
   ]
  },
  {
   "cell_type": "markdown",
   "metadata": {},
   "source": [
    "## Coding Challenge - 2: Sudoku Format Converter&Printer\n",
    "\n",
    "The purpose of this coding challenge is to write a program that prints the given lists as sudoku looking format.\n",
    "\n",
    "### Learning Outcomes\n",
    "\n",
    "At the end of this coding challenge, students will be able to;\n",
    "\n",
    "- analyze a problem, identify, and apply programming knowledge for appropriate solution.\n",
    "\n",
    "- design, implement `arithmetic operators` and nested loops effectively in Python to solve the given problem.\n",
    "\n",
    "- demonstrate their knowledge of algorithmic design principles by solving the problem effectively.\n",
    "\n",
    "### Problem Statement\n",
    "\n",
    "<div class=\"alert alert-block alert-info\">\n",
    "    <b>💡Objective:</b>\n",
    "    <ul>\n",
    "        <li>To improve your <b>control flow statement</b> skills.</li>\n",
    "    </ul>\n",
    "</div>\n",
    "\n",
    "<hr>\n",
    "<p><b>Task:</b> The department you work for has received a project that displays the solved sudoku puzzles in a digital environment.&nbsp;</p>\n",
    "<p></p>\n",
    "<p></p>\n",
    "<ul>\n",
    "    <li>Write a Python code to print out the given <code>sudoku</code> puzzle matrix in the following format.</li>\n",
    "</ul>\n",
    "<b>Given format :</b><br>\n",
    "<ol>\n",
    "</ol>\n",
    "<p>\n",
    "</p>\n",
    "<div>\n",
    "    <pre>sudoku&nbsp;=&nbsp;[<br>&nbsp;&nbsp;&nbsp;&nbsp;[0,&nbsp;0,&nbsp;0,&nbsp;0,&nbsp;6,&nbsp;4,&nbsp;0,&nbsp;0,&nbsp;0],<br>&nbsp;&nbsp;&nbsp;&nbsp;[7,&nbsp;0,&nbsp;0,&nbsp;0,&nbsp;0,&nbsp;0,&nbsp;3,&nbsp;9,&nbsp;0],<br>&nbsp;&nbsp;&nbsp;&nbsp;[8,&nbsp;0,&nbsp;0,&nbsp;0,&nbsp;0,&nbsp;0,&nbsp;0,&nbsp;0,&nbsp;0],<br>&nbsp;&nbsp;&nbsp;&nbsp;[0,&nbsp;0,&nbsp;0,&nbsp;5,&nbsp;0,&nbsp;2,&nbsp;0,&nbsp;6,&nbsp;0],<br>&nbsp;&nbsp;&nbsp;&nbsp;[0,&nbsp;8,&nbsp;0,&nbsp;4,&nbsp;0,&nbsp;0,&nbsp;0,&nbsp;0,&nbsp;0],<br>&nbsp;&nbsp;&nbsp;&nbsp;[3,&nbsp;5,&nbsp;0,&nbsp;6,&nbsp;0,&nbsp;0,&nbsp;0,&nbsp;7,&nbsp;0],<br>&nbsp;&nbsp;&nbsp;&nbsp;[0,&nbsp;0,&nbsp;2,&nbsp;0,&nbsp;0,&nbsp;0,&nbsp;1,&nbsp;0,&nbsp;3],<br>&nbsp;&nbsp;&nbsp;&nbsp;[0,&nbsp;0,&nbsp;1,&nbsp;0,&nbsp;5,&nbsp;9,&nbsp;0,&nbsp;0,&nbsp;0],<br>&nbsp;&nbsp;&nbsp;&nbsp;[0,&nbsp;0,&nbsp;0,&nbsp;0,&nbsp;0,&nbsp;0,&nbsp;7,&nbsp;0,&nbsp;0]<br>]</pre>\n",
    "    <div>\n",
    "        <b>Desired output format :</b><br>\n",
    "        <ol>\n",
    "        </ol>\n",
    "    </div>\n",
    "    <pre>- - - - - - - - - - - - - - - \n",
    "0  0  0  | 0  6  4  | 0  0  0  \n",
    "7  0  0  | 0  0  0  | 3  9  0  \n",
    "8  0  0  | 0  0  0  | 0  0  0  \n",
    "- - - - - - - - - - - - - - - \n",
    "0  0  0  | 5  0  2  | 0  6  0  \n",
    "0  8  0  | 4  0  0  | 0  0  0  \n",
    "3  5  0  | 6  0  0  | 0  7  0  \n",
    "- - - - - - - - - - - - - - - \n",
    "0  0  2  | 0  0  0  | 1  0  3  \n",
    "0  0  1  | 0  5  9  | 0  0  0  \n",
    "0  0  0  | 0  0  0  | 7  0  0  \n",
    "- - - - - - - - - - - - - - -</pre>\n",
    "</div><br>\n",
    "<p></p>\n",
    "<p></p>\n",
    "<hr>\n",
    "<p><i><b>Note that</b>; <br></i></p>\n",
    "<ul>\n",
    "    <li><i><i>Use not more than \"<b>control flow statement and boolean logic operators</b>\" in solving this code problem. </i></i>\n",
    "    </li>\n",
    "    <li><i><i>The output which we expect from you is only a new output format above. </i></i>\n",
    "    </li>\n",
    "    <li><i><i>We don't expect a sudoku puzzle solver from you.</i></i>\n",
    "    </li>\n",
    "</ul>\n",
    "<p></p>"
   ]
  },
  {
   "cell_type": "markdown",
   "metadata": {},
   "source": [
    "### Solution :"
   ]
  },
  {
   "cell_type": "code",
   "execution_count": 3,
   "metadata": {},
   "outputs": [],
   "source": [
    "sudoku = [\n",
    "    [0, 0, 0, 0, 6, 4, 0, 0, 0],\n",
    "    [7, 0, 0, 0, 0, 0, 3, 9, 0],\n",
    "    [8, 0, 0, 0, 0, 0, 0, 0, 0],\n",
    "    [0, 0, 0, 5, 0, 2, 0, 6, 0],\n",
    "    [0, 8, 0, 4, 0, 0, 0, 0, 0],\n",
    "    [3, 5, 0, 6, 0, 0, 0, 7, 0],\n",
    "    [0, 0, 2, 0, 0, 0, 1, 0, 3],\n",
    "    [0, 0, 1, 0, 5, 9, 0, 0, 0],\n",
    "    [0, 0, 0, 0, 0, 0, 7, 0, 0]\n",
    "]"
   ]
  },
  {
   "cell_type": "code",
   "execution_count": 130,
   "metadata": {},
   "outputs": [
    {
     "name": "stdout",
     "output_type": "stream",
     "text": [
      "- - - - - - - - - - - - - -  \n",
      " 0  0  0 | 0  6  4 |0  0  0\n",
      " 7  0  0 | 0  0  0 |3  9  0\n",
      " 8  0  0 | 0  0  0 |0  0  0\n",
      "- - - - - - - - - - - - - -  \n",
      " 0  0  0 | 5  0  2 |0  6  0\n",
      " 0  8  0 | 4  0  0 |0  0  0\n",
      " 3  5  0 | 6  0  0 |0  7  0\n",
      "- - - - - - - - - - - - - -  \n",
      " 0  0  2 | 0  0  0 |1  0  3\n",
      " 0  0  1 | 0  5  9 |0  0  0\n",
      " 0  0  0 | 0  0  0 |7  0  0\n",
      "- - - - - - - - - - - - - -  \n"
     ]
    }
   ],
   "source": [
    "# Solution 1\n",
    "\n",
    "print(\"- - - - - - - - - - - - - -  \")     \n",
    "for i, row in enumerate(sudoku):\n",
    "        print((\"\" + \" {}  {}  {} |\" + \" {}  {}  {} |\" + \"{}  {}  {}\").format(*[x for x in row]))      # (\"|\" + \" {}  {}  {} |\"*3)\n",
    "        if i % 3 == 2:\n",
    "            print(\"- - - - - - - - - - - - - -  \")"
   ]
  },
  {
   "cell_type": "code",
   "execution_count": 151,
   "metadata": {},
   "outputs": [
    {
     "name": "stdout",
     "output_type": "stream",
     "text": [
      "- - - - - - - - - - - - - -  \n",
      "0 [0, 0, 0, 0, 6, 4, 0, 0, 0]\n",
      "1 [7, 0, 0, 0, 0, 0, 3, 9, 0]\n",
      "2 [8, 0, 0, 0, 0, 0, 0, 0, 0]\n",
      "3 [0, 0, 0, 5, 0, 2, 0, 6, 0]\n",
      "4 [0, 8, 0, 4, 0, 0, 0, 0, 0]\n",
      "5 [3, 5, 0, 6, 0, 0, 0, 7, 0]\n",
      "6 [0, 0, 2, 0, 0, 0, 1, 0, 3]\n",
      "7 [0, 0, 1, 0, 5, 9, 0, 0, 0]\n",
      "8 [0, 0, 0, 0, 0, 0, 7, 0, 0]\n"
     ]
    }
   ],
   "source": [
    "print(\"- - - - - - - - - - - - - -  \")     \n",
    "for i, row in enumerate(sudoku):\n",
    "    print(i,row)"
   ]
  },
  {
   "cell_type": "code",
   "execution_count": null,
   "metadata": {},
   "outputs": [],
   "source": []
  },
  {
   "cell_type": "code",
   "execution_count": 132,
   "metadata": {},
   "outputs": [
    {
     "name": "stdout",
     "output_type": "stream",
     "text": [
      "- - - - - - - - - - - - - - - - \n",
      "0  0  0  0  6  4  0  0  0  7  0  0  0  0  0  3  9  0  8  0  0  0  0  0  0  0  0  0  0  0  5  0  2  0  6  0  0  8  0  4  0  0  0  0  0  3  5  0  6  0  0  0  7  0  0  0  2  0  0  0  1  0  3  0  0  1  0  5  9  0  0  0  0  0  0  0  0  0  7  0  0  "
     ]
    }
   ],
   "source": [
    "# Solution 2\n",
    "\n",
    "print('- '*16)\n",
    "for ridx, row in enumerate(sudoku):\n",
    "    for idx, item in enumerate(row):\n",
    "        print(str(item)+'  ', end='')"
   ]
  },
  {
   "cell_type": "code",
   "execution_count": 153,
   "metadata": {},
   "outputs": [
    {
     "name": "stdout",
     "output_type": "stream",
     "text": [
      "- - - - - - - - - - - - - - - - \n",
      "0  0  0  |  0  6  4  |  0  0  0  7  0  0  |  0  0  0  |  3  9  0  8  0  0  |  0  0  0  |  0  0  0  0  0  0  |  5  0  2  |  0  6  0  0  8  0  |  4  0  0  |  0  0  0  3  5  0  |  6  0  0  |  0  7  0  0  0  2  |  0  0  0  |  1  0  3  0  0  1  |  0  5  9  |  0  0  0  0  0  0  |  0  0  0  |  7  0  0  "
     ]
    }
   ],
   "source": [
    "print('- '*16)\n",
    "for ridx, row in enumerate(sudoku):\n",
    "    for idx, item in enumerate(row):\n",
    "        print(str(item)+'  ', end='')\n",
    "        if idx == 2 or idx == 5:\n",
    "            print('|  ', end='')"
   ]
  },
  {
   "cell_type": "code",
   "execution_count": 152,
   "metadata": {},
   "outputs": [
    {
     "name": "stdout",
     "output_type": "stream",
     "text": [
      "- - - - - - - - - - - - - - - - \n",
      "0  0  0  |  0  6  4  |  0  0  0  7  0  0  |  0  0  0  |  3  9  0  8  0  0  |  0  0  0  |  0  0  0  \n",
      " - - - - - - - - - - - - - - - - \n",
      "0  0  0  |  5  0  2  |  0  6  0  0  8  0  |  4  0  0  |  0  0  0  3  5  0  |  6  0  0  |  0  7  0  \n",
      " - - - - - - - - - - - - - - - - \n",
      "0  0  2  |  0  0  0  |  1  0  3  0  0  1  |  0  5  9  |  0  0  0  0  0  0  |  0  0  0  |  7  0  0  "
     ]
    }
   ],
   "source": [
    "print('- '*16)\n",
    "for ridx, row in enumerate(sudoku):\n",
    "    for idx, item in enumerate(row):\n",
    "        print(str(item)+'  ', end='')\n",
    "        if idx == 2 or idx == 5:\n",
    "            print('|  ', end='') \n",
    "    if ridx == 2 or ridx == 5:\n",
    "        print('\\n', '- '*16)"
   ]
  },
  {
   "cell_type": "code",
   "execution_count": 154,
   "metadata": {},
   "outputs": [
    {
     "name": "stdout",
     "output_type": "stream",
     "text": [
      "- - - - - - - - - - - - - - - - \n",
      "0  0  0  |  0  6  4  |  0  0  0  \n",
      "7  0  0  |  0  0  0  |  3  9  0  \n",
      "8  0  0  |  0  0  0  |  0  0  0  \n",
      " - - - - - - - - - - - - - - - - \n",
      "0  0  0  |  5  0  2  |  0  6  0  \n",
      "0  8  0  |  4  0  0  |  0  0  0  \n",
      "3  5  0  |  6  0  0  |  0  7  0  \n",
      " - - - - - - - - - - - - - - - - \n",
      "0  0  2  |  0  0  0  |  1  0  3  \n",
      "0  0  1  |  0  5  9  |  0  0  0  \n",
      "0  0  0  |  0  0  0  |  7  0  0  \n"
     ]
    }
   ],
   "source": [
    "print('- '*16)\n",
    "for ridx, row in enumerate(sudoku):\n",
    "    for idx, item in enumerate(row):\n",
    "        print(str(item)+'  ', end='')\n",
    "        if idx == 2 or idx == 5:\n",
    "            print('|  ', end='') \n",
    "    if ridx == 2 or ridx == 5:\n",
    "        print('\\n', '- '*16)\n",
    "    else:\n",
    "        print('\\n', end='')\n"
   ]
  },
  {
   "cell_type": "code",
   "execution_count": 8,
   "metadata": {},
   "outputs": [
    {
     "name": "stdout",
     "output_type": "stream",
     "text": [
      "---------------------\n",
      "0 0 0 | 0 6 4 | 0 0 0\n",
      "7 0 0 | 0 0 0 | 3 9 0\n",
      "8 0 0 | 0 0 0 | 0 0 0\n",
      "---------------------\n",
      "0 0 0 | 5 0 2 | 0 6 0\n",
      "0 8 0 | 4 0 0 | 0 0 0\n",
      "3 5 0 | 6 0 0 | 0 7 0\n",
      "---------------------\n",
      "0 0 2 | 0 0 0 | 1 0 3\n",
      "0 0 1 | 0 5 9 | 0 0 0\n",
      "0 0 0 | 0 0 0 | 7 0 0\n",
      "---------------------\n"
     ]
    }
   ],
   "source": [
    "# Solution 3\n",
    "\n",
    "sudoku = [\n",
    "    [0, 0, 0, 0, 6, 4, 0, 0, 0],\n",
    "    [7, 0, 0, 0, 0, 0, 3, 9, 0],\n",
    "    [8, 0, 0, 0, 0, 0, 0, 0, 0],\n",
    "    [0, 0, 0, 5, 0, 2, 0, 6, 0],\n",
    "    [0, 8, 0, 4, 0, 0, 0, 0, 0],\n",
    "    [3, 5, 0, 6, 0, 0, 0, 7, 0],\n",
    "    [0, 0, 2, 0, 0, 0, 1, 0, 3],\n",
    "    [0, 0, 1, 0, 5, 9, 0, 0, 0],\n",
    "    [0, 0, 0, 0, 0, 0, 7, 0, 0]\n",
    "]\n",
    "\n",
    "a = sudoku[0:3]\n",
    "b = sudoku[3:6]\n",
    "c = sudoku[6:9]\n",
    "\n",
    "x = [a,b,c]\n",
    "\n",
    "for i in x:\n",
    "    print(21*\"-\")\n",
    "    for j in i:\n",
    "        print((*j[0:3]),\"|\", *j[3:6],\"|\",(*j[6:9]))\n",
    "print(21*\"-\")"
   ]
  },
  {
   "cell_type": "code",
   "execution_count": 140,
   "metadata": {},
   "outputs": [
    {
     "name": "stdout",
     "output_type": "stream",
     "text": [
      "Krillin  Goethe  Ortega  Piccolo  Albert  "
     ]
    }
   ],
   "source": [
    "characters = [\"Krillin\", \"Goethe\", \"Ortega\", \"Piccolo\",\"Albert\"]\n",
    "for idx, item in enumerate(characters):\n",
    "    print(str(item)+'  ', end='')"
   ]
  },
  {
   "cell_type": "code",
   "execution_count": 138,
   "metadata": {},
   "outputs": [
    {
     "name": "stdout",
     "output_type": "stream",
     "text": [
      "0 Krillin\n",
      "1 Goethe\n",
      "2 Ortega\n",
      "3 Piccolo\n",
      "4 Albert\n"
     ]
    }
   ],
   "source": [
    "characters = [\"Krillin\", \"Goethe\", \"Ortega\", \"Piccolo\",\"Albert\"]\n",
    "for idx, item in enumerate(characters):\n",
    "    print(idx,str(item))"
   ]
  },
  {
   "cell_type": "code",
   "execution_count": 143,
   "metadata": {},
   "outputs": [
    {
     "name": "stdout",
     "output_type": "stream",
     "text": [
      "{'Piccolo': [], 'Ortega': [], 'Albert': [], 'Goethe': [], 'Krillin': []}\n"
     ]
    }
   ],
   "source": [
    "character_map = {character:[] for character in set(characters)}\n",
    "print(character_map)"
   ]
  },
  {
   "cell_type": "code",
   "execution_count": 146,
   "metadata": {},
   "outputs": [
    {
     "data": {
      "text/plain": [
       "{'Piccolo': [3], 'Ortega': [2], 'Albert': [4], 'Goethe': [1], 'Krillin': [0]}"
      ]
     },
     "execution_count": 146,
     "metadata": {},
     "output_type": "execute_result"
    }
   ],
   "source": [
    "for idx, item in enumerate(characters):\n",
    "    character_map[item].append(idx)\n",
    "character_map"
   ]
  },
  {
   "cell_type": "code",
   "execution_count": null,
   "metadata": {},
   "outputs": [],
   "source": []
  },
  {
   "cell_type": "code",
   "execution_count": null,
   "metadata": {},
   "outputs": [],
   "source": []
  },
  {
   "cell_type": "code",
   "execution_count": 7,
   "metadata": {},
   "outputs": [
    {
     "name": "stdout",
     "output_type": "stream",
     "text": [
      "- - - - - - - - - - - - - - - \n",
      "[0, 0, 0, 0, 6, 4, 0, 0, 0]\n",
      "[7, 0, 0, 0, 0, 0, 3, 9, 0]\n",
      "[8, 0, 0, 0, 0, 0, 0, 0, 0]\n",
      "[0, 0, 0, 5, 0, 2, 0, 6, 0]\n",
      "[0, 8, 0, 4, 0, 0, 0, 0, 0]\n",
      "[3, 5, 0, 6, 0, 0, 0, 7, 0]\n",
      "[0, 0, 2, 0, 0, 0, 1, 0, 3]\n",
      "[0, 0, 1, 0, 5, 9, 0, 0, 0]\n",
      "[0, 0, 0, 0, 0, 0, 7, 0, 0]\n"
     ]
    }
   ],
   "source": [
    "# Solution Answer\n",
    "count = 0\n",
    "print(\"- - - - - - - - - - - - - - - \")\n",
    "for i in sudoku:\n",
    "    print(i)"
   ]
  },
  {
   "cell_type": "code",
   "execution_count": 95,
   "metadata": {},
   "outputs": [
    {
     "name": "stdout",
     "output_type": "stream",
     "text": [
      "- - - - - - - - - - - - - - - \n",
      "0\n",
      "0\n",
      "0\n",
      "0\n",
      "6\n",
      "4\n",
      "0\n",
      "0\n",
      "0\n",
      "7\n",
      "0\n",
      "0\n",
      "0\n",
      "0\n",
      "0\n",
      "3\n",
      "9\n",
      "0\n",
      "8\n",
      "0\n",
      "0\n",
      "0\n",
      "0\n",
      "0\n",
      "0\n",
      "0\n",
      "0\n",
      "0\n",
      "0\n",
      "0\n",
      "5\n",
      "0\n",
      "2\n",
      "0\n",
      "6\n",
      "0\n",
      "0\n",
      "8\n",
      "0\n",
      "4\n",
      "0\n",
      "0\n",
      "0\n",
      "0\n",
      "0\n",
      "3\n",
      "5\n",
      "0\n",
      "6\n",
      "0\n",
      "0\n",
      "0\n",
      "7\n",
      "0\n",
      "0\n",
      "0\n",
      "2\n",
      "0\n",
      "0\n",
      "0\n",
      "1\n",
      "0\n",
      "3\n",
      "0\n",
      "0\n",
      "1\n",
      "0\n",
      "5\n",
      "9\n",
      "0\n",
      "0\n",
      "0\n",
      "0\n",
      "0\n",
      "0\n",
      "0\n",
      "0\n",
      "0\n",
      "7\n",
      "0\n",
      "0\n"
     ]
    }
   ],
   "source": [
    "count = 0\n",
    "print(\"- - - - - - - - - - - - - - - \")\n",
    "\n",
    "for i in sudoku:\n",
    "    for j in range(9):\n",
    "        print(i[j])"
   ]
  },
  {
   "cell_type": "code",
   "execution_count": 13,
   "metadata": {},
   "outputs": [
    {
     "name": "stdout",
     "output_type": "stream",
     "text": [
      "- - - - - - - - - - - - - - - \n",
      "0  0  0  0  6  4  0  0  0  7  0  0  0  0  0  3  9  0  8  0  0  0  0  0  0  0  0  0  0  0  5  0  2  0  6  0  0  8  0  4  0  0  0  0  0  3  5  0  6  0  0  0  7  0  0  0  2  0  0  0  1  0  3  0  0  1  0  5  9  0  0  0  0  0  0  0  0  0  7  0  0  "
     ]
    }
   ],
   "source": [
    "count = 0\n",
    "print(\"- - - - - - - - - - - - - - - \")\n",
    "\n",
    "for i in sudoku:\n",
    "    for j in range(9):\n",
    "        print(i[j], \" \", end=\"\")"
   ]
  },
  {
   "cell_type": "code",
   "execution_count": 14,
   "metadata": {},
   "outputs": [
    {
     "name": "stdout",
     "output_type": "stream",
     "text": [
      "- - - - - - - - - - - - - - - \n",
      "0  0  0  0  6  4  0  0  0  \n",
      "7  0  0  0  0  0  3  9  0  \n",
      "8  0  0  0  0  0  0  0  0  \n",
      "0  0  0  5  0  2  0  6  0  \n",
      "0  8  0  4  0  0  0  0  0  \n",
      "3  5  0  6  0  0  0  7  0  \n",
      "0  0  2  0  0  0  1  0  3  \n",
      "0  0  1  0  5  9  0  0  0  \n",
      "0  0  0  0  0  0  7  0  0  \n"
     ]
    }
   ],
   "source": [
    "count = 0\n",
    "print(\"- - - - - - - - - - - - - - - \")\n",
    "\n",
    "for i in sudoku:\n",
    "    for j in range(9):\n",
    "        print(i[j], \" \", end=\"\")\n",
    "        if (j+1) == 9 : \n",
    "            print()\n",
    "            count+=1"
   ]
  },
  {
   "cell_type": "code",
   "execution_count": 15,
   "metadata": {},
   "outputs": [
    {
     "name": "stdout",
     "output_type": "stream",
     "text": [
      "- - - - - - - - - - - - - - - \n",
      "0  0  0  0  6  4  0  0  0  \n",
      "7  0  0  0  0  0  3  9  0  \n",
      "8  0  0  0  0  0  0  0  0  \n",
      "- - - - - - - - - - - - - - - \n",
      "0  0  0  5  0  2  0  6  0  \n",
      "0  8  0  4  0  0  0  0  0  \n",
      "3  5  0  6  0  0  0  7  0  \n",
      "- - - - - - - - - - - - - - - \n",
      "0  0  2  0  0  0  1  0  3  \n",
      "0  0  1  0  5  9  0  0  0  \n",
      "0  0  0  0  0  0  7  0  0  \n",
      "- - - - - - - - - - - - - - - \n"
     ]
    }
   ],
   "source": [
    "count = 0\n",
    "print(\"- - - - - - - - - - - - - - - \")\n",
    "for i in sudoku:\n",
    "    for j in range(9):\n",
    "        print(i[j], \" \", end=\"\")\n",
    "        if (j+1) == 9 : \n",
    "            print()\n",
    "            count+=1\n",
    "            if count%3==0 and count!=0 :\n",
    "                print(\"- - - - - - - - - - - - - - - \")\n"
   ]
  },
  {
   "cell_type": "code",
   "execution_count": 56,
   "metadata": {},
   "outputs": [
    {
     "name": "stdout",
     "output_type": "stream",
     "text": [
      "- - - - - - - - - - - - - - - \n",
      "0  0  0  | 0  6  4  | 0  0  0  \n",
      "7  0  0  | 0  0  0  | 3  9  0  \n",
      "8  0  0  | 0  0  0  | 0  0  0  \n",
      "- - - - - - - - - - - - - - - \n",
      "0  0  0  | 5  0  2  | 0  6  0  \n",
      "0  8  0  | 4  0  0  | 0  0  0  \n",
      "3  5  0  | 6  0  0  | 0  7  0  \n",
      "- - - - - - - - - - - - - - - \n",
      "0  0  2  | 0  0  0  | 1  0  3  \n",
      "0  0  1  | 0  5  9  | 0  0  0  \n",
      "0  0  0  | 0  0  0  | 7  0  0  \n",
      "- - - - - - - - - - - - - - - \n"
     ]
    }
   ],
   "source": [
    "count = 0\n",
    "print(\"- - - - - - - - - - - - - - - \")\n",
    "for i in sudoku:\n",
    "    for j in range(9):\n",
    "        print(i[j], \" \", end=\"\")\n",
    "        if (j+1) == 9 : \n",
    "            print()\n",
    "            count+=1\n",
    "            if count%3==0 and count!=0 :\n",
    "                print(\"- - - - - - - - - - - - - - - \")\n",
    "        if (j+1) % 3 == 0  and j != 0 and j!=8: \n",
    "             print(\"| \", end=\"\") "
   ]
  },
  {
   "cell_type": "code",
   "execution_count": null,
   "metadata": {},
   "outputs": [],
   "source": []
  },
  {
   "cell_type": "code",
   "execution_count": null,
   "metadata": {},
   "outputs": [],
   "source": []
  },
  {
   "cell_type": "code",
   "execution_count": null,
   "metadata": {},
   "outputs": [],
   "source": []
  },
  {
   "cell_type": "code",
   "execution_count": 72,
   "metadata": {},
   "outputs": [],
   "source": []
  },
  {
   "cell_type": "code",
   "execution_count": 99,
   "metadata": {},
   "outputs": [
    {
     "name": "stdout",
     "output_type": "stream",
     "text": [
      "0 0 0 0 6 4 0 0 0 7 0 0 0 0 0 3 9 0 8 0 0 0 0 0 0 0 0 0 0 0 5 0 2 0 6 0 0 8 0 4 0 0 0 0 0 3 5 0 6 0 0 0 7 0 0 0 2 0 0 0 1 0 3 0 0 1 0 5 9 0 0 0 0 0 0 0 0 0 7 0 0 "
     ]
    }
   ],
   "source": [
    "for i,row in enumerate(sudoku):\n",
    "    for j in row:\n",
    "        print(j, \"\",end=\"\")"
   ]
  },
  {
   "cell_type": "code",
   "execution_count": 77,
   "metadata": {},
   "outputs": [
    {
     "name": "stdout",
     "output_type": "stream",
     "text": [
      "0 [0, 0, 0, 0, 6, 4, 0, 0, 0]\n",
      "1 [7, 0, 0, 0, 0, 0, 3, 9, 0]\n",
      "2 [8, 0, 0, 0, 0, 0, 0, 0, 0]\n",
      "3 [0, 0, 0, 5, 0, 2, 0, 6, 0]\n",
      "4 [0, 8, 0, 4, 0, 0, 0, 0, 0]\n",
      "5 [3, 5, 0, 6, 0, 0, 0, 7, 0]\n",
      "6 [0, 0, 2, 0, 0, 0, 1, 0, 3]\n",
      "7 [0, 0, 1, 0, 5, 9, 0, 0, 0]\n",
      "8 [0, 0, 0, 0, 0, 0, 7, 0, 0]\n"
     ]
    }
   ],
   "source": [
    "for i, letter in enumerate(sudoku):\n",
    "    print (i, letter)"
   ]
  },
  {
   "cell_type": "code",
   "execution_count": 80,
   "metadata": {},
   "outputs": [
    {
     "name": "stdout",
     "output_type": "stream",
     "text": [
      "(0, 'eat')\n",
      "(1, 'sleep')\n",
      "(2, 'repeat')\n"
     ]
    }
   ],
   "source": [
    "\n",
    "# Python program to illustrate\n",
    "# enumerate function in loops\n",
    "l1 = [\"eat\",\"sleep\",\"repeat\"]\n",
    "for ele in enumerate(l1):\n",
    "    print (ele)\n",
    " "
   ]
  },
  {
   "cell_type": "code",
   "execution_count": 81,
   "metadata": {},
   "outputs": [
    {
     "name": "stdout",
     "output_type": "stream",
     "text": [
      "100 eat\n",
      "101 sleep\n",
      "102 repeat\n"
     ]
    }
   ],
   "source": [
    "# Python program to illustrate\n",
    "# enumerate function in loops\n",
    "l1 = [\"eat\",\"sleep\",\"repeat\"]\n",
    " \n",
    "for count,ele in enumerate(l1,100):\n",
    "    print (count,ele)\n",
    " "
   ]
  },
  {
   "cell_type": "code",
   "execution_count": 82,
   "metadata": {},
   "outputs": [
    {
     "name": "stdout",
     "output_type": "stream",
     "text": [
      "0\n",
      "eat\n",
      "1\n",
      "sleep\n",
      "2\n",
      "repeat\n"
     ]
    }
   ],
   "source": [
    "# Python program to illustrate\n",
    "# enumerate function in loops\n",
    "l1 = [\"eat\",\"sleep\",\"repeat\"]\n",
    " \n",
    "#getting desired output from tuple\n",
    "for count,ele in enumerate(l1):\n",
    "  print(count)\n",
    "  print(ele)"
   ]
  },
  {
   "cell_type": "code",
   "execution_count": 85,
   "metadata": {},
   "outputs": [
    {
     "name": "stdout",
     "output_type": "stream",
     "text": [
      "red apple\n",
      "red banana\n",
      "red cherry\n",
      "big apple\n",
      "big banana\n",
      "big cherry\n",
      "tasty apple\n",
      "tasty banana\n",
      "tasty cherry\n"
     ]
    }
   ],
   "source": [
    "adj = [\"red\", \"big\", \"tasty\"]\n",
    "fruits = [\"apple\", \"banana\", \"cherry\"]\n",
    "\n",
    "for x in adj:\n",
    "  for y in fruits:\n",
    "    print(x, y)"
   ]
  },
  {
   "cell_type": "markdown",
   "metadata": {},
   "source": [
    "# MATRİKS ÖRNEKLERİ"
   ]
  },
  {
   "cell_type": "code",
   "execution_count": 8,
   "metadata": {},
   "outputs": [],
   "source": [
    "sudoku = [\n",
    "    [0, 0, 0, 0, 6, 4, 0, 0, 0],\n",
    "    [7, 0, 0, 0, 0, 0, 3, 9, 0],\n",
    "    [8, 0, 0, 0, 0, 0, 0, 0, 0],\n",
    "    [0, 0, 0, 5, 0, 2, 0, 6, 0],\n",
    "    [0, 8, 0, 4, 0, 0, 0, 0, 0],\n",
    "    [3, 5, 0, 6, 0, 0, 0, 7, 0],\n",
    "    [0, 0, 2, 0, 0, 0, 1, 0, 3],\n",
    "    [0, 0, 1, 0, 5, 9, 0, 0, 0],\n",
    "    [0, 0, 0, 0, 0, 0, 7, 0, 0]\n",
    "]"
   ]
  },
  {
   "cell_type": "code",
   "execution_count": 94,
   "metadata": {},
   "outputs": [
    {
     "name": "stdout",
     "output_type": "stream",
     "text": [
      "| 0   0   0 | 0   6   4 | 0   0   0 |\n",
      "|   +   +   +   +   +   +   +   +   |\n",
      "| 7   0   0 | 0   0   0 | 3   9   0 |\n",
      "|   +   +   +   +   +   +   +   +   |\n",
      "| 8   0   0 | 0   0   0 | 0   0   0 |\n",
      "|---+---+---+---+---+---+---+---+---|\n",
      "| 0   0   0 | 5   0   2 | 0   6   0 |\n",
      "|   +   +   +   +   +   +   +   +   |\n",
      "| 0   8   0 | 4   0   0 | 0   0   0 |\n",
      "|   +   +   +   +   +   +   +   +   |\n",
      "| 3   5   0 | 6   0   0 | 0   7   0 |\n",
      "|---+---+---+---+---+---+---+---+---|\n",
      "| 0   0   2 | 0   0   0 | 1   0   3 |\n",
      "|   +   +   +   +   +   +   +   +   |\n",
      "| 0   0   1 | 0   5   9 | 0   0   0 |\n",
      "|   +   +   +   +   +   +   +   +   |\n",
      "| 0   0   0 | 0   0   0 | 7   0   0 |\n",
      "-------------------------------------\n"
     ]
    }
   ],
   "source": [
    "def print_sudoku(sudoku):\n",
    "    print(\"-\"*37)\n",
    "for i, row in enumerate(sudoku):\n",
    "        print((\"|\" + \" {}   {}   {} |\"*3).format(*[x for x in row]))   #if x != 0 else \" \"\n",
    "        if i == 8:\n",
    "            print(\"-\"*37)\n",
    "        elif i % 3 == 2:\n",
    "            print(\"|\" + \"---+\"*8 + \"---|\")\n",
    "        else:\n",
    "            print(\"|\" + \"   +\"*8 + \"   |\")  "
   ]
  },
  {
   "cell_type": "code",
   "execution_count": 93,
   "metadata": {},
   "outputs": [
    {
     "name": "stdout",
     "output_type": "stream",
     "text": [
      "| 0   0   0 | 0   6   4 | 0   0   0 |\n",
      "+   +   +   +   +   +   +   +   +   +\n",
      "| 7   0   0 | 0   0   0 | 3   9   0 |\n",
      "+   +   +   +   +   +   +   +   +   +\n",
      "| 8   0   0 | 0   0   0 | 0   0   0 |\n",
      "+---+---+---+---+---+---+---+---+---+\n",
      "| 0   0   0 | 5   0   2 | 0   6   0 |\n",
      "+   +   +   +   +   +   +   +   +   +\n",
      "| 0   8   0 | 4   0   0 | 0   0   0 |\n",
      "+   +   +   +   +   +   +   +   +   +\n",
      "| 3   5   0 | 6   0   0 | 0   7   0 |\n",
      "+---+---+---+---+---+---+---+---+---+\n",
      "| 0   0   2 | 0   0   0 | 1   0   3 |\n",
      "+   +   +   +   +   +   +   +   +   +\n",
      "| 0   0   1 | 0   5   9 | 0   0   0 |\n",
      "+   +   +   +   +   +   +   +   +   +\n",
      "| 0   0   0 | 0   0   0 | 7   0   0 |\n",
      "+---+---+---+---+---+---+---+---+---+\n"
     ]
    }
   ],
   "source": [
    "def print_sudoku2(sudoku):\n",
    "    print(\"+\" + \"---+\"*9)\n",
    "for i, row in enumerate(sudoku):\n",
    "        print((\"|\" + \" {}   {}   {} |\"*3).format(*[x for x in row]))\n",
    "        if i % 3 == 2:\n",
    "            print(\"+\" + \"---+\"*9)\n",
    "        else:\n",
    "            print(\"+\" + \"   +\"*9)"
   ]
  },
  {
   "cell_type": "markdown",
   "metadata": {},
   "source": [
    "# NESTED FOR LOOPS"
   ]
  },
  {
   "cell_type": "code",
   "execution_count": null,
   "metadata": {},
   "outputs": [],
   "source": [
    "# nested loops = The inner loop will finish all of its iterations before finishing one iteration of the outer loop."
   ]
  },
  {
   "cell_type": "code",
   "execution_count": null,
   "metadata": {},
   "outputs": [],
   "source": [
    "rows = int(input(\"How many rows?:\"))\n",
    "columns = int(input(\"How many columns?:\"))\n",
    "symbol = input(\"Enter a symbol to use:\")\n",
    "\n",
    "for i in range(rows):\n",
    "    for j in range(columns):\n",
    "        print(symbol,end=\"\")\n",
    "    print()"
   ]
  },
  {
   "cell_type": "code",
   "execution_count": 19,
   "metadata": {},
   "outputs": [
    {
     "name": "stdout",
     "output_type": "stream",
     "text": [
      "0 0\n",
      "0 1\n",
      "0 2\n",
      "1 0\n",
      "1 1\n",
      "1 2\n",
      "2 0\n",
      "2 1\n",
      "2 2\n"
     ]
    }
   ],
   "source": [
    "for i in range(3):\n",
    "    for j in range(3):\n",
    "        print(i,j)"
   ]
  },
  {
   "cell_type": "code",
   "execution_count": 21,
   "metadata": {},
   "outputs": [
    {
     "name": "stdout",
     "output_type": "stream",
     "text": [
      "How many rows?:5\n",
      "* * * * * \n",
      "* * * * \n",
      "* * * \n",
      "* * \n",
      "* \n"
     ]
    }
   ],
   "source": [
    "rows = int(input(\"How many rows?:\"))\n",
    "\n",
    "for row in range(rows, 0, -1):\n",
    "    for column in range(1,row+1):\n",
    "        print(\"*\",end=\" \")\n",
    "    print()"
   ]
  },
  {
   "cell_type": "code",
   "execution_count": 22,
   "metadata": {},
   "outputs": [
    {
     "name": "stdout",
     "output_type": "stream",
     "text": [
      "How many rows?:5\n",
      "* * * * \n",
      "* * * \n",
      "* * \n",
      "* \n"
     ]
    }
   ],
   "source": [
    "rows = int(input(\"How many rows?:\"))\n",
    "\n",
    "for row in range(rows-1, 0, -1):\n",
    "    for column in range(1,row+1):\n",
    "        print(\"*\",end=\" \")\n",
    "    print()"
   ]
  },
  {
   "cell_type": "code",
   "execution_count": 25,
   "metadata": {},
   "outputs": [
    {
     "name": "stdout",
     "output_type": "stream",
     "text": [
      "How many rows?:5\n",
      "1 2 3 4 \n",
      "1 2 3 \n",
      "1 2 \n",
      "1 \n"
     ]
    }
   ],
   "source": [
    "rows = int(input(\"How many rows?:\"))\n",
    "\n",
    "for row in range(rows-1, 0, -1):\n",
    "    for column in range(1,row+1):\n",
    "        print(column,end=\" \")\n",
    "    print()"
   ]
  },
  {
   "cell_type": "code",
   "execution_count": 26,
   "metadata": {},
   "outputs": [
    {
     "name": "stdout",
     "output_type": "stream",
     "text": [
      "How many rows?:5\n",
      "4 4 4 4 \n",
      "3 3 3 \n",
      "2 2 \n",
      "1 \n"
     ]
    }
   ],
   "source": [
    "rows = int(input(\"How many rows?:\"))\n",
    "\n",
    "for row in range(rows-1, 0, -1):\n",
    "    for column in range(1,row+1):\n",
    "        print(row,end=\" \")\n",
    "    print()"
   ]
  },
  {
   "cell_type": "code",
   "execution_count": 27,
   "metadata": {},
   "outputs": [
    {
     "name": "stdout",
     "output_type": "stream",
     "text": [
      "How many rows?:5\n",
      "14 24 34 44 \n",
      "13 23 33 \n",
      "12 22 \n",
      "11 \n"
     ]
    }
   ],
   "source": [
    "rows = int(input(\"How many rows?:\"))\n",
    "\n",
    "for row in range(rows-1, 0, -1):\n",
    "    for column in range(1,row+1):\n",
    "        print(\"{0}{1}\".format(column,row),end=\" \")\n",
    "    print()"
   ]
  },
  {
   "cell_type": "code",
   "execution_count": 28,
   "metadata": {},
   "outputs": [
    {
     "name": "stdout",
     "output_type": "stream",
     "text": [
      "How many rows?:5\n",
      "41 42 43 44 \n",
      "31 32 33 \n",
      "21 22 \n",
      "11 \n"
     ]
    }
   ],
   "source": [
    "rows = int(input(\"How many rows?:\"))\n",
    "\n",
    "for row in range(rows-1, 0, -1):\n",
    "    for column in range(1,row+1):\n",
    "        print(\"{0}{1}\".format(row,column),end=\" \")\n",
    "    print()"
   ]
  },
  {
   "cell_type": "code",
   "execution_count": 30,
   "metadata": {},
   "outputs": [
    {
     "name": "stdout",
     "output_type": "stream",
     "text": [
      "How many rows?:5\n",
      "A A A A \n",
      "A A A \n",
      "A A \n",
      "A \n"
     ]
    }
   ],
   "source": [
    "rows = int(input(\"How many rows?:\"))\n",
    "ch = 65\n",
    "for row in range(rows-1, 0, -1):\n",
    "    for column in range(1,row+1):\n",
    "        print(\"{0}\".format(chr(ch)),end=\" \")\n",
    "    print()"
   ]
  },
  {
   "cell_type": "code",
   "execution_count": 31,
   "metadata": {},
   "outputs": [
    {
     "name": "stdout",
     "output_type": "stream",
     "text": [
      "How many rows?:5\n",
      "B C D E \n",
      "B C D \n",
      "B C \n",
      "B \n"
     ]
    }
   ],
   "source": [
    "rows = int(input(\"How many rows?:\"))\n",
    "ch = 65\n",
    "for row in range(rows-1, 0, -1):\n",
    "    for column in range(1,row+1):\n",
    "        print(\"{0}\".format(chr(ch+column)),end=\" \")\n",
    "    print()"
   ]
  },
  {
   "cell_type": "code",
   "execution_count": 32,
   "metadata": {},
   "outputs": [
    {
     "name": "stdout",
     "output_type": "stream",
     "text": [
      "How many rows?:5\n",
      "E E E E \n",
      "D D D \n",
      "C C \n",
      "B \n"
     ]
    }
   ],
   "source": [
    "rows = int(input(\"How many rows?:\"))\n",
    "ch = 65\n",
    "for row in range(rows-1, 0, -1):\n",
    "    for column in range(1,row+1):\n",
    "        print(\"{0}\".format(chr(ch+row)),end=\" \")\n",
    "    print()"
   ]
  },
  {
   "cell_type": "code",
   "execution_count": 33,
   "metadata": {},
   "outputs": [
    {
     "name": "stdout",
     "output_type": "stream",
     "text": [
      "How many rows?:5\n",
      "B \n",
      "C C \n",
      "D D D \n",
      "E E E E \n",
      "F F F F F \n"
     ]
    }
   ],
   "source": [
    "rows = int(input(\"How many rows?:\"))\n",
    "ch = 65\n",
    "\n",
    "for row in range(1,rows+1):\n",
    "    for column in range(1,row+1):\n",
    "        print(\"{0}\".format(chr(ch+row)),end=\" \")\n",
    "    print()"
   ]
  },
  {
   "cell_type": "code",
   "execution_count": 37,
   "metadata": {},
   "outputs": [
    {
     "name": "stdout",
     "output_type": "stream",
     "text": [
      "How many rows?:7\n",
      "A \n",
      "B C \n",
      "D E F \n",
      "G H I J \n",
      "K L M N O \n",
      "P Q R S T U \n",
      "V W X Y Z [ \\ \n"
     ]
    }
   ],
   "source": [
    "rows = int(input(\"How many rows?:\"))\n",
    "ch = 64\n",
    "\n",
    "for row in range(1,rows+1):\n",
    "    for column in range(1,row+1):\n",
    "        ch +=1\n",
    "        print(\"{0}\".format(chr(ch)),end=\" \")\n",
    "    print()"
   ]
  },
  {
   "cell_type": "code",
   "execution_count": 1,
   "metadata": {},
   "outputs": [
    {
     "name": "stdout",
     "output_type": "stream",
     "text": [
      "How many rows?:5\n",
      "01 \n",
      "02 03 \n",
      "04 05 06 \n",
      "07 08 09 10 \n",
      "11 12 13 14 15 \n"
     ]
    }
   ],
   "source": [
    "rows = int(input(\"How many rows?:\"))\n",
    "sum=0\n",
    "\n",
    "for row in range(1,rows+1):\n",
    "    for column in range(1,row+1):\n",
    "        sum +=1\n",
    "        print(\"{:02d}\".format(sum),end=\" \")\n",
    "    print()"
   ]
  },
  {
   "cell_type": "markdown",
   "metadata": {},
   "source": [
    "# SAMPLES"
   ]
  },
  {
   "cell_type": "code",
   "execution_count": 90,
   "metadata": {},
   "outputs": [
    {
     "name": "stdout",
     "output_type": "stream",
     "text": [
      "Welcome to the Game!!!\n",
      "What size of game board do you want me to draw? (e.g., 3X3) > 5x5\n",
      " --- --- --- --- ---\n",
      "|   |   |   |   |   |   \n",
      " --- --- --- --- ---\n",
      "|   |   |   |   |   |   \n",
      " --- --- --- --- ---\n",
      "|   |   |   |   |   |   \n",
      " --- --- --- --- ---\n",
      "|   |   |   |   |   |   \n",
      " --- --- --- --- ---\n",
      "|   |   |   |   |   |   \n",
      " --- --- --- --- ---\n"
     ]
    }
   ],
   "source": [
    "print('Welcome to the Game!!!')\n",
    "size = input('What size of game board do you want me to draw? (e.g., 3X3) > ')\n",
    "index = size.upper().find('X')\n",
    "row = int(size[:index])\n",
    "column = int(size[index +1 :])\n",
    "row_print = \" ---\"\n",
    "column_print = \"|   \"\n",
    "for i in range(row):\n",
    "    print(row_print * column)\n",
    "    print(column_print * (column + 1))\n",
    "print(row_print * column)"
   ]
  },
  {
   "cell_type": "code",
   "execution_count": 89,
   "metadata": {},
   "outputs": [
    {
     "name": "stdout",
     "output_type": "stream",
     "text": [
      "What size of your game board? : 5\n",
      " ---  ---  ---  ---  --- \n",
      "|    |    |    |    |    |    \n",
      " ---  ---  ---  ---  --- \n",
      "|    |    |    |    |    |    \n",
      " ---  ---  ---  ---  --- \n",
      "|    |    |    |    |    |    \n",
      " ---  ---  ---  ---  --- \n",
      "|    |    |    |    |    |    \n",
      " ---  ---  ---  ---  --- \n",
      "|    |    |    |    |    |    \n",
      " ---  ---  ---  ---  --- \n"
     ]
    }
   ],
   "source": [
    "a = int(input(\"What size of your game board? : \"))\n",
    "i = 0\n",
    "while i < a :\n",
    "    print(\" --- \"*a)\n",
    "    print(\"|    \"*(a+1))\n",
    "    i +=1\n",
    "print(\" --- \"*a)"
   ]
  },
  {
   "cell_type": "markdown",
   "metadata": {},
   "source": [
    "# Transpose Matrix"
   ]
  },
  {
   "cell_type": "code",
   "execution_count": 88,
   "metadata": {},
   "outputs": [
    {
     "name": "stdout",
     "output_type": "stream",
     "text": [
      "[12, 6, 2, 3]\n",
      "[4, 8, 16, 10]\n"
     ]
    }
   ],
   "source": [
    "def TransposeMatrix(matrix):\n",
    "    for i in range(len(matrix)):\n",
    "        for j in range(len(matrix[0])):\n",
    "            result[j][i]=matrix[i][j]\n",
    "x=[[12,4],\n",
    "   [6,8],\n",
    "   [2,16],\n",
    "   [3,10]]\n",
    "\n",
    "result =[[0,0,0,0],\n",
    "         [0,0,0,0]]\n",
    "TransposeMatrix(x)\n",
    "\n",
    "for r in result:\n",
    "    print(r)"
   ]
  },
  {
   "cell_type": "code",
   "execution_count": null,
   "metadata": {},
   "outputs": [],
   "source": []
  }
 ],
 "metadata": {
  "kernelspec": {
   "display_name": "Python 3",
   "language": "python",
   "name": "python3"
  },
  "language_info": {
   "codemirror_mode": {
    "name": "ipython",
    "version": 3
   },
   "file_extension": ".py",
   "mimetype": "text/x-python",
   "name": "python",
   "nbconvert_exporter": "python",
   "pygments_lexer": "ipython3",
   "version": "3.8.10"
  }
 },
 "nbformat": 4,
 "nbformat_minor": 2
}
