{
 "cells": [
  {
   "cell_type": "code",
   "execution_count": null,
   "id": "39e9e742",
   "metadata": {},
   "outputs": [],
   "source": [
    "We have a loud talking parrot. We are in trouble if the parrot is talking and the hour is before 6 or after 21.\n",
    "Define a function taking two parameters (talking and hour) to return True if we are in trouble. The argument to  talking parameter can only be True or False whether it is talking or not. The argument to hour parameter should be the current hour time in the range of 0 to 23.\n",
    "For example:\n",
    "\n",
    "Test\tResult\n",
    "print(parrot_trouble(True, 5))\n",
    "True\n",
    "print(parrot_trouble(True, 8))\n",
    "False\n",
    "print(parrot_trouble(False, 22))"
   ]
  },
  {
   "cell_type": "code",
   "execution_count": null,
   "id": "7429e6ca",
   "metadata": {},
   "outputs": [],
   "source": [
    "def parrot_trouble(talking, hour):\n",
    "    return (talking and (hour < 6 or hour > 21))\n",
    "  # Need extra parenthesis around the or clause\n",
    "  # since and binds more tightly than or.\n",
    "  # and is like arithmetic *, or is like arithmetic +\n",
    "print(parrot_trouble(True, 5))"
   ]
  }
 ],
 "metadata": {
  "kernelspec": {
   "display_name": "Python 3",
   "language": "python",
   "name": "python3"
  },
  "language_info": {
   "codemirror_mode": {
    "name": "ipython",
    "version": 3
   },
   "file_extension": ".py",
   "mimetype": "text/x-python",
   "name": "python",
   "nbconvert_exporter": "python",
   "pygments_lexer": "ipython3",
   "version": "3.8.8"
  }
 },
 "nbformat": 4,
 "nbformat_minor": 5
}
