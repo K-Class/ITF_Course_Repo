{
 "cells": [
  {
   "cell_type": "code",
   "execution_count": null,
   "id": "87122b81",
   "metadata": {},
   "outputs": [],
   "source": [
    "a = float(7)\n",
    "b = float(10)\n",
    "c = float(20)\n",
    "if a + b > c and a + c > b and b + c > a:\n",
    "        print(\"V\")\n",
    "else:\n",
    "        print(\"X\")"
   ]
  },
  {
   "cell_type": "code",
   "execution_count": null,
   "id": "6af5c290",
   "metadata": {},
   "outputs": [],
   "source": []
  },
  {
   "cell_type": "code",
   "execution_count": null,
   "id": "f0591fc6",
   "metadata": {},
   "outputs": [],
   "source": [
    "# studentA: Allen Carter, Math, (70,60,70)\n",
    "# studentB: Bob Black, Math, (80,80,70)\n",
    "# studentC: Joseph Ins, Math, (80,70,90)\n",
    "arkadaşlar yukarıda verilen ifadeleri tek liste içerisinde yazılıp sonrada aldıkları notların ortalamasını isimleri ile \n",
    "birlikte yazdıralım. \n"
   ]
  },
  {
   "cell_type": "code",
   "execution_count": null,
   "id": "83a9c77d",
   "metadata": {},
   "outputs": [],
   "source": []
  },
  {
   "cell_type": "code",
   "execution_count": null,
   "id": "3667350c",
   "metadata": {},
   "outputs": [],
   "source": [
    "Given two strings, s1, and s2 return a new string made of the first, middle, and last characters each input string\n",
    "Given:\n",
    "s1 = \"America\"\n",
    "s2 = \"Japan\"\n",
    "Output\n",
    "AJrpan"
   ]
  },
  {
   "cell_type": "code",
   "execution_count": null,
   "id": "d722b59e",
   "metadata": {},
   "outputs": [],
   "source": []
  },
  {
   "cell_type": "code",
   "execution_count": null,
   "id": "7ed836f5",
   "metadata": {},
   "outputs": [],
   "source": [
    "n = \"325\"\n",
    "n = int(n)\n",
    "d1 = n  % 10\n",
    "n = n // 10\n",
    "d2 = n % 10\n",
    "n = n // 10\n",
    "print (n + d1 + d2)"
   ]
  },
  {
   "cell_type": "code",
   "execution_count": null,
   "id": "8676b231",
   "metadata": {},
   "outputs": [],
   "source": []
  },
  {
   "cell_type": "code",
   "execution_count": null,
   "id": "c499a684",
   "metadata": {},
   "outputs": [],
   "source": [
    "str = \"Python Software Foundation\"\n",
    "s = str.split()\n",
    "s = sorted(s)\n",
    "s = \" \".join(s)\n",
    "print(s[2:5])"
   ]
  },
  {
   "cell_type": "code",
   "execution_count": null,
   "id": "22b32475",
   "metadata": {},
   "outputs": [],
   "source": []
  },
  {
   "cell_type": "code",
   "execution_count": null,
   "id": "3af15c9d",
   "metadata": {},
   "outputs": [],
   "source": [
    "a = []\n",
    "\n",
    "a.append(a)\n",
    "\n",
    "print(a in a)\n",
    "print(a)"
   ]
  },
  {
   "cell_type": "code",
   "execution_count": null,
   "id": "e214e35e",
   "metadata": {},
   "outputs": [],
   "source": []
  },
  {
   "cell_type": "code",
   "execution_count": null,
   "id": "27bb469c",
   "metadata": {},
   "outputs": [],
   "source": [
    "a, b, c = [], [], [[]]\n",
    "\n",
    "a.append(a)\n",
    "\n",
    "print(a)\n",
    "print(b)\n",
    "print(c)\n",
    "\n",
    "print(len(a))\n",
    "print(len(b))\n",
    "print(len(c))\n",
    "\n",
    "Çıktılar nedir Arkadaşlar?"
   ]
  },
  {
   "cell_type": "code",
   "execution_count": null,
   "id": "1cf059db",
   "metadata": {},
   "outputs": [],
   "source": []
  },
  {
   "cell_type": "code",
   "execution_count": null,
   "id": "f8ed09c1",
   "metadata": {},
   "outputs": [],
   "source": [
    "mail = \"from Ahmet, mail to: abcxyz@gmail.com  15:1990:01\"\n",
    "Yukarıdaki mail değişkenine atanan değerden, sadece domain kısmını,\n",
    "\"gmail.com\" bölümünü çıktı verecek kodu yazınız. Birçok yol var arkadaşlar.  \n",
    "Şimdiye kadar öğrendiğimiz bilgiler yeterli olacaktır.  \n",
    "Döngü kullanmanıza gerek yok. String Methods, Indexing ve slicing yeterli."
   ]
  },
  {
   "cell_type": "code",
   "execution_count": null,
   "id": "fe8c3b4b",
   "metadata": {},
   "outputs": [],
   "source": []
  },
  {
   "cell_type": "code",
   "execution_count": null,
   "id": "b6da620a",
   "metadata": {},
   "outputs": [],
   "source": [
    "dict_by_dict = {\"numbers\":[1,2,3],\"colours\":[\"red\", \"white\", \"black\"]}\n",
    "print(dict_by_dict.items(), \"\\n\", dict_by_dict.keys(), \"\\n\", dict_by_dict.values())"
   ]
  },
  {
   "cell_type": "code",
   "execution_count": null,
   "id": "6a3a23b5",
   "metadata": {},
   "outputs": [],
   "source": []
  },
  {
   "cell_type": "code",
   "execution_count": null,
   "id": "da7e5b3e",
   "metadata": {},
   "outputs": [],
   "source": [
    "0'dan 11'e kadar sayilarin karelerini while dongusu ve If kullanarak liste halinde cikaralim."
   ]
  },
  {
   "cell_type": "code",
   "execution_count": null,
   "id": "f59306fc",
   "metadata": {},
   "outputs": [],
   "source": []
  },
  {
   "cell_type": "code",
   "execution_count": null,
   "id": "b2b06adf",
   "metadata": {},
   "outputs": [],
   "source": [
    "Code challenge (used by Adobe, Facebook, Airbnb)\n",
    "Group Anagrams\n",
    "Given a list of strings, group anagrams together.\n",
    "Example:\n",
    "Input:\n",
    "[\"eat\", \"tea\", \"tan\", \"ate\", \"nat\", \"bat\"]\n",
    "Output:\n",
    "[\n",
    "  [\"ate\",\"eat\",\"tea\"],\n",
    "  [\"nat\",\"tan\"],\n",
    "  [\"bat\"]\n",
    "]\n",
    "Note:\n",
    "All inputs will be in lowercase.\n",
    "The order of your output does not matter."
   ]
  },
  {
   "cell_type": "code",
   "execution_count": null,
   "id": "7bbb2bf4",
   "metadata": {},
   "outputs": [],
   "source": []
  },
  {
   "cell_type": "code",
   "execution_count": null,
   "id": "f6c1c1f1",
   "metadata": {},
   "outputs": [],
   "source": [
    "Take a string with input() and returns the Morse code equivalent.\n",
    "Examples\n",
    "\"EDABBIT CHALLENGE\" ➞ \". -.. .- -... -... .. -   -.-. .... .- .-.. .-.. . -. --. .\"\n",
    "\n",
    "\"HELP ME !\" ➞ \".... . .-.. .--.   -- .   -.-.--\"\n",
    "This dictionary can be used for coding:\n",
    "char_to_dots = {\n",
    "  'A': '.-', 'B': '-...', 'C': '-.-.', 'D': '-..', 'E': '.', 'F': '..-.',\n",
    "  'G': '--.', 'H': '....', 'I': '..', 'J': '.---', 'K': '-.-', 'L': '.-..',\n",
    "  'M': '--', 'N': '-.', 'O': '---', 'P': '.--.', 'Q': '--.-', 'R': '.-.',\n",
    "  'S': '...', 'T': '-', 'U': '..-', 'V': '...-', 'W': '.--', 'X': '-..-',\n",
    "  'Y': '-.--', 'Z': '--..', ' ': ' ', '0': '-----',\n",
    "  '1': '.----', '2': '..---', '3': '...--', '4': '....-', '5': '.....',\n",
    "  '6': '-....', '7': '--...', '8': '---..', '9': '----.',\n",
    "  '&': '.-...', \"'\": '.----.', '@': '.--.-.', ')': '-.--.-', '(': '-.--.',\n",
    "  ':': '---...', ',': '--..--', '=': '-...-', '!': '-.-.--', '.': '.-.-.-',\n",
    "  '-': '-....-', '+': '.-.-.', '\"': '.-..-.', '?': '..--..', '/': '-..-.'\n",
    "}\n",
    "Notes\n",
    "Ouput should be International Morse Code, and use the standard conventions for symbols not defined inside the ITU recommendation (see Resources).\n",
    "Input value can be lower or upper case.\n",
    "Input string can have digits.\n",
    "Input string can have some special characters (e.g. comma, colon, apostrophe, period, question mark, exclamation mark).\n",
    "One space \" \" is expected after each character, except the last one."
   ]
  },
  {
   "cell_type": "code",
   "execution_count": null,
   "id": "420b295b",
   "metadata": {},
   "outputs": [],
   "source": []
  },
  {
   "cell_type": "code",
   "execution_count": null,
   "id": "d5720aa3",
   "metadata": {},
   "outputs": [],
   "source": [
    "Kullanıcıdan bir cümle alan ve cümle içerisinde geçen sesli harflerin her birinden kaçar tane olduğunu çıktı veren bir \n",
    "program yazınız.\n",
    "Girilen harflerin küçük/büyük olabileceği ihtimalini göz önünde bulundurunuz.\n",
    "\n",
    "\n",
    "Beklenen Çıktı:\n",
    "cümle: Sakla samanı gelir zamanı.\n",
    "a: 6\n",
    "ı: 2\n",
    "e: 1\n",
    "i: 1 "
   ]
  },
  {
   "cell_type": "code",
   "execution_count": null,
   "id": "de8a5b30",
   "metadata": {},
   "outputs": [],
   "source": []
  },
  {
   "cell_type": "code",
   "execution_count": null,
   "id": "9a7488c9",
   "metadata": {},
   "outputs": [],
   "source": [
    "Kullanıcıdan integer bir değer alan ve sayının pozitif-çift sayı olup olmadığını kontrol eden program yazınız. \n",
    "Girilen sayıların muhtemel farklı durumlarını göz önünde bulundurunuz."
   ]
  },
  {
   "cell_type": "code",
   "execution_count": null,
   "id": "15da7281",
   "metadata": {},
   "outputs": [],
   "source": []
  },
  {
   "cell_type": "code",
   "execution_count": null,
   "id": "7ac0668f",
   "metadata": {},
   "outputs": [],
   "source": [
    "Bir dize kabul eden ve büyük harf ve küçük harf sayısını hesaplayan bir Python işlevi yazın. \n",
    "Örnek Dizge : 'The quick Brow Fox'\n",
    "Beklenen Çıktı :\n",
    "Büyük harf karakter sayısı : 3\n",
    "Küçük harf karakter sayısı : 12"
   ]
  },
  {
   "cell_type": "code",
   "execution_count": null,
   "id": "0defd986",
   "metadata": {},
   "outputs": [],
   "source": []
  },
  {
   "cell_type": "code",
   "execution_count": null,
   "id": "a58fc36c",
   "metadata": {},
   "outputs": [],
   "source": [
    "Write a Python code that find the students who have maximum and minimum average at below.\n",
    "grades={'Student-1': {'Lesson-1': 57, 'Lesson-2': 46, 'Lesson-3': 58, 'Lesson-4': 81, 'Lesson-5': 85}, 'Student-2': {'Lesson-1': 85, 'Lesson-2': 56, 'Lesson-3': 51, 'Lesson-4': 69, 'Lesson-5': 67}, 'Student-3': {'Lesson-1': 68, 'Lesson-2': 76, 'Lesson-3': 87, 'Lesson-4': 57, 'Lesson-5': 56}, 'Student-4': {'Lesson-1': 78, 'Lesson-2': 93, 'Lesson-3': 88, 'Lesson-4': 38, 'Lesson-5': 54}, 'Student-5': {'Lesson-1': 50, 'Lesson-2': 46, 'Lesson-3': 78, 'Lesson-4': 81, 'Lesson-5': 75}}"
   ]
  },
  {
   "cell_type": "code",
   "execution_count": null,
   "id": "2e9750b7",
   "metadata": {},
   "outputs": [],
   "source": []
  },
  {
   "cell_type": "code",
   "execution_count": null,
   "id": "c97a254c",
   "metadata": {},
   "outputs": [],
   "source": [
    "Numbers = [18,21,14,84,65,35,10,20,28,42,24,91,5,7,54,69]\n",
    "Numbers listesi içindeki sayılardan 7’ e bölünebilenleri küçükten büyüğe doğru olacak şeklide listeleyin. Ayrıca kaç tanesinin 7’ e bölünebildiğini yazdırın."
   ]
  },
  {
   "cell_type": "code",
   "execution_count": null,
   "id": "134478f4",
   "metadata": {},
   "outputs": [],
   "source": []
  },
  {
   "cell_type": "code",
   "execution_count": null,
   "id": "44fa8ccf",
   "metadata": {},
   "outputs": [],
   "source": [
    "Bir dize kabul eden ve rakam ve harf sayısını hesaplayan bir Python programı yazın. \n",
    "Örnek Veri : Python 3.2\n",
    "Beklenen Çıktı :\n",
    "Harfler 6\n",
    "Rakam 2"
   ]
  },
  {
   "cell_type": "code",
   "execution_count": null,
   "id": "0a5869cd",
   "metadata": {},
   "outputs": [],
   "source": []
  },
  {
   "cell_type": "code",
   "execution_count": null,
   "id": "a5616544",
   "metadata": {},
   "outputs": [],
   "source": [
    "Bir sayının mükemmel olup olmadığını kontrol etmek için bir Python fonksiyonu yazın.\n",
    "Wikipedia'ya göre : Sayı teorisinde, mükemmel bir sayı, uygun pozitif bölenlerinin toplamına eşit olan pozitif bir tam sayıdır, yani sayının kendisi hariç pozitif bölenlerinin toplamıdır (aynı zamanda bölüntü olarak da bilinir). toplamı). Eşdeğer olarak, mükemmel bir sayı, tüm pozitif bölenlerinin (kendisi dahil) toplamının yarısı olan bir sayıdır.\n",
    "Örnek  : İlk mükemmel sayı 6'dır, çünkü 1, 2 ve 3 uygun pozitif bölenleridir ve 1 + 2 + 3 = 6. Eşdeğer olarak, 6 sayısı tüm pozitif bölenlerinin toplamının yarısına eşittir: ( 1 + 2 + 3 + 6) / 2 = 6. Bir sonraki mükemmel sayı 28 = 1 + 2 + 4 + 7 + 14'tür. Bunu 496 ve 8128 mükemmel sayıları takip eder."
   ]
  },
  {
   "cell_type": "code",
   "execution_count": null,
   "id": "9eecfb97",
   "metadata": {},
   "outputs": [],
   "source": []
  },
  {
   "cell_type": "code",
   "execution_count": null,
   "id": "ce052468",
   "metadata": {},
   "outputs": [],
   "source": [
    "Soru: Kullanıcıdan kontrol edilmek üzere bir yıl girmesini isteyiniz. Girilen yılın artık yıl olup olmadığını çıktı veren bir python programı yazınız.\n",
    "Artık yıl, Miladî takvimde (Gregoryen takvim) 365 yerine 366 günü olan yıl. Bu fazladan gün (artık gün), normalde 28 gün olan şubat ayına 29 Şubat'ın eklenmesi ile elde edilir. Dört yılda bir yapılan bu uygulamanın nedeni Dünya'nın Güneş çevresinde dönme süresinin (astronomik yıl), Güneş'in aynı meridyenden iki kez geçişi arasındaki ortalama zamanın (gün) tam katı olmamasıdır. Bir astronomik yıl yaklaşık olarak 365,242 gün olmasına rağmen[1] normal bir takvim yılı 365 gündür. (Wikipedia) "
   ]
  },
  {
   "cell_type": "code",
   "execution_count": null,
   "id": "e724ff73",
   "metadata": {},
   "outputs": [],
   "source": []
  },
  {
   "cell_type": "code",
   "execution_count": null,
   "id": "66aea234",
   "metadata": {},
   "outputs": [],
   "source": [
    "Make a solution that takes a list of numbers or strings and returns a list with the items from the original list stored into sublists. Items of the same value should be in the same sublist. Examples\n",
    "[2, 1, 2, 1] ➞ [[2, 2], [1, 1]], [5, 4, 5, 5, 4, 3] ➞ [[5, 5, 5], [4, 4], [3]], [\"b\", \"a\", \"b\", \"a\", \"c\"] ➞ [[\"b\", \"b\"], [\"a\", \"a\"], [\"c\"]]\n",
    "Notes\n",
    "The sublists should be returned in the order of each element's first appearance in the given list."
   ]
  },
  {
   "cell_type": "code",
   "execution_count": null,
   "id": "894443fb",
   "metadata": {},
   "outputs": [],
   "source": []
  },
  {
   "cell_type": "code",
   "execution_count": null,
   "id": "039f4529",
   "metadata": {},
   "outputs": [],
   "source": [
    "bir string içerisinden bir bölümü ayıklarken \"partition\" metodu ile sonuca ulaşmak sanırım daha hızlı sonuç veriyor. \n",
    "\"partition()\" girilen parametreye göre stringi 3 parçaya bölüp tuple'a \n",
    "dönüştürüp bırakıyor ve girdiğiniz parametre her zaman 1. index olarak ortada kalıyor. \n",
    "Hatırlarsanız daha önceki domain bulma sorusunda birçok farklı çözüm paylaşmıştı arkadaşlar. \n",
    "Bir de aşağıdaki gibi bir çözüm daha kısa olabilir.\n",
    "mail = \"from Ahmet, mail to: abcxyz@gmail.com 15:1990:01\"\n",
    "\n",
    "beta = mail.partition(\"gmail.com\")\n",
    "\n",
    "print(beta[1])"
   ]
  },
  {
   "cell_type": "code",
   "execution_count": null,
   "id": "c6d2b9eb",
   "metadata": {},
   "outputs": [],
   "source": []
  },
  {
   "cell_type": "code",
   "execution_count": null,
   "id": "70cfc884",
   "metadata": {},
   "outputs": [],
   "source": [
    "Given a string of words, you need to find the highest scoring word.\n",
    "Each letter of a word scores points according to its position in the alphabet: a = 1, b = 2, c = 3 etc.\n",
    "You need to return the highest scoring word as a string.\n",
    "If two words score the same, return the word that appears earliest in the original string.\n",
    "All letters will be lowercase and all inputs will be valid.\n",
    "Examples:\n",
    "'man i need a taxi up to ubud' ---> 'taxi'\n",
    "'what time are we climbing up the volcano' ----> 'volcano'\n",
    "'take me to semynak' ---> 'semynak'\n",
    "'aa b'  --->  'aa'\n",
    "'b aa'  --->  'b'\n",
    "'bb d'  --- > 'bb'\n",
    "'d bb'  ---> 'd'\n",
    "\"aaa b\"  -->  \"aaa\""
   ]
  },
  {
   "cell_type": "code",
   "execution_count": null,
   "id": "d02dc83f",
   "metadata": {},
   "outputs": [],
   "source": []
  },
  {
   "cell_type": "code",
   "execution_count": null,
   "id": "25c03036",
   "metadata": {},
   "outputs": [],
   "source": [
    "Task : Create a program that will play the “cows and bulls” game with the user. The game works like this:\n",
    "Randomly generate a 4-digit number. Ask the user to guess a 4-digit number. For every digit that the user guessed correctly in the correct place, they have a “cow”. For every digit the user guessed correctly in the wrong place is a “bull.” Every time the user makes a guess, tell them how many “cows” and “bulls” they have. Once the user guesses the correct number, the game is over. Keep track of the number of guesses the user makes throughout teh game and tell the user at the end.\n",
    "Say the number generated by the computer is 1038. An example interaction could look like this:\n",
    "  Welcome to the Cows and Bulls Game! \n",
    "  Enter a number: \n",
    "  >>> 1234\n",
    "  2 cows, 0 bulls\n",
    "  >>> 1256\n",
    "  1 cow, 1 bull\n",
    "  ..."
   ]
  },
  {
   "cell_type": "code",
   "execution_count": null,
   "id": "04edd26a",
   "metadata": {},
   "outputs": [],
   "source": []
  },
  {
   "cell_type": "code",
   "execution_count": null,
   "id": "02ec3001",
   "metadata": {},
   "outputs": [],
   "source": [
    "Doğduğunuz yıl için Çin Zodyakının işaretini gösteren bir Python programı yazın. \n",
    "Beklenen Çıktı:\n",
    "Doğum yılınızı girin: 1973                                              \n",
    "Burcunuz: Öküz  "
   ]
  },
  {
   "cell_type": "code",
   "execution_count": null,
   "id": "18925762",
   "metadata": {},
   "outputs": [],
   "source": []
  },
  {
   "cell_type": "code",
   "execution_count": null,
   "id": "71d01de8",
   "metadata": {},
   "outputs": [],
   "source": [
    "Girdi olarak m (satır) ve n (sütun) olmak üzere iki rakamı alan ve iki boyutlu bir dizi oluşturan bir Python programı yazınız. Dizinin i. satırı ve j. sütunundaki eleman değeri i*j olmalıdır.\n",
    "Not :\n",
    "i = 0,1.., m-1\n",
    "j = 0,1, n-1.\n",
    "Test Verisi : Satır = 3, Sütun = 4\n",
    "Beklenen Sonuç : [[0, 0, 0, 0], [0, 1, 2, 3], [0, 2, 4, 6]]"
   ]
  },
  {
   "cell_type": "code",
   "execution_count": null,
   "id": "1a6888d0",
   "metadata": {},
   "outputs": [],
   "source": []
  },
  {
   "cell_type": "code",
   "execution_count": null,
   "id": "7ed5c53c",
   "metadata": {},
   "outputs": [],
   "source": [
    "Üç değerin medyanını bulan bir Python programı yazın.\n",
    "Beklenen Çıktı:\n",
    "İlk sayıyı girin: 15                                                   \n",
    "İkinci sayıyı girin: 26                                                  \n",
    "Üçüncü sayıyı girin: 29                                                   \n",
    "Medyan 26.0'dır   "
   ]
  },
  {
   "cell_type": "code",
   "execution_count": null,
   "id": "938a5424",
   "metadata": {},
   "outputs": [],
   "source": []
  },
  {
   "cell_type": "code",
   "execution_count": null,
   "id": "1527d7b2",
   "metadata": {},
   "outputs": [],
   "source": [
    "Bir markete gittiniz. Markette her ürünün bir kod numarası var.\n",
    "1 : Domates 2 : Soğan 3 : Biber 4 : Yumurta 5 : Elma 6 : Armut ... vs. şeklinde.\n",
    "Kullanıcıya almak istediği ürünü sorunuz ve kod numarası ile seçim yaptırınız. \n",
    "Çıkış için \"q\" opsiyonunu sununuz. Kullanıcının her ürün seçimi sonrası \" .... domates sepete eklendi\" gibi bir \n",
    "dönüt veriniz. Kullanıcı ürün almaya devam ettikçe ürünleri bir listede toplayınız, \n",
    "almaktan vazgeçtiği durumda teşekkür edip, aldığı toplam ürünleri çıktı veren bir kod yazınız.\n",
    "Beklenen Çıktı:\n",
    "Teşekkür Ederiz...\n",
    "Sepetinizde Bulunan Ürünler: elma, armut, yumurta ... vs.\n"
   ]
  },
  {
   "cell_type": "code",
   "execution_count": null,
   "id": "35dcef70",
   "metadata": {},
   "outputs": [],
   "source": []
  },
  {
   "cell_type": "code",
   "execution_count": null,
   "id": "09fbefb6",
   "metadata": {},
   "outputs": [],
   "source": [
    "Geometrik şekil hesaplama işlemi yapalım. İlk olarak kullanıcıdan üçgenin mi dörtgenin mi tipini bulmak istediğini sorun.\n",
    "Eğer kullanıcı \"Dörtgen\" cevabını verirse , 4 tane kenar isteyip bu dörtgenin kare mi , dikdörtgen mi yoksa sıradan bir dörtgen mi olduğunu bulmaya çalışın.\n",
    "Eğer kullanıcı \"Üçgen\" cevabını verirse , 3 tane kenar isteyip bu üçgenin ikizkenar mı , eşkenar mı yoksa sıradan bir üçgen mi olduğunu bulmaya çalışın. Eğer verilen kenarlar bir üçgen belirtmiyorsa, ekrana \"Üçgen belirtmiyor\" şeklinde bir yazı yazın.\n",
    "Üçgen belirtme şartını bilmiyorsunuz internetten bakabilirsiniz."
   ]
  },
  {
   "cell_type": "code",
   "execution_count": null,
   "id": "a3e27f47",
   "metadata": {},
   "outputs": [],
   "source": []
  },
  {
   "cell_type": "code",
   "execution_count": null,
   "id": "f93ca7b1",
   "metadata": {},
   "outputs": [],
   "source": [
    "Given an array of non-negative integers representing an elevation map as shown \n",
    "below where the width of each bar is 1, compute how much water will be trapped on \n",
    "terrain after raining. To clarify further, the black boxes represents \n",
    "terrain and its height, and the blue boxes represents the water that \n",
    "could be trapped on the terrain."
   ]
  },
  {
   "cell_type": "code",
   "execution_count": null,
   "id": "ce8d768d",
   "metadata": {},
   "outputs": [],
   "source": []
  },
  {
   "cell_type": "code",
   "execution_count": null,
   "id": "29c91f76",
   "metadata": {},
   "outputs": [],
   "source": [
    "What is an anagram? Well, two words are anagrams of each other if they both contain the same letters. For example:\n",
    " \n",
    "'abba' & 'baab' == true\n",
    " \n",
    "'abba' & 'bbaa' == true\n",
    " \n",
    "'abba' & 'abbba' == false\n",
    " \n",
    "'abba' & 'abca' == false\n",
    "Take two inputs from the user word and word list and then write code that will find all the anagrams of a word from a list. You should return a list of all the anagrams or an empty list if there are none. For example:\n",
    " \n",
    "input1:'abba'\n",
    "input2: ['aabb', 'abcd', 'bbaa', 'dada']) \n",
    "output: ['aabb', 'bbaa']\n",
    "\n",
    "input1:'racer'\n",
    "input2: ['crazer', 'carer', 'racar', 'caers', 'racer'])\n",
    "output: ['carer', 'racer']\n",
    " \n",
    "input1:'laser'\n",
    "input2:['lazing', 'lazy',  'lacer'])\n",
    "output:[]"
   ]
  },
  {
   "cell_type": "code",
   "execution_count": null,
   "id": "1215467d",
   "metadata": {},
   "outputs": [],
   "source": []
  },
  {
   "cell_type": "code",
   "execution_count": null,
   "id": "c43a96dd",
   "metadata": {},
   "outputs": [],
   "source": [
    "num = [48, 10, 11, 21, 36, 5, 6, 52, 28, 29,\n",
    "       53, 54, 45, 19, 20, 47, 55, 39, 41, 7,\n",
    "       9, 17, 26, 27, 42, 22, 37, 51, 46, 18,\n",
    "       44, 30, 34, 13, 15, 35, 33, 16, 50, 24]\n",
    "Elemanları ardışık sayılardan oluşan karışık halde bir liste veriliyor. Listenin en küçük elemanı ile en büyük elemanı arasında yer alan, ancak listede gösterilmeyen eksik sayılardan çift olanları çıktı veren python kodu yazınız.\n",
    "Beklenen Çıktı:\n",
    "8\n",
    "12\n",
    "14\n",
    "32\n",
    "38\n",
    "40"
   ]
  },
  {
   "cell_type": "code",
   "execution_count": null,
   "id": "5f9e1d82",
   "metadata": {},
   "outputs": [],
   "source": []
  },
  {
   "cell_type": "code",
   "execution_count": null,
   "id": "3459a860",
   "metadata": {},
   "outputs": [],
   "source": [
    "num = [48, 10, 11, 21, 36, 5, 6, 52, 28, 29,\n",
    "       53, 54, 45, 19, 20, 47, 55, 39, 41, 7,\n",
    "       9, 17, 26, 27, 42, 22, 37, 51, 46, 18,\n",
    "       44, 30, 34, 13, 15, 35, 33, 16, 50, 24]\n",
    "start =min(num)\n",
    "end = max(num)\n",
    "for i in range(start , end) :\n",
    "    if i not in num :\n",
    "        if i%2==0:\n",
    "            print(i)"
   ]
  },
  {
   "cell_type": "code",
   "execution_count": null,
   "id": "fcb180c5",
   "metadata": {},
   "outputs": [],
   "source": []
  },
  {
   "cell_type": "code",
   "execution_count": null,
   "id": "510e773d",
   "metadata": {},
   "outputs": [],
   "source": [
    "Write a Python program to construct the following pattern, using a nested for loop."
   ]
  },
  {
   "cell_type": "code",
   "execution_count": null,
   "id": "c6f25065",
   "metadata": {},
   "outputs": [],
   "source": []
  },
  {
   "cell_type": "code",
   "execution_count": null,
   "id": "20b5900a",
   "metadata": {},
   "outputs": [],
   "source": [
    "Given a signed 32-bit integer x, return x with its digits reversed. If reversing x causes the value to go outside the signed 32-bit integer range [-2^31, 2^31 - 1], then return 0.\n",
    "Assume the environment does not allow you to store 64-bit integers (signed or unsigned).\n",
    "Example 1:\n",
    "Input: x = 123\n",
    "Output: 321\n",
    " \n",
    "Example 2:\n",
    "Input: x = -123\n",
    "Output: -321\n",
    " \n",
    "Example 3:\n",
    "Input: x = 120\n",
    "Output: 21\n",
    " \n",
    "Example 4:\n",
    "Input: x = 0\n",
    "Output: 0\n",
    "Constraints:\n",
    "-2^31 <= x <= 2^31 - 1"
   ]
  },
  {
   "cell_type": "code",
   "execution_count": null,
   "id": "d572b708",
   "metadata": {},
   "outputs": [],
   "source": []
  },
  {
   "cell_type": "code",
   "execution_count": null,
   "id": "38104174",
   "metadata": {},
   "outputs": [],
   "source": [
    "Write a Python program which iterates the integers from 1 to 50. For multiples of three print \"Fizz\" instead of the number and for the multiples of five print \"Buzz\". For numbers which are multiples of both three and five print \"FizzBuzz\".\n",
    "Sample Output :\n",
    "fizzbuzz\n",
    "1\n",
    "2\n",
    "fizz\n",
    "4\n",
    "buzz"
   ]
  },
  {
   "cell_type": "code",
   "execution_count": null,
   "id": "84f64a9f",
   "metadata": {},
   "outputs": [],
   "source": []
  },
  {
   "cell_type": "code",
   "execution_count": null,
   "id": "3977827a",
   "metadata": {},
   "outputs": [],
   "source": [
    "Write a Python program to check a triangle is equilateral, isosceles or scalene.\n",
    "Note :\n",
    "An equilateral triangle is a triangle in which all three sides are equal.\n",
    "A scalene triangle is a triangle that has three unequal sides.\n",
    "An isosceles triangle is a triangle with (at least) two equal sides.\n",
    "Sample Output:\n",
    "x: 6\n",
    "y:8\n",
    "z:12\n",
    "Scalene triangle"
   ]
  },
  {
   "cell_type": "code",
   "execution_count": null,
   "id": "70c7c39f",
   "metadata": {},
   "outputs": [],
   "source": []
  },
  {
   "cell_type": "code",
   "execution_count": null,
   "id": "c4e04432",
   "metadata": {},
   "outputs": [],
   "source": [
    "Imagine you took all the numbers between 0 and n and concatenated them together into a long string. How many digits are there between 0 and n? Write a function that can calculate this.\n",
    "There are 0 digits between 0 and 1, there are 9 digits between 0 and 10 and there are 189 digits between 0 and 100.\n",
    "Examples digits(1) ➞ 0\n",
    "digits(10) ➞ 9\n",
    "digits(100) ➞ 189\n",
    "digits(2020) ➞ 6969\n",
    "Notes The numbers are going to be rather big so creating that string won't be practical.\n",
    "(Eğer fonksiyonlar bitmediyse kullanıcadan input alarak da çözebilirsiniz)"
   ]
  },
  {
   "cell_type": "code",
   "execution_count": null,
   "id": "3c76232c",
   "metadata": {},
   "outputs": [],
   "source": []
  },
  {
   "cell_type": "code",
   "execution_count": null,
   "id": "c96aee12",
   "metadata": {},
   "outputs": [],
   "source": [
    "Collatz dizisi uzunluğunu bulunuz.Collatz dizisinde bir sonraki sayıyı bulma kuralı şöyledir:\n",
    "ni çift sayıysa: ni+1=ni/2\n",
    "ni tek sayıysa: ni+1=3ni+1\n",
    "ni=1ise dur.\n",
    "Söz gelişi, 13 ile başlayan bir dizi aşağıdaki gibi olur.\n",
    "13, 40, 20, 10, 5, 16, 8, 4, 2, 1"
   ]
  },
  {
   "cell_type": "code",
   "execution_count": null,
   "id": "c1576221",
   "metadata": {},
   "outputs": [],
   "source": []
  },
  {
   "cell_type": "code",
   "execution_count": null,
   "id": "bbff55a6",
   "metadata": {},
   "outputs": [],
   "source": [
    "Given a string containing just the characters '(', ')', '{', '}', '[' and ']',\n",
    "determine if the input string is valid.\n",
    "An input string is valid if:\n",
    "Open brackets must be closed by the same type of brackets.\n",
    "Open brackets must be closed in the correct order.\n",
    "Note that an empty string is also considered valid.\n",
    "Example 1:\n",
    "Input: \"()\"\n",
    "Output: True\n",
    "Example 2:\n",
    "Input: \"()[]{}\"\n",
    "Output: True\n",
    "Example 3:\n",
    "Input: \"(]\"\n",
    "Output: False\n",
    "Example 4:\n",
    "Input: \"([)]\"\n",
    "Output: False\n",
    "Example 5:\n",
    "Input: \"{[]}\"\n",
    "Output: True"
   ]
  },
  {
   "cell_type": "code",
   "execution_count": null,
   "id": "970169f0",
   "metadata": {},
   "outputs": [],
   "source": []
  },
  {
   "cell_type": "code",
   "execution_count": null,
   "id": "4a50a4c5",
   "metadata": {},
   "outputs": [],
   "source": [
    "Given an N by N matrix, rotate it by 90 degrees clockwise. For example, given the following matrix:\n",
    "[[1, 2, 3],\n",
    "[4, 5, 6],\n",
    "[7, 8, 9]]\n",
    "You should return:\n",
    "[[7, 4, 1],\n",
    "[8, 5, 2],\n",
    "[9, 6, 3]]"
   ]
  },
  {
   "cell_type": "code",
   "execution_count": null,
   "id": "69456411",
   "metadata": {},
   "outputs": [],
   "source": []
  },
  {
   "cell_type": "code",
   "execution_count": null,
   "id": "888a4414",
   "metadata": {},
   "outputs": [],
   "source": [
    "Pascal üçgeninin ilk n satırını yazdıran bir Python fonksiyonu yazın. \n",
    "Not : Pascal üçgeni, ilk olarak Blaise Pascal tarafından hayal edilen aritmetik ve geometrik bir şekildir.\n",
    "Örnek Pascal üçgeni:\n",
    "Her sayı üstte birbirine eklediği iki sayıdır"
   ]
  },
  {
   "cell_type": "code",
   "execution_count": null,
   "id": "72b4987e",
   "metadata": {},
   "outputs": [],
   "source": []
  },
  {
   "cell_type": "code",
   "execution_count": null,
   "id": "b69b64a7",
   "metadata": {},
   "outputs": [],
   "source": [
    "Imagine you took all the numbers between 0 and n and concatenated them together into a long string. \n",
    "w many digits are there between 0 and n? Write a function that can calculate this.\n",
    "There are 0 digits between 0 and 1, there are 9 digits between 0 and 10 and there are 189 digits between 0 and 100.\n",
    "Examples digits(1) ➞ 0\n",
    "digits(10) ➞ 9\n",
    "digits(100) ➞ 189\n",
    "digits(2020) ➞ 6969\n",
    "Notes The numbers are going to be rather big so creating that string won't be practical."
   ]
  },
  {
   "cell_type": "code",
   "execution_count": null,
   "id": "4d7f29e6",
   "metadata": {},
   "outputs": [],
   "source": []
  },
  {
   "cell_type": "code",
   "execution_count": null,
   "id": "98275b42",
   "metadata": {},
   "outputs": [],
   "source": [
    "QUESTION: Interview Level = Easy Given a sorted array nums, remove the duplicates in-place \n",
    "    such that each element appears only once and returns the new length. Do not allocate \n",
    "    extra space for another array, you must do this by modifying the input array in-place with O(1) extra memory.\n",
    "Example 1:\n",
    "Input: nums = [1,1,2]\n",
    "Output: 2, nums = [1,2]\n",
    "Explanation: Your function should return length = 2, with the first two elements of nums being 1 and 2 respectively. \n",
    "It doesn't matter what you leave beyond the returned length.\n",
    "Example 2:\n",
    "Input: nums = [0,0,1,1,1,2,2,3,3,4]\n",
    "Output: 5, nums = [0,1,2,3,4] Explanation: Your function should return length = 5, with the first five elements of nums \n",
    "    being modified to 0, 1, 2, 3, and 4 respectively. It doesn't matter what values are set beyond the returned length.\n",
    "Clarification: Confused why the returned value is an integer but your answer is an array? Note that the input array is passed \n",
    "    in by reference, which means a modification to the input array will be known to the caller as well."
   ]
  },
  {
   "cell_type": "code",
   "execution_count": null,
   "id": "13bec786",
   "metadata": {},
   "outputs": [],
   "source": []
  },
  {
   "cell_type": "code",
   "execution_count": null,
   "id": "56f99b57",
   "metadata": {},
   "outputs": [],
   "source": [
    "1'den 500'e kadar olan sayılardan mükemmel sayı olanları ekrana yazdırın. \n",
    "Bunun için bir sayının mükemmel olup olmadığını dönen bir tane fonksiyon yazın.\n",
    "Bir sayının bölenlerinin toplamı kendine eşitse bu sayı mükemmel bir sayıdır. \n",
    "Örnek olarak 6 mükemmel bir sayıdır (1 + 2 + 3 = 6)."
   ]
  },
  {
   "cell_type": "code",
   "execution_count": null,
   "id": "565e5320",
   "metadata": {},
   "outputs": [],
   "source": []
  },
  {
   "cell_type": "code",
   "execution_count": null,
   "id": "473789c1",
   "metadata": {},
   "outputs": [],
   "source": [
    "Eğer bir sayının kendisi hariç tam bölenleri toplamı sayıdan büyükse o sayıya zengin sayı diyoruz. \n",
    "Örneğin 12 nin bölenleri 1,2,3,4,6 nın toplamı 16>12 olduğu için zengin sayıdır. En küçük tek zengin sayı nedir?"
   ]
  },
  {
   "cell_type": "code",
   "execution_count": null,
   "id": "3357dad6",
   "metadata": {},
   "outputs": [],
   "source": []
  },
  {
   "cell_type": "code",
   "execution_count": null,
   "id": "1a68110b",
   "metadata": {},
   "outputs": [],
   "source": [
    "0., 4. ve 5. elemanları çıkardıktan sonra belirtilen listeyi yazdıracak bir Python programı yazın. \n",
    "Örnek Liste : ['Kırmızı', 'Yeşil', 'Beyaz', 'Siyah', 'Pembe', 'Sarı']\n",
    "Beklenen Çıktı : ['Yeşil', 'Beyaz', 'Siyah']"
   ]
  },
  {
   "cell_type": "code",
   "execution_count": null,
   "id": "48eb5e1d",
   "metadata": {},
   "outputs": [],
   "source": []
  },
  {
   "cell_type": "code",
   "execution_count": null,
   "id": "144907f5",
   "metadata": {},
   "outputs": [],
   "source": [
    "Your task is to sort a given string. Each word in the string will contain a single number. This number is the position the word should have in the result.\n",
    "Note: Numbers can be from 1 to 9. So 1 will be the first word (not 0).\n",
    "If the input string is empty, return an empty string. The words in the input String will only contain valid consecutive numbers.\n",
    "Examples\n",
    "\"is2 Thi1s T4est 3a\"  -->  \"Thi1s is2 3a T4est\"\n",
    "\"4of Fo1r pe6ople g3ood th5e the2\"  -->  \"Fo1r the2 g3ood 4of th5e pe6ople\"\n",
    "\"\"  -->  \"\""
   ]
  },
  {
   "cell_type": "code",
   "execution_count": null,
   "id": "fb4e862b",
   "metadata": {},
   "outputs": [],
   "source": []
  },
  {
   "cell_type": "code",
   "execution_count": null,
   "id": "2a03dfcc",
   "metadata": {},
   "outputs": [],
   "source": [
    "Sayısal kök , bir sayıdaki tüm rakamların özyinelemeli toplamıdır.\n",
    "Verilen n, rakamlarının toplamını alın n. Bu değerin birden fazla hanesi varsa, tek haneli bir sayı üretilene kadar bu şekilde düşürmeye devam edin. Girdi, negatif olmayan bir tam sayı olacaktır.\n",
    "Örnekler\n",
    "    16  -->  1 + 6 = 7\n",
    "   942  -->  9 + 4 + 2 = 15  -->  1 + 5 = 6\n",
    "132189  -->  1 + 3 + 2 + 1 + 8 + 9 = 24  -->  2 + 4 = 6\n",
    "493193  -->  4 + 9 + 3 + 1 + 9 + 3 = 29  -->  2 + 9 = 11  -->  1 + 1 = 2"
   ]
  },
  {
   "cell_type": "code",
   "execution_count": null,
   "id": "45a42605",
   "metadata": {},
   "outputs": [],
   "source": [
    "def reduce(num):\n",
    "    while num >= 10:\n",
    "         num = int(num/10)+(num-(int(num/10)*10))\n",
    "    return num\n",
    "print(reduce(129))"
   ]
  },
  {
   "cell_type": "code",
   "execution_count": null,
   "id": "8c145793",
   "metadata": {},
   "outputs": [],
   "source": []
  },
  {
   "cell_type": "code",
   "execution_count": null,
   "id": "0b9f7fb6",
   "metadata": {},
   "outputs": [],
   "source": [
    "Problem :\n",
    "Given a collection of distinct integers, return all possible permutations.\n",
    "Example:\n",
    "Input:\n",
    "[1,2,3]\n",
    "Output:\n",
    "[\n",
    "  [1,2,3],\n",
    "  [1,3,2],\n",
    "  [2,1,3],\n",
    "  [2,3,1],\n",
    "  [3,1,2],\n",
    "  [3,2,1]\n",
    "]"
   ]
  },
  {
   "cell_type": "code",
   "execution_count": null,
   "id": "c21ae211",
   "metadata": {},
   "outputs": [],
   "source": []
  },
  {
   "cell_type": "code",
   "execution_count": null,
   "id": "ef86f5dc",
   "metadata": {},
   "outputs": [],
   "source": []
  },
  {
   "cell_type": "code",
   "execution_count": null,
   "id": "f5b3771f",
   "metadata": {},
   "outputs": [],
   "source": []
  },
  {
   "cell_type": "code",
   "execution_count": null,
   "id": "10642275",
   "metadata": {},
   "outputs": [],
   "source": []
  },
  {
   "cell_type": "code",
   "execution_count": null,
   "id": "7a4ece87",
   "metadata": {},
   "outputs": [],
   "source": []
  },
  {
   "cell_type": "code",
   "execution_count": null,
   "id": "1bed6471",
   "metadata": {},
   "outputs": [],
   "source": []
  }
 ],
 "metadata": {
  "kernelspec": {
   "display_name": "Python 3",
   "language": "python",
   "name": "python3"
  },
  "language_info": {
   "codemirror_mode": {
    "name": "ipython",
    "version": 3
   },
   "file_extension": ".py",
   "mimetype": "text/x-python",
   "name": "python",
   "nbconvert_exporter": "python",
   "pygments_lexer": "ipython3",
   "version": "3.8.8"
  }
 },
 "nbformat": 4,
 "nbformat_minor": 5
}
