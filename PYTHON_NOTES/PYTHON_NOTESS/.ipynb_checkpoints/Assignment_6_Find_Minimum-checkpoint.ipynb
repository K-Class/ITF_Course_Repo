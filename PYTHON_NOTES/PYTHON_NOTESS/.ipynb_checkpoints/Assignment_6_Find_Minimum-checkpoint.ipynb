{
 "cells": [
  {
   "cell_type": "code",
   "execution_count": null,
   "id": "39bf62fc",
   "metadata": {},
   "outputs": [],
   "source": [
    "Define a function named my_min to find the min of the inputted numbers.\n",
    "For example:\n",
    "\n",
    "Test\tResult\n",
    "print(my_min(5,6,7))\n",
    "5\n",
    "print(my_min(3,8,-9,0,12,1.2))\n",
    "-9\n",
    "print(my_min(-100))\n",
    "-100"
   ]
  },
  {
   "cell_type": "code",
   "execution_count": null,
   "id": "6bf17ddd",
   "metadata": {},
   "outputs": [],
   "source": [
    "def my_min(*num):\n",
    "    return min(num)\n",
    "\n",
    "print(my_min(-100))"
   ]
  }
 ],
 "metadata": {
  "kernelspec": {
   "display_name": "Python 3",
   "language": "python",
   "name": "python3"
  },
  "language_info": {
   "codemirror_mode": {
    "name": "ipython",
    "version": 3
   },
   "file_extension": ".py",
   "mimetype": "text/x-python",
   "name": "python",
   "nbconvert_exporter": "python",
   "pygments_lexer": "ipython3",
   "version": "3.8.8"
  }
 },
 "nbformat": 4,
 "nbformat_minor": 5
}
