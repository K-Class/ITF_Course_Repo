{
 "cells": [
  {
   "cell_type": "markdown",
   "id": "b6a5b3b5",
   "metadata": {},
   "source": [
    "Task : Let's say; you left a message in the past that prints a password you need. To see the password you wrote, you need to enter your name and the program should recognize you.\n",
    "Write a program that \n",
    "\n",
    "Takes the first name from the user and compares it to yours,\n",
    "Then if the name the user entered is the same as yours, print out such as : \"Hello, Joseph! The password is : W@12\",\n",
    "If the name the user entered is not the same as yours, print out such as : \"Hello, Amina! See you later.\""
   ]
  },
  {
   "cell_type": "code",
   "execution_count": null,
   "id": "5640cf68",
   "metadata": {},
   "outputs": [],
   "source": [
    "name = input(\"enter your first name please(john etc...):\")\n",
    "\n",
    "your_name = input(\"enter your first name please(john etc...):\")\n",
    "\n",
    "if name == your_name :\n",
    "\n",
    "    print(f\"Hello, {name.capitalize()}! The password is : W@12\")\n",
    "\n",
    "else: print(f\"Hello, {name.capitalize()}! See you later.\")"
   ]
  }
 ],
 "metadata": {
  "kernelspec": {
   "display_name": "Python 3",
   "language": "python",
   "name": "python3"
  },
  "language_info": {
   "codemirror_mode": {
    "name": "ipython",
    "version": 3
   },
   "file_extension": ".py",
   "mimetype": "text/x-python",
   "name": "python",
   "nbconvert_exporter": "python",
   "pygments_lexer": "ipython3",
   "version": "3.8.10"
  }
 },
 "nbformat": 4,
 "nbformat_minor": 5
}
