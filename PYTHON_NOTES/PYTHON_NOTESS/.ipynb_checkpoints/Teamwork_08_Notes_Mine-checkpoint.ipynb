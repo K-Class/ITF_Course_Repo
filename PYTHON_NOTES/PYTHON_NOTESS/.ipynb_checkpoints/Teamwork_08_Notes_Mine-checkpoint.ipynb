{
 "cells": [
  {
   "cell_type": "markdown",
   "id": "f3e0981e",
   "metadata": {},
   "source": [
    "1. What is the proper way to write a list comprehension that represents all the keys in this dictionary in\n",
    "Python?"
   ]
  },
  {
   "cell_type": "code",
   "execution_count": 7,
   "id": "0e27f453",
   "metadata": {},
   "outputs": [],
   "source": [
    "fruits = {'Apples': 5, 'Oranges': 3, 'Bananas': 4}"
   ]
  },
  {
   "cell_type": "code",
   "execution_count": 9,
   "id": "4eb969bb",
   "metadata": {},
   "outputs": [
    {
     "data": {
      "text/plain": [
       "['Apples', 'Oranges', 'Bananas']"
      ]
     },
     "execution_count": 9,
     "metadata": {},
     "output_type": "execute_result"
    }
   ],
   "source": [
    "fruit_names = [x for x in fruits.keys()]  # C şıkkı.\n",
    "fruit_names"
   ]
  },
  {
   "cell_type": "markdown",
   "id": "4da45a02",
   "metadata": {},
   "source": [
    "2. When would you use a for loop in Python?\n"
   ]
  },
  {
   "cell_type": "code",
   "execution_count": null,
   "id": "dac3255c",
   "metadata": {},
   "outputs": [],
   "source": [
    "B. When you need to check every element in an iterable of known length"
   ]
  },
  {
   "cell_type": "markdown",
   "id": "f633082b",
   "metadata": {},
   "source": [
    "3. What is the output of the following program?\n"
   ]
  },
  {
   "cell_type": "code",
   "execution_count": 12,
   "id": "e8215480",
   "metadata": {},
   "outputs": [
    {
     "name": "stdout",
     "output_type": "stream",
     "text": [
      "5\n",
      "6\n",
      "7\n",
      "8\n",
      "9\n",
      "10\n",
      "11\n",
      "12\n",
      "13\n"
     ]
    }
   ],
   "source": [
    "i = 5\n",
    "while True:\n",
    " if i%0xe == 0:          #0xe hex karşılığı decimal olarak 14 tür.\n",
    "     break\n",
    " print(i)\n",
    " i += 1"
   ]
  },
  {
   "cell_type": "code",
   "execution_count": null,
   "id": "cbe5466e",
   "metadata": {},
   "outputs": [],
   "source": [
    "[i for i in range(2) if i!=0] # Or [i for i in range(2) if i]   #The Python Docs entry on List Comprehensions"
   ]
  },
  {
   "cell_type": "code",
   "execution_count": null,
   "id": "a28170ea",
   "metadata": {},
   "outputs": [],
   "source": [
    "[i if i!=0 else -1 for i in range(2)]  # conditional expression"
   ]
  },
  {
   "cell_type": "code",
   "execution_count": null,
   "id": "cad86202",
   "metadata": {},
   "outputs": [],
   "source": [
    "filter(None, [1, 2, 0, 0, 4, 5, 6])"
   ]
  },
  {
   "cell_type": "markdown",
   "id": "155a991c",
   "metadata": {},
   "source": [
    "4. What will be the output of the following Python code snippet?"
   ]
  },
  {
   "cell_type": "code",
   "execution_count": 15,
   "id": "9c153ec8",
   "metadata": {},
   "outputs": [
    {
     "ename": "TypeError",
     "evalue": "'int' object is not subscriptable",
     "output_type": "error",
     "traceback": [
      "\u001b[1;31m---------------------------------------------------------------------------\u001b[0m",
      "\u001b[1;31mTypeError\u001b[0m                                 Traceback (most recent call last)",
      "\u001b[1;32m<ipython-input-15-eb22be42c70d>\u001b[0m in \u001b[0;36m<module>\u001b[1;34m\u001b[0m\n\u001b[0;32m      1\u001b[0m \u001b[0mx\u001b[0m \u001b[1;33m=\u001b[0m \u001b[1;34m'abcd'\u001b[0m\u001b[1;33m\u001b[0m\u001b[1;33m\u001b[0m\u001b[0m\n\u001b[0;32m      2\u001b[0m \u001b[1;32mfor\u001b[0m \u001b[0mi\u001b[0m \u001b[1;32min\u001b[0m \u001b[0mrange\u001b[0m\u001b[1;33m(\u001b[0m\u001b[0mlen\u001b[0m\u001b[1;33m(\u001b[0m\u001b[0mx\u001b[0m\u001b[1;33m)\u001b[0m\u001b[1;33m)\u001b[0m\u001b[1;33m:\u001b[0m\u001b[1;33m\u001b[0m\u001b[1;33m\u001b[0m\u001b[0m\n\u001b[1;32m----> 3\u001b[1;33m     \u001b[0mi\u001b[0m\u001b[1;33m[\u001b[0m\u001b[0mx\u001b[0m\u001b[1;33m]\u001b[0m\u001b[1;33m.\u001b[0m\u001b[0mupper\u001b[0m\u001b[1;33m(\u001b[0m\u001b[1;33m)\u001b[0m           \u001b[1;31m#bunun yerine x[i].upper() olsaydı abcd verirdi.\u001b[0m\u001b[1;33m\u001b[0m\u001b[1;33m\u001b[0m\u001b[0m\n\u001b[0m\u001b[0;32m      4\u001b[0m \u001b[0mprint\u001b[0m \u001b[1;33m(\u001b[0m\u001b[0mx\u001b[0m\u001b[1;33m)\u001b[0m\u001b[1;33m\u001b[0m\u001b[1;33m\u001b[0m\u001b[0m\n",
      "\u001b[1;31mTypeError\u001b[0m: 'int' object is not subscriptable"
     ]
    }
   ],
   "source": [
    "x = 'abcd'\n",
    "for i in range(len(x)):\n",
    "    i[x].upper()           #bunun yerine x[i].upper() olsaydı abcd verirdi. \n",
    "print (x)             # C şıkkı verir."
   ]
  },
  {
   "cell_type": "markdown",
   "id": "b91c390e",
   "metadata": {},
   "source": [
    "5. Suppose there is a list such that: k=[2,3,4]. If we want to print this list in reverse order, which of the\n",
    "following methods should be used?\n"
   ]
  },
  {
   "cell_type": "code",
   "execution_count": 16,
   "id": "7070194c",
   "metadata": {},
   "outputs": [],
   "source": [
    "k=[2,3,4]     # D şıkkı."
   ]
  },
  {
   "cell_type": "code",
   "execution_count": 17,
   "id": "3033fbfb",
   "metadata": {},
   "outputs": [
    {
     "data": {
      "text/plain": [
       "[4, 3, 2]"
      ]
     },
     "execution_count": 17,
     "metadata": {},
     "output_type": "execute_result"
    }
   ],
   "source": [
    "list(reversed(k)) \n"
   ]
  },
  {
   "cell_type": "markdown",
   "id": "dfa617c1",
   "metadata": {},
   "source": [
    "6. Which choice is NOT a statement you would use to filter data in SQL?\n"
   ]
  },
  {
   "cell_type": "code",
   "execution_count": null,
   "id": "69a4f894",
   "metadata": {},
   "outputs": [],
   "source": [
    "A. GROUP_BY"
   ]
  },
  {
   "cell_type": "markdown",
   "id": "69e33c39",
   "metadata": {},
   "source": [
    "7. In SELECT * FROM clients; what does clients represent in SQL?\n"
   ]
  },
  {
   "cell_type": "code",
   "execution_count": null,
   "id": "7c4cb9aa",
   "metadata": {},
   "outputs": [],
   "source": [
    "D. a table"
   ]
  },
  {
   "cell_type": "markdown",
   "id": "3210335f",
   "metadata": {},
   "source": [
    "8. If you need to order a table of movies by name, which query will work in SQL?"
   ]
  },
  {
   "cell_type": "code",
   "execution_count": null,
   "id": "398d1a7e",
   "metadata": {},
   "outputs": [],
   "source": [
    "B. SELECT * FROM movies ORDER BY name\n"
   ]
  },
  {
   "cell_type": "markdown",
   "id": "6c3c5272",
   "metadata": {},
   "source": [
    "9. You are working with very large tables in your database. Which SQL clause do you use to prevent\n",
    "exceedingly large query results?\n"
   ]
  },
  {
   "cell_type": "code",
   "execution_count": null,
   "id": "135e1cc7",
   "metadata": {},
   "outputs": [],
   "source": [
    "B. LIMIT"
   ]
  },
  {
   "cell_type": "markdown",
   "id": "d96a9b70",
   "metadata": {},
   "source": [
    "10. How can you filter duplicate data while retrieving records from a table in SQL?\n"
   ]
  },
  {
   "cell_type": "code",
   "execution_count": null,
   "id": "92d0f9da",
   "metadata": {},
   "outputs": [],
   "source": [
    "A. DISTINCT\n"
   ]
  },
  {
   "cell_type": "markdown",
   "id": "890c6b0f",
   "metadata": {},
   "source": [
    "11. If we have not specified ASC or DESC after a SQL ORDER BY clause, the following is used by default?\n"
   ]
  },
  {
   "cell_type": "code",
   "execution_count": null,
   "id": "6dc53506",
   "metadata": {},
   "outputs": [],
   "source": [
    "B. ASC\n"
   ]
  },
  {
   "cell_type": "code",
   "execution_count": null,
   "id": "11c5b19c",
   "metadata": {},
   "outputs": [],
   "source": [
    "12. In an Agile environment, what is the main responsibility of a tester?\n"
   ]
  },
  {
   "cell_type": "code",
   "execution_count": null,
   "id": "cdb9858f",
   "metadata": {},
   "outputs": [],
   "source": []
  },
  {
   "cell_type": "code",
   "execution_count": null,
   "id": "ebfb08dd",
   "metadata": {},
   "outputs": [],
   "source": [
    "13. Who is responsible to measure the Project’s performance?\n"
   ]
  },
  {
   "cell_type": "code",
   "execution_count": null,
   "id": "d3baff0c",
   "metadata": {},
   "outputs": [],
   "source": [
    "B. The Product Owner"
   ]
  },
  {
   "cell_type": "code",
   "execution_count": null,
   "id": "41138b23",
   "metadata": {},
   "outputs": [],
   "source": [
    "14. Which one is not one of the main responsibilities of a Scrum Master?\n"
   ]
  },
  {
   "cell_type": "code",
   "execution_count": null,
   "id": "56ce32c2",
   "metadata": {},
   "outputs": [],
   "source": []
  },
  {
   "cell_type": "code",
   "execution_count": null,
   "id": "4420654d",
   "metadata": {},
   "outputs": [],
   "source": [
    "15. When is a Sprint Retrospective ceremony performed?**"
   ]
  },
  {
   "cell_type": "code",
   "execution_count": null,
   "id": "7542b555",
   "metadata": {},
   "outputs": [],
   "source": []
  },
  {
   "cell_type": "code",
   "execution_count": null,
   "id": "f54653fa",
   "metadata": {},
   "outputs": [],
   "source": [
    "1. What are the benefits of using JIRA?\n",
    "2. How is Agile Methodology different than Traditional Waterfall process?\n",
    "3. Explain Python functions?"
   ]
  },
  {
   "cell_type": "code",
   "execution_count": null,
   "id": "fc026e5e",
   "metadata": {},
   "outputs": [],
   "source": [
    "Jira; Atlassian firması tarafından JAVA platformu üzerinde geliştirilmiş geliştirilmiş, hata takip, iş takip ve proje \n",
    "yönetim ve raporlama gibi işlemlerin yapılabilmesine olanak sağlayan, birçok sektörde iş akışlarını yönetecek bir \n",
    "yapıya sahip, kendi ihtiyaçlarınıza ve kurumsal yapılanmanıza göre değiştirebildiğiniz düzenleyebildiğiniz bir yazılımdır.\n",
    "Jira'nın en önemli özelliği web tabanlı olmasıdır. Jira’da gerçekleştirmek istediğimiz eylem için workflow (iş akış) \n",
    "şeması oluşturmak çok kolay ve rahattır.\n",
    "\n",
    "Jira'nın özellikleri\n",
    "\n",
    "1. Web tabanlıdır.\n",
    "\n",
    "2. Kullanımı kolay ve rahattır.\n",
    "\n",
    "3. Değiştirilebilir özel filtrelere sahiptir.\n",
    "\n",
    "4. Ayarlanabilir iş takip grafiklerine sahiptir.\n",
    "\n",
    "5. Kullanıcıyı bilgilendiren otomatik bildiri e-postaları gönderebilmektedir.\n",
    "\n",
    "6. Karmaşık hataları ve çözümleri, düzenli bir şekilde bulmamızı kolaylaştırır.\n",
    "\n",
    "7. İşletme ihtiyaçlarına göre genişletebilirdir.\n",
    "\n",
    "Jira ile neler yapabilirsiniz?\n",
    "\n",
    "1. İş takibi,\n",
    "\n",
    "2. Proje yönetimi,\n",
    "\n",
    "3. Hata takibi,\n",
    "\n",
    "4. İş akış yönetimi,\n",
    "\n",
    "5. Yazılım proje yönetimi,\n",
    "\n",
    "6. Düzeltilmesi gereken hataların önem düzeyinin belirlenmesi,\n",
    "\n",
    "7. Zaman ve kaynak planlaması,\n",
    "\n",
    "8. Plugin alt yapısı sayesinde işletmenize uygun pluginler yazılıp kullanılabilir.\n",
    "\n",
    "9. Dünya çapında 23.000’in üzerinde firma tarafından kullanılmaktadır.\n",
    "\n",
    "Jira'nın temel özellikleri\n",
    "\n",
    "1. Jira ortak kullanıma uygun bir çalışma alanına sahiptir.\n",
    "\n",
    "2. Jira’da kuruluşunuzdaki hiyerarşi için belirli bir işin sorumlusunun kim olduğunu öğrenmenizi, atamanızı \n",
    "sağlayan bir alan mevcuttur.\n",
    "\n",
    "3. Jira’nın bir diğer özelliği de kişiselleştirilebilir iş akışlarıdır. Tüm ekipler kendi ideal çalışma \n",
    "şekillerini inşa eder ve JIRA onların verimli bir şekilde ayarlanmasını sağlar.\n",
    "\n",
    "4. Jira'da her işin geçmişini öğrenmek kolaydır çünkü JIRA iş alanları üzerinde yapılan güncellemeleri \n",
    "veya iş akışı durumları arasındaki geçişler gibi değişikliklerin her birini kayıt altında tutar."
   ]
  },
  {
   "cell_type": "code",
   "execution_count": null,
   "id": "74b3c624",
   "metadata": {},
   "outputs": [],
   "source": [
    "* Waterfall is a Liner Sequential Life Cycle Model whereas Agile is a continuous iteration of development\n",
    "and testing in the software development process.\n",
    "* In Agile vs Waterfall difference, the Agile methodology is known for its flexibility whereas \n",
    "Waterfall is a structured software development methodology.\n",
    "* Comparing the Waterfall methodology vs Agile which follows an incremental approach whereas \n",
    "the Waterfall is a sequential design process.\n",
    "* Agile performs testing concurrently with software development whereas in Waterfall methodology \n",
    "testing comes after the “Build” phase.\n",
    "* Agile allows changes in project development requirement whereas Waterfall has no scope of changing \n",
    "the requirements once the project development starts."
   ]
  },
  {
   "cell_type": "code",
   "execution_count": null,
   "id": "c970147f",
   "metadata": {},
   "outputs": [],
   "source": [
    "A function is a block of code which only runs when it is called.\n",
    "\n",
    "You can pass data, known as parameters, into a function.\n",
    "\n",
    "A function can return data as a result.\n",
    "\n",
    "In Python a function is defined using the def keyword:\n",
    "    \n",
    "To call a function, use the function name followed by parenthesis:\n",
    "\n",
    "Information can be passed into functions as arguments.\n",
    "\n",
    "Arbitrary Arguments, *args\n",
    "If you do not know how many arguments that will be passed into your function, add a * before the parameter \n",
    "name in the function definition.\n",
    "\n",
    "Keyword Arguments\n",
    "You can also send arguments with the key = value syntax.\n",
    "\n",
    "Arbitrary Keyword Arguments, **kwargs\n",
    "If you do not know how many keyword arguments that will be passed into your function, \n",
    "add two asterisk: ** before the parameter name in the function definition."
   ]
  },
  {
   "cell_type": "code",
   "execution_count": null,
   "id": "b3942682",
   "metadata": {},
   "outputs": [],
   "source": [
    "1. There are three houses. One is red, one is blue, and one is white. If the red house is to the left of the\n",
    "house in the middle, and the blue house is to the right of the house in the middle, where is the white\n",
    "house?\n",
    "2. A boy and a doctor were fishing. The boy is the doctor's son, but the doctor isn't the boy's father. Who\n",
    "is the doctor?\n",
    "3. Two world's famous prisoners 'Colditz' and 'Pascal' are locked in a cell. They plan to escape from the\n",
    "cell. They noticed there is an open window at 40 feet above the ground level.Both of them tried very\n",
    "hard but are never able to reach there. Then both of them decided to plan to escape by a tunnel and they\n",
    "start digging out. After digging for just 5 days, Colditz and Pascal comes out with the much more easier\n",
    "plan than tunneling and they escaped. what was the plan?"
   ]
  },
  {
   "cell_type": "code",
   "execution_count": null,
   "id": "6d69aa2e",
   "metadata": {},
   "outputs": [],
   "source": [
    "As it is given in question that red house is in left of the middle one and blue is in right to the middle one then \n",
    "it is obvious that white house is in the middle."
   ]
  },
  {
   "cell_type": "code",
   "execution_count": null,
   "id": "f1d44b26",
   "metadata": {},
   "outputs": [],
   "source": [
    "His mother."
   ]
  },
  {
   "cell_type": "code",
   "execution_count": null,
   "id": "1adcdefc",
   "metadata": {},
   "outputs": [],
   "source": [
    "His plan is to dig the tunnel and pile up the dirt to climb up to the window to escape.\n"
   ]
  }
 ],
 "metadata": {
  "kernelspec": {
   "display_name": "Python 3",
   "language": "python",
   "name": "python3"
  },
  "language_info": {
   "codemirror_mode": {
    "name": "ipython",
    "version": 3
   },
   "file_extension": ".py",
   "mimetype": "text/x-python",
   "name": "python",
   "nbconvert_exporter": "python",
   "pygments_lexer": "ipython3",
   "version": "3.8.10"
  }
 },
 "nbformat": 4,
 "nbformat_minor": 5
}
