{
 "cells": [
  {
   "cell_type": "markdown",
   "id": "67275b1f",
   "metadata": {},
   "source": [
    "Task : Create a list consisting of Fibonacci numbers from 1 to 55 using control flow statements.\n",
    "\n",
    "The desired output is like :\n",
    "\n",
    "fibonacci →  [1, 1, 2, 3, 5, 8, 13, 21, 34, 55]"
   ]
  },
  {
   "cell_type": "code",
   "execution_count": 1,
   "id": "ef9811d4",
   "metadata": {},
   "outputs": [
    {
     "name": "stdout",
     "output_type": "stream",
     "text": [
      "0\n",
      "1\n",
      "1\n",
      "2\n",
      "3\n",
      "5\n",
      "8\n",
      "13\n",
      "21\n",
      "34\n",
      "55\n"
     ]
    }
   ],
   "source": [
    "first_nu = 0\n",
    "second_nu = 1\n",
    "\n",
    "for n in range(100):\n",
    "    if (n <= 1):\n",
    "        next_nu = n\n",
    "    else :\n",
    "        next_nu = first_nu + second_nu\n",
    "        first_nu = second_nu \n",
    "        second_nu = next_nu\n",
    "        if next_nu > 55:\n",
    "            break\n",
    "    print(next_nu)"
   ]
  },
  {
   "cell_type": "code",
   "execution_count": null,
   "id": "eba33bc3",
   "metadata": {},
   "outputs": [],
   "source": []
  }
 ],
 "metadata": {
  "kernelspec": {
   "display_name": "Python 3",
   "language": "python",
   "name": "python3"
  },
  "language_info": {
   "codemirror_mode": {
    "name": "ipython",
    "version": 3
   },
   "file_extension": ".py",
   "mimetype": "text/x-python",
   "name": "python",
   "nbconvert_exporter": "python",
   "pygments_lexer": "ipython3",
   "version": "3.8.10"
  }
 },
 "nbformat": 4,
 "nbformat_minor": 5
}
