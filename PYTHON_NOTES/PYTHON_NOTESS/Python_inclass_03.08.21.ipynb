{
 "cells": [
  {
   "cell_type": "code",
   "execution_count": 12,
   "id": "66a53b51",
   "metadata": {},
   "outputs": [],
   "source": [
    "generate = (i ** 2 for i in range(6))         #[body for variable iterable] #  for var in iter:\n",
    "                                                    #      body\n"
   ]
  },
  {
   "cell_type": "code",
   "execution_count": 6,
   "id": "cbc2b88c",
   "metadata": {},
   "outputs": [
    {
     "data": {
      "text/plain": [
       "<generator object <genexpr> at 0x000001D3C0A04C80>"
      ]
     },
     "execution_count": 6,
     "metadata": {},
     "output_type": "execute_result"
    }
   ],
   "source": [
    "generate"
   ]
  },
  {
   "cell_type": "code",
   "execution_count": 8,
   "id": "acbbf5b8",
   "metadata": {},
   "outputs": [
    {
     "name": "stdout",
     "output_type": "stream",
     "text": [
      "0 1 4 9 16 25\n"
     ]
    }
   ],
   "source": [
    "print(* generate)   # Bu bir generator olduğundan bunu yapınca içi boşaldı.\n",
    "                    # Aşağıdaki gibi bir döngü ile yeniden yapmaya çalışsak sonuç vermez,"
   ]
  },
  {
   "cell_type": "code",
   "execution_count": 10,
   "id": "5e0ce2a3",
   "metadata": {},
   "outputs": [],
   "source": [
    "for i in generate :\n",
    "    print(i)           # Yukarıda içini boşalttığımızdan sonuç vermez."
   ]
  },
  {
   "cell_type": "code",
   "execution_count": 11,
   "id": "74d6756d",
   "metadata": {},
   "outputs": [
    {
     "data": {
      "text/plain": [
       "[]"
      ]
     },
     "execution_count": 11,
     "metadata": {},
     "output_type": "execute_result"
    }
   ],
   "source": [
    "list(generate)           # generate içi boşaldığından boş liste verdi. Bir kere yaptık yani iterate ettik. \n",
    "                         # Tekrar yukarıdan doldurmamız gerekir içini."
   ]
  },
  {
   "cell_type": "code",
   "execution_count": 13,
   "id": "e2a72ab8",
   "metadata": {},
   "outputs": [
    {
     "name": "stdout",
     "output_type": "stream",
     "text": [
      "0\n",
      "1\n",
      "4\n",
      "9\n",
      "16\n",
      "25\n"
     ]
    }
   ],
   "source": [
    "for i in generate :   # Yukarıda generate içine girip tekrar çalıştırdık ve bize bu sonucu verdi.\n",
    "    print(i)"
   ]
  },
  {
   "cell_type": "code",
   "execution_count": 14,
   "id": "6f09e8f3",
   "metadata": {},
   "outputs": [
    {
     "data": {
      "text/plain": [
       "[]"
      ]
     },
     "execution_count": 14,
     "metadata": {},
     "output_type": "execute_result"
    }
   ],
   "source": [
    "list(generate)   # Bir kere sergiledikten sonra tekrar doldurmamız gerekir. filter, map, zip functionları ile bunu tekrar deneyebiliriz. <"
   ]
  },
  {
   "cell_type": "code",
   "execution_count": 26,
   "id": "44c0af67",
   "metadata": {},
   "outputs": [],
   "source": [
    "generate = (i ** 2 for i in range(6)) #for döngüsü burada arka planda bir built in function kullanıyor. next() ile iterate ediyor."
   ]
  },
  {
   "cell_type": "code",
   "execution_count": 27,
   "id": "fbfaa0e7",
   "metadata": {},
   "outputs": [
    {
     "name": "stdout",
     "output_type": "stream",
     "text": [
      "0\n"
     ]
    }
   ],
   "source": [
    "print(next(generate))  #görüldüğü gibi sırayla her bir elemanı iterate ederek sonuç veriyor bize."
   ]
  },
  {
   "cell_type": "code",
   "execution_count": 28,
   "id": "ecded81b",
   "metadata": {},
   "outputs": [
    {
     "name": "stdout",
     "output_type": "stream",
     "text": [
      "1\n"
     ]
    }
   ],
   "source": [
    "print(next(generate))"
   ]
  },
  {
   "cell_type": "code",
   "execution_count": 29,
   "id": "ee163a81",
   "metadata": {},
   "outputs": [
    {
     "name": "stdout",
     "output_type": "stream",
     "text": [
      "4\n"
     ]
    }
   ],
   "source": [
    "print(next(generate))"
   ]
  },
  {
   "cell_type": "code",
   "execution_count": 20,
   "id": "5c56e188",
   "metadata": {},
   "outputs": [
    {
     "name": "stdout",
     "output_type": "stream",
     "text": [
      "9\n"
     ]
    }
   ],
   "source": [
    "print(next(generate))"
   ]
  },
  {
   "cell_type": "code",
   "execution_count": 21,
   "id": "d51144df",
   "metadata": {},
   "outputs": [
    {
     "name": "stdout",
     "output_type": "stream",
     "text": [
      "16\n"
     ]
    }
   ],
   "source": [
    "print(next(generate))"
   ]
  },
  {
   "cell_type": "code",
   "execution_count": 22,
   "id": "26b1f562",
   "metadata": {},
   "outputs": [
    {
     "name": "stdout",
     "output_type": "stream",
     "text": [
      "25\n"
     ]
    }
   ],
   "source": [
    "print(next(generate))"
   ]
  },
  {
   "cell_type": "code",
   "execution_count": 23,
   "id": "426da6d4",
   "metadata": {},
   "outputs": [
    {
     "ename": "StopIteration",
     "evalue": "",
     "output_type": "error",
     "traceback": [
      "\u001b[1;31m---------------------------------------------------------------------------\u001b[0m",
      "\u001b[1;31mStopIteration\u001b[0m                             Traceback (most recent call last)",
      "\u001b[1;32m<ipython-input-23-e0b94480744e>\u001b[0m in \u001b[0;36m<module>\u001b[1;34m\u001b[0m\n\u001b[1;32m----> 1\u001b[1;33m \u001b[0mprint\u001b[0m\u001b[1;33m(\u001b[0m\u001b[0mnext\u001b[0m\u001b[1;33m(\u001b[0m\u001b[0mgenerate\u001b[0m\u001b[1;33m)\u001b[0m\u001b[1;33m)\u001b[0m\u001b[1;33m\u001b[0m\u001b[1;33m\u001b[0m\u001b[0m\n\u001b[0m",
      "\u001b[1;31mStopIteration\u001b[0m: "
     ]
    }
   ],
   "source": [
    "print(next(generate)) # başka eleman olmadığından dolayıbaşka iterate edecek eleman olmadığından bu sonucu verdi."
   ]
  },
  {
   "cell_type": "code",
   "execution_count": 30,
   "id": "3ec21252",
   "metadata": {},
   "outputs": [
    {
     "name": "stdout",
     "output_type": "stream",
     "text": [
      "9 16 25\n"
     ]
    }
   ],
   "source": [
    "print(*generate)   #tekrar içini doldurup çalıştırdığımızda almadığımz iterateleri bize verdi. "
   ]
  },
  {
   "cell_type": "markdown",
   "id": "5659dd6e",
   "metadata": {},
   "source": [
    "# Armstrong Number?"
   ]
  },
  {
   "cell_type": "code",
   "execution_count": null,
   "id": "442afae5",
   "metadata": {},
   "outputs": [],
   "source": [
    "Task:\n",
    "\n",
    "Find out if a given number is an \"Armstrong Number\".\n",
    "\n",
    "An n-digit number that is the sum of the nth powers of its digits is called an n-Armstrong number. Examples :\n",
    "371 = 33 + 73 + 13;\n",
    "9474 = 94 + 44 + 74 + 44;\n",
    "93084 = 95 + 35 + 05 + 85 + 45.\n",
    "\n",
    "Write a Python program that;\n",
    "takes a positive integer number from the user,\n",
    "checks the entered number if it is Armstrong,\n",
    "consider the negative, float and any entries other than numeric values then display a warning message to the user.\n",
    "\n",
    "Examples\n",
    "Sample inputs\tOutputs\n",
    "407\t407 is an Armstrong number\n",
    "5\t5 is an Armstrong number\n",
    " -153\t It is an invalid entry. Don't use non-numeric, float, or negative values!\n",
    " 153.87 or 153,87\t It is an invalid entry. Don't use non-numeric, float, or negative values!\n",
    " one\t It is an invalid entry. Don't use non-numeric, float, or negative values!\n",
    " 121\t 121 is not an Armstrong number"
   ]
  },
  {
   "cell_type": "code",
   "execution_count": null,
   "id": "e0549fd0",
   "metadata": {},
   "outputs": [],
   "source": [
    "nu = input(\"enter a number:\")\n",
    "toplam = 0\n",
    "\n",
    "while not nu.isdigit() :         #doğru cevap girene kadar bu döngü ile girmesini sağlıyoruz.\n",
    "    print(\"It is an invalid entry. Don't use non-numeric, float, or negative values!\")\n",
    "    nu = input(\"enter a number:\")\n",
    "nu=int(nu)\n",
    "sayı=str(nu)\n",
    "for rakam in sayı:\n",
    "    \n",
    "    toplam += int(rakam)**len(sayı)\n",
    "if nu == toplam:\n",
    "    print(\"{} is an Amstrong number.\".format(nu))\n",
    "else: \n",
    "    print(\"{} is not an Amstrong number.\".format(nu))"
   ]
  },
  {
   "cell_type": "code",
   "execution_count": 31,
   "id": "483a897e",
   "metadata": {},
   "outputs": [
    {
     "name": "stdout",
     "output_type": "stream",
     "text": [
      "enter a positive integer number:-123\n",
      "-123 is invalid entry. Enter valid input:\n",
      "enter a positive integer number:12,5\n",
      "12,5 is invalid entry. Enter valid input:\n",
      "enter a positive integer number:25\n",
      "25 is not an Amstrong number. Sorry.\n"
     ]
    }
   ],
   "source": [
    "while True:\n",
    "    number = input(\"enter a positive integer number:\")\n",
    "    digits = len(number)   #bununla girilen sayının uzunluğunu yani kaç karakterden oluştuğunu bulduk.\n",
    "    sum = 0\n",
    "    \n",
    "    if not number.isdigit():        #Buraya yanlış bir değer girdiğinde sonuç \"false\" olsa bile çalıştırmak istiyorsam \"not\" ilave ediyorum.\n",
    "        print(number, \"is invalid entry. Enter valid input:\")  # Bu durumda if true döndürür ve alttaki mesajı gösterir.\n",
    "    elif int(number) >=0 :\n",
    "        for i in range(digits) :    #digit kadar iterate edeceğim.\n",
    "            sum = sum + int(number[i])**digits   #sum olarak bir değişken tanımladık. Ve sayıyının digit kadar üssünü alarak birbirine ilave ediyoruz.\n",
    "                                                # bunun yerine sum += int(number[i])**digits yazabilirdik.\n",
    "        if sum == int(number):\n",
    "            print(number, \"is an Amstrong number.\")\n",
    "            break     #bu ve aşağıdaki break ile while döngüsünden çıkarız.\n",
    "        else :\n",
    "            print(number, \"is not an Amstrong number. Sorry.\")\n",
    "            break\n",
    "        "
   ]
  },
  {
   "cell_type": "code",
   "execution_count": null,
   "id": "483bf507",
   "metadata": {},
   "outputs": [],
   "source": [
    "a = input(\"Please enter a positive integer number:\")\n",
    "b = 0\n",
    "if a.isnumeric():\n",
    "    for i in a :\n",
    "        b += int(i) ** len(a)\n",
    "    print(b)\n",
    "    if b == int(a) :\n",
    "        print(f\"{a} is an Armstrong number\") \n",
    "    else:\n",
    "        print(f\"{a} is not an Armstrong number\")\n",
    "\n",
    "else:\n",
    "    print(\" It is an invalid entry. Don't use non-numeric, float, or negative values!\")"
   ]
  },
  {
   "cell_type": "code",
   "execution_count": null,
   "id": "f1bf8376",
   "metadata": {},
   "outputs": [],
   "source": [
    "number = input('Enter a number > ')\n",
    "total = 0\n",
    "if not number.isdigit():\n",
    "    print(\"It is an invalid entry. Don't use non-numeric, float, or negative values!\")\n",
    "else:\n",
    "    length = len(number)\n",
    "    for i in number:\n",
    "        total += int(i) ** length\n",
    "    if total == int(number):\n",
    "        print(f'{number} is an Armstrong number.')\n",
    "    else:\n",
    "        print(f'{number} is not an Armstrong number.')"
   ]
  },
  {
   "cell_type": "code",
   "execution_count": null,
   "id": "c46bd38f",
   "metadata": {},
   "outputs": [],
   "source": [
    "def check_is_digit(input_str):\n",
    "    if input_str.strip().isdigit():\n",
    "        number = int(input_str)\n",
    "        x = list(input_str)\n",
    "        y = 0\n",
    "        for i in range(0,len(x)):\n",
    "            x[i] = int(x[i])\n",
    "            y += x[i]**(len(x))\n",
    "        if y == number:\n",
    "            print(f\"{y} is an Armstrong number\")\n",
    "        else:\n",
    "            print(f\"{number} is not an Armstrong number\")\n",
    "    else:\n",
    "        print(\" It is an invalid entry. Don't use non-numeric, float, or negative values!\")\n",
    "num1 = input(\"Enter number and hit enter\")\n",
    "check_is_digit(num1)"
   ]
  },
  {
   "cell_type": "code",
   "execution_count": null,
   "id": "19879211",
   "metadata": {},
   "outputs": [],
   "source": [
    "num = input(\"Enter a positive number: \")\n",
    "num_list = list(num)\n",
    "armstrong = 0\n",
    "if num.isdigit() and int(num) > 0 : # Pozitif sayı isteniyor.\n",
    "  for i in range(len(num_list)):\n",
    "    armstrong += int(num_list[i]) ** len(num_list)\n",
    "  if int(num) == armstrong:\n",
    "    print(f\"{num} is an Armstrong number\")\n",
    "  else:\n",
    "    print(f\"{num} is not an Armstrong number\")\n",
    "    \n",
    "else:\n",
    "  print(\" It is an invalid entry. Don't use non-numeric, float, or negative values!\")"
   ]
  },
  {
   "cell_type": "code",
   "execution_count": null,
   "id": "2d0eeaa6",
   "metadata": {},
   "outputs": [],
   "source": [
    "x=input(\"Write a positive number : \")\n",
    "if x.isdigit():\n",
    "    t=sum([int(x[i])**len(x) for i in range(len(x))])\n",
    "    print(f\"{t} is an Armstrong number\" if t==int(x) else f\"{int(x)} is not an Armstrong number\")\n",
    "else:\n",
    "    print(f\"It is an invalid entry. Don't use non-numeric, float or negative values\")"
   ]
  },
  {
   "cell_type": "code",
   "execution_count": null,
   "id": "c828217c",
   "metadata": {},
   "outputs": [],
   "source": [
    "while True:\n",
    "    number = input(\"Enter a number :\")\n",
    "    if number.isnumeric() :\n",
    "        sum_expon = 0\n",
    "        n = len(number)\n",
    "        for i in number :\n",
    "            expon = int(i)**int(n)\n",
    "            sum_expon += expon\n",
    "        if sum_expon == int(number) :\n",
    "            print(number, \"is an Armstrong number\")\n",
    "            break\n",
    "        else :\n",
    "            print(number, \"is not an Armstrong number\")\n",
    "            break\n",
    "    else:\n",
    "        print(\"It is an invalid entry. Don't use non-numeric, float, or negative values!\")"
   ]
  },
  {
   "cell_type": "code",
   "execution_count": null,
   "id": "ea32f409",
   "metadata": {},
   "outputs": [],
   "source": [
    "def armstrong(x):\n",
    "    a = len(x)\n",
    "    b = list(x)\n",
    "    total = 0\n",
    "    for i in b:\n",
    "        total = total + int(i) ** a\n",
    "    if total == int(x):\n",
    "        return f\"{x} is an Armstrong number.\"\n",
    "    else:\n",
    "        return f\"{x} is not an Armstrong number.\"\n",
    "\n",
    "\n",
    "while True:\n",
    "    number = input(\"Number:\")\n",
    "    if number == \"q\":\n",
    "        print(\"Program is shutting down...\")\n",
    "        break\n",
    "    else:\n",
    "        try:\n",
    "            print(armstrong(number))\n",
    "        except ValueError:\n",
    "            print(\"It is an invalid entry. Don't use non-numeric, float, or negative values\")"
   ]
  },
  {
   "cell_type": "markdown",
   "id": "2efb80bd",
   "metadata": {},
   "source": [
    "# is it a Prime Number?"
   ]
  },
  {
   "cell_type": "code",
   "execution_count": null,
   "id": "f56ea8cd",
   "metadata": {},
   "outputs": [],
   "source": [
    "Task : Print the prime numbers which are between 1 to entered limit number (n).\n",
    "\n",
    "You can use a nested for loop. Collect all these numbers into a list The desired output for n=100 :\n",
    "\n",
    "[2, 3, 5, 7, 11, 13, 17, 19, 23, 29, 31, 37, 41, 43, 47, 53, 59, 61, 67, 71, 73, 79, 83, 89, 97]"
   ]
  },
  {
   "cell_type": "code",
   "execution_count": 32,
   "id": "0c1767c1",
   "metadata": {},
   "outputs": [
    {
     "name": "stdout",
     "output_type": "stream",
     "text": [
      "Enter a positive number to check if it is a prime number :11\n",
      "11 is a Prime Number.\n"
     ]
    }
   ],
   "source": [
    "# sadece kendisine ve 1 e bölünebilen asal sayı denir. Mesela 17 aldığımızda sırasıyla hangi sayılara bölünebilir bakarız.\n",
    "# Tam bölünme demek kalan 0 olacak yani modulüs 0 olacak.\n",
    "n = int(input(\"Enter a positive number to check if it is a prime number :\"))\n",
    "count = 0\n",
    "\n",
    "for i in range(1, n+1) :\n",
    "    if n % i == 0 :\n",
    "        count += 1   #bir sayaç atadık. Prime numberları bunun içinde tutacağız.\n",
    "if (n == 0) or (n == 1) or (count >= 3) :\n",
    "    print(n, \"is not a Prime Number.\")\n",
    "else :\n",
    "    print(n, \"is a Prime Number.\")"
   ]
  },
  {
   "cell_type": "code",
   "execution_count": null,
   "id": "dfa35636",
   "metadata": {},
   "outputs": [],
   "source": [
    "number = int(input(\"Enter any number:\"))\n",
    "if number>1:\n",
    "    for i in range(2,number):\n",
    "        if (number%i)==0:\n",
    "            print(number, \"is not prime number\")\n",
    "            break\n",
    "    else:\n",
    "            print(number, \"is prime number\")"
   ]
  },
  {
   "cell_type": "code",
   "execution_count": null,
   "id": "c0ccf54d",
   "metadata": {},
   "outputs": [],
   "source": [
    "num = int(input(\"Please Enter A Number: \"))\n",
    "if num > 1:\n",
    "    for i in range (2, num):\n",
    "        if num%i == 0:\n",
    "            print(num, \"is not a prime number\")\n",
    "        else:\n",
    "            print(num, \"is a prime number\")\n",
    "        break\n",
    "else:\n",
    "    print(num, \"is not a prime number\")"
   ]
  },
  {
   "cell_type": "code",
   "execution_count": null,
   "id": "ae61241d",
   "metadata": {},
   "outputs": [],
   "source": [
    "# Prime Numbers\n",
    "kalan = []\n",
    "number = int(input(\"Enter a number: \"))\n",
    "for i in range(1,number):\n",
    "    kalan.append(number % i)\n",
    "if number == 2:\n",
    "    print(f\"({number}) is a prime number.\")\n",
    "elif 0 in kalan[1:]:\n",
    "    print(f\"({number}) is not a prime number.\")\n",
    "else:\n",
    "    print(f\"({number}) is a prime number.\")"
   ]
  },
  {
   "cell_type": "code",
   "execution_count": null,
   "id": "8bd658cc",
   "metadata": {},
   "outputs": [],
   "source": [
    "num=int(input('Enter a number to be checked in terms of prime number: '))\n",
    "i=2\n",
    "while num>2 and i<int(num/2):\n",
    "  if num%i==0 and i!=num:\n",
    "    print(f'{num} is not a prime number')\n",
    "    break\n",
    "  else:\n",
    "    i+=1\n",
    "else:\n",
    "  print(f'{num} is a prime number')"
   ]
  },
  {
   "cell_type": "code",
   "execution_count": 2,
   "id": "dc604aab",
   "metadata": {},
   "outputs": [
    {
     "name": "stdout",
     "output_type": "stream",
     "text": [
      "The filtered elements are : \n",
      "Susan\n",
      "Tom\n",
      "False\n",
      "0\n"
     ]
    }
   ],
   "source": [
    "listA = [\"Susan\", \"Tom\", \"False\", 0, \"0\"]\n",
    "filtered_list = filter(None, listA)   #filter(function, iterable) burada fonksiyon iterable tüm elemanlarına tek tek uygulanıyor.\n",
    "                                      # true veya false döndürüyor. true lar geçiyor. false ları tutuyor. \n",
    "                                      # eğer fonksiyon kullanmayacaksak ikinci kullanımı olan None kullanıyoruz. \n",
    "                                      # Bu truty geçiriyor falsi leri tutuyor.\n",
    "print(\"The filtered elements are : \")\n",
    "for i in filtered_list :\n",
    "    print(i)"
   ]
  },
  {
   "cell_type": "code",
   "execution_count": null,
   "id": "ca961e82",
   "metadata": {},
   "outputs": [],
   "source": [
    "#enumerate(iterable, start = 0) taken 2 parameters: 1. iterable= a sequence, an iterator, or objects thast supports iteration\n",
    "                                                #   2. start(optional) = enumerate() starts counting from this number \n",
    "                                                # if start is omitted 0 is taken as start.\n",
    "        # burada start için bir değer atanmaz ise default olarak 0 dan başlar. bize tuple tuple bir index nu veriyor.\n",
    "        # tuple içerisinde aşağıdaki çıktıda olduğu gibi default 0 vey 10 dan başlayarak çıktı verir."
   ]
  },
  {
   "cell_type": "code",
   "execution_count": 3,
   "id": "8da55b5d",
   "metadata": {},
   "outputs": [
    {
     "name": "stdout",
     "output_type": "stream",
     "text": [
      "<class 'enumerate'>\n",
      "[(0, 'bread'), (1, 'water'), (2, 'olive')]\n",
      "[(10, 'bread'), (11, 'water'), (12, 'olive')]\n"
     ]
    }
   ],
   "source": [
    "grocery = [\"bread\", \"water\", \"olive\"]\n",
    "enum_grocery = enumerate(grocery)\n",
    "\n",
    "print(type(enum_grocery))\n",
    "print(list(enum_grocery))\n",
    "enum_grocery = enumerate(grocery,10)\n",
    "print(list(enum_grocery))"
   ]
  },
  {
   "cell_type": "code",
   "execution_count": null,
   "id": "8f629cc6",
   "metadata": {},
   "outputs": [],
   "source": [
    "# max(iterable), min(iterable)"
   ]
  },
  {
   "cell_type": "code",
   "execution_count": 4,
   "id": "7d82b187",
   "metadata": {},
   "outputs": [
    {
     "name": "stdout",
     "output_type": "stream",
     "text": [
      "The largest number is : 16\n",
      "The smallest number is : -222\n"
     ]
    }
   ],
   "source": [
    "number = [-222, 0, 16, 5, 10, 6]\n",
    "largest_number = max(number)\n",
    "smallest_number = min(number)\n",
    "\n",
    "print(\"The largest number is :\", largest_number)\n",
    "print(\"The smallest number is :\", smallest_number)\n"
   ]
  },
  {
   "cell_type": "code",
   "execution_count": null,
   "id": "c0b68d38",
   "metadata": {},
   "outputs": [],
   "source": [
    "# sum(iterable, start)sum() parameters*iterable(list,tuple,dict,etc.)The items of the iterable should be numbers.\n",
    "#                                     *start(optional) this value is added to the sum of items of the iterable.\n",
    "#                                      The default value of start is 0(if omitted)\n",
    "# sum() bunların tamamı parameters, içine yazılan numbersler ise argument olarak ifade edilir."
   ]
  },
  {
   "cell_type": "code",
   "execution_count": 5,
   "id": "53df1cad",
   "metadata": {},
   "outputs": [
    {
     "name": "stdout",
     "output_type": "stream",
     "text": [
      "21.5\n",
      "41.5\n"
     ]
    }
   ],
   "source": [
    "numbers = [2.5, 30, 4, -15]\n",
    "numbers_sum = sum(numbers)\n",
    "print(numbers_sum)\n",
    "numbers_sum = sum(numbers, 20)\n",
    "print(numbers_sum)"
   ]
  },
  {
   "cell_type": "code",
   "execution_count": null,
   "id": "31045d8c",
   "metadata": {},
   "outputs": [],
   "source": [
    "#round(numbers, ndigits) round()Parameters *number the number to be rounded.\n",
    "#                                          * ndigits(optional) number up to which the given number is rounded; defaults to 0"
   ]
  },
  {
   "cell_type": "code",
   "execution_count": 6,
   "id": "f9b35ea7",
   "metadata": {},
   "outputs": [
    {
     "name": "stdout",
     "output_type": "stream",
     "text": [
      "12\n",
      "11\n",
      "3.67\n",
      "3.67\n"
     ]
    }
   ],
   "source": [
    "print(round(12))\n",
    "print(round(10.8))\n",
    "print(round(3.665,2))\n",
    "print(round(3.675,2))"
   ]
  },
  {
   "cell_type": "code",
   "execution_count": null,
   "id": "876a1341",
   "metadata": {},
   "outputs": [],
   "source": [
    "#def function name (parameter(s)) :   fonksiyonları tanımlamak için kullanıyoruz.\n",
    "#def function name (argument(s)) :"
   ]
  },
  {
   "cell_type": "code",
   "execution_count": 8,
   "id": "997e2c1c",
   "metadata": {},
   "outputs": [],
   "source": [
    "def first_function(argument_1, argument_2) :  #burada func tanımladık. Aşağıda ise çağırıyoruz.\n",
    "    print(argument_1**2 + argument_2**2)"
   ]
  },
  {
   "cell_type": "code",
   "execution_count": 9,
   "id": "6a4e5c44",
   "metadata": {},
   "outputs": [
    {
     "name": "stdout",
     "output_type": "stream",
     "text": [
      "13\n"
     ]
    }
   ],
   "source": [
    "first_function(2,3)"
   ]
  },
  {
   "cell_type": "code",
   "execution_count": 11,
   "id": "487b30a6",
   "metadata": {},
   "outputs": [
    {
     "name": "stdout",
     "output_type": "stream",
     "text": [
      "15\n",
      "-2.5\n",
      "amazing amazing amazing \n"
     ]
    }
   ],
   "source": [
    "def multiply(a, b) :\n",
    "    print(a*b)\n",
    "    \n",
    "multiply(3, 5)\n",
    "multiply(-1, 2.5)\n",
    "multiply(\"amazing \", 3)\n"
   ]
  },
  {
   "cell_type": "code",
   "execution_count": null,
   "id": "f0841a38",
   "metadata": {},
   "outputs": [],
   "source": [
    "motto()                 #Signature: motto()\n",
    "                        #Docstring: <no docstring>\n",
    "                        #File:      c:\\users\\hp\\python workings\\<ipython-input-12-64d98d5a3d96>\n",
    "                        #Type:      function"
   ]
  },
  {
   "cell_type": "code",
   "execution_count": 12,
   "id": "44da258a",
   "metadata": {},
   "outputs": [
    {
     "name": "stdout",
     "output_type": "stream",
     "text": [
      "Don't hesitate to reinvent yourself\n"
     ]
    }
   ],
   "source": [
    "def motto() :                     \n",
    "    print(\"Don't hesitate to reinvent yourself\")    \n",
    "motto()   #it takes no argument     \n",
    "                                        "
   ]
  },
  {
   "cell_type": "code",
   "execution_count": 13,
   "id": "6cf6ed91",
   "metadata": {},
   "outputs": [],
   "source": [
    "def mevlana( ) :\n",
    "    print(\"Gel ne olursan gel!\")"
   ]
  },
  {
   "cell_type": "code",
   "execution_count": 14,
   "id": "5c610432",
   "metadata": {},
   "outputs": [
    {
     "name": "stdout",
     "output_type": "stream",
     "text": [
      "Gel ne olursan gel!\n"
     ]
    }
   ],
   "source": [
    "mevlana()"
   ]
  },
  {
   "cell_type": "code",
   "execution_count": 18,
   "id": "2309c86a",
   "metadata": {},
   "outputs": [],
   "source": [
    "def add(a, b) :\n",
    "    print(a + b)"
   ]
  },
  {
   "cell_type": "code",
   "execution_count": 19,
   "id": "c50dd6f8",
   "metadata": {},
   "outputs": [
    {
     "name": "stdout",
     "output_type": "stream",
     "text": [
      "5\n"
     ]
    }
   ],
   "source": [
    "add(2, 3)"
   ]
  },
  {
   "cell_type": "code",
   "execution_count": 20,
   "id": "3437b6fe",
   "metadata": {},
   "outputs": [
    {
     "name": "stdout",
     "output_type": "stream",
     "text": [
      "wayclarus\n",
      "clarusway\n"
     ]
    }
   ],
   "source": [
    "def who(first,last) :\n",
    "    print(first + last)\n",
    "who(last=\"clarus\", first=\"way\")   # burada keyword arg olduğundan sıra önemli değil.\n",
    "who(\"clarus\",\"way\")               # burada positional arg söz konusu olduğundan sıra önemli."
   ]
  },
  {
   "cell_type": "code",
   "execution_count": 21,
   "id": "6d84c6e0",
   "metadata": {},
   "outputs": [
    {
     "name": "stdout",
     "output_type": "stream",
     "text": [
      "12\n"
     ]
    }
   ],
   "source": [
    "def my_func(first=\"1\", second=\"2\") :\n",
    "    print(int(first + second))\n",
    "my_func()"
   ]
  },
  {
   "cell_type": "code",
   "execution_count": 22,
   "id": "d265c31c",
   "metadata": {},
   "outputs": [
    {
     "name": "stdout",
     "output_type": "stream",
     "text": [
      "5\n"
     ]
    }
   ],
   "source": [
    "def my_func(first=\"1\", second=\"2\") :\n",
    "    print(int(first+second))\n",
    "my_func(2,3)   #arg boş olsa içine atama yapmamış olsam sonuç 12 olur ancak içine \n",
    "               #integer iki tane arg atadığımdan dolayı func içinde 2+3=5 olur ve sonuçta 5 verir."
   ]
  },
  {
   "cell_type": "code",
   "execution_count": 23,
   "id": "6475a78c",
   "metadata": {},
   "outputs": [
    {
     "name": "stdout",
     "output_type": "stream",
     "text": [
      "5\n"
     ]
    }
   ],
   "source": [
    "def my_func(first=\"1\", second=\"2\") :\n",
    "    print(int(first+second))\n",
    "my_func(second=2,first=3)"
   ]
  },
  {
   "cell_type": "code",
   "execution_count": 24,
   "id": "5ac4a5b6",
   "metadata": {},
   "outputs": [
    {
     "name": "stdout",
     "output_type": "stream",
     "text": [
      "2\n"
     ]
    }
   ],
   "source": [
    "def add(a, b) :\n",
    "    print(a+b)\n",
    "add(-3,5)"
   ]
  },
  {
   "cell_type": "code",
   "execution_count": 26,
   "id": "6103a693",
   "metadata": {},
   "outputs": [],
   "source": [
    "def calculator(x,y,opr) :\n",
    "    if opr==\"+\":\n",
    "        print(x+y)\n",
    "    elif opr==\"-\":\n",
    "        print(x-y)\n",
    "    elif opr==\"*\" :\n",
    "        print(x*y)\n",
    "    elif opr==\"/\" :\n",
    "        print(x/y)\n",
    "    else :\n",
    "        print(\"Enter a valid opr:\")"
   ]
  },
  {
   "cell_type": "code",
   "execution_count": 27,
   "id": "5acdee59",
   "metadata": {},
   "outputs": [
    {
     "name": "stdout",
     "output_type": "stream",
     "text": [
      "3\n"
     ]
    }
   ],
   "source": [
    "calculator(5,2,\"-\")"
   ]
  },
  {
   "cell_type": "code",
   "execution_count": 28,
   "id": "58278f3f",
   "metadata": {},
   "outputs": [
    {
     "name": "stdout",
     "output_type": "stream",
     "text": [
      "50\n"
     ]
    }
   ],
   "source": [
    "def multiply_2(a,b):\n",
    "    return(a*b)  #returns any numeric///data type value\n",
    "print(multiply_2(10,5))       #func içindeki değer integer bir değer ve bunun çıktısını almak için print ile çağırıyorum."
   ]
  },
  {
   "cell_type": "code",
   "execution_count": 32,
   "id": "33cec9e8",
   "metadata": {},
   "outputs": [
    {
     "name": "stdout",
     "output_type": "stream",
     "text": [
      "50\n",
      "<class 'NoneType'>\n",
      "<class 'int'>\n"
     ]
    }
   ],
   "source": [
    "print(type(multiply(10,5)))\n",
    "print(type(multiply_2(10,5)))"
   ]
  },
  {
   "cell_type": "code",
   "execution_count": 33,
   "id": "8c78e84f",
   "metadata": {},
   "outputs": [
    {
     "name": "stdout",
     "output_type": "stream",
     "text": [
      "\n"
     ]
    },
    {
     "data": {
      "text/plain": [
       "NoneType"
      ]
     },
     "execution_count": 33,
     "metadata": {},
     "output_type": "execute_result"
    }
   ],
   "source": [
    "type(print())   #print() ekrana yazdırma işlemini yapıyor ve bunun tipi olmaz. Ekrana yazılanın tipi olur."
   ]
  },
  {
   "cell_type": "code",
   "execution_count": 38,
   "id": "99ee72b0",
   "metadata": {},
   "outputs": [],
   "source": [
    "def calculator2(x,y,opr) :\n",
    "    if opr==\"+\":\n",
    "        return(x+y)\n",
    "    elif opr==\"-\":\n",
    "        return(x-y)\n",
    "    elif opr==\"*\" :\n",
    "        return(x*y)\n",
    "    elif opr==\"/\" :\n",
    "        return(x/y)\n",
    "    else :\n",
    "        return(\"Enter a valid opr:\")"
   ]
  },
  {
   "cell_type": "code",
   "execution_count": 40,
   "id": "1fe2b294",
   "metadata": {},
   "outputs": [
    {
     "name": "stdout",
     "output_type": "stream",
     "text": [
      "11\n"
     ]
    }
   ],
   "source": [
    "print(calculator2(9,2,\"+\"))"
   ]
  },
  {
   "cell_type": "code",
   "execution_count": 1,
   "id": "0116c908",
   "metadata": {},
   "outputs": [],
   "source": [
    "def absolute_value(num):    \n",
    "    \"\"\"This function gives absolute value\n",
    "of the entered number.\"\"\"\n",
    "    \n",
    "    if num>=0:\n",
    "        return num\n",
    "    else :\n",
    "        return -num"
   ]
  },
  {
   "cell_type": "code",
   "execution_count": 2,
   "id": "d7919782",
   "metadata": {},
   "outputs": [
    {
     "name": "stdout",
     "output_type": "stream",
     "text": [
      "22\n"
     ]
    }
   ],
   "source": [
    "print(absolute_value(-22))"
   ]
  },
  {
   "cell_type": "code",
   "execution_count": 4,
   "id": "62c529d0",
   "metadata": {},
   "outputs": [
    {
     "name": "stdout",
     "output_type": "stream",
     "text": [
      "This function gives absolute value\n",
      "of the entered number.\n"
     ]
    }
   ],
   "source": [
    "print(absolute_value.__doc__)   #func ismini yazıyoruz sonra iki tane alt tire doc iki tane alt tire yazıyoruz."
   ]
  },
  {
   "cell_type": "code",
   "execution_count": 5,
   "id": "976a36a1",
   "metadata": {},
   "outputs": [
    {
     "name": "stdout",
     "output_type": "stream",
     "text": [
      "print(value, ..., sep=' ', end='\\n', file=sys.stdout, flush=False)\n",
      "\n",
      "Prints the values to a stream, or to sys.stdout by default.\n",
      "Optional keyword arguments:\n",
      "file:  a file-like object (stream); defaults to the current sys.stdout.\n",
      "sep:   string inserted between values, default a space.\n",
      "end:   string appended after the last value, default a newline.\n",
      "flush: whether to forcibly flush the stream.\n"
     ]
    }
   ],
   "source": [
    "print(print.__doc__)"
   ]
  },
  {
   "cell_type": "markdown",
   "id": "e5ac11b4",
   "metadata": {},
   "source": [
    "```python\n",
    "    def print(parameters) :          \n",
    "    body\n",
    "```\n",
    "#markdown ile yapabildiğimiz gibi aynı zamanda alt + ; ilede tipsiz tırnak yapıyoruz 3 er                                        tane açılış ve kapanışta"
   ]
  },
  {
   "cell_type": "code",
   "execution_count": 6,
   "id": "8f9346ff",
   "metadata": {},
   "outputs": [
    {
     "name": "stdout",
     "output_type": "stream",
     "text": [
      "Return the absolute value of the argument.\n"
     ]
    }
   ],
   "source": [
    "print(abs.__doc__)"
   ]
  },
  {
   "cell_type": "code",
   "execution_count": 7,
   "id": "0e877f18",
   "metadata": {},
   "outputs": [],
   "source": [
    "#def ile tanımladığımız func başkaları tarafından da çağrılıp kullanılabiliyor."
   ]
  },
  {
   "cell_type": "code",
   "execution_count": null,
   "id": "a59a3874",
   "metadata": {},
   "outputs": [],
   "source": []
  }
 ],
 "metadata": {
  "kernelspec": {
   "display_name": "Python 3",
   "language": "python",
   "name": "python3"
  },
  "language_info": {
   "codemirror_mode": {
    "name": "ipython",
    "version": 3
   },
   "file_extension": ".py",
   "mimetype": "text/x-python",
   "name": "python",
   "nbconvert_exporter": "python",
   "pygments_lexer": "ipython3",
   "version": "3.8.10"
  }
 },
 "nbformat": 4,
 "nbformat_minor": 5
}
