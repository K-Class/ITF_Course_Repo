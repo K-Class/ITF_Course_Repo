{
 "cells": [
  {
   "cell_type": "code",
   "execution_count": 2,
   "id": "9c8bf696",
   "metadata": {},
   "outputs": [
    {
     "data": {
      "text/plain": [
       "'\\njdohoamikea\\njmeuiaedoma\\nuyeahfjeami\\n'"
      ]
     },
     "execution_count": 2,
     "metadata": {},
     "output_type": "execute_result"
    }
   ],
   "source": [
    "\"\"\"\n",
    "jdohoamikea\n",
    "jmeuiaedoma\n",
    "uyeahfjeami\n",
    "\"\"\"\n"
   ]
  },
  {
   "cell_type": "code",
   "execution_count": 3,
   "id": "f993c647",
   "metadata": {},
   "outputs": [
    {
     "data": {
      "text/plain": [
       "3"
      ]
     },
     "execution_count": 3,
     "metadata": {},
     "output_type": "execute_result"
    }
   ],
   "source": [
    "1+2"
   ]
  },
  {
   "cell_type": "code",
   "execution_count": 4,
   "id": "4c017747",
   "metadata": {},
   "outputs": [
    {
     "data": {
      "text/plain": [
       "-1"
      ]
     },
     "execution_count": 4,
     "metadata": {},
     "output_type": "execute_result"
    }
   ],
   "source": [
    "1-2"
   ]
  },
  {
   "cell_type": "code",
   "execution_count": 5,
   "id": "96f3eb9a",
   "metadata": {},
   "outputs": [
    {
     "data": {
      "text/plain": [
       "12"
      ]
     },
     "execution_count": 5,
     "metadata": {},
     "output_type": "execute_result"
    }
   ],
   "source": [
    "3*4"
   ]
  },
  {
   "cell_type": "code",
   "execution_count": 6,
   "id": "b6398a01",
   "metadata": {},
   "outputs": [
    {
     "data": {
      "text/plain": [
       "2.0"
      ]
     },
     "execution_count": 6,
     "metadata": {},
     "output_type": "execute_result"
    }
   ],
   "source": [
    "6/3"
   ]
  },
  {
   "cell_type": "code",
   "execution_count": 4,
   "id": "302e195f",
   "metadata": {},
   "outputs": [
    {
     "data": {
      "text/plain": [
       "'Hello'"
      ]
     },
     "execution_count": 4,
     "metadata": {},
     "output_type": "execute_result"
    }
   ],
   "source": [
    "a=\"Hello\"\n",
    "a"
   ]
  },
  {
   "cell_type": "code",
   "execution_count": 3,
   "id": "cd7230f0",
   "metadata": {},
   "outputs": [],
   "source": [
    "b = [\"Hello\",\"Francis\"]"
   ]
  },
  {
   "cell_type": "code",
   "execution_count": 5,
   "id": "b261a666",
   "metadata": {},
   "outputs": [
    {
     "data": {
      "text/plain": [
       "'Hello'"
      ]
     },
     "execution_count": 5,
     "metadata": {},
     "output_type": "execute_result"
    }
   ],
   "source": [
    "b[0]"
   ]
  },
  {
   "cell_type": "code",
   "execution_count": 6,
   "id": "ef88d063",
   "metadata": {},
   "outputs": [
    {
     "data": {
      "text/plain": [
       "'Francis'"
      ]
     },
     "execution_count": 6,
     "metadata": {},
     "output_type": "execute_result"
    }
   ],
   "source": [
    "b[1]"
   ]
  },
  {
   "cell_type": "code",
   "execution_count": 7,
   "id": "38728c49",
   "metadata": {},
   "outputs": [
    {
     "name": "stdout",
     "output_type": "stream",
     "text": [
      "['Hello', 'Francis']\n"
     ]
    },
    {
     "data": {
      "text/plain": [
       "['Hello', 'Francis']"
      ]
     },
     "execution_count": 7,
     "metadata": {},
     "output_type": "execute_result"
    }
   ],
   "source": [
    "print(b)\n",
    "b"
   ]
  },
  {
   "cell_type": "code",
   "execution_count": 8,
   "id": "3f410f74",
   "metadata": {},
   "outputs": [
    {
     "data": {
      "text/plain": [
       "['Hello', 'Francis', 1, 2, 3, 4, 5]"
      ]
     },
     "execution_count": 8,
     "metadata": {},
     "output_type": "execute_result"
    }
   ],
   "source": [
    "b + [1,2,3,4,5]"
   ]
  },
  {
   "cell_type": "code",
   "execution_count": 9,
   "id": "29353483",
   "metadata": {},
   "outputs": [
    {
     "data": {
      "text/plain": [
       "'blue'"
      ]
     },
     "execution_count": 9,
     "metadata": {},
     "output_type": "execute_result"
    }
   ],
   "source": [
    "c = {\"favcolor\":\"blue\"}\n",
    "c[\"favcolor\"]"
   ]
  },
  {
   "cell_type": "code",
   "execution_count": 10,
   "id": "840bca32",
   "metadata": {},
   "outputs": [
    {
     "data": {
      "text/plain": [
       "{1, 2, 3, 4, 5, 6}"
      ]
     },
     "execution_count": 10,
     "metadata": {},
     "output_type": "execute_result"
    }
   ],
   "source": [
    "d = {1,2,3,4,4,4,5,5,6,6,6,6,6,}\n",
    "d"
   ]
  },
  {
   "cell_type": "code",
   "execution_count": 11,
   "id": "e077e3d6",
   "metadata": {},
   "outputs": [
    {
     "name": "stdout",
     "output_type": "stream",
     "text": [
      "Of course\n"
     ]
    }
   ],
   "source": [
    "if 1 == 1:\n",
    "    print(\"Of course\")"
   ]
  },
  {
   "cell_type": "code",
   "execution_count": 12,
   "id": "6c43ca6a",
   "metadata": {},
   "outputs": [],
   "source": [
    "if 1 == 2:\n",
    "    print(\"Obviously not\")"
   ]
  },
  {
   "cell_type": "code",
   "execution_count": 13,
   "id": "805a881e",
   "metadata": {},
   "outputs": [
    {
     "data": {
      "text/plain": [
       "True"
      ]
     },
     "execution_count": 13,
     "metadata": {},
     "output_type": "execute_result"
    }
   ],
   "source": [
    "True"
   ]
  },
  {
   "cell_type": "code",
   "execution_count": 14,
   "id": "2db97a7d",
   "metadata": {},
   "outputs": [
    {
     "data": {
      "text/plain": [
       "True"
      ]
     },
     "execution_count": 14,
     "metadata": {},
     "output_type": "execute_result"
    }
   ],
   "source": [
    "True or False"
   ]
  },
  {
   "cell_type": "code",
   "execution_count": 15,
   "id": "af16ef23",
   "metadata": {},
   "outputs": [
    {
     "data": {
      "text/plain": [
       "False"
      ]
     },
     "execution_count": 15,
     "metadata": {},
     "output_type": "execute_result"
    }
   ],
   "source": [
    "True and False"
   ]
  },
  {
   "cell_type": "code",
   "execution_count": 16,
   "id": "d7723bd3",
   "metadata": {},
   "outputs": [
    {
     "data": {
      "text/plain": [
       "True"
      ]
     },
     "execution_count": 16,
     "metadata": {},
     "output_type": "execute_result"
    }
   ],
   "source": [
    "True or True and False"
   ]
  },
  {
   "cell_type": "code",
   "execution_count": 17,
   "id": "4751283d",
   "metadata": {},
   "outputs": [
    {
     "data": {
      "text/plain": [
       "'Hello'"
      ]
     },
     "execution_count": 17,
     "metadata": {},
     "output_type": "execute_result"
    }
   ],
   "source": [
    "a"
   ]
  },
  {
   "cell_type": "code",
   "execution_count": 18,
   "id": "377999b4",
   "metadata": {},
   "outputs": [
    {
     "data": {
      "text/plain": [
       "['Hello', 'Francis']"
      ]
     },
     "execution_count": 18,
     "metadata": {},
     "output_type": "execute_result"
    }
   ],
   "source": [
    "b"
   ]
  },
  {
   "cell_type": "code",
   "execution_count": 19,
   "id": "ec38bf94",
   "metadata": {},
   "outputs": [
    {
     "name": "stdout",
     "output_type": "stream",
     "text": [
      "Hello\n",
      "Francis\n"
     ]
    }
   ],
   "source": [
    "for item in b:\n",
    "    print(item)"
   ]
  },
  {
   "cell_type": "code",
   "execution_count": 20,
   "id": "8c4cd976",
   "metadata": {},
   "outputs": [
    {
     "name": "stdout",
     "output_type": "stream",
     "text": [
      "0\n",
      "1\n",
      "2\n",
      "3\n",
      "4\n",
      "5\n",
      "6\n",
      "7\n",
      "8\n",
      "9\n"
     ]
    }
   ],
   "source": [
    "for i in range(0,10):\n",
    "    print(i)"
   ]
  },
  {
   "cell_type": "code",
   "execution_count": 21,
   "id": "d5658e5a",
   "metadata": {},
   "outputs": [
    {
     "name": "stdout",
     "output_type": "stream",
     "text": [
      "10\n",
      "9\n",
      "8\n",
      "7\n",
      "6\n",
      "5\n",
      "4\n",
      "3\n",
      "2\n",
      "1\n"
     ]
    }
   ],
   "source": [
    "x = 10\n",
    "while x>0 :\n",
    "    print(x)\n",
    "    x -= 1"
   ]
  },
  {
   "cell_type": "code",
   "execution_count": 22,
   "id": "f4b1ee9d",
   "metadata": {},
   "outputs": [
    {
     "ename": "IndexError",
     "evalue": "list index out of range",
     "output_type": "error",
     "traceback": [
      "\u001b[1;31m---------------------------------------------------------------------------\u001b[0m",
      "\u001b[1;31mIndexError\u001b[0m                                Traceback (most recent call last)",
      "\u001b[1;32m<ipython-input-22-973c42954ce6>\u001b[0m in \u001b[0;36m<module>\u001b[1;34m\u001b[0m\n\u001b[1;32m----> 1\u001b[1;33m \u001b[0mb\u001b[0m\u001b[1;33m[\u001b[0m\u001b[1;36m2\u001b[0m\u001b[1;33m]\u001b[0m\u001b[1;33m\u001b[0m\u001b[1;33m\u001b[0m\u001b[0m\n\u001b[0m",
      "\u001b[1;31mIndexError\u001b[0m: list index out of range"
     ]
    }
   ],
   "source": [
    "b[2]"
   ]
  },
  {
   "cell_type": "code",
   "execution_count": 23,
   "id": "db255577",
   "metadata": {},
   "outputs": [
    {
     "name": "stdout",
     "output_type": "stream",
     "text": [
      "Item not in list\n"
     ]
    }
   ],
   "source": [
    "try :\n",
    "    print(b[2])\n",
    "    \n",
    "except IndexError:\n",
    "    print(\"Item not in list\")"
   ]
  },
  {
   "cell_type": "code",
   "execution_count": 24,
   "id": "3373eb0c",
   "metadata": {},
   "outputs": [],
   "source": [
    "def func():\n",
    "    print(\"Hello!\")"
   ]
  },
  {
   "cell_type": "code",
   "execution_count": 25,
   "id": "1d4f1d07",
   "metadata": {},
   "outputs": [
    {
     "name": "stdout",
     "output_type": "stream",
     "text": [
      "Hello!\n"
     ]
    }
   ],
   "source": [
    "func()"
   ]
  },
  {
   "cell_type": "code",
   "execution_count": 35,
   "id": "528f5fbd",
   "metadata": {},
   "outputs": [
    {
     "name": "stdout",
     "output_type": "stream",
     "text": [
      "New Person\n"
     ]
    }
   ],
   "source": [
    "class Person:\n",
    "    def __init__(self):\n",
    "        print(\"New Person\")\n",
    "p = Person()"
   ]
  },
  {
   "cell_type": "code",
   "execution_count": 36,
   "id": "82ec6f8d",
   "metadata": {},
   "outputs": [
    {
     "data": {
      "text/plain": [
       "<__main__.Person at 0x1f742fa3070>"
      ]
     },
     "execution_count": 36,
     "metadata": {},
     "output_type": "execute_result"
    }
   ],
   "source": [
    "p"
   ]
  },
  {
   "cell_type": "code",
   "execution_count": 37,
   "id": "2d31828d",
   "metadata": {},
   "outputs": [
    {
     "ename": "SyntaxError",
     "evalue": "invalid syntax (<ipython-input-37-ca1e844c6efd>, line 2)",
     "output_type": "error",
     "traceback": [
      "\u001b[1;36m  File \u001b[1;32m\"<ipython-input-37-ca1e844c6efd>\"\u001b[1;36m, line \u001b[1;32m2\u001b[0m\n\u001b[1;33m    def__init__(self):\u001b[0m\n\u001b[1;37m                      ^\u001b[0m\n\u001b[1;31mSyntaxError\u001b[0m\u001b[1;31m:\u001b[0m invalid syntax\n"
     ]
    }
   ],
   "source": [
    "class Francis(Person):\n",
    "    def__init__(self):\n",
    "        super().__init__()\n",
    "        print(\"My name is Francis\")"
   ]
  },
  {
   "cell_type": "code",
   "execution_count": 38,
   "id": "843d5c86",
   "metadata": {},
   "outputs": [
    {
     "ename": "NameError",
     "evalue": "name 'Francis' is not defined",
     "output_type": "error",
     "traceback": [
      "\u001b[1;31m---------------------------------------------------------------------------\u001b[0m",
      "\u001b[1;31mNameError\u001b[0m                                 Traceback (most recent call last)",
      "\u001b[1;32m<ipython-input-38-d7cd74b46aae>\u001b[0m in \u001b[0;36m<module>\u001b[1;34m\u001b[0m\n\u001b[1;32m----> 1\u001b[1;33m \u001b[0mf\u001b[0m \u001b[1;33m=\u001b[0m \u001b[0mFrancis\u001b[0m\u001b[1;33m(\u001b[0m\u001b[1;33m)\u001b[0m\u001b[1;33m\u001b[0m\u001b[1;33m\u001b[0m\u001b[0m\n\u001b[0m",
      "\u001b[1;31mNameError\u001b[0m: name 'Francis' is not defined"
     ]
    }
   ],
   "source": [
    "f = Francis()"
   ]
  },
  {
   "cell_type": "code",
   "execution_count": 39,
   "id": "db8f008c",
   "metadata": {},
   "outputs": [],
   "source": [
    "import math"
   ]
  },
  {
   "cell_type": "code",
   "execution_count": 41,
   "id": "e726d1ad",
   "metadata": {},
   "outputs": [
    {
     "name": "stdout",
     "output_type": "stream",
     "text": [
      "3.141592653589793\n"
     ]
    }
   ],
   "source": [
    "print(math.pi)"
   ]
  },
  {
   "cell_type": "code",
   "execution_count": null,
   "id": "4d458375",
   "metadata": {},
   "outputs": [],
   "source": []
  },
  {
   "cell_type": "code",
   "execution_count": 42,
   "id": "3b42d1fb",
   "metadata": {},
   "outputs": [
    {
     "ename": "NameError",
     "evalue": "name 'Hello' is not defined",
     "output_type": "error",
     "traceback": [
      "\u001b[1;31m---------------------------------------------------------------------------\u001b[0m",
      "\u001b[1;31mNameError\u001b[0m                                 Traceback (most recent call last)",
      "\u001b[1;32m<ipython-input-42-85bf5114fa6b>\u001b[0m in \u001b[0;36m<module>\u001b[1;34m\u001b[0m\n\u001b[1;32m----> 1\u001b[1;33m \u001b[0mprint\u001b[0m\u001b[1;33m(\u001b[0m\u001b[0mHello\u001b[0m\u001b[1;33m)\u001b[0m\u001b[1;33m\u001b[0m\u001b[1;33m\u001b[0m\u001b[0m\n\u001b[0m",
      "\u001b[1;31mNameError\u001b[0m: name 'Hello' is not defined"
     ]
    }
   ],
   "source": [
    "print(Hello)"
   ]
  },
  {
   "cell_type": "code",
   "execution_count": 43,
   "id": "3ad05821",
   "metadata": {},
   "outputs": [
    {
     "name": "stdout",
     "output_type": "stream",
     "text": [
      "4.75 Hello\n"
     ]
    }
   ],
   "source": [
    "print(4.75,\"Hello\")"
   ]
  },
  {
   "cell_type": "code",
   "execution_count": 44,
   "id": "b9f55742",
   "metadata": {},
   "outputs": [
    {
     "name": "stdout",
     "output_type": "stream",
     "text": [
      "4\n"
     ]
    }
   ],
   "source": [
    "print(4)"
   ]
  },
  {
   "cell_type": "code",
   "execution_count": 45,
   "id": "9e0ec58a",
   "metadata": {},
   "outputs": [
    {
     "name": "stdout",
     "output_type": "stream",
     "text": [
      "4\n"
     ]
    }
   ],
   "source": [
    "print(\"4\")"
   ]
  },
  {
   "cell_type": "code",
   "execution_count": 50,
   "id": "5cf48b75",
   "metadata": {},
   "outputs": [
    {
     "ename": "NameError",
     "evalue": "name 'dört' is not defined",
     "output_type": "error",
     "traceback": [
      "\u001b[1;31m---------------------------------------------------------------------------\u001b[0m",
      "\u001b[1;31mNameError\u001b[0m                                 Traceback (most recent call last)",
      "\u001b[1;32m<ipython-input-50-5dd9768b7593>\u001b[0m in \u001b[0;36m<module>\u001b[1;34m\u001b[0m\n\u001b[1;32m----> 1\u001b[1;33m \u001b[0mprint\u001b[0m\u001b[1;33m(\u001b[0m\u001b[0mdört\u001b[0m\u001b[1;33m)\u001b[0m\u001b[1;33m\u001b[0m\u001b[1;33m\u001b[0m\u001b[0m\n\u001b[0m",
      "\u001b[1;31mNameError\u001b[0m: name 'dört' is not defined"
     ]
    }
   ],
   "source": [
    "print(dört)"
   ]
  },
  {
   "cell_type": "code",
   "execution_count": 51,
   "id": "4024c28a",
   "metadata": {},
   "outputs": [
    {
     "name": "stdout",
     "output_type": "stream",
     "text": [
      "Tanımlanmış bir değer giriniz.\n"
     ]
    }
   ],
   "source": [
    "\n",
    "try : print(dört)\n",
    "\n",
    "except NameError :\n",
    "    print(\"Tanımlanmış bir değer giriniz.\")"
   ]
  },
  {
   "cell_type": "code",
   "execution_count": 53,
   "id": "8c1cd355",
   "metadata": {},
   "outputs": [
    {
     "name": "stdout",
     "output_type": "stream",
     "text": [
      "Hello end 87 False\n",
      "Hello\n"
     ]
    }
   ],
   "source": [
    "print(\"Hello\", 'end', 87, False, end='\\n')\n",
    "print(\"Hello\")"
   ]
  },
  {
   "cell_type": "code",
   "execution_count": 56,
   "id": "d207583c",
   "metadata": {},
   "outputs": [
    {
     "name": "stdout",
     "output_type": "stream",
     "text": [
      "Hello end 87 False|Hello\n"
     ]
    }
   ],
   "source": [
    "print(\"Hello\", 'end', 87, False, end='|')\n",
    "print(\"Hello\")"
   ]
  },
  {
   "cell_type": "code",
   "execution_count": 58,
   "id": "a1c0e4a1",
   "metadata": {},
   "outputs": [
    {
     "name": "stdout",
     "output_type": "stream",
     "text": [
      "no Tim\n"
     ]
    }
   ],
   "source": [
    "hello = \"Tim\"\n",
    "world = \"World\"\n",
    "world = hello\n",
    "hello = \"no\"\n",
    "\n",
    "print(hello, world)"
   ]
  },
  {
   "cell_type": "code",
   "execution_count": null,
   "id": "21c38798",
   "metadata": {},
   "outputs": [],
   "source": [
    "hello_world\n",
    "helloWorld\n",
    "hello_world32"
   ]
  },
  {
   "cell_type": "code",
   "execution_count": 1,
   "id": "4f39b1cc",
   "metadata": {},
   "outputs": [
    {
     "name": "stdout",
     "output_type": "stream",
     "text": [
      "Name: Ahmet\n",
      "Age: 35\n",
      "Hello Ahmet you are 35 years old\n"
     ]
    }
   ],
   "source": [
    "name = input(\"Name: \")\n",
    "age = input(\"Age: \")\n",
    "print(\"Hello\", name, \"you are\", age, \"years old\")"
   ]
  },
  {
   "cell_type": "code",
   "execution_count": 2,
   "id": "8057ddf1",
   "metadata": {},
   "outputs": [
    {
     "name": "stdout",
     "output_type": "stream",
     "text": [
      "12\n"
     ]
    }
   ],
   "source": [
    "x = 9\n",
    "y = 3\n",
    "result = x + y\n",
    "print(result)\n"
   ]
  },
  {
   "cell_type": "code",
   "execution_count": 3,
   "id": "4187a545",
   "metadata": {},
   "outputs": [
    {
     "data": {
      "text/plain": [
       "'hellohellohellohellohellohellohellohellohello'"
      ]
     },
     "execution_count": 3,
     "metadata": {},
     "output_type": "execute_result"
    }
   ],
   "source": [
    "\"hello\"*9"
   ]
  },
  {
   "cell_type": "code",
   "execution_count": 5,
   "id": "df4bf606",
   "metadata": {},
   "outputs": [
    {
     "data": {
      "text/plain": [
       "'444444444'"
      ]
     },
     "execution_count": 5,
     "metadata": {},
     "output_type": "execute_result"
    }
   ],
   "source": [
    "\"4\"*9"
   ]
  },
  {
   "cell_type": "code",
   "execution_count": 11,
   "id": "90129898",
   "metadata": {},
   "outputs": [
    {
     "name": "stdout",
     "output_type": "stream",
     "text": [
      "27\n"
     ]
    }
   ],
   "source": [
    "x = 9\n",
    "y = 3\n",
    "result = x * y\n",
    "print(result)"
   ]
  },
  {
   "cell_type": "code",
   "execution_count": 12,
   "id": "eaa25772",
   "metadata": {},
   "outputs": [
    {
     "name": "stdout",
     "output_type": "stream",
     "text": [
      "6\n"
     ]
    }
   ],
   "source": [
    "x = 9\n",
    "y = 3\n",
    "result = x - y\n",
    "print(result)"
   ]
  },
  {
   "cell_type": "code",
   "execution_count": 6,
   "id": "2ab87c7a",
   "metadata": {},
   "outputs": [
    {
     "name": "stdout",
     "output_type": "stream",
     "text": [
      "3.0\n"
     ]
    }
   ],
   "source": [
    "x = 9\n",
    "y = 3\n",
    "result = x / y\n",
    "print(result)"
   ]
  },
  {
   "cell_type": "code",
   "execution_count": 7,
   "id": "188f8f13",
   "metadata": {},
   "outputs": [
    {
     "name": "stdout",
     "output_type": "stream",
     "text": [
      "3\n"
     ]
    }
   ],
   "source": [
    "x = 9\n",
    "y = 3\n",
    "result = int(x / y)\n",
    "print(result)"
   ]
  },
  {
   "cell_type": "code",
   "execution_count": 9,
   "id": "6ee1660e",
   "metadata": {},
   "outputs": [
    {
     "name": "stdout",
     "output_type": "stream",
     "text": [
      "3\n"
     ]
    }
   ],
   "source": [
    "x = 10\n",
    "y = 3\n",
    "result = x // y\n",
    "print(result)"
   ]
  },
  {
   "cell_type": "code",
   "execution_count": 10,
   "id": "fbc75b62",
   "metadata": {},
   "outputs": [
    {
     "name": "stdout",
     "output_type": "stream",
     "text": [
      "1\n"
     ]
    }
   ],
   "source": [
    "x = 10                  \n",
    "y = 3\n",
    "result = x % y\n",
    "print(result)"
   ]
  },
  {
   "cell_type": "code",
   "execution_count": null,
   "id": "dab57284",
   "metadata": {},
   "outputs": [],
   "source": [
    "|# B E D M A S "
   ]
  },
  {
   "cell_type": "code",
   "execution_count": 13,
   "id": "10379400",
   "metadata": {},
   "outputs": [
    {
     "name": "stdout",
     "output_type": "stream",
     "text": [
      "2\n"
     ]
    }
   ],
   "source": [
    "x = 10                  \n",
    "y = 3\n",
    "result = (x % y)*2\n",
    "print(result)"
   ]
  },
  {
   "cell_type": "code",
   "execution_count": 14,
   "id": "0e13da93",
   "metadata": {},
   "outputs": [
    {
     "name": "stdout",
     "output_type": "stream",
     "text": [
      "Number: 10\n"
     ]
    },
    {
     "ename": "TypeError",
     "evalue": "unsupported operand type(s) for -: 'str' and 'int'",
     "output_type": "error",
     "traceback": [
      "\u001b[1;31m---------------------------------------------------------------------------\u001b[0m",
      "\u001b[1;31mTypeError\u001b[0m                                 Traceback (most recent call last)",
      "\u001b[1;32m<ipython-input-14-92b077e3798c>\u001b[0m in \u001b[0;36m<module>\u001b[1;34m\u001b[0m\n\u001b[0;32m      1\u001b[0m \u001b[0mnum\u001b[0m \u001b[1;33m=\u001b[0m \u001b[0minput\u001b[0m\u001b[1;33m(\u001b[0m\u001b[1;34m\"Number: \"\u001b[0m\u001b[1;33m)\u001b[0m\u001b[1;33m\u001b[0m\u001b[1;33m\u001b[0m\u001b[0m\n\u001b[1;32m----> 2\u001b[1;33m \u001b[0mprint\u001b[0m\u001b[1;33m(\u001b[0m\u001b[0mnum\u001b[0m\u001b[1;33m-\u001b[0m\u001b[1;36m5\u001b[0m\u001b[1;33m)\u001b[0m\u001b[1;33m\u001b[0m\u001b[1;33m\u001b[0m\u001b[0m\n\u001b[0m",
      "\u001b[1;31mTypeError\u001b[0m: unsupported operand type(s) for -: 'str' and 'int'"
     ]
    }
   ],
   "source": [
    "num = input(\"Number: \")\n",
    "print(num-5)"
   ]
  },
  {
   "cell_type": "code",
   "execution_count": 15,
   "id": "2a63879e",
   "metadata": {},
   "outputs": [
    {
     "name": "stdout",
     "output_type": "stream",
     "text": [
      "Number: 10\n",
      "5\n"
     ]
    }
   ],
   "source": [
    "num = input(\"Number: \")\n",
    "print(int(num)-5)"
   ]
  },
  {
   "cell_type": "code",
   "execution_count": 17,
   "id": "62e811b2",
   "metadata": {},
   "outputs": [
    {
     "name": "stdout",
     "output_type": "stream",
     "text": [
      "Number: 10\n",
      "Numerik değeri integere çeviriniz.\n"
     ]
    }
   ],
   "source": [
    "num = input(\"Number: \")\n",
    "\n",
    "try :\n",
    "    print(num-5)\n",
    "    \n",
    "except TypeError:\n",
    "    print(\"Numerik değeri string dışında bir değere çeviriniz.\")\n",
    "    \n"
   ]
  },
  {
   "cell_type": "code",
   "execution_count": 18,
   "id": "680732cc",
   "metadata": {},
   "outputs": [
    {
     "name": "stdout",
     "output_type": "stream",
     "text": [
      "Number: 10\n",
      "5.0\n"
     ]
    }
   ],
   "source": [
    "num = input(\"Number: \")\n",
    "print(float(num)-5)"
   ]
  },
  {
   "cell_type": "code",
   "execution_count": 19,
   "id": "8140454c",
   "metadata": {},
   "outputs": [
    {
     "name": "stdout",
     "output_type": "stream",
     "text": [
      "<class 'str'>\n"
     ]
    }
   ],
   "source": [
    "hello = \"hello\"\n",
    "print(type(hello))"
   ]
  },
  {
   "cell_type": "code",
   "execution_count": 22,
   "id": "78b46065",
   "metadata": {},
   "outputs": [
    {
     "name": "stdout",
     "output_type": "stream",
     "text": [
      "HELLO\n"
     ]
    }
   ],
   "source": [
    "hello = \"hello\".upper()\n",
    "print(hello)"
   ]
  },
  {
   "cell_type": "code",
   "execution_count": 23,
   "id": "1f111bb1",
   "metadata": {},
   "outputs": [
    {
     "name": "stdout",
     "output_type": "stream",
     "text": [
      "HELLO\n"
     ]
    }
   ],
   "source": [
    "hello = \"hello\"\n",
    "print(hello.upper())"
   ]
  },
  {
   "cell_type": "code",
   "execution_count": 24,
   "id": "f2ee32d3",
   "metadata": {},
   "outputs": [
    {
     "name": "stdout",
     "output_type": "stream",
     "text": [
      "hello\n"
     ]
    }
   ],
   "source": [
    "hello = \"helLO\"\n",
    "print(hello.lower())"
   ]
  },
  {
   "cell_type": "code",
   "execution_count": 25,
   "id": "56e7f6f5",
   "metadata": {},
   "outputs": [
    {
     "name": "stdout",
     "output_type": "stream",
     "text": [
      "Hello\n"
     ]
    }
   ],
   "source": [
    "hello = \"helLO\"\n",
    "print(hello.capitalize())"
   ]
  },
  {
   "cell_type": "code",
   "execution_count": 27,
   "id": "a0be4812",
   "metadata": {},
   "outputs": [
    {
     "name": "stdout",
     "output_type": "stream",
     "text": [
      "0\n"
     ]
    }
   ],
   "source": [
    "hello = \"helLO\"\n",
    "print(hello.count(\"ll\"))"
   ]
  },
  {
   "cell_type": "code",
   "execution_count": 28,
   "id": "dbf3eb2b",
   "metadata": {},
   "outputs": [
    {
     "name": "stdout",
     "output_type": "stream",
     "text": [
      "1\n"
     ]
    }
   ],
   "source": [
    "hello = \"helLO\"\n",
    "print(hello.count(\"lL\"))"
   ]
  },
  {
   "cell_type": "code",
   "execution_count": 30,
   "id": "eac1f817",
   "metadata": {},
   "outputs": [
    {
     "name": "stdout",
     "output_type": "stream",
     "text": [
      "1\n"
     ]
    }
   ],
   "source": [
    "hello = \"helLO\"\n",
    "print(hello.lower().count(\"ll\"))"
   ]
  },
  {
   "cell_type": "code",
   "execution_count": 31,
   "id": "7078283a",
   "metadata": {},
   "outputs": [
    {
     "name": "stdout",
     "output_type": "stream",
     "text": [
      "hellohellohello\n"
     ]
    }
   ],
   "source": [
    "x = \"hello\"\n",
    "y = 3\n",
    "\n",
    "print(x*y)"
   ]
  },
  {
   "cell_type": "code",
   "execution_count": 32,
   "id": "338c988e",
   "metadata": {},
   "outputs": [
    {
     "ename": "TypeError",
     "evalue": "can only concatenate str (not \"int\") to str",
     "output_type": "error",
     "traceback": [
      "\u001b[1;31m---------------------------------------------------------------------------\u001b[0m",
      "\u001b[1;31mTypeError\u001b[0m                                 Traceback (most recent call last)",
      "\u001b[1;32m<ipython-input-32-3b072fbe2f03>\u001b[0m in \u001b[0;36m<module>\u001b[1;34m\u001b[0m\n\u001b[0;32m      2\u001b[0m \u001b[0my\u001b[0m \u001b[1;33m=\u001b[0m \u001b[1;36m3\u001b[0m\u001b[1;33m\u001b[0m\u001b[1;33m\u001b[0m\u001b[0m\n\u001b[0;32m      3\u001b[0m \u001b[1;33m\u001b[0m\u001b[0m\n\u001b[1;32m----> 4\u001b[1;33m \u001b[0mprint\u001b[0m\u001b[1;33m(\u001b[0m\u001b[0mx\u001b[0m \u001b[1;33m+\u001b[0m \u001b[0my\u001b[0m\u001b[1;33m)\u001b[0m\u001b[1;33m\u001b[0m\u001b[1;33m\u001b[0m\u001b[0m\n\u001b[0m",
      "\u001b[1;31mTypeError\u001b[0m: can only concatenate str (not \"int\") to str"
     ]
    }
   ],
   "source": [
    "x = \"hello\"\n",
    "y = 3\n",
    "\n",
    "print(x + y)"
   ]
  },
  {
   "cell_type": "code",
   "execution_count": 33,
   "id": "120c0656",
   "metadata": {},
   "outputs": [
    {
     "name": "stdout",
     "output_type": "stream",
     "text": [
      "8\n"
     ]
    }
   ],
   "source": [
    "x = 5\n",
    "y = 3\n",
    "\n",
    "print(x + y)"
   ]
  },
  {
   "cell_type": "code",
   "execution_count": 36,
   "id": "0358585a",
   "metadata": {},
   "outputs": [
    {
     "name": "stdout",
     "output_type": "stream",
     "text": [
      "hello man\n"
     ]
    }
   ],
   "source": [
    "x = \"hello\"\n",
    "y = \" man\"\n",
    "\n",
    "print(x + y)"
   ]
  },
  {
   "cell_type": "code",
   "execution_count": null,
   "id": "3931a330",
   "metadata": {},
   "outputs": [],
   "source": [
    "==\n",
    "!=\n",
    "<=\n",
    ">=\n",
    "<\n",
    ">"
   ]
  },
  {
   "cell_type": "code",
   "execution_count": 38,
   "id": "f29c5de6",
   "metadata": {},
   "outputs": [
    {
     "name": "stdout",
     "output_type": "stream",
     "text": [
      "True\n"
     ]
    }
   ],
   "source": [
    "x = \"hello\"\n",
    "y = \"hello\"\n",
    "\n",
    "print(x == y)"
   ]
  },
  {
   "cell_type": "code",
   "execution_count": 39,
   "id": "27080c48",
   "metadata": {},
   "outputs": [
    {
     "name": "stdout",
     "output_type": "stream",
     "text": [
      "False\n"
     ]
    }
   ],
   "source": [
    "x = \"hello\"\n",
    "y = \"hello\"\n",
    "\n",
    "print(x != y)"
   ]
  },
  {
   "cell_type": "code",
   "execution_count": 40,
   "id": "c9baae17",
   "metadata": {},
   "outputs": [
    {
     "name": "stdout",
     "output_type": "stream",
     "text": [
      "True\n"
     ]
    }
   ],
   "source": [
    "\n",
    "print(\"a\" > \"Z\")"
   ]
  },
  {
   "cell_type": "code",
   "execution_count": 41,
   "id": "e0147f47",
   "metadata": {},
   "outputs": [
    {
     "name": "stdout",
     "output_type": "stream",
     "text": [
      "97\n"
     ]
    }
   ],
   "source": [
    "print(ord(\"a\"))"
   ]
  },
  {
   "cell_type": "code",
   "execution_count": 42,
   "id": "cfa33bbd",
   "metadata": {},
   "outputs": [
    {
     "name": "stdout",
     "output_type": "stream",
     "text": [
      "90\n"
     ]
    }
   ],
   "source": [
    "print(ord(\"Z\"))"
   ]
  },
  {
   "cell_type": "code",
   "execution_count": 43,
   "id": "b24f8834",
   "metadata": {},
   "outputs": [
    {
     "name": "stdout",
     "output_type": "stream",
     "text": [
      "False\n"
     ]
    }
   ],
   "source": [
    "\n",
    "print(\"ab\" > \"ad\")"
   ]
  },
  {
   "cell_type": "code",
   "execution_count": 44,
   "id": "58c55b74",
   "metadata": {},
   "outputs": [
    {
     "name": "stdout",
     "output_type": "stream",
     "text": [
      "True\n"
     ]
    }
   ],
   "source": [
    "print(7.5 > 7)"
   ]
  },
  {
   "cell_type": "code",
   "execution_count": 45,
   "id": "ea48dc5c",
   "metadata": {},
   "outputs": [
    {
     "name": "stdout",
     "output_type": "stream",
     "text": [
      "True\n"
     ]
    }
   ],
   "source": [
    "print(7.0 == 7)"
   ]
  },
  {
   "cell_type": "code",
   "execution_count": 5,
   "id": "1e715ec8",
   "metadata": {},
   "outputs": [],
   "source": [
    "x = 7\n",
    "y = 8\n",
    "z = 0\n",
    "\n",
    "result1 = x == y\n",
    "result2 = y > x\n",
    "result3 = z < x+2"
   ]
  },
  {
   "cell_type": "code",
   "execution_count": null,
   "id": "1c46073a",
   "metadata": {},
   "outputs": [],
   "source": [
    "not\n",
    "and\n",
    "or"
   ]
  },
  {
   "cell_type": "code",
   "execution_count": 7,
   "id": "3ddd7fe8",
   "metadata": {},
   "outputs": [],
   "source": [
    "result4 = result1 or not result2 or result3"
   ]
  },
  {
   "cell_type": "code",
   "execution_count": 8,
   "id": "3525cec7",
   "metadata": {},
   "outputs": [
    {
     "name": "stdout",
     "output_type": "stream",
     "text": [
      "True\n"
     ]
    }
   ],
   "source": [
    "print(result4)"
   ]
  },
  {
   "cell_type": "code",
   "execution_count": 10,
   "id": "20593a38",
   "metadata": {},
   "outputs": [
    {
     "name": "stdout",
     "output_type": "stream",
     "text": [
      "False\n"
     ]
    }
   ],
   "source": [
    "print(not (False or True))"
   ]
  },
  {
   "cell_type": "code",
   "execution_count": 12,
   "id": "38022dbd",
   "metadata": {},
   "outputs": [
    {
     "name": "stdout",
     "output_type": "stream",
     "text": [
      "True\n"
     ]
    }
   ],
   "source": [
    "print(not(False and True or False))"
   ]
  },
  {
   "cell_type": "code",
   "execution_count": 14,
   "id": "204ec584",
   "metadata": {},
   "outputs": [
    {
     "name": "stdout",
     "output_type": "stream",
     "text": [
      "Name: Tim\n",
      "You are great!\n",
      "Always do this\n"
     ]
    }
   ],
   "source": [
    "x = input(\"Name: \")\n",
    "\n",
    "if x == \"Tim\":\n",
    "    print(\"You are great!\")\n",
    "    print( \"Always do this\")"
   ]
  },
  {
   "cell_type": "code",
   "execution_count": 17,
   "id": "7549d071",
   "metadata": {},
   "outputs": [
    {
     "name": "stdout",
     "output_type": "stream",
     "text": [
      "Name: Jane\n",
      "No\n"
     ]
    }
   ],
   "source": [
    "x = input(\"Name: \")\n",
    "\n",
    "if x == \"Tim\":\n",
    "    print(\"You are great!\")\n",
    "    \n",
    "else :\n",
    "    print(\"No\")\n"
   ]
  },
  {
   "cell_type": "code",
   "execution_count": 22,
   "id": "491ba914",
   "metadata": {},
   "outputs": [
    {
     "name": "stdout",
     "output_type": "stream",
     "text": [
      "Name: charlie\n",
      "Enter an another name:\n"
     ]
    }
   ],
   "source": [
    "x = input(\"Name: \")\n",
    "\n",
    "if x == \"Tim\":\n",
    "    print(\"You are great!\")\n",
    "\n",
    "elif x != \"John\":\n",
    "    print(\"Enter an another name:\")\n",
    "else :\n",
    "    print(\"No\")\n"
   ]
  },
  {
   "cell_type": "code",
   "execution_count": 27,
   "id": "8dc4fa9d",
   "metadata": {},
   "outputs": [
    {
     "name": "stdout",
     "output_type": "stream",
     "text": [
      "[4, True, 'hi']\n"
     ]
    }
   ],
   "source": [
    "x = [4, True, \"hi\"]\n",
    "y = \"hi\"\n",
    "print(x)"
   ]
  },
  {
   "cell_type": "code",
   "execution_count": 28,
   "id": "38a09805",
   "metadata": {},
   "outputs": [
    {
     "name": "stdout",
     "output_type": "stream",
     "text": [
      "3 2\n"
     ]
    }
   ],
   "source": [
    "print(len(x),len(y))"
   ]
  },
  {
   "cell_type": "code",
   "execution_count": 29,
   "id": "abfdbfbc",
   "metadata": {},
   "outputs": [
    {
     "name": "stdout",
     "output_type": "stream",
     "text": [
      "[4, True, 'hi', 'hello']\n"
     ]
    }
   ],
   "source": [
    "x = [4, True, \"hi\"]\n",
    "x.append(\"hello\")\n",
    "print(x)"
   ]
  },
  {
   "cell_type": "code",
   "execution_count": 31,
   "id": "32507fd1",
   "metadata": {},
   "outputs": [
    {
     "name": "stdout",
     "output_type": "stream",
     "text": [
      "[4, True, 'hi', 4, 5, 5, 5, 5, 6]\n"
     ]
    }
   ],
   "source": [
    "x = [4, True, \"hi\"]\n",
    "x.extend([4,5,5,5,5,6,])\n",
    "print(x)"
   ]
  },
  {
   "cell_type": "code",
   "execution_count": 32,
   "id": "1650c6bc",
   "metadata": {},
   "outputs": [
    {
     "name": "stdout",
     "output_type": "stream",
     "text": [
      "[4, True, 'hi', 4, 5, 5, 5, 5]\n"
     ]
    }
   ],
   "source": [
    "x.pop()\n",
    "print(x)"
   ]
  },
  {
   "cell_type": "code",
   "execution_count": 33,
   "id": "32ef9d53",
   "metadata": {},
   "outputs": [
    {
     "name": "stdout",
     "output_type": "stream",
     "text": [
      "5\n"
     ]
    }
   ],
   "source": [
    "print(x.pop())"
   ]
  },
  {
   "cell_type": "code",
   "execution_count": 35,
   "id": "760cd1e4",
   "metadata": {},
   "outputs": [
    {
     "name": "stdout",
     "output_type": "stream",
     "text": [
      "hi\n",
      "[4, True]\n"
     ]
    }
   ],
   "source": [
    "x = [4, True, \"hi\"]\n",
    "print(x.pop()) #pop son elemanı alır.\n",
    "print(x)"
   ]
  },
  {
   "cell_type": "code",
   "execution_count": 36,
   "id": "c66f5410",
   "metadata": {},
   "outputs": [
    {
     "ename": "AttributeError",
     "evalue": "'str' object has no attribute 'pop'",
     "output_type": "error",
     "traceback": [
      "\u001b[1;31m---------------------------------------------------------------------------\u001b[0m",
      "\u001b[1;31mAttributeError\u001b[0m                            Traceback (most recent call last)",
      "\u001b[1;32m<ipython-input-36-2f9bcd1237d7>\u001b[0m in \u001b[0;36m<module>\u001b[1;34m\u001b[0m\n\u001b[0;32m      1\u001b[0m \u001b[0mx\u001b[0m \u001b[1;33m=\u001b[0m  \u001b[1;34m\"hi\"\u001b[0m\u001b[1;33m\u001b[0m\u001b[1;33m\u001b[0m\u001b[0m\n\u001b[1;32m----> 2\u001b[1;33m \u001b[0mprint\u001b[0m\u001b[1;33m(\u001b[0m\u001b[0mx\u001b[0m\u001b[1;33m.\u001b[0m\u001b[0mpop\u001b[0m\u001b[1;33m(\u001b[0m\u001b[1;33m)\u001b[0m\u001b[1;33m)\u001b[0m \u001b[1;31m#pop son elemanı alır.\u001b[0m\u001b[1;33m\u001b[0m\u001b[1;33m\u001b[0m\u001b[0m\n\u001b[0m\u001b[0;32m      3\u001b[0m \u001b[0mprint\u001b[0m\u001b[1;33m(\u001b[0m\u001b[0mx\u001b[0m\u001b[1;33m)\u001b[0m\u001b[1;33m\u001b[0m\u001b[1;33m\u001b[0m\u001b[0m\n",
      "\u001b[1;31mAttributeError\u001b[0m: 'str' object has no attribute 'pop'"
     ]
    }
   ],
   "source": [
    "x =  \"hi\"\n",
    "print(x.pop()) #pop son elemanı alır.\n",
    "print(x)"
   ]
  },
  {
   "cell_type": "code",
   "execution_count": 39,
   "id": "a28675c4",
   "metadata": {},
   "outputs": [
    {
     "name": "stdout",
     "output_type": "stream",
     "text": [
      "['hello', True, 'hi'] ['hello', True, 'hi']\n"
     ]
    }
   ],
   "source": [
    "x = [4, True, \"hi\"]\n",
    "y = x    #böyle olunca değişkeni atıyoruz. Değişken değerleri değişince y de değişiyor.\n",
    "x[0] = \"hello\"\n",
    "print(x,y)"
   ]
  },
  {
   "cell_type": "code",
   "execution_count": 41,
   "id": "bc3d4a44",
   "metadata": {},
   "outputs": [
    {
     "name": "stdout",
     "output_type": "stream",
     "text": [
      "['hello', True, 'hi'] [4, True, 'hi']\n"
     ]
    }
   ],
   "source": [
    "x = [4, True, \"hi\"]\n",
    "y = x[:]         #Burada ise değişkenin değerlerini atıyoruz. sonrasında x değerler değişse de bunu etkilemiyor.\n",
    "x[0] = \"hello\"\n",
    "print(x,y)"
   ]
  },
  {
   "cell_type": "code",
   "execution_count": 42,
   "id": "4748d5fb",
   "metadata": {},
   "outputs": [
    {
     "ename": "TypeError",
     "evalue": "'tuple' object does not support item assignment",
     "output_type": "error",
     "traceback": [
      "\u001b[1;31m---------------------------------------------------------------------------\u001b[0m",
      "\u001b[1;31mTypeError\u001b[0m                                 Traceback (most recent call last)",
      "\u001b[1;32m<ipython-input-42-7602bd302857>\u001b[0m in \u001b[0;36m<module>\u001b[1;34m\u001b[0m\n\u001b[0;32m      1\u001b[0m \u001b[0mx\u001b[0m \u001b[1;33m=\u001b[0m \u001b[1;33m(\u001b[0m\u001b[1;36m0\u001b[0m\u001b[1;33m,\u001b[0m\u001b[1;36m0\u001b[0m\u001b[1;33m,\u001b[0m\u001b[1;36m2\u001b[0m\u001b[1;33m,\u001b[0m\u001b[1;36m2\u001b[0m\u001b[1;33m)\u001b[0m\u001b[1;33m\u001b[0m\u001b[1;33m\u001b[0m\u001b[0m\n\u001b[1;32m----> 2\u001b[1;33m \u001b[0mx\u001b[0m\u001b[1;33m[\u001b[0m\u001b[1;36m0\u001b[0m\u001b[1;33m]\u001b[0m \u001b[1;33m=\u001b[0m \u001b[1;36m5\u001b[0m\u001b[1;33m\u001b[0m\u001b[1;33m\u001b[0m\u001b[0m\n\u001b[0m\u001b[0;32m      3\u001b[0m \u001b[0mprint\u001b[0m\u001b[1;33m(\u001b[0m\u001b[0mx\u001b[0m\u001b[1;33m)\u001b[0m\u001b[1;33m\u001b[0m\u001b[1;33m\u001b[0m\u001b[0m\n",
      "\u001b[1;31mTypeError\u001b[0m: 'tuple' object does not support item assignment"
     ]
    }
   ],
   "source": [
    "x = (0,0,2,2)\n",
    "x[0] = 5\n",
    "print(x)"
   ]
  },
  {
   "cell_type": "code",
   "execution_count": 43,
   "id": "43a695c1",
   "metadata": {},
   "outputs": [
    {
     "ename": "AttributeError",
     "evalue": "'tuple' object has no attribute 'append'",
     "output_type": "error",
     "traceback": [
      "\u001b[1;31m---------------------------------------------------------------------------\u001b[0m",
      "\u001b[1;31mAttributeError\u001b[0m                            Traceback (most recent call last)",
      "\u001b[1;32m<ipython-input-43-1a6c69664d86>\u001b[0m in \u001b[0;36m<module>\u001b[1;34m\u001b[0m\n\u001b[0;32m      1\u001b[0m \u001b[0mx\u001b[0m \u001b[1;33m=\u001b[0m \u001b[1;33m(\u001b[0m\u001b[1;36m0\u001b[0m\u001b[1;33m,\u001b[0m\u001b[1;36m0\u001b[0m\u001b[1;33m,\u001b[0m\u001b[1;36m2\u001b[0m\u001b[1;33m,\u001b[0m\u001b[1;36m2\u001b[0m\u001b[1;33m)\u001b[0m\u001b[1;33m\u001b[0m\u001b[1;33m\u001b[0m\u001b[0m\n\u001b[1;32m----> 2\u001b[1;33m \u001b[0mx\u001b[0m\u001b[1;33m.\u001b[0m\u001b[0mappend\u001b[0m\u001b[1;33m(\u001b[0m\u001b[1;36m3\u001b[0m\u001b[1;33m)\u001b[0m\u001b[1;33m\u001b[0m\u001b[1;33m\u001b[0m\u001b[0m\n\u001b[0m\u001b[0;32m      3\u001b[0m \u001b[0mprint\u001b[0m\u001b[1;33m(\u001b[0m\u001b[0mx\u001b[0m\u001b[1;33m[\u001b[0m\u001b[1;36m0\u001b[0m\u001b[1;33m]\u001b[0m\u001b[1;33m)\u001b[0m\u001b[1;33m\u001b[0m\u001b[1;33m\u001b[0m\u001b[0m\n",
      "\u001b[1;31mAttributeError\u001b[0m: 'tuple' object has no attribute 'append'"
     ]
    }
   ],
   "source": [
    "x = (0,0,2,2)\n",
    "x.append(3)\n",
    "print(x[0])"
   ]
  },
  {
   "cell_type": "code",
   "execution_count": null,
   "id": "09222beb",
   "metadata": {},
   "outputs": [],
   "source": [
    "x = [[],(),[[],[],[3,4,5]]]"
   ]
  },
  {
   "cell_type": "code",
   "execution_count": 1,
   "id": "3a5d3935",
   "metadata": {},
   "outputs": [
    {
     "name": "stdout",
     "output_type": "stream",
     "text": [
      "1\n",
      "3\n",
      "5\n",
      "7\n",
      "9\n"
     ]
    }
   ],
   "source": [
    "for i in range(1,10,2):\n",
    "    print(i)\n",
    "\n",
    "    \n",
    "#stop\n",
    "#start, stop\n",
    "#start, stop, step"
   ]
  },
  {
   "cell_type": "code",
   "execution_count": 2,
   "id": "ebd801ac",
   "metadata": {},
   "outputs": [],
   "source": [
    "for i in range(1,10,-2):\n",
    "    print(i)"
   ]
  },
  {
   "cell_type": "code",
   "execution_count": 7,
   "id": "9b9ff1a0",
   "metadata": {},
   "outputs": [],
   "source": [
    "for i in range(-10,0,-1):\n",
    "    print(i)"
   ]
  },
  {
   "cell_type": "code",
   "execution_count": 5,
   "id": "83705a97",
   "metadata": {},
   "outputs": [
    {
     "name": "stdout",
     "output_type": "stream",
     "text": [
      "-10\n",
      "-9\n",
      "-8\n",
      "-7\n",
      "-6\n",
      "-5\n",
      "-4\n",
      "-3\n",
      "-2\n",
      "-1\n"
     ]
    }
   ],
   "source": [
    "for i in range(-10,0,1):\n",
    "    print(i)"
   ]
  },
  {
   "cell_type": "code",
   "execution_count": 10,
   "id": "faed8a41",
   "metadata": {},
   "outputs": [
    {
     "name": "stdout",
     "output_type": "stream",
     "text": [
      "3\n",
      "4\n",
      "8\n",
      "25\n",
      "66\n",
      "21\n"
     ]
    }
   ],
   "source": [
    "for i in [3,4,8,25,66,21]:\n",
    "    print(i)"
   ]
  },
  {
   "cell_type": "code",
   "execution_count": 9,
   "id": "08301d0c",
   "metadata": {},
   "outputs": [
    {
     "name": "stdout",
     "output_type": "stream",
     "text": [
      "3\n",
      "4\n",
      "8\n",
      "25\n",
      "66\n",
      "21\n"
     ]
    }
   ],
   "source": [
    "x = [3,4,8,25,66,21]\n",
    "for i in x:\n",
    "    print(i)"
   ]
  },
  {
   "cell_type": "code",
   "execution_count": 13,
   "id": "98eef624",
   "metadata": {},
   "outputs": [
    {
     "name": "stdout",
     "output_type": "stream",
     "text": [
      "3\n",
      "4\n",
      "8\n",
      "25\n",
      "66\n",
      "21\n"
     ]
    }
   ],
   "source": [
    "x = [3,4,8,25,66,21]\n",
    "for i in range(len(x)):\n",
    "    print(x[i])"
   ]
  },
  {
   "cell_type": "code",
   "execution_count": 14,
   "id": "4195616c",
   "metadata": {},
   "outputs": [
    {
     "name": "stdout",
     "output_type": "stream",
     "text": [
      "9\n",
      "16\n",
      "64\n",
      "625\n",
      "4356\n",
      "441\n"
     ]
    }
   ],
   "source": [
    "x = [3,4,8,25,66,21]\n",
    "for i in range(len(x)):\n",
    "    print(x[i]**2)"
   ]
  },
  {
   "cell_type": "code",
   "execution_count": 1,
   "id": "460ef916",
   "metadata": {},
   "outputs": [
    {
     "name": "stdout",
     "output_type": "stream",
     "text": [
      "0 3 9\n",
      "1 4 16\n",
      "2 8 64\n",
      "3 25 625\n",
      "4 66 4356\n",
      "5 21 441\n"
     ]
    }
   ],
   "source": [
    "x = [3,4,8,25,66,21]\n",
    "for i,element in enumerate(x):\n",
    "    print(i,element,x[i]**2)"
   ]
  },
  {
   "cell_type": "code",
   "execution_count": 6,
   "id": "9adbe170",
   "metadata": {},
   "outputs": [
    {
     "name": "stdout",
     "output_type": "stream",
     "text": [
      "run\n",
      "run\n",
      "run\n",
      "run\n",
      "run\n",
      "run\n",
      "run\n",
      "run\n",
      "run\n",
      "run\n"
     ]
    }
   ],
   "source": [
    "x = [3,4,42,3,2,4]\n",
    "\n",
    "i = 0\n",
    "while i < 10:\n",
    "    print(\"run\")\n",
    "    i += 1"
   ]
  },
  {
   "cell_type": "code",
   "execution_count": 7,
   "id": "46011756",
   "metadata": {},
   "outputs": [
    {
     "name": "stdout",
     "output_type": "stream",
     "text": [
      "run\n",
      "run\n",
      "run\n",
      "run\n",
      "run\n",
      "run\n",
      "run\n",
      "run\n",
      "run\n",
      "run\n"
     ]
    }
   ],
   "source": [
    "x = [3,4,42,3,2,4]\n",
    "\n",
    "i = 0\n",
    "while True:\n",
    "    print(\"run\")\n",
    "    i += 1\n",
    "    if i == 10 :\n",
    "        break"
   ]
  },
  {
   "cell_type": "code",
   "execution_count": 9,
   "id": "38101c1e",
   "metadata": {},
   "outputs": [
    {
     "name": "stdout",
     "output_type": "stream",
     "text": [
      "[0, 1, 2, 3]\n"
     ]
    }
   ],
   "source": [
    "x = [0,1,2,3,4,5,6,7,8]\n",
    "y = [\"hi\",\"hello\",\"goodbye\",\"cya\",\"sure\"]\n",
    "z = \"hello\"\n",
    "\n",
    "sliced = x[0:4:1]   # stop dahil etmiyoruz. Son karakteri.\n",
    "\n",
    "print(sliced)"
   ]
  },
  {
   "cell_type": "code",
   "execution_count": 11,
   "id": "f62de6b0",
   "metadata": {},
   "outputs": [
    {
     "name": "stdout",
     "output_type": "stream",
     "text": [
      "[4, 3]\n"
     ]
    }
   ],
   "source": [
    "x = [0,1,2,3,4,5,6,7,8]\n",
    "y = [\"hi\",\"hello\",\"goodbye\",\"cya\",\"sure\"]\n",
    "z = \"hello\"\n",
    "\n",
    "sliced = x[4:2:-1]\n",
    "\n",
    "print(sliced)"
   ]
  },
  {
   "cell_type": "code",
   "execution_count": 13,
   "id": "ed13ef3d",
   "metadata": {},
   "outputs": [
    {
     "name": "stdout",
     "output_type": "stream",
     "text": [
      "(1, 3, 4, 5, 5, 6)\n"
     ]
    }
   ],
   "source": [
    "sliced = (1,2,3,4,4,4,5,5,5,5,6)[::2]\n",
    "\n",
    "print(sliced)"
   ]
  },
  {
   "cell_type": "code",
   "execution_count": 19,
   "id": "6c9a53f2",
   "metadata": {},
   "outputs": [
    {
     "name": "stdout",
     "output_type": "stream",
     "text": [
      "<class 'dict'>\n",
      "{32, 4, 5}\n",
      "False\n",
      "False\n"
     ]
    }
   ],
   "source": [
    "x = set()\n",
    "s = {4,32,2,2}\n",
    "print(type({}))\n",
    "\n",
    "s.add(5)\n",
    "s.remove(2)\n",
    "\n",
    "print(s)\n",
    "\n",
    "print(33 in s)\n",
    "\n",
    "print(2 in s)"
   ]
  },
  {
   "cell_type": "code",
   "execution_count": 20,
   "id": "4d160bfc",
   "metadata": {},
   "outputs": [
    {
     "name": "stdout",
     "output_type": "stream",
     "text": [
      "{32, 1, 2, 3, 4, 22}\n"
     ]
    }
   ],
   "source": [
    "s = {4,32,2,2}\n",
    "s2 = {3,4,22,1}\n",
    "\n",
    "print(s.union(s2))"
   ]
  },
  {
   "cell_type": "code",
   "execution_count": 21,
   "id": "4cdaf9a6",
   "metadata": {},
   "outputs": [
    {
     "name": "stdout",
     "output_type": "stream",
     "text": [
      "{32, 2}\n"
     ]
    }
   ],
   "source": [
    "print(s.difference(s2))"
   ]
  },
  {
   "cell_type": "code",
   "execution_count": 22,
   "id": "c87e357f",
   "metadata": {},
   "outputs": [
    {
     "name": "stdout",
     "output_type": "stream",
     "text": [
      "{4}\n"
     ]
    }
   ],
   "source": [
    "print(s.intersection(s2))"
   ]
  },
  {
   "cell_type": "code",
   "execution_count": 23,
   "id": "161961fe",
   "metadata": {},
   "outputs": [
    {
     "name": "stdout",
     "output_type": "stream",
     "text": [
      "4\n"
     ]
    }
   ],
   "source": [
    "x = {\"key\": 4}\n",
    "print(x[\"key\"])\n"
   ]
  },
  {
   "cell_type": "code",
   "execution_count": 24,
   "id": "588e44fe",
   "metadata": {},
   "outputs": [
    {
     "name": "stdout",
     "output_type": "stream",
     "text": [
      "{'key': 4, 'key2': 5}\n"
     ]
    }
   ],
   "source": [
    "x = {\"key\": 4}\n",
    "\n",
    "x[\"key2\"] = 5\n",
    "\n",
    "print(x)"
   ]
  },
  {
   "cell_type": "code",
   "execution_count": 25,
   "id": "30b5880e",
   "metadata": {},
   "outputs": [
    {
     "name": "stdout",
     "output_type": "stream",
     "text": [
      "{'key': 4, 'key2': 5, 2: [2, 2, 1, 1]}\n"
     ]
    }
   ],
   "source": [
    "x = {\"key\": 4}\n",
    "\n",
    "x[\"key2\"] = 5\n",
    "x[2] = [2,2,1,1]\n",
    "\n",
    "print(x)"
   ]
  },
  {
   "cell_type": "code",
   "execution_count": 26,
   "id": "ab329a27",
   "metadata": {},
   "outputs": [
    {
     "name": "stdout",
     "output_type": "stream",
     "text": [
      "True\n"
     ]
    }
   ],
   "source": [
    "x = {\"key\": 4}\n",
    "\n",
    "\n",
    "\n",
    "print(\"key\" in x)"
   ]
  },
  {
   "cell_type": "code",
   "execution_count": 27,
   "id": "959fcc78",
   "metadata": {},
   "outputs": [
    {
     "name": "stdout",
     "output_type": "stream",
     "text": [
      "False\n"
     ]
    }
   ],
   "source": [
    "x = {\"key\": 4}\n",
    "\n",
    "\n",
    "\n",
    "print(\"value\" in x)"
   ]
  },
  {
   "cell_type": "code",
   "execution_count": 29,
   "id": "2daf604f",
   "metadata": {},
   "outputs": [
    {
     "name": "stdout",
     "output_type": "stream",
     "text": [
      "dict_values([4])\n"
     ]
    }
   ],
   "source": [
    "x = {\"key\": 4}\n",
    "\n",
    "\n",
    "\n",
    "print(x.values())"
   ]
  },
  {
   "cell_type": "code",
   "execution_count": 31,
   "id": "bd7f3c9a",
   "metadata": {},
   "outputs": [
    {
     "name": "stdout",
     "output_type": "stream",
     "text": [
      "[4]\n"
     ]
    }
   ],
   "source": [
    "x = {\"key\": 4}\n",
    "\n",
    "\n",
    "\n",
    "print(list(x.values()))"
   ]
  },
  {
   "cell_type": "code",
   "execution_count": 32,
   "id": "ed1e1b99",
   "metadata": {},
   "outputs": [
    {
     "name": "stdout",
     "output_type": "stream",
     "text": [
      "['key']\n"
     ]
    }
   ],
   "source": [
    "x = {\"key\": 4}\n",
    "\n",
    "\n",
    "\n",
    "print(list(x.keys()))"
   ]
  },
  {
   "cell_type": "code",
   "execution_count": 34,
   "id": "1f107dc3",
   "metadata": {},
   "outputs": [
    {
     "name": "stdout",
     "output_type": "stream",
     "text": [
      "{}\n",
      "[]\n"
     ]
    }
   ],
   "source": [
    "x = {\"key\": 4}\n",
    "\n",
    "\n",
    "del x[\"key\"]\n",
    "print(x)\n",
    "print(list(x.keys()))"
   ]
  },
  {
   "cell_type": "code",
   "execution_count": 35,
   "id": "f4ca3c67",
   "metadata": {},
   "outputs": [
    {
     "name": "stdout",
     "output_type": "stream",
     "text": [
      "key 4\n"
     ]
    }
   ],
   "source": [
    "x = {\"key\": 4}\n",
    "for key,value in x.items():\n",
    "    print(key,value)"
   ]
  },
  {
   "cell_type": "code",
   "execution_count": 37,
   "id": "48d7aa8e",
   "metadata": {},
   "outputs": [
    {
     "name": "stdout",
     "output_type": "stream",
     "text": [
      "key 4\n"
     ]
    }
   ],
   "source": [
    "x = {\"key\": 4}\n",
    "for key in x:\n",
    "    print(key,x[key])"
   ]
  },
  {
   "cell_type": "code",
   "execution_count": 38,
   "id": "68613d3d",
   "metadata": {},
   "outputs": [
    {
     "name": "stdout",
     "output_type": "stream",
     "text": [
      "[0, 1, 2, 3, 4]\n"
     ]
    }
   ],
   "source": [
    "x = [x for x in range(5)]\n",
    "print(x)"
   ]
  },
  {
   "cell_type": "code",
   "execution_count": 40,
   "id": "c33c9edf",
   "metadata": {},
   "outputs": [
    {
     "name": "stdout",
     "output_type": "stream",
     "text": [
      "[[0, 0, 0, 0, 0, 0, 0, 0, 0, 0, 0, 0, 0, 0, 0, 0, 0, 0, 0, 0, 0, 0, 0, 0, 0, 0, 0, 0, 0, 0, 0, 0, 0, 0, 0, 0, 0, 0, 0, 0, 0, 0, 0, 0, 0, 0, 0, 0, 0, 0, 0, 0, 0, 0, 0, 0, 0, 0, 0, 0, 0, 0, 0, 0, 0, 0, 0, 0, 0, 0, 0, 0, 0, 0, 0, 0, 0, 0, 0, 0, 0, 0, 0, 0, 0, 0, 0, 0, 0, 0, 0, 0, 0, 0, 0, 0, 0, 0, 0, 0], [0, 0, 0, 0, 0, 0, 0, 0, 0, 0, 0, 0, 0, 0, 0, 0, 0, 0, 0, 0, 0, 0, 0, 0, 0, 0, 0, 0, 0, 0, 0, 0, 0, 0, 0, 0, 0, 0, 0, 0, 0, 0, 0, 0, 0, 0, 0, 0, 0, 0, 0, 0, 0, 0, 0, 0, 0, 0, 0, 0, 0, 0, 0, 0, 0, 0, 0, 0, 0, 0, 0, 0, 0, 0, 0, 0, 0, 0, 0, 0, 0, 0, 0, 0, 0, 0, 0, 0, 0, 0, 0, 0, 0, 0, 0, 0, 0, 0, 0, 0], [0, 0, 0, 0, 0, 0, 0, 0, 0, 0, 0, 0, 0, 0, 0, 0, 0, 0, 0, 0, 0, 0, 0, 0, 0, 0, 0, 0, 0, 0, 0, 0, 0, 0, 0, 0, 0, 0, 0, 0, 0, 0, 0, 0, 0, 0, 0, 0, 0, 0, 0, 0, 0, 0, 0, 0, 0, 0, 0, 0, 0, 0, 0, 0, 0, 0, 0, 0, 0, 0, 0, 0, 0, 0, 0, 0, 0, 0, 0, 0, 0, 0, 0, 0, 0, 0, 0, 0, 0, 0, 0, 0, 0, 0, 0, 0, 0, 0, 0, 0], [0, 0, 0, 0, 0, 0, 0, 0, 0, 0, 0, 0, 0, 0, 0, 0, 0, 0, 0, 0, 0, 0, 0, 0, 0, 0, 0, 0, 0, 0, 0, 0, 0, 0, 0, 0, 0, 0, 0, 0, 0, 0, 0, 0, 0, 0, 0, 0, 0, 0, 0, 0, 0, 0, 0, 0, 0, 0, 0, 0, 0, 0, 0, 0, 0, 0, 0, 0, 0, 0, 0, 0, 0, 0, 0, 0, 0, 0, 0, 0, 0, 0, 0, 0, 0, 0, 0, 0, 0, 0, 0, 0, 0, 0, 0, 0, 0, 0, 0, 0], [0, 0, 0, 0, 0, 0, 0, 0, 0, 0, 0, 0, 0, 0, 0, 0, 0, 0, 0, 0, 0, 0, 0, 0, 0, 0, 0, 0, 0, 0, 0, 0, 0, 0, 0, 0, 0, 0, 0, 0, 0, 0, 0, 0, 0, 0, 0, 0, 0, 0, 0, 0, 0, 0, 0, 0, 0, 0, 0, 0, 0, 0, 0, 0, 0, 0, 0, 0, 0, 0, 0, 0, 0, 0, 0, 0, 0, 0, 0, 0, 0, 0, 0, 0, 0, 0, 0, 0, 0, 0, 0, 0, 0, 0, 0, 0, 0, 0, 0, 0]]\n"
     ]
    }
   ],
   "source": [
    "x = [[0 for x in range(100)] for x in range(5)]\n",
    "print(x)"
   ]
  },
  {
   "cell_type": "code",
   "execution_count": 41,
   "id": "ec16a90e",
   "metadata": {},
   "outputs": [
    {
     "name": "stdout",
     "output_type": "stream",
     "text": [
      "[[0, 1, 2, 3, 4, 5, 6, 7, 8, 9, 10, 11, 12, 13, 14, 15, 16, 17, 18, 19, 20, 21, 22, 23, 24, 25, 26, 27, 28, 29, 30, 31, 32, 33, 34, 35, 36, 37, 38, 39, 40, 41, 42, 43, 44, 45, 46, 47, 48, 49, 50, 51, 52, 53, 54, 55, 56, 57, 58, 59, 60, 61, 62, 63, 64, 65, 66, 67, 68, 69, 70, 71, 72, 73, 74, 75, 76, 77, 78, 79, 80, 81, 82, 83, 84, 85, 86, 87, 88, 89, 90, 91, 92, 93, 94, 95, 96, 97, 98, 99], [0, 1, 2, 3, 4, 5, 6, 7, 8, 9, 10, 11, 12, 13, 14, 15, 16, 17, 18, 19, 20, 21, 22, 23, 24, 25, 26, 27, 28, 29, 30, 31, 32, 33, 34, 35, 36, 37, 38, 39, 40, 41, 42, 43, 44, 45, 46, 47, 48, 49, 50, 51, 52, 53, 54, 55, 56, 57, 58, 59, 60, 61, 62, 63, 64, 65, 66, 67, 68, 69, 70, 71, 72, 73, 74, 75, 76, 77, 78, 79, 80, 81, 82, 83, 84, 85, 86, 87, 88, 89, 90, 91, 92, 93, 94, 95, 96, 97, 98, 99], [0, 1, 2, 3, 4, 5, 6, 7, 8, 9, 10, 11, 12, 13, 14, 15, 16, 17, 18, 19, 20, 21, 22, 23, 24, 25, 26, 27, 28, 29, 30, 31, 32, 33, 34, 35, 36, 37, 38, 39, 40, 41, 42, 43, 44, 45, 46, 47, 48, 49, 50, 51, 52, 53, 54, 55, 56, 57, 58, 59, 60, 61, 62, 63, 64, 65, 66, 67, 68, 69, 70, 71, 72, 73, 74, 75, 76, 77, 78, 79, 80, 81, 82, 83, 84, 85, 86, 87, 88, 89, 90, 91, 92, 93, 94, 95, 96, 97, 98, 99], [0, 1, 2, 3, 4, 5, 6, 7, 8, 9, 10, 11, 12, 13, 14, 15, 16, 17, 18, 19, 20, 21, 22, 23, 24, 25, 26, 27, 28, 29, 30, 31, 32, 33, 34, 35, 36, 37, 38, 39, 40, 41, 42, 43, 44, 45, 46, 47, 48, 49, 50, 51, 52, 53, 54, 55, 56, 57, 58, 59, 60, 61, 62, 63, 64, 65, 66, 67, 68, 69, 70, 71, 72, 73, 74, 75, 76, 77, 78, 79, 80, 81, 82, 83, 84, 85, 86, 87, 88, 89, 90, 91, 92, 93, 94, 95, 96, 97, 98, 99], [0, 1, 2, 3, 4, 5, 6, 7, 8, 9, 10, 11, 12, 13, 14, 15, 16, 17, 18, 19, 20, 21, 22, 23, 24, 25, 26, 27, 28, 29, 30, 31, 32, 33, 34, 35, 36, 37, 38, 39, 40, 41, 42, 43, 44, 45, 46, 47, 48, 49, 50, 51, 52, 53, 54, 55, 56, 57, 58, 59, 60, 61, 62, 63, 64, 65, 66, 67, 68, 69, 70, 71, 72, 73, 74, 75, 76, 77, 78, 79, 80, 81, 82, 83, 84, 85, 86, 87, 88, 89, 90, 91, 92, 93, 94, 95, 96, 97, 98, 99]]\n"
     ]
    }
   ],
   "source": [
    "x = [[x for x in range(100)] for x in range(5)]\n",
    "print(x)"
   ]
  },
  {
   "cell_type": "code",
   "execution_count": 44,
   "id": "1699c8f7",
   "metadata": {},
   "outputs": [
    {
     "name": "stdout",
     "output_type": "stream",
     "text": [
      "[0, 5, 10, 15, 20, 25, 30, 35, 40, 45, 50, 55, 60, 65, 70, 75, 80, 85, 90, 95]\n"
     ]
    }
   ],
   "source": [
    "x = [x for x in range(100) if x % 5 == 0]\n",
    "print(x)"
   ]
  },
  {
   "cell_type": "code",
   "execution_count": 46,
   "id": "868c5181",
   "metadata": {},
   "outputs": [
    {
     "name": "stdout",
     "output_type": "stream",
     "text": [
      "{0: 0, 5: 0, 10: 0, 15: 0, 20: 0, 25: 0, 30: 0, 35: 0, 40: 0, 45: 0, 50: 0, 55: 0, 60: 0, 65: 0, 70: 0, 75: 0, 80: 0, 85: 0, 90: 0, 95: 0}\n"
     ]
    }
   ],
   "source": [
    "x = {x:0 for x in range(100) if x % 5 == 0}\n",
    "print(x)"
   ]
  },
  {
   "cell_type": "code",
   "execution_count": 45,
   "id": "5d0f88e2",
   "metadata": {},
   "outputs": [
    {
     "name": "stdout",
     "output_type": "stream",
     "text": [
      "{0: 0, 5: 5, 10: 10, 15: 15, 20: 20, 25: 25, 30: 30, 35: 35, 40: 40, 45: 45, 50: 50, 55: 55, 60: 60, 65: 65, 70: 70, 75: 75, 80: 80, 85: 85, 90: 90, 95: 95}\n"
     ]
    }
   ],
   "source": [
    "x = {x:x for x in range(100) if x % 5 == 0}\n",
    "print(x)"
   ]
  },
  {
   "cell_type": "code",
   "execution_count": 47,
   "id": "9258be47",
   "metadata": {},
   "outputs": [
    {
     "name": "stdout",
     "output_type": "stream",
     "text": [
      "(0, 5, 10, 15, 20, 25, 30, 35, 40, 45, 50, 55, 60, 65, 70, 75, 80, 85, 90, 95)\n"
     ]
    }
   ],
   "source": [
    "x = tuple(x for x in range(100) if x % 5 == 0)\n",
    "print(x)"
   ]
  },
  {
   "cell_type": "code",
   "execution_count": 48,
   "id": "e1524f21",
   "metadata": {},
   "outputs": [
    {
     "name": "stdout",
     "output_type": "stream",
     "text": [
      "Run\n"
     ]
    }
   ],
   "source": [
    "def func():\n",
    "    print(\"Run\")\n",
    "\n",
    "func()"
   ]
  },
  {
   "cell_type": "code",
   "execution_count": 49,
   "id": "f2af484a",
   "metadata": {},
   "outputs": [
    {
     "name": "stdout",
     "output_type": "stream",
     "text": [
      "Run\n",
      "hi\n"
     ]
    }
   ],
   "source": [
    "def func():\n",
    "    print(\"Run\")\n",
    "    def func():\n",
    "        print(\"hi\")\n",
    "    func()\n",
    "func()"
   ]
  },
  {
   "cell_type": "code",
   "execution_count": 56,
   "id": "9af60b46",
   "metadata": {},
   "outputs": [
    {
     "name": "stdout",
     "output_type": "stream",
     "text": [
      "Run 5 6\n"
     ]
    },
    {
     "data": {
      "text/plain": [
       "(30, 0.8333333333333334, 11, -1)"
      ]
     },
     "execution_count": 56,
     "metadata": {},
     "output_type": "execute_result"
    }
   ],
   "source": [
    "def func(x,y):\n",
    "    print(\"Run\",x,y)\n",
    "    return x*y, x/y, x+y, x-y\n",
    "func(5,6)"
   ]
  },
  {
   "cell_type": "code",
   "execution_count": 2,
   "id": "623579de",
   "metadata": {},
   "outputs": [
    {
     "name": "stdout",
     "output_type": "stream",
     "text": [
      "Run 5 6 7\n",
      "11 -1\n"
     ]
    }
   ],
   "source": [
    "def func(x, y, z=None):\n",
    "    print(\"Run\",x,y,z)\n",
    "    return x+y, x-y\n",
    "\n",
    "r1, r2 = func(5,6,7)\n",
    "print(r1, r2)"
   ]
  },
  {
   "cell_type": "code",
   "execution_count": 3,
   "id": "0f645475",
   "metadata": {},
   "outputs": [
    {
     "name": "stdout",
     "output_type": "stream",
     "text": [
      "<function func.<locals>.func2 at 0x000001CBE2349C10>\n"
     ]
    }
   ],
   "source": [
    "def func(x):\n",
    "    def func2(x):\n",
    "        print(x)\n",
    "    \n",
    "    return func2\n",
    "\n",
    "print(func(3))"
   ]
  },
  {
   "cell_type": "code",
   "execution_count": 11,
   "id": "82152a9f",
   "metadata": {},
   "outputs": [
    {
     "name": "stdout",
     "output_type": "stream",
     "text": [
      "3\n",
      "None\n"
     ]
    }
   ],
   "source": [
    "def func(x):\n",
    "    def func2(x):\n",
    "        print(x)\n",
    "    \n",
    "    return func2\n",
    "\n",
    "print(func(3)(3))"
   ]
  },
  {
   "cell_type": "code",
   "execution_count": 13,
   "id": "5f00d7d2",
   "metadata": {},
   "outputs": [
    {
     "name": "stdout",
     "output_type": "stream",
     "text": [
      "[1, 23, 2363663, 2727]\n",
      "1 23 2363663 2727\n"
     ]
    }
   ],
   "source": [
    "def func(*args, **kwargs):\n",
    "    pass\n",
    "\n",
    "x = [1,23,2363663,2727]\n",
    "print(x)\n",
    "print(*x)"
   ]
  },
  {
   "cell_type": "code",
   "execution_count": 14,
   "id": "e01d8cc1",
   "metadata": {},
   "outputs": [
    {
     "name": "stdout",
     "output_type": "stream",
     "text": [
      "1 2\n",
      "3 4\n"
     ]
    }
   ],
   "source": [
    "def func(x, y):\n",
    "    print(x,y)\n",
    "\n",
    "pairs = [(1,2), (3,4)]\n",
    "\n",
    "for pair in pairs:\n",
    "    func(pair[0], pair[1])"
   ]
  },
  {
   "cell_type": "code",
   "execution_count": 16,
   "id": "ce56216a",
   "metadata": {},
   "outputs": [
    {
     "name": "stdout",
     "output_type": "stream",
     "text": [
      "1 2\n",
      "3 4\n"
     ]
    }
   ],
   "source": [
    "def func(x, y):\n",
    "    print(x,y)\n",
    "\n",
    "pairs = [(1,2), (3,4)]\n",
    "\n",
    "for pair in pairs:\n",
    "    func(*pair)"
   ]
  },
  {
   "cell_type": "code",
   "execution_count": 18,
   "id": "0a174e36",
   "metadata": {},
   "outputs": [
    {
     "name": "stdout",
     "output_type": "stream",
     "text": [
      "2 5\n",
      "2 5\n"
     ]
    }
   ],
   "source": [
    "def func(x, y):\n",
    "    print(x,y)\n",
    "\n",
    "pairs = [(1,2), (3,4)]\n",
    "\n",
    "for pair in pairs:\n",
    "    func(**{\"x\":2, \"y\":5})"
   ]
  },
  {
   "cell_type": "code",
   "execution_count": 22,
   "id": "8685768e",
   "metadata": {},
   "outputs": [
    {
     "name": "stdout",
     "output_type": "stream",
     "text": [
      "(1, 2, 3, 4, 5) {'one': 0, 'two': 1}\n"
     ]
    }
   ],
   "source": [
    "def func(*args, ** kwargs):\n",
    "    print(args, kwargs)\n",
    "\n",
    "func(1,2,3,4,5,one=0,two=1)"
   ]
  },
  {
   "cell_type": "code",
   "execution_count": 24,
   "id": "1e44bd5a",
   "metadata": {},
   "outputs": [
    {
     "name": "stdout",
     "output_type": "stream",
     "text": [
      "1 2 3 4 5\n"
     ]
    }
   ],
   "source": [
    "def func(*args, ** kwargs):\n",
    "    print(*args)\n",
    "    \n",
    "func(1,2,3,4,5,one=0,two=1)"
   ]
  },
  {
   "cell_type": "code",
   "execution_count": 25,
   "id": "e662a73b",
   "metadata": {},
   "outputs": [
    {
     "ename": "TypeError",
     "evalue": "'one' is an invalid keyword argument for print()",
     "output_type": "error",
     "traceback": [
      "\u001b[1;31m---------------------------------------------------------------------------\u001b[0m",
      "\u001b[1;31mTypeError\u001b[0m                                 Traceback (most recent call last)",
      "\u001b[1;32m<ipython-input-25-2a9a48e60583>\u001b[0m in \u001b[0;36m<module>\u001b[1;34m\u001b[0m\n\u001b[0;32m      1\u001b[0m \u001b[1;32mdef\u001b[0m \u001b[0mfunc\u001b[0m\u001b[1;33m(\u001b[0m\u001b[1;33m*\u001b[0m\u001b[0margs\u001b[0m\u001b[1;33m,\u001b[0m \u001b[1;33m**\u001b[0m \u001b[0mkwargs\u001b[0m\u001b[1;33m)\u001b[0m\u001b[1;33m:\u001b[0m\u001b[1;33m\u001b[0m\u001b[1;33m\u001b[0m\u001b[0m\n\u001b[0;32m      2\u001b[0m     \u001b[0mprint\u001b[0m\u001b[1;33m(\u001b[0m\u001b[1;33m**\u001b[0m\u001b[0mkwargs\u001b[0m\u001b[1;33m)\u001b[0m\u001b[1;33m\u001b[0m\u001b[1;33m\u001b[0m\u001b[0m\n\u001b[1;32m----> 3\u001b[1;33m \u001b[0mfunc\u001b[0m\u001b[1;33m(\u001b[0m\u001b[1;36m1\u001b[0m\u001b[1;33m,\u001b[0m\u001b[1;36m2\u001b[0m\u001b[1;33m,\u001b[0m\u001b[1;36m3\u001b[0m\u001b[1;33m,\u001b[0m\u001b[1;36m4\u001b[0m\u001b[1;33m,\u001b[0m\u001b[1;36m5\u001b[0m\u001b[1;33m,\u001b[0m\u001b[0mone\u001b[0m\u001b[1;33m=\u001b[0m\u001b[1;36m0\u001b[0m\u001b[1;33m,\u001b[0m\u001b[0mtwo\u001b[0m\u001b[1;33m=\u001b[0m\u001b[1;36m1\u001b[0m\u001b[1;33m)\u001b[0m\u001b[1;33m\u001b[0m\u001b[1;33m\u001b[0m\u001b[0m\n\u001b[0m",
      "\u001b[1;32m<ipython-input-25-2a9a48e60583>\u001b[0m in \u001b[0;36mfunc\u001b[1;34m(*args, **kwargs)\u001b[0m\n\u001b[0;32m      1\u001b[0m \u001b[1;32mdef\u001b[0m \u001b[0mfunc\u001b[0m\u001b[1;33m(\u001b[0m\u001b[1;33m*\u001b[0m\u001b[0margs\u001b[0m\u001b[1;33m,\u001b[0m \u001b[1;33m**\u001b[0m \u001b[0mkwargs\u001b[0m\u001b[1;33m)\u001b[0m\u001b[1;33m:\u001b[0m\u001b[1;33m\u001b[0m\u001b[1;33m\u001b[0m\u001b[0m\n\u001b[1;32m----> 2\u001b[1;33m     \u001b[0mprint\u001b[0m\u001b[1;33m(\u001b[0m\u001b[1;33m**\u001b[0m\u001b[0mkwargs\u001b[0m\u001b[1;33m)\u001b[0m\u001b[1;33m\u001b[0m\u001b[1;33m\u001b[0m\u001b[0m\n\u001b[0m\u001b[0;32m      3\u001b[0m \u001b[0mfunc\u001b[0m\u001b[1;33m(\u001b[0m\u001b[1;36m1\u001b[0m\u001b[1;33m,\u001b[0m\u001b[1;36m2\u001b[0m\u001b[1;33m,\u001b[0m\u001b[1;36m3\u001b[0m\u001b[1;33m,\u001b[0m\u001b[1;36m4\u001b[0m\u001b[1;33m,\u001b[0m\u001b[1;36m5\u001b[0m\u001b[1;33m,\u001b[0m\u001b[0mone\u001b[0m\u001b[1;33m=\u001b[0m\u001b[1;36m0\u001b[0m\u001b[1;33m,\u001b[0m\u001b[0mtwo\u001b[0m\u001b[1;33m=\u001b[0m\u001b[1;36m1\u001b[0m\u001b[1;33m)\u001b[0m\u001b[1;33m\u001b[0m\u001b[1;33m\u001b[0m\u001b[0m\n",
      "\u001b[1;31mTypeError\u001b[0m: 'one' is an invalid keyword argument for print()"
     ]
    }
   ],
   "source": [
    "def func(*args, ** kwargs):\n",
    "    print(**kwargs)\n",
    "    \n",
    "func(1,2,3,4,5,one=0,two=1)"
   ]
  },
  {
   "cell_type": "code",
   "execution_count": 26,
   "id": "4e504fa4",
   "metadata": {},
   "outputs": [
    {
     "ename": "TypeError",
     "evalue": "'one' is an invalid keyword argument for print()",
     "output_type": "error",
     "traceback": [
      "\u001b[1;31m---------------------------------------------------------------------------\u001b[0m",
      "\u001b[1;31mTypeError\u001b[0m                                 Traceback (most recent call last)",
      "\u001b[1;32m<ipython-input-26-dac9f1ad77e1>\u001b[0m in \u001b[0;36m<module>\u001b[1;34m\u001b[0m\n\u001b[0;32m      2\u001b[0m     \u001b[0mprint\u001b[0m\u001b[1;33m(\u001b[0m\u001b[0mone\u001b[0m\u001b[1;33m=\u001b[0m\u001b[1;36m0\u001b[0m\u001b[1;33m,\u001b[0m\u001b[0mtwo\u001b[0m\u001b[1;33m=\u001b[0m\u001b[1;36m1\u001b[0m\u001b[1;33m)\u001b[0m\u001b[1;33m\u001b[0m\u001b[1;33m\u001b[0m\u001b[0m\n\u001b[0;32m      3\u001b[0m \u001b[1;33m\u001b[0m\u001b[0m\n\u001b[1;32m----> 4\u001b[1;33m \u001b[0mfunc\u001b[0m\u001b[1;33m(\u001b[0m\u001b[1;36m1\u001b[0m\u001b[1;33m,\u001b[0m\u001b[1;36m2\u001b[0m\u001b[1;33m,\u001b[0m\u001b[1;36m3\u001b[0m\u001b[1;33m,\u001b[0m\u001b[1;36m4\u001b[0m\u001b[1;33m,\u001b[0m\u001b[1;36m5\u001b[0m\u001b[1;33m,\u001b[0m\u001b[0mone\u001b[0m\u001b[1;33m=\u001b[0m\u001b[1;36m0\u001b[0m\u001b[1;33m,\u001b[0m\u001b[0mtwo\u001b[0m\u001b[1;33m=\u001b[0m\u001b[1;36m1\u001b[0m\u001b[1;33m)\u001b[0m\u001b[1;33m\u001b[0m\u001b[1;33m\u001b[0m\u001b[0m\n\u001b[0m",
      "\u001b[1;32m<ipython-input-26-dac9f1ad77e1>\u001b[0m in \u001b[0;36mfunc\u001b[1;34m(*args, **kwargs)\u001b[0m\n\u001b[0;32m      1\u001b[0m \u001b[1;32mdef\u001b[0m \u001b[0mfunc\u001b[0m\u001b[1;33m(\u001b[0m\u001b[1;33m*\u001b[0m\u001b[0margs\u001b[0m\u001b[1;33m,\u001b[0m \u001b[1;33m**\u001b[0m \u001b[0mkwargs\u001b[0m\u001b[1;33m)\u001b[0m\u001b[1;33m:\u001b[0m\u001b[1;33m\u001b[0m\u001b[1;33m\u001b[0m\u001b[0m\n\u001b[1;32m----> 2\u001b[1;33m     \u001b[0mprint\u001b[0m\u001b[1;33m(\u001b[0m\u001b[0mone\u001b[0m\u001b[1;33m=\u001b[0m\u001b[1;36m0\u001b[0m\u001b[1;33m,\u001b[0m\u001b[0mtwo\u001b[0m\u001b[1;33m=\u001b[0m\u001b[1;36m1\u001b[0m\u001b[1;33m)\u001b[0m\u001b[1;33m\u001b[0m\u001b[1;33m\u001b[0m\u001b[0m\n\u001b[0m\u001b[0;32m      3\u001b[0m \u001b[1;33m\u001b[0m\u001b[0m\n\u001b[0;32m      4\u001b[0m \u001b[0mfunc\u001b[0m\u001b[1;33m(\u001b[0m\u001b[1;36m1\u001b[0m\u001b[1;33m,\u001b[0m\u001b[1;36m2\u001b[0m\u001b[1;33m,\u001b[0m\u001b[1;36m3\u001b[0m\u001b[1;33m,\u001b[0m\u001b[1;36m4\u001b[0m\u001b[1;33m,\u001b[0m\u001b[1;36m5\u001b[0m\u001b[1;33m,\u001b[0m\u001b[0mone\u001b[0m\u001b[1;33m=\u001b[0m\u001b[1;36m0\u001b[0m\u001b[1;33m,\u001b[0m\u001b[0mtwo\u001b[0m\u001b[1;33m=\u001b[0m\u001b[1;36m1\u001b[0m\u001b[1;33m)\u001b[0m\u001b[1;33m\u001b[0m\u001b[1;33m\u001b[0m\u001b[0m\n",
      "\u001b[1;31mTypeError\u001b[0m: 'one' is an invalid keyword argument for print()"
     ]
    }
   ],
   "source": [
    "def func(*args, ** kwargs):\n",
    "    print(one=0,two=1)\n",
    "    \n",
    "func(1,2,3,4,5,one=0,two=1)"
   ]
  },
  {
   "cell_type": "code",
   "execution_count": 27,
   "id": "f531011a",
   "metadata": {},
   "outputs": [
    {
     "name": "stdout",
     "output_type": "stream",
     "text": [
      "Tim\n",
      "Tim\n"
     ]
    }
   ],
   "source": [
    "x = \"Tim\"\n",
    "\n",
    "def func(name):\n",
    "    x = name\n",
    "\n",
    "print(x)\n",
    "func(\"changed\")\n",
    "print(x)"
   ]
  },
  {
   "cell_type": "code",
   "execution_count": 28,
   "id": "d39dc042",
   "metadata": {},
   "outputs": [
    {
     "name": "stdout",
     "output_type": "stream",
     "text": [
      "Tim\n",
      "changed\n"
     ]
    }
   ],
   "source": [
    "x = \"Tim\"\n",
    "\n",
    "def func(name):\n",
    "    global x\n",
    "    x = name\n",
    "\n",
    "print(x)\n",
    "func(\"changed\")\n",
    "print(x)"
   ]
  },
  {
   "cell_type": "code",
   "execution_count": 29,
   "id": "86dee9ee",
   "metadata": {},
   "outputs": [
    {
     "ename": "Exception",
     "evalue": "Bad",
     "output_type": "error",
     "traceback": [
      "\u001b[1;31m---------------------------------------------------------------------------\u001b[0m",
      "\u001b[1;31mException\u001b[0m                                 Traceback (most recent call last)",
      "\u001b[1;32m<ipython-input-29-c655a9cf7473>\u001b[0m in \u001b[0;36m<module>\u001b[1;34m\u001b[0m\n\u001b[1;32m----> 1\u001b[1;33m \u001b[1;32mraise\u001b[0m \u001b[0mException\u001b[0m\u001b[1;33m(\u001b[0m\u001b[1;34m\"Bad\"\u001b[0m\u001b[1;33m)\u001b[0m\u001b[1;33m\u001b[0m\u001b[1;33m\u001b[0m\u001b[0m\n\u001b[0m",
      "\u001b[1;31mException\u001b[0m: Bad"
     ]
    }
   ],
   "source": [
    "raise Exception(\"Bad\")"
   ]
  },
  {
   "cell_type": "code",
   "execution_count": 31,
   "id": "70cd0796",
   "metadata": {},
   "outputs": [
    {
     "ename": "NameError",
     "evalue": "name 'FileExistError' is not defined",
     "output_type": "error",
     "traceback": [
      "\u001b[1;31m---------------------------------------------------------------------------\u001b[0m",
      "\u001b[1;31mNameError\u001b[0m                                 Traceback (most recent call last)",
      "\u001b[1;32m<ipython-input-31-802acd65d2e3>\u001b[0m in \u001b[0;36m<module>\u001b[1;34m\u001b[0m\n\u001b[1;32m----> 1\u001b[1;33m \u001b[1;32mraise\u001b[0m \u001b[0mFileExistError\u001b[0m\u001b[1;33m(\u001b[0m\u001b[1;34m\"\"\u001b[0m\u001b[1;33m)\u001b[0m\u001b[1;33m\u001b[0m\u001b[1;33m\u001b[0m\u001b[0m\n\u001b[0m",
      "\u001b[1;31mNameError\u001b[0m: name 'FileExistError' is not defined"
     ]
    }
   ],
   "source": [
    "raise FileExistError(\"\")"
   ]
  },
  {
   "cell_type": "code",
   "execution_count": 34,
   "id": "2493bbae",
   "metadata": {},
   "outputs": [
    {
     "ename": "ZeroDivisionError",
     "evalue": "division by zero",
     "output_type": "error",
     "traceback": [
      "\u001b[1;31m---------------------------------------------------------------------------\u001b[0m",
      "\u001b[1;31mZeroDivisionError\u001b[0m                         Traceback (most recent call last)",
      "\u001b[1;32m<ipython-input-34-5120cdf27907>\u001b[0m in \u001b[0;36m<module>\u001b[1;34m\u001b[0m\n\u001b[1;32m----> 1\u001b[1;33m \u001b[0mx\u001b[0m \u001b[1;33m=\u001b[0m \u001b[1;36m7\u001b[0m\u001b[1;33m/\u001b[0m\u001b[1;36m0\u001b[0m\u001b[1;33m\u001b[0m\u001b[1;33m\u001b[0m\u001b[0m\n\u001b[0m",
      "\u001b[1;31mZeroDivisionError\u001b[0m: division by zero"
     ]
    }
   ],
   "source": [
    "x = 7/0"
   ]
  },
  {
   "cell_type": "code",
   "execution_count": 32,
   "id": "aae42147",
   "metadata": {},
   "outputs": [
    {
     "name": "stdout",
     "output_type": "stream",
     "text": [
      "division by zero\n"
     ]
    }
   ],
   "source": [
    "try :\n",
    "    x = 7/0\n",
    "    \n",
    "except Exception as e:\n",
    "    print(e)"
   ]
  },
  {
   "cell_type": "code",
   "execution_count": 35,
   "id": "dd7b615c",
   "metadata": {},
   "outputs": [
    {
     "name": "stdout",
     "output_type": "stream",
     "text": [
      "division by zero\n",
      "finally\n"
     ]
    }
   ],
   "source": [
    "try :\n",
    "    x = 7/0\n",
    "    \n",
    "except Exception as e:\n",
    "    print(e)\n",
    "\n",
    "finally :\n",
    "    print(\"finally\")"
   ]
  },
  {
   "cell_type": "code",
   "execution_count": 37,
   "id": "97d47c16",
   "metadata": {},
   "outputs": [
    {
     "name": "stdout",
     "output_type": "stream",
     "text": [
      "7\n"
     ]
    }
   ],
   "source": [
    "x = lambda x: x + 5\n",
    "\n",
    "print(x(2))"
   ]
  },
  {
   "cell_type": "code",
   "execution_count": 38,
   "id": "141ad7dd",
   "metadata": {},
   "outputs": [
    {
     "name": "stdout",
     "output_type": "stream",
     "text": [
      "34\n"
     ]
    }
   ],
   "source": [
    "x = lambda x, y: x + y\n",
    "\n",
    "print(x(2,32))"
   ]
  },
  {
   "cell_type": "code",
   "execution_count": 40,
   "id": "c3e12790",
   "metadata": {},
   "outputs": [
    {
     "name": "stdout",
     "output_type": "stream",
     "text": [
      "[2, 4, 8, 10, 6, 6, 42, 4, 626, 2, 46, 284]\n"
     ]
    }
   ],
   "source": [
    "x = [1,2,4,5,3,3,21,2,313,1,23,142]\n",
    "\n",
    "mp = map(lambda i: i * 2, x)\n",
    "\n",
    "print(list(mp))"
   ]
  },
  {
   "cell_type": "code",
   "execution_count": 46,
   "id": "cda0b7f0",
   "metadata": {},
   "outputs": [
    {
     "name": "stdout",
     "output_type": "stream",
     "text": [
      "[2, 4, 2, 142, 4]\n"
     ]
    }
   ],
   "source": [
    "x = [1,2,4,5,3,3,21,2,21,313,1,23,142,4]\n",
    "\n",
    "mp = filter(lambda i: i % 2 == 0, x)\n",
    "\n",
    "print(list(mp))"
   ]
  },
  {
   "cell_type": "code",
   "execution_count": 44,
   "id": "fdb3097f",
   "metadata": {},
   "outputs": [
    {
     "name": "stdout",
     "output_type": "stream",
     "text": [
      "[2, 4, 2, 142]\n"
     ]
    }
   ],
   "source": [
    "x = [1,2,4,5,3,3,21,2,313,1,23,142]\n",
    "\n",
    "def func(i):\n",
    "    i = i * 3\n",
    "    return i % 2 == 0\n",
    "\n",
    "mp = filter(lambda i: i % 2 == 0, x)\n",
    "\n",
    "print(list(mp))"
   ]
  },
  {
   "cell_type": "code",
   "execution_count": 47,
   "id": "4c1657bb",
   "metadata": {},
   "outputs": [
    {
     "name": "stdout",
     "output_type": "stream",
     "text": [
      "[2, 4, 2, 142]\n"
     ]
    }
   ],
   "source": [
    "x = [1,2,4,5,3,3,21,2,313,1,23,142]\n",
    "\n",
    "def func(i):\n",
    "    i = i * 3\n",
    "    return i % 2 == 0\n",
    "\n",
    "mp = filter(func, x)\n",
    "\n",
    "print(list(mp))"
   ]
  },
  {
   "cell_type": "code",
   "execution_count": 51,
   "id": "7ed79108",
   "metadata": {},
   "outputs": [
    {
     "name": "stdout",
     "output_type": "stream",
     "text": [
      "Hello 14 89 76\n",
      "Hello 89\n"
     ]
    }
   ],
   "source": [
    "tim = 89\n",
    "x = f\"Hello {6+8} {tim} {67+9}\"\n",
    "print(x)\n",
    "print(f\"Hello {tim}\")"
   ]
  },
  {
   "cell_type": "code",
   "execution_count": 52,
   "id": "c0c7cb0d",
   "metadata": {},
   "outputs": [
    {
     "name": "stdout",
     "output_type": "stream",
     "text": [
      "[2, 4, 2, 142]\n"
     ]
    }
   ],
   "source": [
    "x = [1,2,4,5,3,3,21,2,313,1,23,142]\n",
    "\n",
    "mp = filter(lambda i: i % 2 == 0, x)\n",
    "\n",
    "print(list(mp))"
   ]
  },
  {
   "cell_type": "code",
   "execution_count": null,
   "id": "a2fc3950",
   "metadata": {},
   "outputs": [],
   "source": []
  },
  {
   "cell_type": "code",
   "execution_count": 17,
   "id": "c981a647",
   "metadata": {},
   "outputs": [],
   "source": [
    "name = \"Bro Code\""
   ]
  },
  {
   "cell_type": "code",
   "execution_count": 18,
   "id": "5d7ee991",
   "metadata": {},
   "outputs": [
    {
     "name": "stdout",
     "output_type": "stream",
     "text": [
      "8\n"
     ]
    }
   ],
   "source": [
    "print(len(name))"
   ]
  },
  {
   "cell_type": "code",
   "execution_count": 19,
   "id": "e9e85c0d",
   "metadata": {},
   "outputs": [
    {
     "name": "stdout",
     "output_type": "stream",
     "text": [
      "2\n"
     ]
    }
   ],
   "source": [
    "print(name.find(\"o\"))"
   ]
  },
  {
   "cell_type": "code",
   "execution_count": 20,
   "id": "7b850433",
   "metadata": {},
   "outputs": [
    {
     "name": "stdout",
     "output_type": "stream",
     "text": [
      "Bro code\n"
     ]
    }
   ],
   "source": [
    "print(name.capitalize())"
   ]
  },
  {
   "cell_type": "code",
   "execution_count": 21,
   "id": "324fb8a7",
   "metadata": {},
   "outputs": [
    {
     "name": "stdout",
     "output_type": "stream",
     "text": [
      "BRO CODE\n"
     ]
    }
   ],
   "source": [
    "print(name.upper())"
   ]
  },
  {
   "cell_type": "code",
   "execution_count": 22,
   "id": "46e47a1a",
   "metadata": {},
   "outputs": [
    {
     "name": "stdout",
     "output_type": "stream",
     "text": [
      "bro code\n"
     ]
    }
   ],
   "source": [
    "print(name.lower())"
   ]
  },
  {
   "cell_type": "code",
   "execution_count": 23,
   "id": "d42d7ba3",
   "metadata": {},
   "outputs": [
    {
     "name": "stdout",
     "output_type": "stream",
     "text": [
      "False\n"
     ]
    }
   ],
   "source": [
    "print(name.isdigit())"
   ]
  },
  {
   "cell_type": "code",
   "execution_count": 24,
   "id": "88ef0700",
   "metadata": {},
   "outputs": [
    {
     "name": "stdout",
     "output_type": "stream",
     "text": [
      "False\n"
     ]
    }
   ],
   "source": [
    "print(name.isalpha())"
   ]
  },
  {
   "cell_type": "code",
   "execution_count": 25,
   "id": "c55c3407",
   "metadata": {},
   "outputs": [
    {
     "name": "stdout",
     "output_type": "stream",
     "text": [
      "0\n"
     ]
    }
   ],
   "source": [
    "print(name.count(\"b\"))"
   ]
  },
  {
   "cell_type": "code",
   "execution_count": 26,
   "id": "8d817e3b",
   "metadata": {},
   "outputs": [
    {
     "name": "stdout",
     "output_type": "stream",
     "text": [
      "Bra Cade\n"
     ]
    }
   ],
   "source": [
    "print(name.replace(\"o\",\"a\"))"
   ]
  },
  {
   "cell_type": "code",
   "execution_count": 27,
   "id": "ee8d4be8",
   "metadata": {},
   "outputs": [
    {
     "name": "stdout",
     "output_type": "stream",
     "text": [
      "Bro CodeBro CodeBro Code\n"
     ]
    }
   ],
   "source": [
    "print(name*3)"
   ]
  },
  {
   "cell_type": "code",
   "execution_count": 28,
   "id": "1e1085c3",
   "metadata": {},
   "outputs": [],
   "source": [
    "x = 1  #integer\n",
    "y = 2.0 #float\n",
    "z = \"30\"     #string"
   ]
  },
  {
   "cell_type": "code",
   "execution_count": 29,
   "id": "56208ee4",
   "metadata": {},
   "outputs": [],
   "source": [
    "x = str(x)\n",
    "y = str(y)\n",
    "z = str(z)"
   ]
  },
  {
   "cell_type": "code",
   "execution_count": 31,
   "id": "3e7c1346",
   "metadata": {},
   "outputs": [
    {
     "name": "stdout",
     "output_type": "stream",
     "text": [
      "1\n",
      "2.0\n",
      "303030\n"
     ]
    }
   ],
   "source": [
    "print(x)\n",
    "print(y)\n",
    "print(z*3)"
   ]
  },
  {
   "cell_type": "code",
   "execution_count": 32,
   "id": "85f38cde",
   "metadata": {},
   "outputs": [
    {
     "ename": "TypeError",
     "evalue": "can only concatenate str (not \"int\") to str",
     "output_type": "error",
     "traceback": [
      "\u001b[1;31m---------------------------------------------------------------------------\u001b[0m",
      "\u001b[1;31mTypeError\u001b[0m                                 Traceback (most recent call last)",
      "\u001b[1;32m<ipython-input-32-17b9a9561986>\u001b[0m in \u001b[0;36m<module>\u001b[1;34m\u001b[0m\n\u001b[1;32m----> 1\u001b[1;33m \u001b[0mprint\u001b[0m\u001b[1;33m(\u001b[0m\u001b[0mz\u001b[0m\u001b[1;33m+\u001b[0m\u001b[1;36m3\u001b[0m\u001b[1;33m)\u001b[0m\u001b[1;33m\u001b[0m\u001b[1;33m\u001b[0m\u001b[0m\n\u001b[0m",
      "\u001b[1;31mTypeError\u001b[0m: can only concatenate str (not \"int\") to str"
     ]
    }
   ],
   "source": [
    "print(z+3) # str ile int değerleri concatenate yapamayız."
   ]
  },
  {
   "cell_type": "code",
   "execution_count": 36,
   "id": "be70b6eb",
   "metadata": {},
   "outputs": [],
   "source": [
    "x = 1  #integer\n",
    "y = 2.0 #float\n",
    "z = \"30\"     #string"
   ]
  },
  {
   "cell_type": "code",
   "execution_count": 37,
   "id": "d4105f71",
   "metadata": {},
   "outputs": [],
   "source": [
    "x = int(x)\n",
    "y = int(y)\n",
    "z = int(z)"
   ]
  },
  {
   "cell_type": "code",
   "execution_count": 38,
   "id": "ca95bb28",
   "metadata": {},
   "outputs": [
    {
     "name": "stdout",
     "output_type": "stream",
     "text": [
      "1\n",
      "2\n",
      "33\n"
     ]
    }
   ],
   "source": [
    "print(x)\n",
    "print(y)\n",
    "print(z+3)"
   ]
  },
  {
   "cell_type": "code",
   "execution_count": 39,
   "id": "70ee3884",
   "metadata": {},
   "outputs": [
    {
     "ename": "TypeError",
     "evalue": "can only concatenate str (not \"int\") to str",
     "output_type": "error",
     "traceback": [
      "\u001b[1;31m---------------------------------------------------------------------------\u001b[0m",
      "\u001b[1;31mTypeError\u001b[0m                                 Traceback (most recent call last)",
      "\u001b[1;32m<ipython-input-39-2c950dcd6b47>\u001b[0m in \u001b[0;36m<module>\u001b[1;34m\u001b[0m\n\u001b[1;32m----> 1\u001b[1;33m \u001b[0mprint\u001b[0m\u001b[1;33m(\u001b[0m\u001b[1;34m\"3\"\u001b[0m\u001b[1;33m+\u001b[0m \u001b[0mx\u001b[0m\u001b[1;33m)\u001b[0m\u001b[1;33m\u001b[0m\u001b[1;33m\u001b[0m\u001b[0m\n\u001b[0m",
      "\u001b[1;31mTypeError\u001b[0m: can only concatenate str (not \"int\") to str"
     ]
    }
   ],
   "source": [
    "print(\"3\"+ x)  #tırnak içindeki ifade bir string değerdir."
   ]
  },
  {
   "cell_type": "code",
   "execution_count": 42,
   "id": "2db17dd6",
   "metadata": {},
   "outputs": [
    {
     "name": "stdout",
     "output_type": "stream",
     "text": [
      "What is your name?: Alex\n",
      "How old are you?: 35\n",
      "How tall are you?: 180\n"
     ]
    }
   ],
   "source": [
    "name = input(\"What is your name?: \")\n",
    "age = int(input(\"How old are you?: \"))\n",
    "height = float(input(\"How tall are you?: \"))"
   ]
  },
  {
   "cell_type": "code",
   "execution_count": 45,
   "id": "080dbbc0",
   "metadata": {},
   "outputs": [
    {
     "name": "stdout",
     "output_type": "stream",
     "text": [
      "Hello Alex\n",
      "You are 35 years old.\n",
      "You are 180.0 cm tall.\n"
     ]
    }
   ],
   "source": [
    "print(\"Hello \" + name)\n",
    "print(\"You are \" + str(age)+ \" years old.\")\n",
    "print(\"You are \" + str(height)+\" cm tall.\")"
   ]
  },
  {
   "cell_type": "code",
   "execution_count": 50,
   "id": "d045c33f",
   "metadata": {},
   "outputs": [
    {
     "name": "stdout",
     "output_type": "stream",
     "text": [
      "What is your name?: Bro\n"
     ]
    },
    {
     "data": {
      "text/plain": [
       "'Bro'"
      ]
     },
     "execution_count": 50,
     "metadata": {},
     "output_type": "execute_result"
    }
   ],
   "source": [
    "input(\"What is your name?: \")"
   ]
  },
  {
   "cell_type": "code",
   "execution_count": 51,
   "id": "7ecdfdca",
   "metadata": {},
   "outputs": [
    {
     "name": "stdout",
     "output_type": "stream",
     "text": [
      "What is your name?: Bro\n"
     ]
    }
   ],
   "source": [
    "name = input(\"What is your name?: \")"
   ]
  },
  {
   "cell_type": "code",
   "execution_count": 63,
   "id": "fdb1e0b6",
   "metadata": {},
   "outputs": [
    {
     "name": "stdout",
     "output_type": "stream",
     "text": [
      "hello Bro\n"
     ]
    }
   ],
   "source": [
    "print(\"hello\", name)"
   ]
  },
  {
   "cell_type": "code",
   "execution_count": 62,
   "id": "072c2155",
   "metadata": {},
   "outputs": [
    {
     "name": "stdout",
     "output_type": "stream",
     "text": [
      "hello Bro\n"
     ]
    }
   ],
   "source": [
    "print(\"hello \" + name)"
   ]
  },
  {
   "cell_type": "code",
   "execution_count": 73,
   "id": "2ed67dbb",
   "metadata": {},
   "outputs": [],
   "source": [
    "pi = 3.14\n",
    "x = 1\n",
    "y = 2\n",
    "z = 3"
   ]
  },
  {
   "cell_type": "code",
   "execution_count": 74,
   "id": "6c8343ff",
   "metadata": {},
   "outputs": [],
   "source": [
    "import math"
   ]
  },
  {
   "cell_type": "code",
   "execution_count": 75,
   "id": "e481550c",
   "metadata": {},
   "outputs": [
    {
     "name": "stdout",
     "output_type": "stream",
     "text": [
      "3\n",
      "4\n",
      "3\n",
      "3.14\n",
      "9.8596\n",
      "20.493901531919196\n",
      "3\n"
     ]
    }
   ],
   "source": [
    "print(round(pi))\n",
    "print(math.ceil(pi))\n",
    "print(math.floor(pi))\n",
    "print(abs(pi))\n",
    "print(pow(pi,2))\n",
    "print(math.sqrt(420))\n",
    "print(max(x,y,z))"
   ]
  },
  {
   "cell_type": "code",
   "execution_count": 70,
   "id": "469a7e78",
   "metadata": {},
   "outputs": [],
   "source": [
    "pi = -3.14\n",
    "x = 1\n",
    "y = 2\n",
    "z = 3"
   ]
  },
  {
   "cell_type": "code",
   "execution_count": 76,
   "id": "123ae268",
   "metadata": {},
   "outputs": [
    {
     "name": "stdout",
     "output_type": "stream",
     "text": [
      "3\n",
      "4\n",
      "3.14\n",
      "30.959144000000002\n",
      "20.493901531919196\n",
      "3\n"
     ]
    }
   ],
   "source": [
    "print(round(pi))     # en yakın integer sayıya yuvarlar.\n",
    "print(math.ceil(pi)) # yukarı en yakın integer sayıya yuvarlar.\n",
    "print(abs(pi))       # Return the absolute value of a number\n",
    "print(pow(pi,3))     # The pow() function returns the value of x to the power of y (xy).\n",
    "print(math.sqrt(420))\n",
    "print(max(x,y,z))"
   ]
  },
  {
   "cell_type": "code",
   "execution_count": 85,
   "id": "0c23d161",
   "metadata": {},
   "outputs": [
    {
     "name": "stdout",
     "output_type": "stream",
     "text": [
      "BoCd Br edoC orB\n"
     ]
    }
   ],
   "source": [
    "name = \"Bro Code\"\n",
    "\n",
    "first_name = name[::2]\n",
    "last_name = name[0:2:]\n",
    "reversed_name = name[::-1]\n",
    "print(first_name, last_name, reversed_name)\n"
   ]
  },
  {
   "cell_type": "code",
   "execution_count": 6,
   "id": "082611a9",
   "metadata": {},
   "outputs": [],
   "source": [
    "website1 = \"http://google.com\"\n",
    "website2 = \"http://wikipedia.com\""
   ]
  },
  {
   "cell_type": "code",
   "execution_count": 8,
   "id": "e1e02cff",
   "metadata": {},
   "outputs": [
    {
     "name": "stdout",
     "output_type": "stream",
     "text": [
      "google\n",
      "wikipedia\n"
     ]
    }
   ],
   "source": [
    "sliced = slice(7,-4)  # The slice() function returns a slice object.A slice object is used to specify how to slice a sequence. slice(start, end, step)\n",
    "print(website1[sliced])\n",
    "print(website2[sliced])"
   ]
  },
  {
   "cell_type": "code",
   "execution_count": 16,
   "id": "8984ed6c",
   "metadata": {},
   "outputs": [
    {
     "name": "stdout",
     "output_type": "stream",
     "text": [
      "How old are you? 100\n",
      "You are an adult!\n"
     ]
    }
   ],
   "source": [
    "#if statement = a block of code that will execute if its condition is true.\n",
    "\n",
    "age = int(input(\"How old are you? \"))\n",
    "\n",
    "\n",
    "if age >= 18: \n",
    "    print(\"You are an adult!\")    \n",
    "    \n",
    "elif age == 100:                         # 100 girdiğimizde bunu yazdırmadığından bunu ilk condition olarak alıyoruz aşağıdaki gibi.\n",
    "    print(\"You are a century old!\")\n",
    "\n",
    "elif age < 0:\n",
    "    print(\"You have not been born yet!\")\n",
    "\n",
    "else :\n",
    "    print(\"You are a child!\")"
   ]
  },
  {
   "cell_type": "code",
   "execution_count": 15,
   "id": "80318628",
   "metadata": {},
   "outputs": [
    {
     "name": "stdout",
     "output_type": "stream",
     "text": [
      "How old are you? 100\n",
      "You are a century old!\n"
     ]
    }
   ],
   "source": [
    "#if statement = a block of code that will execute if its condition is true.\n",
    "\n",
    "age = int(input(\"How old are you? \"))\n",
    "\n",
    "\n",
    "if age == 100:\n",
    "    print(\"You are a century old!\")\n",
    "    \n",
    "elif age >= 18:\n",
    "    print(\"You are an adult!\")\n",
    "\n",
    "elif age < 0:\n",
    "    print(\"You have not been born yet!\")\n",
    "\n",
    "else :\n",
    "    print(\"You are a child!\")"
   ]
  },
  {
   "cell_type": "code",
   "execution_count": null,
   "id": "b9515c6e",
   "metadata": {},
   "outputs": [],
   "source": [
    "# logical operator (not, and ,or ) = is used to check two or more conditional statement"
   ]
  },
  {
   "cell_type": "code",
   "execution_count": 18,
   "id": "83f5ff8d",
   "metadata": {},
   "outputs": [
    {
     "name": "stdout",
     "output_type": "stream",
     "text": [
      "What is the temperature outside?: -20\n",
      "The temperature is bad today.\n",
      "stay inside.\n"
     ]
    }
   ],
   "source": [
    "temp = int(input(\"What is the temperature outside?: \"))\n",
    "\n",
    "if temp >= 0 and temp <= 30:\n",
    "    print(\"The temperature is good today.\")\n",
    "    print(\"go outside.\")\n",
    "    \n",
    "elif temp < 0 or temp >30:\n",
    "    print(\"The temperature is bad today.\")\n",
    "    print(\"stay inside.\")"
   ]
  },
  {
   "cell_type": "code",
   "execution_count": 19,
   "id": "68e3b1e2",
   "metadata": {},
   "outputs": [
    {
     "name": "stdout",
     "output_type": "stream",
     "text": [
      "What is the temperature outside?: -20\n",
      "The temperature is good today.\n",
      "go outside.\n"
     ]
    }
   ],
   "source": [
    "temp = int(input(\"What is the temperature outside?: \"))\n",
    "\n",
    "if not(temp >= 0 and temp <= 30):           #yukarıdakinden farklı olarak not ilave ettik.\n",
    "    print(\"The temperature is good today.\")\n",
    "    print(\"go outside.\")\n",
    "    \n",
    "elif not(temp < 0 or temp >30):\n",
    "    print(\"The temperature is bad today.\")\n",
    "    print(\"stay inside.\")"
   ]
  },
  {
   "cell_type": "code",
   "execution_count": null,
   "id": "64aa8e8d",
   "metadata": {},
   "outputs": [],
   "source": [
    "# while loop = a statement that will execute its block of code, as long as its condition remains true.\n",
    "\n",
    "while 1==1:\n",
    "    print(\"Help!I am stuck in loop!\")"
   ]
  },
  {
   "cell_type": "code",
   "execution_count": 21,
   "id": "cab78000",
   "metadata": {},
   "outputs": [
    {
     "name": "stdout",
     "output_type": "stream",
     "text": [
      "Enter your name: alyans\n",
      "Hello alyans\n"
     ]
    }
   ],
   "source": [
    "name = \"\"\n",
    "\n",
    "while len(name) == 0:\n",
    "    name = input(\"Enter your name: \")\n",
    "    \n",
    "print(\"Hello \" + name)"
   ]
  },
  {
   "cell_type": "code",
   "execution_count": null,
   "id": "6951cd3e",
   "metadata": {},
   "outputs": [],
   "source": [
    "# for loop = a statement that will execute its block of code, a limited amount of time.\n",
    "\n",
    "## for loop = limited\n",
    "\n",
    "## while loop = unlimited\n"
   ]
  },
  {
   "cell_type": "code",
   "execution_count": 2,
   "id": "6a4daf78",
   "metadata": {},
   "outputs": [],
   "source": [
    "import time"
   ]
  },
  {
   "cell_type": "code",
   "execution_count": 3,
   "id": "b8b72b27",
   "metadata": {},
   "outputs": [
    {
     "name": "stdout",
     "output_type": "stream",
     "text": [
      "1\n",
      "2\n",
      "3\n",
      "4\n",
      "5\n"
     ]
    }
   ],
   "source": [
    "for i in range(5):\n",
    "    print(i+1)"
   ]
  },
  {
   "cell_type": "code",
   "execution_count": 4,
   "id": "29ee58b7",
   "metadata": {},
   "outputs": [
    {
     "name": "stdout",
     "output_type": "stream",
     "text": [
      "50\n",
      "52\n",
      "54\n"
     ]
    }
   ],
   "source": [
    "for i in range(50,55+1,2):\n",
    "    print(i)"
   ]
  },
  {
   "cell_type": "code",
   "execution_count": 5,
   "id": "802d31a1",
   "metadata": {},
   "outputs": [
    {
     "name": "stdout",
     "output_type": "stream",
     "text": [
      "C\n",
      "C1\n",
      "l\n",
      "l1\n",
      "a\n",
      "a1\n",
      "r\n",
      "r1\n",
      "u\n",
      "u1\n",
      "s\n",
      "s1\n",
      "w\n",
      "w1\n",
      "a\n",
      "a1\n",
      "y\n",
      "y1\n"
     ]
    }
   ],
   "source": [
    "for i in \"Clarusway\":\n",
    "    print(i)\n",
    "    print(i+\"1\")"
   ]
  },
  {
   "cell_type": "code",
   "execution_count": 9,
   "id": "1b68e1f2",
   "metadata": {},
   "outputs": [
    {
     "name": "stdout",
     "output_type": "stream",
     "text": [
      "10\n",
      "9\n",
      "8\n",
      "7\n",
      "6\n",
      "5\n",
      "4\n",
      "3\n",
      "2\n",
      "1\n",
      "İyi ki doğdun NEŞEMMMMMM!!!!\n"
     ]
    }
   ],
   "source": [
    "for seconds in range(10,0,-1):\n",
    "    print(seconds)\n",
    "    time.sleep(1)\n",
    "    \n",
    "print(\"İyi ki doğdun NEŞEMMMMMM!!!!\")"
   ]
  },
  {
   "cell_type": "code",
   "execution_count": 4,
   "id": "2c276e95",
   "metadata": {},
   "outputs": [
    {
     "name": "stdout",
     "output_type": "stream",
     "text": [
      "How many rows?: 5\n",
      "How many columns?: 4\n",
      "Enter a symbol to use: *\n",
      "****\n",
      "****\n",
      "****\n",
      "****\n",
      "****\n"
     ]
    }
   ],
   "source": [
    "# nested loops = The inner loop will finish all of its iterations before finishing one iteration of the outer loop.\n",
    "\n",
    "rows = int(input(\"How many rows?: \"))\n",
    "columns = int(input(\"How many columns?: \"))\n",
    "symbol = input(\"Enter a symbol to use: \")\n",
    "\n",
    "for i in range(rows):              # outer loop          \n",
    "    for j in range(columns):       # inner loop\n",
    "        print(symbol, end=\"\")\n",
    "    print()\n",
    "    \n",
    "   # 00 01 02 03 04           # ilk önce outer loop ilk iterable ile sırasıyla inner loop tüm iterable ları döngüye sokulur. Sonra diğerleri devam eder.\n",
    "   # 10 11 12 13 14\n",
    "   # 20 21 22 23 24\n",
    "   # 30 31 32 33 34\n",
    "   # 40 41 42 43 44"
   ]
  },
  {
   "cell_type": "code",
   "execution_count": null,
   "id": "0654b117",
   "metadata": {},
   "outputs": [],
   "source": [
    "# loop control statements = change a loops execution from its normal sequence\n",
    "\n",
    "# break = used to terminate the loop entirely.\n",
    "# continue = skips to the next iteration of the loop.\n",
    "# pass = does nothing, acts as a placeholder."
   ]
  },
  {
   "cell_type": "code",
   "execution_count": 2,
   "id": "c3c692a8",
   "metadata": {},
   "outputs": [
    {
     "name": "stdout",
     "output_type": "stream",
     "text": [
      "Enter your name: ali\n"
     ]
    }
   ],
   "source": [
    "while True:\n",
    "    name = input(\"Enter your name: \")\n",
    "    if name != \"\":\n",
    "        break"
   ]
  },
  {
   "cell_type": "code",
   "execution_count": 3,
   "id": "930aff52",
   "metadata": {},
   "outputs": [
    {
     "name": "stdout",
     "output_type": "stream",
     "text": [
      "1234567890"
     ]
    }
   ],
   "source": [
    "phone_number = \"123-456-7890\"\n",
    "\n",
    "for i in phone_number:\n",
    "    if i == \"-\":\n",
    "        continue\n",
    "    print(i, end=\"\")\n",
    "        "
   ]
  },
  {
   "cell_type": "code",
   "execution_count": 8,
   "id": "82a658c3",
   "metadata": {},
   "outputs": [
    {
     "name": "stdout",
     "output_type": "stream",
     "text": [
      "1\n",
      "3\n",
      "5\n",
      "7\n",
      "9\n",
      "11\n",
      "13\n",
      "15\n",
      "17\n",
      "19\n"
     ]
    }
   ],
   "source": [
    "for i in range(1,21):\n",
    "    \n",
    "    if (i % 2 == 0):\n",
    "        pass\n",
    "    else:\n",
    "        print(i)"
   ]
  },
  {
   "cell_type": "code",
   "execution_count": null,
   "id": "dfa90532",
   "metadata": {},
   "outputs": [],
   "source": [
    "# list = used to store multiple items in a single variable."
   ]
  },
  {
   "cell_type": "code",
   "execution_count": 13,
   "id": "806ecbe1",
   "metadata": {},
   "outputs": [
    {
     "name": "stdout",
     "output_type": "stream",
     "text": [
      "['sushi', 'hamburger', 'hotdog', 'spaghetti', 'pudding']\n"
     ]
    }
   ],
   "source": [
    "food = [\"pizza\", \"hamburger\", \"hotdog\", \"spaghetti\",\"pudding\"]\n",
    "\n",
    "food[0] = \"sushi\" # list in ilk iterable ın yerine bu değeri atıyor.\n",
    "\n",
    "print(food[:])"
   ]
  },
  {
   "cell_type": "code",
   "execution_count": 16,
   "id": "2422a210",
   "metadata": {},
   "outputs": [
    {
     "ename": "ValueError",
     "evalue": "list.remove(x): x not in list",
     "output_type": "error",
     "traceback": [
      "\u001b[1;31m---------------------------------------------------------------------------\u001b[0m",
      "\u001b[1;31mValueError\u001b[0m                                Traceback (most recent call last)",
      "\u001b[1;32m<ipython-input-16-6d5317182d92>\u001b[0m in \u001b[0;36m<module>\u001b[1;34m\u001b[0m\n\u001b[0;32m      1\u001b[0m \u001b[0mfood\u001b[0m\u001b[1;33m.\u001b[0m\u001b[0mappend\u001b[0m\u001b[1;33m(\u001b[0m\u001b[1;34m\"ice cream\"\u001b[0m\u001b[1;33m)\u001b[0m\u001b[1;33m\u001b[0m\u001b[1;33m\u001b[0m\u001b[0m\n\u001b[1;32m----> 2\u001b[1;33m \u001b[0mfood\u001b[0m\u001b[1;33m.\u001b[0m\u001b[0mremove\u001b[0m\u001b[1;33m(\u001b[0m\u001b[1;34m\"hotdog\"\u001b[0m\u001b[1;33m)\u001b[0m\u001b[1;33m\u001b[0m\u001b[1;33m\u001b[0m\u001b[0m\n\u001b[0m\u001b[0;32m      3\u001b[0m \u001b[0mfood\u001b[0m\u001b[1;33m.\u001b[0m\u001b[0mpop\u001b[0m\u001b[1;33m(\u001b[0m\u001b[1;33m)\u001b[0m\u001b[1;33m\u001b[0m\u001b[1;33m\u001b[0m\u001b[0m\n\u001b[0;32m      4\u001b[0m \u001b[0mfood\u001b[0m\u001b[1;33m.\u001b[0m\u001b[0minsert\u001b[0m\u001b[1;33m(\u001b[0m\u001b[1;36m0\u001b[0m\u001b[1;33m,\u001b[0m\u001b[1;34m\"cake\"\u001b[0m\u001b[1;33m)\u001b[0m\u001b[1;33m\u001b[0m\u001b[1;33m\u001b[0m\u001b[0m\n\u001b[0;32m      5\u001b[0m \u001b[0mfood\u001b[0m\u001b[1;33m.\u001b[0m\u001b[0msort\u001b[0m\u001b[1;33m(\u001b[0m\u001b[1;33m)\u001b[0m\u001b[1;33m\u001b[0m\u001b[1;33m\u001b[0m\u001b[0m\n",
      "\u001b[1;31mValueError\u001b[0m: list.remove(x): x not in list"
     ]
    }
   ],
   "source": [
    "food.append(\"ice cream\")\n",
    "food.remove(\"hotdog\")\n",
    "food.pop()\n",
    "food.insert(0,\"cake\")\n",
    "food.sort()\n",
    "food.clear()\n",
    "\n",
    "for x in food :\n",
    "    print(x)"
   ]
  },
  {
   "cell_type": "code",
   "execution_count": 11,
   "id": "33561b2d",
   "metadata": {},
   "outputs": [],
   "source": [
    "# 2D Lists = a list of lists"
   ]
  },
  {
   "cell_type": "code",
   "execution_count": 12,
   "id": "161835dd",
   "metadata": {},
   "outputs": [
    {
     "name": "stdout",
     "output_type": "stream",
     "text": [
      "[['pizza', 'hamburger', 'hotdog', 'spaghetti', 'pudding'], ['pizza', 'hamburger', 'hotdog', 'spaghetti', 'pudding']]\n"
     ]
    }
   ],
   "source": [
    "food = [\"pizza\", \"hamburger\", \"hotdog\", \"spaghetti\",\"pudding\"]\n",
    "food = [\"pizza\", \"hamburger\", \"hotdog\", \"spaghetti\",\"pudding\"]\n",
    "\n",
    "food = [food,food]\n",
    "print(food)"
   ]
  },
  {
   "cell_type": "code",
   "execution_count": 13,
   "id": "de264592",
   "metadata": {},
   "outputs": [
    {
     "name": "stdout",
     "output_type": "stream",
     "text": [
      "hotdog\n"
     ]
    }
   ],
   "source": [
    "print(food[1][2])"
   ]
  },
  {
   "cell_type": "code",
   "execution_count": null,
   "id": "5d625acb",
   "metadata": {},
   "outputs": [],
   "source": [
    "# tuple = collection which is ordered and unchangable used to group together related data."
   ]
  },
  {
   "cell_type": "code",
   "execution_count": 14,
   "id": "66c8d63c",
   "metadata": {},
   "outputs": [
    {
     "name": "stdout",
     "output_type": "stream",
     "text": [
      "1\n",
      "2\n"
     ]
    }
   ],
   "source": [
    "student = (\"Bro\", 21, \"Male\")\n",
    "\n",
    "print(student.count(\"Bro\"))\n",
    "print(student.index(\"Male\"))"
   ]
  },
  {
   "cell_type": "code",
   "execution_count": 15,
   "id": "cb9cc8b5",
   "metadata": {},
   "outputs": [
    {
     "name": "stdout",
     "output_type": "stream",
     "text": [
      "Bro\n",
      "21\n",
      "Male\n"
     ]
    }
   ],
   "source": [
    "for x in student :\n",
    "    print(x)"
   ]
  },
  {
   "cell_type": "code",
   "execution_count": 16,
   "id": "df3b23cb",
   "metadata": {},
   "outputs": [
    {
     "name": "stdout",
     "output_type": "stream",
     "text": [
      "Bro is here\n"
     ]
    }
   ],
   "source": [
    "if \"Bro\" in student :\n",
    "    print(\"Bro is here\")"
   ]
  },
  {
   "cell_type": "code",
   "execution_count": null,
   "id": "4f21231f",
   "metadata": {},
   "outputs": [],
   "source": [
    "# set = collection which is unordered, unindexed. No duplicate values"
   ]
  },
  {
   "cell_type": "code",
   "execution_count": 20,
   "id": "09dfc62b",
   "metadata": {},
   "outputs": [],
   "source": [
    "utensils = {\"fork\", \"spoon\", \"knife\",\"knife\",\"knife\"}  # aynı olan itemlar bir kez yazılır.\n",
    "\n",
    "utensils.add(\"napkin\")    # add func içindeki değeri ilave eder.\n",
    "utensils.remove(\"fork\")\n",
    "utensils.clear()         # clear func içine değer almaz tüm değerleri temizler.\n",
    "for x in utensils :\n",
    "    print(x)"
   ]
  },
  {
   "cell_type": "code",
   "execution_count": 26,
   "id": "0b3e2f35",
   "metadata": {},
   "outputs": [
    {
     "name": "stdout",
     "output_type": "stream",
     "text": [
      "{'knife', 'spoon', 'fork'}\n",
      "{'plate', 'cup', 'bowl'}\n",
      "set()\n",
      "knife\n",
      "fork\n",
      "bowl\n",
      "cup\n",
      "plate\n",
      "spoon\n"
     ]
    }
   ],
   "source": [
    "utensils = {\"fork\", \"spoon\", \"knife\",\"knife\",\"knife\"}  # aynı olan itemlar bir kez yazılır.\n",
    "dishes = {\"bowl\",\"plate\",\"cup\"}\n",
    "\n",
    "dinner_table = utensils.union(dishes)\n",
    "\n",
    "print(utensils.difference(dishes))\n",
    "print(dishes.difference(utensils))\n",
    "print(utensils.intersection(dishes))\n",
    "\n",
    "for x in dinner_table :\n",
    "    print(x)"
   ]
  },
  {
   "cell_type": "code",
   "execution_count": null,
   "id": "3c13a699",
   "metadata": {},
   "outputs": [],
   "source": [
    "# dictionary = A changeable, unordered collection unique key: value pairs Fast because they use hashing, allow us to access a value quickly"
   ]
  },
  {
   "cell_type": "code",
   "execution_count": null,
   "id": "1576ef3d",
   "metadata": {},
   "outputs": [],
   "source": []
  },
  {
   "cell_type": "code",
   "execution_count": null,
   "id": "8a3222fa",
   "metadata": {},
   "outputs": [],
   "source": []
  },
  {
   "cell_type": "code",
   "execution_count": null,
   "id": "d52e6900",
   "metadata": {},
   "outputs": [],
   "source": []
  },
  {
   "cell_type": "code",
   "execution_count": null,
   "id": "87609a49",
   "metadata": {},
   "outputs": [],
   "source": []
  },
  {
   "cell_type": "code",
   "execution_count": null,
   "id": "9c166e81",
   "metadata": {},
   "outputs": [],
   "source": []
  }
 ],
 "metadata": {
  "kernelspec": {
   "display_name": "Python 3",
   "language": "python",
   "name": "python3"
  },
  "language_info": {
   "codemirror_mode": {
    "name": "ipython",
    "version": 3
   },
   "file_extension": ".py",
   "mimetype": "text/x-python",
   "name": "python",
   "nbconvert_exporter": "python",
   "pygments_lexer": "ipython3",
   "version": "3.8.8"
  }
 },
 "nbformat": 4,
 "nbformat_minor": 5
}
