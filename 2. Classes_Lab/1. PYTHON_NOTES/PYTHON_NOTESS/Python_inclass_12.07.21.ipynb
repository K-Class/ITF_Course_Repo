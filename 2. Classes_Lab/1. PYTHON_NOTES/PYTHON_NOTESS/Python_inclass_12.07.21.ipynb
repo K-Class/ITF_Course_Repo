{
 "cells": [
  {
   "cell_type": "code",
   "execution_count": 14,
   "id": "c2b84a60",
   "metadata": {},
   "outputs": [
    {
     "name": "stdout",
     "output_type": "stream",
     "text": [
      "3\n"
     ]
    }
   ],
   "source": [
    "numbers = [1, 3, 7, 4, 3, 0, 3, 6, 3]\n",
    "def mstfrqent(numbers): \n",
    "  counter = 0\n",
    "  num = numbers[0] \n",
    "\n",
    "  for i in numbers: \n",
    "    curr_frequency = numbers.count(i) \n",
    "\n",
    "  return i\n",
    "\n",
    "\n",
    "print(mstfrqent(numbers))"
   ]
  },
  {
   "cell_type": "code",
   "execution_count": 60,
   "id": "a88fd97b",
   "metadata": {},
   "outputs": [
    {
     "name": "stdout",
     "output_type": "stream",
     "text": [
      "Counter({3: 4, 1: 1, 7: 1, 4: 1, 0: 1, 6: 1})\n"
     ]
    }
   ],
   "source": [
    "#from collections import Counter\n",
    "\n",
    "numbers = [1, 3, 7, 4, 3, 0, 3, 6, 3] \n",
    "print(Counter(numbers))\n",
    "\n",
    "#print(f\"the most frequent number is {c\"3\"].keys()} and it was {c[\"3\"].values()} times repeated\") # the one most common element... 2 would mean the 2 most common\n"
   ]
  },
  {
   "cell_type": "code",
   "execution_count": 36,
   "id": "a67d124b",
   "metadata": {},
   "outputs": [
    {
     "name": "stdout",
     "output_type": "stream",
     "text": [
      "{1: 'one', 'two': 2, False: [1, 2, 3]}\n"
     ]
    }
   ],
   "source": [
    "first_dict = {1:\"one\", \"two\" : 2, False: [1, 2, 3]}\n",
    "print(first_dict)"
   ]
  },
  {
   "cell_type": "code",
   "execution_count": 91,
   "id": "a50bc11a",
   "metadata": {},
   "outputs": [
    {
     "data": {
      "text/plain": [
       "{1: 1, 3: 4, 7: 1, 4: 1, 0: 1, 6: 1}"
      ]
     },
     "execution_count": 91,
     "metadata": {},
     "output_type": "execute_result"
    }
   ],
   "source": [
    "from collections import Counter\n",
    "numbers = [1, 3, 7, 4, 3, 0, 3, 6, 3]\n",
    "c = Counter(numbers)\n",
    "dict(c)\n",
    "#print(c[3].keys())\n"
   ]
  },
  {
   "cell_type": "code",
   "execution_count": 96,
   "id": "7aa6cdbd",
   "metadata": {},
   "outputs": [
    {
     "data": {
      "text/plain": [
       "[1, 4, 1, 1, 1, 1]"
      ]
     },
     "execution_count": 96,
     "metadata": {},
     "output_type": "execute_result"
    }
   ],
   "source": [
    "v=list(c.values())\n",
    "v"
   ]
  },
  {
   "cell_type": "code",
   "execution_count": 99,
   "id": "2de8eb16",
   "metadata": {},
   "outputs": [
    {
     "ename": "IndexError",
     "evalue": "Replacement index 1 out of range for positional args tuple",
     "output_type": "error",
     "traceback": [
      "\u001b[1;31m---------------------------------------------------------------------------\u001b[0m",
      "\u001b[1;31mIndexError\u001b[0m                                Traceback (most recent call last)",
      "\u001b[1;32m<ipython-input-99-a3b12877652f>\u001b[0m in \u001b[0;36m<module>\u001b[1;34m\u001b[0m\n\u001b[1;32m----> 1\u001b[1;33m \u001b[0mprint\u001b[0m\u001b[1;33m(\u001b[0m\u001b[1;34m\"the most frequent number is {} and it was {} times repeated.\"\u001b[0m\u001b[1;33m.\u001b[0m\u001b[0mformat\u001b[0m\u001b[1;33m(\u001b[0m\u001b[0mk\u001b[0m\u001b[1;33m[\u001b[0m\u001b[1;36m1\u001b[0m\u001b[1;33m]\u001b[0m\u001b[1;33m)\u001b[0m\u001b[1;33m)\u001b[0m\u001b[1;33m\u001b[0m\u001b[1;33m\u001b[0m\u001b[0m\n\u001b[0m",
      "\u001b[1;31mIndexError\u001b[0m: Replacement index 1 out of range for positional args tuple"
     ]
    }
   ],
   "source": [
    "print(f\"the most frequent number is {k} and it was {} times repeated.\")"
   ]
  },
  {
   "cell_type": "code",
   "execution_count": 2,
   "id": "d42ffac9",
   "metadata": {},
   "outputs": [
    {
     "ename": "TypeError",
     "evalue": "unhashable type: 'list'",
     "output_type": "error",
     "traceback": [
      "\u001b[1;31m---------------------------------------------------------------------------\u001b[0m",
      "\u001b[1;31mTypeError\u001b[0m                                 Traceback (most recent call last)",
      "\u001b[1;32m<ipython-input-2-f21dd405c5c6>\u001b[0m in \u001b[0;36m<module>\u001b[1;34m\u001b[0m\n\u001b[1;32m----> 1\u001b[1;33m \u001b[0msecond_dict\u001b[0m \u001b[1;33m=\u001b[0m \u001b[1;33m{\u001b[0m\u001b[1;33m[\u001b[0m\u001b[1;36m1\u001b[0m\u001b[1;33m,\u001b[0m \u001b[1;36m2\u001b[0m\u001b[1;33m,\u001b[0m \u001b[1;36m3\u001b[0m\u001b[1;33m]\u001b[0m \u001b[1;33m:\u001b[0m \u001b[1;34m\"liste\"\u001b[0m\u001b[1;33m,\u001b[0m \u001b[1;34m\"clarus\"\u001b[0m\u001b[1;33m:\u001b[0m\u001b[1;34m\"the best\"\u001b[0m\u001b[1;33m}\u001b[0m\u001b[1;33m\u001b[0m\u001b[1;33m\u001b[0m\u001b[0m\n\u001b[0m\u001b[0;32m      2\u001b[0m \u001b[0mprint\u001b[0m\u001b[1;33m(\u001b[0m\u001b[0msecond_dict\u001b[0m\u001b[1;33m)\u001b[0m\u001b[1;33m\u001b[0m\u001b[1;33m\u001b[0m\u001b[0m\n",
      "\u001b[1;31mTypeError\u001b[0m: unhashable type: 'list'"
     ]
    }
   ],
   "source": [
    "second_dict = {[1, 2, 3] : \"liste\", \"clarus\":\"the best\"}\n",
    "print(second_dict)"
   ]
  },
  {
   "cell_type": "code",
   "execution_count": 4,
   "id": "037f747d",
   "metadata": {},
   "outputs": [
    {
     "data": {
      "text/plain": [
       "{(1, 2, 3): 'liste', 'clarus': 'the best'}"
      ]
     },
     "execution_count": 4,
     "metadata": {},
     "output_type": "execute_result"
    }
   ],
   "source": [
    "third_dict = {(1, 2, 3) : \"liste\", \"clarus\" : \"the best\"}\n",
    "third_dict"
   ]
  },
  {
   "cell_type": "code",
   "execution_count": 8,
   "id": "cc51a6e2",
   "metadata": {},
   "outputs": [
    {
     "name": "stdout",
     "output_type": "stream",
     "text": [
      "elma\n",
      "armut\n"
     ]
    }
   ],
   "source": [
    "liste = [\"elma\", \"armut\"]\n",
    "for x in liste:\n",
    "  print(x)"
   ]
  },
  {
   "cell_type": "code",
   "execution_count": 106,
   "id": "57b49e9d",
   "metadata": {},
   "outputs": [
    {
     "name": "stdout",
     "output_type": "stream",
     "text": [
      "the most frequent number 3 and it was 4 times repeated.\n"
     ]
    }
   ],
   "source": [
    "numbers = [1, 3, 7, 4, 3, 0, 3, 6, 3]\n",
    "max = 0\n",
    "value = None\n",
    "for x in numbers:\n",
    "    if numbers.count(x) > max:\n",
    "        max = numbers.count(x)\n",
    "        val = x\n",
    "print(f\"the most frequent number {val} and it was {max} times repeated.\")"
   ]
  },
  {
   "cell_type": "code",
   "execution_count": 10,
   "id": "1178bbdb",
   "metadata": {},
   "outputs": [],
   "source": []
  },
  {
   "cell_type": "code",
   "execution_count": null,
   "id": "34256d84",
   "metadata": {},
   "outputs": [],
   "source": [
    "word = input(\"enter a word:\")\n",
    "word = set(word)\n",
    "word       \n",
    "   "
   ]
  },
  {
   "cell_type": "code",
   "execution_count": null,
   "id": "53d1b843",
   "metadata": {},
   "outputs": [],
   "source": [
    "word = input(\"enter a word:\")\n",
    "word = set(word)\n",
    "wordword = input(\"enter a word:\")\n",
    "word = set(word)\n",
    "print(type(word))"
   ]
  },
  {
   "cell_type": "code",
   "execution_count": 9,
   "id": "d5ae70d9",
   "metadata": {},
   "outputs": [
    {
     "name": "stdout",
     "output_type": "stream",
     "text": [
      "enter a word:tester\n",
      "False\n"
     ]
    }
   ],
   "source": [
    "word = input(\"enter a word:\")\n",
    "word = set(word)\n",
    "right = {\"y\",\"u\",\"i\",\"o\",\"p\",\"h\",\"j\",\"k\",\"l\",\"n\",\"m\"}\n",
    "left = {\"q\",\"w\",\"e\",\"r\",\"t\",\"a\",\"s\",\"d\",\"f\",\"g\",\"z\",\"x\",\"c\",\"v\",\"b\"}\n",
    "print((word & left) != set() and (word & right)!=set())"
   ]
  },
  {
   "cell_type": "code",
   "execution_count": 129,
   "id": "573849d4",
   "metadata": {},
   "outputs": [
    {
     "name": "stdout",
     "output_type": "stream",
     "text": [
      "enter your first name please(john etc...):john\n",
      "enter your first name please(john etc...):john\n",
      "Hello, John! The password is : W@12\n"
     ]
    }
   ],
   "source": [
    "name = input(\"enter your first name please(john etc...):\")\n",
    "your_name = input(\"enter your first name please(john etc...):\")\n",
    "if name == your_name :\n",
    "    print(f\"Hello, {name.capitalize()}! The password is : W@12\")\n",
    "else: print(f\"Hello, {name.capitalize()}! See you later.\")"
   ]
  },
  {
   "cell_type": "code",
   "execution_count": 135,
   "id": "7f0f246c",
   "metadata": {},
   "outputs": [
    {
     "name": "stdout",
     "output_type": "stream",
     "text": [
      "kelime giriniz: amerika\n",
      "a\n",
      "m\n",
      "e\n",
      "r\n",
      "i\n",
      "k\n",
      "a\n"
     ]
    }
   ],
   "source": [
    "isim=input(\"kelime giriniz: \")\n",
    "sayac=0\n",
    "while sayac < len(isim):\n",
    "    print(isim[sayac])\n",
    "    sayac += 1\n",
    "#else:\n",
    "   # print(\"harflerine ayırdım\")"
   ]
  },
  {
   "cell_type": "code",
   "execution_count": 14,
   "id": "7a927811",
   "metadata": {},
   "outputs": [
    {
     "ename": "SyntaxError",
     "evalue": "unexpected EOF while parsing (<ipython-input-14-ff94ed1bb83c>, line 7)",
     "output_type": "error",
     "traceback": [
      "\u001b[1;36m  File \u001b[1;32m\"<ipython-input-14-ff94ed1bb83c>\"\u001b[1;36m, line \u001b[1;32m7\u001b[0m\n\u001b[1;33m    #  print(\"Kelime palindromik değildir\")\u001b[0m\n\u001b[1;37m                                           ^\u001b[0m\n\u001b[1;31mSyntaxError\u001b[0m\u001b[1;31m:\u001b[0m unexpected EOF while parsing\n"
     ]
    }
   ],
   "source": [
    "kelime = input(\"Kelime giriniz:\")\n",
    "ters_kelime = reversed(kelime).casefold()\n",
    "print(ters_kelime)\n",
    "if list(kelime) == list(ters_kelime):\n",
    " #  print(\"Kelime palindromiktir\")\n",
    "#else:\n",
    " #  print(\"Kelime palindromik değildir\")"
   ]
  },
  {
   "cell_type": "code",
   "execution_count": 11,
   "id": "aba36628",
   "metadata": {},
   "outputs": [
    {
     "name": "stdout",
     "output_type": "stream",
     "text": [
      "40\n",
      "20\n",
      "10\n",
      "0\n"
     ]
    }
   ],
   "source": [
    "array=[0,10,20,40]\n",
    "for i in reversed(array):\n",
    "    print(i)"
   ]
  },
  {
   "cell_type": "code",
   "execution_count": null,
   "id": "70f7b125",
   "metadata": {},
   "outputs": [
    {
     "name": "stdout",
     "output_type": "stream",
     "text": [
      "Herhangi bir kelime: kelime\n"
     ]
    }
   ],
   "source": [
    "kelime = input(\"Herhangi bir kelime: \")\n",
    "\n",
    "for harf in kelime:\n",
    "    print(\"{} harfi {} kelimesinde {} kez geçiyor!\".format(harf,\n",
    "                                                           kelime,\n",
    "                                                           kelime.count(harf)))"
   ]
  },
  {
   "cell_type": "code",
   "execution_count": null,
   "id": "761e04a3",
   "metadata": {},
   "outputs": [],
   "source": [
    "number = 23\n",
    "if number => 10:\n",
    "    print(\"The number is equal or greater than 10\")\n",
    "elif number < 10:\n",
    "    print(\"The number is less than 10\")\n",
    "else: print(number)"
   ]
  },
  {
   "cell_type": "code",
   "execution_count": null,
   "id": "03096c1b",
   "metadata": {},
   "outputs": [],
   "source": [
    "number = 23\n",
    "if number => 10:\n",
    "    print(\"The number is equal or greater than 10\")\n",
    "elif number < 10:\n",
    "    print(\"The number is less than 10\")\n",
    "else: print(number)"
   ]
  },
  {
   "cell_type": "code",
   "execution_count": 3,
   "id": "2398dd19",
   "metadata": {},
   "outputs": [
    {
     "name": "stdout",
     "output_type": "stream",
     "text": [
      "bir sayı giriniz:8\n",
      "The number is less than 10\n"
     ]
    }
   ],
   "source": [
    "number = int(input(\"bir sayı giriniz:\"))\n",
    "if number >= 10:\n",
    "    print(\"The number is equal or greater than 10\")\n",
    "elif number < 10:\n",
    "    print(\"The number is less than 10\")\n",
    "else: print(number)"
   ]
  },
  {
   "cell_type": "code",
   "execution_count": 3,
   "id": "09286a4e",
   "metadata": {},
   "outputs": [
    {
     "ename": "IndexError",
     "evalue": "list index out of range",
     "output_type": "error",
     "traceback": [
      "\u001b[1;31m---------------------------------------------------------------------------\u001b[0m",
      "\u001b[1;31mIndexError\u001b[0m                                Traceback (most recent call last)",
      "\u001b[1;32m<ipython-input-3-caa24227dbc3>\u001b[0m in \u001b[0;36m<module>\u001b[1;34m\u001b[0m\n\u001b[0;32m      4\u001b[0m \u001b[1;33m\u001b[0m\u001b[0m\n\u001b[0;32m      5\u001b[0m \u001b[1;32mwhile\u001b[0m \u001b[0mcount1\u001b[0m\u001b[1;33m>\u001b[0m\u001b[1;36m0\u001b[0m \u001b[1;33m:\u001b[0m\u001b[1;33m\u001b[0m\u001b[1;33m\u001b[0m\u001b[0m\n\u001b[1;32m----> 6\u001b[1;33m     \u001b[0mprint\u001b[0m\u001b[1;33m(\u001b[0m\u001b[0mflowers\u001b[0m\u001b[1;33m[\u001b[0m\u001b[0mcount1\u001b[0m\u001b[1;33m]\u001b[0m\u001b[1;33m)\u001b[0m\u001b[1;33m\u001b[0m\u001b[1;33m\u001b[0m\u001b[0m\n\u001b[0m\u001b[0;32m      7\u001b[0m     \u001b[0mcount1\u001b[0m \u001b[1;33m+=\u001b[0m \u001b[0mcount2\u001b[0m\u001b[1;33m\u001b[0m\u001b[1;33m\u001b[0m\u001b[0m\n",
      "\u001b[1;31mIndexError\u001b[0m: list index out of range"
     ]
    }
   ],
   "source": [
    "flowers = ['Rose', 'Orchid', 'Tulip']\n",
    "count1 = len(flowers)\n",
    "count2 = 0\n",
    "\n",
    "while count1>0 :\n",
    "    print(flowers[count1])\n",
    "    count1 += count2\n"
   ]
  },
  {
   "cell_type": "code",
   "execution_count": 14,
   "id": "35274e79",
   "metadata": {},
   "outputs": [
    {
     "ename": "TypeError",
     "evalue": "'list' object is not callable",
     "output_type": "error",
     "traceback": [
      "\u001b[1;31m---------------------------------------------------------------------------\u001b[0m",
      "\u001b[1;31mTypeError\u001b[0m                                 Traceback (most recent call last)",
      "\u001b[1;32m<ipython-input-14-2d76c28b4ae8>\u001b[0m in \u001b[0;36m<module>\u001b[1;34m\u001b[0m\n\u001b[0;32m      1\u001b[0m \u001b[0miterable\u001b[0m \u001b[1;33m=\u001b[0m \u001b[1;33m[\u001b[0m\u001b[1;36m1\u001b[0m\u001b[1;33m,\u001b[0m \u001b[1;36m2\u001b[0m\u001b[1;33m,\u001b[0m \u001b[1;36m3\u001b[0m\u001b[1;33m,\u001b[0m \u001b[1;36m4\u001b[0m\u001b[1;33m]\u001b[0m\u001b[1;33m\u001b[0m\u001b[1;33m\u001b[0m\u001b[0m\n\u001b[1;32m----> 2\u001b[1;33m \u001b[1;32mfor\u001b[0m \u001b[0mi\u001b[0m \u001b[1;32min\u001b[0m \u001b[0miterable\u001b[0m\u001b[1;33m(\u001b[0m\u001b[1;33m)\u001b[0m\u001b[1;33m:\u001b[0m\u001b[1;33m\u001b[0m\u001b[1;33m\u001b[0m\u001b[0m\n\u001b[0m\u001b[0;32m      3\u001b[0m     \u001b[0mi\u001b[0m \u001b[1;33m=\u001b[0m \u001b[0mi\u001b[0m\u001b[1;33m**\u001b[0m\u001b[1;36m2\u001b[0m\u001b[1;33m\u001b[0m\u001b[1;33m\u001b[0m\u001b[0m\n\u001b[0;32m      4\u001b[0m \u001b[0mprint\u001b[0m\u001b[1;33m(\u001b[0m\u001b[0mi\u001b[0m\u001b[1;33m)\u001b[0m\u001b[1;33m\u001b[0m\u001b[1;33m\u001b[0m\u001b[0m\n",
      "\u001b[1;31mTypeError\u001b[0m: 'list' object is not callable"
     ]
    }
   ],
   "source": [
    "iterable = [1, 2, 3, 4]\n",
    "for i in iterable:\n",
    "    i = i**2\n",
    "print(i)"
   ]
  },
  {
   "cell_type": "code",
   "execution_count": 15,
   "id": "49d1b829",
   "metadata": {},
   "outputs": [
    {
     "name": "stdout",
     "output_type": "stream",
     "text": [
      "enter a number between 1-108\n",
      "8x0 =  0\n",
      "8x1 =  8\n",
      "8x2 =  16\n",
      "8x3 =  24\n",
      "8x4 =  32\n",
      "8x5 =  40\n",
      "8x6 =  48\n",
      "8x7 =  56\n",
      "8x8 =  64\n",
      "8x9 =  72\n",
      "8x10 =  80\n"
     ]
    }
   ],
   "source": [
    "n = int(input('enter a number between 1-10'))\n",
    "\n",
    "for i in range(11):\n",
    "    print('{}x{} = '.format(n, i), n*i)"
   ]
  },
  {
   "cell_type": "code",
   "execution_count": 13,
   "id": "2a6e83ce",
   "metadata": {},
   "outputs": [
    {
     "name": "stdout",
     "output_type": "stream",
     "text": [
      "Please enter the mark: 100\n",
      "A (Excellent)\n"
     ]
    }
   ],
   "source": [
    "math_mark = int(input(\"Please enter the mark: \"))\n",
    "if math_mark >= 85 and math_mark <= 100 :\n",
    "    print(\"A (Excellent)\")\n",
    "elif math_mark < 84 and math_mark >= 70:\n",
    "    print(\"B (Good)\")\n",
    "elif math_mark < 69 and math_mark >= 60:\n",
    "    print(\"C (Medium)\")\n",
    "elif math_mark < 59 and math_mark >= 45:\n",
    "    print(\"D (Not Bad)\")\n",
    "else: print(\"F (Failed)\")"
   ]
  },
  {
   "cell_type": "code",
   "execution_count": 11,
   "id": "38be09b6",
   "metadata": {},
   "outputs": [
    {
     "name": "stdout",
     "output_type": "stream",
     "text": [
      "Please enter your saved amount: 200\n",
      "Please enter ps4 price: 800\n",
      "You must save more, keep saving!\n"
     ]
    }
   ],
   "source": [
    "saved_amount = int(input(\"Please enter your saved amount: \"))\n",
    "ps4_price = int(input(\"Please enter ps4 price: \"))\n",
    "if saved_amount <= ps4_price/2:\n",
    "    print(\"You must save more, keep saving!\")\n",
    "elif saved_amount > ps4_price/2:\n",
    "    if saved_amount > ps4_price:\n",
    "      print(\"Yippee! You can buy your PS4\")  \n",
    "    else : print(\"You saved more than half, keep saving!\")\n",
    "else : print(ps4_price)"
   ]
  },
  {
   "cell_type": "code",
   "execution_count": null,
   "id": "a048a2e8",
   "metadata": {},
   "outputs": [],
   "source": [
    "number = int(input('Please enter a number: '))\n",
    "while i < number:\n",
    "    number=number**2\n",
    "    print(number)"
   ]
  },
  {
   "cell_type": "code",
   "execution_count": 11,
   "id": "8b8addc5",
   "metadata": {},
   "outputs": [
    {
     "name": "stdout",
     "output_type": "stream",
     "text": [
      "Please enter a number: 16\n",
      "[0, 1, 4, 9, 16, 25, 36, 49, 64, 81, 100, 121, 144, 169, 196, 225]\n"
     ]
    }
   ],
   "source": [
    "number = int(input('Please enter a number: '))\n",
    "x = 0\n",
    "num_square = []\n",
    "while x < number :\n",
    "  num = x ** 2\n",
    "  x += 1\n",
    "  num_square.append(num)\n",
    "  if len(num_square) == number :\n",
    "      print(num_square)"
   ]
  },
  {
   "cell_type": "code",
   "execution_count": 24,
   "id": "143aba1f",
   "metadata": {},
   "outputs": [
    {
     "ename": "IndentationError",
     "evalue": "unindent does not match any outer indentation level (<tokenize>, line 6)",
     "output_type": "error",
     "traceback": [
      "\u001b[1;36m  File \u001b[1;32m\"<tokenize>\"\u001b[1;36m, line \u001b[1;32m6\u001b[0m\n\u001b[1;33m    print(number)\u001b[0m\n\u001b[1;37m    ^\u001b[0m\n\u001b[1;31mIndentationError\u001b[0m\u001b[1;31m:\u001b[0m unindent does not match any outer indentation level\n"
     ]
    }
   ],
   "source": [
    "number = int(input('Please enter a number: '))\n",
    "i=0\n",
    "while i in number:\n",
    "    number=number**2\n",
    "    i+=1\n",
    "   print(number)"
   ]
  },
  {
   "cell_type": "code",
   "execution_count": 2,
   "id": "e102125c",
   "metadata": {},
   "outputs": [
    {
     "name": "stdout",
     "output_type": "stream",
     "text": [
      "{'blue', 'pink', 'red'}\n",
      "{'blue', 'pink', 'red'}\n"
     ]
    }
   ],
   "source": [
    "set_1 = {\"red\",\"blue\",\"pink\",\"red\"}\n",
    "colors = \"red\", \"blue\", \"pink\", \"red\"\n",
    "set_2 = set(colors)\n",
    "print(set_1)\n",
    "print(set_2)"
   ]
  },
  {
   "cell_type": "code",
   "execution_count": 5,
   "id": "0ad5e135",
   "metadata": {},
   "outputs": [
    {
     "data": {
      "text/plain": [
       "['a',\n",
       " 'b',\n",
       " 'c',\n",
       " 'd',\n",
       " 'e',\n",
       " 'f',\n",
       " 'g',\n",
       " 'h',\n",
       " 'i',\n",
       " 'j',\n",
       " 'k',\n",
       " 'l',\n",
       " 'm',\n",
       " 'n',\n",
       " 'o',\n",
       " 'p',\n",
       " 's',\n",
       " 't',\n",
       " 'u',\n",
       " 'v',\n",
       " 'x',\n",
       " 'w',\n",
       " 'y',\n",
       " 'z']"
      ]
     },
     "execution_count": 5,
     "metadata": {},
     "output_type": "execute_result"
    }
   ],
   "source": [
    "letter = \"a b c d e f g h i j k l m n o p s t u v x w y z\".split()\n",
    "letter"
   ]
  },
  {
   "cell_type": "code",
   "execution_count": 6,
   "id": "3dacfb17",
   "metadata": {},
   "outputs": [
    {
     "name": "stdout",
     "output_type": "stream",
     "text": [
      "['a', 'b', 'c', 'd', 'e', 'f', 'g', 'h', 'i', 'j', 'k', 'l', 'm', 'n', 'o', 'p', 's', 't', 'u', 'v', 'x', 'w', 'y', 'z']\n"
     ]
    }
   ],
   "source": [
    "letter = \"a b c d e f g h i j k l m n o p s t u v x w y z\".split()\n",
    "print(letter)"
   ]
  },
  {
   "cell_type": "code",
   "execution_count": 7,
   "id": "6a148af4",
   "metadata": {},
   "outputs": [
    {
     "name": "stdout",
     "output_type": "stream",
     "text": [
      "{'o', 'g', 'i', 'k', 'm', 's', 'x', 'a', 'e', 'c', 'h', 'z', 'n', 'p', 'w', 'b', 'u', 'f', 'd', 'j', 'y', 't', 'l', 'v'}\n"
     ]
    }
   ],
   "source": [
    "print(set(letter))"
   ]
  },
  {
   "cell_type": "code",
   "execution_count": 8,
   "id": "840ee4af",
   "metadata": {},
   "outputs": [
    {
     "data": {
      "text/plain": [
       "2"
      ]
     },
     "execution_count": 8,
     "metadata": {},
     "output_type": "execute_result"
    }
   ],
   "source": [
    "test = {1, \"bir\", 1.0}\n",
    "len(test)"
   ]
  },
  {
   "cell_type": "code",
   "execution_count": 9,
   "id": "7e2af1e8",
   "metadata": {},
   "outputs": [
    {
     "data": {
      "text/plain": [
       "True"
      ]
     },
     "execution_count": 9,
     "metadata": {},
     "output_type": "execute_result"
    }
   ],
   "source": [
    "1 == 1.0"
   ]
  },
  {
   "cell_type": "code",
   "execution_count": 10,
   "id": "023ddbd3",
   "metadata": {},
   "outputs": [
    {
     "data": {
      "text/plain": [
       "set"
      ]
     },
     "execution_count": 10,
     "metadata": {},
     "output_type": "execute_result"
    }
   ],
   "source": [
    "type(set())"
   ]
  },
  {
   "cell_type": "code",
   "execution_count": 11,
   "id": "26e2e971",
   "metadata": {},
   "outputs": [
    {
     "data": {
      "text/plain": [
       "True"
      ]
     },
     "execution_count": 11,
     "metadata": {},
     "output_type": "execute_result"
    }
   ],
   "source": [
    "a = {'carnation', 'orchid', 'rose', 'violet'} \n",
    "b = {'rose', 'orchid', 'rose', 'violet', 'carnation'}\n",
    "a == b"
   ]
  },
  {
   "cell_type": "code",
   "execution_count": 23,
   "id": "063d24ba",
   "metadata": {},
   "outputs": [
    {
     "name": "stdout",
     "output_type": "stream",
     "text": [
      "{'d', 'a', 'e', 'i', 'l', 'h', 'p'}\n",
      "{'o', 'd', 'i', 'l', 'h', 'n', 'p'}\n",
      "{'a', 'e'}\n",
      "{'a', 'e'}\n",
      "{'o', 'n'}\n",
      "{'o', 'n'}\n",
      "{'o', 'd', 'a', 'e', 'i', 'l', 'h', 'n', 'p'}\n",
      "{'o', 'd', 'a', 'e', 'i', 'l', 'h', 'n', 'p'}\n",
      "{'o', 'd', 'a', 'e', 'i', 'l', 'h', 'n', 'p'}\n",
      "{'o', 'd', 'a', 'e', 'i', 'l', 'h', 'n', 'p'}\n",
      "{'d', 'i', 'l', 'h', 'p'}\n",
      "{'d', 'i', 'l', 'h', 'p'}\n"
     ]
    }
   ],
   "source": [
    "a = set(\"philadelphia\")\n",
    "print(a)\n",
    "b = set(\"dolphin\")\n",
    "print(b)\n",
    "print(a-b)\n",
    "print(a.difference(b))\n",
    "print(b-a)\n",
    "print(b.difference(a))\n",
    "print(a.union(b))\n",
    "print(a | b)\n",
    "print(b.union(a))\n",
    "print(b | a)\n",
    "print(a & b)\n",
    "print(a.intersection(b))"
   ]
  },
  {
   "cell_type": "code",
   "execution_count": 21,
   "id": "f5c6d392",
   "metadata": {},
   "outputs": [
    {
     "data": {
      "text/plain": [
       "{'/', '0', '1', '2', '7'}"
      ]
     },
     "execution_count": 21,
     "metadata": {},
     "output_type": "execute_result"
    }
   ],
   "source": [
    "date = \"12/07/2021\"\n",
    "set(date)"
   ]
  },
  {
   "cell_type": "code",
   "execution_count": 26,
   "id": "f8f1132d",
   "metadata": {},
   "outputs": [
    {
     "name": "stdout",
     "output_type": "stream",
     "text": [
      "{1, 2, 3, 4, 5}\n"
     ]
    }
   ],
   "source": [
    "given_list = [1,2,3,3,3,3,4,4,5,5]\n",
    "unique = set(given_list)\n",
    "print(unique)"
   ]
  },
  {
   "cell_type": "code",
   "execution_count": 27,
   "id": "a91e6d6f",
   "metadata": {},
   "outputs": [
    {
     "ename": "TypeError",
     "evalue": "unhashable type: 'list'",
     "output_type": "error",
     "traceback": [
      "\u001b[1;31m---------------------------------------------------------------------------\u001b[0m",
      "\u001b[1;31mTypeError\u001b[0m                                 Traceback (most recent call last)",
      "\u001b[1;32m<ipython-input-27-90a073529a3c>\u001b[0m in \u001b[0;36m<module>\u001b[1;34m\u001b[0m\n\u001b[0;32m      1\u001b[0m \u001b[0mgiven_list\u001b[0m \u001b[1;33m=\u001b[0m \u001b[1;33m[\u001b[0m\u001b[1;36m1\u001b[0m\u001b[1;33m,\u001b[0m\u001b[1;36m2\u001b[0m\u001b[1;33m,\u001b[0m\u001b[1;36m3\u001b[0m\u001b[1;33m,\u001b[0m\u001b[1;36m3\u001b[0m\u001b[1;33m,\u001b[0m\u001b[1;36m3\u001b[0m\u001b[1;33m,\u001b[0m\u001b[1;36m3\u001b[0m\u001b[1;33m,\u001b[0m\u001b[1;36m4\u001b[0m\u001b[1;33m,\u001b[0m\u001b[1;36m4\u001b[0m\u001b[1;33m,\u001b[0m\u001b[1;36m5\u001b[0m\u001b[1;33m,\u001b[0m\u001b[1;36m5\u001b[0m\u001b[1;33m]\u001b[0m\u001b[1;33m\u001b[0m\u001b[1;33m\u001b[0m\u001b[0m\n\u001b[1;32m----> 2\u001b[1;33m \u001b[0munique\u001b[0m \u001b[1;33m=\u001b[0m \u001b[1;33m{\u001b[0m\u001b[0mgiven_list\u001b[0m\u001b[1;33m}\u001b[0m\u001b[1;33m\u001b[0m\u001b[1;33m\u001b[0m\u001b[0m\n\u001b[0m\u001b[0;32m      3\u001b[0m \u001b[0mprint\u001b[0m\u001b[1;33m(\u001b[0m\u001b[0munique\u001b[0m\u001b[1;33m)\u001b[0m\u001b[1;33m\u001b[0m\u001b[1;33m\u001b[0m\u001b[0m\n",
      "\u001b[1;31mTypeError\u001b[0m: unhashable type: 'list'"
     ]
    }
   ],
   "source": [
    "given_list = [1,2,3,3,3,3,4,4,5,5]\n",
    "unique = {given_list}\n",
    "print(unique)"
   ]
  },
  {
   "cell_type": "code",
   "execution_count": 28,
   "id": "cb6bcd15",
   "metadata": {},
   "outputs": [
    {
     "name": "stdout",
     "output_type": "stream",
     "text": [
      "{1, 2, 3, 4, 5}\n"
     ]
    }
   ],
   "source": [
    "unique = {1,2,3,3,3,3,4,4,5,5}\n",
    "print (unique)"
   ]
  },
  {
   "cell_type": "code",
   "execution_count": 29,
   "id": "65643667",
   "metadata": {},
   "outputs": [
    {
     "ename": "TypeError",
     "evalue": "unhashable type: 'list'",
     "output_type": "error",
     "traceback": [
      "\u001b[1;31m---------------------------------------------------------------------------\u001b[0m",
      "\u001b[1;31mTypeError\u001b[0m                                 Traceback (most recent call last)",
      "\u001b[1;32m<ipython-input-29-1d57732c7de8>\u001b[0m in \u001b[0;36m<module>\u001b[1;34m\u001b[0m\n\u001b[1;32m----> 1\u001b[1;33m \u001b[0mkarışık\u001b[0m \u001b[1;33m=\u001b[0m \u001b[1;33m{\u001b[0m\u001b[1;33m[\u001b[0m\u001b[1;36m1\u001b[0m\u001b[1;33m,\u001b[0m \u001b[1;36m2\u001b[0m\u001b[1;33m,\u001b[0m \u001b[1;36m3\u001b[0m\u001b[1;33m]\u001b[0m\u001b[1;33m,\u001b[0m \u001b[1;33m{\u001b[0m\u001b[1;36m1\u001b[0m\u001b[1;33m:\u001b[0m\u001b[1;34m\"bir\"\u001b[0m\u001b[1;33m}\u001b[0m\u001b[1;33m,\u001b[0m \u001b[1;33m{\u001b[0m\u001b[1;34m\"iki\"\u001b[0m\u001b[1;33m,\u001b[0m \u001b[1;34m\"üç\"\u001b[0m\u001b[1;33m}\u001b[0m\u001b[1;33m}\u001b[0m\u001b[1;33m\u001b[0m\u001b[1;33m\u001b[0m\u001b[0m\n\u001b[0m",
      "\u001b[1;31mTypeError\u001b[0m: unhashable type: 'list'"
     ]
    }
   ],
   "source": [
    "karışık = {[1, 2, 3], {1:\"bir\"}, {\"iki\", \"üç\"}}           #küme içerisinde bunları unique lerine ayıramıyor."
   ]
  },
  {
   "cell_type": "code",
   "execution_count": 30,
   "id": "21078a8d",
   "metadata": {},
   "outputs": [
    {
     "ename": "TypeError",
     "evalue": "unhashable type: 'set'",
     "output_type": "error",
     "traceback": [
      "\u001b[1;31m---------------------------------------------------------------------------\u001b[0m",
      "\u001b[1;31mTypeError\u001b[0m                                 Traceback (most recent call last)",
      "\u001b[1;32m<ipython-input-30-5be08ab7a7d8>\u001b[0m in \u001b[0;36m<module>\u001b[1;34m\u001b[0m\n\u001b[1;32m----> 1\u001b[1;33m \u001b[0mkarışık\u001b[0m \u001b[1;33m=\u001b[0m \u001b[1;33m{\u001b[0m\u001b[1;36m1\u001b[0m\u001b[1;33m,\u001b[0m \u001b[1;36m2\u001b[0m\u001b[1;33m,\u001b[0m \u001b[1;33m{\u001b[0m\u001b[1;36m3\u001b[0m\u001b[1;33m,\u001b[0m \u001b[1;36m4\u001b[0m\u001b[1;33m}\u001b[0m\u001b[1;33m}\u001b[0m\u001b[1;33m\u001b[0m\u001b[1;33m\u001b[0m\u001b[0m\n\u001b[0m",
      "\u001b[1;31mTypeError\u001b[0m: unhashable type: 'set'"
     ]
    }
   ],
   "source": [
    "karışık = {1, 2, {3, 4}}  "
   ]
  },
  {
   "cell_type": "code",
   "execution_count": 5,
   "id": "49c87ce3",
   "metadata": {},
   "outputs": [
    {
     "name": "stdout",
     "output_type": "stream",
     "text": [
      "{'g', 's', 'a', 'o', 'n', 'w', 'i', 'h', 't'}\n",
      "{'g', 'o', 'n', 'w', 'l', 'i', 'e', 't'}\n",
      "{'g', 'o', 'n', 'w', 'i', 't'}\n",
      "{'g', 's', 'a', 'o', 'n', 'w', 'l', 'i', 'h', 'e', 't'}\n",
      "{'h', 'a', 's'}\n"
     ]
    }
   ],
   "source": [
    "usa = \"washington\"\n",
    "newz = \"wellington\"\n",
    "capital_usa = set(usa)\n",
    "capital_newz = set(newz)\n",
    "print(capital_usa)\n",
    "print(capital_newz)\n",
    "print( capital_usa.intersection(capital_newz))\n",
    "print (capital_usa.union(capital_newz))\n",
    "print(capital_usa.difference(capital_newz))"
   ]
  },
  {
   "cell_type": "code",
   "execution_count": null,
   "id": "693379f1",
   "metadata": {},
   "outputs": [],
   "source": [
    "print(\"ben clarusway için en az bir kişi bulacağım.\")"
   ]
  },
  {
   "cell_type": "code",
   "execution_count": 6,
   "id": "f24baa46",
   "metadata": {},
   "outputs": [
    {
     "name": "stdout",
     "output_type": "stream",
     "text": [
      "hello world\n"
     ]
    }
   ],
   "source": [
    "if \"0\":\n",
    "    print(\"hello world\")"
   ]
  },
  {
   "cell_type": "code",
   "execution_count": 1,
   "id": "492f78c9",
   "metadata": {},
   "outputs": [],
   "source": [
    "if 0:\n",
    "    print(\"hello world\")"
   ]
  },
  {
   "cell_type": "code",
   "execution_count": 11,
   "id": "719586af",
   "metadata": {},
   "outputs": [
    {
     "data": {
      "text/plain": [
       "True"
      ]
     },
     "execution_count": 11,
     "metadata": {},
     "output_type": "execute_result"
    }
   ],
   "source": [
    "\"a\" < \"b\""
   ]
  },
  {
   "cell_type": "code",
   "execution_count": 12,
   "id": "168599fa",
   "metadata": {},
   "outputs": [
    {
     "data": {
      "text/plain": [
       "False"
      ]
     },
     "execution_count": 12,
     "metadata": {},
     "output_type": "execute_result"
    }
   ],
   "source": [
    "\"4\" < \"39\"      #burada string olduğundan 39 ilk karakterinin ascıı karşılığını görüyor ve küçük olduğundan false veriyor."
   ]
  },
  {
   "cell_type": "code",
   "execution_count": 21,
   "id": "816b5845",
   "metadata": {},
   "outputs": [
    {
     "name": "stdout",
     "output_type": "stream",
     "text": [
      "We are the same!\n"
     ]
    }
   ],
   "source": [
    "v1= \"TWELVE PLUS ONE\"\n",
    "v2= \"ELEVEN PLUS TWO\"\n",
    "v1=set(v1)\n",
    "v2=set(v2)\n",
    "if v1==v2:\n",
    "    print(\"We are the same!\")"
   ]
  },
  {
   "cell_type": "code",
   "execution_count": 7,
   "id": "23fc87d9",
   "metadata": {},
   "outputs": [
    {
     "name": "stdout",
     "output_type": "stream",
     "text": [
      "Enter yes/no:yes\n",
      "<class 'bool'>\n",
      "False\n"
     ]
    }
   ],
   "source": [
    "w1 = input(\"Enter yes/no:\").title().strip() == \"yes\"   #title ile büyük küçük harf sorunu gitt, strip ile boşlukları aldık.\n",
    "print(type(w1))\n",
    "print(w1)\n"
   ]
  },
  {
   "cell_type": "code",
   "execution_count": 3,
   "id": "c4aea528",
   "metadata": {},
   "outputs": [
    {
     "name": "stdout",
     "output_type": "stream",
     "text": [
      "You entered False\n"
     ]
    }
   ],
   "source": [
    "print(\"You entered\", w1)"
   ]
  },
  {
   "cell_type": "code",
   "execution_count": null,
   "id": "27aa8fe4",
   "metadata": {},
   "outputs": [],
   "source": [
    "nu=int(input(\"enter a number:\"))\n",
    "if nu%2==0:\n",
    "    print(\"{} is even\".format(nu))\n",
    "else: print(\"{} is odd\".format(nu))"
   ]
  },
  {
   "cell_type": "code",
   "execution_count": 2,
   "id": "7d064a07",
   "metadata": {},
   "outputs": [
    {
     "name": "stdout",
     "output_type": "stream",
     "text": [
      "Enter a number: 3\n",
      "2\n"
     ]
    }
   ],
   "source": [
    "n=int(input(\"Enter a number: \"))\n",
    "\n",
    "for i in range (1,n+1,):\n",
    "\n",
    "  if(i%2==0):\n",
    "\n",
    "    print(i)"
   ]
  },
  {
   "cell_type": "code",
   "execution_count": 3,
   "id": "91c30a92",
   "metadata": {},
   "outputs": [
    {
     "name": "stdout",
     "output_type": "stream",
     "text": [
      "Enter a number3\n"
     ]
    },
    {
     "ename": "TypeError",
     "evalue": "'float' object cannot be interpreted as an integer",
     "output_type": "error",
     "traceback": [
      "\u001b[1;31m---------------------------------------------------------------------------\u001b[0m",
      "\u001b[1;31mTypeError\u001b[0m                                 Traceback (most recent call last)",
      "\u001b[1;32m<ipython-input-3-1fc72a689d14>\u001b[0m in \u001b[0;36m<module>\u001b[1;34m\u001b[0m\n\u001b[0;32m      1\u001b[0m \u001b[0mn\u001b[0m \u001b[1;33m=\u001b[0m \u001b[0mint\u001b[0m\u001b[1;33m(\u001b[0m\u001b[0minput\u001b[0m\u001b[1;33m(\u001b[0m\u001b[1;34m\"Enter a number\"\u001b[0m\u001b[1;33m)\u001b[0m\u001b[1;33m)\u001b[0m\u001b[1;33m\u001b[0m\u001b[1;33m\u001b[0m\u001b[0m\n\u001b[0;32m      2\u001b[0m \u001b[1;33m\u001b[0m\u001b[0m\n\u001b[1;32m----> 3\u001b[1;33m \u001b[1;32mfor\u001b[0m \u001b[0mi\u001b[0m \u001b[1;32min\u001b[0m \u001b[0mrange\u001b[0m\u001b[1;33m(\u001b[0m\u001b[1;36m2\u001b[0m\u001b[1;33m,\u001b[0m \u001b[0mn\u001b[0m\u001b[1;33m**\u001b[0m\u001b[1;36m0.5\u001b[0m\u001b[1;33m+\u001b[0m\u001b[1;36m1\u001b[0m\u001b[1;33m,\u001b[0m \u001b[1;36m2\u001b[0m\u001b[1;33m)\u001b[0m\u001b[1;33m:\u001b[0m\u001b[1;33m\u001b[0m\u001b[1;33m\u001b[0m\u001b[0m\n\u001b[0m\u001b[0;32m      4\u001b[0m     \u001b[0mprint\u001b[0m\u001b[1;33m(\u001b[0m\u001b[0mi\u001b[0m\u001b[1;33m**\u001b[0m\u001b[1;36m2\u001b[0m\u001b[1;33m)\u001b[0m\u001b[1;33m\u001b[0m\u001b[1;33m\u001b[0m\u001b[0m\n",
      "\u001b[1;31mTypeError\u001b[0m: 'float' object cannot be interpreted as an integer"
     ]
    }
   ],
   "source": [
    "n = int(input(\"Enter a number\"))\n",
    "\n",
    "for i in range(2, n**0.5+1, 2):\n",
    "    print(i**2)"
   ]
  },
  {
   "cell_type": "code",
   "execution_count": 6,
   "id": "8cd42a99",
   "metadata": {},
   "outputs": [
    {
     "name": "stdout",
     "output_type": "stream",
     "text": [
      "Please enter a number: 10\n",
      "0\n",
      "1\n",
      "4\n",
      "9\n",
      "16\n",
      "25\n",
      "36\n",
      "49\n",
      "64\n",
      "81\n"
     ]
    }
   ],
   "source": [
    "number = int(input('Please enter a number: '))\n",
    "x = 0\n",
    "num_square = []\n",
    "while x < number :\n",
    "  num = x ** 2\n",
    "  x += 1\n",
    "  print(num)\n"
   ]
  },
  {
   "cell_type": "code",
   "execution_count": 8,
   "id": "62d88f15",
   "metadata": {},
   "outputs": [
    {
     "ename": "SyntaxError",
     "evalue": "invalid syntax (<ipython-input-8-99ea29bee430>, line 3)",
     "output_type": "error",
     "traceback": [
      "\u001b[1;36m  File \u001b[1;32m\"<ipython-input-8-99ea29bee430>\"\u001b[1;36m, line \u001b[1;32m3\u001b[0m\n\u001b[1;33m    for i in sample_list\u001b[0m\n\u001b[1;37m                        ^\u001b[0m\n\u001b[1;31mSyntaxError\u001b[0m\u001b[1;31m:\u001b[0m invalid syntax\n"
     ]
    }
   ],
   "source": [
    "sample_list = [{\"section\":5, \"topic\":2}, 'clarusway', [1, 4], 2020, 3.14, 1+618j, False, (10, 20)]\n",
    "sample_list =set(sample_list)\n",
    "for i in sample_list\n",
    "    print(type(sample_list))\n",
    "    i+=1\n",
    "The type of clarusway is <class 'str'>."
   ]
  },
  {
   "cell_type": "code",
   "execution_count": 32,
   "id": "1ffd4912",
   "metadata": {},
   "outputs": [
    {
     "name": "stdout",
     "output_type": "stream",
     "text": [
      "The type of {'section': 5, 'topic': 2} is <class 'dict'>\n",
      "The type of clarusway is <class 'str'>\n",
      "The type of [1, 4] is <class 'list'>\n",
      "The type of 2020 is <class 'int'>\n",
      "The type of 3.14 is <class 'float'>\n",
      "The type of (1+618j) is <class 'complex'>\n",
      "The type of False is <class 'bool'>\n",
      "The type of (10, 20) is <class 'tuple'>\n"
     ]
    }
   ],
   "source": [
    "sample_list = [{\"section\":5, \"topic\":2}, 'clarusway', [1, 4], 2020, 3.14, 1+618j, False, (10, 20)]\n",
    "for item in sample_list:\n",
    "   print(\"The type of\", item, \"is\", type(item))"
   ]
  },
  {
   "cell_type": "code",
   "execution_count": 27,
   "id": "d97caf0c",
   "metadata": {},
   "outputs": [
    {
     "name": "stdout",
     "output_type": "stream",
     "text": [
      "Type of  1452  is  <class 'int'>\n",
      "Type of  11.23  is  <class 'float'>\n",
      "Type of  (1+2j)  is  <class 'complex'>\n",
      "Type of  True  is  <class 'bool'>\n",
      "Type of  w3resource  is  <class 'str'>\n",
      "Type of  (0, -1)  is  <class 'tuple'>\n",
      "Type of  [5, 12]  is  <class 'list'>\n",
      "Type of  {'class': 'V', 'section': 'A'}  is  <class 'dict'>\n"
     ]
    }
   ],
   "source": [
    "datalist = [1452, 11.23, 1+2j, True, 'w3resource', (0, -1), [5, 12],{\"class\":'V', \"section\":'A'}]\n",
    "for item in datalist:\n",
    "   print (\"Type of \",item, \" is \", type(item))"
   ]
  },
  {
   "cell_type": "code",
   "execution_count": 33,
   "id": "35187d1c",
   "metadata": {},
   "outputs": [
    {
     "name": "stdout",
     "output_type": "stream",
     "text": [
      "Day 1 : Monday\n",
      "Day 2 : Tuesday\n",
      "Day 3 : Wednesday\n",
      "Day 4 : Thursday\n",
      "Day 5 : Friday\n"
     ]
    }
   ],
   "source": [
    "weekdays = ['Monday', 'Tuesday', 'Wednesday', 'Thursday', 'Friday']\n",
    "for day in range (len(weekdays)):\n",
    "    print('Day', day+1, ':', weekdays[day])"
   ]
  },
  {
   "cell_type": "code",
   "execution_count": 4,
   "id": "b7ca88d6",
   "metadata": {},
   "outputs": [
    {
     "ename": "SyntaxError",
     "evalue": "invalid character in identifier (<ipython-input-4-2f8f399a56c6>, line 4)",
     "output_type": "error",
     "traceback": [
      "\u001b[1;36m  File \u001b[1;32m\"<ipython-input-4-2f8f399a56c6>\"\u001b[1;36m, line \u001b[1;32m4\u001b[0m\n\u001b[1;33m    risk = age or chronic\u001b[0m\n\u001b[1;37m        ^\u001b[0m\n\u001b[1;31mSyntaxError\u001b[0m\u001b[1;31m:\u001b[0m invalid character in identifier\n"
     ]
    }
   ],
   "source": [
    "age = bool(input(\"Are you a cigarette addict older than 75 years old?(True/False):\"))\n",
    "chronic = bool(input(\"Do you have a severe chronic disease?(True/False):\"))\n",
    "immune = bool(input(\"Is your immune system too week?(True/False):\"))\n",
    "risk = age or chronic\n",
    "print(risk)"
   ]
  },
  {
   "cell_type": "code",
   "execution_count": null,
   "id": "0bcf7cad",
   "metadata": {},
   "outputs": [],
   "source": []
  }
 ],
 "metadata": {
  "kernelspec": {
   "display_name": "Python 3",
   "language": "python",
   "name": "python3"
  },
  "language_info": {
   "codemirror_mode": {
    "name": "ipython",
    "version": 3
   },
   "file_extension": ".py",
   "mimetype": "text/x-python",
   "name": "python",
   "nbconvert_exporter": "python",
   "pygments_lexer": "ipython3",
   "version": "3.8.10"
  }
 },
 "nbformat": 4,
 "nbformat_minor": 5
}
