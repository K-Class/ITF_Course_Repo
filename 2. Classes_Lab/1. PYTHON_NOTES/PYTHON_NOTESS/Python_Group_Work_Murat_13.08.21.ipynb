{
 "cells": [
  {
   "cell_type": "markdown",
   "id": "f96446b2",
   "metadata": {},
   "source": [
    "# https://edabit.com/challenge/vTGXrd5ntYRk3t6Ma"
   ]
  },
  {
   "cell_type": "code",
   "execution_count": 3,
   "id": "0adfa18a",
   "metadata": {},
   "outputs": [
    {
     "name": "stdout",
     "output_type": "stream",
     "text": [
      "False\n"
     ]
    }
   ],
   "source": [
    "def is_isogram(txt):\n",
    "    txt = txt.lower()\n",
    "    for letter in txt:\n",
    "        if txt.count(letter) > 1:        \n",
    "            return False\n",
    "    return True\n",
    "print(is_isogram(\"HheLlo\"))"
   ]
  },
  {
   "cell_type": "code",
   "execution_count": 4,
   "id": "494695f5",
   "metadata": {},
   "outputs": [
    {
     "name": "stdout",
     "output_type": "stream",
     "text": [
      "False\n"
     ]
    }
   ],
   "source": [
    "def is_isogram(txt):\n",
    "    return len(txt) == len(set(txt.lower()))\n",
    "print(is_isogram(\"Heloh\"))"
   ]
  },
  {
   "cell_type": "markdown",
   "id": "71359971",
   "metadata": {},
   "source": [
    "# https://edabit.com/challenge/6CGomPbu3dK536PH2"
   ]
  },
  {
   "cell_type": "code",
   "execution_count": 5,
   "id": "ef7d5cfe",
   "metadata": {},
   "outputs": [
    {
     "name": "stdout",
     "output_type": "stream",
     "text": [
      "[1, 3, 6, 10]\n"
     ]
    }
   ],
   "source": [
    "def accumulating_list(lst):\n",
    "    k=0\n",
    "    t=[]\n",
    "    for i in range(len(lst)):\n",
    "        k=k+lst[i]\n",
    "        t.append(k)\n",
    "    return t\n",
    "print(accumulating_list([1, 2, 3, 4]))"
   ]
  },
  {
   "cell_type": "code",
   "execution_count": 6,
   "id": "2eae7187",
   "metadata": {},
   "outputs": [
    {
     "name": "stdout",
     "output_type": "stream",
     "text": [
      "[1, 3, 6, 10]\n"
     ]
    }
   ],
   "source": [
    "def accumulating_list(lst):\n",
    "    return [sum(lst[0:i+1]) for i in range(len(lst))]\n",
    "print(accumulating_list([1, 2, 3, 4]))"
   ]
  },
  {
   "cell_type": "markdown",
   "id": "9b388818",
   "metadata": {},
   "source": [
    "# https://edabit.com/challenge/rQkriLJBc9CbfRbJb"
   ]
  },
  {
   "cell_type": "code",
   "execution_count": 9,
   "id": "6020a316",
   "metadata": {},
   "outputs": [
    {
     "name": "stdout",
     "output_type": "stream",
     "text": [
      "[1, 3, 5]\n"
     ]
    }
   ],
   "source": [
    "def index_of_caps(word):\n",
    "    result = []\n",
    "    for letter in word:\n",
    "        if letter.isupper():\n",
    "            result.append(word.index(letter))\n",
    "    return result\n",
    "print(index_of_caps(\"eDaBiT\"))"
   ]
  },
  {
   "cell_type": "code",
   "execution_count": 11,
   "id": "c1472f0e",
   "metadata": {},
   "outputs": [
    {
     "name": "stdout",
     "output_type": "stream",
     "text": [
      "[1, 5]\n"
     ]
    }
   ],
   "source": [
    "def index_of_caps(word):\n",
    "    return [word.index(letter) for letter in word if letter.isupper()]\n",
    "print(index_of_caps(\"eDabiT\"))"
   ]
  },
  {
   "cell_type": "markdown",
   "id": "7c44e57d",
   "metadata": {},
   "source": [
    "# https://edabit.com/challenge/646cCaFig6AP89YRo"
   ]
  },
  {
   "cell_type": "code",
   "execution_count": 18,
   "id": "f3970751",
   "metadata": {},
   "outputs": [
    {
     "name": "stdout",
     "output_type": "stream",
     "text": [
      "[1, 2, 'Fizz', 4, 'Buzz', 'Fizz', 7, 8, 'Fizz', 'Buzz', 11, 'Fizz', 13, 14, 'FizzBuzz']\n"
     ]
    }
   ],
   "source": [
    "def fizz_buzz(num):\n",
    "    a=[]\n",
    "    for i in range(1,num+1):\n",
    "        if not i%15 :\n",
    "            a.append('FizzBuzz')\n",
    "        else:\n",
    "            if not i%5:\n",
    "                 a.append('Buzz')\n",
    "            else: \n",
    "                if not i%3:\n",
    "                     a.append('Fizz')\n",
    "                else:\n",
    "                     a.append(i)\n",
    "    return a\n",
    "print(fizz_buzz(15))"
   ]
  },
  {
   "cell_type": "code",
   "execution_count": 19,
   "id": "e3c0880e",
   "metadata": {},
   "outputs": [
    {
     "name": "stdout",
     "output_type": "stream",
     "text": [
      "[1, 2, 'Fizz', 4, 'Buzz', 'Fizz', 7, 8, 'Fizz', 'Buzz', 11, 'Fizz', 13, 14, 'FizzBuzz']\n"
     ]
    }
   ],
   "source": [
    "def fizz_buzz(num):\n",
    "    return ['FizzBuzz' if not n%15 else 'Buzz' if not n%5 else 'Fizz' if not n%3 else n for n in range(1,num+1)]\n",
    "print(fizz_buzz(15))"
   ]
  },
  {
   "cell_type": "markdown",
   "id": "c5216371",
   "metadata": {},
   "source": [
    "# https://edabit.com/challenge/fmQ9QvPBWL7N9hSkq"
   ]
  },
  {
   "cell_type": "code",
   "execution_count": 21,
   "id": "954f2a9d",
   "metadata": {},
   "outputs": [
    {
     "name": "stdout",
     "output_type": "stream",
     "text": [
      "poem\n"
     ]
    }
   ],
   "source": [
    "def unstretch(word):\n",
    "    return word[0]+\"\".join([word[i] for i in range(1,len(word)) if word[i]!=word[i-1]])\n",
    "print(unstretch(\"ppooeemmm\"))"
   ]
  },
  {
   "cell_type": "code",
   "execution_count": 22,
   "id": "7b63aa7e",
   "metadata": {},
   "outputs": [
    {
     "name": "stdout",
     "output_type": "stream",
     "text": [
      "poem\n"
     ]
    }
   ],
   "source": [
    "def unstretch(word):\n",
    "    return ''.join([x for x,y in zip(word,word[1:]) if x!=y]) + word[-1]\n",
    "print(unstretch(\"ppooeemmm\"))\n"
   ]
  },
  {
   "cell_type": "markdown",
   "id": "0a779bfa",
   "metadata": {},
   "source": [
    "# Write a Python code to sort the list at below without using .sort() method of list. elements of \n",
    "list = [999, 333, 2, 8982, 12, 45, 77, 99, 11] Expected output: [2, 11, 12, 45, 77, 99, 333, 999, 8982]"
   ]
  },
  {
   "cell_type": "code",
   "execution_count": 23,
   "id": "92598b6f",
   "metadata": {},
   "outputs": [
    {
     "name": "stdout",
     "output_type": "stream",
     "text": [
      "[2, 11, 12, 45, 77, 99, 333, 999, 8982]\n"
     ]
    }
   ],
   "source": [
    "list_ = [999, 333, 2, 8982, 12, 45, 77, 99, 11]\n",
    "new_list = []\n",
    "\n",
    "while list_:\n",
    "    min_element = list_[0]\n",
    "    for i in list_:\n",
    "        if i < min_element:\n",
    "             min_element = i\n",
    "    new_list.append(min_element)\n",
    "    list_.remove(min_element)\n",
    "print(new_list)"
   ]
  },
  {
   "cell_type": "code",
   "execution_count": 24,
   "id": "b0621f71",
   "metadata": {},
   "outputs": [
    {
     "name": "stdout",
     "output_type": "stream",
     "text": [
      "[2, 11, 12, 45, 77, 99, 333, 999, 8982]\n"
     ]
    }
   ],
   "source": [
    "my_list = [999, 333, 2, 8982, 12, 45, 77, 99, 11]\n",
    "for i in range(len(my_list)):\n",
    "    for j in range(i+1, len(my_list)):\n",
    "        if my_list[i] > my_list[j]:\n",
    "            my_list[i], my_list[j] = my_list[j],  my_list[i]\n",
    "print(my_list)"
   ]
  },
  {
   "cell_type": "markdown",
   "id": "2fb2f7ed",
   "metadata": {},
   "source": [
    "# Bir dize kabul eden ve büyük harf ve küçük harf sayısını hesaplayan bir Python işlevi yazın. \n",
    "# Örnek Dizge : 'The quick Brow Fox'\n",
    "# Beklenen Çıktı :\n",
    "# Büyük harf karakter sayısı : 3\n",
    "# Küçük harf karakter sayısı : 12"
   ]
  },
  {
   "cell_type": "code",
   "execution_count": 29,
   "id": "775fa524",
   "metadata": {},
   "outputs": [
    {
     "name": "stdout",
     "output_type": "stream",
     "text": [
      "Büyük harf karakter sayısı : 3\n",
      "Küçük harf karakter sayısı : 12\n"
     ]
    }
   ],
   "source": [
    "string_ = \"The quick Brow Fox\"\n",
    "new_string_ = \"\".join(string_.split(\" \"))\n",
    "up , low = 0, 0\n",
    "for i in new_string_:\n",
    "    if i.isupper():\n",
    "        up += 1\n",
    "    else:\n",
    "        low += 1\n",
    "print(\"Büyük harf karakter sayısı : {}\\nKüçük harf karakter sayısı : {}\".format(up,low))\n"
   ]
  },
  {
   "cell_type": "markdown",
   "id": "c8b95267",
   "metadata": {},
   "source": [
    "# https://www.reddit.com/r/clarusway/comments/o2t0uj/do_you_want_to_solve_an_interview_question_that/"
   ]
  },
  {
   "cell_type": "code",
   "execution_count": 26,
   "id": "0a0e8342",
   "metadata": {},
   "outputs": [
    {
     "name": "stdout",
     "output_type": "stream",
     "text": [
      "[[7, 4, 1], [2, 5, 8], [3, 6, 9]]\n",
      "[[7, 4, 1], [8, 5, 2], [3, 6, 9]]\n",
      "[[7, 4, 1], [8, 5, 2], [9, 6, 3]]\n"
     ]
    }
   ],
   "source": [
    "a=[[1,2,3],[4,5,6],[7,8,9]]\n",
    "for i in range(len(a)):\n",
    "    for j in range(i,len(a)):\n",
    "         a[i][j], a[j][i] = a[j][i], a[i][j]\n",
    "for i in a:\n",
    "    i.reverse()\n",
    "    print(a)"
   ]
  },
  {
   "cell_type": "markdown",
   "id": "b4d7c3fb",
   "metadata": {},
   "source": [
    "# Bu listede \"ek\" ifadesini barindiran sözcüklerin uzunluklarini bir listeye yazdiralim"
   ]
  },
  {
   "cell_type": "code",
   "execution_count": 25,
   "id": "20b7b7fa",
   "metadata": {},
   "outputs": [
    {
     "name": "stdout",
     "output_type": "stream",
     "text": [
      "[6, 5, 5]\n"
     ]
    }
   ],
   "source": [
    "liste_1 = [\"sarma\", \"ekeske\", \"börek\", \"ekmek\", \"dolma\", \"kebap\"]\n",
    "\n",
    "liste_2 = filter(lambda x:\"ek\" in x, liste_1)\n",
    "liste_3 = map(lambda x:len(x),liste_2)\n",
    "print(list(liste_3))"
   ]
  },
  {
   "cell_type": "code",
   "execution_count": null,
   "id": "d5049a9d",
   "metadata": {},
   "outputs": [],
   "source": []
  }
 ],
 "metadata": {
  "kernelspec": {
   "display_name": "Python 3",
   "language": "python",
   "name": "python3"
  },
  "language_info": {
   "codemirror_mode": {
    "name": "ipython",
    "version": 3
   },
   "file_extension": ".py",
   "mimetype": "text/x-python",
   "name": "python",
   "nbconvert_exporter": "python",
   "pygments_lexer": "ipython3",
   "version": "3.8.10"
  }
 },
 "nbformat": 4,
 "nbformat_minor": 5
}
