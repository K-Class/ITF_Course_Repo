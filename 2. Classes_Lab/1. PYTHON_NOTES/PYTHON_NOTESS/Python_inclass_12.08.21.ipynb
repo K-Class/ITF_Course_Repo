{
 "cells": [
  {
   "cell_type": "code",
   "execution_count": 2,
   "id": "5c1e81a7",
   "metadata": {},
   "outputs": [],
   "source": [
    "def square(x):\n",
    "    return x**2"
   ]
  },
  {
   "cell_type": "code",
   "execution_count": 3,
   "id": "825fe5ea",
   "metadata": {},
   "outputs": [
    {
     "data": {
      "text/plain": [
       "36"
      ]
     },
     "execution_count": 3,
     "metadata": {},
     "output_type": "execute_result"
    }
   ],
   "source": [
    "square(6)"
   ]
  },
  {
   "cell_type": "code",
   "execution_count": null,
   "id": "4a1aefe6",
   "metadata": {},
   "outputs": [],
   "source": [
    "lambda x:x**2"
   ]
  },
  {
   "cell_type": "code",
   "execution_count": 7,
   "id": "d2a0b2db",
   "metadata": {},
   "outputs": [
    {
     "data": {
      "text/plain": [
       "<function __main__.<lambda>(x, y)>"
      ]
     },
     "execution_count": 7,
     "metadata": {},
     "output_type": "execute_result"
    }
   ],
   "source": [
    "lambda x, y: (x+y)/2  # takes two numbers, returns the result"
   ]
  },
  {
   "cell_type": "code",
   "execution_count": 5,
   "id": "4d66d857",
   "metadata": {},
   "outputs": [
    {
     "data": {
      "text/plain": [
       "<function __main__.<lambda>(x)>"
      ]
     },
     "execution_count": 5,
     "metadata": {},
     "output_type": "execute_result"
    }
   ],
   "source": [
    "lambda x: \"odd\" if x % 2 != 0 else \"even\"  #burada klasik if yapıları kullanılmaz. Bu şekildeki if yapıları kullanılmalıdır.\n",
    "                                        #bölüm 0 eşit değilse True döndür yani solu döndür. "
   ]
  },
  {
   "cell_type": "code",
   "execution_count": 9,
   "id": "6cd45357",
   "metadata": {},
   "outputs": [
    {
     "data": {
      "text/plain": [
       "<function __main__.<lambda>(x)>"
      ]
     },
     "execution_count": 9,
     "metadata": {},
     "output_type": "execute_result"
    }
   ],
   "source": [
    "lambda x: \"odd\" if x % 2 != 0 else \"even\""
   ]
  },
  {
   "cell_type": "code",
   "execution_count": 10,
   "id": "903a3de4",
   "metadata": {},
   "outputs": [
    {
     "name": "stdout",
     "output_type": "stream",
     "text": [
      "4\n"
     ]
    }
   ],
   "source": [
    "print((lambda x : x**2 )(2))"
   ]
  },
  {
   "cell_type": "code",
   "execution_count": null,
   "id": "c0b14fd1",
   "metadata": {},
   "outputs": [],
   "source": [
    "print((lambda x, y: (x+y)/2)(3, 5))  # takes two int, returns mean of them"
   ]
  },
  {
   "cell_type": "code",
   "execution_count": 11,
   "id": "529b0692",
   "metadata": {},
   "outputs": [
    {
     "name": "stdout",
     "output_type": "stream",
     "text": [
      "4.0\n"
     ]
    }
   ],
   "source": [
    "average = (lambda x, y: (x+y)/2)(3, 5) \n",
    "print(average)"
   ]
  },
  {
   "cell_type": "code",
   "execution_count": null,
   "id": "d0c30a4c",
   "metadata": {},
   "outputs": [],
   "source": [
    "average = lambda x, y: (x+y)/2\n",
    "print(average(3, 5))  # we call"
   ]
  },
  {
   "cell_type": "code",
   "execution_count": 16,
   "id": "27333b16",
   "metadata": {},
   "outputs": [
    {
     "name": "stdout",
     "output_type": "stream",
     "text": [
      "?nusum royilib nusroyileg nederen neS\n"
     ]
    }
   ],
   "source": [
    "print((lambda x : x [::-1])(\"Sen nereden geliyorsun biliyor musun?\")) #yazılan bir iterable tersten yazma"
   ]
  },
  {
   "cell_type": "code",
   "execution_count": 17,
   "id": "6dff0c07",
   "metadata": {},
   "outputs": [
    {
     "name": "stderr",
     "output_type": "stream",
     "text": [
      "<>:1: SyntaxWarning: 'function' object is not subscriptable; perhaps you missed a comma?\n",
      "<>:1: SyntaxWarning: 'function' object is not subscriptable; perhaps you missed a comma?\n",
      "<ipython-input-17-96c4b96f8659>:1: SyntaxWarning: 'function' object is not subscriptable; perhaps you missed a comma?\n",
      "  print((lambda x: \"odd\" if x % 2 != 0 else \"even\")[1,2,3,4])\n"
     ]
    },
    {
     "ename": "TypeError",
     "evalue": "'function' object is not subscriptable",
     "output_type": "error",
     "traceback": [
      "\u001b[1;31m---------------------------------------------------------------------------\u001b[0m",
      "\u001b[1;31mTypeError\u001b[0m                                 Traceback (most recent call last)",
      "\u001b[1;32m<ipython-input-17-96c4b96f8659>\u001b[0m in \u001b[0;36m<module>\u001b[1;34m\u001b[0m\n\u001b[1;32m----> 1\u001b[1;33m \u001b[0mprint\u001b[0m\u001b[1;33m(\u001b[0m\u001b[1;33m(\u001b[0m\u001b[1;32mlambda\u001b[0m \u001b[0mx\u001b[0m\u001b[1;33m:\u001b[0m \u001b[1;34m\"odd\"\u001b[0m \u001b[1;32mif\u001b[0m \u001b[0mx\u001b[0m \u001b[1;33m%\u001b[0m \u001b[1;36m2\u001b[0m \u001b[1;33m!=\u001b[0m \u001b[1;36m0\u001b[0m \u001b[1;32melse\u001b[0m \u001b[1;34m\"even\"\u001b[0m\u001b[1;33m)\u001b[0m\u001b[1;33m[\u001b[0m\u001b[1;36m1\u001b[0m\u001b[1;33m,\u001b[0m\u001b[1;36m2\u001b[0m\u001b[1;33m,\u001b[0m\u001b[1;36m3\u001b[0m\u001b[1;33m,\u001b[0m\u001b[1;36m4\u001b[0m\u001b[1;33m]\u001b[0m\u001b[1;33m)\u001b[0m\u001b[1;33m\u001b[0m\u001b[1;33m\u001b[0m\u001b[0m\n\u001b[0m",
      "\u001b[1;31mTypeError\u001b[0m: 'function' object is not subscriptable"
     ]
    }
   ],
   "source": [
    "print((lambda x: \"odd\" if x % 2 != 0 else \"even\")[1,2,3,4])"
   ]
  },
  {
   "cell_type": "code",
   "execution_count": 14,
   "id": "bd7dd2b9",
   "metadata": {},
   "outputs": [
    {
     "name": "stdout",
     "output_type": "stream",
     "text": [
      "1 : odd\n",
      "2 : even\n",
      "3 : odd\n",
      "4 : even\n",
      "5 : odd\n",
      "6 : even\n",
      "7 : odd\n",
      "8 : even\n",
      "9 : odd\n",
      "10 : even\n"
     ]
    }
   ],
   "source": [
    "for i in [1,2,3,4,5,6,7,8,9,10]:\n",
    "    print(i, \":\",(lambda x : \"even\" if i % 2 == 0 else \"odd\")(x))"
   ]
  },
  {
   "cell_type": "code",
   "execution_count": 22,
   "id": "9ace8e33",
   "metadata": {},
   "outputs": [],
   "source": [
    "iterable = \"clarusway\""
   ]
  },
  {
   "cell_type": "code",
   "execution_count": 24,
   "id": "6b19f255",
   "metadata": {},
   "outputs": [
    {
     "data": {
      "text/plain": [
       "'yawsuralc'"
      ]
     },
     "execution_count": 24,
     "metadata": {},
     "output_type": "execute_result"
    }
   ],
   "source": [
    "reverser = lambda x : x[::-1]\n",
    "reverser(iterable)"
   ]
  },
  {
   "cell_type": "code",
   "execution_count": null,
   "id": "1e496b62",
   "metadata": {},
   "outputs": [],
   "source": [
    "# The basic formula syntax is : map(function, iterable)  tek tek iterable değerlerini func içine uyguluyor ve a+b+c şeklinde bir object üretiyor.\n"
   ]
  },
  {
   "cell_type": "code",
   "execution_count": 32,
   "id": "b321004b",
   "metadata": {},
   "outputs": [
    {
     "ename": "SyntaxError",
     "evalue": "invalid syntax (<ipython-input-32-000d4425d645>, line 7)",
     "output_type": "error",
     "traceback": [
      "\u001b[1;36m  File \u001b[1;32m\"<ipython-input-32-000d4425d645>\"\u001b[1;36m, line \u001b[1;32m7\u001b[0m\n\u001b[1;33m    print(list(map(lambda x: x**, iterable)))  #you can print directly\u001b[0m\n\u001b[1;37m                                ^\u001b[0m\n\u001b[1;31mSyntaxError\u001b[0m\u001b[1;31m:\u001b[0m invalid syntax\n"
     ]
    }
   ],
   "source": [
    "iterable=[1,2,3,4,5]\n",
    "map(lambda x:x**2,iterable)\n",
    "result = map(lambda x:x**2,iterable)  #it is a map type\n",
    "\n",
    "print(type(result))\n",
    "print(list(result))  #we have converted it to list type to print\n",
    "print(list(map(lambda x: x**, iterable)))  #you can print directly"
   ]
  },
  {
   "cell_type": "code",
   "execution_count": 28,
   "id": "08f4d4ef",
   "metadata": {},
   "outputs": [],
   "source": [
    "rakamlar = [1,2,3,4,5]"
   ]
  },
  {
   "cell_type": "code",
   "execution_count": 29,
   "id": "1b199d9c",
   "metadata": {},
   "outputs": [],
   "source": [
    "def square(n):\n",
    "    return n **2"
   ]
  },
  {
   "cell_type": "code",
   "execution_count": 30,
   "id": "693986f7",
   "metadata": {},
   "outputs": [],
   "source": [
    "result = map (square, rakamlar)"
   ]
  },
  {
   "cell_type": "code",
   "execution_count": 31,
   "id": "08a2d2a0",
   "metadata": {},
   "outputs": [
    {
     "name": "stdout",
     "output_type": "stream",
     "text": [
      "1\n",
      "4\n",
      "9\n",
      "16\n",
      "25\n"
     ]
    }
   ],
   "source": [
    "for i in result :\n",
    "    print(i)"
   ]
  },
  {
   "cell_type": "code",
   "execution_count": 33,
   "id": "6230e62f",
   "metadata": {},
   "outputs": [
    {
     "name": "stdout",
     "output_type": "stream",
     "text": [
      "['one', 'six', 'ten', 'two']\n"
     ]
    }
   ],
   "source": [
    "letter1 = [\"o\", \"s\",\"t\",\"t\"]\n",
    "letter2 = [\"n\", \"i\",\"e\",\"w\"]\n",
    "letter3 = [\"e\", \"x\",\"n\",\"o\"]\n",
    "numbers = map(lambda x,y,z : x+y+z, letter1,letter2,letter3) #x+y+z string olanları concanete yaparken int olanları toplar.\n",
    "                                                            #her iterable in ilk harflerini alarak sırasıyla yazar ve objectler oluşmaya başlar.\n",
    "print(list(numbers))"
   ]
  },
  {
   "cell_type": "code",
   "execution_count": 38,
   "id": "f01e7d03",
   "metadata": {},
   "outputs": [
    {
     "name": "stdout",
     "output_type": "stream",
     "text": [
      "[8, 18, 12, 13]\n"
     ]
    }
   ],
   "source": [
    "letter1 = [1, 2, 3, 4]\n",
    "letter2 = [3, 6, 7, 8]\n",
    "letter3 = [4, 10, 2, 1]\n",
    "numbers = map(lambda x,y,z : x+y+z, letter1,letter2,letter3) #x+y+z string olanları concanete yaparken int olanları toplar.\n",
    "                                                            #her iterable in ilk harflerini alarak sırasıyla yazar ve objectler oluşmaya başlar.\n",
    "print(list(numbers))"
   ]
  },
  {
   "cell_type": "code",
   "execution_count": 36,
   "id": "79783952",
   "metadata": {},
   "outputs": [
    {
     "name": "stdout",
     "output_type": "stream",
     "text": [
      "[6.0, 6.0, 6.0, 6.0]\n"
     ]
    }
   ],
   "source": [
    "nums1 = [9,6,7,4]\n",
    "nums2 = [3,6,5,8]\n",
    "ort = map(lambda x,y : (x+y)/2, nums1, nums2)\n",
    "\n",
    "print(list(ort))"
   ]
  },
  {
   "cell_type": "code",
   "execution_count": 9,
   "id": "a5bd44f5",
   "metadata": {},
   "outputs": [
    {
     "name": "stdout",
     "output_type": "stream",
     "text": [
      "[<map object at 0x000001CF745F53A0>, <map object at 0x000001CF745F53A0>, <map object at 0x000001CF745F53A0>]\n"
     ]
    }
   ],
   "source": [
    "kelimeler = [\"ali veli deli\", \"mehmet'in kuzeni\", \"cemilin-bacısı\"]\n",
    "uzunluk = map(lambda x: len, kelimeler)\n",
    "\n",
    "print(list(uzunluk))"
   ]
  },
  {
   "cell_type": "code",
   "execution_count": 1,
   "id": "8c68ae73",
   "metadata": {},
   "outputs": [
    {
     "data": {
      "text/plain": [
       "[13, 16, 14]"
      ]
     },
     "execution_count": 1,
     "metadata": {},
     "output_type": "execute_result"
    }
   ],
   "source": [
    "kelimeler = [\"ali veli deli\", \"mehmet'in kuzeni\", \"cemilin-bacısı\"]\n",
    "list(map(len, kelimeler))"
   ]
  },
  {
   "cell_type": "code",
   "execution_count": 6,
   "id": "c380aa64",
   "metadata": {},
   "outputs": [
    {
     "data": {
      "text/plain": [
       "[[' ', ' ', 'a', 'd', 'e', 'e', 'i', 'i', 'i', 'l', 'l', 'l', 'v'],\n",
       " [' ',\n",
       "  \"'\",\n",
       "  'e',\n",
       "  'e',\n",
       "  'e',\n",
       "  'h',\n",
       "  'i',\n",
       "  'i',\n",
       "  'k',\n",
       "  'm',\n",
       "  'm',\n",
       "  'n',\n",
       "  'n',\n",
       "  't',\n",
       "  'u',\n",
       "  'z'],\n",
       " ['-', 'a', 'b', 'c', 'c', 'e', 'i', 'i', 'l', 'm', 'n', 's', 'ı', 'ı']]"
      ]
     },
     "execution_count": 6,
     "metadata": {},
     "output_type": "execute_result"
    }
   ],
   "source": [
    "list(map(sorted,kelimeler))"
   ]
  },
  {
   "cell_type": "code",
   "execution_count": 13,
   "id": "d852194b",
   "metadata": {},
   "outputs": [
    {
     "name": "stdout",
     "output_type": "stream",
     "text": [
      "hellohellohello\n"
     ]
    }
   ],
   "source": [
    "echo_word = lambda x,y : x * y\n",
    "print(echo_word(\"hello\",3))   "
   ]
  },
  {
   "cell_type": "code",
   "execution_count": 17,
   "id": "e5597934",
   "metadata": {},
   "outputs": [
    {
     "name": "stdout",
     "output_type": "stream",
     "text": [
      "['ı love you', 'you ate much', 'he works hard']\n"
     ]
    }
   ],
   "source": [
    "letter1 = [\"you\",\"much\",\"hard\"]\n",
    "letter2 = [\"ı\",\"you\",\"he\"]\n",
    "letter3 = [\"love\",\"ate\",\"works\"]\n",
    "numbers = map(lambda x,y,z : y + \" \"+ z + \" \" + x, letter1,letter2,letter3) #x+y+z string olanları concanete yaparken int olanları toplar.\n",
    "                                                            #her iterable in ilk harflerini alarak sırasıyla yazar ve objectler oluşmaya başlar.\n",
    "print(list(numbers))"
   ]
  },
  {
   "cell_type": "code",
   "execution_count": 18,
   "id": "2fcbcb3b",
   "metadata": {},
   "outputs": [
    {
     "name": "stdout",
     "output_type": "stream",
     "text": [
      "['ı love you', 'you ate much', 'he works hard']\n"
     ]
    }
   ],
   "source": [
    "letter1 = [\"you\",\"much\",\"hard\"]\n",
    "letter2 = [\"ı\",\"you\",\"he\"]\n",
    "letter3 = [\"love\",\"ate\",\"works\"]\n",
    "numbers = map(lambda x,y,z : x + \" \"+ y + \" \" + z, letter2,letter3,letter1) #x+y+z string olanları concanete yaparken int olanları toplar.\n",
    "                                                            #her iterable in ilk harflerini alarak sırasıyla yazar ve objectler oluşmaya başlar.\n",
    "print(list(numbers))"
   ]
  },
  {
   "cell_type": "code",
   "execution_count": 22,
   "id": "74efcf2f",
   "metadata": {},
   "outputs": [
    {
     "name": "stdout",
     "output_type": "stream",
     "text": [
      "<class 'filter'>\n",
      "Even numbers are : [0, 2, 4, 6, 8]\n"
     ]
    }
   ],
   "source": [
    "first_ten = [0,1,2,3,4,5,6,7,8,9]\n",
    "\n",
    "even = filter(lambda x:x%2==0, first_ten)   #iterable her bir elemanına true mu false mu döndürür sorar ona göre sonucu alır.\n",
    "print(type(even))  #it's \"filter\" type,\n",
    "                   #in order to print the result,\n",
    "                   #we'd better convert it into the list type\n",
    "        \n",
    "print(\"Even numbers are :\", list(even))"
   ]
  },
  {
   "cell_type": "code",
   "execution_count": 21,
   "id": "7c033c46",
   "metadata": {},
   "outputs": [
    {
     "name": "stdout",
     "output_type": "stream",
     "text": [
      "<class 'filter'>\n",
      "Even numbers ar : [1, 3, 5, 7, 9]\n"
     ]
    }
   ],
   "source": [
    "first_ten = [0,1,2,3,4,5,6,7,8,9]\n",
    "\n",
    "odd = filter(lambda x:x%2!=0, first_ten)   #iterable her bir elemanına true mu false mu döndürür sorar ona göre sonucu alır.\n",
    "print(type(odd))  #it's \"filter\" type,\n",
    "                   #in order to print the result,\n",
    "                   #we'd better convert it into the list type\n",
    "        \n",
    "print(\"Even numbers are :\", list(odd))"
   ]
  },
  {
   "cell_type": "code",
   "execution_count": 1,
   "id": "db751201",
   "metadata": {},
   "outputs": [
    {
     "name": "stdout",
     "output_type": "stream",
     "text": [
      "['swim', 'me', 'kiwi']\n"
     ]
    }
   ],
   "source": [
    "words = [\"apple\", \"swim\", \"clock\", \"me\", \"kiwi\", \"banana\"]\n",
    "print(list(filter(lambda x: len(x)<5, words)))\n"
   ]
  },
  {
   "cell_type": "code",
   "execution_count": 2,
   "id": "1beb9193",
   "metadata": {},
   "outputs": [
    {
     "name": "stdout",
     "output_type": "stream",
     "text": [
      "a e i\n"
     ]
    }
   ],
   "source": [
    "first_ten = ['a', 'b', 'c', 'd', 'e', 'f', 'g', 'h', 'i', 'j']\n",
    "sesli = [\"a\", \"e\", \"i\", \"o\", \"u\"]\n",
    "filtered_words = filter(lambda x: x in sesli, first_ten)        \n",
    "print(*filtered_words)"
   ]
  },
  {
   "cell_type": "code",
   "execution_count": 3,
   "id": "7d0864f5",
   "metadata": {},
   "outputs": [
    {
     "name": "stdout",
     "output_type": "stream",
     "text": [
      "vowels are :  ['a', 'e', 'i']\n"
     ]
    }
   ],
   "source": [
    "first_ten = ['a', 'b', 'c', 'd', 'e', 'f', 'g', 'h', 'i', 'j']\n",
    "sesli = [\"a\", \"e\", \"i\", \"o\", \"u\"]\n",
    "vowels = filter(lambda x: True if x in sesli else False, first_ten)        \n",
    "print(\"vowels are : \", list(vowels))"
   ]
  },
  {
   "cell_type": "markdown",
   "id": "e6c0d70c",
   "metadata": {},
   "source": [
    "# ROBOT SORUSU"
   ]
  },
  {
   "cell_type": "code",
   "execution_count": 11,
   "id": "d2a6aa83",
   "metadata": {},
   "outputs": [],
   "source": [
    "C = [\"right 20\", \"right 30\", \"left 50\", \"down 20\", \"up 10\"]"
   ]
  },
  {
   "cell_type": "code",
   "execution_count": null,
   "id": "900f49e3",
   "metadata": {},
   "outputs": [],
   "source": [
    "# [0, -10]"
   ]
  },
  {
   "cell_type": "code",
   "execution_count": 14,
   "id": "3d81040c",
   "metadata": {},
   "outputs": [
    {
     "data": {
      "text/plain": [
       "[0, -10]"
      ]
     },
     "execution_count": 14,
     "metadata": {},
     "output_type": "execute_result"
    }
   ],
   "source": [
    "x = y = 0  #bunlar integer koordinatlar.\n",
    "\n",
    "for i in range(len(C)):  #uzunluk 0-4 olduğundan 4 döndürecek. Böylece elemanları indekslemiş oldum.\n",
    "    if C[i].startswith(\"r\"): x = x + int(C[i].split()[1])  #string değeri integere çevirdik.\n",
    "    elif C[i].startswith(\"l\"): x = x - int(C[i].split()[1])    \n",
    "    elif C[i].startswith(\"u\"): y = y + int(C[i].split()[1])\n",
    "    elif C[i].startswith(\"d\"): y = y - int(C[i].split()[1])\n",
    "[x, y]"
   ]
  },
  {
   "cell_type": "code",
   "execution_count": 6,
   "id": "17d17f20",
   "metadata": {},
   "outputs": [
    {
     "data": {
      "text/plain": [
       "['right', '20']"
      ]
     },
     "execution_count": 6,
     "metadata": {},
     "output_type": "execute_result"
    }
   ],
   "source": [
    "C[0].split()"
   ]
  },
  {
   "cell_type": "code",
   "execution_count": 7,
   "id": "e47640b6",
   "metadata": {},
   "outputs": [
    {
     "data": {
      "text/plain": [
       "'20'"
      ]
     },
     "execution_count": 7,
     "metadata": {},
     "output_type": "execute_result"
    }
   ],
   "source": [
    "C[0].split()[1]  #string bir değer verdi bize."
   ]
  },
  {
   "cell_type": "code",
   "execution_count": 6,
   "id": "6bb8db7c",
   "metadata": {},
   "outputs": [
    {
     "name": "stdout",
     "output_type": "stream",
     "text": [
      "[3, 6, 9, 12, 15]\n"
     ]
    }
   ],
   "source": [
    "number_list = [1, 2, 3, 4, 5]\n",
    "\n",
    "result = list(map(lambda x : x+x+x, number_list))\n",
    "print(result)"
   ]
  },
  {
   "cell_type": "code",
   "execution_count": 7,
   "id": "ed8786b3",
   "metadata": {},
   "outputs": [],
   "source": [
    "number_list=[1, 2, 3, 4, 5, 6, 7, 8, 9, 10]"
   ]
  },
  {
   "cell_type": "code",
   "execution_count": 10,
   "id": "eaba593f",
   "metadata": {},
   "outputs": [
    {
     "name": "stdout",
     "output_type": "stream",
     "text": [
      "[6, 7, 8, 9, 10]\n"
     ]
    }
   ],
   "source": [
    "result = print(list(filter(lambda x:x>=6, number_list)))"
   ]
  },
  {
   "cell_type": "code",
   "execution_count": 9,
   "id": "980f13ac",
   "metadata": {},
   "outputs": [
    {
     "name": "stdout",
     "output_type": "stream",
     "text": [
      "[6, 7, 8, 9, 10]\n"
     ]
    }
   ],
   "source": [
    "number_list = [1, 2, 3, 4, 5, 6, 7, 8, 9, 10]\n",
    "\n",
    "result = list(filter(lambda x:x>=6, number_list))\n",
    "print(result)"
   ]
  },
  {
   "cell_type": "code",
   "execution_count": 11,
   "id": "31eb0b9a",
   "metadata": {},
   "outputs": [
    {
     "name": "stdout",
     "output_type": "stream",
     "text": [
      "4\n",
      "8\n",
      "16\n"
     ]
    }
   ],
   "source": [
    "def modular_function(n):\n",
    "    return lambda x: x ** n\n",
    "    \n",
    "power_of_2 = modular_function(2)  # first sub-function derived from def\n",
    "power_of_3 = modular_function(3)  # second sub-function derived from def\n",
    "power_of_4 = modular_function(4)  # third sub-function derived from def\n",
    "\n",
    "print(power_of_2(2))  # 2 to the power of 2\n",
    "print(power_of_3(2))  # 2 to the power of 3\n",
    "print(power_of_4(2))  # 2 to the power of 4"
   ]
  },
  {
   "cell_type": "code",
   "execution_count": 12,
   "id": "8def1a6e",
   "metadata": {},
   "outputs": [
    {
     "name": "stdout",
     "output_type": "stream",
     "text": [
      "alex alex \n",
      "lara lara lara \n",
      "linda linda linda linda \n"
     ]
    }
   ],
   "source": [
    "def repeater(n):\n",
    "    return lambda x: x * n\n",
    "    \n",
    "repeat_2_times = repeater(2)  # repeats 2 times\n",
    "repeat_3_times = repeater(3)  # repeats 3 times\n",
    "repeat_4_times = repeater(4)  # repeats 4 times\n",
    "\n",
    "print(repeat_2_times('alex '))\n",
    "print(repeat_3_times('lara '))\n",
    "print(repeat_4_times('linda '))"
   ]
  },
  {
   "cell_type": "code",
   "execution_count": 13,
   "id": "a46f53d4",
   "metadata": {},
   "outputs": [
    {
     "name": "stdout",
     "output_type": "stream",
     "text": [
      "125\n"
     ]
    }
   ],
   "source": [
    "def modular_function(n):\n",
    "    return lambda x: x ** n\n",
    "\n",
    "power_of_3 = modular_function(3)\n",
    "print(power_of_3(5))"
   ]
  },
  {
   "cell_type": "code",
   "execution_count": 14,
   "id": "6da8cf0f",
   "metadata": {},
   "outputs": [
    {
     "name": "stdout",
     "output_type": "stream",
     "text": [
      "125\n"
     ]
    }
   ],
   "source": [
    "print((lambda x: x**3)(5))"
   ]
  },
  {
   "cell_type": "code",
   "execution_count": 15,
   "id": "9ac7e5fc",
   "metadata": {},
   "outputs": [
    {
     "name": "stdout",
     "output_type": "stream",
     "text": [
      "9.0\n"
     ]
    }
   ],
   "source": [
    "mean = lambda x, y: (x+y)/2\n",
    "print(mean(8, 10))"
   ]
  },
  {
   "cell_type": "code",
   "execution_count": 16,
   "id": "83f57d96",
   "metadata": {},
   "outputs": [
    {
     "name": "stdout",
     "output_type": "stream",
     "text": [
      "45\n"
     ]
    }
   ],
   "source": [
    "multiply = lambda x: x * 4\n",
    "add = lambda x, y: x + y\n",
    "print(add(multiply(10), 5))"
   ]
  },
  {
   "cell_type": "code",
   "execution_count": 17,
   "id": "54751e2a",
   "metadata": {},
   "outputs": [
    {
     "name": "stdout",
     "output_type": "stream",
     "text": [
      "[1, 8, 27, 64]\n"
     ]
    }
   ],
   "source": [
    "number_list = [1, 2, 3, 4]\n",
    "result = map(lambda x:x**3, number_list)\n",
    "print(list(result))"
   ]
  },
  {
   "cell_type": "code",
   "execution_count": 18,
   "id": "69275cdd",
   "metadata": {},
   "outputs": [
    {
     "name": "stdout",
     "output_type": "stream",
     "text": [
      "[0, 3, 6, 9, 12]\n"
     ]
    }
   ],
   "source": [
    "number_list = [0, 1, 2, 3, 4, 5, 6, 7, 8, 9, 10, 11, 12] \n",
    "divisible_list = filter(lambda x:x%3==0, number_list) \n",
    "print(list(divisible_list))"
   ]
  },
  {
   "cell_type": "code",
   "execution_count": 4,
   "id": "a4a583b7",
   "metadata": {},
   "outputs": [
    {
     "name": "stdout",
     "output_type": "stream",
     "text": [
      "25\n"
     ]
    }
   ],
   "source": [
    "square = lambda x: x**2\n",
    "print(square(5))                "
   ]
  },
  {
   "cell_type": "code",
   "execution_count": 13,
   "id": "358fc3b5",
   "metadata": {},
   "outputs": [
    {
     "name": "stdout",
     "output_type": "stream",
     "text": [
      "[1, 4, 9, 16, 25]\n"
     ]
    }
   ],
   "source": [
    "number_list = [1, 2, 3, 4, 5]\n",
    "\n",
    "result = list(map(lambda x : x**2, number_list))\n",
    "print(result)"
   ]
  },
  {
   "cell_type": "code",
   "execution_count": 14,
   "id": "ebff472b",
   "metadata": {},
   "outputs": [
    {
     "name": "stdout",
     "output_type": "stream",
     "text": [
      "[1, 4, 9, 16, 25]\n"
     ]
    }
   ],
   "source": [
    "number_list = [1, 2, 3, 4, 5]\n",
    "\n",
    "result = print(list(map(lambda x : x**2, number_list)))"
   ]
  },
  {
   "cell_type": "code",
   "execution_count": 18,
   "id": "aabe995c",
   "metadata": {},
   "outputs": [
    {
     "name": "stdout",
     "output_type": "stream",
     "text": [
      "[1, 3, 5, 7, 9]\n"
     ]
    }
   ],
   "source": [
    "number_list=[1, 2, 3, 4, 5, 6, 7, 8, 9, 10]\n",
    "\n",
    "result= filter(lambda x: x%2!=0, number_list)\n",
    "print(list(result))"
   ]
  },
  {
   "cell_type": "code",
   "execution_count": 23,
   "id": "3d0745b7",
   "metadata": {},
   "outputs": [
    {
     "name": "stdout",
     "output_type": "stream",
     "text": [
      "[1, 4, 9, 16, 25]\n"
     ]
    }
   ],
   "source": [
    "number_list = [1, 2, 3, 4, 5]\n",
    "\n",
    "result = map(lambda x : x**2, number_list)\n",
    "print(list(result))"
   ]
  },
  {
   "cell_type": "code",
   "execution_count": null,
   "id": "9139fc3c",
   "metadata": {},
   "outputs": [],
   "source": []
  }
 ],
 "metadata": {
  "kernelspec": {
   "display_name": "Python 3",
   "language": "python",
   "name": "python3"
  },
  "language_info": {
   "codemirror_mode": {
    "name": "ipython",
    "version": 3
   },
   "file_extension": ".py",
   "mimetype": "text/x-python",
   "name": "python",
   "nbconvert_exporter": "python",
   "pygments_lexer": "ipython3",
   "version": "3.8.10"
  }
 },
 "nbformat": 4,
 "nbformat_minor": 5
}
