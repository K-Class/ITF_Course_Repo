{
 "cells": [
  {
   "cell_type": "markdown",
   "id": "07ff97b1",
   "metadata": {},
   "source": [
    "# ANAPARAYA FAİZ HESAPLAMA"
   ]
  },
  {
   "cell_type": "code",
   "execution_count": null,
   "id": "c5936c21",
   "metadata": {},
   "outputs": [],
   "source": [
    "capital_money = 1000  #Yatırılan anapara tutarı.\n",
    "capital_money = (capital_money+capital_money*7/100)**7  #Günlük %7 sabit kazanç ile günlük anapara aynı kalırsa 7 gün sonundaki tutar.\n",
    "capital_money"
   ]
  },
  {
   "cell_type": "markdown",
   "id": "e90dd02e",
   "metadata": {},
   "source": [
    "# CELCİLUSU FAHREYNHEİT ÇEVİRME VE KARA MİLİNE ÇEVİRME"
   ]
  },
  {
   "cell_type": "code",
   "execution_count": null,
   "id": "c4faf52b",
   "metadata": {},
   "outputs": [],
   "source": [
    "value = 100  # celcilus olarak girilen değer\n",
    "value = (value*9/5)+32  # celcilus olarak girilen değeri fahreynheit çeriyoruz.\n",
    "value\n",
    "distance = 100  # km olarak mesafeyi giriyoruz\n",
    "distance = distance/0.621371192  # km olarak girilen değeri kara miline çeviriyor.\n",
    "distance"
   ]
  },
  {
   "cell_type": "markdown",
   "id": "a399605e",
   "metadata": {},
   "source": [
    "# Assignment-009/2 (Covid-19 Risk)"
   ]
  },
  {
   "cell_type": "code",
   "execution_count": 5,
   "id": "1d9491fc",
   "metadata": {},
   "outputs": [
    {
     "name": "stdout",
     "output_type": "stream",
     "text": [
      "Are you a cigarette addice older than 75 years old?(True/False):true\n",
      "Do you have a sever chronic disease?(True/False):false\n",
      "Is your immune system too week?(True/False):false\n",
      "True\n",
      "You are in risky group\n"
     ]
    }
   ],
   "source": [
    "age=input(\"Are you a cigarette addice older than 75 years old?(True/False):\").title().strip()\n",
    "chronic=input(\"Do you have a sever chronic disease?(True/False):\").title().strip()\n",
    "immune=input(\"Is your immune system too week?(True/False):\").title().strip()\n",
    "risk = age or chronic or immune\n",
    "print(risk)\n",
    "if risk == \"True\" :\n",
    " print(\"You are in risky group\")\n",
    "else: \n",
    " print(\"You are not in risky group\")"
   ]
  },
  {
   "cell_type": "markdown",
   "id": "ac803a1e",
   "metadata": {},
   "source": [
    "# BİR LİSTE İÇİNDE EN ÇOK TEKRAR EDEN SAYI VE TEKRAR SAYISINI BULMA"
   ]
  },
  {
   "cell_type": "code",
   "execution_count": 5,
   "id": "df31c478",
   "metadata": {},
   "outputs": [
    {
     "name": "stdout",
     "output_type": "stream",
     "text": [
      "En çok tekrar eden 3 sayısıdır ve 4 kere tekrar etmiştir.\n"
     ]
    }
   ],
   "source": [
    "nu = [1, 3, 7, 4, 3, 0, 3, 6, 3]\n",
    "a = max(nu, key = nu.count)\n",
    "b = nu.count(max(nu, key = nu.count))\n",
    "print(\"En çok tekrar eden {} sayısıdır ve {} kere tekrar etmiştir.\".format(a,b))"
   ]
  },
  {
   "cell_type": "code",
   "execution_count": 2,
   "id": "6f1ebf82",
   "metadata": {},
   "outputs": [
    {
     "name": "stdout",
     "output_type": "stream",
     "text": [
      "3 elemanı dizi içinde  4 adet bulunmakta\n"
     ]
    }
   ],
   "source": [
    "def countX(numbers, x): \n",
    "    count = 0\n",
    "    for ele in numbers: \n",
    "        if (ele == x): \n",
    "            count = count + 1\n",
    "    return count \n",
    "  \n",
    " \n",
    "numbers = [1, 3, 7, 4, 3, 0, 3, 6, 3]\n",
    "x = 3\n",
    "print('{} elemanı dizi içinde  {} adet bulunmakta'.format(x, countX(numbers, x)))\n"
   ]
  },
  {
   "cell_type": "code",
   "execution_count": 3,
   "id": "5b2ade1b",
   "metadata": {},
   "outputs": [
    {
     "name": "stdout",
     "output_type": "stream",
     "text": [
      "4\n"
     ]
    }
   ],
   "source": [
    "liste =[\"elma\",\"armut\",\"elma\",\"kiraz\",\"karpuz\",\"Üzüm\",\"elma\",\"elma\"]\n",
    "listee = []\n",
    "for i in liste:\n",
    "    listee.append(liste.count(i))\n",
    "print(max(listee))"
   ]
  },
  {
   "cell_type": "code",
   "execution_count": null,
   "id": "935f401e",
   "metadata": {},
   "outputs": [],
   "source": [
    "numbers = [1, 3, 7, 4, 3, 0, 3, 6, 3]\n",
    "number = []\n",
    "for i in numbers:\n",
    "    number.append(numbers.count(i))\n",
    "print(max(number))"
   ]
  },
  {
   "cell_type": "code",
   "execution_count": 4,
   "id": "fd29fb2b",
   "metadata": {},
   "outputs": [
    {
     "name": "stdout",
     "output_type": "stream",
     "text": [
      "3 elemanı dizi içinde  4 adet bulunmaktadır.\n"
     ]
    }
   ],
   "source": [
    "def countX(numbers, x): \n",
    "    return numbers.count(x) \n",
    "  \n",
    " \n",
    "numbers = [1, 3, 7, 4, 3, 0, 3, 6, 3]\n",
    "x = 3\n",
    "print('{} elemanı dizi içinde  {} adet bulunmaktadır.'.format(x, countX(numbers, x)))"
   ]
  },
  {
   "cell_type": "markdown",
   "id": "7f97dd40",
   "metadata": {},
   "source": [
    "# COMFORTABLE WORD"
   ]
  },
  {
   "cell_type": "code",
   "execution_count": null,
   "id": "e8c30a4c",
   "metadata": {},
   "outputs": [],
   "source": [
    "left = {\"q\", \"w\", \"e\", \"r\", \"t\", \"a\", \"s\", \"d\", \"f\", \"g\", \"z\", \"x\", \"c\", \"v\", \"b\"}\n",
    "right = {\"y\", \"u\", \"i\", \"o\", \"p\", \"h\", \"j\", \"k\", \"l\", \"n\", \"m\"}\n",
    "word = input(\"give me a word please:\")\n",
    "set_word = set(word)\n",
    "a=set_word - left\n",
    "b=set_word - right\n",
    "left_bool = bool(a)\n",
    "right_bool = bool(b)\n",
    "left_bool and right_bool"
   ]
  },
  {
   "cell_type": "markdown",
   "id": "b3c5e35d",
   "metadata": {},
   "source": [
    "# Assignment-009/3 (Is it an Armstrong Number?)"
   ]
  },
  {
   "cell_type": "code",
   "execution_count": 21,
   "id": "6a5784fa",
   "metadata": {},
   "outputs": [
    {
     "name": "stdout",
     "output_type": "stream",
     "text": [
      "enter a number:5\n",
      "5 is an Amstrong number.\n"
     ]
    }
   ],
   "source": [
    "nu = input(\"enter a number:\")\n",
    "toplam = 0\n",
    "\n",
    "while not nu.isdigit() :      \n",
    "    print(\"It is an invalid entry. Don't use non-numeric, float, or negative values!\")\n",
    "    nu = input(\"enter a number:\")\n",
    "nu=int(nu)\n",
    "sayı=str(nu)\n",
    "for rakam in sayı:\n",
    "    \n",
    "    toplam += int(rakam)**len(sayı)\n",
    "if nu == toplam:\n",
    "    print(\"{} is an Amstrong number.\".format(nu))\n",
    "else: \n",
    "    print(\"{} is not an Amstrong number.\".format(nu))"
   ]
  },
  {
   "cell_type": "code",
   "execution_count": 10,
   "id": "18e5f26b",
   "metadata": {},
   "outputs": [
    {
     "name": "stdout",
     "output_type": "stream",
     "text": [
      "enter a number:407\n",
      "407 is an Amstrong number.\n"
     ]
    }
   ],
   "source": [
    "nu = int(input(\"enter a number:\"))\n",
    "toplam = 0\n",
    "sayı=str(nu)\n",
    "for rakam in sayı:\n",
    "    toplam += int(rakam)**len(sayı)\n",
    "if nu == toplam:\n",
    "    print(\"{} is an Amstrong number.\".format(nu))\n",
    "else: \n",
    "    print(\"{} is not an Amstrong number.\".format(nu))\n"
   ]
  },
  {
   "cell_type": "code",
   "execution_count": 40,
   "id": "56978d66",
   "metadata": {},
   "outputs": [
    {
     "name": "stdout",
     "output_type": "stream",
     "text": [
      "harf harf : P\n",
      "harf harf : y\n",
      "harf harf : t\n",
      "harf harf : h\n",
      "harf harf : o\n",
      "harf harf : n\n",
      "harf harf : t\n",
      "harf harf : r\n"
     ]
    }
   ],
   "source": [
    "for karakter in 'Pythontr':     # ilk ornek\n",
    "   print('harf harf :',karakter)"
   ]
  },
  {
   "cell_type": "code",
   "execution_count": 35,
   "id": "145d9272",
   "metadata": {},
   "outputs": [
    {
     "name": "stdout",
     "output_type": "stream",
     "text": [
      "Bir sayı girin: 350\n",
      "sayının rakamları toplamı: 8\n"
     ]
    }
   ],
   "source": [
    "sayi=input(\"Bir sayı girin: \")#str formatında giriş yapar\n",
    "toplam=0\n",
    "for rakam in sayi:\n",
    "  toplam += int(rakam)\n",
    " \n",
    "print(\"sayının rakamları toplamı:\",toplam)"
   ]
  },
  {
   "cell_type": "markdown",
   "id": "a7639e85",
   "metadata": {},
   "source": [
    "# Assignment-009/4 (Is it a Prime Number?)"
   ]
  },
  {
   "cell_type": "code",
   "execution_count": 18,
   "id": "193bdcac",
   "metadata": {},
   "outputs": [
    {
     "name": "stdout",
     "output_type": "stream",
     "text": [
      "Enter any number:19\n",
      "19 is prime number\n"
     ]
    }
   ],
   "source": [
    "number = int(input(\"Enter any number:\"))\n",
    "if number>1:\n",
    "    for i in range(2,number):\n",
    "        if (number%i)==0:\n",
    "            print(number, \"is not prime number\")\n",
    "            break\n",
    "    else:\n",
    "            print(number, \"is prime number\")"
   ]
  },
  {
   "cell_type": "markdown",
   "id": "e0f9d35f",
   "metadata": {},
   "source": [
    "# Assignment-009/1 (Password Reminder)"
   ]
  },
  {
   "cell_type": "code",
   "execution_count": null,
   "id": "7481cc26",
   "metadata": {},
   "outputs": [],
   "source": [
    "name = input(\"enter your first name please(john etc...):\")\n",
    "\n",
    "your_name = input(\"enter your first name please(john etc...):\")\n",
    "\n",
    "if name == your_name :\n",
    "\n",
    "    print(f\"Hello, {name.capitalize()}! The password is : W@12\")\n",
    "\n",
    "else: print(f\"Hello, {name.capitalize()}! See you later.\")"
   ]
  },
  {
   "cell_type": "code",
   "execution_count": null,
   "id": "f0d037f3",
   "metadata": {},
   "outputs": [],
   "source": []
  }
 ],
 "metadata": {
  "kernelspec": {
   "display_name": "Python 3",
   "language": "python",
   "name": "python3"
  },
  "language_info": {
   "codemirror_mode": {
    "name": "ipython",
    "version": 3
   },
   "file_extension": ".py",
   "mimetype": "text/x-python",
   "name": "python",
   "nbconvert_exporter": "python",
   "pygments_lexer": "ipython3",
   "version": "3.8.10"
  }
 },
 "nbformat": 4,
 "nbformat_minor": 5
}
