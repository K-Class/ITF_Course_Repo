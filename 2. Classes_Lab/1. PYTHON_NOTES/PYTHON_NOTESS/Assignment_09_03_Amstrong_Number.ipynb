{
 "cells": [
  {
   "cell_type": "code",
   "execution_count": null,
   "id": "8af58338",
   "metadata": {},
   "outputs": [],
   "source": [
    "nu = input(\"enter a number:\")\n",
    "toplam = 0\n",
    "\n",
    "while not nu.isdigit() :      \n",
    "    print(\"It is an invalid entry. Don't use non-numeric, float, or negative values!\")\n",
    "    nu = input(\"enter a number:\")\n",
    "nu=int(nu)\n",
    "sayı=str(nu)\n",
    "for rakam in sayı:\n",
    "    \n",
    "    toplam += int(rakam)**len(sayı)\n",
    "if nu == toplam:\n",
    "    print(\"{} is an Amstrong number.\".format(nu))\n",
    "else: \n",
    "    print(\"{} is not an Amstrong number.\".format(nu))"
   ]
  }
 ],
 "metadata": {
  "kernelspec": {
   "display_name": "Python 3",
   "language": "python",
   "name": "python3"
  },
  "language_info": {
   "codemirror_mode": {
    "name": "ipython",
    "version": 3
   },
   "file_extension": ".py",
   "mimetype": "text/x-python",
   "name": "python",
   "nbconvert_exporter": "python",
   "pygments_lexer": "ipython3",
   "version": "3.8.10"
  }
 },
 "nbformat": 4,
 "nbformat_minor": 5
}
