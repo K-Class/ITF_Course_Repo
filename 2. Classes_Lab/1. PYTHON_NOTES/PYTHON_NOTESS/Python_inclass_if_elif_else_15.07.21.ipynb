{
 "cells": [
  {
   "cell_type": "code",
   "execution_count": 1,
   "id": "e2f8e0fe",
   "metadata": {},
   "outputs": [
    {
     "name": "stdout",
     "output_type": "stream",
     "text": [
      "enter a number:10\n",
      "10 is even\n"
     ]
    }
   ],
   "source": [
    "num=int(input(\"enter a number:\"))\n",
    "if (num%2) == 0:\n",
    "    print(\"{} is even\".format(num))\n",
    "else:\n",
    "    print(\"{} is odd\".format(num))"
   ]
  },
  {
   "cell_type": "code",
   "execution_count": 6,
   "id": "965e1830",
   "metadata": {},
   "outputs": [
    {
     "name": "stdout",
     "output_type": "stream",
     "text": [
      "enter a number:-10\n",
      "-10 is negative\n"
     ]
    }
   ],
   "source": [
    "num=int(input(\"enter a number:\"))\n",
    "if num<0:\n",
    "    print(\"{} is negative\".format(num))\n",
    "elif num>0:\n",
    "    print(\"{} is pozitive\".format(num))\n",
    "else:\n",
    "    print(\"{} is sıfırdır\".format(num))"
   ]
  },
  {
   "cell_type": "code",
   "execution_count": 9,
   "id": "2b83d080",
   "metadata": {},
   "outputs": [
    {
     "name": "stdout",
     "output_type": "stream",
     "text": [
      "enter the first number:5\n",
      "enter the second number:6\n",
      "The larger number is : 6.0\n"
     ]
    }
   ],
   "source": [
    "num1=float(input(\"enter the first number:\"))\n",
    "num2=float(input(\"enter the second number:\"))\n",
    "if num1>num2:\n",
    "    larger=num1\n",
    "else:\n",
    "    larger=num2\n",
    "print(\"The larger number is :\", larger)"
   ]
  },
  {
   "cell_type": "code",
   "execution_count": 10,
   "id": "137a2f5f",
   "metadata": {},
   "outputs": [
    {
     "name": "stdout",
     "output_type": "stream",
     "text": [
      "enter the first number:5\n",
      "enter the second number:6\n",
      "The larger number is : 6.0\n"
     ]
    }
   ],
   "source": [
    "num1=float(input(\"enter the first number:\"))\n",
    "num2=float(input(\"enter the second number:\"))\n",
    "if num1>num2:\n",
    "    print(\"The larger number is :\", num1)\n",
    "else:\n",
    "    print(\"The larger number is :\", num2)"
   ]
  },
  {
   "cell_type": "code",
   "execution_count": 17,
   "id": "140987ef",
   "metadata": {},
   "outputs": [
    {
     "name": "stdout",
     "output_type": "stream",
     "text": [
      "No\n"
     ]
    }
   ],
   "source": [
    "bool_value = False\n",
    "if bool_value:\n",
    "    print(\"Yes\")\n",
    "else:\n",
    "    print(\"No\")"
   ]
  },
  {
   "cell_type": "code",
   "execution_count": 18,
   "id": "b7dd3846",
   "metadata": {},
   "outputs": [
    {
     "name": "stdout",
     "output_type": "stream",
     "text": [
      "Yes\n"
     ]
    }
   ],
   "source": [
    "bool_value = True\n",
    "if bool_value:\n",
    "    print(\"Yes\")\n",
    "else:\n",
    "    print(\"No\")"
   ]
  },
  {
   "cell_type": "code",
   "execution_count": 3,
   "id": "58425c80",
   "metadata": {},
   "outputs": [
    {
     "name": "stdout",
     "output_type": "stream",
     "text": [
      "enter the first number:5\n",
      "enter the second number:6\n",
      "enter the second number:7\n",
      "The largest number is 7.0\n"
     ]
    }
   ],
   "source": [
    "num1=float(input(\"enter the first number:\"))\n",
    "num2=float(input(\"enter the second number:\"))\n",
    "num3=float(input(\"enter the second number:\"))\n",
    "if (num1>num2) and (num1>num3):\n",
    "    largest=num1\n",
    "elif (num2>num1) and (num2>num3):\n",
    "    largest=num2\n",
    "else:\n",
    "    largest=num3\n",
    "print(\"The largest number is\", largest)"
   ]
  },
  {
   "cell_type": "code",
   "execution_count": 6,
   "id": "73162cf5",
   "metadata": {},
   "outputs": [
    {
     "name": "stdout",
     "output_type": "stream",
     "text": [
      "enter a number:0\n",
      "0 is zerodur\n"
     ]
    }
   ],
   "source": [
    "num=float(input(\"enter a number:\"))\n",
    "if num<0:\n",
    "    print(\"{} is negative\".format(num))\n",
    "elif num>0:\n",
    "    print(\"{} is pozitive\".format(num))\n",
    "else:\n",
    "    print(\"{} is zerodur\".format(num))"
   ]
  },
  {
   "cell_type": "code",
   "execution_count": 7,
   "id": "c81b076b",
   "metadata": {},
   "outputs": [
    {
     "name": "stdout",
     "output_type": "stream",
     "text": [
      "enter a number:-20\n",
      "negative number\n"
     ]
    }
   ],
   "source": [
    "num=float(input(\"enter a number:\"))\n",
    "if num<0:\n",
    "    print(\"negative number\")\n",
    "elif num>0:\n",
    "    print(\"pozitive number\")\n",
    "else:\n",
    "    print(\"zero\")"
   ]
  },
  {
   "cell_type": "code",
   "execution_count": 9,
   "id": "243a8bc4",
   "metadata": {},
   "outputs": [
    {
     "name": "stdout",
     "output_type": "stream",
     "text": [
      "üç\n",
      "kod sonu geldi.\n"
     ]
    }
   ],
   "source": [
    "x = 3\n",
    "if x == 3 :\n",
    "    print(\"üç\")\n",
    "elif x == 4 :\n",
    "    print(\"dört\")\n",
    "elif x == 5 :\n",
    "    print(\"beş\")\n",
    "else:\n",
    "    print(\"sonsuz\")\n",
    "print(\"kod sonu geldi.\")\n",
    "    "
   ]
  },
  {
   "cell_type": "code",
   "execution_count": 15,
   "id": "a1e22c74",
   "metadata": {},
   "outputs": [
    {
     "name": "stdout",
     "output_type": "stream",
     "text": [
      "enter your exam score:78\n",
      "Your degree is : B-\n"
     ]
    }
   ],
   "source": [
    "score = int(input(\"enter your exam score:\"))\n",
    "if score >= 90 :\n",
    "    if score >= 95 :\n",
    "        score_letter = \"A+\"\n",
    "    else :\n",
    "        score_letter = \"A\"\n",
    "elif score >= 80 :\n",
    "    if score >= 85 :\n",
    "        score_letter = \"B+\"\n",
    "    else :\n",
    "        score_letter = \"B\"\n",
    "else:\n",
    "    score_letter = \"B-\"\n",
    "print(\"Your degree is :\", score_letter)    "
   ]
  },
  {
   "cell_type": "code",
   "execution_count": 16,
   "id": "fe3f0adf",
   "metadata": {},
   "outputs": [],
   "source": [
    "items = (10, 20)\n",
    "x, y = items"
   ]
  },
  {
   "cell_type": "code",
   "execution_count": 17,
   "id": "3621a98a",
   "metadata": {},
   "outputs": [
    {
     "data": {
      "text/plain": [
       "10"
      ]
     },
     "execution_count": 17,
     "metadata": {},
     "output_type": "execute_result"
    }
   ],
   "source": [
    "x"
   ]
  },
  {
   "cell_type": "code",
   "execution_count": 18,
   "id": "455f64c9",
   "metadata": {},
   "outputs": [
    {
     "data": {
      "text/plain": [
       "20"
      ]
     },
     "execution_count": 18,
     "metadata": {},
     "output_type": "execute_result"
    }
   ],
   "source": [
    "y"
   ]
  },
  {
   "cell_type": "code",
   "execution_count": 19,
   "id": "ac03619b",
   "metadata": {},
   "outputs": [],
   "source": [
    "a, _, b, _= (10, 20, 30, 40)"
   ]
  },
  {
   "cell_type": "code",
   "execution_count": 20,
   "id": "59c3f557",
   "metadata": {},
   "outputs": [
    {
     "data": {
      "text/plain": [
       "10"
      ]
     },
     "execution_count": 20,
     "metadata": {},
     "output_type": "execute_result"
    }
   ],
   "source": [
    "a"
   ]
  },
  {
   "cell_type": "code",
   "execution_count": 21,
   "id": "570fb25e",
   "metadata": {},
   "outputs": [
    {
     "data": {
      "text/plain": [
       "30"
      ]
     },
     "execution_count": 21,
     "metadata": {},
     "output_type": "execute_result"
    }
   ],
   "source": [
    "b"
   ]
  },
  {
   "cell_type": "code",
   "execution_count": 22,
   "id": "f2b88715",
   "metadata": {},
   "outputs": [
    {
     "name": "stdout",
     "output_type": "stream",
     "text": [
      "10 30 40\n"
     ]
    }
   ],
   "source": [
    "print(a, b, _)"
   ]
  },
  {
   "cell_type": "code",
   "execution_count": 25,
   "id": "94d1836a",
   "metadata": {},
   "outputs": [
    {
     "data": {
      "text/plain": [
       "[33, 44, 55]"
      ]
     },
     "execution_count": 25,
     "metadata": {},
     "output_type": "execute_result"
    }
   ],
   "source": [
    "x, y, *z = (11, 22, 33, 44, 55)\n",
    "z"
   ]
  },
  {
   "cell_type": "code",
   "execution_count": 26,
   "id": "bbbd2502",
   "metadata": {},
   "outputs": [
    {
     "data": {
      "text/plain": [
       "22"
      ]
     },
     "execution_count": 26,
     "metadata": {},
     "output_type": "execute_result"
    }
   ],
   "source": [
    "y"
   ]
  },
  {
   "cell_type": "code",
   "execution_count": 28,
   "id": "225ee64b",
   "metadata": {},
   "outputs": [
    {
     "data": {
      "text/plain": [
       "[33, 44, 55]"
      ]
     },
     "execution_count": 28,
     "metadata": {},
     "output_type": "execute_result"
    }
   ],
   "source": [
    "x, y, *_ = (11, 22, 33, 44, 55)\n",
    "_"
   ]
  },
  {
   "cell_type": "code",
   "execution_count": 29,
   "id": "aa8ac190",
   "metadata": {},
   "outputs": [
    {
     "data": {
      "text/plain": [
       "11"
      ]
     },
     "execution_count": 29,
     "metadata": {},
     "output_type": "execute_result"
    }
   ],
   "source": [
    "x, y, *z, t = (11, 22, 33, 44 , 55, 66, 77)\n",
    "x"
   ]
  },
  {
   "cell_type": "code",
   "execution_count": 30,
   "id": "13ba5d99",
   "metadata": {},
   "outputs": [
    {
     "data": {
      "text/plain": [
       "22"
      ]
     },
     "execution_count": 30,
     "metadata": {},
     "output_type": "execute_result"
    }
   ],
   "source": [
    "y"
   ]
  },
  {
   "cell_type": "code",
   "execution_count": 31,
   "id": "1116fc8d",
   "metadata": {},
   "outputs": [
    {
     "data": {
      "text/plain": [
       "[33, 44, 55, 66]"
      ]
     },
     "execution_count": 31,
     "metadata": {},
     "output_type": "execute_result"
    }
   ],
   "source": [
    "z"
   ]
  },
  {
   "cell_type": "code",
   "execution_count": 32,
   "id": "54c74e3c",
   "metadata": {},
   "outputs": [
    {
     "data": {
      "text/plain": [
       "77"
      ]
     },
     "execution_count": 32,
     "metadata": {},
     "output_type": "execute_result"
    }
   ],
   "source": [
    "t"
   ]
  },
  {
   "cell_type": "code",
   "execution_count": 33,
   "id": "ee4d9813",
   "metadata": {},
   "outputs": [
    {
     "data": {
      "text/plain": [
       "(11, 22, [33, 44, 55, 66], 77)"
      ]
     },
     "execution_count": 33,
     "metadata": {},
     "output_type": "execute_result"
    }
   ],
   "source": [
    "x, y, z, t"
   ]
  },
  {
   "cell_type": "code",
   "execution_count": 34,
   "id": "fc8557b7",
   "metadata": {},
   "outputs": [
    {
     "name": "stdout",
     "output_type": "stream",
     "text": [
      "11 22 [33, 44, 55, 66] 77\n"
     ]
    }
   ],
   "source": [
    "print(x, y, z, t)"
   ]
  },
  {
   "cell_type": "code",
   "execution_count": 35,
   "id": "136d791f",
   "metadata": {},
   "outputs": [
    {
     "name": "stdout",
     "output_type": "stream",
     "text": [
      "11 22 77\n"
     ]
    }
   ],
   "source": [
    "x, y, *_, t = (11, 22, 33, 44 , 55, 66, 77)\n",
    "print(x, y, t)"
   ]
  },
  {
   "cell_type": "code",
   "execution_count": 36,
   "id": "4195dcb6",
   "metadata": {},
   "outputs": [
    {
     "data": {
      "text/plain": [
       "3"
      ]
     },
     "execution_count": 36,
     "metadata": {},
     "output_type": "execute_result"
    }
   ],
   "source": [
    "max(1, 2, 3)"
   ]
  },
  {
   "cell_type": "code",
   "execution_count": 37,
   "id": "6afff0ab",
   "metadata": {},
   "outputs": [
    {
     "data": {
      "text/plain": [
       "True"
      ]
     },
     "execution_count": 37,
     "metadata": {},
     "output_type": "execute_result"
    }
   ],
   "source": [
    "empty = []\n",
    "max(empty, default=True)   #boş bir itirable atarsak default ne ise onu döndürür."
   ]
  },
  {
   "cell_type": "code",
   "execution_count": 38,
   "id": "f3571b07",
   "metadata": {},
   "outputs": [
    {
     "data": {
      "text/plain": [
       "'Boş'"
      ]
     },
     "execution_count": 38,
     "metadata": {},
     "output_type": "execute_result"
    }
   ],
   "source": [
    "max(empty, default=\"Boş\")"
   ]
  },
  {
   "cell_type": "code",
   "execution_count": 1,
   "id": "da35a883",
   "metadata": {},
   "outputs": [
    {
     "data": {
      "text/plain": [
       "4"
      ]
     },
     "execution_count": 1,
     "metadata": {},
     "output_type": "execute_result"
    }
   ],
   "source": [
    "seq = [1, 1, 1, 1, 1, 2, 2, 2, 3, 3, 3, 4, 4]\n",
    "max(seq)"
   ]
  },
  {
   "cell_type": "code",
   "execution_count": 2,
   "id": "acfdfbcc",
   "metadata": {},
   "outputs": [
    {
     "data": {
      "text/plain": [
       "2"
      ]
     },
     "execution_count": 2,
     "metadata": {},
     "output_type": "execute_result"
    }
   ],
   "source": [
    "seq.count(4)"
   ]
  },
  {
   "cell_type": "code",
   "execution_count": 3,
   "id": "8af3f97b",
   "metadata": {},
   "outputs": [
    {
     "data": {
      "text/plain": [
       "2"
      ]
     },
     "execution_count": 3,
     "metadata": {},
     "output_type": "execute_result"
    }
   ],
   "source": [
    "seq.count(max(seq))"
   ]
  },
  {
   "cell_type": "code",
   "execution_count": 7,
   "id": "0a94e355",
   "metadata": {},
   "outputs": [
    {
     "name": "stdout",
     "output_type": "stream",
     "text": [
      "En çok tekrar eden 1 sayısıdır ve 5 kere tekrar etmiştir.\n"
     ]
    }
   ],
   "source": [
    "a = max(seq, key = seq.count)\n",
    "b = seq.count(max(seq, key = seq.count))\n",
    "print(\"En çok tekrar eden {} sayısıdır ve {} kere tekrar etmiştir.\".format(a,b))"
   ]
  },
  {
   "cell_type": "code",
   "execution_count": 6,
   "id": "a6e272cc",
   "metadata": {},
   "outputs": [
    {
     "data": {
      "text/plain": [
       "5"
      ]
     },
     "execution_count": 6,
     "metadata": {},
     "output_type": "execute_result"
    }
   ],
   "source": [
    "seq.count(max(seq, key = seq.count))"
   ]
  },
  {
   "cell_type": "code",
   "execution_count": null,
   "id": "bf125bb1",
   "metadata": {},
   "outputs": [],
   "source": [
    "left = {\"q\", \"w\", \"e\", \"r\", \"t\", \"a\", \"s\", \"d\", \"f\", \"g\", \"z\", \"x\", \"c\", \"v\", \"b\"}\n",
    "right = {\"y\", \"u\", \"i\", \"o\", \"p\", \"h\", \"j\", \"k\", \"l\", \"n\", \"m\"}\n",
    "word = \"test\""
   ]
  },
  {
   "cell_type": "code",
   "execution_count": 20,
   "id": "ff70a312",
   "metadata": {},
   "outputs": [
    {
     "name": "stdout",
     "output_type": "stream",
     "text": [
      "give me a word please:clarusway\n"
     ]
    }
   ],
   "source": [
    "word = input(\"give me a word please:\")"
   ]
  },
  {
   "cell_type": "code",
   "execution_count": 21,
   "id": "572cb9c6",
   "metadata": {},
   "outputs": [
    {
     "data": {
      "text/plain": [
       "{'a', 'c', 'l', 'r', 's', 'u', 'w', 'y'}"
      ]
     },
     "execution_count": 21,
     "metadata": {},
     "output_type": "execute_result"
    }
   ],
   "source": [
    "set_word = set(word)\n",
    "set_word"
   ]
  },
  {
   "cell_type": "code",
   "execution_count": 22,
   "id": "3b04d0a7",
   "metadata": {},
   "outputs": [
    {
     "data": {
      "text/plain": [
       "{'l', 'u', 'y'}"
      ]
     },
     "execution_count": 22,
     "metadata": {},
     "output_type": "execute_result"
    }
   ],
   "source": [
    "left = {\"q\", \"w\", \"e\", \"r\", \"t\", \"a\", \"s\", \"d\", \"f\", \"g\", \"z\", \"x\", \"c\", \"v\", \"b\"}\n",
    "right = {\"y\", \"u\", \"i\", \"o\", \"p\", \"h\", \"j\", \"k\", \"l\", \"n\", \"m\"}\n",
    "set_word - left"
   ]
  },
  {
   "cell_type": "code",
   "execution_count": 23,
   "id": "144eeda4",
   "metadata": {},
   "outputs": [
    {
     "data": {
      "text/plain": [
       "True"
      ]
     },
     "execution_count": 23,
     "metadata": {},
     "output_type": "execute_result"
    }
   ],
   "source": [
    "left_bool = bool(set_word-left)\n",
    "left_bool"
   ]
  },
  {
   "cell_type": "code",
   "execution_count": 24,
   "id": "8c45b953",
   "metadata": {},
   "outputs": [
    {
     "data": {
      "text/plain": [
       "{'a', 'c', 'r', 's', 'w'}"
      ]
     },
     "execution_count": 24,
     "metadata": {},
     "output_type": "execute_result"
    }
   ],
   "source": [
    "set_word - right"
   ]
  },
  {
   "cell_type": "code",
   "execution_count": 18,
   "id": "4fa0c489",
   "metadata": {},
   "outputs": [
    {
     "data": {
      "text/plain": [
       "True"
      ]
     },
     "execution_count": 18,
     "metadata": {},
     "output_type": "execute_result"
    }
   ],
   "source": [
    "right_bool = bool(set_word-right)\n",
    "right_bool"
   ]
  },
  {
   "cell_type": "code",
   "execution_count": 19,
   "id": "4dbe04d3",
   "metadata": {},
   "outputs": [
    {
     "data": {
      "text/plain": [
       "False"
      ]
     },
     "execution_count": 19,
     "metadata": {},
     "output_type": "execute_result"
    }
   ],
   "source": [
    "left_bool and right_bool"
   ]
  },
  {
   "cell_type": "code",
   "execution_count": 27,
   "id": "3e0336f5",
   "metadata": {},
   "outputs": [
    {
     "name": "stdout",
     "output_type": "stream",
     "text": [
      "give me a word please:tester\n"
     ]
    },
    {
     "data": {
      "text/plain": [
       "False"
      ]
     },
     "execution_count": 27,
     "metadata": {},
     "output_type": "execute_result"
    }
   ],
   "source": [
    "left = {\"q\", \"w\", \"e\", \"r\", \"t\", \"a\", \"s\", \"d\", \"f\", \"g\", \"z\", \"x\", \"c\", \"v\", \"b\"}\n",
    "right = {\"y\", \"u\", \"i\", \"o\", \"p\", \"h\", \"j\", \"k\", \"l\", \"n\", \"m\"}\n",
    "word = input(\"give me a word please:\")\n",
    "set_word = set(word)\n",
    "a=set_word - left\n",
    "b=set_word - right\n",
    "left_bool = bool(a)\n",
    "right_bool = bool(b)\n",
    "left_bool and right_bool"
   ]
  },
  {
   "cell_type": "code",
   "execution_count": null,
   "id": "ca6f8414",
   "metadata": {},
   "outputs": [],
   "source": []
  }
 ],
 "metadata": {
  "kernelspec": {
   "display_name": "Python 3",
   "language": "python",
   "name": "python3"
  },
  "language_info": {
   "codemirror_mode": {
    "name": "ipython",
    "version": 3
   },
   "file_extension": ".py",
   "mimetype": "text/x-python",
   "name": "python",
   "nbconvert_exporter": "python",
   "pygments_lexer": "ipython3",
   "version": "3.8.10"
  }
 },
 "nbformat": 4,
 "nbformat_minor": 5
}
