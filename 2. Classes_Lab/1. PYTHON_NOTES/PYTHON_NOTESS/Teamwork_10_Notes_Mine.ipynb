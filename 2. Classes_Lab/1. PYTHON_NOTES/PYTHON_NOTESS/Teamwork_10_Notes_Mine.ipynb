{
 "cells": [
  {
   "cell_type": "code",
   "execution_count": 1,
   "id": "e42cd065",
   "metadata": {},
   "outputs": [
    {
     "name": "stdout",
     "output_type": "stream",
     "text": [
      "13\n"
     ]
    }
   ],
   "source": [
    "def san(x):\n",
    " print(x+1)\n",
    "x=-2\n",
    "x=4\n",
    "san(12)\n"
   ]
  },
  {
   "cell_type": "code",
   "execution_count": 2,
   "id": "b67cbcdc",
   "metadata": {},
   "outputs": [
    {
     "name": "stdout",
     "output_type": "stream",
     "text": [
      "3\n",
      "1\n"
     ]
    }
   ],
   "source": [
    "def foo(fname, val):\n",
    " print(fname(val))\n",
    "foo(max, [1, 2, 3])\n",
    "foo(min, [1, 2, 3])"
   ]
  },
  {
   "cell_type": "code",
   "execution_count": 5,
   "id": "87edd311",
   "metadata": {},
   "outputs": [
    {
     "name": "stdout",
     "output_type": "stream",
     "text": [
      "2\n"
     ]
    }
   ],
   "source": [
    "count = 0\n",
    "my_string = \"Clarusway\"\n",
    "my_char = \"a\"\n",
    "for i in my_string:\n",
    "    if i == my_char:\n",
    "        count += 1\n",
    "print(count)"
   ]
  },
  {
   "cell_type": "code",
   "execution_count": 6,
   "id": "1b8b8100",
   "metadata": {},
   "outputs": [
    {
     "name": "stdout",
     "output_type": "stream",
     "text": [
      "3102\n"
     ]
    }
   ],
   "source": [
    "num = 2013\n",
    "reversed_num = 0\n",
    "while num != 0:\n",
    "    digit = num % 10\n",
    "    reversed_num = reversed_num * 10 + digit\n",
    "    num //= 10\n",
    "    \n",
    "print(reversed_num)\n"
   ]
  },
  {
   "cell_type": "code",
   "execution_count": 8,
   "id": "11d04752",
   "metadata": {},
   "outputs": [
    {
     "data": {
      "text/plain": [
       "201"
      ]
     },
     "execution_count": 8,
     "metadata": {},
     "output_type": "execute_result"
    }
   ],
   "source": [
    "2013//10"
   ]
  },
  {
   "cell_type": "code",
   "execution_count": 7,
   "id": "f39bafe6",
   "metadata": {},
   "outputs": [
    {
     "name": "stdout",
     "output_type": "stream",
     "text": [
      "False True\n"
     ]
    }
   ],
   "source": [
    "f=lambda x:bool(x%2)\n",
    "print(f(20), f(21))"
   ]
  },
  {
   "cell_type": "code",
   "execution_count": 9,
   "id": "56e1701c",
   "metadata": {},
   "outputs": [
    {
     "name": "stdout",
     "output_type": "stream",
     "text": [
      "False\n"
     ]
    }
   ],
   "source": [
    "f=lambda x:bool(x%2)\n",
    "print(f(20))\n"
   ]
  },
  {
   "cell_type": "code",
   "execution_count": 11,
   "id": "17bd88d3",
   "metadata": {},
   "outputs": [
    {
     "data": {
      "text/plain": [
       "False"
      ]
     },
     "execution_count": 11,
     "metadata": {},
     "output_type": "execute_result"
    }
   ],
   "source": [
    "bool(0)"
   ]
  },
  {
   "cell_type": "code",
   "execution_count": null,
   "id": "5c329646",
   "metadata": {},
   "outputs": [],
   "source": [
    "6. A command that lets you change one or more field in \n",
    "a table is?\n",
    "A. INSERT\n",
    "B. MODIFY  #\n",
    "C. LOOK-UP\n",
    "D. All of the above "
   ]
  },
  {
   "cell_type": "code",
   "execution_count": null,
   "id": "13ba2040",
   "metadata": {},
   "outputs": [],
   "source": [
    "7. Which of the following is not a valid aggregate \n",
    "function?\n",
    "A. COUNT\n",
    "B. COMPUTE #\n",
    "C. SUM\n",
    "D. MAX "
   ]
  },
  {
   "cell_type": "code",
   "execution_count": null,
   "id": "ebb5237d",
   "metadata": {},
   "outputs": [],
   "source": [
    "8. Which data manipulation command is used to combines \n",
    "the records from one or more tables?\n",
    "A. SELECT\n",
    "B. PROJECT\n",
    "C. JOIN   #\n",
    "D. PRODUCT \n"
   ]
  },
  {
   "cell_type": "code",
   "execution_count": null,
   "id": "6c83343f",
   "metadata": {},
   "outputs": [],
   "source": [
    "9. Which operator is used to compare a value to a \n",
    "specified list of values?\n",
    "A. ANY\n",
    "B. BETWEEN\n",
    "C. ALL\n",
    "D. IN   #"
   ]
  },
  {
   "cell_type": "code",
   "execution_count": null,
   "id": "d3ed9099",
   "metadata": {},
   "outputs": [],
   "source": [
    "10. What operator tests column for absence of data?\n",
    "A. NOT Operator\n",
    "B. Exists Operator\n",
    "C. IS NULL Operator    #\n",
    "D. None of the above"
   ]
  },
  {
   "cell_type": "code",
   "execution_count": null,
   "id": "4e871585",
   "metadata": {},
   "outputs": [],
   "source": [
    "11. Which of the following is NOT among the DevOps \n",
    "processes?\n",
    "A. Continuous Monitoring   \n",
    "B. Continuous Deployment\n",
    "C. Continuous Building     #\n",
    "D. Continuous Development "
   ]
  },
  {
   "cell_type": "code",
   "execution_count": null,
   "id": "d3c5cd49",
   "metadata": {},
   "outputs": [],
   "source": [
    "12. Which of the following is NOT among the DevOps phases?\n",
    "A. Code\n",
    "B. Deploy\n",
    "C. Operate\n",
    "D. Requirement  #"
   ]
  },
  {
   "cell_type": "code",
   "execution_count": null,
   "id": "5e538d6f",
   "metadata": {},
   "outputs": [],
   "source": [
    "13. How can you open a link in a new tab/browser window?\n",
    "A. <a href=\"url\" target=\"new\"> \n",
    "B. <a href=\"url\" new>\n",
    "C. <a href=\"url\" target=\"_blank\">  #\n",
    "D. None"
   ]
  },
  {
   "cell_type": "code",
   "execution_count": null,
   "id": "c102a878",
   "metadata": {},
   "outputs": [],
   "source": [
    "14. Choose the correct HTML element for the largest \n",
    "heading:\n",
    "A. <h1>    #\n",
    "B. <head>\n",
    "C. <heading>\n",
    "D. <h6>"
   ]
  },
  {
   "cell_type": "code",
   "execution_count": null,
   "id": "0604d47d",
   "metadata": {},
   "outputs": [],
   "source": [
    "15. What is the correct HTML for creating a hyperlink?\n",
    "A. <a name=\"http://www.clarusway.com\">clarusway</a> \n",
    "B. <a href=\"http://www.clarusway.com\">clarusway</a>   #\n",
    "C. <a url=\"http://www.clarusway.com\">clarusway</a>\n",
    "D. <a> http://www.clarusway.com\">clarusway</a> "
   ]
  },
  {
   "cell_type": "code",
   "execution_count": null,
   "id": "750c3ebd",
   "metadata": {},
   "outputs": [],
   "source": [
    "1. Who is a DevOps engineer?\n",
    "2. What do you mean by table and field in SQL?\n"
   ]
  }
 ],
 "metadata": {
  "kernelspec": {
   "display_name": "Python 3",
   "language": "python",
   "name": "python3"
  },
  "language_info": {
   "codemirror_mode": {
    "name": "ipython",
    "version": 3
   },
   "file_extension": ".py",
   "mimetype": "text/x-python",
   "name": "python",
   "nbconvert_exporter": "python",
   "pygments_lexer": "ipython3",
   "version": "3.8.8"
  }
 },
 "nbformat": 4,
 "nbformat_minor": 5
}
