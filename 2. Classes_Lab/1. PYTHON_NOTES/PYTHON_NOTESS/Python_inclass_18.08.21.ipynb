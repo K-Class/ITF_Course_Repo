{
 "cells": [
  {
   "cell_type": "code",
   "execution_count": 1,
   "id": "6bd157a9",
   "metadata": {},
   "outputs": [
    {
     "data": {
      "text/plain": [
       "4"
      ]
     },
     "execution_count": 1,
     "metadata": {},
     "output_type": "execute_result"
    }
   ],
   "source": [
    "# lambda yı önce kendisi olarak sonra built in func map ve filter ile kullandık.\n",
    "(lambda x:x**2)(2)"
   ]
  },
  {
   "cell_type": "code",
   "execution_count": 2,
   "id": "23a61873",
   "metadata": {},
   "outputs": [
    {
     "name": "stdout",
     "output_type": "stream",
     "text": [
      "4\n",
      "8\n",
      "16\n"
     ]
    }
   ],
   "source": [
    "def modular_func(n):\n",
    "    return lambda x:x**n\n",
    "\n",
    "power_of_2 = modular_func(2)   # first sub_func derived from def\n",
    "power_of_3 = modular_func(3)   # second sub_func derived from def\n",
    "power_of_4 = modular_func(4)   # third sub_func derived from def\n",
    "\n",
    "print(power_of_2(2))   # 2 to the power of 2\n",
    "print(power_of_3(2))   # 2 to the power of 3\n",
    "print(power_of_4(2))   # 2 to the power of 4"
   ]
  },
  {
   "cell_type": "code",
   "execution_count": 11,
   "id": "523362d7",
   "metadata": {},
   "outputs": [
    {
     "data": {
      "text/plain": [
       "4"
      ]
     },
     "execution_count": 11,
     "metadata": {},
     "output_type": "execute_result"
    }
   ],
   "source": [
    "(lambda x:x**2)(2)"
   ]
  },
  {
   "cell_type": "code",
   "execution_count": 13,
   "id": "dc1d89ea",
   "metadata": {},
   "outputs": [
    {
     "data": {
      "text/plain": [
       "8"
      ]
     },
     "execution_count": 13,
     "metadata": {},
     "output_type": "execute_result"
    }
   ],
   "source": [
    "(lambda x:x**3)(2)"
   ]
  },
  {
   "cell_type": "code",
   "execution_count": 14,
   "id": "3797c3d8",
   "metadata": {},
   "outputs": [
    {
     "data": {
      "text/plain": [
       "16"
      ]
     },
     "execution_count": 14,
     "metadata": {},
     "output_type": "execute_result"
    }
   ],
   "source": [
    "(lambda x:x**4)(2)"
   ]
  },
  {
   "cell_type": "code",
   "execution_count": 7,
   "id": "a14d2bb9",
   "metadata": {},
   "outputs": [
    {
     "data": {
      "text/plain": [
       "'Clarusway...Clarusway...Clarusway...Clarusway...Clarusway...'"
      ]
     },
     "execution_count": 7,
     "metadata": {},
     "output_type": "execute_result"
    }
   ],
   "source": [
    "def repeater(n):\n",
    "    return lambda x:x*n \n",
    "\n",
    "repeat_5 = repeater(5)\n",
    "repeat_5(\"Clarusway...\")   #5 kere yanyana concenate yapar."
   ]
  },
  {
   "cell_type": "code",
   "execution_count": 6,
   "id": "7c049062",
   "metadata": {},
   "outputs": [],
   "source": [
    "repeat_2 = repeater(2)"
   ]
  },
  {
   "cell_type": "code",
   "execution_count": 8,
   "id": "2dd56e4c",
   "metadata": {},
   "outputs": [
    {
     "data": {
      "text/plain": [
       "'Sevmek nedir bilir misiniz?Sevmek nedir bilir misiniz?'"
      ]
     },
     "execution_count": 8,
     "metadata": {},
     "output_type": "execute_result"
    }
   ],
   "source": [
    "repeat_2(\"Sevmek nedir bilir misiniz? \")"
   ]
  },
  {
   "cell_type": "code",
   "execution_count": 17,
   "id": "78a45957",
   "metadata": {},
   "outputs": [
    {
     "name": "stdout",
     "output_type": "stream",
     "text": [
      "Hello :)\n",
      "Hello :(\n",
      "Hello :|\n"
     ]
    }
   ],
   "source": [
    "def functioner(emoji):\n",
    "    return lambda message: message + \" \" + emoji\n",
    "\n",
    "smile_face = functioner(\":)\")\n",
    "sad_face = functioner(\":(\")\n",
    "neutral_face = functioner(\":|\")\n",
    "\n",
    "print(smile_face(\"Hello\"))\n",
    "print(sad_face(\"Hello\"))\n",
    "print(neutral_face(\"Hello\"))"
   ]
  },
  {
   "cell_type": "code",
   "execution_count": 28,
   "id": "5dba10fa",
   "metadata": {},
   "outputs": [],
   "source": [
    "def functioner(emoji):    # user def func tanımlıyoruz.\n",
    "    return lambda message: print(message, emoji)      # burada return döndürüyor. bana mesaj ve emoji çıktısını verecek."
   ]
  },
  {
   "cell_type": "code",
   "execution_count": 29,
   "id": "265a9edf",
   "metadata": {},
   "outputs": [],
   "source": [
    "smile_print = functioner(\":)\")\n",
    "sad_print = functioner(\":(\")\n",
    "neutral_print = functioner(\":|\")"
   ]
  },
  {
   "cell_type": "code",
   "execution_count": 30,
   "id": "b696d98b",
   "metadata": {},
   "outputs": [
    {
     "name": "stdout",
     "output_type": "stream",
     "text": [
      "1 :)\n"
     ]
    }
   ],
   "source": [
    "smile_print(1)"
   ]
  },
  {
   "cell_type": "code",
   "execution_count": 31,
   "id": "5e9f04cb",
   "metadata": {},
   "outputs": [
    {
     "name": "stdout",
     "output_type": "stream",
     "text": [
      "[1, '1', False] :(\n"
     ]
    }
   ],
   "source": [
    "sad_print([1,\"1\",False])"
   ]
  },
  {
   "cell_type": "code",
   "execution_count": 32,
   "id": "047665c7",
   "metadata": {},
   "outputs": [
    {
     "data": {
      "text/plain": [
       "'hello:)'"
      ]
     },
     "execution_count": 32,
     "metadata": {},
     "output_type": "execute_result"
    }
   ],
   "source": [
    "(lambda a:a + \":)\")(\"hello\")   # 2 string ifadeyi concenate eder. "
   ]
  },
  {
   "cell_type": "code",
   "execution_count": 34,
   "id": "d2cbf327",
   "metadata": {},
   "outputs": [],
   "source": [
    "smile = lambda a : a + \":)\"   # Bu ifade yukarıdaki func aynısını verir."
   ]
  },
  {
   "cell_type": "code",
   "execution_count": 35,
   "id": "25777bb9",
   "metadata": {},
   "outputs": [
    {
     "data": {
      "text/plain": [
       "'hello:)'"
      ]
     },
     "execution_count": 35,
     "metadata": {},
     "output_type": "execute_result"
    }
   ],
   "source": [
    "smile(\"hello\")"
   ]
  },
  {
   "cell_type": "code",
   "execution_count": 41,
   "id": "53f58004",
   "metadata": {},
   "outputs": [],
   "source": [
    "def x():\n",
    "    return 1,2,3,4"
   ]
  },
  {
   "cell_type": "code",
   "execution_count": 42,
   "id": "d10b0eb1",
   "metadata": {},
   "outputs": [
    {
     "data": {
      "text/plain": [
       "(1, 2, 3, 4)"
      ]
     },
     "execution_count": 42,
     "metadata": {},
     "output_type": "execute_result"
    }
   ],
   "source": [
    "x()"
   ]
  },
  {
   "cell_type": "code",
   "execution_count": 43,
   "id": "e859a7ef",
   "metadata": {},
   "outputs": [
    {
     "data": {
      "text/plain": [
       "tuple"
      ]
     },
     "execution_count": 43,
     "metadata": {},
     "output_type": "execute_result"
    }
   ],
   "source": [
    "type(x())     #burada x() çağırdığımızda return ifadesinin sağında olan ifadeyi verir."
   ]
  },
  {
   "cell_type": "code",
   "execution_count": 44,
   "id": "3872ab8f",
   "metadata": {},
   "outputs": [],
   "source": [
    "a, b, c, d = x()"
   ]
  },
  {
   "cell_type": "code",
   "execution_count": 45,
   "id": "735e0ec3",
   "metadata": {},
   "outputs": [
    {
     "data": {
      "text/plain": [
       "1"
      ]
     },
     "execution_count": 45,
     "metadata": {},
     "output_type": "execute_result"
    }
   ],
   "source": [
    "a"
   ]
  },
  {
   "cell_type": "code",
   "execution_count": 46,
   "id": "b432f9a9",
   "metadata": {},
   "outputs": [
    {
     "data": {
      "text/plain": [
       "2"
      ]
     },
     "execution_count": 46,
     "metadata": {},
     "output_type": "execute_result"
    }
   ],
   "source": [
    "b"
   ]
  },
  {
   "cell_type": "code",
   "execution_count": 47,
   "id": "657bddd0",
   "metadata": {},
   "outputs": [
    {
     "data": {
      "text/plain": [
       "3"
      ]
     },
     "execution_count": 47,
     "metadata": {},
     "output_type": "execute_result"
    }
   ],
   "source": [
    "c"
   ]
  },
  {
   "cell_type": "code",
   "execution_count": 48,
   "id": "a45b8834",
   "metadata": {},
   "outputs": [
    {
     "data": {
      "text/plain": [
       "4"
      ]
     },
     "execution_count": 48,
     "metadata": {},
     "output_type": "execute_result"
    }
   ],
   "source": [
    "d"
   ]
  },
  {
   "cell_type": "code",
   "execution_count": 49,
   "id": "d96dea8e",
   "metadata": {},
   "outputs": [
    {
     "name": "stdout",
     "output_type": "stream",
     "text": [
      "1\n",
      "2\n",
      "3\n",
      "4\n"
     ]
    }
   ],
   "source": [
    "for i in x():\n",
    "    print(i)"
   ]
  },
  {
   "cell_type": "code",
   "execution_count": 56,
   "id": "139bb333",
   "metadata": {},
   "outputs": [],
   "source": [
    "num = [1, 4, 4]            # aşağıdaki num.count ile sırasıyla 1,2,2 kere döner."
   ]
  },
  {
   "cell_type": "code",
   "execution_count": 55,
   "id": "513ac897",
   "metadata": {},
   "outputs": [
    {
     "data": {
      "text/plain": [
       "4"
      ]
     },
     "execution_count": 55,
     "metadata": {},
     "output_type": "execute_result"
    }
   ],
   "source": [
    "max(num, key = num.count)   # key ile nasıl en yüksek olanı bulacağımızı ortaya koyar. Max her zaman iterable ın elemanlarından \n",
    "                            # birini döndürür. \n",
    "                            # Max ilede en yüksek olan 4 kaç kere olduğunu döndürür."
   ]
  },
  {
   "cell_type": "code",
   "execution_count": 52,
   "id": "41830378",
   "metadata": {},
   "outputs": [
    {
     "data": {
      "text/plain": [
       "2"
      ]
     },
     "execution_count": 52,
     "metadata": {},
     "output_type": "execute_result"
    }
   ],
   "source": [
    "num.count(4)   # 4 elemanının kaç kere tekrar ettiğini söyler."
   ]
  },
  {
   "cell_type": "code",
   "execution_count": 53,
   "id": "8bfb3c61",
   "metadata": {},
   "outputs": [
    {
     "data": {
      "text/plain": [
       "1"
      ]
     },
     "execution_count": 53,
     "metadata": {},
     "output_type": "execute_result"
    }
   ],
   "source": [
    "num.count(1)"
   ]
  },
  {
   "cell_type": "code",
   "execution_count": 16,
   "id": "989ae11b",
   "metadata": {},
   "outputs": [],
   "source": [
    "def kac(num):\n",
    "    return (num.count(max(num, key = num.count)),max(num, key = num.count)) # bir liste içindeki en çok geçen sayının kaç kere gectiğini verir."
   ]
  },
  {
   "cell_type": "code",
   "execution_count": 17,
   "id": "f3a16254",
   "metadata": {},
   "outputs": [
    {
     "data": {
      "text/plain": [
       "(4, 4)"
      ]
     },
     "execution_count": 17,
     "metadata": {},
     "output_type": "execute_result"
    }
   ],
   "source": [
    "kac([1,4,5,4,8,4,2,7,6,4,7,8])"
   ]
  },
  {
   "cell_type": "code",
   "execution_count": 63,
   "id": "90ebd807",
   "metadata": {},
   "outputs": [],
   "source": [
    "def equal(a, b, c):\n",
    "    numbers=[a,b,c]\n",
    "    \n",
    "    res=numbers.count(max(numbers, key = numbers.count))\n",
    "    \n",
    "    if res > 1:\n",
    "        return res\n",
    "    else :\n",
    "        return 0\n",
    "    "
   ]
  },
  {
   "cell_type": "code",
   "execution_count": 64,
   "id": "dd5fc97c",
   "metadata": {},
   "outputs": [
    {
     "data": {
      "text/plain": [
       "2"
      ]
     },
     "execution_count": 64,
     "metadata": {},
     "output_type": "execute_result"
    }
   ],
   "source": [
    "equal(1,5,5)"
   ]
  },
  {
   "cell_type": "code",
   "execution_count": 65,
   "id": "0b9e03d2",
   "metadata": {},
   "outputs": [
    {
     "data": {
      "text/plain": [
       "0"
      ]
     },
     "execution_count": 65,
     "metadata": {},
     "output_type": "execute_result"
    }
   ],
   "source": [
    "equal(1,0,5) # değişkenler aynı sayıda geçiyor ise 0 verdi."
   ]
  },
  {
   "cell_type": "code",
   "execution_count": 66,
   "id": "ef2671f9",
   "metadata": {},
   "outputs": [
    {
     "data": {
      "text/plain": [
       "3"
      ]
     },
     "execution_count": 66,
     "metadata": {},
     "output_type": "execute_result"
    }
   ],
   "source": [
    "equal(1,1,1)"
   ]
  },
  {
   "cell_type": "code",
   "execution_count": 69,
   "id": "2c837d0d",
   "metadata": {},
   "outputs": [],
   "source": [
    "# eğer gireceğimiz değer 3 den fazla ise *argm kullanırız.\n",
    "\n",
    "def equall(*arg):   # bu şekilde iterable olur bunun list dönüşmesi gerekir.\n",
    "    numbers=list(arg)\n",
    "    \n",
    "    res=numbers.count(max(numbers, key = numbers.count))\n",
    "    \n",
    "    if res > 1:\n",
    "        return res\n",
    "    else :\n",
    "        return 0"
   ]
  },
  {
   "cell_type": "code",
   "execution_count": 72,
   "id": "19b27a32",
   "metadata": {},
   "outputs": [
    {
     "data": {
      "text/plain": [
       "3"
      ]
     },
     "execution_count": 72,
     "metadata": {},
     "output_type": "execute_result"
    }
   ],
   "source": [
    "equall(1,2,0,5,5,5,3,7,8,1,4,)"
   ]
  },
  {
   "cell_type": "code",
   "execution_count": null,
   "id": "8e150fa9",
   "metadata": {},
   "outputs": [],
   "source": [
    "def equal(*x):\n",
    "    num=[*x]\n",
    "    return num.count(max(num, key = num.count)) if num.count(max(num, key = num.count))>1 else 0"
   ]
  },
  {
   "cell_type": "code",
   "execution_count": 86,
   "id": "e41272e3",
   "metadata": {},
   "outputs": [
    {
     "data": {
      "text/plain": [
       "3"
      ]
     },
     "execution_count": 86,
     "metadata": {},
     "output_type": "execute_result"
    }
   ],
   "source": [
    "equal(1,2,2,3,4,5,4,4,5,1,2,0,7,5,9)"
   ]
  },
  {
   "cell_type": "code",
   "execution_count": 87,
   "id": "092eb866",
   "metadata": {},
   "outputs": [],
   "source": [
    "equalambda = lambda x,y,z : [x,y,z].count(max([x,y,z], key = [x,y,z].count))"
   ]
  },
  {
   "cell_type": "code",
   "execution_count": 90,
   "id": "e905f490",
   "metadata": {},
   "outputs": [],
   "source": [
    "# res if res > 1 else 0"
   ]
  },
  {
   "cell_type": "code",
   "execution_count": 9,
   "id": "50f96e9c",
   "metadata": {},
   "outputs": [],
   "source": [
    "equalambda = lambda x,y,z : [x,y,z].count(max([x,y,z], key = [x,y,z].count)) if [x,y,z].count(max([x,y,z], key = [x,y,z].count)) > 1 else 0"
   ]
  },
  {
   "cell_type": "code",
   "execution_count": 10,
   "id": "498a8093",
   "metadata": {},
   "outputs": [
    {
     "data": {
      "text/plain": [
       "1"
      ]
     },
     "execution_count": 10,
     "metadata": {},
     "output_type": "execute_result"
    }
   ],
   "source": [
    "1 if True else 0"
   ]
  },
  {
   "cell_type": "code",
   "execution_count": 84,
   "id": "ad3c5548",
   "metadata": {},
   "outputs": [],
   "source": [
    "# body_if if condition else body_else"
   ]
  },
  {
   "cell_type": "code",
   "execution_count": 11,
   "id": "d9303367",
   "metadata": {},
   "outputs": [
    {
     "data": {
      "text/plain": [
       "2"
      ]
     },
     "execution_count": 11,
     "metadata": {},
     "output_type": "execute_result"
    }
   ],
   "source": [
    "equalambda(1,4,4)"
   ]
  },
  {
   "cell_type": "code",
   "execution_count": 5,
   "id": "fe6d959f",
   "metadata": {},
   "outputs": [],
   "source": [
    "equalabmdaa = lambda *x : list(x).count(max(list(x), key = list(x).count)) if list(x).count(max(list(x), key = list(x).count)) > 1 else 0"
   ]
  },
  {
   "cell_type": "code",
   "execution_count": 6,
   "id": "d35e1e4e",
   "metadata": {},
   "outputs": [
    {
     "data": {
      "text/plain": [
       "3"
      ]
     },
     "execution_count": 6,
     "metadata": {},
     "output_type": "execute_result"
    }
   ],
   "source": [
    "equalabmdaa(1,2,2,4,4,4,5)"
   ]
  },
  {
   "cell_type": "code",
   "execution_count": 13,
   "id": "afe00a01",
   "metadata": {},
   "outputs": [
    {
     "ename": "NameError",
     "evalue": "name 'function_generator' is not defined",
     "output_type": "error",
     "traceback": [
      "\u001b[1;31m---------------------------------------------------------------------------\u001b[0m",
      "\u001b[1;31mNameError\u001b[0m                                 Traceback (most recent call last)",
      "\u001b[1;32m<ipython-input-13-f604d94717ba>\u001b[0m in \u001b[0;36m<module>\u001b[1;34m\u001b[0m\n\u001b[1;32m----> 1\u001b[1;33m \u001b[0mfunction_generator\u001b[0m\u001b[1;33m(\u001b[0m\u001b[1;33m)\u001b[0m\u001b[1;33m\u001b[0m\u001b[1;33m\u001b[0m\u001b[0m\n\u001b[0m",
      "\u001b[1;31mNameError\u001b[0m: name 'function_generator' is not defined"
     ]
    }
   ],
   "source": [
    "function_generator()"
   ]
  },
  {
   "cell_type": "code",
   "execution_count": 6,
   "id": "1e2d0f4b",
   "metadata": {},
   "outputs": [],
   "source": [
    "def function_generator(function):\n",
    "    return lambda x : function(x)\n",
    "\n",
    "myPrint = function_generator(print)\n",
    "myMax = function_generator(max)\n",
    "myBool = function_generator(bool)\n",
    "mySorted = function_generator(sorted)\n"
   ]
  },
  {
   "cell_type": "code",
   "execution_count": 7,
   "id": "4bf53e1a",
   "metadata": {},
   "outputs": [
    {
     "name": "stdout",
     "output_type": "stream",
     "text": [
      "Beni yazdır\n"
     ]
    }
   ],
   "source": [
    "myPrint(\"Beni yazdır\")"
   ]
  },
  {
   "cell_type": "code",
   "execution_count": 8,
   "id": "d1886e40",
   "metadata": {},
   "outputs": [
    {
     "data": {
      "text/plain": [
       "True"
      ]
     },
     "execution_count": 8,
     "metadata": {},
     "output_type": "execute_result"
    }
   ],
   "source": [
    "myBool(\"Beni yazdır\")"
   ]
  },
  {
   "cell_type": "code",
   "execution_count": 10,
   "id": "c5c67fd0",
   "metadata": {},
   "outputs": [
    {
     "data": {
      "text/plain": [
       "[3, 8, 9, 10, 10, 20, 28]"
      ]
     },
     "execution_count": 10,
     "metadata": {},
     "output_type": "execute_result"
    }
   ],
   "source": [
    "mySorted([10,28,3,8,9,10,20])"
   ]
  },
  {
   "cell_type": "code",
   "execution_count": 3,
   "id": "0097d928",
   "metadata": {},
   "outputs": [
    {
     "name": "stdout",
     "output_type": "stream",
     "text": [
      "Beni yazdır\n"
     ]
    }
   ],
   "source": [
    "(lambda x : print(x))(\"Beni yazdır\")"
   ]
  },
  {
   "cell_type": "code",
   "execution_count": 4,
   "id": "8a2c7cbd",
   "metadata": {},
   "outputs": [
    {
     "data": {
      "text/plain": [
       "4"
      ]
     },
     "execution_count": 4,
     "metadata": {},
     "output_type": "execute_result"
    }
   ],
   "source": [
    "(lambda x : max(x))([1,2,3,4])"
   ]
  },
  {
   "cell_type": "code",
   "execution_count": 5,
   "id": "a29d3463",
   "metadata": {},
   "outputs": [
    {
     "data": {
      "text/plain": [
       "True"
      ]
     },
     "execution_count": 5,
     "metadata": {},
     "output_type": "execute_result"
    }
   ],
   "source": [
    "(lambda x :bool(x))(\"Beni yazdır\")"
   ]
  },
  {
   "cell_type": "markdown",
   "id": "f55f5a00",
   "metadata": {},
   "source": [
    "# MODULES"
   ]
  },
  {
   "cell_type": "code",
   "execution_count": 18,
   "id": "814b8bed",
   "metadata": {},
   "outputs": [],
   "source": [
    "import math"
   ]
  },
  {
   "cell_type": "code",
   "execution_count": 20,
   "id": "c655437a",
   "metadata": {},
   "outputs": [
    {
     "name": "stdout",
     "output_type": "stream",
     "text": [
      "['__doc__', '__loader__', '__name__', '__package__', '__spec__', 'acos', 'acosh', 'asin', 'asinh', 'atan', 'atan2', 'atanh', 'ceil', 'comb', 'copysign', 'cos', 'cosh', 'degrees', 'dist', 'e', 'erf', 'erfc', 'exp', 'expm1', 'fabs', 'factorial', 'floor', 'fmod', 'frexp', 'fsum', 'gamma', 'gcd', 'hypot', 'inf', 'isclose', 'isfinite', 'isinf', 'isnan', 'isqrt', 'ldexp', 'lgamma', 'log', 'log10', 'log1p', 'log2', 'modf', 'nan', 'perm', 'pi', 'pow', 'prod', 'radians', 'remainder', 'sin', 'sinh', 'sqrt', 'tan', 'tanh', 'tau', 'trunc']\n"
     ]
    }
   ],
   "source": [
    "print(dir(math))"
   ]
  },
  {
   "cell_type": "code",
   "execution_count": 23,
   "id": "7aa3e5dc",
   "metadata": {},
   "outputs": [],
   "source": [
    "from math import pi, factorial, log10 "
   ]
  },
  {
   "cell_type": "code",
   "execution_count": 24,
   "id": "84dd729e",
   "metadata": {},
   "outputs": [
    {
     "data": {
      "text/plain": [
       "3.141592653589793"
      ]
     },
     "execution_count": 24,
     "metadata": {},
     "output_type": "execute_result"
    }
   ],
   "source": [
    "pi"
   ]
  },
  {
   "cell_type": "code",
   "execution_count": 25,
   "id": "3130b7e2",
   "metadata": {},
   "outputs": [
    {
     "data": {
      "text/plain": [
       "24"
      ]
     },
     "execution_count": 25,
     "metadata": {},
     "output_type": "execute_result"
    }
   ],
   "source": [
    "factorial(4)"
   ]
  },
  {
   "cell_type": "code",
   "execution_count": 28,
   "id": "b3bbc717",
   "metadata": {},
   "outputs": [
    {
     "data": {
      "text/plain": [
       "3.0"
      ]
     },
     "execution_count": 28,
     "metadata": {},
     "output_type": "execute_result"
    }
   ],
   "source": [
    "log10(1000)"
   ]
  },
  {
   "cell_type": "code",
   "execution_count": 30,
   "id": "0cec180a",
   "metadata": {},
   "outputs": [],
   "source": [
    "import string"
   ]
  },
  {
   "cell_type": "code",
   "execution_count": 31,
   "id": "cca5ea29",
   "metadata": {},
   "outputs": [
    {
     "name": "stdout",
     "output_type": "stream",
     "text": [
      "['Formatter', 'Template', '_ChainMap', '_TemplateMetaclass', '__all__', '__builtins__', '__cached__', '__doc__', '__file__', '__loader__', '__name__', '__package__', '__spec__', '_re', '_sentinel_dict', '_string', 'ascii_letters', 'ascii_lowercase', 'ascii_uppercase', 'capwords', 'digits', 'hexdigits', 'octdigits', 'printable', 'punctuation', 'whitespace']\n"
     ]
    }
   ],
   "source": [
    "print(dir(string))"
   ]
  },
  {
   "cell_type": "code",
   "execution_count": 33,
   "id": "d140d83b",
   "metadata": {},
   "outputs": [],
   "source": [
    "from string import punctuation, digits"
   ]
  },
  {
   "cell_type": "code",
   "execution_count": 34,
   "id": "ab068fca",
   "metadata": {},
   "outputs": [
    {
     "data": {
      "text/plain": [
       "'!\"#$%&\\'()*+,-./:;<=>?@[\\\\]^_`{|}~'"
      ]
     },
     "execution_count": 34,
     "metadata": {},
     "output_type": "execute_result"
    }
   ],
   "source": [
    "punctuation"
   ]
  },
  {
   "cell_type": "code",
   "execution_count": 35,
   "id": "c596e90c",
   "metadata": {},
   "outputs": [
    {
     "data": {
      "text/plain": [
       "'0123456789'"
      ]
     },
     "execution_count": 35,
     "metadata": {},
     "output_type": "execute_result"
    }
   ],
   "source": [
    "digits"
   ]
  },
  {
   "cell_type": "code",
   "execution_count": 37,
   "id": "0d48d631",
   "metadata": {},
   "outputs": [
    {
     "data": {
      "text/plain": [
       "'!\"#$%&\\'()*+,-./:;<=>?@[\\\\]^_`{|}~'"
      ]
     },
     "execution_count": 37,
     "metadata": {},
     "output_type": "execute_result"
    }
   ],
   "source": [
    "string.punctuation      #string içinde bulunan klavyedeki tüm noktalama işaretlerini veriyor."
   ]
  },
  {
   "cell_type": "code",
   "execution_count": 38,
   "id": "1b96a7d9",
   "metadata": {},
   "outputs": [
    {
     "data": {
      "text/plain": [
       "'0123456789'"
      ]
     },
     "execution_count": 38,
     "metadata": {},
     "output_type": "execute_result"
    }
   ],
   "source": [
    "string.digits"
   ]
  },
  {
   "cell_type": "code",
   "execution_count": 3,
   "id": "e4c4da74",
   "metadata": {},
   "outputs": [],
   "source": [
    "import datetime"
   ]
  },
  {
   "cell_type": "code",
   "execution_count": 4,
   "id": "6e100f0f",
   "metadata": {},
   "outputs": [
    {
     "name": "stdout",
     "output_type": "stream",
     "text": [
      "['MAXYEAR', 'MINYEAR', '__builtins__', '__cached__', '__doc__', '__file__', '__loader__', '__name__', '__package__', '__spec__', 'date', 'datetime', 'datetime_CAPI', 'sys', 'time', 'timedelta', 'timezone', 'tzinfo']\n"
     ]
    }
   ],
   "source": [
    "print(dir(datetime))"
   ]
  },
  {
   "cell_type": "code",
   "execution_count": 5,
   "id": "3ba94f96",
   "metadata": {},
   "outputs": [
    {
     "name": "stdout",
     "output_type": "stream",
     "text": [
      "2021-08-18\n"
     ]
    }
   ],
   "source": [
    "print(datetime.date.today())"
   ]
  },
  {
   "cell_type": "code",
   "execution_count": 6,
   "id": "ce8af22d",
   "metadata": {},
   "outputs": [
    {
     "name": "stdout",
     "output_type": "stream",
     "text": [
      "2021-08-18 22:55:24.045758\n"
     ]
    }
   ],
   "source": [
    "print(datetime.datetime.now())"
   ]
  },
  {
   "cell_type": "markdown",
   "id": "2813b647",
   "metadata": {},
   "source": [
    "Bir insanın doğumu ile ölümü arasında ne kadar yaşadığını hesaplıyoruz."
   ]
  },
  {
   "cell_type": "code",
   "execution_count": 5,
   "id": "f429881b",
   "metadata": {},
   "outputs": [],
   "source": [
    "from datetime import date"
   ]
  },
  {
   "cell_type": "code",
   "execution_count": null,
   "id": "a7d94d21",
   "metadata": {},
   "outputs": [],
   "source": [
    "date"
   ]
  },
  {
   "cell_type": "code",
   "execution_count": 8,
   "id": "0409d398",
   "metadata": {},
   "outputs": [],
   "source": [
    "birth = date(571,4,22)"
   ]
  },
  {
   "cell_type": "code",
   "execution_count": 9,
   "id": "9507b706",
   "metadata": {},
   "outputs": [
    {
     "data": {
      "text/plain": [
       "datetime.date(571, 4, 22)"
      ]
     },
     "execution_count": 9,
     "metadata": {},
     "output_type": "execute_result"
    }
   ],
   "source": [
    "birth"
   ]
  },
  {
   "cell_type": "code",
   "execution_count": 10,
   "id": "7dca4e47",
   "metadata": {},
   "outputs": [],
   "source": [
    "death = date(632,6,8)"
   ]
  },
  {
   "cell_type": "code",
   "execution_count": 11,
   "id": "617f07e6",
   "metadata": {},
   "outputs": [
    {
     "data": {
      "text/plain": [
       "datetime.date(632, 6, 8)"
      ]
     },
     "execution_count": 11,
     "metadata": {},
     "output_type": "execute_result"
    }
   ],
   "source": [
    "death"
   ]
  },
  {
   "cell_type": "code",
   "execution_count": 12,
   "id": "93681b8e",
   "metadata": {},
   "outputs": [
    {
     "data": {
      "text/plain": [
       "datetime.timedelta(days=22327)"
      ]
     },
     "execution_count": 12,
     "metadata": {},
     "output_type": "execute_result"
    }
   ],
   "source": [
    "death-birth"
   ]
  },
  {
   "cell_type": "code",
   "execution_count": 14,
   "id": "99e91937",
   "metadata": {},
   "outputs": [
    {
     "data": {
      "text/plain": [
       "22327"
      ]
     },
     "execution_count": 14,
     "metadata": {},
     "output_type": "execute_result"
    }
   ],
   "source": [
    "date.toordinal(death)-date.toordinal(birth)"
   ]
  },
  {
   "cell_type": "code",
   "execution_count": 19,
   "id": "028c01ad",
   "metadata": {},
   "outputs": [],
   "source": [
    "birth = date(1980,1,1)"
   ]
  },
  {
   "cell_type": "code",
   "execution_count": 20,
   "id": "96752359",
   "metadata": {},
   "outputs": [],
   "source": [
    "now = datetime.date.today()"
   ]
  },
  {
   "cell_type": "code",
   "execution_count": 21,
   "id": "cba564c2",
   "metadata": {},
   "outputs": [
    {
     "data": {
      "text/plain": [
       "15205"
      ]
     },
     "execution_count": 21,
     "metadata": {},
     "output_type": "execute_result"
    }
   ],
   "source": [
    "date.toordinal(now)-date.toordinal(birth)"
   ]
  },
  {
   "cell_type": "code",
   "execution_count": 5,
   "id": "3cd62f54",
   "metadata": {},
   "outputs": [],
   "source": [
    "import string"
   ]
  },
  {
   "cell_type": "code",
   "execution_count": 4,
   "id": "0a8558c6",
   "metadata": {},
   "outputs": [
    {
     "data": {
      "text/plain": [
       "<module 'string' from 'C:\\\\Users\\\\HP\\\\anaconda3\\\\envs\\\\hot places\\\\lib\\\\string.py'>"
      ]
     },
     "execution_count": 4,
     "metadata": {},
     "output_type": "execute_result"
    }
   ],
   "source": [
    "string."
   ]
  },
  {
   "cell_type": "code",
   "execution_count": null,
   "id": "d6b3cfc9",
   "metadata": {},
   "outputs": [],
   "source": []
  }
 ],
 "metadata": {
  "kernelspec": {
   "display_name": "Python 3",
   "language": "python",
   "name": "python3"
  },
  "language_info": {
   "codemirror_mode": {
    "name": "ipython",
    "version": 3
   },
   "file_extension": ".py",
   "mimetype": "text/x-python",
   "name": "python",
   "nbconvert_exporter": "python",
   "pygments_lexer": "ipython3",
   "version": "3.8.10"
  }
 },
 "nbformat": 4,
 "nbformat_minor": 5
}
