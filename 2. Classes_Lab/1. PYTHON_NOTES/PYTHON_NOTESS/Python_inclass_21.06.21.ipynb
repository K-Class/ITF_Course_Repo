{
 "cells": [
  {
   "cell_type": "code",
   "execution_count": null,
   "id": "3dac5748",
   "metadata": {},
   "outputs": [],
   "source": [
    "print('hello world!')\n",
    "\n",
    "print('hello world!')\n",
    "\n",
    "# bu single line comment\n",
    "\n",
    "print('hello')  # bu inline comment\n",
    "\n",
    "print('')\n",
    "# birinci satır\n",
    "# ikinci satır\n",
    "# ücünçü satır"
   ]
  },
  {
   "cell_type": "code",
   "execution_count": null,
   "id": "1bd4149d",
   "metadata": {},
   "outputs": [],
   "source": [
    "my_age = 35\n",
    "your_age = 40\n",
    "my_age = your_age\n",
    "Print(my_age)"
   ]
  },
  {
   "cell_type": "code",
   "execution_count": null,
   "id": "b5b193ca",
   "metadata": {},
   "outputs": [],
   "source": [
    "my_age = 35\n",
    "your_age = 40\n",
    "my_age = your_age\n",
    "\n",
    "Print(my_age)"
   ]
  },
  {
   "cell_type": "code",
   "execution_count": null,
   "id": "239c4109",
   "metadata": {},
   "outputs": [],
   "source": [
    "my_age = 40\n",
    "your_age = 35\n",
    "my_age = your_age\n",
    "print(my_age)"
   ]
  },
  {
   "cell_type": "code",
   "execution_count": null,
   "id": "6573fcb8",
   "metadata": {},
   "outputs": [],
   "source": [
    "a = 36.5\n",
    "b = '30'\n",
    "c = '3.5'\n",
    "d = ' F is enough for room temperature.'\n",
    "print(float(c))\n",
    "print(int(b))\n",
    "print(str(70.0))\n",
    "print(str(a+int(b)+float(c))+d)"
   ]
  },
  {
   "cell_type": "code",
   "execution_count": null,
   "id": "492e3ef6",
   "metadata": {},
   "outputs": [],
   "source": [
    "x = 6\n",
    "y = 60\n",
    "z = 6\n",
    "print(x=z)\n",
    "line-2 → z=y\n",
    "line-3 → y=x"
   ]
  },
  {
   "cell_type": "code",
   "execution_count": null,
   "id": "7b6586b1",
   "metadata": {},
   "outputs": [],
   "source": [
    "print(9 % 2)  # remainder of this division is 1\n",
    "# it means 9 is an odd number "
   ]
  },
  {
   "cell_type": "code",
   "execution_count": null,
   "id": "10118ff9",
   "metadata": {},
   "outputs": [],
   "source": [
    "print('Result of this (12+7) sum :', 12 + 7)"
   ]
  },
  {
   "cell_type": "code",
   "execution_count": null,
   "id": "48e2357b",
   "metadata": {},
   "outputs": [],
   "source": [
    "fruit = 'Orange'\n",
    "vegetable = \"Tomato\"\n",
    "print (fruit, \" and \", vegetable)"
   ]
  },
  {
   "cell_type": "code",
   "execution_count": null,
   "id": "d07f9c85",
   "metadata": {},
   "outputs": [],
   "source": [
    "print('C:\\\\november\\number_expenditure.txt')"
   ]
  }
 ],
 "metadata": {
  "kernelspec": {
   "display_name": "Python 3",
   "language": "python",
   "name": "python3"
  },
  "language_info": {
   "codemirror_mode": {
    "name": "ipython",
    "version": 3
   },
   "file_extension": ".py",
   "mimetype": "text/x-python",
   "name": "python",
   "nbconvert_exporter": "python",
   "pygments_lexer": "ipython3",
   "version": "3.8.10"
  }
 },
 "nbformat": 4,
 "nbformat_minor": 5
}
