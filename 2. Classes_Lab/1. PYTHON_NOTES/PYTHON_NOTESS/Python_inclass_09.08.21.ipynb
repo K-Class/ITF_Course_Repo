{
 "cells": [
  {
   "cell_type": "code",
   "execution_count": 2,
   "id": "77f926a2",
   "metadata": {},
   "outputs": [
    {
     "name": "stdout",
     "output_type": "stream",
     "text": [
      "Here are the names of brothers :\n",
      "tom\n",
      "sue\n",
      "tim\n"
     ]
    }
   ],
   "source": [
    "def brothers(bro1, bro2, bro3):\n",
    "    print('Here are the names of brothers :')\n",
    "    print(bro1, bro2, bro3, sep='\\n')\n",
    "brothers(\"tom\", \"sue\", \"tim\")"
   ]
  },
  {
   "cell_type": "code",
   "execution_count": 4,
   "id": "ad54cda7",
   "metadata": {},
   "outputs": [
    {
     "name": "stdout",
     "output_type": "stream",
     "text": [
      "Here are the names of brothers :\n",
      "tom\n",
      "sue\n",
      "tim\n"
     ]
    }
   ],
   "source": [
    "bros=[\"tom\", \"sue\", \"tim\"]\n",
    "brothers(*bros)"
   ]
  },
  {
   "cell_type": "code",
   "execution_count": 5,
   "id": "49a75cae",
   "metadata": {},
   "outputs": [
    {
     "data": {
      "text/plain": [
       "'ODUNUM'"
      ]
     },
     "execution_count": 5,
     "metadata": {},
     "output_type": "execute_result"
    }
   ],
   "source": [
    "def mantık(kelime):\n",
    "    return kelime.upper()\n",
    "mantık(\"odunum\")"
   ]
  },
  {
   "cell_type": "code",
   "execution_count": 6,
   "id": "fde107b5",
   "metadata": {},
   "outputs": [
    {
     "name": "stdout",
     "output_type": "stream",
     "text": [
      "ODUNUM\n"
     ]
    }
   ],
   "source": [
    "print(mantık(\"odunum\"))"
   ]
  },
  {
   "cell_type": "code",
   "execution_count": 7,
   "id": "1eeaae7c",
   "metadata": {},
   "outputs": [
    {
     "data": {
      "text/plain": [
       "'hücre'"
      ]
     },
     "execution_count": 7,
     "metadata": {},
     "output_type": "execute_result"
    }
   ],
   "source": [
    "\"hücre\""
   ]
  },
  {
   "cell_type": "code",
   "execution_count": 3,
   "id": "c4718039",
   "metadata": {},
   "outputs": [
    {
     "data": {
      "text/plain": [
       "<filter at 0x1db19a12100>"
      ]
     },
     "execution_count": 3,
     "metadata": {},
     "output_type": "execute_result"
    }
   ],
   "source": [
    "cümle = \"İnsan hiçbir ZAMAN umudunu yitirmemelidir.\"\n",
    "def voweler():\n",
    "    vowels = [ \"i\",\"e\",\"a\",\"o\",\"u\",\"ö\",\"ü\"]\n",
    "    \n",
    "    if letter.lower() in vowels:\n",
    "        return True\n",
    "    else:\n",
    "        return False\n",
    "    \n",
    "filter(voweler,cümle)"
   ]
  },
  {
   "cell_type": "code",
   "execution_count": 3,
   "id": "1a80cb77",
   "metadata": {},
   "outputs": [
    {
     "ename": "TypeError",
     "evalue": "voweler() takes 0 positional arguments but 1 was given",
     "output_type": "error",
     "traceback": [
      "\u001b[1;31m---------------------------------------------------------------------------\u001b[0m",
      "\u001b[1;31mTypeError\u001b[0m                                 Traceback (most recent call last)",
      "\u001b[1;32m<ipython-input-3-2865247675e9>\u001b[0m in \u001b[0;36m<module>\u001b[1;34m\u001b[0m\n\u001b[0;32m     10\u001b[0m \u001b[1;33m\u001b[0m\u001b[0m\n\u001b[0;32m     11\u001b[0m \u001b[0mfiltered_vowels\u001b[0m \u001b[1;33m=\u001b[0m \u001b[0mfilter\u001b[0m\u001b[1;33m(\u001b[0m\u001b[0mvoweler\u001b[0m\u001b[1;33m,\u001b[0m\u001b[0mcümle\u001b[0m\u001b[1;33m)\u001b[0m\u001b[1;33m\u001b[0m\u001b[1;33m\u001b[0m\u001b[0m\n\u001b[1;32m---> 12\u001b[1;33m \u001b[0mlist\u001b[0m\u001b[1;33m(\u001b[0m\u001b[0mfiltered_vowels\u001b[0m\u001b[1;33m)\u001b[0m\u001b[1;33m\u001b[0m\u001b[1;33m\u001b[0m\u001b[0m\n\u001b[0m",
      "\u001b[1;31mTypeError\u001b[0m: voweler() takes 0 positional arguments but 1 was given"
     ]
    }
   ],
   "source": [
    "cümle = \"İnsan hiçbir ZAMAN umudunu yitirmemelidir.\"  \n",
    "\n",
    "def voweler():\n",
    "    vowels = [\"i\",\"e\",\"a\",\"o\",\"u\",\"ö\",\"ü\"]\n",
    "    \n",
    "    if letter.lower() in vowels:\n",
    "        return True\n",
    "    else:\n",
    "        return False\n",
    "  \n",
    "filtered_vowels = filter(voweler,cümle)\n",
    "list(filtered_vowels)"
   ]
  },
  {
   "cell_type": "code",
   "execution_count": 5,
   "id": "dcbaa053",
   "metadata": {},
   "outputs": [
    {
     "data": {
      "text/plain": [
       "'For me Bill Gates and Guido Van Rossum are geniuses.'"
      ]
     },
     "execution_count": 5,
     "metadata": {},
     "output_type": "execute_result"
    }
   ],
   "source": [
    "genius = (\"Bill\", \"Rossum\", \"Guido Van\", \"Gates\")\n",
    "def merger (a,b,c,d):\n",
    "    return f\"For me {a} {d} and {c} {b} are geniuses.\"\n",
    "merger(*genius)"
   ]
  },
  {
   "cell_type": "code",
   "execution_count": 5,
   "id": "34dc13c0",
   "metadata": {},
   "outputs": [
    {
     "name": "stdout",
     "output_type": "stream",
     "text": [
      "a ahmet\n",
      "b mehmet\n",
      "c selamet\n"
     ]
    }
   ],
   "source": [
    "def önceki (**parametre) :\n",
    "    for x,y in parametre.items() :\n",
    "        print(x,y)\n",
    "önceki(a=\"ahmet\", b=\"mehmet\", c=\"selamet\")"
   ]
  },
  {
   "cell_type": "code",
   "execution_count": 1,
   "id": "74a4c673",
   "metadata": {},
   "outputs": [],
   "source": [
    "def gene (x=\"Solomon\", y=\"David\") :\n",
    "    print(x, \"belongs to Generation X\")\n",
    "    print(y, \"belongs to Generation Y\")"
   ]
  },
  {
   "cell_type": "raw",
   "id": "c2588c0c",
   "metadata": {},
   "source": [
    "dict_gene = {\"y\": \"Marry\", \"x\" : \"Fred\"}"
   ]
  },
  {
   "cell_type": "code",
   "execution_count": 3,
   "id": "d2c35899",
   "metadata": {},
   "outputs": [
    {
     "name": "stdout",
     "output_type": "stream",
     "text": [
      "Fred belongs to Generation X\n",
      "Marry belongs to Generation Y\n"
     ]
    }
   ],
   "source": [
    "gene(**dict_gene)"
   ]
  },
  {
   "cell_type": "code",
   "execution_count": 4,
   "id": "bbf6dc51",
   "metadata": {},
   "outputs": [
    {
     "name": "stdout",
     "output_type": "stream",
     "text": [
      "Solomon belongs to Generation X\n",
      "David belongs to Generation Y\n"
     ]
    }
   ],
   "source": [
    "gene()"
   ]
  },
  {
   "cell_type": "code",
   "execution_count": null,
   "id": "66378b67",
   "metadata": {},
   "outputs": [],
   "source": [
    "def gene(x,y) :\n",
    "    print(x, \"belongs to Generation X\")\n",
    "    print(y, \"belongs to Generation Y\")"
   ]
  },
  {
   "cell_type": "code",
   "execution_count": 6,
   "id": "6d994805",
   "metadata": {},
   "outputs": [
    {
     "data": {
      "text/plain": [
       "{'y': 'Marry', 'x': 'Fred'}"
      ]
     },
     "execution_count": 6,
     "metadata": {},
     "output_type": "execute_result"
    }
   ],
   "source": [
    "dict_gene"
   ]
  },
  {
   "cell_type": "code",
   "execution_count": 5,
   "id": "64e78381",
   "metadata": {},
   "outputs": [
    {
     "name": "stdout",
     "output_type": "stream",
     "text": [
      "Fred belongs to Generation X\n",
      "Marry belongs to Generation Y\n"
     ]
    }
   ],
   "source": [
    "gene(**dict_gene)   #argument in dict olması gerekir."
   ]
  },
  {
   "cell_type": "code",
   "execution_count": 8,
   "id": "cb2c0da9",
   "metadata": {},
   "outputs": [
    {
     "data": {
      "text/plain": [
       "[('marry', 'jack'), ('bella', 'robert'), ('linda', 'eric'), ('emma', 'adam')]"
      ]
     },
     "execution_count": 8,
     "metadata": {},
     "output_type": "execute_result"
    }
   ],
   "source": [
    "dict_couple = {\"bride\": [\"marry\", \"bella\", \"linda\", \"emma\"],\n",
    "              \"groom\" : [\"jack\", \"robert\", \"eric\", \"adam\"]}\n",
    "def muruvvet (bride, groom) :\n",
    "    couple_list = []\n",
    "    for x in zip(bride, groom):\n",
    "        couple_list.append(x)\n",
    "    return couple_list\n",
    "\n",
    "muruvvet(**dict_couple)"
   ]
  },
  {
   "cell_type": "markdown",
   "id": "bde13db5",
   "metadata": {},
   "source": [
    "<img src=\"https://i.pinimg.com/originals/e6/87/61/e687614048a36165dd49b6fb18a12b5d.png\" height = \"150\" width =\"300\" alt = \"izdivac\">"
   ]
  },
  {
   "cell_type": "code",
   "execution_count": 9,
   "id": "d1605c8e",
   "metadata": {},
   "outputs": [],
   "source": [
    "def muruvvet_2(bride, groom) :\n",
    "    return [x for x in zip(bride, groom)]\n"
   ]
  },
  {
   "cell_type": "code",
   "execution_count": 10,
   "id": "0dd29be5",
   "metadata": {},
   "outputs": [],
   "source": [
    "def muruvvet_2(bride, groom) :\n",
    "    return [*zip(bride, groom)]\n"
   ]
  },
  {
   "cell_type": "code",
   "execution_count": 7,
   "id": "cd5540e4",
   "metadata": {},
   "outputs": [
    {
     "ename": "SyntaxError",
     "evalue": "invalid syntax (<ipython-input-7-af69c6635ee3>, line 2)",
     "output_type": "error",
     "traceback": [
      "\u001b[1;36m  File \u001b[1;32m\"<ipython-input-7-af69c6635ee3>\"\u001b[1;36m, line \u001b[1;32m2\u001b[0m\n\u001b[1;33m    def meaner(dict_friends.keys()):\u001b[0m\n\u001b[1;37m                           ^\u001b[0m\n\u001b[1;31mSyntaxError\u001b[0m\u001b[1;31m:\u001b[0m invalid syntax\n"
     ]
    }
   ],
   "source": [
    "dict_friends = {\"jack\" : 42 , \"alfred\": 28,  \"john\" : 18, \"matthew\" : 65}\n",
    "def meaner(dict_friends.keys()):\n",
    "    avg = (dict_friends.values())/4\n",
    "    print(\"the average of their ages is :\" , avg)\n",
    "meaner(**dict_friends)"
   ]
  },
  {
   "cell_type": "code",
   "execution_count": 5,
   "id": "60e3a3b2",
   "metadata": {},
   "outputs": [
    {
     "name": "stdout",
     "output_type": "stream",
     "text": [
      "the average of their ages is : 38.25\n"
     ]
    }
   ],
   "source": [
    "dict_friends = {\"jack\" : 42 , \"alfred\": 28,  \"john\" : 18, \"matthew\" : 65}\n",
    "def meaner(jack, alfred, john, matthew):\n",
    "    avg = (jack + alfred + john + matthew)/4\n",
    "    print(\"the average of their ages is :\", avg)\n",
    "meaner(**dict_friends)"
   ]
  },
  {
   "cell_type": "code",
   "execution_count": 6,
   "id": "a32fd8fd",
   "metadata": {},
   "outputs": [
    {
     "data": {
      "text/plain": [
       "' The average of their ages is :38.25'"
      ]
     },
     "execution_count": 6,
     "metadata": {},
     "output_type": "execute_result"
    }
   ],
   "source": [
    "dict_friends = {\"jack\" : 42 , \"alfred\": 28,  \"john\" : 18, \"matthew\" : 65}\n",
    "def meaner(jack, alfred, john, matthew):\n",
    "    return f\" The average of their ages is :{(jack + alfred + john + matthew)/4}\"\n",
    "meaner(**dict_friends)"
   ]
  },
  {
   "cell_type": "markdown",
   "id": "5fd7e06e",
   "metadata": {},
   "source": [
    "# valid paranthesis"
   ]
  },
  {
   "cell_type": "code",
   "execution_count": null,
   "id": "6b1898a0",
   "metadata": {},
   "outputs": [],
   "source": [
    "\"()\"            True\n",
    "\"()[]{}\"        \n",
    "\"(]\"\n",
    "\"(\""
   ]
  },
  {
   "cell_type": "code",
   "execution_count": null,
   "id": "18d27c90",
   "metadata": {},
   "outputs": [],
   "source": [
    "([{({})}]({}))"
   ]
  },
  {
   "cell_type": "code",
   "execution_count": null,
   "id": "3ccc4387",
   "metadata": {},
   "outputs": [],
   "source": [
    "\"([{()}]())\""
   ]
  },
  {
   "cell_type": "code",
   "execution_count": null,
   "id": "59b9fd64",
   "metadata": {},
   "outputs": [],
   "source": [
    "\"([{}])\""
   ]
  },
  {
   "cell_type": "code",
   "execution_count": null,
   "id": "d561f2ad",
   "metadata": {},
   "outputs": [],
   "source": [
    "\"([])\""
   ]
  },
  {
   "cell_type": "code",
   "execution_count": null,
   "id": "9a73fd34",
   "metadata": {},
   "outputs": [],
   "source": [
    "\"()\""
   ]
  },
  {
   "cell_type": "code",
   "execution_count": null,
   "id": "57b7600f",
   "metadata": {},
   "outputs": [],
   "source": [
    "\"\"        #birim parantezlerin hepsini eşleştirip sildiğimizde boş string kaliyorsa valid bir değer verir."
   ]
  },
  {
   "cell_type": "code",
   "execution_count": null,
   "id": "cd898f61",
   "metadata": {},
   "outputs": [],
   "source": [
    "\"[[{({})}]({}))\""
   ]
  },
  {
   "cell_type": "code",
   "execution_count": null,
   "id": "b40eac71",
   "metadata": {},
   "outputs": [],
   "source": [
    "\"[[{()}]())\""
   ]
  },
  {
   "cell_type": "code",
   "execution_count": null,
   "id": "913a2924",
   "metadata": {},
   "outputs": [],
   "source": [
    "\"[[{}]\""
   ]
  },
  {
   "cell_type": "code",
   "execution_count": null,
   "id": "8863008f",
   "metadata": {},
   "outputs": [],
   "source": [
    "\"[[]\""
   ]
  },
  {
   "cell_type": "code",
   "execution_count": null,
   "id": "077118d8",
   "metadata": {},
   "outputs": [],
   "source": [
    "\"[\"  #dolu string kaldı. Bu False verir yani invalid."
   ]
  },
  {
   "cell_type": "code",
   "execution_count": 12,
   "id": "c316f162",
   "metadata": {},
   "outputs": [
    {
     "data": {
      "text/plain": [
       "False"
      ]
     },
     "execution_count": 12,
     "metadata": {},
     "output_type": "execute_result"
    }
   ],
   "source": [
    "x = \"[[{({})}]({}))\"\n",
    "def isValid(s) :\n",
    "    while \"()\" in s or \"{}\" in s or \"[]\" in s :\n",
    "        s = s.replace(\"()\", \"\").replace(\"[]\", \"\").replace(\"{}\", \"\")\n",
    "    return s == \"\" \n",
    "isValid(x)"
   ]
  },
  {
   "cell_type": "code",
   "execution_count": 8,
   "id": "eee83760",
   "metadata": {},
   "outputs": [
    {
     "data": {
      "text/plain": [
       "'ali+veli'"
      ]
     },
     "execution_count": 8,
     "metadata": {},
     "output_type": "execute_result"
    }
   ],
   "source": [
    "\"ali-veli\".replace(\"-\", \"+\")"
   ]
  },
  {
   "cell_type": "code",
   "execution_count": 9,
   "id": "2b55d437",
   "metadata": {},
   "outputs": [
    {
     "data": {
      "text/plain": [
       "'aliveli'"
      ]
     },
     "execution_count": 9,
     "metadata": {},
     "output_type": "execute_result"
    }
   ],
   "source": [
    "\"ali-veli\".replace(\"-\", \"\")"
   ]
  },
  {
   "cell_type": "code",
   "execution_count": null,
   "id": "8f6ed190",
   "metadata": {},
   "outputs": [],
   "source": []
  }
 ],
 "metadata": {
  "kernelspec": {
   "display_name": "Python 3",
   "language": "python",
   "name": "python3"
  },
  "language_info": {
   "codemirror_mode": {
    "name": "ipython",
    "version": 3
   },
   "file_extension": ".py",
   "mimetype": "text/x-python",
   "name": "python",
   "nbconvert_exporter": "python",
   "pygments_lexer": "ipython3",
   "version": "3.8.10"
  }
 },
 "nbformat": 4,
 "nbformat_minor": 5
}
