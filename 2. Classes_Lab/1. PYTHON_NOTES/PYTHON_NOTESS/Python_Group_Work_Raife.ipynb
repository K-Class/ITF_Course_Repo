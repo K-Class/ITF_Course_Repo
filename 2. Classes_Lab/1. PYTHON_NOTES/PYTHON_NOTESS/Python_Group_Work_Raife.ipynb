{
 "cells": [
  {
   "cell_type": "markdown",
   "metadata": {
    "id": "r9B45NdlOz1t"
   },
   "source": [
    "```\n",
    "1 Sansürlü kelimeyi düzeltelim\n",
    "print(sansür(\"pyth*n\", \"o\")) ---> python\n",
    "print(sansür(\"*r*b*m* p*rk *tt*m\",\"aaaıaei\"))  --> arabamı park ettim\n",
    "```\n",
    "\n"
   ]
  },
  {
   "cell_type": "code",
   "execution_count": null,
   "metadata": {},
   "outputs": [],
   "source": [
    "def sansür(sansürlü, sesli):\n",
    "  n=0\n",
    "  for i in sansürlü:\n",
    "    if i=='*':\n",
    "      sansürlü=sansürlü.replace('*',sesli[n],5)\n",
    "      n+=1\n",
    "  return sansürlü\n",
    "print(sansür(\"pyth*n\", \"o\")) \n",
    "print(sansür(\"*r*b*m* p*rk *tt*m\",\"aiaıaei\"))"
   ]
  },
  {
   "cell_type": "markdown",
   "metadata": {
    "id": "Q5AiEAoiPHH-"
   },
   "source": [
    "```\n",
    "2. Girdisi string olan ifadenin içerisindeki harflerin türkçe alfabesindeki yerlerini bulup, hepsinin değerlerini toplayıp sonuç çiftse True tekse False yazdıran bir fonksiyon yazınız.\n",
    "print(kelime_cift_mi(\"Bilgisayar\")) -->True\n",
    "```\n",
    "\n"
   ]
  },
  {
   "cell_type": "code",
   "execution_count": null,
   "metadata": {},
   "outputs": [],
   "source": [
    "def kelime_cift_mi(cümle):\n",
    "  kucuk=\"abcçdefgğhıijklmnoöprsştuüvyz\"\n",
    "  toplam=0\n",
    "  for i in cümle.lower():\n",
    "    if i in kucuk:\n",
    "      toplam+=kucuk.index(i)+1\n",
    "  if toplam % 2 == 0:\n",
    "    return True\n",
    "  else:\n",
    "    return False\n",
    "print(kelime_cift_mi(\"B ç\"))"
   ]
  },
  {
   "cell_type": "code",
   "execution_count": null,
   "metadata": {},
   "outputs": [],
   "source": []
  },
  {
   "cell_type": "markdown",
   "metadata": {
    "id": "yUnkroayPGvn"
   },
   "source": [
    "\n",
    "```\n",
    " 3. Write a program to prompt the user for hours and rate per hour using input to compute gross pay. Pay should be the normal rate for hours up to 40 and time-and-a-half for the hourly rate for all hours worked above 40 hours. Put the logic to do the computation of pay in a function called computepay() and use the function to do the computation. The function should return a value. Use 45 hours and a rate of 10.50 per hour to test the program (the pay should be 498.75). You should use input to read a string and float() to convert the string to a number. Do not worry about error checking the user input unless you want to - you can assume the user types numbers properly. Do not name your variable sum or use the sum() function\n",
    "\n",
    "```\n",
    "\n"
   ]
  },
  {
   "cell_type": "code",
   "execution_count": null,
   "metadata": {},
   "outputs": [],
   "source": [
    "def compute_pay(h, r):\n",
    "  if h > 40:\n",
    "    p = 40*r + (h-40) * r* 1.5\n",
    "  else:\n",
    "    p= h*r\n",
    "  return p\n",
    "compute_pay(45, 2)"
   ]
  },
  {
   "cell_type": "markdown",
   "metadata": {
    "id": "agUSmN0iPGqB"
   },
   "source": [
    "```\n",
    "4. Sayının faktöriyelini hesaplayan fonksiyon yazalım.\n",
    "```\n",
    "\n",
    "\n"
   ]
  },
  {
   "cell_type": "code",
   "execution_count": null,
   "metadata": {},
   "outputs": [],
   "source": [
    "def factoriel(sayi):\n",
    "  sonuc = 1\n",
    "  i = 1\n",
    "  while i <sayi+1:\n",
    "    sonuc*=i\n",
    "    i+=1\n",
    "  return sonuc\n",
    "factoriel(4)"
   ]
  },
  {
   "cell_type": "markdown",
   "metadata": {
    "id": "tPWXxyrEPGmw"
   },
   "source": [
    "```\n",
    "5. Sayı ve string paramestresi alan, sayıyı geriye doğru aralarında * olacak şekilde yazdıran, sonuna verilen stringi büyük harflerle ekleyen ve en sona ! işareti koyan bir fonksiyon yazalım\n",
    " ÖRNEK\n",
    "geri_say(3,\"go\")--> \"3*2*1*GO!\"**kalın metin**\n",
    "```\n",
    "\n"
   ]
  },
  {
   "cell_type": "code",
   "execution_count": null,
   "metadata": {},
   "outputs": [],
   "source": [
    "def geri_say(n, yazi):\n",
    "  sonuc = ''\n",
    "  for i in range(n,0,-1):\n",
    "    sonuc += str(i) + '*'\n",
    "  sonuc+= yazi.upper() + '!'\n",
    "  return sonuc\n",
    "geri_say(3,\"go\")"
   ]
  },
  {
   "cell_type": "markdown",
   "metadata": {
    "id": "X0np6sCFPGjA"
   },
   "source": [
    "```\n",
    "6. Arif ve Raife listede yanyana duruyorlasa True döndüren durmuyorlarsa False döndüren bir fonksiyon yazalım.\n",
    "print(yan_yana_mı([\"Arif\",\"Raife\",\"Nihal\"])) --> True\n",
    "print(yan_yana_mı([\"Arif\",\"Nihal\",\"Raife\"])) --> False\n",
    "```\n",
    "\n"
   ]
  },
  {
   "cell_type": "code",
   "execution_count": null,
   "metadata": {},
   "outputs": [],
   "source": [
    "def yan_yana_mi(liste):\n",
    "  for i in liste:\n",
    "    if liste.index('Arif')+1 == liste.index('Raife') or liste.index('Arif') == liste.index('Raife') +1:\n",
    "      return True\n",
    "    else:\n",
    "      return False\n",
    "print(yan_yana_mi([\"Arif\",\"Raife\",\"Nihal\"]))\n",
    "print(yan_yana_mi([\"Arif\",\"Nihal\",\"Raife\"]))"
   ]
  },
  {
   "cell_type": "markdown",
   "metadata": {
    "id": "o8RAQ9ZpPGcN"
   },
   "source": [
    "```\n",
    "7. Listedeki her elemanı kendi indexi ile çarpıp toplamı veren bir fonksiyon yazalım.\n",
    "print(carpip_topla([1,2,3,4,5,6,7,8,9,10])) --> 330\n",
    "```\n",
    "\n",
    "\n",
    "\n"
   ]
  },
  {
   "cell_type": "code",
   "execution_count": null,
   "metadata": {},
   "outputs": [],
   "source": [
    "def carpıp_topla(liste):\n",
    "  toplam = 0\n",
    "  for i in range(len(liste)):\n",
    "    toplam += i* liste [i]\n",
    "  return toplam\n",
    "carpıp_topla([1,1])"
   ]
  },
  {
   "cell_type": "markdown",
   "metadata": {
    "id": "6eFw-Cy2PGYg"
   },
   "source": [
    "```\n",
    "8. Cümledeki sayı ve harflerin sayısını bulan bir fonksiyon yazalım\n",
    "print(harf_sayi_sayisi(\"10'a kadar saysam ve sonrasında hayat bayram olsa.\")) --> Harfler: 39, Sayılar: 2\n",
    "\n",
    "```\n",
    "\n",
    "\n"
   ]
  },
  {
   "cell_type": "code",
   "execution_count": null,
   "metadata": {},
   "outputs": [],
   "source": [
    "def harf_sayi_sayisi(cümle):\n",
    "  h = 0\n",
    "  s = 0\n",
    "  for i in cümle:\n",
    "    if i.isalpha():\n",
    "      h+=1\n",
    "    elif i.isdigit():\n",
    "      s+=1\n",
    "  return f'Harfler: {h}, sayılar {s}'\n",
    "print(harf_sayi_sayisi(\"10'a kadar saysam ve sonrasında hayat bayram olsa.\"))"
   ]
  },
  {
   "cell_type": "markdown",
   "metadata": {
    "id": "txt134wgPGVZ"
   },
   "source": [
    "```\n",
    "9.Stringin içindeki en büyük ve en küçük sayıyı veren fonksiyon yazalım.\n",
    "print(büyük_kücük(\"3 2 4 6 -1 12\")) --> 12 -1\n",
    "```\n",
    "\n"
   ]
  },
  {
   "cell_type": "code",
   "execution_count": null,
   "metadata": {},
   "outputs": [],
   "source": [
    "def buyuk_kucuk(deger):\n",
    "  liste= list(map(int, deger.split()))\n",
    "  return f'{max(liste)} {min(liste)}'\n",
    "print(buyuk_kucuk(\"3 2 4 6 -1 12\"))"
   ]
  },
  {
   "cell_type": "markdown",
   "metadata": {
    "id": "RhGJCDaNPGIS"
   },
   "source": [
    "```\n",
    "10. Harfler ve boşluklardan oluşan stringin içindeki kelime nin uzunluğu beş veya dah fazla ise o kelimeyi ters çeviren bir fonksiyon yazalım.\n",
    "print(ters_döndür(\"Ah bir data scientist olabilsem:)\")) --> Ah bir data tsitneics ):meslibalo\n",
    "```\n",
    "\n"
   ]
  },
  {
   "cell_type": "code",
   "execution_count": null,
   "metadata": {},
   "outputs": [],
   "source": [
    "def ters_dondur(yazi):\n",
    "  liste = yazi.split()\n",
    "  yeni = ''\n",
    "  for i in liste :\n",
    "    if len(i) >= 5:\n",
    "      yeni += i [::-1] + ' '\n",
    "    else:\n",
    "      yeni += i + ' '\n",
    "  return yeni.strip()\n",
    "print(ters_dondur(\"Ah bir data scientist olabilsem:)\"))"
   ]
  }
 ],
 "metadata": {
  "colab": {
   "name": "group_1.ipynb",
   "provenance": []
  },
  "kernelspec": {
   "display_name": "Python 3",
   "language": "python",
   "name": "python3"
  },
  "language_info": {
   "codemirror_mode": {
    "name": "ipython",
    "version": 3
   },
   "file_extension": ".py",
   "mimetype": "text/x-python",
   "name": "python",
   "nbconvert_exporter": "python",
   "pygments_lexer": "ipython3",
   "version": "3.8.10"
  }
 },
 "nbformat": 4,
 "nbformat_minor": 1
}
