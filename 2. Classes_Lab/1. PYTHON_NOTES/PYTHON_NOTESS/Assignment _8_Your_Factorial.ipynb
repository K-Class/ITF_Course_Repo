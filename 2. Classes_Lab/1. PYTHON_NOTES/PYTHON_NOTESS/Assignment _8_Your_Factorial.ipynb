{
 "cells": [
  {
   "cell_type": "code",
   "execution_count": null,
   "id": "b2369096",
   "metadata": {},
   "outputs": [],
   "source": [
    "Define a function named my_fact to calculate factorial of the given number. Given a non-negative integer return the factorial of the integer.\n",
    "\n",
    "(Example: The factorial of 5 is: 5*4*3*2*1 = 120 and factorial of 0 is: 1)\n",
    "For example:\n",
    "\n",
    "Test\tResult\n",
    "print(my_fact(5))\n",
    "120\n",
    "print(my_fact(4))\n",
    "24\n",
    "print(my_fact(3))\n",
    "6"
   ]
  },
  {
   "cell_type": "code",
   "execution_count": null,
   "id": "1af21f29",
   "metadata": {},
   "outputs": [],
   "source": [
    "def my_fact(n):"
   ]
  }
 ],
 "metadata": {
  "kernelspec": {
   "display_name": "Python 3",
   "language": "python",
   "name": "python3"
  },
  "language_info": {
   "codemirror_mode": {
    "name": "ipython",
    "version": 3
   },
   "file_extension": ".py",
   "mimetype": "text/x-python",
   "name": "python",
   "nbconvert_exporter": "python",
   "pygments_lexer": "ipython3",
   "version": "3.8.8"
  }
 },
 "nbformat": 4,
 "nbformat_minor": 5
}
