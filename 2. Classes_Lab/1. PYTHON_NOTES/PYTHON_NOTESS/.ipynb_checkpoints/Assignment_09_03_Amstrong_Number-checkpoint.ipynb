{
 "cells": [
  {
   "cell_type": "markdown",
   "id": "d4a0a79b",
   "metadata": {},
   "source": [
    "Task:\n",
    "\n",
    "Find out if a given number is an \"Armstrong Number\".\n",
    "\n",
    "An n-digit number that is the sum of the nth powers of its digits is called an n-Armstrong number. Examples :\n",
    "371 = 33 + 73 + 13;\n",
    "9474 = 94 + 44 + 74 + 44;\n",
    "93084 = 95 + 35 + 05 + 85 + 45.\n",
    "\n",
    "Write a Python program that;\n",
    "takes a positive integer number from the user,\n",
    "checks the entered number if it is Armstrong,\n",
    "consider the negative, float and any entries other than numeric values then display a warning message to the user.\n",
    "\n",
    "Examples\n",
    "Sample inputs\tOutputs\n",
    "407\t407 is an Armstrong number\n",
    "5\t5 is an Armstrong number\n",
    " -153\t It is an invalid entry. Don't use non-numeric, float, or negative values!\n",
    " 153.87 or 153,87\t It is an invalid entry. Don't use non-numeric, float, or negative values!\n",
    " one\t It is an invalid entry. Don't use non-numeric, float, or negative values!\n",
    " 121\t 121 is not an Armstrong number"
   ]
  },
  {
   "cell_type": "code",
   "execution_count": 2,
   "id": "6bce7ce4",
   "metadata": {},
   "outputs": [
    {
     "name": "stdout",
     "output_type": "stream",
     "text": [
      "enter a number:15,2\n",
      "It is an invalid entry. Don't use non-numeric, float, or negative values!\n",
      "enter a number:202\n",
      "202 is not an Amstrong number.\n"
     ]
    }
   ],
   "source": [
    "nu = input(\"enter a number:\")\n",
    "toplam = 0\n",
    "\n",
    "while not nu.isdigit() :      \n",
    "    print(\"It is an invalid entry. Don't use non-numeric, float, or negative values!\")\n",
    "    nu = input(\"enter a number:\")\n",
    "nu=int(nu)\n",
    "sayı=str(nu)\n",
    "for rakam in sayı:\n",
    "    \n",
    "    toplam += int(rakam)**len(sayı)\n",
    "if nu == toplam:\n",
    "    print(\"{} is an Amstrong number.\".format(nu))\n",
    "else: \n",
    "    print(\"{} is not an Amstrong number.\".format(nu))"
   ]
  }
 ],
 "metadata": {
  "kernelspec": {
   "display_name": "Python 3",
   "language": "python",
   "name": "python3"
  },
  "language_info": {
   "codemirror_mode": {
    "name": "ipython",
    "version": 3
   },
   "file_extension": ".py",
   "mimetype": "text/x-python",
   "name": "python",
   "nbconvert_exporter": "python",
   "pygments_lexer": "ipython3",
   "version": "3.8.10"
  }
 },
 "nbformat": 4,
 "nbformat_minor": 5
}
