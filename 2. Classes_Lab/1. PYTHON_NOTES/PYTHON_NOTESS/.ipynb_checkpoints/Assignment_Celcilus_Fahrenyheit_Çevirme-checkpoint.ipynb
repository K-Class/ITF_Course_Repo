{
 "cells": [
  {
   "cell_type": "code",
   "execution_count": null,
   "id": "04ef54cb",
   "metadata": {},
   "outputs": [],
   "source": [
    "value = 100  # celcilus olarak girilen değer\n",
    "value = (value*9/5)+32  # celcilus olarak girilen değeri fahreynheit çeriyoruz.\n",
    "value"
   ]
  }
 ],
 "metadata": {
  "kernelspec": {
   "display_name": "Python 3",
   "language": "python",
   "name": "python3"
  },
  "language_info": {
   "codemirror_mode": {
    "name": "ipython",
    "version": 3
   },
   "file_extension": ".py",
   "mimetype": "text/x-python",
   "name": "python",
   "nbconvert_exporter": "python",
   "pygments_lexer": "ipython3",
   "version": "3.8.10"
  }
 },
 "nbformat": 4,
 "nbformat_minor": 5
}
