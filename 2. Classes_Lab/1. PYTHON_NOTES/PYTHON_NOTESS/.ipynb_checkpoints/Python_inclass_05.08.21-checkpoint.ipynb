{
 "cells": [
  {
   "cell_type": "code",
   "execution_count": 2,
   "id": "c921dce8",
   "metadata": {},
   "outputs": [
    {
     "name": "stdout",
     "output_type": "stream",
     "text": [
      "3 is the first argument\n",
      "4 is the first argument\n",
      "\n",
      "3 is the first argument\n",
      "4 is the first argument\n"
     ]
    }
   ],
   "source": [
    "def pos_args(a,b):\n",
    "    print(a,\"is the first argument\")\n",
    "    print(b,\"is the first argument\")\n",
    "    \n",
    "pos_args(3,4)\n",
    "print()\n",
    "pos_args(3,4)"
   ]
  },
  {
   "cell_type": "code",
   "execution_count": 2,
   "id": "09240109",
   "metadata": {},
   "outputs": [
    {
     "name": "stdout",
     "output_type": "stream",
     "text": [
      "\n"
     ]
    }
   ],
   "source": [
    "a = \"i\"\n",
    "b = \"love\"\n",
    "c = \"you\"\n",
    "\n",
    "def texter(text1,text2,text3):     #text ler parameters dır.\n",
    "    print()\n",
    "texter(c,a,b)      #c a ve b arguments lerdir.\n"
   ]
  },
  {
   "cell_type": "code",
   "execution_count": 13,
   "id": "6b518cb2",
   "metadata": {},
   "outputs": [
    {
     "name": "stdout",
     "output_type": "stream",
     "text": [
      "i love you \n"
     ]
    }
   ],
   "source": [
    "a = \"i \"\n",
    "b = \"love \"\n",
    "c = \"you \"\n",
    "\n",
    "def texter(text1, text2, text3):\n",
    "    print(f\"{text2}{text3}{text1}\")\n",
    "texter(c, a, b)"
   ]
  },
  {
   "cell_type": "code",
   "execution_count": 12,
   "id": "5347de14",
   "metadata": {},
   "outputs": [
    {
     "name": "stdout",
     "output_type": "stream",
     "text": [
      "Iloveyou\n"
     ]
    }
   ],
   "source": [
    "texter(text1=\"you\", text2=\"I\", text3=\"love\")"
   ]
  },
  {
   "cell_type": "code",
   "execution_count": 14,
   "id": "7ec6342c",
   "metadata": {},
   "outputs": [],
   "source": [
    "def func(x=\"ali\", y=11):\n",
    "    body"
   ]
  },
  {
   "cell_type": "code",
   "execution_count": 1,
   "id": "8e38265a",
   "metadata": {},
   "outputs": [],
   "source": [
    "def parrot(voltage, state='a stiff', action='voom', type='Norwegian Blue'):\n",
    "    print(\"-- This parrot wouldn't\", action, end=' ')\n",
    "    print(\"if you put\", voltage, \"volts through it.\")\n",
    "    print(\"-- Lovely plumage, the\", type)\n",
    "    print(\"-- It's\", state, \"!\")"
   ]
  },
  {
   "cell_type": "code",
   "execution_count": 2,
   "id": "2cc6168e",
   "metadata": {},
   "outputs": [
    {
     "name": "stdout",
     "output_type": "stream",
     "text": [
      "-- This parrot wouldn't voom if you put 1000 volts through it.\n",
      "-- Lovely plumage, the Norwegian Blue\n",
      "-- It's a stiff !\n"
     ]
    }
   ],
   "source": [
    "parrot(1000)            # burada sıra önemli."
   ]
  },
  {
   "cell_type": "code",
   "execution_count": 3,
   "id": "4dc587dc",
   "metadata": {},
   "outputs": [
    {
     "name": "stdout",
     "output_type": "stream",
     "text": [
      "-- This parrot wouldn't VOOOOOM if you put 1000000 volts through it.\n",
      "-- Lovely plumage, the Norwegian Blue\n",
      "-- It's a stiff !\n"
     ]
    }
   ],
   "source": [
    "parrot(voltage=1000000, action='VOOOOOM')          #keywords argument ile çağırdığımızda sıra önemli değil."
   ]
  },
  {
   "cell_type": "code",
   "execution_count": 4,
   "id": "2b6ff1ae",
   "metadata": {},
   "outputs": [
    {
     "name": "stdout",
     "output_type": "stream",
     "text": [
      "-- This parrot wouldn't VOOOOOM if you put 1000000 volts through it.\n",
      "-- Lovely plumage, the Norwegian Blue\n",
      "-- It's a stiff !\n"
     ]
    }
   ],
   "source": [
    "parrot(action='VOOOOOM', voltage=1000000)"
   ]
  },
  {
   "cell_type": "code",
   "execution_count": 5,
   "id": "dec7ffe1",
   "metadata": {},
   "outputs": [],
   "source": [
    "def parrot(voltage, state='a stiff', action='voom', type='Norwegian Blue'):\n",
    "    print(\"-- This parrot wouldn't\", action, end=' ')\n",
    "    print(\"if you put\", voltage, \"volts through it.\")\n",
    "    print(\"-- Lovely plumage, the\", type)\n",
    "    print(\"-- It's\", state, \"!\")"
   ]
  },
  {
   "cell_type": "code",
   "execution_count": 6,
   "id": "29ca6b82",
   "metadata": {},
   "outputs": [
    {
     "name": "stdout",
     "output_type": "stream",
     "text": [
      "-- This parrot wouldn't jump if you put a million volts through it.\n",
      "-- Lovely plumage, the Norwegian Blue\n",
      "-- It's bereft of life !\n"
     ]
    }
   ],
   "source": [
    "parrot(\"a million\",\"bereft of life\",\"jump\")         #burada positional olarak sırayla \n",
    "                                                    #birinci ilk ikinci sonraki ve üçüncü ise sonra gelene gider"
   ]
  },
  {
   "cell_type": "code",
   "execution_count": 7,
   "id": "30a5325f",
   "metadata": {},
   "outputs": [
    {
     "name": "stdout",
     "output_type": "stream",
     "text": [
      "-- This parrot wouldn't voom if you put a thousand volts through it.\n",
      "-- Lovely plumage, the Norwegian Blue\n",
      "-- It's pushing up the daisies !\n"
     ]
    }
   ],
   "source": [
    "parrot(\"a thousand\", state=\"pushing up the daisies\")    #burada hem positional hemde keyword ile çağırdık."
   ]
  },
  {
   "cell_type": "code",
   "execution_count": 8,
   "id": "7cf44f6e",
   "metadata": {},
   "outputs": [
    {
     "ename": "TypeError",
     "evalue": "parrot() missing 1 required positional argument: 'voltage'",
     "output_type": "error",
     "traceback": [
      "\u001b[1;31m---------------------------------------------------------------------------\u001b[0m",
      "\u001b[1;31mTypeError\u001b[0m                                 Traceback (most recent call last)",
      "\u001b[1;32m<ipython-input-8-1fa32faf15ff>\u001b[0m in \u001b[0;36m<module>\u001b[1;34m\u001b[0m\n\u001b[1;32m----> 1\u001b[1;33m \u001b[0mparrot\u001b[0m\u001b[1;33m(\u001b[0m\u001b[1;33m)\u001b[0m\u001b[1;33m\u001b[0m\u001b[1;33m\u001b[0m\u001b[0m\n\u001b[0m",
      "\u001b[1;31mTypeError\u001b[0m: parrot() missing 1 required positional argument: 'voltage'"
     ]
    }
   ],
   "source": [
    "parrot()   #kyword olarak tanımlanmayan en az bir tane arg alması gereken bir value olduğundan hata verir bu durumda."
   ]
  },
  {
   "cell_type": "code",
   "execution_count": null,
   "id": "4077c0ee",
   "metadata": {},
   "outputs": [],
   "source": [
    "parrot(voltage=5, \"dead\") #func çağırırken önce positionları bitirmemiz gerekir."
   ]
  },
  {
   "cell_type": "code",
   "execution_count": 10,
   "id": "fa122fd4",
   "metadata": {},
   "outputs": [
    {
     "ename": "SyntaxError",
     "evalue": "non-default argument follows default argument (<ipython-input-10-a669be314810>, line 1)",
     "output_type": "error",
     "traceback": [
      "\u001b[1;36m  File \u001b[1;32m\"<ipython-input-10-a669be314810>\"\u001b[1;36m, line \u001b[1;32m1\u001b[0m\n\u001b[1;33m    def argu(a, b = \"dünya\", c, d =\"satürn\") :\u001b[0m\n\u001b[1;37m             ^\u001b[0m\n\u001b[1;31mSyntaxError\u001b[0m\u001b[1;31m:\u001b[0m non-default argument follows default argument\n"
     ]
    }
   ],
   "source": [
    "def argu(a, b = \"dünya\", c, d =\"satürn\") :   #buradan bir positional bir keyword bir positionl bir keyword var. \n",
    "                                             \n",
    "    print(a, b, c, d, sep =\"\\n\")             #Tüm positionallar bittikten sonra keywordleri koymamız gerekir."
   ]
  },
  {
   "cell_type": "code",
   "execution_count": 1,
   "id": "331e6af2",
   "metadata": {},
   "outputs": [],
   "source": [
    "def argu(a, c, b = \"dünya\", d =\"satürn\") :                                              \n",
    "    print(a, b, c, d, sep =\"\\n\") "
   ]
  },
  {
   "cell_type": "code",
   "execution_count": 3,
   "id": "ec6226dc",
   "metadata": {},
   "outputs": [
    {
     "name": "stdout",
     "output_type": "stream",
     "text": [
      "uranüs\n",
      "dünya\n",
      "jüpiter\n",
      "satürn\n"
     ]
    }
   ],
   "source": [
    "argu(\"uranüs\", \"jüpiter\")       #argu() olursa missing 2 required positional arguments: 'a' and 'c' hatası verir."
   ]
  },
  {
   "cell_type": "code",
   "execution_count": 4,
   "id": "9674ebce",
   "metadata": {},
   "outputs": [
    {
     "name": "stdout",
     "output_type": "stream",
     "text": [
      "uranüs\n",
      "dünya\n",
      "jüpiter\n",
      "satürn\n"
     ]
    }
   ],
   "source": [
    "argu(a=\"uranüs\", c=\"jüpiter\") #positional var bunu keyword ile çağırabiliyoruz."
   ]
  },
  {
   "cell_type": "code",
   "execution_count": 5,
   "id": "dbd4dc6f",
   "metadata": {},
   "outputs": [
    {
     "name": "stdout",
     "output_type": "stream",
     "text": [
      "plüton\n",
      "dünya\n",
      "venüs\n",
      "satürn\n"
     ]
    }
   ],
   "source": [
    "argu(\"plüton\",c=\"venüs\")"
   ]
  },
  {
   "cell_type": "code",
   "execution_count": 6,
   "id": "14ca7502",
   "metadata": {},
   "outputs": [
    {
     "ename": "SyntaxError",
     "evalue": "positional argument follows keyword argument (<ipython-input-6-7ddecdb3f652>, line 1)",
     "output_type": "error",
     "traceback": [
      "\u001b[1;36m  File \u001b[1;32m\"<ipython-input-6-7ddecdb3f652>\"\u001b[1;36m, line \u001b[1;32m1\u001b[0m\n\u001b[1;33m    argu(\"plüton\",c=\"venüs\", \"mars\")\u001b[0m\n\u001b[1;37m                               ^\u001b[0m\n\u001b[1;31mSyntaxError\u001b[0m\u001b[1;31m:\u001b[0m positional argument follows keyword argument\n"
     ]
    }
   ],
   "source": [
    "argu(\"plüton\",c=\"venüs\", \"mars\")    #burada önce positional sonra keyword sonra tekrar positional yazdığımdan hata verir."
   ]
  },
  {
   "cell_type": "code",
   "execution_count": 8,
   "id": "e2aef03b",
   "metadata": {},
   "outputs": [
    {
     "ename": "TypeError",
     "evalue": "argu() got multiple values for argument 'c'",
     "output_type": "error",
     "traceback": [
      "\u001b[1;31m---------------------------------------------------------------------------\u001b[0m",
      "\u001b[1;31mTypeError\u001b[0m                                 Traceback (most recent call last)",
      "\u001b[1;32m<ipython-input-8-52ffae7fbf2c>\u001b[0m in \u001b[0;36m<module>\u001b[1;34m\u001b[0m\n\u001b[1;32m----> 1\u001b[1;33m \u001b[0margu\u001b[0m\u001b[1;33m(\u001b[0m\u001b[1;34m\"plüton\"\u001b[0m\u001b[1;33m,\u001b[0m\u001b[1;34m\"mars\"\u001b[0m\u001b[1;33m,\u001b[0m \u001b[0mc\u001b[0m\u001b[1;33m=\u001b[0m\u001b[1;34m\"venüs\"\u001b[0m\u001b[1;33m)\u001b[0m   \u001b[1;31m#c ye tekrar keyword ile bir şey göndermeye çalışınca hata verir.\u001b[0m\u001b[1;33m\u001b[0m\u001b[1;33m\u001b[0m\u001b[0m\n\u001b[0m",
      "\u001b[1;31mTypeError\u001b[0m: argu() got multiple values for argument 'c'"
     ]
    }
   ],
   "source": [
    "argu(\"plüton\",\"mars\", c=\"venüs\")   #c ye tekrar keyword ile bir şey göndermeye çalışınca hata verir."
   ]
  },
  {
   "cell_type": "code",
   "execution_count": 9,
   "id": "c640cc4b",
   "metadata": {},
   "outputs": [
    {
     "name": "stdout",
     "output_type": "stream",
     "text": [
      "dünya\n",
      "venüs\n",
      "plüto\n",
      "güneş\n"
     ]
    }
   ],
   "source": [
    "argu(d = \"güneş\", a = \"dünya\", c = \"plüto\", b = \"venüs\")"
   ]
  },
  {
   "cell_type": "code",
   "execution_count": 10,
   "id": "eb3e639e",
   "metadata": {},
   "outputs": [
    {
     "name": "stdout",
     "output_type": "stream",
     "text": [
      "güneş\n",
      "plüto\n",
      "dünya\n",
      "venüs\n"
     ]
    }
   ],
   "source": [
    "argu(\"güneş\", \"dünya\", \"plüto\",\"venüs\")            #positional bir define ederken bir de çağırırken kullanılır.\n",
    "                                                   #def argu(a, c, b = \"dünya\", d =\"satürn\") sırasıyla yazar.  "
   ]
  },
  {
   "cell_type": "code",
   "execution_count": 12,
   "id": "32c5df1d",
   "metadata": {},
   "outputs": [
    {
     "name": "stdout",
     "output_type": "stream",
     "text": [
      "Athens in Europe\n",
      "Ulaanbaatar in Asia\n",
      "Cape Town in Africa\n"
     ]
    }
   ],
   "source": [
    "def city(capital, continent=\"Europe\"):\n",
    "    print(capital,\"in\",continent)\n",
    "city(\"Athens\")    #we dont have to pass any arguments into continent.  #positional\n",
    "city(\"Ulaanbaatar\", continent=\"Asia\")   #we can change the default value by kwargs.   #positional ve keyword\n",
    "city(\"Cape Town\", \"Africa\")   #we can change the default value by positional args.       #positional ve positional"
   ]
  },
  {
   "cell_type": "code",
   "execution_count": 14,
   "id": "011f7fae",
   "metadata": {},
   "outputs": [
    {
     "name": "stdout",
     "output_type": "stream",
     "text": [
      "I want to get:\n",
      "- orange\n",
      "- apple\n",
      "- banana\n",
      "- strawberry\n"
     ]
    }
   ],
   "source": [
    "def fruitterer(*fruit):\n",
    "    print(\"I want to get:\")\n",
    "    for i in fruit :\n",
    "        print(\"-\", i)\n",
    "fruitterer(\"orange\",\"apple\",\"banana\",\"strawberry\")"
   ]
  },
  {
   "cell_type": "code",
   "execution_count": 18,
   "id": "ceabbe76",
   "metadata": {},
   "outputs": [],
   "source": [
    "def slicer(*number):\n",
    "    even=[]\n",
    "    odd=[]\n",
    "    \n",
    "    for i in number :\n",
    "        if i%2==0:\n",
    "            even.append(i)\n",
    "        else :\n",
    "            odd.append(i)\n",
    "    print(\"even list :\", even)\n",
    "    print(\"odd list :\", odd)\n",
    "            "
   ]
  },
  {
   "cell_type": "code",
   "execution_count": 19,
   "id": "a52bf593",
   "metadata": {},
   "outputs": [
    {
     "name": "stdout",
     "output_type": "stream",
     "text": [
      "even list : [2, 4, 6, 8, 10]\n",
      "odd list : [1, 3, 5, 7, 9, 11]\n"
     ]
    }
   ],
   "source": [
    "slicer(1,2,3,4,5,6,7,8,9,10,11)"
   ]
  },
  {
   "cell_type": "code",
   "execution_count": 2,
   "id": "ae566582",
   "metadata": {},
   "outputs": [
    {
     "data": {
      "text/plain": [
       "{'isim': 'ahmet', 'soyisim': 'mehmet'}"
      ]
     },
     "execution_count": 2,
     "metadata": {},
     "output_type": "execute_result"
    }
   ],
   "source": [
    "test = dict(isim = \"ahmet\", soyisim = \"mehmet\")     #dict func keyword ile çağrılıyor.\n",
    "test"
   ]
  },
  {
   "cell_type": "code",
   "execution_count": 3,
   "id": "d67fc849",
   "metadata": {},
   "outputs": [
    {
     "name": "stdout",
     "output_type": "stream",
     "text": [
      "Lions are Carnivores\n",
      "Bears are Omnivores\n",
      "Deers are Herbivores\n",
      "Human are Nomnivores\n"
     ]
    }
   ],
   "source": [
    "def animals(**kwargs):                              #burada ayrı ayrı bütün argumentleri tanımlamamak için bunu kullandık.\n",
    "    for key, value in kwargs.items():\n",
    "        print(value, \"are\", key)\n",
    "animals(Carnivores=\"Lions\", Omnivores=\"Bears\", Herbivores=\"Deers\", Nomnivores=\"Human\")"
   ]
  },
  {
   "cell_type": "code",
   "execution_count": 1,
   "id": "8897f790",
   "metadata": {},
   "outputs": [
    {
     "name": "stdout",
     "output_type": "stream",
     "text": [
      "['Beth']\n",
      "[21]\n",
      "['Beth', 'Katie']\n",
      "[21, 18]\n",
      "['Beth', 'Katie', 'Perry']\n",
      "[21, 18, 35]\n",
      "['Beth', 'Katie', 'Perry', 'John']\n",
      "[21, 18, 35, 44]\n"
     ]
    }
   ],
   "source": [
    "def organizer (**people):\n",
    "    names=[]\n",
    "    ages=[]\n",
    "    for key, value in people.items():\n",
    "        names.append(key)\n",
    "        ages.append(value)\n",
    "        print(names, ages, sep=\"\\n\")\n",
    "organizer(Beth=21, Katie=18, Perry=35, John=44)"
   ]
  },
  {
   "cell_type": "code",
   "execution_count": null,
   "id": "9c1d2909",
   "metadata": {},
   "outputs": [],
   "source": []
  }
 ],
 "metadata": {
  "kernelspec": {
   "display_name": "Python 3",
   "language": "python",
   "name": "python3"
  },
  "language_info": {
   "codemirror_mode": {
    "name": "ipython",
    "version": 3
   },
   "file_extension": ".py",
   "mimetype": "text/x-python",
   "name": "python",
   "nbconvert_exporter": "python",
   "pygments_lexer": "ipython3",
   "version": "3.8.10"
  }
 },
 "nbformat": 4,
 "nbformat_minor": 5
}
