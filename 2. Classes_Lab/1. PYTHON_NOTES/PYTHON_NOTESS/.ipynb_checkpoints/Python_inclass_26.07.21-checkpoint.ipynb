{
 "cells": [
  {
   "cell_type": "code",
   "execution_count": 1,
   "id": "c029c7b4",
   "metadata": {},
   "outputs": [
    {
     "name": "stdout",
     "output_type": "stream",
     "text": [
      "0\n",
      "1\n",
      "2\n",
      "3\n",
      "4\n",
      "5\n",
      "now, number is bigger or equal to 6\n"
     ]
    }
   ],
   "source": [
    "number = 0\n",
    "while number < 6:\n",
    "    print(number)\n",
    "    number += 1\n",
    "print(\"now, number is bigger or equal to 6\")"
   ]
  },
  {
   "cell_type": "code",
   "execution_count": null,
   "id": "7b10d24e",
   "metadata": {},
   "outputs": [],
   "source": [
    "my_list = [\"a\", \"b\", \"c\", \"d\", \"e\"]\n",
    "a = 0\n",
    "while a < len(my_list)\n",
    "    print(\"square of {} is\")"
   ]
  },
  {
   "cell_type": "code",
   "execution_count": 3,
   "id": "8a5dc468",
   "metadata": {},
   "outputs": [
    {
     "name": "stdout",
     "output_type": "stream",
     "text": [
      "iki\n"
     ]
    }
   ],
   "source": [
    "while 0 :                #döngüye girmesi için buranın truty olması gerekir. 0 falsi olduğundan döngüye girmedi.\n",
    "    print(\"bir\")\n",
    "print(\"iki\")"
   ]
  },
  {
   "cell_type": "code",
   "execution_count": null,
   "id": "23086acc",
   "metadata": {},
   "outputs": [],
   "source": [
    "while [] :                #döngüye girmesi için buranın truty olması gerekir. [] falsi olduğundan döngüye girmedi.\n",
    "    print(\"while\")\n",
    "print(\"outside of while\")"
   ]
  },
  {
   "cell_type": "code",
   "execution_count": 4,
   "id": "0dbb50a0",
   "metadata": {},
   "outputs": [
    {
     "data": {
      "text/plain": [
       "False"
      ]
     },
     "execution_count": 4,
     "metadata": {},
     "output_type": "execute_result"
    }
   ],
   "source": [
    "\"-16\".isdigit()"
   ]
  },
  {
   "cell_type": "code",
   "execution_count": 6,
   "id": "444b0d85",
   "metadata": {},
   "outputs": [
    {
     "data": {
      "text/plain": [
       "True"
      ]
     },
     "execution_count": 6,
     "metadata": {},
     "output_type": "execute_result"
    }
   ],
   "source": [
    "\"123456\".isdigit()"
   ]
  },
  {
   "cell_type": "code",
   "execution_count": 8,
   "id": "84fde2ed",
   "metadata": {},
   "outputs": [
    {
     "name": "stdout",
     "output_type": "stream",
     "text": [
      "Enter your age in correct format:22\n",
      "Your age is: 22\n"
     ]
    }
   ],
   "source": [
    "age = input(\"Enter your age in correct format:\")\n",
    "a = 0\n",
    "while not age.isdigit() :         # age.isdigit() olsaydı numeric bir değer girdiğimde sonsuz bir döngü olurdu. \n",
    "    print(\"You entered incorrect!Write out correct format.\")\n",
    "    age = input(\"Enter your age in correct format:\")\n",
    "print(\"Your age is:\",age)"
   ]
  },
  {
   "cell_type": "code",
   "execution_count": 3,
   "id": "0f861352",
   "metadata": {},
   "outputs": [
    {
     "name": "stdout",
     "output_type": "stream",
     "text": [
      "what a two digit number am I thinking of?:18\n",
      "Lets play a guessing game\n",
      "1819\n",
      "little higher\n",
      "1820\n",
      "Are you a MINDREADER!!!\n"
     ]
    }
   ],
   "source": [
    "answer = 20\n",
    "\n",
    "question = input(\"what a two digit number am I thinking of?:\")\n",
    "print(\"Lets play a guessing game\")\n",
    "\n",
    "while True :\n",
    "    guess = int(input(question))\n",
    "    \n",
    "    if guess < answer :\n",
    "        print(\"little higher\")\n",
    "    elif guess > answer :\n",
    "        print(\"little lower\")\n",
    "    else :                #guess=answer\n",
    "        print(\"Are you a MINDREADER!!!\")\n",
    "        break\n",
    "    "
   ]
  },
  {
   "cell_type": "code",
   "execution_count": 20,
   "id": "6f1f824c",
   "metadata": {},
   "outputs": [
    {
     "name": "stdout",
     "output_type": "stream",
     "text": [
      "give me a sentence without any punctuation :clarusway is good\n",
      "the lenght of the longest word is : 9\n"
     ]
    }
   ],
   "source": [
    "sentence = input(\"give me a sentence without any punctuation :\")\n",
    "\n",
    "words = sentence.split()\n",
    "i = 0\n",
    "longest = 0\n",
    "\n",
    "while i < len(words) :\n",
    "    if len(words[i]) > longest :\n",
    "        longest = len(words[i])\n",
    "    i += 1\n",
    "print(\"the lenght of the longest word is :\", longest)"
   ]
  },
  {
   "cell_type": "code",
   "execution_count": 15,
   "id": "ccc274ab",
   "metadata": {},
   "outputs": [
    {
     "data": {
      "text/plain": [
       "3"
      ]
     },
     "execution_count": 15,
     "metadata": {},
     "output_type": "execute_result"
    }
   ],
   "source": [
    "words = \"ben sizlerle birlikte olabilmek için çok çaba harcadım\".split()\n",
    "words\n",
    "len(words[0])\n"
   ]
  },
  {
   "cell_type": "code",
   "execution_count": 16,
   "id": "c2e67bdd",
   "metadata": {},
   "outputs": [
    {
     "data": {
      "text/plain": [
       "8"
      ]
     },
     "execution_count": 16,
     "metadata": {},
     "output_type": "execute_result"
    }
   ],
   "source": [
    "len(words[1])\n"
   ]
  },
  {
   "cell_type": "code",
   "execution_count": 17,
   "id": "5f3a4d5d",
   "metadata": {},
   "outputs": [
    {
     "data": {
      "text/plain": [
       "8"
      ]
     },
     "execution_count": 17,
     "metadata": {},
     "output_type": "execute_result"
    }
   ],
   "source": [
    "len(words[2])\n"
   ]
  },
  {
   "cell_type": "code",
   "execution_count": 14,
   "id": "ff8cda09",
   "metadata": {},
   "outputs": [
    {
     "data": {
      "text/plain": [
       "4"
      ]
     },
     "execution_count": 14,
     "metadata": {},
     "output_type": "execute_result"
    }
   ],
   "source": [
    "len(words[4])"
   ]
  },
  {
   "cell_type": "code",
   "execution_count": 24,
   "id": "b464835e",
   "metadata": {},
   "outputs": [
    {
     "name": "stdout",
     "output_type": "stream",
     "text": [
      "1\n",
      "2\n",
      "3\n",
      "4\n",
      "5\n"
     ]
    }
   ],
   "source": [
    "for i in [1, 2, 3, 4, 5] :\n",
    "    print(i)"
   ]
  },
  {
   "cell_type": "code",
   "execution_count": 26,
   "id": "53122f32",
   "metadata": {},
   "outputs": [
    {
     "name": "stdout",
     "output_type": "stream",
     "text": [
      "spring\n",
      "autumn\n",
      "winter\n",
      "summer\n"
     ]
    }
   ],
   "source": [
    "seasons = [\"spring\", \"autumn\", \"winter\", \"summer\"]\n",
    "\n",
    "for season in seasons:\n",
    "    print(season)"
   ]
  },
  {
   "cell_type": "code",
   "execution_count": 27,
   "id": "00263c5a",
   "metadata": {},
   "outputs": [
    {
     "name": "stdout",
     "output_type": "stream",
     "text": [
      "hello Ahmed\n",
      "hello Aisha\n",
      "hello Adam\n",
      "hello Joseph\n",
      "hello Gabriel\n"
     ]
    }
   ],
   "source": [
    "names = [\"Ahmed\", \"Aisha\", \"Adam\", \"Joseph\", \"Gabriel\"]\n",
    "for i in names :\n",
    "    print(\"hello\", i)"
   ]
  },
  {
   "cell_type": "code",
   "execution_count": 5,
   "id": "30a352a7",
   "metadata": {},
   "outputs": [
    {
     "name": "stdout",
     "output_type": "stream",
     "text": [
      "[1, 2, 3, 4, 5]\n"
     ]
    }
   ],
   "source": [
    "list=[]\n",
    "for i in range(1,6):\n",
    "    list.append(i)\n",
    "print(list)"
   ]
  },
  {
   "cell_type": "code",
   "execution_count": 7,
   "id": "001f6079",
   "metadata": {},
   "outputs": [
    {
     "data": {
      "text/plain": [
       "range(1, 6)"
      ]
     },
     "execution_count": 7,
     "metadata": {},
     "output_type": "execute_result"
    }
   ],
   "source": [
    "range(1,6)"
   ]
  },
  {
   "cell_type": "code",
   "execution_count": 3,
   "id": "25dad484",
   "metadata": {},
   "outputs": [
    {
     "data": {
      "text/plain": [
       "[1, 2, 3, 4, 5]"
      ]
     },
     "execution_count": 3,
     "metadata": {},
     "output_type": "execute_result"
    }
   ],
   "source": [
    "list(range(1,6))"
   ]
  },
  {
   "cell_type": "code",
   "execution_count": 9,
   "id": "e0a3e964",
   "metadata": {},
   "outputs": [
    {
     "data": {
      "text/plain": [
       "(1, 2, 3, 4, 5)"
      ]
     },
     "execution_count": 9,
     "metadata": {},
     "output_type": "execute_result"
    }
   ],
   "source": [
    "tuple(range(1,6))"
   ]
  },
  {
   "cell_type": "code",
   "execution_count": 10,
   "id": "f1322c46",
   "metadata": {},
   "outputs": [
    {
     "name": "stdout",
     "output_type": "stream",
     "text": [
      "1 2 3 4 5\n"
     ]
    }
   ],
   "source": [
    "print(*range(1,6))"
   ]
  },
  {
   "cell_type": "code",
   "execution_count": 12,
   "id": "c0f1502f",
   "metadata": {},
   "outputs": [
    {
     "name": "stdout",
     "output_type": "stream",
     "text": [
      "1 2 3 4 5 "
     ]
    }
   ],
   "source": [
    "for i in range(1,6) :\n",
    "    print(i, end=\" \")"
   ]
  },
  {
   "cell_type": "code",
   "execution_count": 1,
   "id": "129e6d05",
   "metadata": {},
   "outputs": [
    {
     "data": {
      "text/plain": [
       "[-4, -3, -2, -1, 0, 1, 2, 3]"
      ]
     },
     "execution_count": 1,
     "metadata": {},
     "output_type": "execute_result"
    }
   ],
   "source": [
    "list(range(-4, 4))"
   ]
  },
  {
   "cell_type": "code",
   "execution_count": 2,
   "id": "562b8e8d",
   "metadata": {},
   "outputs": [
    {
     "data": {
      "text/plain": [
       "[]"
      ]
     },
     "execution_count": 2,
     "metadata": {},
     "output_type": "execute_result"
    }
   ],
   "source": [
    "list(range(-4, 4, -1))"
   ]
  },
  {
   "cell_type": "code",
   "execution_count": 4,
   "id": "ff5542f1",
   "metadata": {},
   "outputs": [
    {
     "name": "stdout",
     "output_type": "stream",
     "text": [
      "c\n",
      "l\n",
      "a\n",
      "r\n",
      "u\n",
      "s\n",
      "w\n",
      "a\n",
      "y\n"
     ]
    }
   ],
   "source": [
    "course = \"clarusway\"\n",
    "for i in course :\n",
    "    print(i)f"
   ]
  },
  {
   "cell_type": "code",
   "execution_count": 5,
   "id": "6d8dea7c",
   "metadata": {},
   "outputs": [
    {
     "name": "stdout",
     "output_type": "stream",
     "text": [
      "c-l-a-r-u-s-w-a-y-"
     ]
    }
   ],
   "source": [
    "input = \"clarusway\"\n",
    "for i in input:\n",
    "    print(i, end=\"-\")"
   ]
  },
  {
   "cell_type": "code",
   "execution_count": 9,
   "id": "067a4af8",
   "metadata": {},
   "outputs": [
    {
     "name": "stdout",
     "output_type": "stream",
     "text": [
      "c-l-a-r-u-s-w-a-y"
     ]
    }
   ],
   "source": [
    "input = \"clarusway\"\n",
    "count = 0\n",
    "\n",
    "for i in input :\n",
    "    count += 1\n",
    "    if count < len(input):\n",
    "        i = i + \"-\"\n",
    "    print(i, end = \"\")"
   ]
  },
  {
   "cell_type": "code",
   "execution_count": 11,
   "id": "4a65e677",
   "metadata": {},
   "outputs": [
    {
     "name": "stdout",
     "output_type": "stream",
     "text": [
      "name\n",
      "surname\n",
      "age\n"
     ]
    }
   ],
   "source": [
    "user = {\"name\":\"adam\", \"surname\":\"smith\",\"age\":\"35\"}\n",
    "for i in user:\n",
    "    print(i)"
   ]
  },
  {
   "cell_type": "code",
   "execution_count": 3,
   "id": "44a0b77a",
   "metadata": {},
   "outputs": [
    {
     "name": "stdout",
     "output_type": "stream",
     "text": [
      "adam smith 35 "
     ]
    }
   ],
   "source": [
    "user = {\"name\":\"adam\", \"surname\":\"smith\",\"age\":\"35\"}\n",
    "for i in user.values() :\n",
    "    print(i, end = \" \")"
   ]
  },
  {
   "cell_type": "code",
   "execution_count": 5,
   "id": "490b5241",
   "metadata": {},
   "outputs": [
    {
     "name": "stdout",
     "output_type": "stream",
     "text": [
      "name : adam\n",
      "surname : smith\n",
      "age : 35\n"
     ]
    }
   ],
   "source": [
    "user = {\"name\":\"adam\", \"surname\":\"smith\",\"age\":\"35\"}\n",
    "for key, value in user.items() :\n",
    "    print(key, \":\", value)"
   ]
  },
  {
   "cell_type": "code",
   "execution_count": 11,
   "id": "5b754b4c",
   "metadata": {},
   "outputs": [
    {
     "name": "stdout",
     "output_type": "stream",
     "text": [
      "enter a number between 1-10: 8\n",
      "8x0 =  0\n",
      "8x1 =  8\n",
      "8x2 =  16\n",
      "8x3 =  24\n",
      "8x4 =  32\n",
      "8x5 =  40\n",
      "8x6 =  48\n",
      "8x7 =  56\n",
      "8x8 =  64\n",
      "8x9 =  72\n",
      "8x10 =  80\n"
     ]
    }
   ],
   "source": [
    "number = int(input(\"enter a number between 1-10: \"))\n",
    "for i in range(11):\n",
    "    print(\"{}x{} = \".format(number, i), number*i)"
   ]
  },
  {
   "cell_type": "code",
   "execution_count": 14,
   "id": "fcee56c6",
   "metadata": {},
   "outputs": [
    {
     "name": "stdout",
     "output_type": "stream",
     "text": [
      "enter a number between 1-10: 3\n",
      "1\n",
      "22\n"
     ]
    }
   ],
   "source": [
    "number = int(input(\"enter a number between 1-10: \"))\n",
    "for i in range(1,number):\n",
    "    print(str(i)*i)\n",
    "   "
   ]
  },
  {
   "cell_type": "code",
   "execution_count": 17,
   "id": "9ec5f9df",
   "metadata": {},
   "outputs": [
    {
     "name": "stdout",
     "output_type": "stream",
     "text": [
      "1 22 333 4444 55555 666666 7777777 88888888 999999999 "
     ]
    }
   ],
   "source": [
    "for i in range(1,10):\n",
    "    print((str(i)*i), end = \" \")"
   ]
  },
  {
   "cell_type": "code",
   "execution_count": 18,
   "id": "6178e9b3",
   "metadata": {},
   "outputs": [
    {
     "name": "stdout",
     "output_type": "stream",
     "text": [
      "1\n",
      "22\n",
      "333\n",
      "4444\n",
      "55555\n",
      "666666\n",
      "7777777\n",
      "88888888\n",
      "999999999\n"
     ]
    }
   ],
   "source": [
    "for i in range(1,10):\n",
    "    print(str(i)*i)"
   ]
  },
  {
   "cell_type": "code",
   "execution_count": 19,
   "id": "303a00f8",
   "metadata": {},
   "outputs": [
    {
     "name": "stdout",
     "output_type": "stream",
     "text": [
      "{0, 1, 2, 3, 4, 5, 6, 7, 8, 9}\n"
     ]
    }
   ],
   "source": [
    "a = set(range(0,10))\n",
    "print(a)"
   ]
  },
  {
   "cell_type": "code",
   "execution_count": 21,
   "id": "4c244f73",
   "metadata": {},
   "outputs": [
    {
     "name": "stdout",
     "output_type": "stream",
     "text": [
      "(0, 1, 2, 3, 4, 5, 6, 7, 8, 9)\n"
     ]
    }
   ],
   "source": [
    "a = tuple(range(0,10))\n",
    "print(a)"
   ]
  },
  {
   "cell_type": "code",
   "execution_count": 22,
   "id": "2da73f64",
   "metadata": {},
   "outputs": [
    {
     "name": "stdout",
     "output_type": "stream",
     "text": [
      "5 7 9 11 13 15 17 19 21 23\n"
     ]
    }
   ],
   "source": [
    "print(*range(5,25,2))"
   ]
  },
  {
   "cell_type": "code",
   "execution_count": 25,
   "id": "b6670971",
   "metadata": {},
   "outputs": [
    {
     "name": "stdout",
     "output_type": "stream",
     "text": [
      "s e p e r a t e\n"
     ]
    }
   ],
   "source": [
    "print(*(\"seperate\"))"
   ]
  },
  {
   "cell_type": "code",
   "execution_count": 23,
   "id": "241ab4c4",
   "metadata": {},
   "outputs": [
    {
     "name": "stdout",
     "output_type": "stream",
     "text": [
      "10 8 6 4 2\n"
     ]
    }
   ],
   "source": [
    "print(*range(10,0,-2))"
   ]
  },
  {
   "cell_type": "code",
   "execution_count": 33,
   "id": "1c00ef96",
   "metadata": {},
   "outputs": [
    {
     "name": "stdout",
     "output_type": "stream",
     "text": [
      "[0, 2, 4, 6, 8]\n",
      "[1, 3, 5, 7, 9]\n"
     ]
    }
   ],
   "source": [
    "even = []\n",
    "odd = []\n",
    "for i in range(10):\n",
    "    if i%2 == 0 :\n",
    "        even.append(i)\n",
    "    else :\n",
    "        odd.append(i)\n",
    "print(even)\n",
    "print(odd)"
   ]
  },
  {
   "cell_type": "code",
   "execution_count": null,
   "id": "4da24822",
   "metadata": {},
   "outputs": [],
   "source": []
  }
 ],
 "metadata": {
  "kernelspec": {
   "display_name": "Python 3",
   "language": "python",
   "name": "python3"
  },
  "language_info": {
   "codemirror_mode": {
    "name": "ipython",
    "version": 3
   },
   "file_extension": ".py",
   "mimetype": "text/x-python",
   "name": "python",
   "nbconvert_exporter": "python",
   "pygments_lexer": "ipython3",
   "version": "3.8.10"
  }
 },
 "nbformat": 4,
 "nbformat_minor": 5
}
