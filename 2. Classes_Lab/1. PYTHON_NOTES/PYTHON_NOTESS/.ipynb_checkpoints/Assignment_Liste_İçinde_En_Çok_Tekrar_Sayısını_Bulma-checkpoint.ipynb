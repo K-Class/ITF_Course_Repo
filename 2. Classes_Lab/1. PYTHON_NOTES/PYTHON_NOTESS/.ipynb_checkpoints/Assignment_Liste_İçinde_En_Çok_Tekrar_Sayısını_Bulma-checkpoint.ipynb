{
 "cells": [
  {
   "cell_type": "code",
   "execution_count": null,
   "id": "601b4114",
   "metadata": {},
   "outputs": [],
   "source": [
    "nu = [1, 3, 7, 4, 3, 0, 3, 6, 3]\n",
    "a = max(nu, key = nu.count)\n",
    "b = nu.count(max(nu, key = nu.count))\n",
    "print(\"En çok tekrar eden {} sayısıdır ve {} kere tekrar etmiştir.\".format(a,b))"
   ]
  }
 ],
 "metadata": {
  "kernelspec": {
   "display_name": "Python 3",
   "language": "python",
   "name": "python3"
  },
  "language_info": {
   "codemirror_mode": {
    "name": "ipython",
    "version": 3
   },
   "file_extension": ".py",
   "mimetype": "text/x-python",
   "name": "python",
   "nbconvert_exporter": "python",
   "pygments_lexer": "ipython3",
   "version": "3.8.10"
  }
 },
 "nbformat": 4,
 "nbformat_minor": 5
}
