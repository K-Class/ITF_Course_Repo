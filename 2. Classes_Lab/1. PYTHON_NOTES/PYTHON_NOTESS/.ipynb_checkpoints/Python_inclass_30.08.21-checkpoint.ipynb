{
 "cells": [
  {
   "cell_type": "code",
   "execution_count": null,
   "id": "99621cf8",
   "metadata": {},
   "outputs": [],
   "source": [
    "while True:\n",
    "    no_one = int(input(\"The first number please : \"))\n",
    "    no_two = int(input(\"The second number please : \"))\n",
    "    try:\n",
    "        division = no_one / no_two  # normal part of the program\n",
    "    except ZeroDivisionError:\n",
    "        print(\"You can't divide by zero! Try again.\")  # executes when division by zero\n",
    "    else:\n",
    "        print(\"The result of the division is : \", division)  # executes if there is no exception\n",
    "    finally:\n",
    "        print(\"Thanks for using our mini divison calculator! Come again!\")\n",
    "        break  # exits the while loop"
   ]
  },
  {
   "cell_type": "code",
   "execution_count": 1,
   "id": "aa17470c",
   "metadata": {},
   "outputs": [
    {
     "name": "stdout",
     "output_type": "stream",
     "text": [
      "The first number please : 5\n",
      "The second number please : 10\n",
      "The result of the division is :  0.5\n"
     ]
    }
   ],
   "source": [
    "while True:\n",
    "    no_one = int(input(\"The first number please : \"))\n",
    "    no_two = int(input(\"The second number please : \"))\n",
    "    try:\n",
    "        division = no_one / no_two\n",
    "        print(\"The result of the division is : \", division)\n",
    "        break\n",
    "    except Exception as e:\n",
    "        print(\"Something went wrong...Try again.\")\n",
    "        print(\"Probably it is because of '{}' error\".format(e))\n",
    "        break"
   ]
  },
  {
   "cell_type": "code",
   "execution_count": 3,
   "id": "dd8eefff",
   "metadata": {},
   "outputs": [
    {
     "name": "stdout",
     "output_type": "stream",
     "text": [
      "Attempt to divide by zero\n"
     ]
    }
   ],
   "source": [
    "try:\n",
    "    x = 2/0\n",
    "except ZeroDivisionError:\n",
    "    print('Attempt to divide by zero')\n",
    "except:\n",
    "    print('Something else went wrong')"
   ]
  },
  {
   "cell_type": "code",
   "execution_count": 4,
   "id": "57d93dee",
   "metadata": {},
   "outputs": [
    {
     "name": "stdout",
     "output_type": "stream",
     "text": [
      "Attempt to divide by zero\n"
     ]
    }
   ],
   "source": [
    "try:\n",
    "    x = 2/0\n",
    "except ArithmeticError:                  #ArithmeticError ZeroDivisionError kapsadığından dolayı bunu kullanabiliriz.\n",
    "    print('Attempt to divide by zero')\n",
    "except:\n",
    "    print('Something else went wrong')"
   ]
  },
  {
   "cell_type": "code",
   "execution_count": null,
   "id": "fc129b83",
   "metadata": {},
   "outputs": [],
   "source": [
    "Aşağıdaki soruda muhtemel olabilecek exceptionları düşünmeliyiz. Mesela burada 5 eleman olduğundan \n",
    "6 girdiğimizde yani index sınırları dışında bir rakam girdiğimizde indexError verir. \n",
    "Biz rakam istiyoruz ancak string bir değer girmiş olabilir. Bu durumda integere çeviremeyeceğimiz durumlarda valueError verir.\n"
   ]
  },
  {
   "cell_type": "code",
   "execution_count": 12,
   "id": "fc90e23b",
   "metadata": {},
   "outputs": [
    {
     "name": "stdout",
     "output_type": "stream",
     "text": [
      "Enter a favourite fruit index number: 6\n",
      "Something went wrong...Try again.\n",
      "Probably it is because of 'list index out of range' error\n",
      "Enter a favourite fruit index number: 4\n",
      "Your favourite fruit is :  kiwi\n"
     ]
    }
   ],
   "source": [
    "fruit_list= [\"banana\", \"mango\", \"pear\", \"apple\", \"kiwi\", \"grape\"]\n",
    "\n",
    "while True:\n",
    "       \n",
    "    try:\n",
    "        index = int(input(\"Enter a favourite fruit index number: \"))\n",
    "        print(\"Your favourite fruit is : \", fruit_list[index])\n",
    "        break\n",
    "    except Exception as e:\n",
    "        print(\"Something went wrong...Try again.\")\n",
    "        print(\"Probably it is because of '{}' error\".format(e))\n",
    "    "
   ]
  },
  {
   "cell_type": "code",
   "execution_count": 3,
   "id": "d69b67dd",
   "metadata": {},
   "outputs": [
    {
     "name": "stdout",
     "output_type": "stream",
     "text": [
      "Enter a favourite fruit index number: \n",
      "You should enter integer. Try again!\n",
      "Enter a favourite fruit index number: \n",
      "You should enter integer. Try again!\n",
      "Enter a favourite fruit index number: 4\n",
      "Your favourite fruit is :  kiwi\n"
     ]
    }
   ],
   "source": [
    "fruit_list= [\"banana\", \"mango\", \"pear\", \"apple\", \"kiwi\", \"grape\"]\n",
    "\n",
    "while True:\n",
    "       \n",
    "    try:\n",
    "        index = int(input(\"Enter a favourite fruit index number: \"))\n",
    "        print(\"Your favourite fruit is : \", fruit_list[index])\n",
    "        break\n",
    "    except IndexError:\n",
    "        print(\"There is no such an Index.Try again!\")\n",
    "        \n",
    "    except ValueError:\n",
    "        print(\"You should enter integer. Try again!\")\n",
    "    "
   ]
  },
  {
   "cell_type": "code",
   "execution_count": 4,
   "id": "795139c7",
   "metadata": {},
   "outputs": [
    {
     "name": "stdout",
     "output_type": "stream",
     "text": [
      "Pick an index number to choose your favorite fruit :4\n",
      "Our fruits are always fresh!\n"
     ]
    },
    {
     "ename": "NameError",
     "evalue": "name 'fruits' is not defined",
     "output_type": "error",
     "traceback": [
      "\u001b[1;31m---------------------------------------------------------------------------\u001b[0m",
      "\u001b[1;31mNameError\u001b[0m                                 Traceback (most recent call last)",
      "\u001b[1;32m<ipython-input-4-b0a9d99cd8c1>\u001b[0m in \u001b[0;36m<module>\u001b[1;34m\u001b[0m\n\u001b[0;32m      5\u001b[0m     \u001b[1;32mtry\u001b[0m \u001b[1;33m:\u001b[0m\u001b[1;33m\u001b[0m\u001b[1;33m\u001b[0m\u001b[0m\n\u001b[0;32m      6\u001b[0m         \u001b[0mindex\u001b[0m \u001b[1;33m=\u001b[0m \u001b[0mint\u001b[0m\u001b[1;33m(\u001b[0m\u001b[0minput\u001b[0m\u001b[1;33m(\u001b[0m\u001b[1;34m\"Pick an index number to choose your favorite fruit :\"\u001b[0m\u001b[1;33m)\u001b[0m\u001b[1;33m)\u001b[0m\u001b[1;33m\u001b[0m\u001b[1;33m\u001b[0m\u001b[0m\n\u001b[1;32m----> 7\u001b[1;33m         \u001b[0mprint\u001b[0m\u001b[1;33m(\u001b[0m\u001b[1;34m\"Your favorite fruit is : \"\u001b[0m\u001b[1;33m,\u001b[0m \u001b[0mfruits\u001b[0m\u001b[1;33m[\u001b[0m\u001b[0mindex\u001b[0m\u001b[1;33m]\u001b[0m\u001b[1;33m)\u001b[0m\u001b[1;33m\u001b[0m\u001b[1;33m\u001b[0m\u001b[0m\n\u001b[0m\u001b[0;32m      8\u001b[0m \u001b[1;33m\u001b[0m\u001b[0m\n\u001b[0;32m      9\u001b[0m     \u001b[1;32mexcept\u001b[0m \u001b[0mIndexError\u001b[0m \u001b[1;33m:\u001b[0m\u001b[1;33m\u001b[0m\u001b[1;33m\u001b[0m\u001b[0m\n",
      "\u001b[1;31mNameError\u001b[0m: name 'fruits' is not defined"
     ]
    }
   ],
   "source": [
    "count = 3\n",
    "\n",
    "while count > 0 :\n",
    "    \n",
    "    try :\n",
    "        index = int(input(\"Pick an index number to choose your favorite fruit :\"))\n",
    "        print(\"Your favorite fruit is : \", fruits[index])\n",
    "        \n",
    "    except IndexError :\n",
    "        count -= 1\n",
    "        print(f\"There is no such an Index. You have {count} tries remaining. Try again!\")\n",
    "        \n",
    "    except ValueError :\n",
    "        count -= 1\n",
    "        print(f\"You should enter integer. You have {count} tries remaining. Try again!\")\n",
    "        \n",
    "    else :\n",
    "        print(\"Congrats! You have entered a valid input.\")\n",
    "        break\n",
    "    finally :\n",
    "        print(\"Our fruits are always fresh!\")"
   ]
  },
  {
   "cell_type": "code",
   "execution_count": null,
   "id": "ddcdd8a0",
   "metadata": {},
   "outputs": [],
   "source": []
  },
  {
   "cell_type": "code",
   "execution_count": null,
   "id": "f78b4530",
   "metadata": {},
   "outputs": [],
   "source": [
    "import os"
   ]
  },
  {
   "cell_type": "code",
   "execution_count": null,
   "id": "3ff5005c",
   "metadata": {},
   "outputs": [],
   "source": [
    "dosya = os.listdir()"
   ]
  },
  {
   "cell_type": "code",
   "execution_count": null,
   "id": "1be3f34a",
   "metadata": {},
   "outputs": [],
   "source": [
    "dosya"
   ]
  },
  {
   "cell_type": "code",
   "execution_count": null,
   "id": "86b896fb",
   "metadata": {},
   "outputs": [],
   "source": []
  },
  {
   "cell_type": "code",
   "execution_count": 5,
   "id": "459ccfff",
   "metadata": {},
   "outputs": [],
   "source": [
    "import shutil"
   ]
  },
  {
   "cell_type": "code",
   "execution_count": 6,
   "id": "e120f594",
   "metadata": {},
   "outputs": [
    {
     "ename": "SyntaxError",
     "evalue": "invalid syntax (<ipython-input-6-4b00cb1410c1>, line 1)",
     "output_type": "error",
     "traceback": [
      "\u001b[1;36m  File \u001b[1;32m\"<ipython-input-6-4b00cb1410c1>\"\u001b[1;36m, line \u001b[1;32m1\u001b[0m\n\u001b[1;33m    shutil.\u001b[0m\n\u001b[1;37m           ^\u001b[0m\n\u001b[1;31mSyntaxError\u001b[0m\u001b[1;31m:\u001b[0m invalid syntax\n"
     ]
    }
   ],
   "source": [
    "# shutil.make_archive(\"mevcut dosya path\",\"zip\",\"hedef dosya ismi\")"
   ]
  },
  {
   "cell_type": "code",
   "execution_count": 14,
   "id": "ee037ca2",
   "metadata": {},
   "outputs": [
    {
     "ename": "TypeError",
     "evalue": "open() missing required argument 'file' (pos 1)",
     "output_type": "error",
     "traceback": [
      "\u001b[1;31m---------------------------------------------------------------------------\u001b[0m",
      "\u001b[1;31mTypeError\u001b[0m                                 Traceback (most recent call last)",
      "\u001b[1;32m<ipython-input-14-90d238d6e9f9>\u001b[0m in \u001b[0;36m<module>\u001b[1;34m\u001b[0m\n\u001b[1;32m----> 1\u001b[1;33m \u001b[0mopen\u001b[0m\u001b[1;33m(\u001b[0m\u001b[1;33m)\u001b[0m\u001b[1;33m\u001b[0m\u001b[1;33m\u001b[0m\u001b[0m\n\u001b[0m",
      "\u001b[1;31mTypeError\u001b[0m: open() missing required argument 'file' (pos 1)"
     ]
    }
   ],
   "source": [
    "open()"
   ]
  },
  {
   "cell_type": "code",
   "execution_count": 18,
   "id": "4759a844",
   "metadata": {},
   "outputs": [
    {
     "name": "stdout",
     "output_type": "stream",
     "text": [
      "Orca is a kind of Dolphin.\n",
      "Blue Whale is the largest animal known on earth.\n",
      "Sharks are the sister group to the Rays (batoids).\n",
      "The Tuna Fish can weigh up to 260 kg.\n",
      "Squid and Octopus are in the same class.\n"
     ]
    }
   ],
   "source": [
    "file = open(\"fishes.txt\", \"r\")          # python workings klasörü içine taşırsak bu şekilde okutabiliriz. \n",
    "print(file.read())                      # Mutlaka dosyayı kapatıyoruz sonrasındab\n",
    "file.close()"
   ]
  },
  {
   "cell_type": "code",
   "execution_count": 29,
   "id": "01973e94",
   "metadata": {},
   "outputs": [
    {
     "name": "stdout",
     "output_type": "stream",
     "text": [
      "Orca is a kind of Dolphin.\n",
      "Blue Whale is the largest animal known on earth.\n",
      "Sharks are the sister group to the Rays (batoids).\n",
      "The Tuna Fish can weigh up to 260 kg.\n",
      "Squid and Octopus are in the same class.\n"
     ]
    }
   ],
   "source": [
    "file = open(\"C:\\\\Users\\\\HP\\\\Downloads\\\\fishes.txt\", \"r\")    # bu şekilde dosya uzantısını yazarakda ulaşabiliriz.\n",
    "print(file.read())   #shift tab tab ile içine girdik.\n",
    "file.close()"
   ]
  },
  {
   "cell_type": "code",
   "execution_count": 26,
   "id": "a1bca3b6",
   "metadata": {},
   "outputs": [
    {
     "data": {
      "text/plain": [
       "'C:\\\\Users\\\\HP\\\\PYTHON WORKINGS'"
      ]
     },
     "execution_count": 26,
     "metadata": {},
     "output_type": "execute_result"
    }
   ],
   "source": [
    "pwd"
   ]
  },
  {
   "cell_type": "code",
   "execution_count": null,
   "id": "0f7fcffa",
   "metadata": {},
   "outputs": [],
   "source": [
    "#C:\\\\Users\\\\HP\\\\İndirilenler\\fishes.txt"
   ]
  },
  {
   "cell_type": "code",
   "execution_count": 30,
   "id": "8a2970ab",
   "metadata": {},
   "outputs": [
    {
     "name": "stdout",
     "output_type": "stream",
     "text": [
      "Orca is a kind of Dolphin.\n",
      "Blue W\n"
     ]
    }
   ],
   "source": [
    "file = open(\"C:\\\\Users\\\\HP\\\\Downloads\\\\fishes.txt\", \"r\")    # bu şekilde dosya uzantısını yazarakda ulaşabiliriz.\n",
    "print(file.read(33))   #shift tab tab ile içine girdik.\n",
    "file.close()"
   ]
  },
  {
   "cell_type": "code",
   "execution_count": 34,
   "id": "361375d5",
   "metadata": {},
   "outputs": [],
   "source": [
    "file = open(\"C:\\\\Users\\\\HP\\\\Downloads\\\\fishes.txt\", \"r\")    # bu şekilde dosya uzantısını yazarakda ulaşabiliriz.\n",
    "content = file.read()   #shift tab tab ile içine girdik.\n",
    "file.close()"
   ]
  },
  {
   "cell_type": "code",
   "execution_count": 35,
   "id": "afbf0861",
   "metadata": {},
   "outputs": [
    {
     "data": {
      "text/plain": [
       "'Orca is a kind of Dolphin.\\nBlue Whale is the largest animal known on earth.\\nSharks are the sister group to the Rays (batoids).\\nThe Tuna Fish can weigh up to 260 kg.\\nSquid and Octopus are in the same class.'"
      ]
     },
     "execution_count": 35,
     "metadata": {},
     "output_type": "execute_result"
    }
   ],
   "source": [
    "content #\\n boşlukları yani newline larıda gösteriyor."
   ]
  },
  {
   "cell_type": "code",
   "execution_count": 36,
   "id": "e2ce9876",
   "metadata": {},
   "outputs": [
    {
     "data": {
      "text/plain": [
       "205"
      ]
     },
     "execution_count": 36,
     "metadata": {},
     "output_type": "execute_result"
    }
   ],
   "source": [
    "len(content)"
   ]
  },
  {
   "cell_type": "code",
   "execution_count": 37,
   "id": "7e8d23ca",
   "metadata": {},
   "outputs": [
    {
     "data": {
      "text/plain": [
       "'Orca is a kind of Dolphin.\\nBlue W'"
      ]
     },
     "execution_count": 37,
     "metadata": {},
     "output_type": "execute_result"
    }
   ],
   "source": [
    "content[:33]"
   ]
  },
  {
   "cell_type": "code",
   "execution_count": 38,
   "id": "cf9ee8b5",
   "metadata": {},
   "outputs": [
    {
     "name": "stdout",
     "output_type": "stream",
     "text": [
      "Orca is a kind of Dolphin.\n",
      "Blue W\n",
      "hale is the largest animal known \n"
     ]
    }
   ],
   "source": [
    "file = open(\"C:\\\\Users\\\\HP\\\\Downloads\\\\fishes.txt\", \"r\")    # bu şekilde dosya uzantısını yazarakda ulaşabiliriz.\n",
    "print(file.read(33))\n",
    "print(file.read(33))     #shift tab tab ile içine girdik.\n",
    "file.close()"
   ]
  },
  {
   "cell_type": "code",
   "execution_count": 41,
   "id": "86b7e46f",
   "metadata": {},
   "outputs": [
    {
     "name": "stdout",
     "output_type": "stream",
     "text": [
      "Orca is a kind of Dolphin.\n",
      "Blue W\n",
      "hale is the largest animal known \n",
      "Orca is a kind of Dolphin.\n",
      "Blue W\n"
     ]
    }
   ],
   "source": [
    "file = open(\"C:\\\\Users\\\\HP\\\\Downloads\\\\fishes.txt\", \"r\") \n",
    "\n",
    "print(file.read(33))    \n",
    "print(file.read(33)) \n",
    "\n",
    "file.seek(0)   #seek ile cursor en başa çektik. veya istediğimiz yere.\n",
    "\n",
    "print(file.read(33))\n",
    "\n",
    "file.close()"
   ]
  },
  {
   "cell_type": "code",
   "execution_count": 42,
   "id": "849a069d",
   "metadata": {},
   "outputs": [
    {
     "name": "stdout",
     "output_type": "stream",
     "text": [
      "Orca is a kind of Dolphin.\n",
      "Blue W\n",
      "hale is the largest animal known \n",
      "Orca is a kind of Dolphin.\n",
      "Blue W\n",
      "34\n"
     ]
    }
   ],
   "source": [
    "file = open(\"C:\\\\Users\\\\HP\\\\Downloads\\\\fishes.txt\", \"r\") \n",
    "\n",
    "print(file.read(33))    \n",
    "print(file.read(33)) \n",
    "\n",
    "file.seek(0)   #seek ile cursor en başa çektik. veya içine gitmesini istediğimiz yeri yazarak.\n",
    "\n",
    "print(file.read(33))\n",
    "print(file.tell()) #cursor in en son nerede kaldığını söyler.\n",
    "\n",
    "file.close()"
   ]
  },
  {
   "cell_type": "code",
   "execution_count": 54,
   "id": "a801f40f",
   "metadata": {},
   "outputs": [
    {
     "name": "stdout",
     "output_type": "stream",
     "text": [
      "I want to sing\n",
      "Like the birds sing,\n",
      "\n",
      "Not worrying\n",
      "50\n",
      "\n",
      "Like the birds sing,\n"
     ]
    }
   ],
   "source": [
    "rumi = open(\"C:\\\\Users\\\\HP\\\\Downloads\\\\rumi.txt\",\"r\")\n",
    "\n",
    "print(rumi.read(35))    #ilk iki satırı okur.\n",
    "print(rumi.read(13))  #müteakip 13 karakteri okur.\n",
    "print(rumi.tell())   #cursor in nerede olduğunu gösterir.\n",
    "\n",
    "rumi.seek(15)   \n",
    "print(rumi.read(21))\n",
    "\n",
    "\n",
    "rumi.close() "
   ]
  },
  {
   "cell_type": "code",
   "execution_count": 55,
   "id": "ac99a040",
   "metadata": {},
   "outputs": [
    {
     "name": "stdout",
     "output_type": "stream",
     "text": [
      "Orca is a kin\n",
      "d of Dolphin.\n",
      "\n",
      "\n",
      "Blue Whale is\n"
     ]
    }
   ],
   "source": [
    "sea = open(\"fishes.txt\", 'r')   \n",
    "\n",
    "print(sea.readline(13))   #ilk 13 karakteri okur.\n",
    "print(sea.readline(13))   # sonraki 13 karakteri.\n",
    "print(sea.readline(13))   #readline satır satır okuyor. kaldığı yerden devam ediyor. bitmişse bir enter vurup ikinci satıra geçiyor.\n",
    "print(sea.readline(13)    # ilk boşluk /n, ikincisi readline kendi default enter kaynaklı boş satırıdır.\n",
    "sea.close()"
   ]
  },
  {
   "cell_type": "code",
   "execution_count": 57,
   "id": "4151798d",
   "metadata": {},
   "outputs": [],
   "source": [
    "sea = open(\"fishes.txt\", 'r')   \n",
    "\n",
    "part_1 = sea.readline(13)\n",
    "part_2 = sea.readline(13)\n",
    "part_3 = sea.readline(13)   \n",
    "part_4 = sea.readline(13)\n",
    "\n",
    "sea.close()"
   ]
  },
  {
   "cell_type": "code",
   "execution_count": 62,
   "id": "40cd80d4",
   "metadata": {},
   "outputs": [
    {
     "data": {
      "text/plain": [
       "'\\n'"
      ]
     },
     "execution_count": 62,
     "metadata": {},
     "output_type": "execute_result"
    }
   ],
   "source": [
    "part_3"
   ]
  },
  {
   "cell_type": "code",
   "execution_count": 63,
   "id": "70c7dfe1",
   "metadata": {},
   "outputs": [
    {
     "data": {
      "text/plain": [
       "'d of Dolphin.'"
      ]
     },
     "execution_count": 63,
     "metadata": {},
     "output_type": "execute_result"
    }
   ],
   "source": [
    "part_2"
   ]
  },
  {
   "cell_type": "code",
   "execution_count": 64,
   "id": "6e06697d",
   "metadata": {},
   "outputs": [
    {
     "data": {
      "text/plain": [
       "'Orca is a kin'"
      ]
     },
     "execution_count": 64,
     "metadata": {},
     "output_type": "execute_result"
    }
   ],
   "source": [
    "part_1"
   ]
  },
  {
   "cell_type": "code",
   "execution_count": 65,
   "id": "4f511701",
   "metadata": {},
   "outputs": [],
   "source": [
    "first_line = part_1 + part_2 + part_3"
   ]
  },
  {
   "cell_type": "code",
   "execution_count": 66,
   "id": "1ac8a89b",
   "metadata": {},
   "outputs": [
    {
     "data": {
      "text/plain": [
       "'Orca is a kind of Dolphin.\\n'"
      ]
     },
     "execution_count": 66,
     "metadata": {},
     "output_type": "execute_result"
    }
   ],
   "source": [
    "first_line"
   ]
  },
  {
   "cell_type": "code",
   "execution_count": 73,
   "id": "f788ca26",
   "metadata": {},
   "outputs": [
    {
     "name": "stdout",
     "output_type": "stream",
     "text": [
      "I want to sing\n",
      "\n",
      "Like the birds sing,\n",
      "\n",
      "Not worrying about\n",
      "\n"
     ]
    }
   ],
   "source": [
    "rumi = open(\"C:\\\\Users\\\\HP\\\\Downloads\\\\rumi.txt\",\"r\")\n",
    "\n",
    "print(rumi.readline())    #ilk satırı okur.\n",
    "print(rumi.readline())    # müteakip ikinci satırı okur.\n",
    "print(rumi.readline(19))      # 3 satırda araya bir şey yazalım. Uzunluğu satır sonu ile en az 19 olmalı.\n",
    "\n",
    "rumi.close() "
   ]
  },
  {
   "cell_type": "code",
   "execution_count": null,
   "id": "d1d32374",
   "metadata": {},
   "outputs": [],
   "source": []
  }
 ],
 "metadata": {
  "kernelspec": {
   "display_name": "Python 3",
   "language": "python",
   "name": "python3"
  },
  "language_info": {
   "codemirror_mode": {
    "name": "ipython",
    "version": 3
   },
   "file_extension": ".py",
   "mimetype": "text/x-python",
   "name": "python",
   "nbconvert_exporter": "python",
   "pygments_lexer": "ipython3",
   "version": "3.8.8"
  }
 },
 "nbformat": 4,
 "nbformat_minor": 5
}
