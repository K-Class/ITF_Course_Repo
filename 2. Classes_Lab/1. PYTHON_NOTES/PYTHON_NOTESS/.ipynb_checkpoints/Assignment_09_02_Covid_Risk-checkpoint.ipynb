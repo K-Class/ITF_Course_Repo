{
 "cells": [
  {
   "cell_type": "markdown",
   "id": "575270a2",
   "metadata": {},
   "source": [
    "Problem :\n",
    "\n",
    "Task : Estimating the risk of death from coronavirus. Write a program that;\n",
    "\n",
    "Takes \"Yes\" or \"No\" from the user as an answer to the following questions :\n",
    "\n",
    "Are you a cigarette addict older than 75 years old? Variable → age\n",
    "\n",
    "Do you have a severe chronic disease? Variable → chronic\n",
    "\n",
    "Is your immune system too weak? Variable → immune\n",
    "\n",
    "Set a logical algorithm using boolean logic operators (and/or) and use if-statements with the given variables in order to print out us a message : \"You are in risky group\"(if True ) or \"You are not in risky group\" (if False).\n",
    "age =  # can be assigned only True/False\n",
    "chronic =  # can be assigned only True/False\n",
    "immune =  # can be assigned only True/False\n",
    "risk = ?"
   ]
  },
  {
   "cell_type": "code",
   "execution_count": null,
   "id": "3b6b8bd7",
   "metadata": {},
   "outputs": [],
   "source": [
    "age=input(\"Are you a cigarette addice older than 75 years old?(True/False):\").title().strip()\n",
    "chronic=input(\"Do you have a sever chronic disease?(True/False):\").title().strip()\n",
    "immune=input(\"Is your immune system too week?(True/False):\").title().strip()\n",
    "risk = age or chronic or immune\n",
    "print(risk)\n",
    "if risk == \"True\" :\n",
    " print(\"You are in risky group\")\n",
    "else: \n",
    " print(\"You are not in risky group\")"
   ]
  }
 ],
 "metadata": {
  "kernelspec": {
   "display_name": "Python 3",
   "language": "python",
   "name": "python3"
  },
  "language_info": {
   "codemirror_mode": {
    "name": "ipython",
    "version": 3
   },
   "file_extension": ".py",
   "mimetype": "text/x-python",
   "name": "python",
   "nbconvert_exporter": "python",
   "pygments_lexer": "ipython3",
   "version": "3.8.10"
  }
 },
 "nbformat": 4,
 "nbformat_minor": 5
}
