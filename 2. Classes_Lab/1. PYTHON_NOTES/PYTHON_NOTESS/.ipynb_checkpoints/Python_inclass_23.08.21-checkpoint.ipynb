{
 "cells": [
  {
   "cell_type": "markdown",
   "id": "d2e65000",
   "metadata": {},
   "source": [
    "## Password Creater"
   ]
  },
  {
   "cell_type": "code",
   "execution_count": null,
   "id": "afe6c498",
   "metadata": {},
   "outputs": [],
   "source": [
    "import random"
   ]
  },
  {
   "cell_type": "code",
   "execution_count": 2,
   "id": "34a43c57",
   "metadata": {},
   "outputs": [
    {
     "data": {
      "text/plain": [
       "'D'"
      ]
     },
     "execution_count": 2,
     "metadata": {},
     "output_type": "execute_result"
    }
   ],
   "source": [
    "chr(68)"
   ]
  },
  {
   "cell_type": "code",
   "execution_count": 3,
   "id": "0ee3967b",
   "metadata": {},
   "outputs": [
    {
     "data": {
      "text/plain": [
       "89"
      ]
     },
     "execution_count": 3,
     "metadata": {},
     "output_type": "execute_result"
    }
   ],
   "source": [
    "random.randint(65,90)   # ASCII de büyük harfler bu aralıkta."
   ]
  },
  {
   "cell_type": "code",
   "execution_count": 4,
   "id": "c0ea489a",
   "metadata": {},
   "outputs": [
    {
     "data": {
      "text/plain": [
       "'S'"
      ]
     },
     "execution_count": 4,
     "metadata": {},
     "output_type": "execute_result"
    }
   ],
   "source": [
    "chr(random.randint(65,90))"
   ]
  },
  {
   "cell_type": "code",
   "execution_count": 5,
   "id": "0e07fd73",
   "metadata": {},
   "outputs": [],
   "source": [
    "# [\"X\",\"Y\",\"A\"]"
   ]
  },
  {
   "cell_type": "code",
   "execution_count": 6,
   "id": "0d2d2f58",
   "metadata": {},
   "outputs": [
    {
     "data": {
      "text/plain": [
       "['M', 'V', 'C']"
      ]
     },
     "execution_count": 6,
     "metadata": {},
     "output_type": "execute_result"
    }
   ],
   "source": [
    "uppers = [chr(random.randint(65,90)) for i in range(3)]\n",
    "uppers "
   ]
  },
  {
   "cell_type": "code",
   "execution_count": 7,
   "id": "0897d493",
   "metadata": {},
   "outputs": [
    {
     "data": {
      "text/plain": [
       "'MVC'"
      ]
     },
     "execution_count": 7,
     "metadata": {},
     "output_type": "execute_result"
    }
   ],
   "source": [
    "\"\".join(uppers)"
   ]
  },
  {
   "cell_type": "code",
   "execution_count": 8,
   "id": "33d468e6",
   "metadata": {},
   "outputs": [
    {
     "data": {
      "text/plain": [
       "['v', 'b', 'a']"
      ]
     },
     "execution_count": 8,
     "metadata": {},
     "output_type": "execute_result"
    }
   ],
   "source": [
    "lowers = [chr(random.randint(97,122)) for i in range(3)]      # ASCII de küçük harfler bu aralıkta.\n",
    "lowers"
   ]
  },
  {
   "cell_type": "code",
   "execution_count": 9,
   "id": "8eb4bcb8",
   "metadata": {},
   "outputs": [
    {
     "data": {
      "text/plain": [
       "['8', '4', '5']"
      ]
     },
     "execution_count": 9,
     "metadata": {},
     "output_type": "execute_result"
    }
   ],
   "source": [
    "numbers = [chr(random.randint(48,57)) for i in range(3)]    # ASCII de sayılar bu aralıkta.\n",
    "numbers"
   ]
  },
  {
   "cell_type": "code",
   "execution_count": 10,
   "id": "0c26fc9c",
   "metadata": {},
   "outputs": [
    {
     "data": {
      "text/plain": [
       "'+>'"
      ]
     },
     "execution_count": 10,
     "metadata": {},
     "output_type": "execute_result"
    }
   ],
   "source": [
    "chars = chr(random.randint(33,47))+chr(random.randint(58,64))     # ASCII de işaretler bu aralıkta.\n",
    "chars"
   ]
  },
  {
   "cell_type": "code",
   "execution_count": 11,
   "id": "aa35ce7c",
   "metadata": {},
   "outputs": [
    {
     "data": {
      "text/plain": [
       "'MVCvba845+>'"
      ]
     },
     "execution_count": 11,
     "metadata": {},
     "output_type": "execute_result"
    }
   ],
   "source": [
    "password = \"\".join(uppers) + \"\".join(lowers) + \"\".join( numbers) + \"\".join(chars)\n",
    "password"
   ]
  },
  {
   "cell_type": "code",
   "execution_count": 12,
   "id": "3f2acc94",
   "metadata": {},
   "outputs": [
    {
     "data": {
      "text/plain": [
       "['V', 'C', 'M']"
      ]
     },
     "execution_count": 12,
     "metadata": {},
     "output_type": "execute_result"
    }
   ],
   "source": [
    "random.shuffle(uppers)\n",
    "uppers"
   ]
  },
  {
   "cell_type": "code",
   "execution_count": 13,
   "id": "7604b9ce",
   "metadata": {},
   "outputs": [],
   "source": [
    "def shuffleit(string) :\n",
    "    templist = list(string)\n",
    "    random.shuffle(templist)\n",
    "    return \"\".join(templist)"
   ]
  },
  {
   "cell_type": "code",
   "execution_count": 15,
   "id": "5b7308c8",
   "metadata": {},
   "outputs": [
    {
     "data": {
      "text/plain": [
       "'5>V+aM48bCv'"
      ]
     },
     "execution_count": 15,
     "metadata": {},
     "output_type": "execute_result"
    }
   ],
   "source": [
    "passw = shuffleit(password)\n",
    "passw"
   ]
  },
  {
   "cell_type": "code",
   "execution_count": null,
   "id": "723630bc",
   "metadata": {},
   "outputs": [],
   "source": []
  },
  {
   "cell_type": "code",
   "execution_count": 1,
   "id": "eb9974c7",
   "metadata": {},
   "outputs": [],
   "source": [
    "from timeit import timeit"
   ]
  },
  {
   "cell_type": "code",
   "execution_count": 2,
   "id": "611a82ad",
   "metadata": {},
   "outputs": [],
   "source": [
    "def for_loop():\n",
    "    result = []\n",
    "    \n",
    "    for i in range(1000000):\n",
    "        result.append(i)\n",
    "    return result"
   ]
  },
  {
   "cell_type": "code",
   "execution_count": 3,
   "id": "ee546dc3",
   "metadata": {},
   "outputs": [],
   "source": [
    "def list_comprehension():\n",
    "    return [i for i in range(1000000)]"
   ]
  },
  {
   "cell_type": "code",
   "execution_count": 4,
   "id": "4c6ea3ad",
   "metadata": {},
   "outputs": [],
   "source": [
    "time1 = timeit(for_loop, number = 1000)\n",
    "time2 = timeit(list_comprehension, number = 1000)"
   ]
  },
  {
   "cell_type": "code",
   "execution_count": 5,
   "id": "c9ed60c0",
   "metadata": {},
   "outputs": [
    {
     "name": "stdout",
     "output_type": "stream",
     "text": [
      "List Comprehension is 1.38 times faster than for_loop\n"
     ]
    }
   ],
   "source": [
    "print(f\"List Comprehension is {round(time1/time2, 2)} times faster than for_loop\")"
   ]
  },
  {
   "cell_type": "code",
   "execution_count": null,
   "id": "ff5d1efe",
   "metadata": {},
   "outputs": [],
   "source": []
  },
  {
   "cell_type": "code",
   "execution_count": 1,
   "id": "46118477",
   "metadata": {},
   "outputs": [],
   "source": [
    "import smtplib"
   ]
  },
  {
   "cell_type": "code",
   "execution_count": 2,
   "id": "835162ac",
   "metadata": {},
   "outputs": [],
   "source": [
    "server = smtplib.SMTP(\"smtp.gmail.com\", 587)   # gmail hesabımızın bağlı olduğu servera girdik. "
   ]
  },
  {
   "cell_type": "code",
   "execution_count": 3,
   "id": "7e7f784d",
   "metadata": {},
   "outputs": [],
   "source": [
    "my_pass = \"hespider90\""
   ]
  },
  {
   "cell_type": "code",
   "execution_count": 4,
   "id": "a81287dd",
   "metadata": {},
   "outputs": [
    {
     "data": {
      "text/plain": [
       "(220, b'2.0.0 Ready to start TLS')"
      ]
     },
     "execution_count": 4,
     "metadata": {},
     "output_type": "execute_result"
    }
   ],
   "source": [
    "server.starttls()"
   ]
  },
  {
   "cell_type": "code",
   "execution_count": 6,
   "id": "093b10b8",
   "metadata": {},
   "outputs": [
    {
     "data": {
      "text/plain": [
       "(235, b'2.7.0 Accepted')"
      ]
     },
     "execution_count": 6,
     "metadata": {},
     "output_type": "execute_result"
    }
   ],
   "source": [
    "server.login(\"hemanspiderman90@gmail.com\", my_pass) # bunun ile kendi hesabımızın serverine login olduk.\n",
    "\n",
    "# log in olurken hata verirse https://support.google.com/accounts/answer/6010255#zippy=%2Cif-less-secure-app-access-is-on-for-your-account\n",
    "# linkinden güvenliği azaltmalıyız."
   ]
  },
  {
   "cell_type": "code",
   "execution_count": 7,
   "id": "5a7173cc",
   "metadata": {},
   "outputs": [],
   "source": [
    "message = \"\\n This is my test mail to distinguished trainee.\\n Have a good day.\" # göndereceğimiz mesajı yazdık."
   ]
  },
  {
   "cell_type": "code",
   "execution_count": 8,
   "id": "e333669a",
   "metadata": {},
   "outputs": [],
   "source": [
    "address = [\"hemanspiderman90@gmail.com\"]  # göndereceğimiz adresleri girdik. Birden fazla adres girebiliriz."
   ]
  },
  {
   "cell_type": "code",
   "execution_count": 9,
   "id": "92c403bd",
   "metadata": {},
   "outputs": [
    {
     "data": {
      "text/plain": [
       "{}"
      ]
     },
     "execution_count": 9,
     "metadata": {},
     "output_type": "execute_result"
    }
   ],
   "source": [
    "server.sendmail(\"\", address, message) #maili gönderdik."
   ]
  },
  {
   "cell_type": "code",
   "execution_count": 10,
   "id": "82394524",
   "metadata": {},
   "outputs": [
    {
     "data": {
      "text/plain": [
       "(221, b'2.0.0 closing connection t10sm10046276edv.1 - gsmtp')"
      ]
     },
     "execution_count": 10,
     "metadata": {},
     "output_type": "execute_result"
    }
   ],
   "source": [
    "server.quit()"
   ]
  },
  {
   "cell_type": "code",
   "execution_count": null,
   "id": "227531f8",
   "metadata": {},
   "outputs": [],
   "source": [
    "SMTP Provider\tURL\tSMTP Settings\n",
    "AOL\taol.com\tsmtp.aol.com\n",
    "AT&T\tatt.net\tsmtp.mail.att.net\n",
    "Comcast\tcomcast.net\tsmtp.comcast.net\n",
    "iCloud\ticloud.com/mail\tsmtp.mail.me.com\n",
    "Gmail\tgmail.com\tsmtp.gmail.com\n",
    "Outlook\toutlook.com\tsmtp-mail.outlook.com\n",
    "Yahoo\tmail.yahoo.com\tsmtp.mail.yahoo.com"
   ]
  },
  {
   "cell_type": "markdown",
   "id": "fd375e41",
   "metadata": {},
   "source": [
    "Port 587 is the default mail submission port that supports all types of SMTP data transmission. Supported by the majority of servers, this port is a popular choice for handling mail submissions. Combined with TLS encryption, \n",
    "SMTP port 587 ensures your emails are secure and delivered safely."
   ]
  },
  {
   "cell_type": "code",
   "execution_count": null,
   "id": "fe4b5296",
   "metadata": {},
   "outputs": [],
   "source": [
    "address = [\"sedatascientist@gmail.com\", \"halatsar35@gmail.com\"]"
   ]
  },
  {
   "cell_type": "code",
   "execution_count": null,
   "id": "becc8fd1",
   "metadata": {},
   "outputs": [],
   "source": [
    "server.sendmail(\"\", address, message)"
   ]
  },
  {
   "cell_type": "code",
   "execution_count": null,
   "id": "8d82505b",
   "metadata": {},
   "outputs": [],
   "source": [
    "server.quit()"
   ]
  },
  {
   "cell_type": "markdown",
   "id": "bfd1d9b0",
   "metadata": {},
   "source": [
    "\"The best IT school is Clarusway. \" google translate ile türkçeye çevireceğiz."
   ]
  },
  {
   "cell_type": "code",
   "execution_count": 12,
   "id": "37002b71",
   "metadata": {},
   "outputs": [
    {
     "name": "stdout",
     "output_type": "stream",
     "text": [
      "Collecting googletrans==4.0.0-rc1\n",
      "  Downloading googletrans-4.0.0rc1.tar.gz (20 kB)\n",
      "Requirement already satisfied: httpx==0.13.3 in c:\\users\\hp\\anaconda3\\lib\\site-packages (from googletrans==4.0.0-rc1) (0.13.3)\n",
      "Requirement already satisfied: chardet==3.* in c:\\users\\hp\\anaconda3\\lib\\site-packages (from httpx==0.13.3->googletrans==4.0.0-rc1) (3.0.4)\n",
      "Requirement already satisfied: hstspreload in c:\\users\\hp\\anaconda3\\lib\\site-packages (from httpx==0.13.3->googletrans==4.0.0-rc1) (2021.8.1)\n",
      "Requirement already satisfied: rfc3986<2,>=1.3 in c:\\users\\hp\\anaconda3\\lib\\site-packages (from httpx==0.13.3->googletrans==4.0.0-rc1) (1.5.0)\n",
      "Requirement already satisfied: sniffio in c:\\users\\hp\\anaconda3\\lib\\site-packages (from httpx==0.13.3->googletrans==4.0.0-rc1) (1.2.0)\n",
      "Requirement already satisfied: idna==2.* in c:\\users\\hp\\anaconda3\\lib\\site-packages (from httpx==0.13.3->googletrans==4.0.0-rc1) (2.10)\n",
      "Requirement already satisfied: certifi in c:\\users\\hp\\anaconda3\\lib\\site-packages (from httpx==0.13.3->googletrans==4.0.0-rc1) (2020.12.5)\n",
      "Requirement already satisfied: httpcore==0.9.* in c:\\users\\hp\\anaconda3\\lib\\site-packages (from httpx==0.13.3->googletrans==4.0.0-rc1) (0.9.1)\n",
      "Requirement already satisfied: h2==3.* in c:\\users\\hp\\anaconda3\\lib\\site-packages (from httpcore==0.9.*->httpx==0.13.3->googletrans==4.0.0-rc1) (3.2.0)\n",
      "Requirement already satisfied: h11<0.10,>=0.8 in c:\\users\\hp\\anaconda3\\lib\\site-packages (from httpcore==0.9.*->httpx==0.13.3->googletrans==4.0.0-rc1) (0.9.0)\n",
      "Requirement already satisfied: hyperframe<6,>=5.2.0 in c:\\users\\hp\\anaconda3\\lib\\site-packages (from h2==3.*->httpcore==0.9.*->httpx==0.13.3->googletrans==4.0.0-rc1) (5.2.0)\n",
      "Requirement already satisfied: hpack<4,>=3.0 in c:\\users\\hp\\anaconda3\\lib\\site-packages (from h2==3.*->httpcore==0.9.*->httpx==0.13.3->googletrans==4.0.0-rc1) (3.0.0)\n",
      "Building wheels for collected packages: googletrans\n",
      "  Building wheel for googletrans (setup.py): started\n",
      "  Building wheel for googletrans (setup.py): finished with status 'done'\n",
      "  Created wheel for googletrans: filename=googletrans-4.0.0rc1-py3-none-any.whl size=17415 sha256=0e47b931b6aa841a1a7d7b0e367012468c294d34650d249dbfc4a39213f43857\n",
      "  Stored in directory: c:\\users\\hp\\appdata\\local\\pip\\cache\\wheels\\a9\\25\\af\\715361fa79594524c89c75d293def652045f3fdce6ca398712\n",
      "Successfully built googletrans\n",
      "Installing collected packages: googletrans\n",
      "  Attempting uninstall: googletrans\n",
      "    Found existing installation: googletrans 3.0.0\n",
      "    Uninstalling googletrans-3.0.0:\n",
      "      Successfully uninstalled googletrans-3.0.0\n",
      "Successfully installed googletrans-4.0.0rc1\n",
      "Note: you may need to restart the kernel to use updated packages.\n"
     ]
    }
   ],
   "source": [
    "pip install googletrans==4.0.0-rc1"
   ]
  },
  {
   "cell_type": "code",
   "execution_count": 1,
   "id": "4dec889e",
   "metadata": {},
   "outputs": [],
   "source": [
    "from googletrans import Translator\n",
    "translator = Translator()"
   ]
  },
  {
   "cell_type": "code",
   "execution_count": 4,
   "id": "3cee9655",
   "metadata": {},
   "outputs": [],
   "source": [
    "text1 = translator.translate(\"Clarusway is the best course.\", dest=\"tr\")"
   ]
  },
  {
   "cell_type": "code",
   "execution_count": 5,
   "id": "1358ac76",
   "metadata": {},
   "outputs": [
    {
     "data": {
      "text/plain": [
       "'Clarusway en iyi kurs.'"
      ]
     },
     "execution_count": 5,
     "metadata": {},
     "output_type": "execute_result"
    }
   ],
   "source": [
    "text1.text"
   ]
  },
  {
   "cell_type": "code",
   "execution_count": null,
   "id": "6ba17031",
   "metadata": {},
   "outputs": [],
   "source": []
  },
  {
   "cell_type": "code",
   "execution_count": 1,
   "id": "6997ac37",
   "metadata": {},
   "outputs": [],
   "source": [
    "import googletrans"
   ]
  },
  {
   "cell_type": "code",
   "execution_count": 2,
   "id": "e07dbcc2",
   "metadata": {},
   "outputs": [],
   "source": [
    "from googletrans import Translator"
   ]
  },
  {
   "cell_type": "code",
   "execution_count": 3,
   "id": "899c130d",
   "metadata": {},
   "outputs": [],
   "source": [
    "translator = Translator()"
   ]
  },
  {
   "cell_type": "code",
   "execution_count": 12,
   "id": "a0008ba6",
   "metadata": {},
   "outputs": [],
   "source": [
    "translation = translator.translate(\"non che male cosi cosi\",dest=\"tr\")"
   ]
  },
  {
   "cell_type": "code",
   "execution_count": 13,
   "id": "65be9f6a",
   "metadata": {},
   "outputs": [
    {
     "name": "stdout",
     "output_type": "stream",
     "text": [
      "non che male cosi cosi (it) --> o kadar kötü değil (tr)\n"
     ]
    }
   ],
   "source": [
    "print(f\"{translation.origin} ({translation.src}) --> {translation.text} ({translation.dest})\")"
   ]
  },
  {
   "cell_type": "code",
   "execution_count": null,
   "id": "5e98edf4",
   "metadata": {},
   "outputs": [],
   "source": []
  },
  {
   "cell_type": "code",
   "execution_count": 8,
   "id": "fe103ccc",
   "metadata": {},
   "outputs": [
    {
     "name": "stdout",
     "output_type": "stream",
     "text": [
      "Requirement already satisfied: textblob in c:\\users\\hp\\anaconda3\\lib\\site-packages (0.15.3)\n",
      "Requirement already satisfied: nltk>=3.1 in c:\\users\\hp\\anaconda3\\lib\\site-packages (from textblob) (3.6.1)\n",
      "Requirement already satisfied: joblib in c:\\users\\hp\\anaconda3\\lib\\site-packages (from nltk>=3.1->textblob) (1.0.1)\n",
      "Requirement already satisfied: regex in c:\\users\\hp\\anaconda3\\lib\\site-packages (from nltk>=3.1->textblob) (2021.4.4)\n",
      "Requirement already satisfied: click in c:\\users\\hp\\anaconda3\\lib\\site-packages (from nltk>=3.1->textblob) (7.1.2)\n",
      "Requirement already satisfied: tqdm in c:\\users\\hp\\anaconda3\\lib\\site-packages (from nltk>=3.1->textblob) (4.59.0)\n",
      "Note: you may need to restart the kernel to use updated packages.\n"
     ]
    }
   ],
   "source": [
    "pip install textblob"
   ]
  },
  {
   "cell_type": "code",
   "execution_count": 6,
   "id": "ef77d551",
   "metadata": {},
   "outputs": [],
   "source": [
    "from textblob import TextBlob"
   ]
  },
  {
   "cell_type": "code",
   "execution_count": 7,
   "id": "8480824c",
   "metadata": {},
   "outputs": [],
   "source": [
    "yazi = \"data science is one of the best paid professions \""
   ]
  },
  {
   "cell_type": "code",
   "execution_count": 8,
   "id": "f0e2c385",
   "metadata": {},
   "outputs": [],
   "source": [
    "blob = TextBlob(yazi)"
   ]
  },
  {
   "cell_type": "code",
   "execution_count": 9,
   "id": "42d25460",
   "metadata": {},
   "outputs": [
    {
     "data": {
      "text/plain": [
       "TextBlob(\"veri bilimi en iyi ücretli mesleklerden biridir\")"
      ]
     },
     "execution_count": 9,
     "metadata": {},
     "output_type": "execute_result"
    }
   ],
   "source": [
    "blob_tr = blob.translate(to='tr')\n",
    "\n",
    "blob_tr"
   ]
  },
  {
   "cell_type": "code",
   "execution_count": 10,
   "id": "2199a2c5",
   "metadata": {},
   "outputs": [
    {
     "data": {
      "text/plain": [
       "TextBlob(\"znanost o podacima jedno je od najbolje plaćenih zanimanja\")"
      ]
     },
     "execution_count": 10,
     "metadata": {},
     "output_type": "execute_result"
    }
   ],
   "source": [
    "blob_Hirvat = blob.translate(to='hr')\n",
    "\n",
    "blob_Hirvat"
   ]
  },
  {
   "cell_type": "code",
   "execution_count": 11,
   "id": "adb276b5",
   "metadata": {},
   "outputs": [
    {
     "data": {
      "text/plain": [
       "TextBlob(\"डेटा साइंस सबसे अच्छे भुगतान वाले व्यवसायों में से एक है\")"
      ]
     },
     "execution_count": 11,
     "metadata": {},
     "output_type": "execute_result"
    }
   ],
   "source": [
    "blob_Hind = blob.translate(to='hi')\n",
    "\n",
    "blob_Hind"
   ]
  },
  {
   "cell_type": "code",
   "execution_count": 12,
   "id": "d6a19365",
   "metadata": {},
   "outputs": [
    {
     "data": {
      "text/plain": [
       "TextBlob(\"наука о данных - одна из самых высокооплачиваемых профессий\")"
      ]
     },
     "execution_count": 12,
     "metadata": {},
     "output_type": "execute_result"
    }
   ],
   "source": [
    "blob_Ru = blob.translate(to='ru')\n",
    "\n",
    "blob_Ru"
   ]
  },
  {
   "cell_type": "code",
   "execution_count": null,
   "id": "9036fd6b",
   "metadata": {},
   "outputs": [],
   "source": []
  },
  {
   "cell_type": "code",
   "execution_count": 16,
   "id": "b1232e36",
   "metadata": {},
   "outputs": [
    {
     "name": "stdout",
     "output_type": "stream",
     "text": [
      "USA1\n",
      "USA2\n",
      "USA3\n",
      "Japan1\n",
      "Japan2\n",
      "Japan3\n",
      "Spain1\n",
      "Spain2\n",
      "Spain3\n"
     ]
    }
   ],
   "source": [
    "x = [\"1\", \"2\", \"3\"]\n",
    "y = [\"USA\", \"Japan\", \"Spain\"]\n",
    "\n",
    "for i in y:\n",
    "\tfor j in x:\n",
    "\t\tprint(i+j)"
   ]
  },
  {
   "cell_type": "code",
   "execution_count": 17,
   "id": "a4f80f6b",
   "metadata": {},
   "outputs": [
    {
     "data": {
      "text/plain": [
       "['USA1',\n",
       " 'USA2',\n",
       " 'USA3',\n",
       " 'Japan1',\n",
       " 'Japan2',\n",
       " 'Japan3',\n",
       " 'Spain1',\n",
       " 'Spain2',\n",
       " 'Spain3']"
      ]
     },
     "execution_count": 17,
     "metadata": {},
     "output_type": "execute_result"
    }
   ],
   "source": [
    "[i+j for i in y for j in x]"
   ]
  },
  {
   "cell_type": "code",
   "execution_count": null,
   "id": "a7085d1a",
   "metadata": {},
   "outputs": [],
   "source": []
  }
 ],
 "metadata": {
  "kernelspec": {
   "display_name": "Python 3",
   "language": "python",
   "name": "python3"
  },
  "language_info": {
   "codemirror_mode": {
    "name": "ipython",
    "version": 3
   },
   "file_extension": ".py",
   "mimetype": "text/x-python",
   "name": "python",
   "nbconvert_exporter": "python",
   "pygments_lexer": "ipython3",
   "version": "3.8.8"
  }
 },
 "nbformat": 4,
 "nbformat_minor": 5
}
