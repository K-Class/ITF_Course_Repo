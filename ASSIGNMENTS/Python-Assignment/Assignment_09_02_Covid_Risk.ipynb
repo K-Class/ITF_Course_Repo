{
 "cells": [
  {
   "cell_type": "code",
   "execution_count": null,
   "id": "ed4b2a0e",
   "metadata": {},
   "outputs": [],
   "source": [
    "age=input(\"Are you a cigarette addice older than 75 years old?(True/False):\").title().strip()\n",
    "chronic=input(\"Do you have a sever chronic disease?(True/False):\").title().strip()\n",
    "immune=input(\"Is your immune system too week?(True/False):\").title().strip()\n",
    "risk = age or chronic or immune\n",
    "print(risk)\n",
    "if risk == \"True\" :\n",
    " print(\"You are in risky group\")\n",
    "else: \n",
    " print(\"You are not in risky group\")"
   ]
  }
 ],
 "metadata": {
  "kernelspec": {
   "display_name": "Python 3",
   "language": "python",
   "name": "python3"
  },
  "language_info": {
   "codemirror_mode": {
    "name": "ipython",
    "version": 3
   },
   "file_extension": ".py",
   "mimetype": "text/x-python",
   "name": "python",
   "nbconvert_exporter": "python",
   "pygments_lexer": "ipython3",
   "version": "3.8.10"
  }
 },
 "nbformat": 4,
 "nbformat_minor": 5
}
