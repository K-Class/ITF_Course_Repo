{
 "cells": [
  {
   "cell_type": "code",
   "execution_count": 3,
   "id": "785436e6",
   "metadata": {},
   "outputs": [
    {
     "name": "stdout",
     "output_type": "stream",
     "text": [
      "4 is maximum\n"
     ]
    }
   ],
   "source": [
    "# 1\n",
    "def printMax(a, b):\n",
    "    if a > b:\n",
    "        print(a, 'is maximum')\n",
    "    elif a == b:\n",
    "        print(a, 'is equal to', b)\n",
    "    else:\n",
    "        print(b, 'is maximum')\n",
    "printMax(3, 4)"
   ]
  },
  {
   "cell_type": "code",
   "execution_count": 4,
   "id": "c49fd0f9",
   "metadata": {},
   "outputs": [
    {
     "name": "stdout",
     "output_type": "stream",
     "text": [
      "x is 50\n",
      "Changed local x to 2\n",
      "x is now 50\n"
     ]
    }
   ],
   "source": [
    "# 2\n",
    "\n",
    "x = 50\n",
    "def func(x):\n",
    "    print('x is', x)\n",
    "    x = 2\n",
    "    print('Changed local x to', x)\n",
    "func(x)\n",
    "print('x is now', x)"
   ]
  },
  {
   "cell_type": "code",
   "execution_count": 5,
   "id": "8bec3dfb",
   "metadata": {},
   "outputs": [
    {
     "ename": "NameError",
     "evalue": "name 'var1' is not defined",
     "output_type": "error",
     "traceback": [
      "\u001b[1;31m---------------------------------------------------------------------------\u001b[0m",
      "\u001b[1;31mNameError\u001b[0m                                 Traceback (most recent call last)",
      "\u001b[1;32m<ipython-input-5-39613c754645>\u001b[0m in \u001b[0;36m<module>\u001b[1;34m\u001b[0m\n\u001b[0;32m      4\u001b[0m     \u001b[0mvar2\u001b[0m\u001b[1;33m=\u001b[0m\u001b[1;36m9\u001b[0m\u001b[1;33m\u001b[0m\u001b[1;33m\u001b[0m\u001b[0m\n\u001b[0;32m      5\u001b[0m     \u001b[0mvar1\u001b[0m\u001b[1;33m=\u001b[0m\u001b[1;36m3\u001b[0m\u001b[1;33m\u001b[0m\u001b[1;33m\u001b[0m\u001b[0m\n\u001b[1;32m----> 6\u001b[1;33m \u001b[0mprint\u001b[0m \u001b[1;33m(\u001b[0m\u001b[0mvar1\u001b[0m\u001b[1;33m,\u001b[0m \u001b[1;34m\" \"\u001b[0m\u001b[1;33m,\u001b[0m \u001b[0mvar2\u001b[0m\u001b[1;33m)\u001b[0m\u001b[1;33m\u001b[0m\u001b[1;33m\u001b[0m\u001b[0m\n\u001b[0m\u001b[0;32m      7\u001b[0m \u001b[0mfunction1\u001b[0m\u001b[1;33m(\u001b[0m\u001b[1;36m10\u001b[0m\u001b[1;33m,\u001b[0m\u001b[1;36m12\u001b[0m\u001b[1;33m)\u001b[0m\u001b[1;33m\u001b[0m\u001b[1;33m\u001b[0m\u001b[0m\n",
      "\u001b[1;31mNameError\u001b[0m: name 'var1' is not defined"
     ]
    }
   ],
   "source": [
    "# 3\n",
    "\n",
    "def function1(var1=5, var2=7):\n",
    "    var2=9\n",
    "    var1=3\n",
    "print (var1, \" \", var2)\n",
    "function1(10,12)"
   ]
  },
  {
   "cell_type": "code",
   "execution_count": null,
   "id": "269d2428",
   "metadata": {},
   "outputs": [],
   "source": [
    "4. What is called when a function is defined inside a class?\n",
    "\n",
    "A. Module\n",
    "B. Method        ##\n",
    "C. Class \n",
    "D. Another function "
   ]
  },
  {
   "cell_type": "code",
   "execution_count": null,
   "id": "ce1f29da",
   "metadata": {},
   "outputs": [],
   "source": [
    "5. What is the purpose of the “def” keyword in Python?\n",
    "\n",
    "A. It is slang that means \"the following code is really cool\"\n",
    "B. It indicates the start of a function\n",
    "C. It indicates that the following indented section of code is to be stored for later\n",
    "D. b and c are both true "
   ]
  },
  {
   "cell_type": "code",
   "execution_count": null,
   "id": "aa604b87",
   "metadata": {},
   "outputs": [],
   "source": [
    "6. Which of the following is not a software development life cycle model?\n",
    "\n",
    "A. Agile model\n",
    "B. RAD model\n",
    "C. Waterfall model\n",
    "D. Sequential model"
   ]
  },
  {
   "cell_type": "code",
   "execution_count": null,
   "id": "36e9e730",
   "metadata": {},
   "outputs": [],
   "source": [
    "7. Which of the following is delivered at the end of the Sprint?\n",
    "\n",
    "A. A document containing test cases for the current sprint\n",
    "B. An architectural design of the solution\n",
    "C. An increment of Done software\n",
    "D. Wireframes designs for User Interface "
   ]
  },
  {
   "cell_type": "code",
   "execution_count": null,
   "id": "a2a17419",
   "metadata": {},
   "outputs": [],
   "source": [
    "8. When is a Sprint Retrospective ceremony performed?\n",
    "\n",
    "A. Whenever the team suggests\n",
    "B. At the end of each Sprint\n",
    "C. Whenever the Product Owner suggests\n",
    "D. Whenever the Scrum Master suggests "
   ]
  },
  {
   "cell_type": "code",
   "execution_count": null,
   "id": "92f2088f",
   "metadata": {},
   "outputs": [],
   "source": [
    "9. Who is responsible to measure the Project’s performance?\n",
    "\n",
    "A. The Scrum Master\n",
    "B. The Product Owner\n",
    "C. The Scrum Team\n",
    "D. The Development Team "
   ]
  },
  {
   "cell_type": "code",
   "execution_count": null,
   "id": "554a5654",
   "metadata": {},
   "outputs": [],
   "source": [
    "10. Which one is not one of the main responsibilities of a Scrum Master?\n",
    "\n",
    "A. Facilitating meeting as and when requested\n",
    "B. Consulting the Development Team and Product Owner\n",
    "C. Bridging the Gap between the Team and the Customer\n",
    "D. Removing Impediments \n"
   ]
  },
  {
   "cell_type": "code",
   "execution_count": null,
   "id": "17f8d278",
   "metadata": {},
   "outputs": [],
   "source": [
    "11. Who is Reported IN JIRA?\n",
    "\n",
    "A. Person who has to solve the issue\n",
    "B. Person who can generate reports\n",
    "C. Person who can view the issue\n",
    "D. Person who raise the issue "
   ]
  },
  {
   "cell_type": "code",
   "execution_count": null,
   "id": "026f491e",
   "metadata": {},
   "outputs": [],
   "source": [
    "12. What action to be done on issue assigned to you after fixing?\n",
    "\n",
    "A. Close\n",
    "B. Link\n",
    "C. Resolve\n",
    "D. Move "
   ]
  },
  {
   "cell_type": "code",
   "execution_count": null,
   "id": "5ee3c256",
   "metadata": {},
   "outputs": [],
   "source": [
    "13. Who can create issue in JIRA?\n",
    "\n",
    "A. User\n",
    "B. Project Admin\n",
    "C. Developer\n",
    "D. All of Above "
   ]
  },
  {
   "cell_type": "code",
   "execution_count": null,
   "id": "a2fa251c",
   "metadata": {},
   "outputs": [],
   "source": [
    "14. Issue with this priority must be fixed first?\n",
    "\n",
    "A. Major\n",
    "B. Critical\n",
    "C. Blocker\n",
    "D. Trivial "
   ]
  },
  {
   "cell_type": "code",
   "execution_count": null,
   "id": "8026b52e",
   "metadata": {},
   "outputs": [],
   "source": [
    "15. Which of the following in not an issue type?\n",
    "\n",
    "A. Epic\n",
    "B. Minor\n",
    "C. Sub-task\n",
    "D. Story \n"
   ]
  },
  {
   "cell_type": "code",
   "execution_count": null,
   "id": "cb2977b3",
   "metadata": {},
   "outputs": [],
   "source": [
    "Interview Questions 15m\n",
    "\n",
    "1. What is Kanban?\n",
    "2. What is SQL and What is a Database?\n",
    "3. What do you mean by a table and a field in SQL"
   ]
  },
  {
   "cell_type": "code",
   "execution_count": null,
   "id": "81e778cc",
   "metadata": {},
   "outputs": [],
   "source": [
    "Video of the Week 20m\n",
    "\n",
    "Scrum vs Canban  https://www.youtube.com/watch?v=rIaz-l1Kf8w\n",
    "What is SQL?     https://www.youtube.com/watch?v=27axs9dO7AE"
   ]
  }
 ],
 "metadata": {
  "kernelspec": {
   "display_name": "Python 3",
   "language": "python",
   "name": "python3"
  },
  "language_info": {
   "codemirror_mode": {
    "name": "ipython",
    "version": 3
   },
   "file_extension": ".py",
   "mimetype": "text/x-python",
   "name": "python",
   "nbconvert_exporter": "python",
   "pygments_lexer": "ipython3",
   "version": "3.8.10"
  }
 },
 "nbformat": 4,
 "nbformat_minor": 5
}
